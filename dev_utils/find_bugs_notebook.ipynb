{
 "cells": [
  {
   "cell_type": "code",
   "execution_count": 1,
   "metadata": {},
   "outputs": [],
   "source": [
    "%load_ext autoreload\n",
    "%autoreload 2"
   ]
  },
  {
   "cell_type": "code",
   "execution_count": 2,
   "metadata": {},
   "outputs": [],
   "source": [
    "import matplotlib.pyplot as plt"
   ]
  },
  {
   "cell_type": "code",
   "execution_count": 3,
   "metadata": {},
   "outputs": [],
   "source": [
    "%matplotlib widget"
   ]
  },
  {
   "cell_type": "code",
   "execution_count": 4,
   "metadata": {},
   "outputs": [],
   "source": [
    "import pandas as pd\n",
    "from IPython.display import display\n",
    "pd.options.display.max_columns = None"
   ]
  },
  {
   "cell_type": "markdown",
   "metadata": {},
   "source": [
    "# Checking for bugs"
   ]
  },
  {
   "cell_type": "code",
   "execution_count": 5,
   "metadata": {},
   "outputs": [],
   "source": [
    "name_of_evil_file = \"20180919_FC_LFP2_cen14_01_cc_01.res\"\n",
    "datapath = \"/Users/jepe/scripting/cellpy/dev_data/bugfixing\""
   ]
  },
  {
   "cell_type": "code",
   "execution_count": 6,
   "metadata": {},
   "outputs": [
    {
     "name": "stdout",
     "output_type": "stream",
     "text": [
      "running /Users/jepe/miniconda3/envs/cellpy/lib/python3.6/site-packages/ipykernel_launcher.py\n"
     ]
    }
   ],
   "source": [
    "import os\n",
    "import sys\n",
    "import time\n",
    "from pathlib import Path\n",
    "print(f\"running {sys.argv[0]}\")\n",
    "\n",
    "import cellpy\n",
    "from cellpy import log\n",
    "from cellpy import cellreader\n",
    "from cellpy.parameters import prms\n",
    "\n",
    "prms.Reader.use_cellpy_stat_file = False\n",
    "#prms.Reader.cycle_mode = \"cathode\"\n",
    "prms.Reader.sorted_data = False\n",
    "log.setup_logging(default_level=\"INFO\", custom_log_dir=os.getcwd())\n",
    "\n",
    "filename = Path(datapath) / name_of_evil_file\n",
    "\n",
    "assert os.path.isfile(filename)"
   ]
  },
  {
   "cell_type": "code",
   "execution_count": 84,
   "metadata": {},
   "outputs": [
    {
     "name": "stdout",
     "output_type": "stream",
     "text": [
      "(cellpy) - created CellpyData instance\n",
      "(cellpy) - assuming cycling anode half-cell (discharge before charge)\n"
     ]
    },
    {
     "name": "stderr",
     "output_type": "stream",
     "text": [
      "/Users/jepe/scripting/cellpy/cellpy/readers/cellreader.py:2967: UserWarning: Cycle 11 is missing!\n",
      "  warnings.warn(f\"Cycle {j+1} is missing!\")\n",
      "/Users/jepe/scripting/cellpy/cellpy/readers/cellreader.py:2967: UserWarning: Cycle 22 is missing!\n",
      "  warnings.warn(f\"Cycle {j+1} is missing!\")\n",
      "/Users/jepe/scripting/cellpy/cellpy/readers/cellreader.py:2967: UserWarning: Cycle 33 is missing!\n",
      "  warnings.warn(f\"Cycle {j+1} is missing!\")\n",
      "/Users/jepe/scripting/cellpy/cellpy/readers/cellreader.py:2967: UserWarning: Cycle 44 is missing!\n",
      "  warnings.warn(f\"Cycle {j+1} is missing!\")\n",
      "/Users/jepe/scripting/cellpy/cellpy/readers/cellreader.py:2967: UserWarning: Cycle 55 is missing!\n",
      "  warnings.warn(f\"Cycle {j+1} is missing!\")\n",
      "/Users/jepe/scripting/cellpy/cellpy/readers/cellreader.py:2967: UserWarning: Cycle 66 is missing!\n",
      "  warnings.warn(f\"Cycle {j+1} is missing!\")\n",
      "/Users/jepe/scripting/cellpy/cellpy/readers/cellreader.py:2967: UserWarning: Cycle 77 is missing!\n",
      "  warnings.warn(f\"Cycle {j+1} is missing!\")\n",
      "/Users/jepe/scripting/cellpy/cellpy/readers/cellreader.py:2967: UserWarning: Cycle 88 is missing!\n",
      "  warnings.warn(f\"Cycle {j+1} is missing!\")\n"
     ]
    }
   ],
   "source": [
    "d = cellreader.CellpyData()\n",
    "d.from_raw(filename)\n",
    "d.set_mass(0.12)\n",
    "d.make_step_table()\n",
    "d.make_summary()\n",
    "\n",
    "# checking extracting cycles\n",
    "n = d.get_number_of_cycles()\n",
    "c = d.get_cycle_numbers()"
   ]
  },
  {
   "cell_type": "code",
   "execution_count": 85,
   "metadata": {},
   "outputs": [],
   "source": [
    "\n",
    "current = d.dataset.dfdata\n",
    "steps = d.dataset.step_table"
   ]
  },
  {
   "cell_type": "code",
   "execution_count": 86,
   "metadata": {},
   "outputs": [],
   "source": [
    "plt.close()"
   ]
  },
  {
   "cell_type": "code",
   "execution_count": 91,
   "metadata": {},
   "outputs": [
    {
     "data": {
      "text/plain": [
       "6740.8055959583335"
      ]
     },
     "execution_count": 91,
     "metadata": {},
     "output_type": "execute_result"
    }
   ],
   "source": [
    "ch.iloc[-1]"
   ]
  },
  {
   "cell_type": "code",
   "execution_count": 98,
   "metadata": {},
   "outputs": [
    {
     "name": "stderr",
     "output_type": "stream",
     "text": [
      "/Users/jepe/miniconda3/envs/cellpy/lib/python3.6/site-packages/matplotlib/pyplot.py:537: RuntimeWarning: More than 20 figures have been opened. Figures created through the pyplot interface (`matplotlib.pyplot.figure`) are retained until explicitly closed and may consume too much memory. (To control this warning, see the rcParam `figure.max_open_warning`).\n",
      "  max_open_warning, RuntimeWarning)\n",
      "/Users/jepe/miniconda3/envs/cellpy/lib/python3.6/site-packages/ipywidgets/widgets/widget.py:411: DeprecationWarning: Passing unrecoginized arguments to super(FigureCanvasNbAgg).__init__().\n",
      "__init__() missing 1 required positional argument: 'figure'\n",
      "This is deprecated in traitlets 4.2.This error will be raised in a future release of traitlets.\n",
      "  super(Widget, self).__init__(**kwargs)\n"
     ]
    },
    {
     "data": {
      "application/vnd.jupyter.widget-view+json": {
       "model_id": "cb02edf6113f4a27b8b4ad9fb5eda0cd",
       "version_major": 2,
       "version_minor": 0
      },
      "text/plain": [
       "FigureCanvasNbAgg()"
      ]
     },
     "metadata": {},
     "output_type": "display_data"
    },
    {
     "name": "stdout",
     "output_type": "stream",
     "text": [
      "1.2.3.4.5.6.7.8.9.10.12.13.14.15.16.17.18.19.20.21.23.24.25.26.27.28.29.30.31.32.34.35.36.37.38.39.40.41.42.43.45.46.47.48.49.50.51.52.53.54.56.57.58.59.60.61.62.63.64.65.67.68.69.70.71.72.73.74.75.76.78.79.80.81.82.83.84.85.86.87.89.90.91.92.93.94.95.96.97.98."
     ]
    }
   ],
   "source": [
    "fig, ax = plt.subplots()\n",
    "for cycle in c:\n",
    "    print(f\"{cycle}\", end=\".\")\n",
    "    ch, volt_ch = d.get_ccap(cycle=cycle)\n",
    "    dc, volt_dc = d.get_dcap(cycle=cycle)\n",
    "    last_point = ch.iloc[-1]\n",
    "    v = pd.concat([volt_ch, volt_dc])\n",
    "    cap = pd.concat([ch, last_point-dc])\n",
    "    \n",
    "    ax.plot(cap, v)\n",
    "\n",
    "   "
   ]
  },
  {
   "cell_type": "code",
   "execution_count": 37,
   "metadata": {},
   "outputs": [],
   "source": [
    "def extract_dqdv(cell_data, extract=\"charge\", last_cycle=None):\n",
    "    \"\"\"Simple wrapper around the cellpy.utils.ica.dqdv function.\"\"\"\n",
    "\n",
    "    from cellpy.utils.ica import dqdv\n",
    "    list_of_cycles = cell_data.get_cycle_numbers()\n",
    "    if last_cycle is not None:\n",
    "        list_of_cycles = [c for c in list_of_cycles if c <= int(last_cycle)]\n",
    "        lprint(f\"only processing up to cycle {last_cycle}\")\n",
    "        lprint(f\"you have {len(list_of_cycles)} cycles to process\")\n",
    "    out_data = []\n",
    "    for cycle in list_of_cycles:\n",
    "        if extract==\"charge\":\n",
    "            c, v = cell_data.get_ccap(cycle)\n",
    "        else:\n",
    "            c, v = cell_data.get_dcap(cycle)\n",
    "        if v.any():\n",
    "            try:\n",
    "                v, dq = dqdv(v, c)\n",
    "                v = v.tolist()\n",
    "                dq = dq.tolist()\n",
    "            except IndexError or OverflowError as e:\n",
    "                v = list()\n",
    "                dq = list()\n",
    "                print(\" -could not process this (cycle %i)\" % cycle)\n",
    "                print(\" %s\" % e)\n",
    "\n",
    "            header_x = \"dQ cycle_no %i\" % cycle\n",
    "            header_y = \"voltage cycle_no %i\" % cycle\n",
    "            dq.insert(0, header_x)\n",
    "            v.insert(0, header_y)\n",
    "\n",
    "            out_data.append(v)\n",
    "            out_data.append(dq)\n",
    "        else:\n",
    "            print(f\"Empty step encountered for cycle={cycle}\")\n",
    "    return out_data"
   ]
  },
  {
   "cell_type": "code",
   "execution_count": 38,
   "metadata": {},
   "outputs": [
    {
     "name": "stderr",
     "output_type": "stream",
     "text": [
      "/Users/jepe/miniconda3/envs/cellpy/lib/python3.6/site-packages/scipy/signal/_arraytools.py:45: FutureWarning: Using a non-tuple sequence for multidimensional indexing is deprecated; use `arr[tuple(seq)]` instead of `arr[seq]`. In the future this will be interpreted as an array index, `arr[np.array(seq)]`, which will result either in an error or a different result.\n",
      "  b = a[a_slice]\n"
     ]
    }
   ],
   "source": [
    "o1 = extract_dqdv(d, \"discharge\")\n",
    "o2 = extract_dqdv(d, \"charge\")"
   ]
  },
  {
   "cell_type": "code",
   "execution_count": 70,
   "metadata": {},
   "outputs": [],
   "source": [
    "import warnings\n",
    "warnings.filterwarnings(\"default\")"
   ]
  },
  {
   "cell_type": "code",
   "execution_count": 71,
   "metadata": {},
   "outputs": [
    {
     "name": "stderr",
     "output_type": "stream",
     "text": [
      "/Users/jepe/miniconda3/envs/cellpy/lib/python3.6/site-packages/scipy/signal/_arraytools.py:45: FutureWarning: Using a non-tuple sequence for multidimensional indexing is deprecated; use `arr[tuple(seq)]` instead of `arr[seq]`. In the future this will be interpreted as an array index, `arr[np.array(seq)]`, which will result either in an error or a different result.\n",
      "  b = a[a_slice]\n"
     ]
    }
   ],
   "source": [
    "\n",
    "from cellpy.utils.ica import dqdv\n",
    "c, v = d.get_ccap(2)\n",
    "v2, dq = dqdv(v, c)"
   ]
  },
  {
   "cell_type": "code",
   "execution_count": 75,
   "metadata": {},
   "outputs": [
    {
     "name": "stderr",
     "output_type": "stream",
     "text": [
      "/Users/jepe/miniconda3/envs/cellpy/lib/python3.6/site-packages/ipywidgets/widgets/widget.py:411: DeprecationWarning: Passing unrecoginized arguments to super(FigureCanvasNbAgg).__init__().\n",
      "__init__() missing 1 required positional argument: 'figure'\n",
      "This is deprecated in traitlets 4.2.This error will be raised in a future release of traitlets.\n",
      "  super(Widget, self).__init__(**kwargs)\n"
     ]
    },
    {
     "data": {
      "application/vnd.jupyter.widget-view+json": {
       "model_id": "fd3dd15e00d54769a9be26f79f045368",
       "version_major": 2,
       "version_minor": 0
      },
      "text/plain": [
       "FigureCanvasNbAgg()"
      ]
     },
     "metadata": {},
     "output_type": "display_data"
    },
    {
     "data": {
      "text/plain": [
       "Text(0.5,0,'voltage')"
      ]
     },
     "execution_count": 75,
     "metadata": {},
     "output_type": "execute_result"
    }
   ],
   "source": [
    "fig2, (ax1, ax2) = plt.subplots(nrows=2, sharex=True)\n",
    "ax1.plot(v2, dq)\n",
    "ax2.plot(v, c)\n",
    "ax1.set_ylabel(\"dqdv\")\n",
    "ax2.set_ylabel(\"cap\")\n",
    "ax2.set_xlabel(\"voltage\")"
   ]
  },
  {
   "cell_type": "code",
   "execution_count": 60,
   "metadata": {},
   "outputs": [
    {
     "name": "stderr",
     "output_type": "stream",
     "text": [
      "/Users/jepe/miniconda3/envs/cellpy/lib/python3.6/site-packages/scipy/signal/_arraytools.py:45: FutureWarning: Using a non-tuple sequence for multidimensional indexing is deprecated; use `arr[tuple(seq)]` instead of `arr[seq]`. In the future this will be interpreted as an array index, `arr[np.array(seq)]`, which will result either in an error or a different result.\n",
      "  b = a[a_slice]\n"
     ]
    }
   ],
   "source": [
    "dc, v3 = d.get_dcap(2)\n",
    "v4, dq2 = dqdv(v3, dc)"
   ]
  },
  {
   "cell_type": "code",
   "execution_count": 77,
   "metadata": {},
   "outputs": [
    {
     "name": "stderr",
     "output_type": "stream",
     "text": [
      "/Users/jepe/miniconda3/envs/cellpy/lib/python3.6/site-packages/matplotlib/pyplot.py:537: RuntimeWarning: More than 20 figures have been opened. Figures created through the pyplot interface (`matplotlib.pyplot.figure`) are retained until explicitly closed and may consume too much memory. (To control this warning, see the rcParam `figure.max_open_warning`).\n",
      "  max_open_warning, RuntimeWarning)\n",
      "/Users/jepe/miniconda3/envs/cellpy/lib/python3.6/site-packages/ipywidgets/widgets/widget.py:411: DeprecationWarning: Passing unrecoginized arguments to super(FigureCanvasNbAgg).__init__().\n",
      "__init__() missing 1 required positional argument: 'figure'\n",
      "This is deprecated in traitlets 4.2.This error will be raised in a future release of traitlets.\n",
      "  super(Widget, self).__init__(**kwargs)\n"
     ]
    },
    {
     "data": {
      "application/vnd.jupyter.widget-view+json": {
       "model_id": "ea1322eb9d534455aa7928fd1e043fe3",
       "version_major": 2,
       "version_minor": 0
      },
      "text/plain": [
       "FigureCanvasNbAgg()"
      ]
     },
     "metadata": {},
     "output_type": "display_data"
    },
    {
     "data": {
      "text/plain": [
       "Text(0.5,0,'voltage')"
      ]
     },
     "execution_count": 77,
     "metadata": {},
     "output_type": "execute_result"
    }
   ],
   "source": [
    "fig3, (ax3, ax4) = plt.subplots(nrows=2, sharex=True)\n",
    "ax3.plot(v4, dq2)\n",
    "ax4.plot(v3, dc)\n",
    "ax3.set_ylabel(\"dqdv\")\n",
    "ax4.set_ylabel(\"cap\")\n",
    "ax4.set_xlabel(\"voltage\")"
   ]
  },
  {
   "cell_type": "code",
   "execution_count": 69,
   "metadata": {},
   "outputs": [
    {
     "name": "stdout",
     "output_type": "stream",
     "text": [
      "NOTE! get_ccap returns <class 'pandas.core.series.Series'> while dqdv returns <class 'numpy.ndarray'>\n",
      "NOTE! also important to note that numpy issues a deprecation warning when running the scipy savgol_filter\n"
     ]
    }
   ],
   "source": [
    "print(f\"NOTE! get_ccap returns {type(v)} while dqdv returns {type(v2)}\")\n",
    "print(\"NOTE! also important to note that numpy issues a deprecation warning when running\",\n",
    "      \"the scipy savgol_filter\")"
   ]
  },
  {
   "cell_type": "markdown",
   "metadata": {},
   "source": [
    "# SUMMARY\n",
    "The dqdv routine should be improved in the future\n",
    "- if possible, it should return a dataframe\n",
    "- if possible, it should be an option to return a dataframe in tidy format with all cycles\n",
    "- if possible, it should be an option to return a xyyyyyy...y frame (interpolated)"
   ]
  },
  {
   "cell_type": "code",
   "execution_count": null,
   "metadata": {},
   "outputs": [],
   "source": []
  }
 ],
 "metadata": {
  "kernelspec": {
   "display_name": "Python3 (cellpy)",
   "language": "python",
   "name": "cellpy"
  },
  "language_info": {
   "codemirror_mode": {
    "name": "ipython",
    "version": 3
   },
   "file_extension": ".py",
   "mimetype": "text/x-python",
   "name": "python",
   "nbconvert_exporter": "python",
   "pygments_lexer": "ipython3",
   "version": "3.6.5"
  }
 },
 "nbformat": 4,
 "nbformat_minor": 2
}
