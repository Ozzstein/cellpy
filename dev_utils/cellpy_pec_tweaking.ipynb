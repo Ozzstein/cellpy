{
 "cells": [
  {
   "cell_type": "markdown",
   "metadata": {},
   "source": [
    "# PEC"
   ]
  },
  {
   "cell_type": "code",
   "execution_count": 1,
   "metadata": {},
   "outputs": [],
   "source": [
    "%load_ext autoreload\n",
    "%autoreload 2"
   ]
  },
  {
   "cell_type": "code",
   "execution_count": 2,
   "metadata": {},
   "outputs": [],
   "source": [
    "from pathlib import Path\n",
    "import os\n",
    "\n",
    "import numpy as np\n",
    "import pandas as pd\n",
    "import matplotlib.pyplot as plt\n",
    "\n",
    "import cellpy"
   ]
  },
  {
   "cell_type": "code",
   "execution_count": 3,
   "metadata": {},
   "outputs": [],
   "source": [
    "raw_file_path = Path('/Users/jepe/scripting/cellpy/testdata/data') / 'pec.csv'"
   ]
  },
  {
   "cell_type": "code",
   "execution_count": 4,
   "metadata": {},
   "outputs": [
    {
     "name": "stdout",
     "output_type": "stream",
     "text": [
      "(cellpy) - Making CellpyData class and setting prms\n",
      "(cellpy) - Loading raw-file: /Users/jepe/scripting/cellpy/testdata/data/pec.csv\n"
     ]
    },
    {
     "name": "stderr",
     "output_type": "stream",
     "text": [
      "/Users/jepe/scripting/cellpy/cellpy/readers/cellreader.py:264: UserWarning: Experimental! Not ready for production!\n",
      "  warnings.warn(\"Experimental! Not ready for production!\")\n",
      "/Users/jepe/scripting/cellpy/cellpy/readers/instruments/pec.py:86: UserWarning: raw limits have not been subject for testing yet\n",
      "  warnings.warn(\"raw limits have not been subject for testing yet\")\n"
     ]
    },
    {
     "name": "stdout",
     "output_type": "stream",
     "text": [
      "(cellpy) - Setting mass\n",
      "(cellpy) - Creating step table\n",
      "(cellpy) - Creating summary data\n",
      "(cellpy) - assuming cycling in full-cell / cathode mode\n",
      "(cellpy) - could not extract low-high levels (ref cycle number does not exist)\n",
      "(cellpy) - Created CellpyData object\n"
     ]
    }
   ],
   "source": [
    "pec = cellpy.cell(instrument=\"pec_csv\", filename=raw_file_path, cycle_mode=\"cathode\", mass=50_000)"
   ]
  },
  {
   "cell_type": "code",
   "execution_count": 5,
   "metadata": {},
   "outputs": [
    {
     "name": "stdout",
     "output_type": "stream",
     "text": [
      "(cellpy) - The date is not of correct type [2019-02-22 16:21:35]\n",
      "<CellpyData>\n",
      "name: nameless\n",
      "tester: pec\n",
      "datasets: [ ->\n",
      "   (0)\n",
      "     <DataSet>\n",
      "     loaded from file\n",
      "     /Users/jepe/scripting/cellpy/testdata/data/pec.csv\n",
      "     \n",
      "     * GLOBAL\n",
      "     material:            silicon\n",
      "     mass (active):       50000\n",
      "     test ID:             None\n",
      "     mass (total):        1.0\n",
      "     nominal capacity:    3579\n",
      "     channel index:       None\n",
      "     DataSet name:        None\n",
      "     creator:             None\n",
      "     schedule file name:  None\n",
      "     start-date:         2019-02-22 16:21:35\n",
      "     \n",
      "     * DATA:\n",
      "        Data_Point  Test_ID  Cell     Rack  Shelf  Position  Cell_ID  Step_Index  \\\n",
      "     0           0      187     1  SBT0550      1         1      NaN           0   \n",
      "     1           1      187     1  SBT0550      1         1      NaN           0   \n",
      "     2           2      187     1  SBT0550      1         1      NaN           0   \n",
      "     3           3      187     1  SBT0550      1         1      NaN           0   \n",
      "     4           4      187     1  SBT0550      1         1      NaN           0   \n",
      "     \n",
      "        Cycle_Index  Test_Time      ...        Open_Circuit_Voltage_2_V  \\\n",
      "     0            0        1.0      ...                               0   \n",
      "     1            0        5.0      ...                               0   \n",
      "     2            0       10.0      ...                               0   \n",
      "     3            0       15.0      ...                               0   \n",
      "     4            0       20.0      ...                               0   \n",
      "     \n",
      "        Internal_Resistance  Internal_Resistance_2_mOhm  Ambient_temperature_C  \\\n",
      "     0                    0                           0                  25.83   \n",
      "     1                    0                           0                  25.83   \n",
      "     2                    0                           0                  25.83   \n",
      "     3                    0                           0                  25.82   \n",
      "     4                    0                           0                  25.83   \n",
      "     \n",
      "       Cell_surface_temperature_C DC_Internal_Resistance_mOhm  \\\n",
      "     0                       24.9                         NaN   \n",
      "     1                       24.9                         NaN   \n",
      "     2                       24.9                         NaN   \n",
      "     3                       24.9                         NaN   \n",
      "     4                       24.9                         NaN   \n",
      "     \n",
      "        AC_Internal_Resistance_mOhm  Station_Temperature_C  Sub_Step_Index  \\\n",
      "     0                          NaN                    NaN               0   \n",
      "     1                          NaN                    NaN               0   \n",
      "     2                          NaN                    NaN               0   \n",
      "     3                          NaN                    NaN               0   \n",
      "     4                          NaN                    NaN               0   \n",
      "     \n",
      "        Sub_Step_Time  \n",
      "     0              0  \n",
      "     1              0  \n",
      "     2              0  \n",
      "     3              0  \n",
      "     4              0  \n",
      "     \n",
      "     [5 rows x 37 columns]\n",
      "     * SUMMARY:\n",
      "        Cycle_Index  Data_Point   Test_Time            DateTime  Charge_Capacity  \\\n",
      "     0            1       11377  225852.777 2019-02-25 07:07:39        44.424915   \n",
      "     1            2       16254  323010.183 2019-02-26 10:06:56        44.258930   \n",
      "     \n",
      "        Discharge_Capacity  Discharge_Capacity(mAh/g)  Charge_Capacity(mAh/g)  \\\n",
      "     0           44.351991                  887.03982                888.4983   \n",
      "     1            0.000000                    0.00000                885.1786   \n",
      "     \n",
      "        Cumulated_Discharge_Capacity(mAh/g)  Cumulated_Charge_Capacity(mAh/g)  \\\n",
      "     0                            887.03982                          888.4983   \n",
      "     1                            887.03982                         1773.6769   \n",
      "     \n",
      "                       ...                  \\\n",
      "     0                 ...                   \n",
      "     1                 ...                   \n",
      "     \n",
      "        Cumulated_Discharge_Capacity_Loss(mAh/g)  Charge_Capacity_Loss(mAh/g)  \\\n",
      "     0                                       NaN                          NaN   \n",
      "     1                                 887.03982                       3.3197   \n",
      "     \n",
      "        Cumulated_Charge_Capacity_Loss(mAh/g)  Low_Level(percentage)  \\\n",
      "     0                                    NaN                    NaN   \n",
      "     1                                 3.3197                    NaN   \n",
      "     \n",
      "        High_Level(percentage)  RIC(none)  RIC_SEI(none)  RIC_Disconnect(none)  \\\n",
      "     0                     NaN        NaN            NaN                   NaN   \n",
      "     1                     NaN   1.001644      -0.002098                   1.0   \n",
      "     \n",
      "        Charge_Endpoint_Slippage(mAh/g)  Discharge_Endpoint_Slippage(mAh/g)  \n",
      "     0                          1.45848                           889.95678  \n",
      "     1                        886.63708                          1771.81568  \n",
      "     \n",
      "     [2 rows x 25 columns]\n",
      "     * PARAMETERS:\n",
      "     EMPTY (Not processed yet)\n",
      "     raw units:     Currently defined in the CellpyData-object\n",
      "\n",
      "]\n",
      "\n"
     ]
    }
   ],
   "source": [
    "print(pec)"
   ]
  },
  {
   "cell_type": "code",
   "execution_count": null,
   "metadata": {},
   "outputs": [],
   "source": []
  }
 ],
 "metadata": {
  "kernelspec": {
   "display_name": "Python [conda env:cellpy]",
   "language": "python",
   "name": "conda-env-cellpy-py"
  },
  "language_info": {
   "codemirror_mode": {
    "name": "ipython",
    "version": 3
   },
   "file_extension": ".py",
   "mimetype": "text/x-python",
   "name": "python",
   "nbconvert_exporter": "python",
   "pygments_lexer": "ipython3",
   "version": "3.6.7"
  }
 },
 "nbformat": 4,
 "nbformat_minor": 2
}
