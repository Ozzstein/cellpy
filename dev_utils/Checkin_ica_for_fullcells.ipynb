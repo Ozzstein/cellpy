{
 "cells": [
  {
   "cell_type": "code",
   "execution_count": 1,
   "metadata": {},
   "outputs": [],
   "source": [
    "%load_ext autoreload\n",
    "%autoreload 2"
   ]
  },
  {
   "cell_type": "code",
   "execution_count": 2,
   "metadata": {},
   "outputs": [],
   "source": [
    "import matplotlib.pyplot as plt"
   ]
  },
  {
   "cell_type": "code",
   "execution_count": 3,
   "metadata": {},
   "outputs": [],
   "source": [
    "%matplotlib widget"
   ]
  },
  {
   "cell_type": "code",
   "execution_count": 4,
   "metadata": {},
   "outputs": [],
   "source": [
    "import pandas as pd\n",
    "from IPython.display import display\n",
    "pd.options.display.max_columns = None"
   ]
  },
  {
   "cell_type": "markdown",
   "metadata": {},
   "source": [
    "# Checking for bugs"
   ]
  },
  {
   "cell_type": "code",
   "execution_count": 5,
   "metadata": {},
   "outputs": [],
   "source": [
    "name_of_evil_file = \"20180919_FC_LFP2_cen14_01_cc_01.res\"\n",
    "datapath = \"/Users/jepe/scripting/cellpy/dev_data/bugfixing\""
   ]
  },
  {
   "cell_type": "code",
   "execution_count": 6,
   "metadata": {},
   "outputs": [
    {
     "name": "stdout",
     "output_type": "stream",
     "text": [
      "running /Users/jepe/miniconda3/envs/cellpy/lib/python3.6/site-packages/ipykernel_launcher.py\n"
     ]
    }
   ],
   "source": [
    "import os\n",
    "import sys\n",
    "import time\n",
    "from pathlib import Path\n",
    "print(f\"running {sys.argv[0]}\")\n",
    "\n",
    "import cellpy\n",
    "from cellpy import log\n",
    "from cellpy import cellreader\n",
    "from cellpy.parameters import prms\n",
    "\n",
    "prms.Reader.use_cellpy_stat_file = False\n",
    "#prms.Reader.cycle_mode = \"cathode\"\n",
    "prms.Reader.sorted_data = False\n",
    "log.setup_logging(default_level=\"INFO\", custom_log_dir=os.getcwd())\n",
    "\n",
    "filename = Path(datapath) / name_of_evil_file\n",
    "\n",
    "assert os.path.isfile(filename)"
   ]
  },
  {
   "cell_type": "code",
   "execution_count": 7,
   "metadata": {},
   "outputs": [
    {
     "name": "stdout",
     "output_type": "stream",
     "text": [
      "(cellpy) - created CellpyData instance\n",
      "(cellpy) - assuming cycling anode half-cell (discharge before charge)\n"
     ]
    },
    {
     "name": "stderr",
     "output_type": "stream",
     "text": [
      "/Users/jepe/scripting/cellpy/cellpy/readers/cellreader.py:2967: UserWarning: Cycle 11 is missing!\n",
      "  warnings.warn(f\"Cycle {j+1} is missing!\")\n",
      "/Users/jepe/scripting/cellpy/cellpy/readers/cellreader.py:2967: UserWarning: Cycle 22 is missing!\n",
      "  warnings.warn(f\"Cycle {j+1} is missing!\")\n",
      "/Users/jepe/scripting/cellpy/cellpy/readers/cellreader.py:2967: UserWarning: Cycle 33 is missing!\n",
      "  warnings.warn(f\"Cycle {j+1} is missing!\")\n",
      "/Users/jepe/scripting/cellpy/cellpy/readers/cellreader.py:2967: UserWarning: Cycle 44 is missing!\n",
      "  warnings.warn(f\"Cycle {j+1} is missing!\")\n",
      "/Users/jepe/scripting/cellpy/cellpy/readers/cellreader.py:2967: UserWarning: Cycle 55 is missing!\n",
      "  warnings.warn(f\"Cycle {j+1} is missing!\")\n",
      "/Users/jepe/scripting/cellpy/cellpy/readers/cellreader.py:2967: UserWarning: Cycle 66 is missing!\n",
      "  warnings.warn(f\"Cycle {j+1} is missing!\")\n",
      "/Users/jepe/scripting/cellpy/cellpy/readers/cellreader.py:2967: UserWarning: Cycle 77 is missing!\n",
      "  warnings.warn(f\"Cycle {j+1} is missing!\")\n",
      "/Users/jepe/scripting/cellpy/cellpy/readers/cellreader.py:2967: UserWarning: Cycle 88 is missing!\n",
      "  warnings.warn(f\"Cycle {j+1} is missing!\")\n"
     ]
    }
   ],
   "source": [
    "d = cellreader.CellpyData()\n",
    "d.from_raw(filename)\n",
    "d.set_mass(0.12)\n",
    "d.make_step_table()\n",
    "d.make_summary()\n",
    "\n",
    "# checking extracting cycles\n",
    "n = d.get_number_of_cycles()\n",
    "c = d.get_cycle_numbers()"
   ]
  },
  {
   "cell_type": "code",
   "execution_count": 8,
   "metadata": {},
   "outputs": [],
   "source": [
    "\n",
    "current = d.dataset.dfdata\n",
    "steps = d.dataset.step_table"
   ]
  },
  {
   "cell_type": "code",
   "execution_count": 27,
   "metadata": {},
   "outputs": [
    {
     "data": {
      "application/vnd.jupyter.widget-view+json": {
       "model_id": "1464d4d0d03d41a8b12563cd2179c867",
       "version_major": 2,
       "version_minor": 0
      },
      "text/plain": [
       "FigureCanvasNbAgg()"
      ]
     },
     "metadata": {},
     "output_type": "display_data"
    },
    {
     "name": "stdout",
     "output_type": "stream",
     "text": [
      "1.2.3.4.5.6.7.8.9.10.12.13.14.15.16.17.18.19.20.21.23.24.25.26.27.28.29.30.31.32.34.35.36.37.38.39.40.41.42.43.45.46.47.48.49.50.51.52.53.54.56.57.58.59.60.61.62.63.64.65.67.68.69.70.71.72.73.74.75.76.78.79.80.81.82.83.84.85.86.87.89.90.91.92.93.94.95.96.97.98."
     ]
    }
   ],
   "source": [
    "fig, ax = plt.subplots()\n",
    "for cycle in c:\n",
    "    print(f\"{cycle}\", end=\".\")\n",
    "    ch, volt_ch = d.get_ccap(cycle=cycle)\n",
    "    dc, volt_dc = d.get_dcap(cycle=cycle)\n",
    "    ax.plot(ch.values, volt_ch.values)\n",
    "    ax.plot(dc.values, volt_dc.values)\n",
    "   "
   ]
  },
  {
   "cell_type": "code",
   "execution_count": 37,
   "metadata": {},
   "outputs": [],
   "source": [
    "def extract_dqdv(cell_data, extract=\"charge\", last_cycle=None):\n",
    "    \"\"\"Simple wrapper around the cellpy.utils.ica.dqdv function.\"\"\"\n",
    "\n",
    "    from cellpy.utils.ica import dqdv\n",
    "    list_of_cycles = cell_data.get_cycle_numbers()\n",
    "    if last_cycle is not None:\n",
    "        list_of_cycles = [c for c in list_of_cycles if c <= int(last_cycle)]\n",
    "        lprint(f\"only processing up to cycle {last_cycle}\")\n",
    "        lprint(f\"you have {len(list_of_cycles)} cycles to process\")\n",
    "    out_data = []\n",
    "    for cycle in list_of_cycles:\n",
    "        if extract==\"charge\":\n",
    "            c, v = cell_data.get_ccap(cycle)\n",
    "        else:\n",
    "            c, v = cell_data.get_dcap(cycle)\n",
    "        if v.any():\n",
    "            try:\n",
    "                v, dq = dqdv(v, c)\n",
    "                v = v.tolist()\n",
    "                dq = dq.tolist()\n",
    "            except IndexError or OverflowError as e:\n",
    "                v = list()\n",
    "                dq = list()\n",
    "                print(\" -could not process this (cycle %i)\" % cycle)\n",
    "                print(\" %s\" % e)\n",
    "\n",
    "            header_x = \"dQ cycle_no %i\" % cycle\n",
    "            header_y = \"voltage cycle_no %i\" % cycle\n",
    "            dq.insert(0, header_x)\n",
    "            v.insert(0, header_y)\n",
    "\n",
    "            out_data.append(v)\n",
    "            out_data.append(dq)\n",
    "        else:\n",
    "            print(f\"Empty step encountered for cycle={cycle}\")\n",
    "    return out_data"
   ]
  },
  {
   "cell_type": "code",
   "execution_count": 38,
   "metadata": {},
   "outputs": [
    {
     "name": "stderr",
     "output_type": "stream",
     "text": [
      "/Users/jepe/miniconda3/envs/cellpy/lib/python3.6/site-packages/scipy/signal/_arraytools.py:45: FutureWarning: Using a non-tuple sequence for multidimensional indexing is deprecated; use `arr[tuple(seq)]` instead of `arr[seq]`. In the future this will be interpreted as an array index, `arr[np.array(seq)]`, which will result either in an error or a different result.\n",
      "  b = a[a_slice]\n"
     ]
    }
   ],
   "source": [
    "o1 = extract_dqdv(d, \"discharge\")\n",
    "o2 = extract_dqdv(d, \"charge\")"
   ]
  },
  {
   "cell_type": "code",
   "execution_count": 66,
   "metadata": {},
   "outputs": [],
   "source": [
    "import warnings\n",
    "warnings.filterwarnings(\"error\")"
   ]
  },
  {
   "cell_type": "code",
   "execution_count": 67,
   "metadata": {},
   "outputs": [
    {
     "ename": "FutureWarning",
     "evalue": "Using a non-tuple sequence for multidimensional indexing is deprecated; use `arr[tuple(seq)]` instead of `arr[seq]`. In the future this will be interpreted as an array index, `arr[np.array(seq)]`, which will result either in an error or a different result.",
     "output_type": "error",
     "traceback": [
      "\u001b[0;31m---------------------------------------------------------------------------\u001b[0m",
      "\u001b[0;31mFutureWarning\u001b[0m                             Traceback (most recent call last)",
      "\u001b[0;32m<ipython-input-67-69cfd46bb541>\u001b[0m in \u001b[0;36m<module>\u001b[0;34m()\u001b[0m\n\u001b[1;32m      2\u001b[0m \u001b[0;32mfrom\u001b[0m \u001b[0mcellpy\u001b[0m\u001b[0;34m.\u001b[0m\u001b[0mutils\u001b[0m\u001b[0;34m.\u001b[0m\u001b[0mica\u001b[0m \u001b[0;32mimport\u001b[0m \u001b[0mdqdv\u001b[0m\u001b[0;34m\u001b[0m\u001b[0m\n\u001b[1;32m      3\u001b[0m \u001b[0mc\u001b[0m\u001b[0;34m,\u001b[0m \u001b[0mv\u001b[0m \u001b[0;34m=\u001b[0m \u001b[0md\u001b[0m\u001b[0;34m.\u001b[0m\u001b[0mget_ccap\u001b[0m\u001b[0;34m(\u001b[0m\u001b[0;36m2\u001b[0m\u001b[0;34m)\u001b[0m\u001b[0;34m\u001b[0m\u001b[0m\n\u001b[0;32m----> 4\u001b[0;31m \u001b[0mv2\u001b[0m\u001b[0;34m,\u001b[0m \u001b[0mdq\u001b[0m \u001b[0;34m=\u001b[0m \u001b[0mdqdv\u001b[0m\u001b[0;34m(\u001b[0m\u001b[0mv\u001b[0m\u001b[0;34m,\u001b[0m \u001b[0mc\u001b[0m\u001b[0;34m)\u001b[0m\u001b[0;34m\u001b[0m\u001b[0m\n\u001b[0m",
      "\u001b[0;32m/Users/jepe/scripting/cellpy/cellpy/utils/ica.py\u001b[0m in \u001b[0;36mdqdv\u001b[0;34m(voltage, capacity)\u001b[0m\n\u001b[1;32m    258\u001b[0m     \u001b[0mconverter\u001b[0m\u001b[0;34m.\u001b[0m\u001b[0mset_data\u001b[0m\u001b[0;34m(\u001b[0m\u001b[0mcapacity\u001b[0m\u001b[0;34m,\u001b[0m \u001b[0mvoltage\u001b[0m\u001b[0;34m)\u001b[0m\u001b[0;34m\u001b[0m\u001b[0m\n\u001b[1;32m    259\u001b[0m     \u001b[0mconverter\u001b[0m\u001b[0;34m.\u001b[0m\u001b[0minspect_data\u001b[0m\u001b[0;34m(\u001b[0m\u001b[0;34m)\u001b[0m\u001b[0;34m\u001b[0m\u001b[0m\n\u001b[0;32m--> 260\u001b[0;31m     \u001b[0mconverter\u001b[0m\u001b[0;34m.\u001b[0m\u001b[0mpre_process_data\u001b[0m\u001b[0;34m(\u001b[0m\u001b[0;34m)\u001b[0m\u001b[0;34m\u001b[0m\u001b[0m\n\u001b[0m\u001b[1;32m    261\u001b[0m     \u001b[0mconverter\u001b[0m\u001b[0;34m.\u001b[0m\u001b[0mincrement_data\u001b[0m\u001b[0;34m(\u001b[0m\u001b[0;34m)\u001b[0m\u001b[0;34m\u001b[0m\u001b[0m\n\u001b[1;32m    262\u001b[0m     \u001b[0mconverter\u001b[0m\u001b[0;34m.\u001b[0m\u001b[0mpost_process_data\u001b[0m\u001b[0;34m(\u001b[0m\u001b[0;34m)\u001b[0m\u001b[0;34m\u001b[0m\u001b[0m\n",
      "\u001b[0;32m/Users/jepe/scripting/cellpy/cellpy/utils/ica.py\u001b[0m in \u001b[0;36mpre_process_data\u001b[0;34m(self)\u001b[0m\n\u001b[1;32m    167\u001b[0m             self.voltage_preprocessed = savgol_filter(self.voltage_preprocessed,\n\u001b[1;32m    168\u001b[0m                                                       \u001b[0mnp\u001b[0m\u001b[0;34m.\u001b[0m\u001b[0mamax\u001b[0m\u001b[0;34m(\u001b[0m\u001b[0;34m[\u001b[0m\u001b[0;36m3\u001b[0m\u001b[0;34m,\u001b[0m \u001b[0msavgol_filter_window_length\u001b[0m\u001b[0;34m]\u001b[0m\u001b[0;34m)\u001b[0m\u001b[0;34m,\u001b[0m\u001b[0;34m\u001b[0m\u001b[0m\n\u001b[0;32m--> 169\u001b[0;31m                                                       self.savgol_filter_window_order)\n\u001b[0m\u001b[1;32m    170\u001b[0m \u001b[0;34m\u001b[0m\u001b[0m\n\u001b[1;32m    171\u001b[0m     \u001b[0;32mdef\u001b[0m \u001b[0mincrement_data\u001b[0m\u001b[0;34m(\u001b[0m\u001b[0mself\u001b[0m\u001b[0;34m)\u001b[0m\u001b[0;34m:\u001b[0m\u001b[0;34m\u001b[0m\u001b[0m\n",
      "\u001b[0;32m/Users/jepe/miniconda3/envs/cellpy/lib/python3.6/site-packages/scipy/signal/_savitzky_golay.py\u001b[0m in \u001b[0;36msavgol_filter\u001b[0;34m(x, window_length, polyorder, deriv, delta, axis, mode, cval)\u001b[0m\n\u001b[1;32m    342\u001b[0m         \u001b[0;31m# the last `window_length` elements.\u001b[0m\u001b[0;34m\u001b[0m\u001b[0;34m\u001b[0m\u001b[0m\n\u001b[1;32m    343\u001b[0m         \u001b[0my\u001b[0m \u001b[0;34m=\u001b[0m \u001b[0mconvolve1d\u001b[0m\u001b[0;34m(\u001b[0m\u001b[0mx\u001b[0m\u001b[0;34m,\u001b[0m \u001b[0mcoeffs\u001b[0m\u001b[0;34m,\u001b[0m \u001b[0maxis\u001b[0m\u001b[0;34m=\u001b[0m\u001b[0maxis\u001b[0m\u001b[0;34m,\u001b[0m \u001b[0mmode\u001b[0m\u001b[0;34m=\u001b[0m\u001b[0;34m\"constant\"\u001b[0m\u001b[0;34m)\u001b[0m\u001b[0;34m\u001b[0m\u001b[0m\n\u001b[0;32m--> 344\u001b[0;31m         \u001b[0m_fit_edges_polyfit\u001b[0m\u001b[0;34m(\u001b[0m\u001b[0mx\u001b[0m\u001b[0;34m,\u001b[0m \u001b[0mwindow_length\u001b[0m\u001b[0;34m,\u001b[0m \u001b[0mpolyorder\u001b[0m\u001b[0;34m,\u001b[0m \u001b[0mderiv\u001b[0m\u001b[0;34m,\u001b[0m \u001b[0mdelta\u001b[0m\u001b[0;34m,\u001b[0m \u001b[0maxis\u001b[0m\u001b[0;34m,\u001b[0m \u001b[0my\u001b[0m\u001b[0;34m)\u001b[0m\u001b[0;34m\u001b[0m\u001b[0m\n\u001b[0m\u001b[1;32m    345\u001b[0m     \u001b[0;32melse\u001b[0m\u001b[0;34m:\u001b[0m\u001b[0;34m\u001b[0m\u001b[0m\n\u001b[1;32m    346\u001b[0m         \u001b[0;31m# Any mode other than 'interp' is passed on to ndimage.convolve1d.\u001b[0m\u001b[0;34m\u001b[0m\u001b[0;34m\u001b[0m\u001b[0m\n",
      "\u001b[0;32m/Users/jepe/miniconda3/envs/cellpy/lib/python3.6/site-packages/scipy/signal/_savitzky_golay.py\u001b[0m in \u001b[0;36m_fit_edges_polyfit\u001b[0;34m(x, window_length, polyorder, deriv, delta, axis, y)\u001b[0m\n\u001b[1;32m    215\u001b[0m     \u001b[0mhalflen\u001b[0m \u001b[0;34m=\u001b[0m \u001b[0mwindow_length\u001b[0m \u001b[0;34m//\u001b[0m \u001b[0;36m2\u001b[0m\u001b[0;34m\u001b[0m\u001b[0m\n\u001b[1;32m    216\u001b[0m     _fit_edge(x, 0, window_length, 0, halflen, axis,\n\u001b[0;32m--> 217\u001b[0;31m               polyorder, deriv, delta, y)\n\u001b[0m\u001b[1;32m    218\u001b[0m     \u001b[0mn\u001b[0m \u001b[0;34m=\u001b[0m \u001b[0mx\u001b[0m\u001b[0;34m.\u001b[0m\u001b[0mshape\u001b[0m\u001b[0;34m[\u001b[0m\u001b[0maxis\u001b[0m\u001b[0;34m]\u001b[0m\u001b[0;34m\u001b[0m\u001b[0m\n\u001b[1;32m    219\u001b[0m     _fit_edge(x, n - window_length, n, n - halflen, n, axis,\n",
      "\u001b[0;32m/Users/jepe/miniconda3/envs/cellpy/lib/python3.6/site-packages/scipy/signal/_savitzky_golay.py\u001b[0m in \u001b[0;36m_fit_edge\u001b[0;34m(x, window_start, window_stop, interp_start, interp_stop, axis, polyorder, deriv, delta, y)\u001b[0m\n\u001b[1;32m    173\u001b[0m \u001b[0;34m\u001b[0m\u001b[0m\n\u001b[1;32m    174\u001b[0m     \u001b[0;31m# Get the edge into a (window_length, -1) array.\u001b[0m\u001b[0;34m\u001b[0m\u001b[0;34m\u001b[0m\u001b[0m\n\u001b[0;32m--> 175\u001b[0;31m     \u001b[0mx_edge\u001b[0m \u001b[0;34m=\u001b[0m \u001b[0maxis_slice\u001b[0m\u001b[0;34m(\u001b[0m\u001b[0mx\u001b[0m\u001b[0;34m,\u001b[0m \u001b[0mstart\u001b[0m\u001b[0;34m=\u001b[0m\u001b[0mwindow_start\u001b[0m\u001b[0;34m,\u001b[0m \u001b[0mstop\u001b[0m\u001b[0;34m=\u001b[0m\u001b[0mwindow_stop\u001b[0m\u001b[0;34m,\u001b[0m \u001b[0maxis\u001b[0m\u001b[0;34m=\u001b[0m\u001b[0maxis\u001b[0m\u001b[0;34m)\u001b[0m\u001b[0;34m\u001b[0m\u001b[0m\n\u001b[0m\u001b[1;32m    176\u001b[0m     \u001b[0;32mif\u001b[0m \u001b[0maxis\u001b[0m \u001b[0;34m==\u001b[0m \u001b[0;36m0\u001b[0m \u001b[0;32mor\u001b[0m \u001b[0maxis\u001b[0m \u001b[0;34m==\u001b[0m \u001b[0;34m-\u001b[0m\u001b[0mx\u001b[0m\u001b[0;34m.\u001b[0m\u001b[0mndim\u001b[0m\u001b[0;34m:\u001b[0m\u001b[0;34m\u001b[0m\u001b[0m\n\u001b[1;32m    177\u001b[0m         \u001b[0mxx_edge\u001b[0m \u001b[0;34m=\u001b[0m \u001b[0mx_edge\u001b[0m\u001b[0;34m\u001b[0m\u001b[0m\n",
      "\u001b[0;32m/Users/jepe/miniconda3/envs/cellpy/lib/python3.6/site-packages/scipy/signal/_arraytools.py\u001b[0m in \u001b[0;36maxis_slice\u001b[0;34m(a, start, stop, step, axis)\u001b[0m\n\u001b[1;32m     43\u001b[0m     \u001b[0ma_slice\u001b[0m \u001b[0;34m=\u001b[0m \u001b[0;34m[\u001b[0m\u001b[0mslice\u001b[0m\u001b[0;34m(\u001b[0m\u001b[0;32mNone\u001b[0m\u001b[0;34m)\u001b[0m\u001b[0;34m]\u001b[0m \u001b[0;34m*\u001b[0m \u001b[0ma\u001b[0m\u001b[0;34m.\u001b[0m\u001b[0mndim\u001b[0m\u001b[0;34m\u001b[0m\u001b[0m\n\u001b[1;32m     44\u001b[0m     \u001b[0ma_slice\u001b[0m\u001b[0;34m[\u001b[0m\u001b[0maxis\u001b[0m\u001b[0;34m]\u001b[0m \u001b[0;34m=\u001b[0m \u001b[0mslice\u001b[0m\u001b[0;34m(\u001b[0m\u001b[0mstart\u001b[0m\u001b[0;34m,\u001b[0m \u001b[0mstop\u001b[0m\u001b[0;34m,\u001b[0m \u001b[0mstep\u001b[0m\u001b[0;34m)\u001b[0m\u001b[0;34m\u001b[0m\u001b[0m\n\u001b[0;32m---> 45\u001b[0;31m     \u001b[0mb\u001b[0m \u001b[0;34m=\u001b[0m \u001b[0ma\u001b[0m\u001b[0;34m[\u001b[0m\u001b[0ma_slice\u001b[0m\u001b[0;34m]\u001b[0m\u001b[0;34m\u001b[0m\u001b[0m\n\u001b[0m\u001b[1;32m     46\u001b[0m     \u001b[0;32mreturn\u001b[0m \u001b[0mb\u001b[0m\u001b[0;34m\u001b[0m\u001b[0m\n\u001b[1;32m     47\u001b[0m \u001b[0;34m\u001b[0m\u001b[0m\n",
      "\u001b[0;31mFutureWarning\u001b[0m: Using a non-tuple sequence for multidimensional indexing is deprecated; use `arr[tuple(seq)]` instead of `arr[seq]`. In the future this will be interpreted as an array index, `arr[np.array(seq)]`, which will result either in an error or a different result."
     ]
    }
   ],
   "source": [
    "\n",
    "from cellpy.utils.ica import dqdv\n",
    "c, v = d.get_ccap(2)\n",
    "v2, dq = dqdv(v, c)"
   ]
  },
  {
   "cell_type": "code",
   "execution_count": 57,
   "metadata": {},
   "outputs": [
    {
     "name": "stderr",
     "output_type": "stream",
     "text": [
      "/Users/jepe/miniconda3/envs/cellpy/lib/python3.6/site-packages/ipywidgets/widgets/widget.py:411: DeprecationWarning: Passing unrecoginized arguments to super(FigureCanvasNbAgg).__init__().\n",
      "__init__() missing 1 required positional argument: 'figure'\n",
      "This is deprecated in traitlets 4.2.This error will be raised in a future release of traitlets.\n",
      "  super(Widget, self).__init__(**kwargs)\n"
     ]
    },
    {
     "data": {
      "application/vnd.jupyter.widget-view+json": {
       "model_id": "e3c1c59bb365459da4f35fc5b2260328",
       "version_major": 2,
       "version_minor": 0
      },
      "text/plain": [
       "FigureCanvasNbAgg()"
      ]
     },
     "metadata": {},
     "output_type": "display_data"
    },
    {
     "data": {
      "text/plain": [
       "[<matplotlib.lines.Line2D at 0x1c24c277f0>]"
      ]
     },
     "execution_count": 57,
     "metadata": {},
     "output_type": "execute_result"
    }
   ],
   "source": [
    "fig2, (ax1, ax2) = plt.subplots(nrows=2, sharex=True)\n",
    "ax1.plot(v2, dq)\n",
    "ax2.plot(v, c)"
   ]
  },
  {
   "cell_type": "code",
   "execution_count": 60,
   "metadata": {},
   "outputs": [
    {
     "name": "stderr",
     "output_type": "stream",
     "text": [
      "/Users/jepe/miniconda3/envs/cellpy/lib/python3.6/site-packages/scipy/signal/_arraytools.py:45: FutureWarning: Using a non-tuple sequence for multidimensional indexing is deprecated; use `arr[tuple(seq)]` instead of `arr[seq]`. In the future this will be interpreted as an array index, `arr[np.array(seq)]`, which will result either in an error or a different result.\n",
      "  b = a[a_slice]\n"
     ]
    }
   ],
   "source": [
    "dc, v3 = d.get_dcap(2)\n",
    "v4, dq2 = dqdv(v3, dc)"
   ]
  },
  {
   "cell_type": "code",
   "execution_count": 61,
   "metadata": {},
   "outputs": [
    {
     "name": "stderr",
     "output_type": "stream",
     "text": [
      "/Users/jepe/miniconda3/envs/cellpy/lib/python3.6/site-packages/ipywidgets/widgets/widget.py:411: DeprecationWarning: Passing unrecoginized arguments to super(FigureCanvasNbAgg).__init__().\n",
      "__init__() missing 1 required positional argument: 'figure'\n",
      "This is deprecated in traitlets 4.2.This error will be raised in a future release of traitlets.\n",
      "  super(Widget, self).__init__(**kwargs)\n"
     ]
    },
    {
     "data": {
      "application/vnd.jupyter.widget-view+json": {
       "model_id": "2764f79e943844e690ebfdcf58a28ccd",
       "version_major": 2,
       "version_minor": 0
      },
      "text/plain": [
       "FigureCanvasNbAgg()"
      ]
     },
     "metadata": {},
     "output_type": "display_data"
    },
    {
     "data": {
      "text/plain": [
       "[<matplotlib.lines.Line2D at 0x1c265b0828>]"
      ]
     },
     "execution_count": 61,
     "metadata": {},
     "output_type": "execute_result"
    }
   ],
   "source": [
    "fig3, (ax3, ax4) = plt.subplots(nrows=2, sharex=True)\n",
    "ax3.plot(v4, dq2)\n",
    "ax4.plot(v3, dc)"
   ]
  },
  {
   "cell_type": "code",
   "execution_count": 69,
   "metadata": {},
   "outputs": [
    {
     "name": "stdout",
     "output_type": "stream",
     "text": [
      "NOTE! get_ccap returns <class 'pandas.core.series.Series'> while dqdv returns <class 'numpy.ndarray'>\n",
      "NOTE! also important to note that numpy issues a deprecation warning when running the scipy savgol_filter\n"
     ]
    }
   ],
   "source": [
    "print(f\"NOTE! get_ccap returns {type(v)} while dqdv returns {type(v2)}\")\n",
    "print(\"NOTE! also important to note that numpy issues a deprecation warning when running\",\n",
    "      \"the scipy savgol_filter\")"
   ]
  },
  {
   "cell_type": "markdown",
   "metadata": {},
   "source": [
    "# SUMMARY\n",
    "he dqdv routine should be improved in the future\n",
    "- if possible, it should return a dataframe\n",
    "- if possible, it should be an option to return a dataframe in tidy format with all cycles\n",
    "- if possible, it should be an option to return a xyyyyyy...y frame (interpolated)"
   ]
  },
  {
   "cell_type": "code",
   "execution_count": null,
   "metadata": {},
   "outputs": [],
   "source": []
  }
 ],
 "metadata": {
  "kernelspec": {
   "display_name": "Python3 (cellpy)",
   "language": "python",
   "name": "cellpy"
  },
  "language_info": {
   "codemirror_mode": {
    "name": "ipython",
    "version": 3
   },
   "file_extension": ".py",
   "mimetype": "text/x-python",
   "name": "python",
   "nbconvert_exporter": "python",
   "pygments_lexer": "ipython3",
   "version": "3.6.5"
  }
 },
 "nbformat": 4,
 "nbformat_minor": 2
}
