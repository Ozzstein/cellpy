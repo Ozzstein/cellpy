{
 "cells": [
  {
   "cell_type": "markdown",
   "metadata": {},
   "source": [
    "## Example interactive dqdv session"
   ]
  },
  {
   "cell_type": "code",
   "execution_count": null,
   "metadata": {},
   "outputs": [],
   "source": [
    "%load_ext autoreload\n",
    "%autoreload 2"
   ]
  },
  {
   "cell_type": "code",
   "execution_count": null,
   "metadata": {},
   "outputs": [],
   "source": [
    "from cellpy import (cellreader, prms, log)"
   ]
  },
  {
   "cell_type": "code",
   "execution_count": null,
   "metadata": {},
   "outputs": [],
   "source": [
    "import bokeh\n",
    "from bokeh.io import output_notebook\n",
    "output_notebook()"
   ]
  },
  {
   "cell_type": "code",
   "execution_count": null,
   "metadata": {},
   "outputs": [],
   "source": [
    "filename = \"../testdata/hdf5/20160805_test001_45_cc.h5\"\n",
    "my_data = cellreader.CellpyData()\n",
    "my_data.load(filename)"
   ]
  },
  {
   "cell_type": "code",
   "execution_count": null,
   "metadata": {},
   "outputs": [],
   "source": [
    "from cellpy.utils import ica"
   ]
  },
  {
   "cell_type": "code",
   "execution_count": null,
   "metadata": {},
   "outputs": [],
   "source": [
    "from bokeh.plotting import figure, show\n",
    "import bokeh.palettes"
   ]
  },
  {
   "cell_type": "code",
   "execution_count": null,
   "metadata": {},
   "outputs": [],
   "source": [
    "# ica.dqdv??"
   ]
  },
  {
   "cell_type": "code",
   "execution_count": null,
   "metadata": {},
   "outputs": [],
   "source": [
    "# my_data.get_cap?"
   ]
  },
  {
   "cell_type": "code",
   "execution_count": null,
   "metadata": {},
   "outputs": [],
   "source": [
    "cycle_df = my_data.get_cap(1, categorical_column=True, method = \"forth\")\n",
    "plot = figure(plot_width=800, plot_height=300)\n",
    "plot.line(x=cycle_df.capacity, y=cycle_df.voltage)\n",
    "show(plot)"
   ]
  },
  {
   "cell_type": "code",
   "execution_count": null,
   "metadata": {},
   "outputs": [],
   "source": [
    "cycles = range(2,18)\n",
    "colors = bokeh.palettes.cividis(len(cycles))\n",
    "colors = bokeh.palettes.viridis(len(cycles))\n",
    "#colors = bokeh.palettes.gray(len(cycles)+10)\n",
    "\n",
    "del plot\n",
    "plot = figure(plot_width=800, plot_height=600)\n",
    "\n",
    "cycle_df = my_data.get_cap(1, categorical_column=True, method = \"forth-and-forth\")\n",
    "v, dq = ica.dqdv_cycle(cycle_df)\n",
    "plot.line(x=v, y=dq, line_color='red', legend='cycle 1')\n",
    "\n",
    "for n, cycyno in enumerate(cycles):\n",
    "    color = colors[n]\n",
    "    name = f\"cycle {cycyno}\"\n",
    "    #c1, v1 = my_data.get_ccap(cycyno)\n",
    "    #c2, v2 = my_data.get_dcap(cycyno)\n",
    "    #v_charge, dq_charge = ica.dqdv(v1, c1)\n",
    "    #v_discharge, dq_discharge = ica.dqdv(v2, c2)\n",
    "\n",
    "    cycle_df = my_data.get_cap(cycyno, categorical_column=True, method = \"forth-and-forth\")\n",
    "    v, dq = ica.dqdv_cycle(cycle_df)\n",
    "\n",
    "    plot.line(x=v, y=dq, line_color=color, legend=name)\n",
    "\n",
    "    \n",
    "plot.legend.location = \"top_right\"\n",
    "plot.legend.click_policy=\"hide\"\n",
    "\n",
    "show(plot)"
   ]
  },
  {
   "cell_type": "code",
   "execution_count": null,
   "metadata": {},
   "outputs": [],
   "source": []
  }
 ],
 "metadata": {
  "kernelspec": {
   "display_name": "Python3 (cellpy)",
   "language": "python",
   "name": "cellpy"
  },
  "language_info": {
   "codemirror_mode": {
    "name": "ipython",
    "version": 3
   },
   "file_extension": ".py",
   "mimetype": "text/x-python",
   "name": "python",
   "nbconvert_exporter": "python",
   "pygments_lexer": "ipython3",
   "version": "3.6.5"
  }
 },
 "nbformat": 4,
 "nbformat_minor": 2
}
