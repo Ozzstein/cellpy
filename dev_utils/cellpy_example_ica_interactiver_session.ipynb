{
 "cells": [
  {
   "cell_type": "markdown",
   "metadata": {},
   "source": [
    "## Example interactive dqdv session"
   ]
  },
  {
   "cell_type": "code",
   "execution_count": null,
   "metadata": {},
   "outputs": [],
   "source": [
    "%load_ext autoreload\n",
    "%autoreload 2"
   ]
  },
  {
   "cell_type": "code",
   "execution_count": null,
   "metadata": {},
   "outputs": [],
   "source": [
    "from cellpy import (cellreader, prms, log)"
   ]
  },
  {
   "cell_type": "code",
   "execution_count": null,
   "metadata": {},
   "outputs": [],
   "source": [
    "import pandas as pd\n",
    "import numpy as np\n",
    "from pathlib import Path"
   ]
  },
  {
   "cell_type": "code",
   "execution_count": null,
   "metadata": {},
   "outputs": [],
   "source": [
    "import bokeh\n",
    "from bokeh.io import output_notebook\n",
    "output_notebook()"
   ]
  },
  {
   "cell_type": "code",
   "execution_count": null,
   "metadata": {},
   "outputs": [],
   "source": [
    "filename = \"../testdata/hdf5/20160805_test001_45_cc.h5\"\n",
    "my_data = cellreader.CellpyData()\n",
    "my_data.load(filename)"
   ]
  },
  {
   "cell_type": "code",
   "execution_count": null,
   "metadata": {},
   "outputs": [],
   "source": [
    "my_data.name"
   ]
  },
  {
   "cell_type": "code",
   "execution_count": null,
   "metadata": {},
   "outputs": [],
   "source": [
    "from cellpy.utils import ica"
   ]
  },
  {
   "cell_type": "code",
   "execution_count": null,
   "metadata": {},
   "outputs": [],
   "source": [
    "from bokeh.plotting import figure, show\n",
    "import bokeh.palettes"
   ]
  },
  {
   "cell_type": "code",
   "execution_count": null,
   "metadata": {},
   "outputs": [],
   "source": [
    "# ica.dqdv??"
   ]
  },
  {
   "cell_type": "code",
   "execution_count": null,
   "metadata": {},
   "outputs": [],
   "source": [
    "# my_data.get_cap?"
   ]
  },
  {
   "cell_type": "code",
   "execution_count": null,
   "metadata": {},
   "outputs": [],
   "source": [
    "cycle_df = my_data.get_cap(1, categorical_column=True, method = \"forth\")\n",
    "plot = figure(plot_width=800, plot_height=300)\n",
    "plot.line(x=cycle_df.capacity, y=cycle_df.voltage)\n",
    "show(plot)"
   ]
  },
  {
   "cell_type": "code",
   "execution_count": null,
   "metadata": {},
   "outputs": [],
   "source": [
    "def color_list(list_of_cycles):\n",
    "    colors = bokeh.palettes.cividis(len(list_of_cycles))\n",
    "    return colors\n",
    "        \n"
   ]
  },
  {
   "cell_type": "code",
   "execution_count": null,
   "metadata": {},
   "outputs": [],
   "source": [
    "list_of_cycles = [1, 2, 3, 4, 5, 6, 7]\n",
    "colors = color_list(list_of_cycles)"
   ]
  },
  {
   "cell_type": "code",
   "execution_count": null,
   "metadata": {},
   "outputs": [],
   "source": [
    "def _get_ica(data, c):\n",
    "    cycle_df = data.get_cap(c, categorical_column=True, method = \"forth-and-forth\")\n",
    "    return ica.dqdv_cycle(cycle_df)"
   ]
  },
  {
   "cell_type": "code",
   "execution_count": null,
   "metadata": {},
   "outputs": [],
   "source": [
    "def _to_cycles_frame(data, cycles, **kwargs):\n",
    "    pass"
   ]
  },
  {
   "cell_type": "code",
   "execution_count": null,
   "metadata": {},
   "outputs": [],
   "source": [
    "def to_frame(data, cycles=None, frame_type=\"ica\", **kwargs):\n",
    "    \"\"\"function that creates a dataframe of cellpy-cycle-data.\n",
    "    \n",
    "    Hint: For making a nice frame for plotting using Bokeh,\n",
    "    its might be benificial to set long_format=True. At least\n",
    "    if you plan to use HoloViews. But for exporting to Origin,\n",
    "    its better to have a wide format (long_format=False).\n",
    "    \n",
    "    Hint: The long_format is of the form xy-xy-xy with a multi-\n",
    "    index with cycle number as top-level and x and y as second\n",
    "    levels. For example for ica-data you have:\n",
    "    \n",
    "      cycle number: | 1      | 2      | ...    |\n",
    "      type:         | v | dq | v | dq | v | dq |\n",
    "                    ----------------------------\n",
    "                  1 | . | .  |.  | .  |.  | .  |\n",
    "                  2 | . | .  |.  | .  |.  | .  |\n",
    "                  .\n",
    "                  n | . | .  |.  | .  |.  | .  |\n",
    "    \"\"\"\n",
    "    \n",
    "    selector = dict()\n",
    "    selector[\"ica\"] = _to_ica_frame\n",
    "    selector[\"cycles\"] = _to_cycles_frame\n",
    "    \n",
    "    frame_type = frame_type.lower()\n",
    "    frame_engine = selector[frame_type]\n",
    "    \n",
    "    if cycles is None:\n",
    "        cycles = data.get_cycle_numbers()\n",
    "    frame = frame_engine(data, cycles, **kwargs)\n",
    "    \n",
    "    return frame"
   ]
  },
  {
   "cell_type": "code",
   "execution_count": null,
   "metadata": {},
   "outputs": [],
   "source": [
    "def _to_ica_frame(data, cycles, **kwargs):\n",
    "    try:\n",
    "        long_format = kwargs[\"long_format\"]\n",
    "    except KeyError:\n",
    "        long_format = False\n",
    "        \n",
    "    frames = []\n",
    "    if not long_format:\n",
    "        keys = []\n",
    "\n",
    "    for cycle in cycles:\n",
    "        try:\n",
    "            v, dq = _get_ica(data, cycle)\n",
    "        except AttributeError:\n",
    "            print(f\"AttributeError(_to_ica_frame): missing (half-) cycle data for cycle {cycle}?\")\n",
    "        else:\n",
    "            _df = pd.DataFrame(\n",
    "                {\n",
    "                    \"voltage\": v,\n",
    "                    \"dq\": dq,\n",
    "                },\n",
    "            )\n",
    "\n",
    "            if long_format:\n",
    "                _df[\"cycle\"] = cycle\n",
    "            else:\n",
    "                label = cycle\n",
    "                _df.name = label\n",
    "                keys.append(label)\n",
    "            frames.append(_df)\n",
    "    if long_format:\n",
    "        df = pd.concat(frames, axis=0)\n",
    "        return df\n",
    "    df = pd.concat(frames,keys=keys,axis=1)\n",
    "    return df"
   ]
  },
  {
   "cell_type": "code",
   "execution_count": null,
   "metadata": {},
   "outputs": [],
   "source": [
    "f_wide = to_frame(my_data, long_format=False)\n",
    "f_long = to_frame(my_data, long_format=True)"
   ]
  },
  {
   "cell_type": "code",
   "execution_count": null,
   "metadata": {},
   "outputs": [],
   "source": [
    "def simple_plot(x, y):\n",
    "    p = figure()\n",
    "    p.line(x=x, y=y)\n",
    "    show(p)"
   ]
  },
  {
   "cell_type": "code",
   "execution_count": null,
   "metadata": {},
   "outputs": [],
   "source": [
    "def simple_xyxy_plot(df):\n",
    "    p = figure()\n",
    "    cycles = np.unique(df.columns.get_level_values(0))\n",
    "    for c in cycles:\n",
    "        xy = df.loc[:, (c,slice(None))]\n",
    "        p.line(x=xy.iloc[:, 0], y=xy.iloc[:, 1])\n",
    "    show(p)\n",
    "    "
   ]
  },
  {
   "cell_type": "code",
   "execution_count": null,
   "metadata": {},
   "outputs": [],
   "source": [
    "simple_xyxy_plot(f_wide)"
   ]
  },
  {
   "cell_type": "code",
   "execution_count": null,
   "metadata": {},
   "outputs": [],
   "source": [
    "simple_plot(f_long.voltage, f_long.dq)"
   ]
  },
  {
   "cell_type": "code",
   "execution_count": null,
   "metadata": {},
   "outputs": [],
   "source": [
    "def ica_plot(data, cycles=None, colors=None, x_scale=None, y_scale=None):\n",
    "    \n",
    "    if cycles is None:\n",
    "        cycles = data.get_cycle_numbers()\n",
    "    if colors is None:\n",
    "        colors = bokeh.palettes.cividis(len(cycles))\n",
    "        \n",
    "    p = figure(\n",
    "        plot_width=800, plot_height=600,  \n",
    "        title=f\"ICA for {data.name}\",\n",
    "        x_range = x_scale,\n",
    "        y_range = y_scale,\n",
    "    )\n",
    "\n",
    "    for n, c in enumerate(cycles):\n",
    "        color = colors[n]\n",
    "        name = f\"cycle {c}\"\n",
    "        v, dq = _get_ica(data, c)\n",
    "        p.line(x=v, y=dq, line_color=color, legend=name)\n",
    "    \n",
    "    p.xaxis.axis_label = \"voltage\"\n",
    "    p.yaxis.axis_label = \"dqdv\"\n",
    "    return p\n"
   ]
  },
  {
   "cell_type": "code",
   "execution_count": null,
   "metadata": {},
   "outputs": [],
   "source": [
    "def add_legend(p):\n",
    "    p.legend.location = \"top_right\"\n",
    "    p.legend.click_policy=\"hide\"\n",
    "    return p"
   ]
  },
  {
   "cell_type": "code",
   "execution_count": null,
   "metadata": {},
   "outputs": [],
   "source": [
    "def add_ica(data, p, cycle, label=None, plot_style='scatter', **plotargs):\n",
    "    if label is None:\n",
    "        label = f\"cycle {cycle}\"\n",
    "    v, dq = _get_ica(data, cycle)\n",
    "    if plot_style == 'scatter':\n",
    "        p.scatter(x=v, y=dq, legend=label, **plotargs)\n",
    "    elif plot_style == \"line\":\n",
    "        p.line(x=v, y=dq, legend=label, **plotargs)\n",
    "    else:\n",
    "        pass\n",
    "    return p"
   ]
  },
  {
   "cell_type": "code",
   "execution_count": null,
   "metadata": {},
   "outputs": [],
   "source": [
    "cycles = range(1,18)\n",
    "\n",
    "p = ica_plot(my_data, cycles, x_scale=(0,1))\n",
    "p = add_ica(my_data, p, 3, label=\"navy\", color=\"navy\", size=2, alpha=0.3)\n",
    "p = add_ica(my_data, p, 7, plot_style='line', label=\"new seven\", line_width=4)\n",
    "p = add_legend(p)\n",
    "show(p)"
   ]
  },
  {
   "cell_type": "code",
   "execution_count": null,
   "metadata": {},
   "outputs": [],
   "source": [
    "show(p)"
   ]
  },
  {
   "cell_type": "code",
   "execution_count": null,
   "metadata": {},
   "outputs": [],
   "source": [
    "my_data.name"
   ]
  },
  {
   "cell_type": "code",
   "execution_count": null,
   "metadata": {},
   "outputs": [],
   "source": []
  }
 ],
 "metadata": {
  "kernelspec": {
   "display_name": "Python3 (cellpy)",
   "language": "python",
   "name": "cellpy"
  },
  "language_info": {
   "codemirror_mode": {
    "name": "ipython",
    "version": 3
   },
   "file_extension": ".py",
   "mimetype": "text/x-python",
   "name": "python",
   "nbconvert_exporter": "python",
   "pygments_lexer": "ipython3",
   "version": "3.6.5"
  }
 },
 "nbformat": 4,
 "nbformat_minor": 2
}
