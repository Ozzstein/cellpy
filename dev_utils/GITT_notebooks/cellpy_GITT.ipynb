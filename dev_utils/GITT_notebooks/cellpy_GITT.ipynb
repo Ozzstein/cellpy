{
 "cells": [
  {
   "cell_type": "code",
   "execution_count": null,
   "metadata": {},
   "outputs": [],
   "source": [
    "%load_ext autoreload\n",
    "%autoreload 2"
   ]
  },
  {
   "cell_type": "code",
   "execution_count": null,
   "metadata": {},
   "outputs": [],
   "source": [
    "import os\n",
    "from pathlib import Path\n",
    "from pprint import pprint\n",
    "\n",
    "import numpy as np\n",
    "import pandas as pd\n",
    "import matplotlib.pyplot as plt\n",
    "\n",
    "import cellpy\n",
    "from cellpy import prms\n",
    "from cellpy import prmreader\n",
    "from cellpy import cellreader\n",
    "from cellpy.utils import ocv_rlx\n",
    "import holoviews as hv\n",
    "\n",
    "%matplotlib inline\n",
    "hv.extension('bokeh')"
   ]
  },
  {
   "cell_type": "code",
   "execution_count": null,
   "metadata": {
    "slideshow": {
     "slide_type": "-"
    }
   },
   "outputs": [],
   "source": [
    "######################################################################\n",
    "##                                                                  ##\n",
    "##                       development                                ##\n",
    "##                                                                  ##\n",
    "######################################################################\n",
    "\n",
    "if os.name == 'nt':\n",
    "    # Use these when working on my work PC:\n",
    "    raw_data_path = r\"C:\\Scripting\\MyFiles\\development_cellpy\\dev_data\\gitt\"\n",
    "    out_data_path = r\"C:\\Scripting\\MyFiles\\development_cellpy\\out\"\n",
    "else:\n",
    "    # Use these when working on my MacBook:\n",
    "    raw_data_path = \"/Users/jepe/scripting/cellpy/dev_data/gitt\"\n",
    "    out_data_path = \"/Users/jepe/scripting/cellpy/dev_data/out\"\n",
    "\n",
    "raw_data_path = Path(raw_data_path)\n",
    "out_data_path = Path(out_data_path)\n",
    "\n",
    "print(\" SETTING SOME PRMS \".center(80, \"=\"))\n",
    "prms.Paths[\"db_filename\"] = \"cellpy_db.xlsx\"\n",
    "prms.Paths[\"cellpydatadir\"] = out_data_path\n",
    "prms.Paths[\"outdatadir\"] = out_data_path\n",
    "prms.Paths[\"rawdatadir\"] = raw_data_path\n",
    "prms.Paths[\"db_path\"] = out_data_path\n",
    "prms.Paths[\"filelogdir\"] = out_data_path\n",
    "pprint(prms.Paths)\n",
    "\n",
    "pd.set_option('display.max_rows', 30)\n",
    "pd.set_option('display.max_columns', 500)\n",
    "pd.set_option('display.width', 1000)"
   ]
  },
  {
   "cell_type": "code",
   "execution_count": null,
   "metadata": {},
   "outputs": [],
   "source": [
    "fn = \"20190403_cen59_04_rateGITT_01\"\n",
    "mass = 0.3\n",
    "resn = fn + \".res\"\n",
    "cellpyn = fn + \".h5\"\n",
    "filename = prms.Paths[\"rawdatadir\"] / resn\n",
    "cellpyname = prms.Paths[\"cellpydatadir\"] / cellpyn"
   ]
  },
  {
   "cell_type": "code",
   "execution_count": null,
   "metadata": {},
   "outputs": [],
   "source": [
    "cell = cellreader.get(filename, mass=mass, logging_mode=\"INFO\")\n",
    "cell.save(cellpyname)\n",
    "cell = cellreader.get(cellpyname)"
   ]
  },
  {
   "cell_type": "code",
   "execution_count": null,
   "metadata": {},
   "outputs": [],
   "source": [
    "# print(cell)"
   ]
  },
  {
   "cell_type": "markdown",
   "metadata": {},
   "source": [
    "## Some functions"
   ]
  },
  {
   "cell_type": "markdown",
   "metadata": {},
   "source": [
    "### Custom step-table for GITT\n",
    "Need to allow for several ocv steps with same step number in the same cycle\n"
   ]
  },
  {
   "cell_type": "code",
   "execution_count": null,
   "metadata": {},
   "outputs": [],
   "source": [
    "# THIS IS NOW IMPLEMENTED IN CELLPY\n",
    "def _ustep(n):  # NEW\n",
    "    un = []\n",
    "    c = 1\n",
    "    n = n.diff()\n",
    "    for i in n:\n",
    "        if i != 0:\n",
    "            c += 1\n",
    "        un.append(c)\n",
    "    return un"
   ]
  },
  {
   "cell_type": "code",
   "execution_count": null,
   "metadata": {},
   "outputs": [],
   "source": [
    "# THIS IS NOW IMPLEMENTED IN CELLPY\n",
    "# make_step_table(all_steps=True)\n",
    "\n",
    "def make_step_table_custom(cell, do_masking=False):\n",
    "## copy-pasted from cellpy.cellreader and updated\n",
    "\n",
    "    print(\" Create step table (with u-steps) \".center(80, \"=\"))\n",
    "    nhdr = cell.headers_normal\n",
    "    shdr = cell.headers_step_table\n",
    "    shdr.u_step = \"ustep\"  # NEW\n",
    "    \n",
    "    \n",
    "    df = cell.dataset.raw\n",
    "\n",
    "    def first(x):\n",
    "        return x.iloc[0]\n",
    "\n",
    "    def last(x):\n",
    "        return x.iloc[-1]\n",
    "\n",
    "    def delta(x):\n",
    "        if x.iloc[0] == 0.0:\n",
    "            # starts from a zero value\n",
    "            difference = 100.0 * x.iloc[-1]\n",
    "        else:\n",
    "            difference = (x.iloc[-1] - x.iloc[0]) * 100 / abs(x.iloc[0])\n",
    "\n",
    "        return difference\n",
    "\n",
    "    keep = [\n",
    "        nhdr.data_point_txt,\n",
    "        nhdr.test_time_txt,\n",
    "        nhdr.step_time_txt,\n",
    "        nhdr.step_index_txt,\n",
    "        nhdr.cycle_index_txt,\n",
    "        nhdr.current_txt,\n",
    "        nhdr.voltage_txt,\n",
    "        nhdr.ref_voltage_txt,\n",
    "        nhdr.charge_capacity_txt,\n",
    "        nhdr.discharge_capacity_txt,\n",
    "        nhdr.internal_resistance_txt,\n",
    "        # \"ir_pct_change\"\n",
    "    ]\n",
    "\n",
    "    # only use col-names that exist:\n",
    "    keep = [col for col in keep if col in df.columns]\n",
    "\n",
    "    df = df[keep]\n",
    "    df[nhdr.sub_step_index_txt] = 1\n",
    "    rename_dict = {\n",
    "        nhdr.cycle_index_txt: shdr.cycle,\n",
    "        nhdr.step_index_txt: shdr.step,\n",
    "        nhdr.sub_step_index_txt: shdr.sub_step,\n",
    "        nhdr.data_point_txt: shdr.point,\n",
    "        nhdr.test_time_txt: shdr.test_time,\n",
    "        nhdr.step_time_txt: shdr.step_time,\n",
    "        nhdr.current_txt: shdr.current,\n",
    "        nhdr.voltage_txt: shdr.voltage,\n",
    "        nhdr.charge_capacity_txt: shdr.charge,\n",
    "        nhdr.discharge_capacity_txt: shdr.discharge,\n",
    "        nhdr.internal_resistance_txt: shdr.internal_resistance,\n",
    "    }\n",
    "\n",
    "    df = df.rename(columns=rename_dict)\n",
    "    df[shdr.u_step]=_ustep(df[shdr.step])  # NEW\n",
    "\n",
    "    by = [shdr.cycle, shdr.step, shdr.sub_step, shdr.u_step]  # UPDATED\n",
    "\n",
    "    gf = df.groupby(by=by)\n",
    "    df_steps = (gf.agg(\n",
    "        [np.mean, np.std, np.amin, np.amax, first, last, delta]\n",
    "    ).rename(columns={'amin': 'min', 'amax': 'max', 'mean': 'avr'}))\n",
    "\n",
    "    df_steps = df_steps.sort_values(by=[(shdr.point, \"first\")])  # NEW\n",
    "    df_steps = df_steps.reset_index()\n",
    "\n",
    "    df_steps[shdr.type] = np.nan\n",
    "    df_steps[shdr.sub_type] = np.nan\n",
    "    df_steps[shdr.info] = np.nan\n",
    "\n",
    "    current_limit_value_hard = cell.raw_limits[\"current_hard\"]\n",
    "    current_limit_value_soft = cell.raw_limits[\"current_soft\"]\n",
    "    stable_current_limit_hard = cell.raw_limits[\"stable_current_hard\"]\n",
    "    stable_current_limit_soft = cell.raw_limits[\"stable_current_soft\"]\n",
    "    stable_voltage_limit_hard = cell.raw_limits[\"stable_voltage_hard\"]\n",
    "    stable_voltage_limit_soft = cell.raw_limits[\"stable_voltage_soft\"]\n",
    "    stable_charge_limit_hard = cell.raw_limits[\"stable_charge_hard\"]\n",
    "    stable_charge_limit_soft = cell.raw_limits[\"stable_charge_soft\"]\n",
    "    ir_change_limit = cell.raw_limits[\"ir_change\"]\n",
    "\n",
    "    mask_no_current_hard = (\n",
    "        df_steps.loc[:, (shdr.current, \"max\")].abs()\n",
    "        + df_steps.loc[:, (shdr.current, \"min\")].abs()\n",
    "    ) < current_limit_value_hard\n",
    "\n",
    "    mask_voltage_down = df_steps.loc[:, (shdr.voltage, \"delta\")] < \\\n",
    "        - stable_voltage_limit_hard\n",
    "\n",
    "    mask_voltage_up = df_steps.loc[:, (shdr.voltage, \"delta\")] > \\\n",
    "        stable_voltage_limit_hard\n",
    "\n",
    "    mask_voltage_stable = df_steps.loc[:, (shdr.voltage, \"delta\")].abs() < \\\n",
    "        stable_voltage_limit_hard\n",
    "\n",
    "    mask_current_down = df_steps.loc[:, (shdr.current, \"delta\")] < \\\n",
    "        - stable_current_limit_soft\n",
    "\n",
    "    mask_current_up = df_steps.loc[:, (shdr.current, \"delta\")] > \\\n",
    "        stable_current_limit_soft\n",
    "\n",
    "    mask_current_negative = df_steps.loc[:, (shdr.current, \"avr\")] < \\\n",
    "        - current_limit_value_hard\n",
    "\n",
    "    mask_current_positive = df_steps.loc[:, (shdr.current, \"avr\")] > \\\n",
    "        current_limit_value_hard\n",
    "\n",
    "    mask_galvanostatic = df_steps.loc[:, (shdr.current, \"delta\")].abs() < \\\n",
    "        stable_current_limit_soft\n",
    "\n",
    "    mask_charge_changed = df_steps.loc[:, (shdr.charge, \"delta\")].abs() > \\\n",
    "        stable_charge_limit_hard\n",
    "\n",
    "    mask_discharge_changed = df_steps.loc[:, (shdr.discharge, \"delta\")].abs() > \\\n",
    "        stable_charge_limit_hard\n",
    "\n",
    "    mask_no_change = (df_steps.loc[:, (shdr.voltage, \"delta\")] == 0) & \\\n",
    "        (df_steps.loc[:, (shdr.current, \"delta\")] == 0) & \\\n",
    "        (df_steps.loc[:, (shdr.charge, \"delta\")] == 0) & \\\n",
    "        (df_steps.loc[:, (shdr.charge, \"delta\")] == 0)\n",
    "\n",
    "    if do_masking:  # NEW\n",
    "        print(\"-masking and labelling steps\")\n",
    "        df_steps.loc[mask_no_current_hard & mask_voltage_stable,\n",
    "                     shdr.type] = 'rest'\n",
    "\n",
    "        df_steps.loc[mask_no_current_hard & mask_voltage_up,\n",
    "                     shdr.type] = 'ocvrlx_up'\n",
    "\n",
    "        df_steps.loc[mask_no_current_hard & mask_voltage_down,\n",
    "                     shdr.type] = 'ocvrlx_down'\n",
    "\n",
    "        df_steps.loc[mask_discharge_changed & mask_current_negative,\n",
    "                     shdr.type] = 'discharge'\n",
    "\n",
    "        df_steps.loc[mask_charge_changed & mask_current_positive,\n",
    "                     shdr.type] = 'charge'\n",
    "\n",
    "        df_steps.loc[\n",
    "            mask_voltage_stable & mask_current_negative & mask_current_down,\n",
    "            shdr.type\n",
    "        ] = 'cv_discharge'\n",
    "\n",
    "        df_steps.loc[mask_voltage_stable & mask_current_positive &\n",
    "                     mask_current_down, shdr.type] = 'cv_charge'\n",
    "\n",
    "        # --- internal resistance ----\n",
    "        df_steps.loc[mask_no_change, shdr.type] = 'ir'\n",
    "        # assumes that IR is stored in just one row\n",
    "\n",
    "        # --- sub-step-txt -----------\n",
    "        df_steps[shdr.sub_type] = None\n",
    "\n",
    "    # check if all the steps got categorizes\n",
    "    print(\"-looking for un-categorized steps\")  # REMARK! uses print instead of logging\n",
    "    empty_rows = df_steps.loc[df_steps[shdr.type].isnull()]\n",
    "    if not empty_rows.empty:\n",
    "        print(\n",
    "            f\"found {len(empty_rows)}\",\n",
    "            f\":{len(df_steps)} non-categorized steps \",\n",
    "            f\"(please, check your raw-limits)\",)\n",
    "\n",
    "    print(f\"-flatten columns\")\n",
    "    flat_cols = []\n",
    "    for col in df_steps.columns:\n",
    "        if isinstance(col, tuple):\n",
    "            if col[-1]:\n",
    "                col = \"_\".join(col)\n",
    "            else:\n",
    "                col = col[0]\n",
    "        flat_cols.append(col)\n",
    "\n",
    "    df_steps.columns = flat_cols\n",
    "\n",
    "    return df_steps"
   ]
  },
  {
   "cell_type": "markdown",
   "metadata": {},
   "source": [
    "#### Checking"
   ]
  },
  {
   "cell_type": "code",
   "execution_count": null,
   "metadata": {},
   "outputs": [],
   "source": [
    "gt = make_step_table_custom(cell, do_masking=True)"
   ]
  },
  {
   "cell_type": "code",
   "execution_count": null,
   "metadata": {},
   "outputs": [],
   "source": [
    "gt.columns"
   ]
  },
  {
   "cell_type": "code",
   "execution_count": null,
   "metadata": {},
   "outputs": [],
   "source": [
    "gt[gt.cycle==5].head(10)"
   ]
  },
  {
   "cell_type": "markdown",
   "metadata": {},
   "source": [
    "## Initial exploration"
   ]
  },
  {
   "cell_type": "markdown",
   "metadata": {},
   "source": [
    "- Should plot all cycles.\n",
    "- Should allow for \"zoomin\" into / selecting a single cycle."
   ]
  },
  {
   "cell_type": "markdown",
   "metadata": {},
   "source": [
    "### Overview of full cycle"
   ]
  },
  {
   "cell_type": "code",
   "execution_count": null,
   "metadata": {},
   "outputs": [],
   "source": [
    "t, v = cell.get_timestamp(), cell.get_voltage()"
   ]
  },
  {
   "cell_type": "code",
   "execution_count": null,
   "metadata": {},
   "outputs": [],
   "source": [
    "all_cycs = hv.Curve((t,v), ('t', 'time (sec)'), ('v', 'voltage (v)'), label=\"voltage-time\").opts()"
   ]
  },
  {
   "cell_type": "code",
   "execution_count": null,
   "metadata": {},
   "outputs": [],
   "source": [
    "steptable = cell.dataset.steps"
   ]
  },
  {
   "cell_type": "code",
   "execution_count": null,
   "metadata": {},
   "outputs": [],
   "source": [
    "cycle_label_df = steptable.drop_duplicates(\"cycle\")"
   ]
  },
  {
   "cell_type": "code",
   "execution_count": null,
   "metadata": {},
   "outputs": [],
   "source": [
    "cycle_labels = hv.Labels((cycle_label_df.test_time_first, cycle_label_df.voltage_first, cycle_label_df.cycle))"
   ]
  },
  {
   "cell_type": "code",
   "execution_count": null,
   "metadata": {},
   "outputs": [],
   "source": [
    "%%opts Curve [width=1200, xformatter=\"%6.0f\"]\n",
    "all_cycs * cycle_labels"
   ]
  },
  {
   "cell_type": "markdown",
   "metadata": {},
   "source": [
    "### Full cycle in \"holomap\" form"
   ]
  },
  {
   "cell_type": "code",
   "execution_count": null,
   "metadata": {},
   "outputs": [],
   "source": [
    "# creating a dictionary of curves (for each cycle)\n",
    "cycs_dict = dict()\n",
    "for c in cell.get_cycle_numbers():\n",
    "    t = cell.get_timestamp(cycle=c)\n",
    "    t = t - np.amin(t.values)  # setting first point to t=0\n",
    "    curve = hv.Curve((t, cell.get_voltage(cycle=c)), (\"time\", \"time (seconds)\"), (\"voltage\", \"voltage (v vs. Li/Li+)\"))\n",
    "    cycs_dict[c] = curve"
   ]
  },
  {
   "cell_type": "code",
   "execution_count": null,
   "metadata": {},
   "outputs": [],
   "source": [
    "%%opts Curve [width=800, xformatter=\"%6.0f\"]\n",
    "\n",
    "hmap = hv.HoloMap(cycs_dict,\"cycle\")\n",
    "hmap"
   ]
  },
  {
   "cell_type": "code",
   "execution_count": null,
   "metadata": {},
   "outputs": [],
   "source": []
  },
  {
   "cell_type": "code",
   "execution_count": null,
   "metadata": {},
   "outputs": [],
   "source": [
    "%%opts Curve [width=800, xformatter=\"%6.0f\"]\n",
    "(all_cycs * cycle_labels + hmap).cols(1)"
   ]
  },
  {
   "cell_type": "code",
   "execution_count": null,
   "metadata": {},
   "outputs": [],
   "source": []
  },
  {
   "cell_type": "code",
   "execution_count": null,
   "metadata": {},
   "outputs": [],
   "source": []
  },
  {
   "cell_type": "markdown",
   "metadata": {},
   "source": [
    "## Processing cycle"
   ]
  },
  {
   "cell_type": "code",
   "execution_count": null,
   "metadata": {},
   "outputs": [],
   "source": [
    "dfdata = cell.dataset.raw"
   ]
  },
  {
   "cell_type": "code",
   "execution_count": null,
   "metadata": {},
   "outputs": [],
   "source": [
    "cyc5 = dfdata.loc[dfdata.Cycle_Index == 5, :]\n",
    "gt5 = gt.loc[gt.cycle==5, :]"
   ]
  },
  {
   "cell_type": "code",
   "execution_count": null,
   "metadata": {},
   "outputs": [],
   "source": [
    "gt5.head(40)"
   ]
  },
  {
   "cell_type": "code",
   "execution_count": null,
   "metadata": {},
   "outputs": [],
   "source": [
    "cyc5curve = hv.Curve(cyc5,  (\"Test_Time\", \"time\"), (\"Voltage\", \"voltage\")).opts(color=\"grey\", alpha=0.5)\n",
    "cyc5points = hv.Scatter(cyc5,  (\"Test_Time\", \"time\"), (\"Voltage\", \"voltage\")).opts(size=5, fill_alpha=0.2)"
   ]
  },
  {
   "cell_type": "code",
   "execution_count": null,
   "metadata": {},
   "outputs": [],
   "source": [
    "slabels5 = hv.Labels((gt5.test_time_first, gt5.voltage_first, gt5.ustep))"
   ]
  },
  {
   "cell_type": "code",
   "execution_count": null,
   "metadata": {},
   "outputs": [],
   "source": [
    "%%opts Curve [width=1000, height=600]\n",
    "cyc5curve * cyc5points * slabels5"
   ]
  },
  {
   "cell_type": "code",
   "execution_count": null,
   "metadata": {},
   "outputs": [],
   "source": [
    "# estimate some values\n",
    "\n",
    "# electrolyte-electrode area (cm2)\n",
    "radius = 0.75  # cm\n",
    "roughness = 1.0\n",
    "print(\"Should probably use BET to find out this?\")\n",
    "area = (1*roughness) * np.pi * (radius**2)\n",
    "print(f\"S: {area:6.2f} cm2\")\n",
    "\n",
    "# number of moles\n",
    "# 1 mol Si weighs 28.0855 g\n",
    "mass = mass\n",
    "number_of_moles = 28.0855 / mass \n",
    "print(f\"n_m: {number_of_moles:6.2f} mol\")\n",
    "\n",
    "# molar volume\n",
    "# The 2006 CODATA recommended value for the molar volume of silicon is 12.0588349(11)×10−6 m3/mol, with a relative standard uncertainty of 9.1×10−8\n",
    "molar_volume = 12.06 # cm3/mol\n",
    "print(f\"V_m: {molar_volume:6.2f} cm3/mol\")\n"
   ]
  },
  {
   "cell_type": "code",
   "execution_count": null,
   "metadata": {},
   "outputs": [],
   "source": [
    "# approximating electrode-electrolyte contact area\n",
    "\n",
    "diameter_si = 200.0 * 10e-7  # cm\n",
    "rho_si = 2.32  # g/cm3\n",
    "mass = 0.2 * 0.001  # g\n",
    "A = (2*3/diameter_si) * (mass/rho_si)\n",
    "print(f\"Diameter: {diameter_si:8.6f} cm\")\n",
    "print(f\"Mass:     {mass:8.6f} g\")\n",
    "print(f\"Calculated contact area (ideal case): {A:8.6f} cm2\")\n",
    "\n",
    "# For reference (v, a, m is pr Si particle)\n",
    "v = (4/3)*np.pi*((diameter_si/2)**3)\n",
    "m = rho_si * v\n",
    "n = mass / m\n",
    "a = 4 * np.pi * (diameter_si/2)**2 \n"
   ]
  },
  {
   "cell_type": "code",
   "execution_count": null,
   "metadata": {},
   "outputs": [],
   "source": []
  },
  {
   "cell_type": "code",
   "execution_count": null,
   "metadata": {},
   "outputs": [],
   "source": [
    "def calc_A(n_m=93.62, V_m=12.06, S=35.0):\n",
    "    \"\"\"\n",
    "    D = 4 /((pi)(tau)) * (n_m * V_m / S)^2 * (DEs / DEt)^2 = A /tau * (DEs / DEt)^2\n",
    "    A = 4 /(pi) * (n_m * V_m / S)^2\n",
    "    \n",
    "    tau: duration of the current pulse (s)  \n",
    "    n_m: number of moles (mol)  \n",
    "    V_m: molar volume of electrode (cm3/mol)  \n",
    "    S: electrode-electrolyte contact area (cm2)  \n",
    "    DEs: steady state voltage change due to the current pulse (V)  \n",
    "    DEt: voltage change during the constant current pulse (eliminating the iR drop) (V)  \n",
    "    \n",
    "    Ref.: application note from Metrohm Autolab b.v. pdf (BAT03)\n",
    "    \"\"\"\n",
    "    A = (4 / np.pi) * (n_m * V_m / S)**2\n",
    "    return A"
   ]
  },
  {
   "cell_type": "code",
   "execution_count": null,
   "metadata": {},
   "outputs": [],
   "source": [
    "def auto_calc_D(steptable, cycle_number, A=1.0, tau=None, ustep_first=None, ustep_last=None):\n",
    "    \"\"\"Function for extracting diffusion constant(s) and inserting into steptable.\n",
    "    \n",
    "    D = 4 /((pi)(tau)) * (n_m * V_m / S)^2 * (DEs / DEt)^2 = A /tau * (DEs / DEt)^2\n",
    "    A = 4 /(pi) * (n_m * V_m / S)^2\n",
    "    \n",
    "    \"\"\"\n",
    "    st = None\n",
    "    if cycle_number is None:\n",
    "        # This function is intended to only work on a pr. cycle basis\n",
    "        # to prevent users from \"poluting\" the steptable for \"non_GITT\" experiments.\n",
    "        print(\"no cycle number given\")\n",
    "        return\n",
    "    \n",
    "    st = steptable[steptable.cycle==cycle_number]\n",
    "    if st.empty:\n",
    "        print(\"the given cycle is not found\")\n",
    "        return\n",
    "    \n",
    "    if ustep_first is not None:\n",
    "        st = st[st.ustep>=ustep_first]\n",
    "    if ustep_last is not None:\n",
    "        st = st[st.ustep<=ustep_last]\n",
    "    \n",
    "    # used for finding DE\n",
    "    n3 = st[\"voltage_last\"].shift(periods=-3)\n",
    "    n1 = st[\"voltage_first\"].shift(periods=-1)\n",
    "    \n",
    "    # used for finding tau\n",
    "    if tau is None:\n",
    "        tau = st[\"step_time_delta\"]\n",
    "    \n",
    "    # used for validating if proper GITT step\n",
    "    t0 = st[\"type\"]\n",
    "    t1 = st[\"type\"].shift(periods=-1)\n",
    "    t2 = st[\"type\"].shift(periods=-2)\n",
    "    t3 = st[\"type\"].shift(periods=-3)\n",
    "    \n",
    "    st[\"valid_D\"] = (t0==t2) & (t1.str.contains(\"ocv\"))\n",
    "    \n",
    "    # calculating\n",
    "    st[\"DEt\"] = st[\"voltage_last\"] - st[\"voltage_first\"]\n",
    "    st[\"DEs\"] = n3 - n1\n",
    "    st[\"D\"] = A / tau * (st[\"DEs\"] / st[\"DEt\"])**2\n",
    "    \n",
    "    return st"
   ]
  },
  {
   "cell_type": "code",
   "execution_count": null,
   "metadata": {},
   "outputs": [],
   "source": [
    "A = calc_A()\n",
    "x = auto_calc_D(gt, 5, A=A, ustep_first=27)\n",
    "discharge = x.loc[(x.type==\"discharge\") & (x.valid_D)]\n",
    "charge = x.loc[(x.type==\"charge\") & (x.valid_D)]\n",
    "# discharge.head(25)"
   ]
  },
  {
   "cell_type": "code",
   "execution_count": null,
   "metadata": {},
   "outputs": [],
   "source": [
    "%%opts Curve [width=600 xformatter=\"%6.0f\"]\n",
    "X = discharge[\"discharge_avr\"]*1_000_000/mass\n",
    "Y = discharge[\"D\"]\n",
    "discharge_diffcurve = hv.Scatter((X,Y), (\"capacity\"), (\"diffusion\"), label=\"discharge\").opts(size=12) * hv.Curve((X,Y)).opts(alpha=0.4)\n",
    "\n",
    "X = charge[\"charge_avr\"]*1_000_000/mass\n",
    "Y = charge[\"D\"]\n",
    "charge_diffcurve = hv.Scatter((X,Y), (\"capacity\"), (\"diffusion\"), label=\"charge\").opts(size=12) * hv.Curve((X,Y)).opts(alpha=0.4)\n",
    "\n",
    "discharge_diffcurve * charge_diffcurve"
   ]
  },
  {
   "cell_type": "markdown",
   "metadata": {},
   "source": [
    "## Picking out titration curves"
   ]
  },
  {
   "cell_type": "code",
   "execution_count": null,
   "metadata": {},
   "outputs": [],
   "source": [
    "cycle = 5\n",
    "titcurve_ustep = 29\n",
    "\n",
    "# filtering wrt cycle number to get the Data_Points for the step\n",
    "datapoints = discharge.loc[discharge.ustep==titcurve_ustep, [\"point_first\", \"point_last\"]]\n",
    "datapoints"
   ]
  },
  {
   "cell_type": "code",
   "execution_count": null,
   "metadata": {},
   "outputs": [],
   "source": [
    "# Using the data points to select the data from dfdata\n",
    "first = datapoints.iloc[0, 0]\n",
    "last = datapoints.iloc[0, 1]\n",
    "dftit = dfdata.loc[first:last, :]\n",
    "dftit.head()"
   ]
  },
  {
   "cell_type": "code",
   "execution_count": null,
   "metadata": {},
   "outputs": [],
   "source": [
    "dfcurve = hv.Curve(dftit,  (\"Step_Time\", \"time\"), (\"Voltage\", \"voltage\")).opts(color=\"grey\", alpha=0.5).opts(width=1000, xformatter=\"%6.0f\")\n",
    "min_time = hv.VLine(100.0)\n",
    "max_time = hv.VLine(1000.0)\n",
    "a = hv.Arrow(x=500, y = 0.31, text=\"fit\", direction= \"v\")\n",
    "dfcurve * min_time * max_time * a"
   ]
  },
  {
   "cell_type": "code",
   "execution_count": null,
   "metadata": {},
   "outputs": [],
   "source": [
    "# plotting dE vs sqrt(t) and doing a linear regression to find the slope\n",
    "dE = dftit[\"Voltage\"]\n",
    "t = np.sqrt(dftit[\"Step_Time\"])"
   ]
  },
  {
   "cell_type": "code",
   "execution_count": null,
   "metadata": {},
   "outputs": [],
   "source": [
    "decurve = hv.Curve((t, dE), \"sqrt-time\", \"voltage\")\n",
    "decurve"
   ]
  },
  {
   "cell_type": "markdown",
   "metadata": {},
   "source": [
    "# Temporary stuff (will probably be deleted)"
   ]
  },
  {
   "cell_type": "code",
   "execution_count": null,
   "metadata": {},
   "outputs": [],
   "source": []
  },
  {
   "cell_type": "markdown",
   "metadata": {},
   "source": [
    "### Methodology for finding diff coeffs\n",
    "#### Equation\n",
    "```\n",
    "Eq. 1.1.\n",
    "D = (4 / pi) (i*V_m / (Z_A*F*S)^2 * ((dE/dd)/(dE/d(sqrt(t)))^2  \n",
    "\n",
    "i: current (A)  \n",
    "Z_A: charge number  \n",
    "F: Faraday´s constant (96_458 C/mol)\n",
    "V_m: molar volume of electrode (cm3/mol)  \n",
    "S: electrode-electrolyte contact area (cm2)  \n",
    "\n",
    "(dE/dd): the slope of the coulometric titration curve, found by plotting the\n",
    "steady state voltages E (V) measured after each titration step δ\n",
    "\n",
    "steady state voltage change due to the current pulse (V)  \n",
    "(dE/d(sqrt(t)):  the slope of the linearized plot of the potential E (V) during the current pulse of duration t (s).  \n",
    "```\n",
    "\n"
   ]
  },
  {
   "cell_type": "markdown",
   "metadata": {},
   "source": [
    "#### step 1\n",
    "Need to find the slope of E vs δ. This is the same as finding dV/dQ. One way to do this is to fit the \"relaxed\" voltage curve (the OCV_RLX points) to a polynomial and diffing it.\n",
    "#### step 2\n",
    "Then we also need to find the slope of E vs time during the pulse. For this we can e.g. use the polytfit function from scipy. The first 100 seconds should not be used as they\n",
    "are typically from charge-transfere resistance and the concentration overpotential.\n",
    "#### step 3\n",
    "Now it is time to get all the other prms (where the most difficult one is the electrode-electrolyte contact area). It should ideally be found using BET. But I guess the best is to calculate it using a sensible model, or from some scattering experiments (SANS?)."
   ]
  },
  {
   "cell_type": "code",
   "execution_count": null,
   "metadata": {},
   "outputs": [],
   "source": []
  },
  {
   "cell_type": "code",
   "execution_count": null,
   "metadata": {},
   "outputs": [],
   "source": []
  },
  {
   "cell_type": "code",
   "execution_count": null,
   "metadata": {},
   "outputs": [],
   "source": []
  },
  {
   "cell_type": "code",
   "execution_count": null,
   "metadata": {},
   "outputs": [],
   "source": []
  },
  {
   "cell_type": "markdown",
   "metadata": {},
   "source": [
    "## Example\n",
    "Based on application note from Metrohm Autolab b.v. pdf (BAT03) \n",
    "\n",
    "\n",
    "```\n",
    "Eq. 1.1.\n",
    "D = (4 / pi) (i*V_m / (Z_A*F*S)^2 * ((dE/dd)/(dE/d(sqrt(t)))^2  \n",
    "\n",
    "i: current (A)  \n",
    "Z_A: charge number  \n",
    "F: Faraday´s constant (96_458 C/mol)\n",
    "V_m: molar volume of electrode (cm3/mol)  \n",
    "S: electrode-electrolyte contact area (cm2)  \n",
    "\n",
    "(dE/dd): the slope of the coulometric titration curve, found by plotting the\n",
    "steady state voltages E (V) measured after each titration step δ\n",
    "\n",
    "steady state voltage change due to the current pulse (V)  \n",
    "(dE/d(sqrt(t)):  the slope of the linearized plot of the potential E (V) during the current pulse of duration t (s).  \n",
    "```\n",
    "\n",
    "\n",
    "```\n",
    "Eq. 1.2.\n",
    "D = 4 /((pi)(tau)) * (n_m * V_m / S)^2 * (DEs / DEt)^2  \n",
    "\n",
    "tau: duration of the current pulse (s)  \n",
    "n_m: number of moles (mol)  \n",
    "V_m: molar volume of electrode (cm3/mol)  \n",
    "S: electrode-electrolyte contact area (cm2)  \n",
    "DEs: steady state voltage change due to the current pulse (V)  \n",
    "DEt: voltage change during the constant current pulse (eliminating the iR drop) (V)  \n",
    "```"
   ]
  },
  {
   "cell_type": "code",
   "execution_count": null,
   "metadata": {},
   "outputs": [],
   "source": []
  },
  {
   "cell_type": "markdown",
   "metadata": {},
   "source": [
    "### Example code:\n",
    "\n",
    "```python\n",
    "\n",
    "D = (A / tau) * (DEs / DEt)**2\n",
    "# during charge\n",
    "DEt = ustep_52.voltage[-1] - ustep_52.voltage[0]  # charge step\n",
    "DEs = ustep_55.voltage[-1] - ustep_53.voltage[0]  # ocv steps\n",
    "```\n",
    "\n",
    "```python\n",
    "# during discharge\n",
    "DEt = ustep_27.voltage[-1] - ustep_27.voltage[0]  # discharge step\n",
    "DEs = ustep_30.voltage[-1] - ustep_28.voltage[0]  # ocv steps\n",
    "```\n",
    "\n",
    "Using step-table\n",
    "\n",
    "```python\n",
    "DEt = ustep[n].voltage_last - ustep[n].voltage_first  # charge step\n",
    "DEs = ustep[n+3].voltage_last - ustep[n+1].voltage_first # ocv steps\n",
    "```"
   ]
  },
  {
   "cell_type": "markdown",
   "metadata": {},
   "source": []
  },
  {
   "cell_type": "code",
   "execution_count": null,
   "metadata": {},
   "outputs": [],
   "source": [
    "def simple_calc_of_d(steptable, c=5, n=27, A=1.0):\n",
    "    # This is an implementation with no ambitions with regards to speed or usability\n",
    "    gt = steptable[steptable.cycle==c]\n",
    "    ustep_n = gt.loc[gt.ustep==n, :]\n",
    "    ustep_n_1 = gt.loc[gt.ustep==n+1, :]\n",
    "    ustep_n_3 = gt.loc[gt.ustep==n+3, :]\n",
    "\n",
    "    v = ustep_n.voltage_first.values\n",
    "    DEt_n = ustep_n.voltage_last.values - ustep_n.voltage_first.values\n",
    "    DEs_n = ustep_n_3.voltage_last.values - ustep_n_1.voltage_first.values\n",
    "\n",
    "    Dn = A * (DEs_n / DEt_n)**2\n",
    "\n",
    "    return v[0], Dn[0]"
   ]
  },
  {
   "cell_type": "code",
   "execution_count": null,
   "metadata": {},
   "outputs": [],
   "source": [
    "V = list()\n",
    "D = list()\n",
    "print(\"Voltage  Diffusion\")\n",
    "for n in range(27, 45, 2):\n",
    "    v, d = simple_calc_of_d(gt, 5, n)\n",
    "    V.append(v)\n",
    "    D.append(d)\n",
    "    print(f\"({n}) {v:7.2}: {d:7.2}\")"
   ]
  },
  {
   "cell_type": "code",
   "execution_count": null,
   "metadata": {},
   "outputs": [],
   "source": [
    "diffcurve = hv.Scatter((V,D), (\"voltage\"), (\"diffusion\")).opts(size=12) * hv.Curve((V,D)).opts(alpha=0.4)\n",
    "diffcurve"
   ]
  },
  {
   "cell_type": "code",
   "execution_count": null,
   "metadata": {},
   "outputs": [],
   "source": []
  }
 ],
 "metadata": {
  "kernelspec": {
   "display_name": "cellpy",
   "language": "python",
   "name": "python3"
  },
  "language_info": {
   "codemirror_mode": {
    "name": "ipython",
    "version": 3
   },
   "file_extension": ".py",
   "mimetype": "text/x-python",
   "name": "python",
   "nbconvert_exporter": "python",
   "pygments_lexer": "ipython3",
   "version": "3.7.3"
  }
 },
 "nbformat": 4,
 "nbformat_minor": 2
}
