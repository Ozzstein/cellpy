{
 "cells": [
  {
   "cell_type": "markdown",
   "metadata": {},
   "source": [
    "# Cellpy batch \n",
    "\n",
    "\n",
    "*Author: Jan Petter Mæhlen, IFE*\n",
    "\n",
    "*Date: 2018-10-17*"
   ]
  },
  {
   "cell_type": "markdown",
   "metadata": {},
   "source": [
    "## Setting up the project"
   ]
  },
  {
   "cell_type": "markdown",
   "metadata": {},
   "source": [
    "### Imports"
   ]
  },
  {
   "cell_type": "code",
   "execution_count": 1,
   "metadata": {},
   "outputs": [],
   "source": [
    "%load_ext autoreload\n",
    "%autoreload 2"
   ]
  },
  {
   "cell_type": "code",
   "execution_count": 2,
   "metadata": {},
   "outputs": [],
   "source": [
    "%matplotlib widget\n",
    "# import seaborn as sbn # can be used for getting nice colormaps and good settings of the matplotlib rc"
   ]
  },
  {
   "cell_type": "code",
   "execution_count": 3,
   "metadata": {},
   "outputs": [],
   "source": [
    "from cellpy.utils import batch\n",
    "from cellpy import prms"
   ]
  },
  {
   "cell_type": "markdown",
   "metadata": {},
   "source": [
    "### Need to load some data to play with"
   ]
  },
  {
   "cell_type": "code",
   "execution_count": 5,
   "metadata": {},
   "outputs": [],
   "source": [
    "import os"
   ]
  },
  {
   "cell_type": "code",
   "execution_count": null,
   "metadata": {},
   "outputs": [],
   "source": []
  },
  {
   "cell_type": "code",
   "execution_count": null,
   "metadata": {},
   "outputs": [],
   "source": []
  },
  {
   "cell_type": "code",
   "execution_count": null,
   "metadata": {},
   "outputs": [],
   "source": []
  },
  {
   "cell_type": "code",
   "execution_count": 6,
   "metadata": {},
   "outputs": [],
   "source": [
    "current_file_path = os.getcwd()\n",
    "relative_test_data_dir = \"../testdata\"\n",
    "test_data_dir = os.path.abspath(os.path.join(current_file_path, relative_test_data_dir))\n",
    "test_data_dir_raw = os.path.join(test_data_dir, \"data\")\n",
    "test_res_file = \"20160805_test001_45_cc_01.res\"\n",
    "test_res_file_full = os.path.join(test_data_dir_raw,test_res_file)\n",
    "test_data_dir_out = os.path.join(test_data_dir, \"out\")\n",
    "test_data_dir_cellpy = os.path.join(test_data_dir, \"hdf5\")\n",
    "test_cellpy_file = \"20160805_test001_45_cc.h5\"\n",
    "test_cellpy_file_tmp = \"tmpfile.h5\"\n",
    "test_cellpy_file_full = os.path.join(test_data_dir_cellpy,test_cellpy_file)\n",
    "test_cellpy_file_tmp_full = os.path.join(test_data_dir_cellpy,test_cellpy_file_tmp)\n",
    "test_run_name = \"20160805_test001_45_cc\""
   ]
  },
  {
   "cell_type": "code",
   "execution_count": null,
   "metadata": {},
   "outputs": [],
   "source": []
  },
  {
   "cell_type": "markdown",
   "metadata": {},
   "source": [
    "## Checking if we can do any lookup in the cellpyfiles"
   ]
  },
  {
   "cell_type": "code",
   "execution_count": null,
   "metadata": {},
   "outputs": [],
   "source": []
  },
  {
   "cell_type": "code",
   "execution_count": 7,
   "metadata": {},
   "outputs": [],
   "source": [
    "import pandas as pd\n",
    "import matplotlib.pyplot as plt"
   ]
  },
  {
   "cell_type": "markdown",
   "metadata": {},
   "source": [
    "infoname = '/CellpyData/info'\n",
    "dataname = '/CellpyData/dfdata'\n",
    "summaryname = '/CellpyData/dfsummary'\n",
    "fidname = '/CellpyData/fidtable'\n",
    "stepname = '/CellpyData/step_table'"
   ]
  },
  {
   "cell_type": "markdown",
   "metadata": {},
   "source": [
    "v_hdr = \"Voltage\"\n",
    "c_hdr = \"Charge_Capacity\"\n",
    "d_hdr = \"Discharge_Capacity\"\n",
    "i_hdr = \"Current\"\n"
   ]
  },
  {
   "cell_type": "markdown",
   "metadata": {},
   "source": [
    "### Defining some functions"
   ]
  },
  {
   "cell_type": "code",
   "execution_count": 9,
   "metadata": {},
   "outputs": [],
   "source": [
    "def _query_dfdata(store, q):\n",
    "    return store.select('/CellpyData/dfdata', q)"
   ]
  },
  {
   "cell_type": "code",
   "execution_count": 10,
   "metadata": {},
   "outputs": [],
   "source": [
    "def _convert_to_specific(s, mass):\n",
    "    return  s*1000000.0 / mass\n",
    "    "
   ]
  },
  {
   "cell_type": "code",
   "execution_count": 11,
   "metadata": {},
   "outputs": [],
   "source": [
    "def _make_selectors(t):\n",
    "    if not t.lower() in [\n",
    "        \"galvanostatic_charge\", \"galvanostatic_discharge\",\n",
    "        \"cycle\", \"ocv\",\n",
    "        \"discharge\", \"cv_discharge\", \"charge\", \"cv_charge\", \"ocvrlx_up\", \"ocvrlx_down\",\n",
    "    ]:\n",
    "        # error-message here\n",
    "        return\n",
    "    selectors = []\n",
    "    if t.lower() == \"galvanostatic_charge\":\n",
    "        selectors.append(\"charge\")\n",
    "    elif t.lower() == \"galvanostatic_discharge\": \n",
    "        selectors.append(\"discharge\")\n",
    "    elif t.lower() == \"charge\": \n",
    "        selectors.extend([\"charge\", \"cv_charge\"])\n",
    "    elif t.lower() == \"discharge\": \n",
    "        selectors.extend([\"discharge\", \"cv_discharge\"])\n",
    "    elif t.lower() == \"cycle\": \n",
    "        selectors.extend([\"charge\", \"discharge\"])\n",
    "    elif t.lower() == \"ocv\": \n",
    "        selectors.extend([\"ocvrlx_down\", \"ocvrlx_up\"])\n",
    "    else:\n",
    "        selectors.append(t.lower())\n",
    "                \n",
    "    return(selectors)\n"
   ]
  },
  {
   "cell_type": "code",
   "execution_count": 12,
   "metadata": {},
   "outputs": [],
   "source": [
    "def _get_step_table(file_name):\n",
    "    step_name = '/CellpyData/step_table'\n",
    "    with pd.HDFStore(file_name) as store:\n",
    "        step_table = store.select(step_name)\n",
    "    return step_table\n"
   ]
  },
  {
   "cell_type": "code",
   "execution_count": 19,
   "metadata": {},
   "outputs": [],
   "source": [
    "def _get_info_name(file_name):\n",
    "    info_name = '/CellpyData/info'\n",
    "    with pd.HDFStore(file_name) as store:\n",
    "        info_table = store.select(info_name)\n",
    "    return info_table\n"
   ]
  },
  {
   "cell_type": "code",
   "execution_count": 13,
   "metadata": {},
   "outputs": [],
   "source": [
    "def _filter_step_table(selectors, step_table, cycle_numbers):\n",
    "    steps = step_table.type.isin(selectors) & step_table.cycle.isin(cycle_numbers)\n",
    "    return step_table.loc[steps]"
   ]
  },
  {
   "cell_type": "code",
   "execution_count": 14,
   "metadata": {},
   "outputs": [],
   "source": [
    "def _generate_cycle_data_query(a, headers=None):\n",
    "    \"\"\"create cycle query from a step_table DataFrame\"\"\"\n",
    "    a = a[[\"point_first\", \"point_last\"]]\n",
    "    if headers is None:\n",
    "        headers = [\n",
    "            \"Step_Time\",\n",
    "            \"Voltage\",\n",
    "            \"Charge_Capacity\",\n",
    "            \"Discharge_Capacity\",\n",
    "            \"Current\"\n",
    "        ]\n",
    "        \n",
    "    sections = []\n",
    "    for points in a.iterrows():\n",
    "        p1, p2 = points[-1].values\n",
    "        sections.append(f\"(index>={p1} & index<={p2})\")\n",
    "    q = \" | \".join(sections)\n",
    "    \n",
    "    hdr_txts = []\n",
    "    for h in headers:\n",
    "        hdr_txts.append(f\"'{h}'\")\n",
    "    hdr_txt = \", \".join(hdr_txts)\n",
    "    q += f\" & columns = [{hdr_txt}]\"\n",
    "    return q"
   ]
  },
  {
   "cell_type": "markdown",
   "metadata": {},
   "source": [
    "### Testing if the functions work"
   ]
  },
  {
   "cell_type": "code",
   "execution_count": 34,
   "metadata": {},
   "outputs": [],
   "source": [
    "cellpyfile = test_cellpy_file_full\n",
    "step_table = _get_step_table(cellpyfile)"
   ]
  },
  {
   "cell_type": "code",
   "execution_count": 35,
   "metadata": {},
   "outputs": [],
   "source": [
    "info_table = _get_info_name(cellpyfile)"
   ]
  },
  {
   "cell_type": "code",
   "execution_count": 36,
   "metadata": {},
   "outputs": [],
   "source": [
    "mass = float(info_table.mass)"
   ]
  },
  {
   "cell_type": "code",
   "execution_count": 37,
   "metadata": {},
   "outputs": [],
   "source": [
    "cycle_numbers = [3]"
   ]
  },
  {
   "cell_type": "code",
   "execution_count": 38,
   "metadata": {},
   "outputs": [],
   "source": [
    "with pd.HDFStore(cellpyfile) as store:\n",
    "    selectors = _make_selectors(\"cycle\")\n",
    "    a = _filter_step_table(selectors, step_table, cycle_numbers=cycle_numbers)\n",
    "    q = _generate_cycle_data_query(a)\n",
    "    c = _query_dfdata(store, q)\n",
    "    c[\"Charge_Capacity\"] = _convert_to_specific(c[\"Charge_Capacity\"], mass)\n",
    "    c[\"Discharge_Capacity\"] = _convert_to_specific(c[\"Discharge_Capacity\"], mass)"
   ]
  },
  {
   "cell_type": "code",
   "execution_count": 40,
   "metadata": {},
   "outputs": [
    {
     "data": {
      "text/html": [
       "<div>\n",
       "<style scoped>\n",
       "    .dataframe tbody tr th:only-of-type {\n",
       "        vertical-align: middle;\n",
       "    }\n",
       "\n",
       "    .dataframe tbody tr th {\n",
       "        vertical-align: top;\n",
       "    }\n",
       "\n",
       "    .dataframe thead th {\n",
       "        text-align: right;\n",
       "    }\n",
       "</style>\n",
       "<table border=\"1\" class=\"dataframe\">\n",
       "  <thead>\n",
       "    <tr style=\"text-align: right;\">\n",
       "      <th></th>\n",
       "      <th>Step_Time</th>\n",
       "      <th>Current</th>\n",
       "      <th>Voltage</th>\n",
       "      <th>Charge_Capacity</th>\n",
       "      <th>Discharge_Capacity</th>\n",
       "    </tr>\n",
       "  </thead>\n",
       "  <tbody>\n",
       "    <tr>\n",
       "      <th>count</th>\n",
       "      <td>768.000000</td>\n",
       "      <td>768.000000</td>\n",
       "      <td>768.000000</td>\n",
       "      <td>768.000000</td>\n",
       "      <td>768.000000</td>\n",
       "    </tr>\n",
       "    <tr>\n",
       "      <th>mean</th>\n",
       "      <td>18395.104785</td>\n",
       "      <td>-0.000002</td>\n",
       "      <td>0.369468</td>\n",
       "      <td>456.146432</td>\n",
       "      <td>1106.333485</td>\n",
       "    </tr>\n",
       "    <tr>\n",
       "      <th>std</th>\n",
       "      <td>12877.350641</td>\n",
       "      <td>0.000153</td>\n",
       "      <td>0.225929</td>\n",
       "      <td>599.924719</td>\n",
       "      <td>598.334572</td>\n",
       "    </tr>\n",
       "    <tr>\n",
       "      <th>min</th>\n",
       "      <td>0.016000</td>\n",
       "      <td>-0.000153</td>\n",
       "      <td>0.049894</td>\n",
       "      <td>0.000000</td>\n",
       "      <td>0.002021</td>\n",
       "    </tr>\n",
       "    <tr>\n",
       "      <th>25%</th>\n",
       "      <td>6562.532781</td>\n",
       "      <td>-0.000152</td>\n",
       "      <td>0.210547</td>\n",
       "      <td>0.000000</td>\n",
       "      <td>586.389208</td>\n",
       "    </tr>\n",
       "    <tr>\n",
       "      <th>50%</th>\n",
       "      <td>18075.800431</td>\n",
       "      <td>-0.000152</td>\n",
       "      <td>0.305000</td>\n",
       "      <td>0.000000</td>\n",
       "      <td>1559.847765</td>\n",
       "    </tr>\n",
       "    <tr>\n",
       "      <th>75%</th>\n",
       "      <td>29589.076835</td>\n",
       "      <td>0.000154</td>\n",
       "      <td>0.501987</td>\n",
       "      <td>920.236324</td>\n",
       "      <td>1585.720948</td>\n",
       "    </tr>\n",
       "    <tr>\n",
       "      <th>max</th>\n",
       "      <td>40588.536438</td>\n",
       "      <td>0.000154</td>\n",
       "      <td>1.000113</td>\n",
       "      <td>1731.507588</td>\n",
       "      <td>1585.720948</td>\n",
       "    </tr>\n",
       "  </tbody>\n",
       "</table>\n",
       "</div>"
      ],
      "text/plain": [
       "          Step_Time     Current     Voltage  Charge_Capacity  \\\n",
       "count    768.000000  768.000000  768.000000       768.000000   \n",
       "mean   18395.104785   -0.000002    0.369468       456.146432   \n",
       "std    12877.350641    0.000153    0.225929       599.924719   \n",
       "min        0.016000   -0.000153    0.049894         0.000000   \n",
       "25%     6562.532781   -0.000152    0.210547         0.000000   \n",
       "50%    18075.800431   -0.000152    0.305000         0.000000   \n",
       "75%    29589.076835    0.000154    0.501987       920.236324   \n",
       "max    40588.536438    0.000154    1.000113      1731.507588   \n",
       "\n",
       "       Discharge_Capacity  \n",
       "count          768.000000  \n",
       "mean          1106.333485  \n",
       "std            598.334572  \n",
       "min              0.002021  \n",
       "25%            586.389208  \n",
       "50%           1559.847765  \n",
       "75%           1585.720948  \n",
       "max           1585.720948  "
      ]
     },
     "execution_count": 40,
     "metadata": {},
     "output_type": "execute_result"
    }
   ],
   "source": [
    "c.describe()"
   ]
  },
  {
   "cell_type": "code",
   "execution_count": 41,
   "metadata": {},
   "outputs": [
    {
     "data": {
      "text/html": [
       "<div>\n",
       "<style scoped>\n",
       "    .dataframe tbody tr th:only-of-type {\n",
       "        vertical-align: middle;\n",
       "    }\n",
       "\n",
       "    .dataframe tbody tr th {\n",
       "        vertical-align: top;\n",
       "    }\n",
       "\n",
       "    .dataframe thead th {\n",
       "        text-align: right;\n",
       "    }\n",
       "</style>\n",
       "<table border=\"1\" class=\"dataframe\">\n",
       "  <thead>\n",
       "    <tr style=\"text-align: right;\">\n",
       "      <th></th>\n",
       "      <th>Step_Time</th>\n",
       "      <th>Current</th>\n",
       "      <th>Voltage</th>\n",
       "      <th>Charge_Capacity</th>\n",
       "      <th>Discharge_Capacity</th>\n",
       "    </tr>\n",
       "    <tr>\n",
       "      <th>Data_Point</th>\n",
       "      <th></th>\n",
       "      <th></th>\n",
       "      <th></th>\n",
       "      <th></th>\n",
       "      <th></th>\n",
       "    </tr>\n",
       "  </thead>\n",
       "  <tbody>\n",
       "    <tr>\n",
       "      <th>2284</th>\n",
       "      <td>0.047976</td>\n",
       "      <td>-0.000152</td>\n",
       "      <td>0.844310</td>\n",
       "      <td>0.0</td>\n",
       "      <td>0.002021</td>\n",
       "    </tr>\n",
       "    <tr>\n",
       "      <th>2285</th>\n",
       "      <td>0.927995</td>\n",
       "      <td>-0.000152</td>\n",
       "      <td>0.839075</td>\n",
       "      <td>0.0</td>\n",
       "      <td>0.039225</td>\n",
       "    </tr>\n",
       "    <tr>\n",
       "      <th>2286</th>\n",
       "      <td>2.650064</td>\n",
       "      <td>-0.000152</td>\n",
       "      <td>0.833840</td>\n",
       "      <td>0.0</td>\n",
       "      <td>0.112076</td>\n",
       "    </tr>\n",
       "    <tr>\n",
       "      <th>2287</th>\n",
       "      <td>4.732038</td>\n",
       "      <td>-0.000153</td>\n",
       "      <td>0.828606</td>\n",
       "      <td>0.0</td>\n",
       "      <td>0.200163</td>\n",
       "    </tr>\n",
       "    <tr>\n",
       "      <th>2288</th>\n",
       "      <td>7.123093</td>\n",
       "      <td>-0.000152</td>\n",
       "      <td>0.823371</td>\n",
       "      <td>0.0</td>\n",
       "      <td>0.301311</td>\n",
       "    </tr>\n",
       "  </tbody>\n",
       "</table>\n",
       "</div>"
      ],
      "text/plain": [
       "            Step_Time   Current   Voltage  Charge_Capacity  Discharge_Capacity\n",
       "Data_Point                                                                    \n",
       "2284         0.047976 -0.000152  0.844310              0.0            0.002021\n",
       "2285         0.927995 -0.000152  0.839075              0.0            0.039225\n",
       "2286         2.650064 -0.000152  0.833840              0.0            0.112076\n",
       "2287         4.732038 -0.000153  0.828606              0.0            0.200163\n",
       "2288         7.123093 -0.000152  0.823371              0.0            0.301311"
      ]
     },
     "execution_count": 41,
     "metadata": {},
     "output_type": "execute_result"
    }
   ],
   "source": [
    "c.head()"
   ]
  },
  {
   "cell_type": "markdown",
   "metadata": {},
   "source": [
    "#### Plotting"
   ]
  },
  {
   "cell_type": "code",
   "execution_count": 42,
   "metadata": {},
   "outputs": [
    {
     "data": {
      "application/vnd.jupyter.widget-view+json": {
       "model_id": "7aadf625d7734f85adab3d95c3d0a8ba",
       "version_major": 2,
       "version_minor": 0
      },
      "text/plain": [
       "FigureCanvasNbAgg()"
      ]
     },
     "metadata": {},
     "output_type": "display_data"
    },
    {
     "data": {
      "text/plain": [
       "<matplotlib.axes._subplots.AxesSubplot at 0xb18ef8e48>"
      ]
     },
     "execution_count": 42,
     "metadata": {},
     "output_type": "execute_result"
    }
   ],
   "source": [
    "c.plot.scatter(x=\"Charge_Capacity\", y=\"Voltage\", )"
   ]
  },
  {
   "cell_type": "code",
   "execution_count": 43,
   "metadata": {},
   "outputs": [],
   "source": [
    "with pd.HDFStore(cellpyfile) as store:\n",
    "    selectors = _make_selectors(\"galvanostatic_charge\")\n",
    "    a = _filter_step_table(selectors, step_table, cycle_numbers=cycle_numbers)\n",
    "    q = _generate_cycle_data_query(a)\n",
    "    gc = _query_dfdata(store, q)\n",
    "    gc[\"Charge_Capacity\"] = _convert_to_specific(gc[\"Charge_Capacity\"], mass)"
   ]
  },
  {
   "cell_type": "code",
   "execution_count": 44,
   "metadata": {},
   "outputs": [
    {
     "data": {
      "text/html": [
       "<div>\n",
       "<style scoped>\n",
       "    .dataframe tbody tr th:only-of-type {\n",
       "        vertical-align: middle;\n",
       "    }\n",
       "\n",
       "    .dataframe tbody tr th {\n",
       "        vertical-align: top;\n",
       "    }\n",
       "\n",
       "    .dataframe thead th {\n",
       "        text-align: right;\n",
       "    }\n",
       "</style>\n",
       "<table border=\"1\" class=\"dataframe\">\n",
       "  <thead>\n",
       "    <tr style=\"text-align: right;\">\n",
       "      <th></th>\n",
       "      <th>Step_Time</th>\n",
       "      <th>Current</th>\n",
       "      <th>Voltage</th>\n",
       "      <th>Charge_Capacity</th>\n",
       "      <th>Discharge_Capacity</th>\n",
       "    </tr>\n",
       "    <tr>\n",
       "      <th>Data_Point</th>\n",
       "      <th></th>\n",
       "      <th></th>\n",
       "      <th></th>\n",
       "      <th></th>\n",
       "      <th></th>\n",
       "    </tr>\n",
       "  </thead>\n",
       "  <tbody>\n",
       "    <tr>\n",
       "      <th>2709</th>\n",
       "      <td>0.016000</td>\n",
       "      <td>0.000154</td>\n",
       "      <td>0.107166</td>\n",
       "      <td>0.000684</td>\n",
       "      <td>0.001586</td>\n",
       "    </tr>\n",
       "    <tr>\n",
       "      <th>2710</th>\n",
       "      <td>3.010030</td>\n",
       "      <td>0.000154</td>\n",
       "      <td>0.112400</td>\n",
       "      <td>0.128401</td>\n",
       "      <td>0.001586</td>\n",
       "    </tr>\n",
       "    <tr>\n",
       "      <th>2711</th>\n",
       "      <td>18.349153</td>\n",
       "      <td>0.000154</td>\n",
       "      <td>0.117635</td>\n",
       "      <td>0.782761</td>\n",
       "      <td>0.001586</td>\n",
       "    </tr>\n",
       "    <tr>\n",
       "      <th>2712</th>\n",
       "      <td>46.428552</td>\n",
       "      <td>0.000154</td>\n",
       "      <td>0.122869</td>\n",
       "      <td>1.980588</td>\n",
       "      <td>0.001586</td>\n",
       "    </tr>\n",
       "    <tr>\n",
       "      <th>2713</th>\n",
       "      <td>85.142930</td>\n",
       "      <td>0.000154</td>\n",
       "      <td>0.128412</td>\n",
       "      <td>3.632003</td>\n",
       "      <td>0.001586</td>\n",
       "    </tr>\n",
       "  </tbody>\n",
       "</table>\n",
       "</div>"
      ],
      "text/plain": [
       "            Step_Time   Current   Voltage  Charge_Capacity  Discharge_Capacity\n",
       "Data_Point                                                                    \n",
       "2709         0.016000  0.000154  0.107166         0.000684            0.001586\n",
       "2710         3.010030  0.000154  0.112400         0.128401            0.001586\n",
       "2711        18.349153  0.000154  0.117635         0.782761            0.001586\n",
       "2712        46.428552  0.000154  0.122869         1.980588            0.001586\n",
       "2713        85.142930  0.000154  0.128412         3.632003            0.001586"
      ]
     },
     "execution_count": 44,
     "metadata": {},
     "output_type": "execute_result"
    }
   ],
   "source": [
    "gc.head()"
   ]
  },
  {
   "cell_type": "code",
   "execution_count": 59,
   "metadata": {},
   "outputs": [],
   "source": [
    "def get_charge_cycle(step_table, cycle_number, mass):\n",
    "    headers = [\n",
    "            \"Step_Time\",\n",
    "            \"Voltage\",\n",
    "            \"Charge_Capacity\",\n",
    "            #\"Discharge_Capacity\",\n",
    "            #\"Current\"\n",
    "        ]\n",
    "    with pd.HDFStore(cellpyfile) as store:\n",
    "        selectors = _make_selectors(\"galvanostatic_charge\")\n",
    "        a = _filter_step_table(selectors, step_table, cycle_numbers=[cycle_number])\n",
    "        q = _generate_cycle_data_query(a)\n",
    "        gc = _query_dfdata(store, q)\n",
    "        gc[\"Charge_Capacity\"] = _convert_to_specific(gc[\"Charge_Capacity\"], mass)\n",
    "    return gc"
   ]
  },
  {
   "cell_type": "code",
   "execution_count": 150,
   "metadata": {},
   "outputs": [],
   "source": [
    "cycles = list(step_table.cycle.unique())\n",
    "number_of_cycles = len(cycles)"
   ]
  },
  {
   "cell_type": "code",
   "execution_count": 151,
   "metadata": {},
   "outputs": [
    {
     "name": "stdout",
     "output_type": "stream",
     "text": [
      "could not extract cycle 18\n",
      "Python keyword not valid identifier in numexpr query (<unknown>, line 1)\n"
     ]
    }
   ],
   "source": [
    "charge_cycles = []\n",
    "for n in cycles[:]:\n",
    "    try:\n",
    "        cycle = get_charge_cycle(step_table, n, mass)\n",
    "    except SyntaxError as e:\n",
    "        print(f\"could not extract cycle {n}\")\n",
    "        print(e)\n",
    "        \n",
    "    charge_cycles.append(cycle)"
   ]
  },
  {
   "cell_type": "code",
   "execution_count": 152,
   "metadata": {},
   "outputs": [],
   "source": [
    "from cellpy.utils import ica"
   ]
  },
  {
   "cell_type": "code",
   "execution_count": 153,
   "metadata": {},
   "outputs": [],
   "source": [
    "import matplotlib.style\n",
    "import matplotlib as mpl\n",
    "import numpy as np\n",
    "mpl.style.use('seaborn')"
   ]
  },
  {
   "cell_type": "code",
   "execution_count": 163,
   "metadata": {},
   "outputs": [],
   "source": [
    "colormap = \"viridis\""
   ]
  },
  {
   "cell_type": "markdown",
   "metadata": {},
   "source": [
    "\n",
    "Accent, Accent_r, Blues, Blues_r, BrBG, BrBG_r, BuGn, BuGn_r, BuPu, BuPu_r, CMRmap, CMRmap_r, Dark2, Dark2_r, GnBu, GnBu_r, Greens, Greens_r, Greys, Greys_r, OrRd, OrRd_r, Oranges, Oranges_r, PRGn, PRGn_r, Paired, Paired_r, Pastel1, Pastel1_r, Pastel2, Pastel2_r, PiYG, PiYG_r, PuBu, PuBuGn, PuBuGn_r, PuBu_r, PuOr, PuOr_r, PuRd, PuRd_r, Purples, Purples_r, RdBu, RdBu_r, RdGy, RdGy_r, RdPu, RdPu_r, RdYlBu, RdYlBu_r, RdYlGn, RdYlGn_r, Reds, Reds_r, Set1, Set1_r, Set2, Set2_r, Set3, Set3_r, Spectral, Spectral_r, Wistia, Wistia_r, YlGn, YlGnBu, YlGnBu_r, YlGn_r, YlOrBr, YlOrBr_r, YlOrRd, YlOrRd_r, afmhot, afmhot_r, autumn, autumn_r, binary, binary_r, bone, bone_r, brg, brg_r, bwr, bwr_r, cividis, cividis_r, cool, cool_r, coolwarm, coolwarm_r, copper, copper_r, cubehelix, cubehelix_r, flag, flag_r, gist_earth, gist_earth_r, gist_gray, gist_gray_r, gist_heat, gist_heat_r, gist_ncar, gist_ncar_r, gist_rainbow, gist_rainbow_r, gist_stern, gist_stern_r, gist_yarg, gist_yarg_r, gnuplot, gnuplot2, gnuplot2_r, gnuplot_r, gray, gray_r, hot, hot_r, hsv, hsv_r, inferno, inferno_r, jet, jet_r, magma, magma_r, nipy_spectral, nipy_spectral_r, ocean, ocean_r, pink, pink_r, plasma, plasma_r, prism, prism_r, rainbow, rainbow_r, seismic, seismic_r, spring, spring_r, summer, summer_r, tab10, tab10_r, tab20, tab20_r, tab20b, tab20b_r, tab20c, tab20c_r, terrain, terrain_r, viridis, viridis_r, winter, winter_r"
   ]
  },
  {
   "cell_type": "code",
   "execution_count": 168,
   "metadata": {},
   "outputs": [
    {
     "ename": "ValueError",
     "evalue": "Colormap hm is not recognized. Possible values are: Accent, Accent_r, Blues, Blues_r, BrBG, BrBG_r, BuGn, BuGn_r, BuPu, BuPu_r, CMRmap, CMRmap_r, Dark2, Dark2_r, GnBu, GnBu_r, Greens, Greens_r, Greys, Greys_r, OrRd, OrRd_r, Oranges, Oranges_r, PRGn, PRGn_r, Paired, Paired_r, Pastel1, Pastel1_r, Pastel2, Pastel2_r, PiYG, PiYG_r, PuBu, PuBuGn, PuBuGn_r, PuBu_r, PuOr, PuOr_r, PuRd, PuRd_r, Purples, Purples_r, RdBu, RdBu_r, RdGy, RdGy_r, RdPu, RdPu_r, RdYlBu, RdYlBu_r, RdYlGn, RdYlGn_r, Reds, Reds_r, Set1, Set1_r, Set2, Set2_r, Set3, Set3_r, Spectral, Spectral_r, Wistia, Wistia_r, YlGn, YlGnBu, YlGnBu_r, YlGn_r, YlOrBr, YlOrBr_r, YlOrRd, YlOrRd_r, afmhot, afmhot_r, autumn, autumn_r, binary, binary_r, bone, bone_r, brg, brg_r, bwr, bwr_r, cividis, cividis_r, cool, cool_r, coolwarm, coolwarm_r, copper, copper_r, cubehelix, cubehelix_r, flag, flag_r, gist_earth, gist_earth_r, gist_gray, gist_gray_r, gist_heat, gist_heat_r, gist_ncar, gist_ncar_r, gist_rainbow, gist_rainbow_r, gist_stern, gist_stern_r, gist_yarg, gist_yarg_r, gnuplot, gnuplot2, gnuplot2_r, gnuplot_r, gray, gray_r, hot, hot_r, hsv, hsv_r, inferno, inferno_r, jet, jet_r, magma, magma_r, nipy_spectral, nipy_spectral_r, ocean, ocean_r, pink, pink_r, plasma, plasma_r, prism, prism_r, rainbow, rainbow_r, seismic, seismic_r, spring, spring_r, summer, summer_r, tab10, tab10_r, tab20, tab20_r, tab20b, tab20b_r, tab20c, tab20c_r, terrain, terrain_r, viridis, viridis_r, winter, winter_r",
     "output_type": "error",
     "traceback": [
      "\u001b[0;31m---------------------------------------------------------------------------\u001b[0m",
      "\u001b[0;31mValueError\u001b[0m                                Traceback (most recent call last)",
      "\u001b[0;32m<ipython-input-168-5f5eeb4ed523>\u001b[0m in \u001b[0;36m<module>\u001b[0;34m()\u001b[0m\n\u001b[0;32m----> 1\u001b[0;31m \u001b[0mcmmm\u001b[0m \u001b[0;34m=\u001b[0m \u001b[0mplt\u001b[0m\u001b[0;34m.\u001b[0m\u001b[0mcm\u001b[0m\u001b[0;34m.\u001b[0m\u001b[0mget_cmap\u001b[0m\u001b[0;34m(\u001b[0m\u001b[0;34m\"hm\"\u001b[0m\u001b[0;34m)\u001b[0m\u001b[0;34m\u001b[0m\u001b[0m\n\u001b[0m",
      "\u001b[0;32m~/miniconda3/envs/cellpy/lib/python3.6/site-packages/matplotlib/cm.py\u001b[0m in \u001b[0;36mget_cmap\u001b[0;34m(name, lut)\u001b[0m\n\u001b[1;32m    166\u001b[0m         raise ValueError(\n\u001b[1;32m    167\u001b[0m             \u001b[0;34m\"Colormap %s is not recognized. Possible values are: %s\"\u001b[0m\u001b[0;34m\u001b[0m\u001b[0m\n\u001b[0;32m--> 168\u001b[0;31m             % (name, ', '.join(sorted(cmap_d))))\n\u001b[0m\u001b[1;32m    169\u001b[0m \u001b[0;34m\u001b[0m\u001b[0m\n\u001b[1;32m    170\u001b[0m \u001b[0;34m\u001b[0m\u001b[0m\n",
      "\u001b[0;31mValueError\u001b[0m: Colormap hm is not recognized. Possible values are: Accent, Accent_r, Blues, Blues_r, BrBG, BrBG_r, BuGn, BuGn_r, BuPu, BuPu_r, CMRmap, CMRmap_r, Dark2, Dark2_r, GnBu, GnBu_r, Greens, Greens_r, Greys, Greys_r, OrRd, OrRd_r, Oranges, Oranges_r, PRGn, PRGn_r, Paired, Paired_r, Pastel1, Pastel1_r, Pastel2, Pastel2_r, PiYG, PiYG_r, PuBu, PuBuGn, PuBuGn_r, PuBu_r, PuOr, PuOr_r, PuRd, PuRd_r, Purples, Purples_r, RdBu, RdBu_r, RdGy, RdGy_r, RdPu, RdPu_r, RdYlBu, RdYlBu_r, RdYlGn, RdYlGn_r, Reds, Reds_r, Set1, Set1_r, Set2, Set2_r, Set3, Set3_r, Spectral, Spectral_r, Wistia, Wistia_r, YlGn, YlGnBu, YlGnBu_r, YlGn_r, YlOrBr, YlOrBr_r, YlOrRd, YlOrRd_r, afmhot, afmhot_r, autumn, autumn_r, binary, binary_r, bone, bone_r, brg, brg_r, bwr, bwr_r, cividis, cividis_r, cool, cool_r, coolwarm, coolwarm_r, copper, copper_r, cubehelix, cubehelix_r, flag, flag_r, gist_earth, gist_earth_r, gist_gray, gist_gray_r, gist_heat, gist_heat_r, gist_ncar, gist_ncar_r, gist_rainbow, gist_rainbow_r, gist_stern, gist_stern_r, gist_yarg, gist_yarg_r, gnuplot, gnuplot2, gnuplot2_r, gnuplot_r, gray, gray_r, hot, hot_r, hsv, hsv_r, inferno, inferno_r, jet, jet_r, magma, magma_r, nipy_spectral, nipy_spectral_r, ocean, ocean_r, pink, pink_r, plasma, plasma_r, prism, prism_r, rainbow, rainbow_r, seismic, seismic_r, spring, spring_r, summer, summer_r, tab10, tab10_r, tab20, tab20_r, tab20b, tab20b_r, tab20c, tab20c_r, terrain, terrain_r, viridis, viridis_r, winter, winter_r"
     ]
    }
   ],
   "source": [
    "cmmm = plt.cm.get_cmap(\"hm\")"
   ]
  },
  {
   "cell_type": "code",
   "execution_count": 166,
   "metadata": {},
   "outputs": [],
   "source": [
    "cmap = plt.cm.get_cmap(colormap)(np.linspace(0, 1, number_of_cycles+10))"
   ]
  },
  {
   "cell_type": "code",
   "execution_count": 167,
   "metadata": {},
   "outputs": [
    {
     "data": {
      "application/vnd.jupyter.widget-view+json": {
       "model_id": "94ee859e656140919b46b1936f9e9df8",
       "version_major": 2,
       "version_minor": 0
      },
      "text/plain": [
       "FigureCanvasNbAgg()"
      ]
     },
     "metadata": {},
     "output_type": "display_data"
    },
    {
     "data": {
      "text/plain": [
       "Text(0.5,0,'Voltage (V vs Li+/Li)')"
      ]
     },
     "execution_count": 167,
     "metadata": {},
     "output_type": "execute_result"
    }
   ],
   "source": [
    "fig, (ax1, ax2) = plt.subplots(2,1, sharex=True)\n",
    "for i, frame in enumerate(charge_cycles):\n",
    "    ax1.plot(frame.Voltage, frame.Charge_Capacity, label=str(i+1), color=cmap[i])\n",
    "    v, dq = ica.dqdv(frame.Voltage, frame.Charge_Capacity)\n",
    "    ax2.plot(v, dq, color=cmap[i])\n",
    "ax1.legend(ncol=3, loc=4, frameon=True)\n",
    "ax1.set_ylabel(\"Charge capacity (mAh/g)\")\n",
    "ax2.set_xlabel(\"Voltage (V vs Li+/Li)\")"
   ]
  },
  {
   "cell_type": "code",
   "execution_count": 125,
   "metadata": {},
   "outputs": [],
   "source": []
  },
  {
   "cell_type": "code",
   "execution_count": 126,
   "metadata": {},
   "outputs": [
    {
     "data": {
      "text/plain": [
       "<matplotlib.colors.LinearSegmentedColormap at 0x107a94be0>"
      ]
     },
     "execution_count": 126,
     "metadata": {},
     "output_type": "execute_result"
    }
   ],
   "source": []
  },
  {
   "cell_type": "code",
   "execution_count": null,
   "metadata": {},
   "outputs": [],
   "source": []
  }
 ],
 "metadata": {
  "kernelspec": {
   "display_name": "Python3 (cellpy)",
   "language": "python",
   "name": "cellpy"
  },
  "language_info": {
   "codemirror_mode": {
    "name": "ipython",
    "version": 3
   },
   "file_extension": ".py",
   "mimetype": "text/x-python",
   "name": "python",
   "nbconvert_exporter": "python",
   "pygments_lexer": "ipython3",
   "version": "3.6.5"
  }
 },
 "nbformat": 4,
 "nbformat_minor": 2
}
