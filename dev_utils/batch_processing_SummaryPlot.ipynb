{
 "cells": [
  {
   "cell_type": "markdown",
   "metadata": {},
   "source": [
    "# Batch processing"
   ]
  },
  {
   "cell_type": "code",
   "execution_count": null,
   "metadata": {},
   "outputs": [],
   "source": [
    "%load_ext autoreload\n",
    "%autoreload 2"
   ]
  },
  {
   "cell_type": "code",
   "execution_count": null,
   "metadata": {},
   "outputs": [],
   "source": [
    "import cellpy\n",
    "from cellpy import prms\n",
    "from cellpy import prmreader\n",
    "from cellpy.utils import batch"
   ]
  },
  {
   "cell_type": "code",
   "execution_count": null,
   "metadata": {},
   "outputs": [],
   "source": [
    "######################################################################\n",
    "##                                                                  ##\n",
    "##                       development                                ##\n",
    "##                                                                  ##\n",
    "######################################################################\n",
    "\n",
    "from pathlib import Path\n",
    "from pprint import pprint\n",
    "\n",
    "# Use these when working on my work PC:\n",
    "test_data_path = r\"C:\\Scripting\\MyFiles\\development_cellpy\\testdata\"\n",
    "out_data_path = r\"C:\\Scripting\\Processing\\Test\\out\"\n",
    "\n",
    "# Use these when working on my MacBook:\n",
    "test_data_path = \"/Users/jepe/scripting/cellpy/testdata\"\n",
    "out_data_path = \"/Users/jepe/cellpy_data\"\n",
    "\n",
    "test_data_path = Path(test_data_path)\n",
    "out_data_path = Path(out_data_path)\n",
    "\n",
    "print(\" SETTING SOME PRMS \".center(80, \"=\"))\n",
    "prms.Paths[\"db_filename\"] = \"cellpy_db.xlsx\"\n",
    "prms.Paths[\"cellpydatadir\"] = test_data_path / \"hdf5\"\n",
    "prms.Paths[\"outdatadir\"] = out_data_path\n",
    "prms.Paths[\"rawdatadir\"] = test_data_path / \"data\"\n",
    "prms.Paths[\"db_path\"] = test_data_path / \"db\"\n",
    "prms.Paths[\"filelogdir\"] = test_data_path / \"log\"\n",
    "pprint(prms.Paths)"
   ]
  },
  {
   "cell_type": "code",
   "execution_count": null,
   "metadata": {},
   "outputs": [],
   "source": [
    "# prmreader.info()"
   ]
  },
  {
   "cell_type": "code",
   "execution_count": null,
   "metadata": {},
   "outputs": [],
   "source": [
    "project = \"prebens_experiment\"\n",
    "name = \"test\"\n",
    "batch_col = \"b01\"\n",
    "\n",
    "print(\" INITIALISATION OF BATCH \".center(80, \"=\"))\n",
    "b = batch.init(name, project, batch_col=batch_col)\n",
    "print(b)"
   ]
  },
  {
   "cell_type": "code",
   "execution_count": null,
   "metadata": {},
   "outputs": [],
   "source": [
    "# setting some prms\n",
    "b.experiment.export_raw = True\n",
    "b.experiment.export_cycles = True\n",
    "b.experiment.export_ica = True"
   ]
  },
  {
   "cell_type": "code",
   "execution_count": null,
   "metadata": {},
   "outputs": [],
   "source": [
    "b.create_info_df()"
   ]
  },
  {
   "cell_type": "code",
   "execution_count": null,
   "metadata": {},
   "outputs": [],
   "source": [
    "b.create_folder_structure()"
   ]
  },
  {
   "cell_type": "code",
   "execution_count": null,
   "metadata": {},
   "outputs": [],
   "source": [
    "b.load_and_save_raw()"
   ]
  },
  {
   "cell_type": "code",
   "execution_count": null,
   "metadata": {},
   "outputs": [],
   "source": [
    "b.make_summaries()\n",
    "print(\"---FINISHED---\")"
   ]
  },
  {
   "cell_type": "code",
   "execution_count": null,
   "metadata": {},
   "outputs": [],
   "source": [
    "b.plot_summaries()"
   ]
  },
  {
   "cell_type": "code",
   "execution_count": null,
   "metadata": {},
   "outputs": [],
   "source": [
    "b.experiment.status()"
   ]
  },
  {
   "cell_type": "code",
   "execution_count": null,
   "metadata": {},
   "outputs": [],
   "source": [
    "b.summaries.head()"
   ]
  },
  {
   "cell_type": "markdown",
   "metadata": {},
   "source": [
    "## Developing the CyclingSummaryPlotter"
   ]
  },
  {
   "cell_type": "code",
   "execution_count": null,
   "metadata": {},
   "outputs": [],
   "source": [
    "import time\n",
    "import pandas\n",
    "\n",
    "from cellpy.utils.batch_tools import (\n",
    "    batch_experiments,\n",
    "    batch_exporters,\n",
    "    batch_journals,\n",
    "    batch_plotters,\n",
    "    dumpers,\n",
    "    engines,\n",
    ")\n",
    "from cellpy import log\n"
   ]
  },
  {
   "cell_type": "code",
   "execution_count": null,
   "metadata": {},
   "outputs": [],
   "source": [
    "log.setup_logging(default_level=\"DEBUG\")"
   ]
  },
  {
   "cell_type": "code",
   "execution_count": null,
   "metadata": {},
   "outputs": [],
   "source": [
    "plotter = batch_plotters.CyclingSummaryPlotter(b.experiment)"
   ]
  },
  {
   "cell_type": "code",
   "execution_count": null,
   "metadata": {},
   "outputs": [],
   "source": [
    "import bokeh.plotting"
   ]
  },
  {
   "cell_type": "code",
   "execution_count": null,
   "metadata": {},
   "outputs": [],
   "source": [
    "bokeh.plotting.output_notebook()"
   ]
  },
  {
   "cell_type": "code",
   "execution_count": null,
   "metadata": {},
   "outputs": [],
   "source": [
    "plotter.do()"
   ]
  },
  {
   "cell_type": "code",
   "execution_count": null,
   "metadata": {},
   "outputs": [],
   "source": []
  },
  {
   "cell_type": "code",
   "execution_count": null,
   "metadata": {},
   "outputs": [],
   "source": []
  },
  {
   "cell_type": "code",
   "execution_count": null,
   "metadata": {},
   "outputs": [],
   "source": []
  },
  {
   "cell_type": "code",
   "execution_count": null,
   "metadata": {},
   "outputs": [],
   "source": [
    "b.summaries.columns.get_level_values(0)"
   ]
  },
  {
   "cell_type": "code",
   "execution_count": null,
   "metadata": {},
   "outputs": [],
   "source": [
    "discharge_capacity = b.summaries.discharge_capacity\n",
    "charge_capacity = b.summaries.charge_capacity\n",
    "coulombic_efficiency = b.summaries.coulombic_efficiency\n",
    "ir_charge = b.summaries.ir_charge"
   ]
  },
  {
   "cell_type": "code",
   "execution_count": null,
   "metadata": {},
   "outputs": [],
   "source": [
    "import itertools\n",
    "from bokeh.plotting import figure, output_notebook, show\n",
    "from bokeh.models import ColumnDataSource, Range1d, HoverTool\n",
    "from bokeh.layouts import column\n",
    "from bokeh.models.annotations import Legend\n",
    "output_notebook()"
   ]
  },
  {
   "cell_type": "code",
   "execution_count": null,
   "metadata": {},
   "outputs": [],
   "source": [
    "def create_legend(info, c, option=\"clean\", use_index=False):\n",
    "    mass, loading, label = info.loc[c, [\"masses\", \"loadings\", \"labels\"]]\n",
    "    \n",
    "    if use_index or not label:\n",
    "        label = c.split(\"_\")\n",
    "        label = \"_\".join(label[1:])\n",
    "        \n",
    "    if option==\"clean\":\n",
    "        return label\n",
    "    \n",
    "    if option == \"mass\":\n",
    "        label = f\"{label} ({mass:.2f} mg)\"\n",
    "    elif option == \"loading\":\n",
    "        label = f\"{label} ({loading:.2f} mg/cm2)\"\n",
    "    elif option == \"all\":\n",
    "        label = f\"{label} ({mass:.2f} mg) ({loading:.2f} mg/cm2)\"\n",
    "        \n",
    "    return label"
   ]
  },
  {
   "cell_type": "code",
   "execution_count": null,
   "metadata": {},
   "outputs": [],
   "source": [
    "c = \"20160805_test001_45_cc\"\n",
    "x = create_legend(b.info_df, c, option=\"all\")\n",
    "#print(c)\n",
    "#print(x)"
   ]
  },
  {
   "cell_type": "code",
   "execution_count": null,
   "metadata": {},
   "outputs": [],
   "source": [
    "#b.info_df"
   ]
  },
  {
   "cell_type": "code",
   "execution_count": null,
   "metadata": {},
   "outputs": [],
   "source": [
    "def look_up_group(info, c):\n",
    "    g, sg = info.loc[c, [\"groups\", \"sub_groups\"]]\n",
    "    return int(g), int(sg)\n"
   ]
  },
  {
   "cell_type": "code",
   "execution_count": null,
   "metadata": {},
   "outputs": [],
   "source": [
    "import bokeh.palettes"
   ]
  },
  {
   "cell_type": "code",
   "execution_count": null,
   "metadata": {},
   "outputs": [],
   "source": [
    "#palettes.brewer['YlGnBu']\n"
   ]
  },
  {
   "cell_type": "code",
   "execution_count": null,
   "metadata": {},
   "outputs": [],
   "source": [
    "def create_plot_option_dicts(info, marker_types=None, colors=None, line_dash=None, size=None):\n",
    "    \"\"\"Create two dictionaries with plot-options.\n",
    "    \n",
    "    The first iterates colors (based on group-number), the second iterates\n",
    "    through marker types.\n",
    "    \n",
    "    Returns: group_styles (dict), sub_group_styles (dict)\n",
    "    \"\"\"\n",
    "    \n",
    "    if marker_types is None:\n",
    "        marker_types = [\"circle\", \"square\", \"triangle\", \"invertedtriangle\", \"diamond\", \"cross\", \"asterix\"]\n",
    "        \n",
    "    if line_dash is None:\n",
    "        line_dash = [0, 0]\n",
    "        \n",
    "    if size is None:\n",
    "        size = 12\n",
    "        \n",
    "    groups = info.groups.unique()\n",
    "    number_of_groups = len(groups)\n",
    "    if colors is None:\n",
    "        if number_of_groups < 4:\n",
    "            # print(\"using 3\")\n",
    "            colors = bokeh.palettes.brewer['YlGnBu'][3]\n",
    "        else:\n",
    "            # print(f\"using {min(9, number_of_groups)}\")\n",
    "            colors = bokeh.palettes.brewer['YlGnBu'][min(9, number_of_groups)]\n",
    "    \n",
    "    sub_groups = info.sub_groups.unique()\n",
    "    \n",
    "    marker_it = itertools.cycle(marker_types)\n",
    "    colors_it = itertools.cycle(colors)\n",
    "\n",
    "    group_styles = dict()\n",
    "    sub_group_styles = dict()\n",
    "\n",
    "    for j in groups:\n",
    "        color = next(colors_it)\n",
    "        marker_options = {\n",
    "            \"line_color\": color,\n",
    "            \"fill_color\": color,\n",
    "        }\n",
    "\n",
    "        line_options = {\n",
    "            \"line_color\": color,\n",
    "        }\n",
    "        group_styles[j] = {\n",
    "            \"marker\": marker_options,\n",
    "            \"line\": line_options,\n",
    "        }\n",
    "\n",
    "    for j in sub_groups:\n",
    "        marker_type = next(marker_it)\n",
    "        marker_options = {\n",
    "            \"marker\": marker_type,\n",
    "            \"size\": size,\n",
    "        }\n",
    "\n",
    "        line_options = {\n",
    "            \"line_dash\": line_dash,\n",
    "        }\n",
    "        sub_group_styles[j] = {\n",
    "            \"marker\": marker_options,\n",
    "            \"line\": line_options,\n",
    "        }\n",
    "    return group_styles, sub_group_styles\n",
    "\n",
    "group_styles, sub_group_styles = create_plot_option_dicts(b.info_df)\n",
    "\n",
    "pprint(group_styles)\n",
    "pprint(sub_group_styles)"
   ]
  },
  {
   "cell_type": "code",
   "execution_count": null,
   "metadata": {},
   "outputs": [],
   "source": [
    "def create_summary_plot(data, info, group_styles, sub_group_styles,\n",
    "                        title=\"Capacity\", x_axis_label=\"Cycle number\", y_axis_label=\"Capacity (mAh/g)\",\n",
    "                        width=900, height=400,\n",
    "                        legend_option=\"clean\",\n",
    "                        legend_location=\"bottom_right\",\n",
    "                        x_range=None,\n",
    "                        y_range=None,\n",
    "                        tools = [\"hover\",]\n",
    "                        ):\n",
    "\n",
    "    discharge_capacity = None\n",
    "    if isinstance(data, (list, tuple)):\n",
    "        charge_capacity = data[0]\n",
    "        if len(data) == 2:\n",
    "            discharge_capacity = data[1]\n",
    "    else:\n",
    "        charge_capacity = data\n",
    "        \n",
    "    charge_source = ColumnDataSource(charge_capacity)\n",
    "    if discharge_capacity is not None:\n",
    "        discharge_source = ColumnDataSource(discharge_capacity)\n",
    "\n",
    "    p = figure(title=title, width=width, height=height,\n",
    "               # tools = tools,\n",
    "               x_range = x_range,\n",
    "               y_range = y_range,\n",
    "               x_axis_label=x_axis_label,\n",
    "               y_axis_label=y_axis_label)\n",
    "\n",
    "    cols = charge_capacity.columns.get_level_values(0)\n",
    "    if legend_option is not None:\n",
    "        legend_collection = []\n",
    "    \n",
    "    for c in cols:\n",
    "        g, sg = look_up_group(info, c)\n",
    "\n",
    "        if legend_option is not None:\n",
    "            legend_items = []\n",
    "            l = create_legend(info, c, option=legend_option)\n",
    "            #legend_option_dict = {\"legend\": f\"{l}\"}\n",
    "\n",
    "        group_props = group_styles[g]\n",
    "        sub_group_props = sub_group_styles[sg]\n",
    "\n",
    "        ch_m = p.scatter(\n",
    "            source=charge_source, \n",
    "            x=\"Cycle_Index\", y=c, \n",
    "            #**legend_option_dict, # Remark! cannot use the same legend name as column name (defaults to a lookup)\n",
    "            **group_props[\"marker\"], # color\n",
    "            **sub_group_props[\"marker\"], # marker\n",
    "        )\n",
    "        \n",
    "        ch_l = p.line(\n",
    "            source=charge_source, \n",
    "            x=\"Cycle_Index\", y=c, \n",
    "            **group_props[\"line\"],\n",
    "            **sub_group_props[\"line\"],\n",
    "        )\n",
    "        \n",
    "        if legend_option is not None:\n",
    "            legend_items.extend([ch_m, ch_l])\n",
    "        \n",
    "        if discharge_capacity is not None:\n",
    "            # creating a local copy so that I can do local changes\n",
    "            group_props_marker_charge = group_props[\"marker\"].copy()\n",
    "            group_props_marker_charge[\"fill_color\"] = None\n",
    "            dch_m = p.scatter(\n",
    "                source=discharge_source, \n",
    "                x=\"Cycle_Index\", y=c, \n",
    "                **group_props_marker_charge,\n",
    "                **sub_group_props[\"marker\"],\n",
    "            )\n",
    "            \n",
    "            dch_l = p.line(\n",
    "            source=discharge_source, \n",
    "            x=\"Cycle_Index\", y=c, \n",
    "            **group_props[\"line\"],\n",
    "            **sub_group_props[\"line\"],\n",
    "            )\n",
    "            \n",
    "            if legend_option is not None:\n",
    "                legend_items.extend([dch_m, dch_l])\n",
    "                \n",
    "        if legend_option is not None:\n",
    "            legend_collection.append((l, legend_items))\n",
    "            \n",
    "    if discharge_capacity is not None:\n",
    "        print(\"(filled:charge) (open:discharge)\")\n",
    "        \n",
    "    if legend_option is not None:\n",
    "        \n",
    "        legend = Legend(\n",
    "            items=legend_collection,\n",
    "            location=(10, 0)\n",
    "        )\n",
    "        p.add_layout(legend)\n",
    "        p.legend.location = legend_location\n",
    "        p.legend.click_policy = \"hide\"\n",
    "    return p\n"
   ]
  },
  {
   "cell_type": "code",
   "execution_count": null,
   "metadata": {},
   "outputs": [],
   "source": [
    "def plot_cycle_life_summary(info, summaries, width=900, height=800, height_fractions=[0.2, 0.5, 0.3]):\n",
    "    \n",
    "    discharge_capacity = summaries.discharge_capacity\n",
    "    charge_capacity = summaries.charge_capacity\n",
    "    coulombic_efficiency = summaries.coulombic_efficiency\n",
    "    ir_charge = summaries.ir_charge\n",
    "\n",
    "    h_eff = int(height_fractions[0] * height)\n",
    "    h_cap = int(height_fractions[1] * height)\n",
    "    h_ir  = int(height_fractions[2] * height)\n",
    "    \n",
    "    group_styles, sub_group_styles = create_plot_option_dicts(info)\n",
    "\n",
    "    p_eff = create_summary_plot(\n",
    "        coulombic_efficiency, info, group_styles, sub_group_styles,\n",
    "        legend_option=None,title=None,x_axis_label=None, y_axis_label=\"Coulombic efficiency (%)\",\n",
    "        width=width, height=h_eff,\n",
    "    )\n",
    "\n",
    "    p_cap = create_summary_plot(\n",
    "        (charge_capacity, discharge_capacity), info, group_styles, sub_group_styles,\n",
    "        title=None, x_axis_label=None, height=h_cap, width=width,\n",
    "        x_range=p_eff.x_range, \n",
    "    )\n",
    "\n",
    "    p_ir = create_summary_plot(\n",
    "        ir_charge, info, group_styles, sub_group_styles,\n",
    "        legend_option=None,title=None,x_axis_label=\"Cycle number\", y_axis_label=\"IR Charge (Ohm)\",\n",
    "        width=width, height=h_ir,\n",
    "        x_range=p_eff.x_range,\n",
    "    )\n",
    "\n",
    "    p_eff.y_range.start, p_eff.y_range.end = 20, 120\n",
    "    p_eff.xaxis.visible = False\n",
    "    p_cap.xaxis.visible = False\n",
    "\n",
    "    hover = HoverTool(tooltips=[\n",
    "        (\"cycle\", \"@Cycle_Index\"),\n",
    "        (\"value\", \"$y\"),\n",
    "    ])\n",
    "\n",
    "    p_eff.add_tools(hover)\n",
    "    p_cap.add_tools(hover)\n",
    "    p_ir.add_tools(hover)\n",
    "\n",
    "    show(column(p_eff, p_cap, p_ir))"
   ]
  },
  {
   "cell_type": "code",
   "execution_count": null,
   "metadata": {},
   "outputs": [],
   "source": [
    "width = 900\n",
    "height = 800\n",
    "info = b.info_df\n",
    "height_fractions = [0.2, 0.5, 0.3]\n",
    "plot_cycle_life_summary(info, b.summaries, width, height, height_fractions)"
   ]
  },
  {
   "cell_type": "code",
   "execution_count": null,
   "metadata": {},
   "outputs": [],
   "source": []
  },
  {
   "cell_type": "code",
   "execution_count": null,
   "metadata": {},
   "outputs": [],
   "source": []
  },
  {
   "cell_type": "code",
   "execution_count": null,
   "metadata": {},
   "outputs": [],
   "source": []
  }
 ],
 "metadata": {
  "kernelspec": {
   "display_name": "Python [conda env:cellpy]",
   "language": "python",
   "name": "conda-env-cellpy-py"
  },
  "language_info": {
   "codemirror_mode": {
    "name": "ipython",
    "version": 3
   },
   "file_extension": ".py",
   "mimetype": "text/x-python",
   "name": "python",
   "nbconvert_exporter": "python",
   "pygments_lexer": "ipython3",
   "version": "3.6.5"
  }
 },
 "nbformat": 4,
 "nbformat_minor": 2
}
