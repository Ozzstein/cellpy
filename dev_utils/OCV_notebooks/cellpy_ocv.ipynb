{
 "cells": [
  {
   "cell_type": "code",
   "execution_count": null,
   "metadata": {},
   "outputs": [],
   "source": [
    "%load_ext autoreload\n",
    "%autoreload 2"
   ]
  },
  {
   "cell_type": "code",
   "execution_count": null,
   "metadata": {},
   "outputs": [],
   "source": [
    "import numpy as np\n",
    "import pandas as pd\n",
    "import matplotlib.pyplot as plt\n",
    "\n",
    "import cellpy\n",
    "from cellpy import prms\n",
    "from cellpy import prmreader\n",
    "from cellpy import cellreader\n",
    "from cellpy.utils import ocv_rlx\n",
    "import holoviews as hv\n",
    "\n",
    "%matplotlib inline\n",
    "hv.extension('bokeh')"
   ]
  },
  {
   "cell_type": "code",
   "execution_count": null,
   "metadata": {},
   "outputs": [],
   "source": [
    "######################################################################\n",
    "##                                                                  ##\n",
    "##                       development                                ##\n",
    "##                                                                  ##\n",
    "######################################################################\n",
    "\n",
    "from pathlib import Path\n",
    "from pprint import pprint\n",
    "\n",
    "# Use these when working on my work PC:\n",
    "raw_data_path = r\"C:\\Scripting\\MyFiles\\development_cellpy\\testdata\"\n",
    "out_data_path = r\"C:\\Scripting\\Processing\\Test\\out\"\n",
    "\n",
    "# Use these when working on my MacBook:\n",
    "raw_data_path = \"/Users/jepe/scripting/cellpy/dev_data/fullcell\"\n",
    "out_data_path = \"/Users/jepe/scripting/cellpy/dev_data/out\"\n",
    "\n",
    "raw_data_path = Path(raw_data_path)\n",
    "out_data_path = Path(out_data_path)\n",
    "\n",
    "print(\" SETTING SOME PRMS \".center(80, \"=\"))\n",
    "prms.Paths[\"db_filename\"] = \"cellpy_db.xlsx\"\n",
    "prms.Paths[\"cellpydatadir\"] = out_data_path\n",
    "prms.Paths[\"outdatadir\"] = out_data_path\n",
    "prms.Paths[\"rawdatadir\"] = raw_data_path\n",
    "prms.Paths[\"db_path\"] = out_data_path\n",
    "prms.Paths[\"filelogdir\"] = out_data_path\n",
    "pprint(prms.Paths)"
   ]
  },
  {
   "cell_type": "code",
   "execution_count": null,
   "metadata": {},
   "outputs": [],
   "source": [
    "fn = \"20190204_FC_snx012_01_cc_01\"\n",
    "resn = fn + \".res\"\n",
    "cellpyn = fn + \".h5\"\n",
    "filename = prms.Paths[\"rawdatadir\"] / resn\n",
    "cellpyname = prms.Paths[\"cellpydatadir\"] / cellpyn"
   ]
  },
  {
   "cell_type": "code",
   "execution_count": null,
   "metadata": {},
   "outputs": [],
   "source": [
    "cell = cellreader.cell(filename, logging_mode=\"INFO\")"
   ]
  },
  {
   "cell_type": "code",
   "execution_count": null,
   "metadata": {},
   "outputs": [],
   "source": [
    "# print(cell)"
   ]
  },
  {
   "cell_type": "code",
   "execution_count": null,
   "metadata": {},
   "outputs": [],
   "source": [
    "cell.save(cellpyname)"
   ]
  },
  {
   "cell_type": "code",
   "execution_count": null,
   "metadata": {},
   "outputs": [],
   "source": [
    "d = cellreader.cell()"
   ]
  },
  {
   "cell_type": "code",
   "execution_count": null,
   "metadata": {},
   "outputs": [],
   "source": [
    "d.load(cellpyname)"
   ]
  },
  {
   "cell_type": "code",
   "execution_count": null,
   "metadata": {},
   "outputs": [],
   "source": [
    "d.dataset.step_table"
   ]
  },
  {
   "cell_type": "code",
   "execution_count": null,
   "metadata": {},
   "outputs": [],
   "source": [
    "n=5\n",
    "v = d.get_voltage(cycle=n)\n",
    "t = d.get_timestamp(cycle=n)"
   ]
  },
  {
   "cell_type": "code",
   "execution_count": null,
   "metadata": {},
   "outputs": [],
   "source": []
  },
  {
   "cell_type": "code",
   "execution_count": null,
   "metadata": {},
   "outputs": [],
   "source": [
    "line = hv.Curve((t,v))"
   ]
  },
  {
   "cell_type": "code",
   "execution_count": null,
   "metadata": {},
   "outputs": [],
   "source": [
    "line"
   ]
  },
  {
   "cell_type": "code",
   "execution_count": null,
   "metadata": {},
   "outputs": [],
   "source": [
    "p = ocv_rlx.select_ocv_points(d, direction=\"both\")\n",
    "p"
   ]
  },
  {
   "cell_type": "code",
   "execution_count": null,
   "metadata": {},
   "outputs": [],
   "source": [
    "p"
   ]
  },
  {
   "cell_type": "code",
   "execution_count": null,
   "metadata": {},
   "outputs": [],
   "source": []
  }
 ],
 "metadata": {
  "kernelspec": {
   "display_name": "Python3 (cellpy)",
   "language": "python",
   "name": "cellpy"
  },
  "language_info": {
   "codemirror_mode": {
    "name": "ipython",
    "version": 3
   },
   "file_extension": ".py",
   "mimetype": "text/x-python",
   "name": "python",
   "nbconvert_exporter": "python",
   "pygments_lexer": "ipython3",
   "version": "3.6.7"
  }
 },
 "nbformat": 4,
 "nbformat_minor": 2
}
