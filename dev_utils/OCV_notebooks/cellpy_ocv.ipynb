{
 "cells": [
  {
   "cell_type": "code",
   "execution_count": null,
   "metadata": {},
   "outputs": [],
   "source": [
    "%load_ext autoreload\n",
    "%autoreload 2"
   ]
  },
  {
   "cell_type": "code",
   "execution_count": null,
   "metadata": {},
   "outputs": [],
   "source": [
    "import numpy as np\n",
    "import pandas as pd\n",
    "import matplotlib.pyplot as plt\n",
    "\n",
    "import cellpy\n",
    "from cellpy import prms\n",
    "from cellpy import prmreader\n",
    "from cellpy import cellreader\n",
    "from cellpy.utils import ocv_rlx, plotutils, helpers\n",
    "import holoviews as hv\n",
    "\n",
    "%matplotlib inline\n",
    "hv.extension('bokeh')"
   ]
  },
  {
   "cell_type": "code",
   "execution_count": null,
   "metadata": {},
   "outputs": [],
   "source": [
    "######################################################################\n",
    "##                                                                  ##\n",
    "##                       development                                ##\n",
    "##                                                                  ##\n",
    "######################################################################\n",
    "\n",
    "from pathlib import Path\n",
    "from pprint import pprint\n",
    "\n",
    "# Use these when working on my work PC:\n",
    "raw_data_path = r\"C:\\Scripting\\MyFiles\\development_cellpy\\testdata\"\n",
    "out_data_path = r\"C:\\Scripting\\Processing\\Test\\out\"\n",
    "\n",
    "# Use these when working on my MacBook:\n",
    "raw_data_path = \"/Users/jepe/scripting/cellpy/dev_data/gitt\"\n",
    "out_data_path = \"/Users/jepe/scripting/cellpy/dev_data/out\"\n",
    "\n",
    "raw_data_path = Path(raw_data_path)\n",
    "out_data_path = Path(out_data_path)\n",
    "\n",
    "print(\" SETTING SOME PRMS \".center(80, \"=\"))\n",
    "prms.Paths[\"db_filename\"] = \"cellpy_db.xlsx\"\n",
    "prms.Paths[\"cellpydatadir\"] = out_data_path\n",
    "prms.Paths[\"outdatadir\"] = out_data_path\n",
    "prms.Paths[\"rawdatadir\"] = raw_data_path\n",
    "prms.Paths[\"db_path\"] = out_data_path\n",
    "prms.Paths[\"filelogdir\"] = out_data_path\n",
    "pprint(prms.Paths)"
   ]
  },
  {
   "cell_type": "code",
   "execution_count": null,
   "metadata": {},
   "outputs": [],
   "source": [
    "fn = \"20181026_cen31_03_cc_05\"\n",
    "resn = fn + \".res\"\n",
    "cellpyn = fn + \".h5\"\n",
    "filename = prms.Paths[\"rawdatadir\"] / resn\n",
    "cellpyname = prms.Paths[\"cellpydatadir\"] / cellpyn"
   ]
  },
  {
   "cell_type": "markdown",
   "metadata": {},
   "source": [
    "## Load a cell\n",
    "\n",
    "Only need a part of it, so using only the first 29 cycles (splitting on cycle 30)"
   ]
  },
  {
   "cell_type": "code",
   "execution_count": null,
   "metadata": {},
   "outputs": [],
   "source": [
    "dd = cellreader.get(filename, logging_mode=\"INFO\")"
   ]
  },
  {
   "cell_type": "code",
   "execution_count": null,
   "metadata": {},
   "outputs": [],
   "source": [
    "d, _ = helpers.split_experiment(dd, 30)"
   ]
  },
  {
   "cell_type": "markdown",
   "metadata": {},
   "source": [
    "## Extract OCV points\n",
    "\n",
    "Using the ``select_ocv_points`` function from ``cellpy.utils.ocv_rlx``.\n",
    "\n",
    "```python\n",
    "\n",
    "def select_ocv_points(\n",
    "    cellpydata,\n",
    "    cycles=None,\n",
    "    selection_method=\"martin\",\n",
    "    number_of_points=5,\n",
    "    interval=10,\n",
    "    relative_voltage=False,\n",
    "    report_times=False,\n",
    "    direction=None,\n",
    "):\n",
    "\n",
    "    \"\"\"Select points from the ocvrlx steps.\n",
    "\n",
    "        Args:\n",
    "            cellpydata: CellpyData-object\n",
    "            cycles: list of cycle numbers to process (optional)\n",
    "            selection_method: criteria for selecting points\n",
    "                martin: select first and last, and then last/2, last/2/2 etc.\n",
    "                    until you have reached the wanted number of points.\n",
    "                fixed_times: select first, and then\n",
    "            number_of_points: number of points you want.\n",
    "            interval: interval between each point (in use only for methods\n",
    "                where interval makes sense). If it is a list, then\n",
    "                number_of_points will be calculated as len(interval) + 1 (and\n",
    "                override the set number_of_points).\n",
    "            relative_voltage: set to True if you would like the voltage to be\n",
    "                relative to the voltage before starting the ocv rlx step.\n",
    "                Defaults to False. Remark that for the initial rxl step (when\n",
    "                you just have put your cell on the tester) does not have any\n",
    "                prior voltage. The relative voltage will then be versus the\n",
    "                first measurement point.\n",
    "            report_times: also report the ocv rlx total time if True (defaults\n",
    "                to False)\n",
    "            direction (\"up\", \"down\" or \"both\"): select \"up\" if you would like\n",
    "                to process only the ocv rlx steps where the voltage is relaxing\n",
    "                upwards and vize versa. Defaults to \"both\".\n",
    "\n",
    "        Returns:\n",
    "            pandas.DataFrame\n",
    "\n",
    "    \"\"\"\n",
    "```"
   ]
  },
  {
   "cell_type": "code",
   "execution_count": null,
   "metadata": {},
   "outputs": [],
   "source": [
    "p_fixed_time = ocv_rlx.select_ocv_points(d, selection_method=\"fixed_times\", direction=\"both\")\n",
    "p_martin = ocv_rlx.select_ocv_points(d, direction=\"both\")"
   ]
  },
  {
   "cell_type": "code",
   "execution_count": null,
   "metadata": {},
   "outputs": [],
   "source": [
    "p_fx_down = p_fixed_time.loc[p_fixed_time.type == \"ocvrlx_down\", p_m_down.columns.drop(\"step\")]\n",
    "p_m_down = p_martin.loc[p_martin.type == \"ocvrlx_down\", p_martin.columns.drop(\"step\")]"
   ]
  },
  {
   "cell_type": "code",
   "execution_count": null,
   "metadata": {},
   "outputs": [],
   "source": [
    "p_m_down.plot(x=\"cycle\")"
   ]
  },
  {
   "cell_type": "code",
   "execution_count": null,
   "metadata": {},
   "outputs": [],
   "source": [
    "p_fx_down.plot(x=\"cycle\")"
   ]
  },
  {
   "cell_type": "code",
   "execution_count": null,
   "metadata": {},
   "outputs": [],
   "source": [
    "plotutils.cycle_info_plot(d)"
   ]
  },
  {
   "cell_type": "code",
   "execution_count": null,
   "metadata": {},
   "outputs": [],
   "source": []
  }
 ],
 "metadata": {
  "kernelspec": {
   "display_name": "Python 3",
   "language": "python",
   "name": "python3"
  },
  "language_info": {
   "codemirror_mode": {
    "name": "ipython",
    "version": 3
   },
   "file_extension": ".py",
   "mimetype": "text/x-python",
   "name": "python",
   "nbconvert_exporter": "python",
   "pygments_lexer": "ipython3",
   "version": "3.7.4"
  }
 },
 "nbformat": 4,
 "nbformat_minor": 4
}
