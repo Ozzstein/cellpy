{
 "cells": [
  {
   "cell_type": "markdown",
   "metadata": {},
   "source": [
    "# Simple graphical fitting"
   ]
  },
  {
   "cell_type": "code",
   "execution_count": null,
   "metadata": {},
   "outputs": [],
   "source": []
  },
  {
   "cell_type": "code",
   "execution_count": null,
   "metadata": {},
   "outputs": [],
   "source": []
  },
  {
   "cell_type": "code",
   "execution_count": null,
   "metadata": {},
   "outputs": [],
   "source": [
    "import os\n",
    "import logging\n",
    "\n",
    "import bokeh\n",
    "import holoviews as hv\n",
    "import numpy as np\n",
    "import matplotlib.pyplot as plt\n",
    "import pandas as pd\n",
    "import ipywidgets as widgets\n",
    "from ipywidgets import interact, interact_manual\n",
    "\n",
    "import cellpy\n",
    "from cellpy import cellreader\n",
    "from cellpy.utils import ica\n",
    "\n",
    "%matplotlib inline\n",
    "hv.extension('bokeh')\n",
    "\n",
    "logger = logging.getLogger(__name__)\n",
    "logger.setLevel(logging.INFO)\n",
    "\n",
    "print(f\"pandas: {pd.__version__}\")\n",
    "print(f\"cellpy: {cellpy.__version__}\")\n",
    "print(f\"holoviews: {hv.__version__}\")\n",
    "\n",
    "my_data = cellreader.CellpyData()\n",
    "filename = \"../../../testdata/hdf5/20160805_test001_45_cc.h5\"\n",
    "assert os.path.isfile(filename)\n",
    "my_data.load(filename)\n",
    "my_data.set_mass(0.1)"
   ]
  },
  {
   "cell_type": "markdown",
   "metadata": {},
   "source": [
    "## 1. Retrieve dQ/dV data"
   ]
  },
  {
   "cell_type": "markdown",
   "metadata": {},
   "source": [
    "### What is the best way to retrieve dQ/dV data?"
   ]
  },
  {
   "cell_type": "code",
   "execution_count": null,
   "metadata": {},
   "outputs": [],
   "source": [
    "comb_ica = ica.dqdv_frames(my_data, split=False, tidy=False)\n",
    "comb_ica.head()"
   ]
  },
  {
   "cell_type": "code",
   "execution_count": null,
   "metadata": {},
   "outputs": [],
   "source": [
    "cycle_number = 1\n",
    "ax = comb_ica[cycle_number].plot(x=\"voltage\")\n",
    "ax.legend([f\"cycle {cycle_number}\"])"
   ]
  },
  {
   "cell_type": "code",
   "execution_count": null,
   "metadata": {},
   "outputs": [],
   "source": [
    "comb_ica_charge, comb_ica_discharge = ica.dqdv_frames(my_data, split=True, tidy=False, )"
   ]
  },
  {
   "cell_type": "code",
   "execution_count": null,
   "metadata": {},
   "outputs": [],
   "source": [
    "comb_ica_charge.head()"
   ]
  },
  {
   "cell_type": "code",
   "execution_count": null,
   "metadata": {},
   "outputs": [],
   "source": [
    "cycle_number = 1\n",
    "ax = comb_ica_charge[[\"voltage\", cycle_number]].plot(x=(\"voltage\", \"v\"))\n",
    "ax.legend([f\"charge cycle {cycle_number}\"])\n",
    "\n",
    "ax = comb_ica_discharge[[\"voltage\", cycle_number]].plot(x=(\"voltage\", \"v\"))\n",
    "ax.legend([f\"discharge cycle {cycle_number}\"])"
   ]
  },
  {
   "cell_type": "code",
   "execution_count": null,
   "metadata": {},
   "outputs": [],
   "source": [
    "tidy_ica_charge, tidy_ica_discharge = ica.dqdv_frames(my_data, split=True, tidy=True)"
   ]
  },
  {
   "cell_type": "code",
   "execution_count": null,
   "metadata": {},
   "outputs": [],
   "source": [
    "cycle_number = 1\n",
    "ax = tidy_ica_charge.loc[tidy_ica_charge.cycle == cycle_number, [\"voltage\", \"dq\"]].plot(x=\"voltage\")\n",
    "ax.legend([f\"charge cycle {cycle_number}\"])"
   ]
  },
  {
   "cell_type": "markdown",
   "metadata": {},
   "source": [
    "### Selected retrieve method"
   ]
  },
  {
   "cell_type": "markdown",
   "metadata": {},
   "source": [
    "For fitting, it is most convinient to have individual datasets for charge and discharge. It is also convinient to have the data in a form where we can easily plot all the data to get an overview. And it should be easy to extract single cycles."
   ]
  },
  {
   "cell_type": "code",
   "execution_count": null,
   "metadata": {},
   "outputs": [],
   "source": [
    "tidy_ica_charge, tidy_ica_discharge = ica.dqdv_frames(my_data, split=True, tidy=True)\n",
    "\n",
    "cycle_number = 1\n",
    "dq_charge_1 = tidy_ica_charge.loc[tidy_ica_charge.cycle == cycle_number, [\"voltage\", \"dq\"]]"
   ]
  },
  {
   "cell_type": "markdown",
   "metadata": {},
   "source": [
    "### Observed improvements needed\n",
    "\n",
    "- `dqdv_frames` gives a warning if step is not found - make that optional (warnings=False or True)\n",
    "- inconsistent column names for `dqdv_frames` with `split=True` *vs* `split=False`\n",
    "    - split=True creates a \"interpolated\" frame with one common x-column (\"voltage\", \"v) and one column pr cycle (\"1\", \"dq\")\n",
    "    - split=False creates x,y pair values with columns (\"1\", \"voltage\") and (\"1\", \"dq\")\n",
    "- need to rename the function to something more intuitive\n",
    "    - for example: `make_dqdv_frame` or `retrieve_dqdv_frame`"
   ]
  },
  {
   "cell_type": "markdown",
   "metadata": {},
   "source": [
    "## 2. Interact and plot the data"
   ]
  },
  {
   "cell_type": "markdown",
   "metadata": {},
   "source": [
    "### As simple as possible"
   ]
  },
  {
   "cell_type": "code",
   "execution_count": null,
   "metadata": {},
   "outputs": [],
   "source": [
    "pd.options.plotting.backend = \"matplotlib\"\n",
    "ax_mplib = dq_charge_1.plot(x=\"voltage\", style=\"-o\")\n",
    "ax_mplib.legend([f\"charge cycle {cycle_number}\"])"
   ]
  },
  {
   "cell_type": "code",
   "execution_count": null,
   "metadata": {},
   "outputs": [],
   "source": [
    "pd.options.plotting.backend = \"hvplot\"\n",
    "ax_hvplot = dq_charge_1.plot(x=\"voltage\") * dq_charge_1.plot(x=\"voltage\", kind=\"scatter\")\n",
    "# Unfortunately, the df.plot() method returns a hv object with a copy of the dataframe (potential memory leak)\n",
    "# We therefore chose to use the hv.Curve() etc. methods directly instead.\n",
    "ax_hvplot"
   ]
  },
  {
   "cell_type": "markdown",
   "metadata": {},
   "source": [
    "### Using holoviews directly\n",
    "(since dataframe.plot() returns a copy of the data)"
   ]
  },
  {
   "cell_type": "code",
   "execution_count": null,
   "metadata": {},
   "outputs": [],
   "source": [
    "cycle_label = \"Cycle 1 (charge)\"\n",
    "value_dims = [\n",
    "    hv.Dimension(\"dq\", label=\"dQ\", unit=\"mAh/g/V\")\n",
    "]  # the y-axis\n",
    "key_dims = [\n",
    "    hv.Dimension(\"voltage\", label=\"Voltage\", unit=\"V vs. Li/Li+\")\n",
    "]    # the x-axis\n",
    "z_dims = key_dims + value_dims\n",
    "\n",
    "v = hv.Scatter(data=dq_charge_1, kdims=key_dims, vdims=value_dims, label=cycle_label).opts(\n",
    "    width=800,\n",
    "    height=400,\n",
    "    marker=\"o\",\n",
    "    size=8,\n",
    "    tools = ['hover']\n",
    ")\n",
    "vv = (v * hv.Curve(v)).opts(title=\"ICA plot\")\n",
    "vv"
   ]
  },
  {
   "cell_type": "markdown",
   "metadata": {},
   "source": [
    "### Interactive point picking"
   ]
  },
  {
   "cell_type": "code",
   "execution_count": null,
   "metadata": {},
   "outputs": [],
   "source": [
    "import holoviews as hv\n",
    "from holoviews import opts, streams\n",
    "from holoviews.plotting.links import DataLink"
   ]
  },
  {
   "cell_type": "code",
   "execution_count": null,
   "metadata": {},
   "outputs": [],
   "source": [
    "# A small test to check if it is possible to pick points easily.\n",
    "# The short answer is ... yes, but no idea how to get the picked data out.\n",
    "\n",
    "cycle_label = \"Cycle 1 (charge)\"\n",
    "value_dims = [\n",
    "    hv.Dimension(\"dq\", label=\"dQ\", unit=\"mAh/g/V\")\n",
    "]\n",
    "key_dims = [\n",
    "    hv.Dimension(\"voltage\", label=\"Voltage\", unit=\"V vs. Li/Li+\"),\n",
    "    hv.Dimension(\"dq\", label=\"dQ\", unit=\"mAh/g/V\")\n",
    "]\n",
    "\n",
    "peaks = pd.DataFrame({\"voltage\": [0.4, 0.5], \"dq\": [1.7e5, 1.5e5]})\n",
    "points = hv.Points(data=peaks, kdims=key_dims).opts(size=12, color=\"red\")\n",
    "\n",
    "v = hv.Scatter(data=dq_charge_1, kdims=key_dims, vdims=value_dims, label=cycle_label).opts(\n",
    "    width=600,\n",
    "    height=400,\n",
    "    marker=\"o\",\n",
    "    size=8,\n",
    "    tools = ['hover']\n",
    ")\n",
    "vv = (v * hv.Curve(v)).opts(title=\"ICA plot\")\n",
    "\n",
    "\n",
    "point_stream = streams.PointDraw(num_objects=2, source=points, empty_value='black')\n",
    "\n",
    "table = hv.Table(points, key_dims)\n",
    "DataLink(points, table)\n",
    "\n",
    "(vv * points + table).opts(\n",
    "    opts.Layout(merge_tools=False),\n",
    "    opts.Points(active_tools=['point_draw'], size=10),\n",
    "    opts.Table(editable=True))\n",
    "\n"
   ]
  },
  {
   "cell_type": "code",
   "execution_count": null,
   "metadata": {},
   "outputs": [],
   "source": [
    "table.data"
   ]
  },
  {
   "cell_type": "markdown",
   "metadata": {},
   "source": [
    "#### FAILED"
   ]
  },
  {
   "cell_type": "markdown",
   "metadata": {},
   "source": [
    "## Use Bokeh directly?"
   ]
  },
  {
   "cell_type": "code",
   "execution_count": null,
   "metadata": {},
   "outputs": [],
   "source": [
    "import numpy as np\n",
    "\n",
    "from bokeh.plotting import figure, output_notebook, show\n",
    "\n",
    "# prepare some data\n",
    "N = 4000\n",
    "x = np.random.random(size=N) * 100\n",
    "y = np.random.random(size=N) * 100\n",
    "radii = np.random.random(size=N) * 1.5\n",
    "colors = [\n",
    "    \"#%02x%02x%02x\" % (int(r), int(g), 150) for r, g in zip(50+2*x, 30+2*y)\n",
    "]\n",
    "\n",
    "# output to static HTML file (with CDN resources)\n",
    "output_file(\"color_scatter.html\", title=\"color_scatter.py example\", mode=\"cdn\")\n",
    "\n",
    "TOOLS = \"crosshair,pan,wheel_zoom,box_zoom,reset,box_select,lasso_select\"\n",
    "\n",
    "# create a new plot with the tools above, and explicit ranges\n",
    "p = figure(tools=TOOLS, x_range=(0, 100), y_range=(0, 100))\n",
    "\n",
    "# add a circle renderer with vectorized colors and sizes\n",
    "p.circle(x, y, radius=radii, fill_color=colors, fill_alpha=0.6, line_color=None)\n",
    "\n",
    "# show the results\n",
    "show(p)"
   ]
  },
  {
   "cell_type": "code",
   "execution_count": null,
   "metadata": {},
   "outputs": [],
   "source": []
  }
 ],
 "metadata": {
  "kernelspec": {
   "display_name": "cellpy",
   "language": "python",
   "name": "cellpy"
  },
  "language_info": {
   "codemirror_mode": {
    "name": "ipython",
    "version": 3
   },
   "file_extension": ".py",
   "mimetype": "text/x-python",
   "name": "python",
   "nbconvert_exporter": "python",
   "pygments_lexer": "ipython3",
   "version": "3.7.4"
  }
 },
 "nbformat": 4,
 "nbformat_minor": 4
}
