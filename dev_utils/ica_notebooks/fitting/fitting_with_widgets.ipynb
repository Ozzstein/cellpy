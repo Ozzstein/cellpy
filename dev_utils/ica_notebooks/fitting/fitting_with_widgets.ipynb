{
 "cells": [
  {
   "cell_type": "markdown",
   "metadata": {},
   "source": [
    "# Fitting of dqdv peaks\n",
    "The purpose of this notebook is to evaluate and develope a robust way of fitting dqdv data. The plan is then to implement this into the cellpy.utils.ica module (as seperate classes). It would also be valuable to equip the fitting class(es) with optional ipywidgets."
   ]
  },
  {
   "cell_type": "code",
   "execution_count": null,
   "metadata": {},
   "outputs": [],
   "source": [
    "%load_ext autoreload\n",
    "%autoreload 2"
   ]
  },
  {
   "cell_type": "code",
   "execution_count": null,
   "metadata": {},
   "outputs": [],
   "source": [
    "import os\n",
    "import logging\n",
    "import bokeh\n",
    "import numpy as np\n",
    "import matplotlib.pyplot as plt\n",
    "import pandas as pd\n",
    "from cellpy import cellreader\n",
    "from cellpy.utils import ica\n",
    "import holoviews as hv\n",
    "\n",
    "import ipywidgets as widgets\n",
    "from ipywidgets import interact, interact_manual\n",
    "\n",
    "%matplotlib inline\n",
    "hv.extension('bokeh')\n",
    "\n",
    "logger = logging.getLogger(__name__)\n",
    "logger.setLevel(logging.INFO)\n",
    "\n",
    "my_data = cellreader.CellpyData()\n",
    "filename = \"../../../testdata/hdf5/20160805_test001_45_cc.h5\"\n",
    "assert os.path.isfile(filename)\n",
    "my_data.load(filename)\n",
    "my_data.set_mass(0.1)\n",
    "\n",
    "from icafit import *"
   ]
  },
  {
   "cell_type": "markdown",
   "metadata": {},
   "source": [
    "## Defining dqdv peak ensambles\n",
    "The natural way (and my impression is that this is how other groups also do it) of conducting an \"in-depth\" ica study on a LiB cell would be to measure ica of re-buildt half-cells of both the cathode and the anode of the full cells, fit the peaks of the half cells, and then a use convolution of these fits to fit the actual full cell.\n",
    "\n",
    "\n",
    "### Examples from the literature\n",
    "Should include references here...\n",
    "\n",
    "### Plan\n",
    "1. Create a class (PeakEnsamble)\n",
    "2. Create peak ensambles by sub-classing PeakEnsamble\n",
    "\n",
    "### ToDo\n",
    "- [x] Fix so that it is possible to turn crystalline peak on and off for Si peaks\n",
    "- [ ] Set peak attributes directly\n",
    "- [ ] Make it easy (and obvious) to use previous fit-prms for new fit\n",
    "- [x] Use `__add__`\n",
    "- [x] Combine all fit-results into one dataframe\n",
    "- [ ] Make a ipywidget for at least one of the prms (e.g. scale)\n",
    "- [ ] Make it possible to freeze peaks and ensambles\n",
    "- [ ] Make it possible to zero out peaks?\n",
    "- [x] Fit negative of discharge curves\n",
    "- [ ] Fit discharge and charge in one go? (\"hysteresis parameter\")"
   ]
  },
  {
   "cell_type": "code",
   "execution_count": null,
   "metadata": {},
   "outputs": [],
   "source": [
    "logger.setLevel(logging.DEBUG)"
   ]
  },
  {
   "cell_type": "code",
   "execution_count": null,
   "metadata": {},
   "outputs": [],
   "source": [
    "import logging\n",
    "from colorama import Fore\n",
    "import ipywidgets as widgets\n",
    "\n",
    "class log_viewer(logging.Handler):\n",
    "    \"\"\" Class to redistribute python logging data \"\"\"\n",
    "\n",
    "    # have a class member to store the existing logger\n",
    "    logger_instance = logging.getLogger(\"__name__\")\n",
    "\n",
    "    def __init__(self, output=None, up_side_down=True, max_lines=20, *args, **kwargs):\n",
    "        self._output = output\n",
    "        self.up_side_down = up_side_down\n",
    "        self.max_lines = max_lines\n",
    "        if self._output is None:\n",
    "            self._output = widgets.Output(layout=widgets.Layout(width='600px', height='160px', border='solid')) \n",
    "        self._output.layout.overflow_y = \"scroll\"\n",
    " \n",
    "        # Initialize the Handler\n",
    "        logging.Handler.__init__(self, *args)\n",
    "\n",
    "        # optional take format\n",
    "        # setFormatter function is derived from logging.Handler\n",
    "        for key, value in kwargs.items():\n",
    "            if \"{}\".format(key) == \"format\":\n",
    "                self.setFormatter(value)\n",
    "\n",
    "        # make the logger send data to this class\n",
    "        self.logger_instance.addHandler(self)\n",
    "        \n",
    "    @property\n",
    "    def output(self):\n",
    "        return self._output\n",
    "        \n",
    "\n",
    "    def emit(self, record):\n",
    "        \"\"\" Overload of logging.Handler method \"\"\"\n",
    "\n",
    "        record = self.format(record)\n",
    "        \n",
    "        if self.up_side_down:\n",
    "            self.output.outputs = (\n",
    "                {\n",
    "                    'name': 'stdout', \n",
    "                    'output_type': \n",
    "                    'stream', \n",
    "                    'text': (Fore.BLACK + (record + '\\n'))\n",
    "                },\n",
    "            ) + self.output.outputs[:self.max_lines]\n",
    "            \n",
    "        else:\n",
    "            self.output.outputs = self.output.outputs[-self.max_lines:] + (\n",
    "                {\n",
    "                    'name': 'stdout', \n",
    "                    'output_type': 'stream', \n",
    "                    'text': (Fore.BLACK + (record + '\\n'))\n",
    "                },\n",
    "            )\n",
    "            \n"
   ]
  },
  {
   "cell_type": "markdown",
   "metadata": {},
   "source": [
    "## Widgets"
   ]
  },
  {
   "cell_type": "code",
   "execution_count": null,
   "metadata": {},
   "outputs": [],
   "source": [
    "import ipywidgets as widgets\n",
    "from IPython.display import display\n",
    "import matplotlib.pyplot as plt\n",
    "%matplotlib inline"
   ]
  },
  {
   "cell_type": "code",
   "execution_count": null,
   "metadata": {},
   "outputs": [],
   "source": [
    "class SiliconPeaksFitWidget(widgets.VBox):\n",
    "    def __init__(self, silicon_peaks, x, y, name=None):\n",
    "        \"\"\"\n",
    "        \"\"\"\n",
    "        #    [ ]             jitter\n",
    "        #    [x] |-----o--|  scale\n",
    "        #    [x] |-----o--|  shift\n",
    "        #    [x] |-----o--|  sigma_p1\n",
    "        #    [x] |-----o--|  max_point\n",
    "        # TODO:\n",
    "        # - shift is not refined on (since it is only used during _read_peak_definitions)\n",
    "        #      should implement overall shift of the peaks (but not sure how to do it (maybe use expression?) (or ConstantModel))\n",
    "        # Need to implement result (and parameters) and update (as default) + button for reset\n",
    "        # Need to make this work for CompositeEnsamble\n",
    "        \n",
    "        \n",
    "        self.peaks_object = silicon_peaks\n",
    "        self.x = x\n",
    "        self.y = y\n",
    "        self.invert_res = False\n",
    "        self.invert_dq = False\n",
    "        \n",
    "        self.result = None\n",
    "        \n",
    "        if name is None:\n",
    "            name = self.peaks_object.name\n",
    "        jitter = self.peaks_object.jitter\n",
    "        scale = self.peaks_object.scale\n",
    "        shift = self.peaks_object.shift\n",
    "        sigma_p1 = self.peaks_object.sigma_p1\n",
    "        max_point = self.peaks_object.max_point\n",
    "        crystalline = self.peaks_object.crystalline\n",
    "        compress = self.peaks_object._compress\n",
    "        expand = self.peaks_object._expand\n",
    "        \n",
    "        self.plot_output = widgets.Output()\n",
    "        self.log_output = widgets.Output()\n",
    "        self.plot_fixed = False\n",
    "        \n",
    "        self.w_name = widgets.Label(f\"{name}\")\n",
    "        \n",
    "        self.w_jitter = widgets.Checkbox(value=jitter, description=\"jitter\")\n",
    "        self.w_crystalline = widgets.Checkbox(value=crystalline, description=\"crystalline\")\n",
    "        \n",
    "        self.w_scale = widgets.FloatSlider(\n",
    "            value=scale, \n",
    "            min=0.00001,\n",
    "            max=100*scale,\n",
    "            continuous_update=False,\n",
    "            description=\"scale\",  # Currently using the description to link up to params (so you have to live with the bad names)\n",
    "        )\n",
    "        \n",
    "        self.w_shift = widgets.FloatSlider(\n",
    "            value=shift, \n",
    "            min = -1,\n",
    "            max = 1,\n",
    "            step = 0.01,\n",
    "            continuous_update=False,\n",
    "            description=\"shift\",\n",
    "        )\n",
    "        \n",
    "        self.w_sigma_p1 = widgets.FloatSlider(\n",
    "            value=sigma_p1, \n",
    "            min=0.000000001,\n",
    "            max=10*sigma_p1,\n",
    "            step=0.01,\n",
    "            continuous_update=False,\n",
    "            description=\"sigma_p1\",\n",
    "        )\n",
    "        \n",
    "        self.w_max_point = widgets.FloatSlider(\n",
    "            value=max_point, \n",
    "            min = 0.00001,\n",
    "            max = 10*max_point,\n",
    "            continuous_update=False,\n",
    "            description=\"max_point\",\n",
    "        )\n",
    "        \n",
    "        self.w_max_point = widgets.FloatSlider(\n",
    "            value=max_point, \n",
    "            min = 0.00001,\n",
    "            max = 10*max_point,\n",
    "            continuous_update=False,\n",
    "            description=\"max_point\",\n",
    "        )\n",
    "        \n",
    "        self.w_fit = widgets.Button(\n",
    "            description=\"Fit!\"\n",
    "        )\n",
    "        \n",
    "        self.clear = widgets.Button(\n",
    "            description=\"Clear!\"\n",
    "        )\n",
    "        \n",
    "        self.w_fit.on_click(self.fit)\n",
    "        self.clear.on_click(self.clear_log)\n",
    "       \n",
    "        self.w_jitter.observe(self.on_w_change, 'value')\n",
    "        self.w_scale.observe(self.on_w_change, 'value')\n",
    "        self.w_shift.observe(self.on_w_change, 'value')\n",
    "        self.w_sigma_p1.observe(self.on_w_change, 'value')\n",
    "        self.w_max_point.observe(self.on_w_change, 'value')\n",
    "        self.w_crystalline.observe(self.on_w_change, 'value')\n",
    "        \n",
    "        self.widget_ids = ['jitter', 'scale', 'shift', 'sigma_p1', 'max_point', 'crystalline']\n",
    "\n",
    "        super(SiliconPeaksFitWidget, self).__init__()\n",
    "        \n",
    "        widget_box = widgets.VBox(\n",
    "            [\n",
    "                self.w_name,\n",
    "                self.w_crystalline,\n",
    "                self.w_jitter,\n",
    "                self.w_scale,\n",
    "                self.w_shift,\n",
    "                self.w_sigma_p1,\n",
    "                self.w_max_point,\n",
    "                widgets.HBox([self.w_fit, self.clear]),\n",
    "            ]\n",
    "        )\n",
    "        \n",
    "        row_1 = widgets.HBox([widget_box, self.plot_output])\n",
    "        row_2 = self.log_output\n",
    "        \n",
    "        self.children = [\n",
    "            row_1,\n",
    "            row_2,\n",
    "        ]\n",
    "        \n",
    "        self.update_plot(\"initial\")\n",
    "        \n",
    "    def fit(self, change=None, y=None, x=None):\n",
    "        # TODO: need to implement turning off y and x \n",
    "        \n",
    "        _old_shift = self.peaks_object.shift\n",
    "        _old_max_point = self.peaks_object.max_point\n",
    "        _old_scale = self.peaks_object.scale\n",
    "        \n",
    "        if y is None:\n",
    "            y = self.y\n",
    "            \n",
    "        if x is None:\n",
    "            x = self.x\n",
    "            \n",
    "        if self.invert_dq:\n",
    "            y = - y\n",
    "\n",
    "            \n",
    "        with self.log_output:\n",
    "            print(\"-... \")\n",
    "            print()\n",
    "            self.result = self.peaks_object.fit(y, x=x)\n",
    "            print(\"--.. - . -- .\")\n",
    "            print(\"-go----------\")\n",
    "            print(\"  // o-o \\\\  \")\n",
    "            print(\"   -| u |-   \")\n",
    "            print(\"     \\./     \")\n",
    "            print(\"---------ok-?\")\n",
    "            print(\"--- - . -- ..\")\n",
    "            display(self.result)\n",
    "            print(self.peaks_object)\n",
    "            \n",
    "        main_logger.info(f\"auto update: {self.peaks_object.auto_update_from_fit}\")\n",
    "        _new_shift = self.peaks_object.shift\n",
    "        _new_max_point = self.peaks_object.max_point\n",
    "        _new_scale = self.peaks_object.scale\n",
    "        main_logger.info(f\"shift from {_old_shift} to {_new_shift}\")\n",
    "        main_logger.info(f\"max_point from {_old_max_point} to {_new_max_point}\")\n",
    "        main_logger.info(f\"scale from {_old_scale} to {_new_scale}\")\n",
    "            \n",
    "        self.update_plot(\"new_fit\")\n",
    "\n",
    "        self.plot_fixed = True\n",
    "        for what in self.widget_ids:\n",
    "            value = getattr(self.peaks_object, what)\n",
    "            main_logger.info(f\" -> update widget. widget: {what} value: {value}\")\n",
    "            w = \"w_\" + what\n",
    "            getattr(self, w).value = value\n",
    "        self.plot_fixed = False\n",
    "        \n",
    "         \n",
    "    def on_w_change(self, change):\n",
    "        \n",
    "        name = change.owner.description\n",
    "        value = change.new\n",
    "        main_logger.info(f\"change observed name: {name} value: {value}\")\n",
    "        setattr(self.peaks_object, name, value)\n",
    "        self.peaks_object.init()  # This removes the link to from the parameters to the widgets :-(\n",
    "        self.update_plot(name)\n",
    "        \n",
    "    def _create_plot_object(self, components=None, group_title=\"fit\", \n",
    "                           invert_dq=False, invert_res=False, width=500, height=500, size=8):\n",
    "\n",
    "        if self.invert_dq:\n",
    "            y = - self.y\n",
    "        else:\n",
    "            y = self.y\n",
    "\n",
    "        i = 1\n",
    "        if self.invert_res:\n",
    "            i = -1\n",
    "        main_logger.info(\"-> creating plot object\")\n",
    "        raw = hv.Points((self.x, y), label=\"raw\", group=group_title).opts(\n",
    "            width=width, height=height, size=size, alpha=0.3,\n",
    "            xlabel=\"Voltage\",\n",
    "            ylabel=\"dQ/dv\",\n",
    "        )\n",
    "        if components is not None:\n",
    "            main_logger.info(\"-> components are not None\")\n",
    "            prt = {}\n",
    "            for key in components:\n",
    "                if not key.endswith(\"Scale\"):\n",
    "                    prt[key] = hv.Curve((self.x, i * components[key]), group=group_title)\n",
    "            return raw * hv.NdOverlay(prt)\n",
    "\n",
    "            \n",
    "        prt = {\n",
    "            \"init\": hv.Curve((self.x, i * self.result.init_fit), group=group_title).opts(alpha=0.5),\n",
    "            \"best\": hv.Curve((self.x, i * self.result.best_fit), group=group_title),\n",
    "        }\n",
    "\n",
    "        parts = self.result.eval_components(x=self.x)\n",
    "        if not parts:\n",
    "            main_logger.info(\"-> no parts extracted\")\n",
    "        \n",
    "        s = self.peaks_object.scale  # set this to 1 if you dont want to use the scale factor when plotting\n",
    "        for key in parts:\n",
    "            if not key.endswith(\"Scale\"):\n",
    "                main_logger.info(f\"-> adding {key} to the plot (scaled)\")\n",
    "                prt[key] = hv.Curve((self.x, i * s * parts[key]), group=group_title)\n",
    "\n",
    "        return raw * hv.NdOverlay(prt)\n",
    "\n",
    "        \n",
    "    def update_plot(self, name):\n",
    "        if self.plot_fixed:\n",
    "            main_logger.info(\"sorry, plot is fixed\")\n",
    "            return\n",
    "        \n",
    "        if name in [\"scale\", \"shift\", \"sigma_p1\", \"max_point\", \"initial\", \"crystalline\", \"new_fit\"]:\n",
    "            \n",
    "            with self.plot_output:\n",
    "                if name == \"new_fit\":\n",
    "                    main_logger.info(\"-------new-fit-------\")\n",
    "                    plotwindow = self._create_plot_object()\n",
    "                else:\n",
    "                    component = self.peaks_object.peaks.eval(self.peaks_object.params, x=self.x)\n",
    "                    components = {\"Init\": component}\n",
    "                    plotwindow = self._create_plot_object(components=components)\n",
    "                self.plot_output.clear_output(wait=True)\n",
    "                display(plotwindow)\n",
    "            \n",
    "    def clear_log(self, change=None):\n",
    "        self.log_output.clear_output()\n",
    "        \n",
    "    def experimental(self, change=None):\n",
    "        with self.log_output:\n",
    "            print(self.peaks_object)\n",
    "        \n",
    "    def set_min(self, what, value):\n",
    "        w = \"w_\" + what\n",
    "        getattr(self, w).min = value\n",
    "        \n",
    "    def set_max(self, what, value):\n",
    "        w = \"w_\" + what\n",
    "        getattr(self, w).max = value\n",
    "        \n",
    "    def set_value(self, what, value):\n",
    "        main_logger.info(f\"setting value ({value}) to widget (w_{what})\")\n",
    "        w = \"w_\" + what\n",
    "        getattr(self, w).value = value\n",
    "        \n",
    "    def set_step(self, what, value):\n",
    "        w = \"w_\" + what\n",
    "        getattr(self, w).step = value\n",
    "        \n",
    "# ---------------------------------------------------------------------------\n",
    "visited = {}\n",
    "options=list(range(10))\n",
    "\n",
    "def load_cycle(change):\n",
    "    cycle = change.new\n",
    "    if cycle in visited.keys():\n",
    "        c = visited[cycle]\n",
    "    else:\n",
    "        cha, volt = my_data.get_ccap(cycle)\n",
    "        v, dq = ica.dqdv(volt, cha)\n",
    "        silicon = Silicon(shift=-0.0, max_point=dq.max(), sigma_p1=0.06)\n",
    "        c = SiliconPeaksFitWidget(silicon, v, dq, f\"Cycle {cycle}\")\n",
    "        visited[cycle] = c\n",
    "    with fit_window:\n",
    "        fit_window.clear_output(wait=True)\n",
    "        display(c)\n",
    "\n",
    "fit_window = widgets.Output()\n",
    "\n",
    "description = widgets.Label(\"Select cycle\")\n",
    "sel = widgets.Select(\n",
    "    options=options,\n",
    "    value=options[0],\n",
    "    rows=20,\n",
    "    disabled=False,\n",
    "    layout=widgets.Layout(width='70%', height='220px'),\n",
    ")\n",
    "sel.observe(load_cycle, 'value')\n",
    "header = widgets.VBox([description, sel])\n",
    "out = widgets.HBox([header, fit_window])\n",
    "\n",
    "handler = log_viewer()\n",
    "main_logger_out = handler.output\n",
    "\n",
    "main_logger = logging.getLogger(__name__)\n",
    "main_logger.addHandler(handler)\n",
    "main_logger.setLevel(20)   # log at info level.\n",
    "\n",
    "display(main_logger_out)\n",
    "display(out)"
   ]
  },
  {
   "cell_type": "code",
   "execution_count": null,
   "metadata": {},
   "outputs": [],
   "source": [
    "#visited[2]"
   ]
  },
  {
   "cell_type": "code",
   "execution_count": null,
   "metadata": {},
   "outputs": [],
   "source": [
    "txt = widgets.Text()\n",
    "options=list(range(8))\n",
    "main_title = widgets.Label(\"Cycle selector\")\n",
    "description = widgets.Label(\"Select one\")\n",
    "sel = widgets.Select(\n",
    "    options=options,\n",
    "    value=options[0],\n",
    "    rows=10,\n",
    "    #description='Select one:',\n",
    "    disabled=False,\n",
    "    layout=widgets.Layout(width='5%', height='120px'),\n",
    ")\n",
    "def set_txt(*args):\n",
    "    txt.value = str(sel.value)\n",
    "    \n",
    "sel.observe(set_txt, 'value')\n",
    "\n",
    "row1 = widgets.VBox([main_title, txt])\n",
    "row2 = widgets.VBox([description, sel])\n",
    "display(widgets.VBox([row1, row2]))"
   ]
  },
  {
   "cell_type": "code",
   "execution_count": null,
   "metadata": {},
   "outputs": [],
   "source": []
  },
  {
   "cell_type": "code",
   "execution_count": null,
   "metadata": {},
   "outputs": [],
   "source": []
  },
  {
   "cell_type": "code",
   "execution_count": null,
   "metadata": {},
   "outputs": [],
   "source": [
    "display(c)"
   ]
  },
  {
   "cell_type": "code",
   "execution_count": null,
   "metadata": {},
   "outputs": [],
   "source": [
    "c.set_value('shift', -0.2)"
   ]
  },
  {
   "cell_type": "code",
   "execution_count": null,
   "metadata": {},
   "outputs": [],
   "source": [
    "c.w_shift.value = 0.001"
   ]
  },
  {
   "cell_type": "code",
   "execution_count": null,
   "metadata": {},
   "outputs": [],
   "source": [
    "c.peaks_object.params.pretty_print()"
   ]
  },
  {
   "cell_type": "code",
   "execution_count": null,
   "metadata": {},
   "outputs": [],
   "source": [
    "result"
   ]
  },
  {
   "cell_type": "markdown",
   "metadata": {},
   "source": [
    "## Useful functions (OLD)"
   ]
  },
  {
   "cell_type": "code",
   "execution_count": null,
   "metadata": {},
   "outputs": [],
   "source": [
    "def get_widgets(parameters):\n",
    "    print(parameters)\n",
    "    \n",
    "\n",
    "def fix(prefix):\n",
    "    _pars = p.make_params()\n",
    "    for k in _pars:\n",
    "        if k.startswith(prefix):\n",
    "            p[k].vary = False\n",
    "\n",
    "def fitplot(v, dq, res, group_title=\"fit\", invert_dq=False, invert_res=False, table=False, width=500, height=500, size=8):\n",
    "    if invert_dq:\n",
    "        dq = -dq\n",
    "        \n",
    "    i = 1\n",
    "    if invert_res:\n",
    "        i = -1\n",
    "        \n",
    "    raw = hv.Points((v, dq), label=\"raw\", group=group_title).opts(\n",
    "        width=width, height=height, size=size, alpha=0.3,\n",
    "        xlabel=\"Voltage\",\n",
    "        ylabel=\"dQ/dv\",\n",
    "    )\n",
    "    \n",
    "    prt = {\n",
    "        \"init\": hv.Curve((v, i * res.init_fit), group=group_title).opts(alpha=0.5),\n",
    "        \"best\": hv.Curve((v, i * res.best_fit), group=group_title),\n",
    "    }\n",
    "    \n",
    "    parts = res.eval_components()\n",
    "\n",
    "    for key in parts:\n",
    "        if not key.endswith(\"Scale\"):\n",
    "            prt[key] = hv.Curve((v, i * parts[key]), group=group_title)\n",
    "            \n",
    "    layout = raw * hv.NdOverlay(prt)\n",
    "    \n",
    "    if table:\n",
    "        x = res.best_values\n",
    "        variables = list(x.keys())\n",
    "        values = list(x.values())\n",
    "        lim_min = [res.params[k].min for k in variables]\n",
    "        lim_max = [res.params[k].max for k in variables]\n",
    "        vary = [res.params[k].vary for k in variables]\n",
    "        # expr = [res.params[k].expr for k in variables]\n",
    "        \n",
    "        fit_values = {\n",
    "            \"var\": variables,\n",
    "            \"val\": values,\n",
    "            \"min\": lim_min,\n",
    "            \"max\": lim_max,\n",
    "            \"vary\": vary,\n",
    "            # \"expr\": expr,\n",
    "        }\n",
    "        \n",
    "        df_fit_values = pd.DataFrame(fit_values)\n",
    "        labels_fit_values = hv.Table(df_fit_values).opts(width=700, height=height)\n",
    "\n",
    "        layout = layout + labels_fit_values\n",
    "        \n",
    "    return layout "
   ]
  },
  {
   "cell_type": "markdown",
   "metadata": {},
   "source": [
    "## TASKS"
   ]
  },
  {
   "cell_type": "markdown",
   "metadata": {},
   "source": [
    "#### ipywidgets\n",
    "Status: Closer (se above)"
   ]
  },
  {
   "cell_type": "code",
   "execution_count": null,
   "metadata": {},
   "outputs": [],
   "source": []
  },
  {
   "cell_type": "markdown",
   "metadata": {},
   "source": [
    "#### Fitting discharge data\n",
    "Status: OK"
   ]
  },
  {
   "cell_type": "code",
   "execution_count": null,
   "metadata": {},
   "outputs": [],
   "source": []
  },
  {
   "cell_type": "code",
   "execution_count": null,
   "metadata": {},
   "outputs": [],
   "source": [
    "cha, volt = my_data.get_dcap(2)\n",
    "v, dq = ica.dqdv(volt, cha)"
   ]
  },
  {
   "cell_type": "code",
   "execution_count": null,
   "metadata": {},
   "outputs": [],
   "source": [
    "silicon = Silicon(shift=-0.1)\n",
    "graphite = Graphite(shift=-0.03)\n",
    "dpeaks = CompositeEnsamble()\n",
    "dpeaks += silicon\n",
    "dpeaks.add(graphite)\n",
    "\n",
    "res = dpeaks.fit(-dq, x=v)\n",
    "layout_d = fitplot(v, dq, res, invert_res=True, group_title=\"discharge\")\n",
    "layout_d"
   ]
  },
  {
   "cell_type": "code",
   "execution_count": null,
   "metadata": {},
   "outputs": [],
   "source": [
    "cha, volt = my_data.get_dcap(6)\n",
    "v, dq = ica.dqdv(volt, cha)\n",
    "dpeaks = CompositeEnsamble(Silicon(shift=-0.1), Graphite(shift=-0.03))\n",
    "res = dpeaks.fit(-dq, x=v)\n",
    "#layout_d = fitplot(v, dq, res, invert_res=True, group_title=\"discharge\")\n",
    "#layout_d"
   ]
  },
  {
   "cell_type": "code",
   "execution_count": null,
   "metadata": {},
   "outputs": [],
   "source": [
    "res.fit_report()"
   ]
  },
  {
   "cell_type": "markdown",
   "metadata": {},
   "source": [
    "#### Set new parameter values, limits, etc\n",
    "Status: usable, but not finished"
   ]
  },
  {
   "cell_type": "code",
   "execution_count": null,
   "metadata": {},
   "outputs": [],
   "source": [
    "# setting peak values\n",
    "# -------------------\n",
    "# method one (seems a bit convoluted)\n",
    "#p_si = Silicon()\n",
    "#p_si.params['Si02sigma'].min = 0\n",
    "#p_si.peaks.set_param_hint('Si02sigma', min=0.0)\n",
    "\n",
    "# method two (simpler?)\n",
    "p_si = Silicon()\n",
    "p_si.peaks.set_param_hint('Si02sigma', min=2.2)\n",
    "p_si.peaks.make_params()\n",
    "p_si.params[\"Si02sigma\"]"
   ]
  },
  {
   "cell_type": "code",
   "execution_count": null,
   "metadata": {},
   "outputs": [],
   "source": [
    "# method two implemented in PeakEnsamble\n",
    "p_si = Silicon()\n",
    "print(f\"hint: {p_si.peaks.param_hints['Si02sigma']} val: {p_si.params['Si02sigma']}\")\n",
    "p_si.set_param('Si02sigma', minimum=0.02, vary=False)\n",
    "print(f\"hint: {p_si.peaks.param_hints['Si02sigma']} val: {p_si.params['Si02sigma']}\")\n",
    "p_si.reset_peaks()\n",
    "print(f\"hint: {p_si.peaks.param_hints['Si02sigma']} val: {p_si.params['Si02sigma']}\")"
   ]
  },
  {
   "cell_type": "code",
   "execution_count": null,
   "metadata": {},
   "outputs": [],
   "source": [
    "prm = \"Si02sigma\"\n",
    "step = 0.01\n",
    "p_si.params[prm].min += step\n",
    "print(f\"hint: {p_si.peaks.param_hints[prm]} val: {p_si.params[prm]}\")\n",
    "\n",
    "# hints are not autmatically updated\n",
    "p_si.create_hints_from_parameters(prm)\n",
    "print(f\"hint: {p_si.peaks.param_hints[prm]} val: {p_si.params[prm]}\")"
   ]
  },
  {
   "cell_type": "code",
   "execution_count": null,
   "metadata": {},
   "outputs": [],
   "source": [
    "# method two implemented in CompositeEnsamble\n",
    "p_t = CompositeEnsemble(Silicon(), Graphite())\n",
    "print(f\"hint: {p_t.param_hints['Si02sigma']} val: {p_t.params['Si02sigma']}\")\n",
    "p_t.set_param('Si02sigma', minimum=0.02, vary=False)\n",
    "print(f\"hint: {p_t.param_hints['Si02sigma']} val: {p_t.params['Si02sigma']}\")\n",
    "p_t.reset_peaks()\n",
    "print(f\"hint: {p_t.param_hints['Si02sigma']} val: {p_t.params['Si02sigma']}\")"
   ]
  },
  {
   "cell_type": "code",
   "execution_count": null,
   "metadata": {},
   "outputs": [],
   "source": [
    "prm = \"Si02sigma\"\n",
    "step = 0.01\n",
    "p_t.params[prm].min += step\n",
    "print(f\"hint: {p_t.param_hints[prm]} val: {p_t.params[prm]}\")\n",
    "\n",
    "# hints are not autmatically updated\n",
    "p_t.create_hints_from_parameters(prm)\n",
    "print(f\"hint: {p_t.param_hints[prm]} val: {p_t.params[prm]}\")"
   ]
  },
  {
   "cell_type": "code",
   "execution_count": null,
   "metadata": {},
   "outputs": [],
   "source": []
  },
  {
   "cell_type": "code",
   "execution_count": null,
   "metadata": {},
   "outputs": [],
   "source": [
    "cha, volt = my_data.get_ccap(4)\n",
    "v, dq = ica.dqdv(volt, cha)"
   ]
  },
  {
   "cell_type": "code",
   "execution_count": null,
   "metadata": {},
   "outputs": [],
   "source": [
    "p_t.set_param(prm, minimum=0.12)"
   ]
  },
  {
   "cell_type": "code",
   "execution_count": null,
   "metadata": {},
   "outputs": [],
   "source": [
    "# using params_hints\n",
    "res1 = p_t.fit(dq, x=v)\n",
    "layout = fitplot(v, dq, res1)\n",
    "layout"
   ]
  },
  {
   "cell_type": "code",
   "execution_count": null,
   "metadata": {},
   "outputs": [],
   "source": [
    "# using params\n",
    "res2 = p_t.fit(dq, params=p_t.params, x=v)\n",
    "layout = fitplot(v, dq, res2)\n",
    "layout"
   ]
  },
  {
   "cell_type": "markdown",
   "metadata": {},
   "source": [
    "##### Comments\n",
    "It seems that there are a multitude of ways to set parameters (params, or param_hints).\n",
    "When fitting, the default seems to be to use the param_hints. Though, you can also pass the\n",
    "parameters directly to the `fit` function.\n",
    "\n",
    "Since `fit` is overridden in our classes, I have the opportunity to fix how it is done.\n",
    "\n",
    "This is the nethodology chosen:\n",
    "\n",
    "(to be implemented)"
   ]
  },
  {
   "cell_type": "markdown",
   "metadata": {},
   "source": [
    "#### Lock the fit-procedure\n",
    "Make a decition how the `fit` method should be implemented.\n",
    "\n",
    "Status: Not done"
   ]
  },
  {
   "cell_type": "code",
   "execution_count": null,
   "metadata": {},
   "outputs": [],
   "source": []
  },
  {
   "cell_type": "markdown",
   "metadata": {},
   "source": [
    "#### Collect fit-results\n",
    "Status: OK"
   ]
  },
  {
   "cell_type": "code",
   "execution_count": null,
   "metadata": {},
   "outputs": [],
   "source": [
    "def f(n, p, **kwargs):\n",
    "    # could invent a better name for this function, maybe...\n",
    "    cha, volt = my_data.get_ccap(n)\n",
    "    v, dq = ica.dqdv(volt, cha)\n",
    "    res = p.fit(dq, x=v)\n",
    "    layout = fitplot(v, dq, res, **kwargs)\n",
    "    return res, layout"
   ]
  },
  {
   "cell_type": "code",
   "execution_count": null,
   "metadata": {},
   "outputs": [],
   "source": [
    "d = dict()\n",
    "r = dict()\n",
    "peaks = CompositeEnsamble(Silicon(crystalline=True), Graphite())\n",
    "cycle_numbers = my_data.get_cycle_numbers()\n",
    "for n in cycle_numbers:\n",
    "    if n == 2:\n",
    "        print(\"turning off crystalline peak\")\n",
    "        peaks.ensamble[0].crystalline = False\n",
    "    try:\n",
    "        print(f\"Fitting cycle {n}\", end=\" \")\n",
    "        r[n], d[n] = f(n, peaks, width=300)\n",
    "        print(\"-> OK\")\n",
    "    except:\n",
    "        print(\"OH NO, Failed!\")"
   ]
  },
  {
   "cell_type": "code",
   "execution_count": null,
   "metadata": {},
   "outputs": [],
   "source": [
    "%%opts Curve [width=300]\n",
    "NdLayout = hv.NdLayout(d, kdims='cycle').cols(4)\n",
    "NdLayout"
   ]
  },
  {
   "cell_type": "code",
   "execution_count": null,
   "metadata": {},
   "outputs": [],
   "source": [
    "def extract_parameter_values(res):\n",
    "    x = res.best_values\n",
    "    variables = list(x.keys())\n",
    "    \n",
    "    values = list(x.values())\n",
    "    lim_min = [res.params[k].min for k in variables]\n",
    "    lim_max = [res.params[k].max for k in variables]\n",
    "    vary = [res.params[k].vary for k in variables]\n",
    "    # expr = [res.params[k].expr for k in variables]\n",
    "\n",
    "    fit_values = {\n",
    "        \"name\": variables,\n",
    "        \"value\": values,\n",
    "        \"min\": lim_min,\n",
    "        \"max\": lim_max,\n",
    "        \"vary\": vary,\n",
    "        # \"expr\": expr,\n",
    "    }\n",
    "\n",
    "    df_fit_values = pd.DataFrame(fit_values)\n",
    "    df_fit_values.index.name = \"parno\"\n",
    "    return df_fit_values"
   ]
  },
  {
   "cell_type": "code",
   "execution_count": null,
   "metadata": {},
   "outputs": [],
   "source": [
    "def combine_parameter_values(r):\n",
    "    frames = list()\n",
    "    for n in r:\n",
    "        df = extract_parameter_values(r[n])\n",
    "        df[\"cycle\"] = n\n",
    "        frames.append(df)\n",
    "    combined = pd.concat(frames).reset_index()\n",
    "    return combined"
   ]
  },
  {
   "cell_type": "code",
   "execution_count": null,
   "metadata": {},
   "outputs": [],
   "source": [
    "result = combine_parameter_values(r)"
   ]
  },
  {
   "cell_type": "code",
   "execution_count": null,
   "metadata": {},
   "outputs": [],
   "source": [
    "Si02center = result[result.name==\"Si02center\"]"
   ]
  },
  {
   "cell_type": "code",
   "execution_count": null,
   "metadata": {},
   "outputs": [],
   "source": [
    "curve = hv.Curve((Si02center.cycle, Si02center.value), (\"Cycle\"), (\"Position (V)\"))\n",
    "points = hv.Scatter((Si02center.cycle, Si02center.value), (\"Cycle\"), (\"Position (V)\")).opts(size=12)\n",
    "curve * points"
   ]
  },
  {
   "cell_type": "markdown",
   "metadata": {},
   "source": [
    "#### Fixing Crystalline peak problem\n",
    "Status: Usable, but re-setting to crystalline from non-crystalline seems to have some hick-ups"
   ]
  },
  {
   "cell_type": "code",
   "execution_count": null,
   "metadata": {},
   "outputs": [],
   "source": [
    "p_not = CompositeEnsemble(Silicon(), Graphite())\n",
    "p_is = CompositeEnsemble(Silicon(crystalline=True), Graphite())"
   ]
  },
  {
   "cell_type": "code",
   "execution_count": null,
   "metadata": {},
   "outputs": [],
   "source": [
    "# -getting data\n",
    "cha, volt = my_data.get_ccap(1)\n",
    "v, dq = ica.dqdv(volt, cha)"
   ]
  },
  {
   "cell_type": "code",
   "execution_count": null,
   "metadata": {},
   "outputs": [],
   "source": [
    "res_is = p_is.fit(dq, x=v)\n",
    "layout_cryst = fitplot(v, dq, res_is, group_title=\"With crystalline peak\", table=False)\n",
    "layout_cryst"
   ]
  },
  {
   "cell_type": "code",
   "execution_count": null,
   "metadata": {},
   "outputs": [],
   "source": [
    "res_is.params"
   ]
  },
  {
   "cell_type": "code",
   "execution_count": null,
   "metadata": {},
   "outputs": [],
   "source": [
    "res_not = p_not.fit(dq, x=v)\n",
    "layout_not = fitplot(v, dq, res_not, group_title=\"Without crystalline peak\", table=False)\n",
    "layout_not"
   ]
  },
  {
   "cell_type": "code",
   "execution_count": null,
   "metadata": {},
   "outputs": [],
   "source": [
    "p_not.ensamble[0].crystalline = True\n",
    "res_not_is = p_not.fit(dq, x=v)\n",
    "layout_not_is = fitplot(v, dq, res_not_is, group_title=\"With added crystalline peak\", table=False)\n",
    "layout_not_is"
   ]
  },
  {
   "cell_type": "code",
   "execution_count": null,
   "metadata": {},
   "outputs": [],
   "source": [
    "# -getting data\n",
    "cha, volt = my_data.get_ccap(2)\n",
    "v2, dq2 = ica.dqdv(volt, cha)"
   ]
  },
  {
   "cell_type": "code",
   "execution_count": null,
   "metadata": {},
   "outputs": [],
   "source": [
    "p_is.ensamble[0].crystalline = False\n",
    "# remark! should find out a way to safely transfer or copy the objects if we would like to keep the initial object unchanged\n",
    "# (this cuould be valuable when using a notebook to prevent problems with excecution order)\n",
    "res_is2 = p_is.fit(dq2, x=v2)\n",
    "layout_cryst2 = fitplot(v2, dq2, res_is2, table=False)\n",
    "layout_cryst2"
   ]
  },
  {
   "cell_type": "markdown",
   "metadata": {},
   "source": [
    "## OLD STUFF"
   ]
  },
  {
   "cell_type": "code",
   "execution_count": null,
   "metadata": {},
   "outputs": [],
   "source": [
    "# Method one (use the overloaded sum operator to make several peaks)\n",
    "p1 = Silicon().peaks + Graphite().peaks\n",
    "pars1 = p1.make_params()"
   ]
  },
  {
   "cell_type": "code",
   "execution_count": null,
   "metadata": {},
   "outputs": [],
   "source": [
    "# Method two (use CompositeEnsamble, the prefered method)\n",
    "p2 = CompositeEnsamble(Silicon(), Graphite())"
   ]
  },
  {
   "cell_type": "code",
   "execution_count": null,
   "metadata": {},
   "outputs": [],
   "source": [
    "# Method three (consider creating methods for doing this more smoothly)\n",
    "p3 = CompositeEnsamble()\n",
    "p3.ensamble.append(Silicon())\n",
    "p3.ensamble.append(Graphite())\n",
    "p3._join()"
   ]
  },
  {
   "cell_type": "code",
   "execution_count": null,
   "metadata": {},
   "outputs": [],
   "source": [
    "# Method one and method tow should create the same result (wrt their peaks attribute)\n",
    "assert p1.param_hints == p2._peaks.param_hints\n",
    "assert p1.param_hints == p3._peaks.param_hints"
   ]
  },
  {
   "cell_type": "code",
   "execution_count": null,
   "metadata": {},
   "outputs": [],
   "source": [
    "# FITTING CRYSTALLINE PEAK DOES NOT WORK PROPERLY\n",
    "#p2.ensamble[0].crystalline = True\n",
    "#p2.ensamble[0].crystalline"
   ]
  },
  {
   "cell_type": "code",
   "execution_count": null,
   "metadata": {},
   "outputs": [],
   "source": [
    "# initial fit\n",
    "# -getting data\n",
    "cha, volt = my_data.get_ccap(1)\n",
    "v, dq = ica.dqdv(volt, cha)\n",
    "\n",
    "# -fitting\n",
    "res = p2.fit(dq, x=v)\n",
    "print(\"> OK <\".center(80, \"-\"))\n",
    "# -creating a plot\n",
    "layout = fitplot(v, dq, res)\n",
    "layout"
   ]
  },
  {
   "cell_type": "code",
   "execution_count": null,
   "metadata": {},
   "outputs": [],
   "source": [
    "# Information about the fit\n",
    "# -------------------------\n",
    "# res.data the measurement data (y-values)\n",
    "# res.init_fit calculated using the initial peak values (y-values)\n",
    "# res.best_fit the best fit obtained after fitting (y-values)\n",
    "# res.params contains fitted parameters object (use e.g. in p2.peaks.eval(params=res.params, x=v))\n",
    "# res.best_values is a dictionary with the best fitted values (i.e a sub-set of res.params)\n",
    "# res.fit_report() gives a summary of the fit statistics and values"
   ]
  },
  {
   "cell_type": "code",
   "execution_count": null,
   "metadata": {},
   "outputs": [],
   "source": [
    "def f(n, p, **kwargs):\n",
    "    cha, volt = my_data.get_ccap(n)\n",
    "    v, dq = ica.dqdv(volt, cha)\n",
    "    res = p.fit(dq, x=v)\n",
    "    layout = fitplot(v, dq, res, **kwargs)\n",
    "    return layout"
   ]
  },
  {
   "cell_type": "code",
   "execution_count": null,
   "metadata": {},
   "outputs": [],
   "source": [
    "d = dict()\n",
    "for n in my_data.get_cycle_numbers():\n",
    "    try:\n",
    "        print(f\"Fitting cycle {n}\", end=\" \")\n",
    "        d[n] = f(n, p2, width=300)\n",
    "        print(\"-> OK\")\n",
    "    except:\n",
    "        print(\"OH NO, Failed!\")"
   ]
  },
  {
   "cell_type": "code",
   "execution_count": null,
   "metadata": {},
   "outputs": [],
   "source": [
    "%%opts Curve [width=300]\n",
    "NdLayout = hv.NdLayout(d, kdims='cycle').cols(4)\n",
    "NdLayout"
   ]
  }
 ],
 "metadata": {
  "kernelspec": {
   "display_name": "cellpy",
   "language": "python",
   "name": "cellpy"
  },
  "language_info": {
   "codemirror_mode": {
    "name": "ipython",
    "version": 3
   },
   "file_extension": ".py",
   "mimetype": "text/x-python",
   "name": "python",
   "nbconvert_exporter": "python",
   "pygments_lexer": "ipython3",
   "version": "3.7.4"
  }
 },
 "nbformat": 4,
 "nbformat_minor": 4
}
