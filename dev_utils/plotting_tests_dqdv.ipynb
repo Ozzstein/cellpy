{
 "cells": [
  {
   "cell_type": "markdown",
   "metadata": {},
   "source": [
    "# Best practice for plotting batch-runs"
   ]
  },
  {
   "cell_type": "code",
   "execution_count": null,
   "metadata": {},
   "outputs": [],
   "source": [
    "import os\n",
    "import bokeh\n",
    "import numpy as np\n",
    "import matplotlib.pyplot as plt\n",
    "import pandas as pd\n",
    "from cellpy import cellreader\n",
    "from cellpy.utils import ica\n",
    "import holoviews as hv\n",
    "import altair as alt\n",
    "%matplotlib inline"
   ]
  },
  {
   "cell_type": "markdown",
   "metadata": {},
   "source": [
    "### Setting file names and loading data"
   ]
  },
  {
   "cell_type": "code",
   "execution_count": null,
   "metadata": {},
   "outputs": [],
   "source": [
    "my_data = cellreader.CellpyData()\n",
    "filename = \"../testdata/hdf5/20160805_test001_45_cc.h5\"\n",
    "assert os.path.isfile(filename)"
   ]
  },
  {
   "cell_type": "code",
   "execution_count": null,
   "metadata": {},
   "outputs": [],
   "source": [
    "my_data.load(filename)\n",
    "my_data.set_mass(0.1)"
   ]
  },
  {
   "cell_type": "markdown",
   "metadata": {},
   "source": [
    "### Checking the data"
   ]
  },
  {
   "cell_type": "markdown",
   "metadata": {},
   "source": [
    "#### voltage cycles"
   ]
  },
  {
   "cell_type": "code",
   "execution_count": null,
   "metadata": {},
   "outputs": [],
   "source": [
    "capacity, voltage = my_data.get_cap()"
   ]
  },
  {
   "cell_type": "code",
   "execution_count": null,
   "metadata": {},
   "outputs": [],
   "source": [
    "plt.plot(capacity, voltage)"
   ]
  },
  {
   "cell_type": "code",
   "execution_count": null,
   "metadata": {},
   "outputs": [],
   "source": [
    "cycles = my_data.get_cycle_numbers()"
   ]
  },
  {
   "cell_type": "code",
   "execution_count": null,
   "metadata": {},
   "outputs": [],
   "source": [
    "charge_cycles = np.array([my_data.get_ccap(c) for c in cycles])"
   ]
  },
  {
   "cell_type": "code",
   "execution_count": null,
   "metadata": {},
   "outputs": [],
   "source": [
    "for x,y in charge_cycles:\n",
    "    plt.plot(x,y)"
   ]
  },
  {
   "cell_type": "code",
   "execution_count": null,
   "metadata": {},
   "outputs": [],
   "source": [
    "def make_charge_list(data):\n",
    "    \"\"\"Create a list of pandas.DataFrames, one for each charge step.\n",
    "    \n",
    "    The DataFrames are named by its cycle number.\n",
    "    \n",
    "    Input: CellpyData\n",
    "    Returns: list of pandas.DataFrames\n",
    "        minimum voltage value,\n",
    "        maximum voltage value\"\"\"\n",
    "    \n",
    "    minimum_v_value = np.Inf\n",
    "    maximum_v_value = -np.Inf\n",
    "    charge_list = []\n",
    "    cycles = my_data.get_cycle_numbers()\n",
    "    for cycle in cycles:\n",
    "        q, v = data.get_ccap(cycle)\n",
    "        d = pd.DataFrame({\"q\": q, \"v\": v})\n",
    "        #d.name = f\"{cycle}\"\n",
    "        d.name = cycle\n",
    "        charge_list.append(d)\n",
    "        v_min = v.min()\n",
    "        v_max = v.max()\n",
    "        if v_min < minimum_v_value:\n",
    "            minimum_v_value = v_min\n",
    "        if v_max > maximum_v_value:\n",
    "            maximum_v_value = v_max\n",
    "    return charge_list, minimum_v_value, maximum_v_value\n"
   ]
  },
  {
   "cell_type": "code",
   "execution_count": null,
   "metadata": {},
   "outputs": [],
   "source": [
    "charge_dfs, minimum_v, maximum_v = make_charge_list(my_data)"
   ]
  },
  {
   "cell_type": "code",
   "execution_count": null,
   "metadata": {},
   "outputs": [],
   "source": [
    "charge_df = pd.concat(charge_dfs, axis=1, keys=[k.name for k in charge_dfs])"
   ]
  },
  {
   "cell_type": "code",
   "execution_count": null,
   "metadata": {},
   "outputs": [],
   "source": [
    "# discharge_cycles = np.array([my_data.get_dcap(c) for c in cycles])"
   ]
  },
  {
   "cell_type": "markdown",
   "metadata": {},
   "source": [
    "### Checking ica"
   ]
  },
  {
   "cell_type": "code",
   "execution_count": null,
   "metadata": {},
   "outputs": [],
   "source": [
    "c, v = charge_cycles[2]\n",
    "dq, dv = ica.dqdv(v, c)\n",
    "plt.plot(dq,dv)"
   ]
  },
  {
   "cell_type": "code",
   "execution_count": null,
   "metadata": {},
   "outputs": [],
   "source": [
    "print(f\"min, max = ({minimum_v} {maximum_v})\")"
   ]
  },
  {
   "cell_type": "markdown",
   "metadata": {},
   "source": [
    "## Creating dqdv-data"
   ]
  },
  {
   "cell_type": "code",
   "execution_count": null,
   "metadata": {},
   "outputs": [],
   "source": [
    "def custom_dq_dv(capacity, voltage, minimum_v, maximum_v):\n",
    "    converter = ica.Converter()\n",
    "    converter.set_data(capacity, voltage)\n",
    "    converter.inspect_data()\n",
    "    converter.pre_process_data()\n",
    "    converter.increment_data()\n",
    "    converter.fixed_voltage_range = [minimum_v, maximum_v, 100]\n",
    "    converter.post_process_data()\n",
    "    return converter.voltage_processed, converter.incremental_capacity"
   ]
  },
  {
   "cell_type": "code",
   "execution_count": null,
   "metadata": {},
   "outputs": [],
   "source": [
    "incremental_charge_list = []\n",
    "for (cap, volt), cycle in zip(charge_cycles, cycles):\n",
    "    if cap.any():\n",
    "        dv, dq = custom_dq_dv(cap, volt, minimum_v, maximum_v)\n",
    "        if not incremental_charge_list:\n",
    "            d = pd.DataFrame({\"dv\": dv})\n",
    "            d.name = \"voltage\"\n",
    "            incremental_charge_list.append(d)\n",
    "\n",
    "            d = pd.DataFrame({f\"dq\": dq})\n",
    "            d.name = cycle\n",
    "            incremental_charge_list.append(d)\n",
    "            \n",
    "        else:\n",
    "            d = pd.DataFrame({f\"dq\": dq})\n",
    "            #d.name = f\"{cycle}\"\n",
    "            d.name = cycle\n",
    "            incremental_charge_list.append(d)\n",
    "    else:\n",
    "        print(f\"{cycle} is empty\")"
   ]
  },
  {
   "cell_type": "code",
   "execution_count": null,
   "metadata": {},
   "outputs": [],
   "source": [
    "ica_df = pd.concat(incremental_charge_list, axis=1, keys=[k.name for k in incremental_charge_list])"
   ]
  },
  {
   "cell_type": "code",
   "execution_count": null,
   "metadata": {},
   "outputs": [],
   "source": [
    "ica_df.columns.names = [\"cycle\", \"value\"]"
   ]
  },
  {
   "cell_type": "code",
   "execution_count": null,
   "metadata": {},
   "outputs": [],
   "source": [
    "ica_df.head(12)"
   ]
  },
  {
   "cell_type": "code",
   "execution_count": null,
   "metadata": {},
   "outputs": [],
   "source": [
    "ica_df.plot(x=(\"voltage\",\"dv\"))"
   ]
  },
  {
   "cell_type": "markdown",
   "metadata": {},
   "source": [
    "**Success!**"
   ]
  },
  {
   "cell_type": "code",
   "execution_count": null,
   "metadata": {},
   "outputs": [],
   "source": [
    "ica_df.head()"
   ]
  },
  {
   "cell_type": "code",
   "execution_count": null,
   "metadata": {},
   "outputs": [],
   "source": [
    "ica_long_multiindex = ica_df.copy()"
   ]
  },
  {
   "cell_type": "code",
   "execution_count": null,
   "metadata": {},
   "outputs": [],
   "source": [
    "ica_long_multiindex.head()"
   ]
  },
  {
   "cell_type": "code",
   "execution_count": null,
   "metadata": {},
   "outputs": [],
   "source": [
    "long_multiindex = ica_long_multiindex.melt(\"voltage\", var_name=\"cycle\", value_name=\"dq\", col_level=0)"
   ]
  },
  {
   "cell_type": "code",
   "execution_count": null,
   "metadata": {},
   "outputs": [],
   "source": [
    "long_multiindex.head()"
   ]
  },
  {
   "cell_type": "code",
   "execution_count": null,
   "metadata": {},
   "outputs": [],
   "source": [
    "long_multiindex.tail()"
   ]
  },
  {
   "cell_type": "markdown",
   "metadata": {},
   "source": [
    "### Plotting with Altair"
   ]
  },
  {
   "cell_type": "code",
   "execution_count": null,
   "metadata": {},
   "outputs": [],
   "source": [
    "alt.renderers.enable('notebook')"
   ]
  },
  {
   "cell_type": "markdown",
   "metadata": {},
   "source": [
    "|   Data Type    |    Shorthand Code   |   Description                     |\n",
    "|----------------|---------------------|-----------------------------------|\n",
    "| quantitative   | Q                   | a continuous real-valued quantity |\n",
    "|ordinal | O | a discrete ordered quantity|\n",
    "|nominal | N | a discrete unordered category|\n",
    "|temporal | T | a time or date value|"
   ]
  },
  {
   "cell_type": "code",
   "execution_count": null,
   "metadata": {},
   "outputs": [],
   "source": [
    "alt.Chart(long_multiindex).mark_line().encode(\n",
    "  x='voltage:Q',\n",
    "  y='dq:Q',\n",
    "  color='cycle:O'\n",
    ").interactive()"
   ]
  },
  {
   "cell_type": "code",
   "execution_count": null,
   "metadata": {},
   "outputs": [],
   "source": [
    "import altair as alt\n",
    "from vega_datasets import data\n",
    "\n",
    "stocks = long_multiindex\n",
    "\n",
    "highlight = alt.selection(type='single', on='mouseover',\n",
    "                          fields=['cycle'], nearest=True)\n",
    "\n",
    "base = alt.Chart(stocks).encode(\n",
    "    x='voltage:Q',\n",
    "    y='dq:Q',\n",
    "    color='cycle:O'\n",
    ")\n",
    "\n",
    "points = base.mark_circle().encode(\n",
    "    opacity=alt.value(0)\n",
    ").add_selection(\n",
    "    highlight\n",
    ").properties(\n",
    "    width=600\n",
    ")\n",
    "\n",
    "lines = base.mark_line().encode(\n",
    "    size=alt.condition(~highlight, alt.value(0.5), alt.value(3))\n",
    ").interactive()\n",
    "\n",
    "points + lines"
   ]
  },
  {
   "cell_type": "markdown",
   "metadata": {},
   "source": [
    "Easy...but a bit limiting?"
   ]
  },
  {
   "cell_type": "code",
   "execution_count": null,
   "metadata": {},
   "outputs": [],
   "source": []
  },
  {
   "cell_type": "markdown",
   "metadata": {},
   "source": [
    "### Trying Bokeh"
   ]
  },
  {
   "cell_type": "markdown",
   "metadata": {},
   "source": [
    "The main benifit with using Bokeh: interactive html"
   ]
  },
  {
   "cell_type": "code",
   "execution_count": null,
   "metadata": {},
   "outputs": [],
   "source": [
    "from bokeh.io import output_notebook\n",
    "output_notebook()"
   ]
  },
  {
   "cell_type": "code",
   "execution_count": null,
   "metadata": {},
   "outputs": [],
   "source": [
    "# trick to flatten the multiindex (not sure if HoloViews takes multiindex)\n",
    "# ica_df.columns = ['_'.join(col).strip() for col in ica_df.columns.values]"
   ]
  },
  {
   "cell_type": "code",
   "execution_count": null,
   "metadata": {},
   "outputs": [],
   "source": [
    "from bokeh.models import ColumnDataSource, DataRange1d, Plot, LinearAxis, Grid\n",
    "from bokeh.plotting import figure, show\n",
    "from bokeh.palettes import Spectral11, Paired, Viridis256\n",
    "from bokeh.models.glyphs import MultiLine, Line\n",
    "from bokeh.io import show\n",
    "import itertools\n",
    "from bokeh.transform import linear_cmap"
   ]
  },
  {
   "cell_type": "code",
   "execution_count": null,
   "metadata": {},
   "outputs": [],
   "source": [
    "# source = ColumnDataSource(ica_df) # bokeh automatically flattens multiindexed columns using \"_\".join(k) (i.e. must be str)\n",
    "# source.data"
   ]
  },
  {
   "cell_type": "code",
   "execution_count": null,
   "metadata": {},
   "outputs": [],
   "source": [
    "source = ColumnDataSource(long_multiindex)"
   ]
  },
  {
   "cell_type": "code",
   "execution_count": null,
   "metadata": {},
   "outputs": [],
   "source": []
  },
  {
   "cell_type": "code",
   "execution_count": null,
   "metadata": {},
   "outputs": [],
   "source": [
    "xrange = DataRange1d()\n",
    "yrange = DataRange1d()\n",
    "plot = figure(x_range=xrange, y_range=yrange, plot_width=800, plot_height=300)\n",
    "plot.line(source=source, x=\"voltage\", y=\"dq\", legend=\"cycle\") #, line_color=linear_cmap('cycle', \"Viridis256\", 0, 255))\n",
    "show(plot)\n",
    "# How can I set a color palette? mappers?"
   ]
  },
  {
   "cell_type": "markdown",
   "metadata": {},
   "source": [
    "Not sure if I want to do this anymore. Bokeh is a little bit of a \"luremus\"..\n",
    "Lets check if Holoviews makes life a little bit easier."
   ]
  },
  {
   "cell_type": "markdown",
   "metadata": {},
   "source": [
    "### Plotting with HoloViews"
   ]
  },
  {
   "cell_type": "code",
   "execution_count": null,
   "metadata": {},
   "outputs": [],
   "source": [
    "hv.extension('bokeh')"
   ]
  },
  {
   "cell_type": "code",
   "execution_count": null,
   "metadata": {},
   "outputs": [],
   "source": [
    "curve = hv.Curve(long_multiindex, kdims=['voltage', \"dq\"], vdims=['cycle'])\n",
    "curve"
   ]
  },
  {
   "cell_type": "code",
   "execution_count": null,
   "metadata": {},
   "outputs": [],
   "source": [
    "%%opts\n",
    "curve2 = hv.Curve(long_multiindex, kdims=[\"voltage\", \"dq\"], vdims=\"cycle\")\n",
    "curve2"
   ]
  },
  {
   "cell_type": "code",
   "execution_count": null,
   "metadata": {},
   "outputs": [],
   "source": [
    "long_multiindex.head()"
   ]
  },
  {
   "cell_type": "code",
   "execution_count": null,
   "metadata": {},
   "outputs": [],
   "source": [
    "from bokeh.sampledata.iris import flowers\n",
    "from holoviews.operation import gridmatrix\n",
    "\n",
    "iris_ds = hv.Dataset(flowers)"
   ]
  },
  {
   "cell_type": "code",
   "execution_count": null,
   "metadata": {},
   "outputs": [],
   "source": [
    "%%opts Bivariate [bandwidth=0.5] (cmap='Blues') Points [tools=['box_select']] (size=2)\n",
    "density_grid = gridmatrix(iris_ds, diagonal_type=hv.Distribution, chart_type=hv.Bivariate)\n",
    "point_grid = gridmatrix(iris_ds, chart_type=hv.Points)\n",
    "\n",
    "density_grid * point_grid"
   ]
  },
  {
   "cell_type": "code",
   "execution_count": null,
   "metadata": {},
   "outputs": [],
   "source": []
  }
 ],
 "metadata": {
  "kernelspec": {
   "display_name": "Python3 (cellpy)",
   "language": "python",
   "name": "cellpy"
  },
  "language_info": {
   "codemirror_mode": {
    "name": "ipython",
    "version": 3
   },
   "file_extension": ".py",
   "mimetype": "text/x-python",
   "name": "python",
   "nbconvert_exporter": "python",
   "pygments_lexer": "ipython3",
   "version": "3.6.5"
  }
 },
 "nbformat": 4,
 "nbformat_minor": 2
}
