{
 "cells": [
  {
   "cell_type": "markdown",
   "metadata": {},
   "source": [
    "# Best practice for plotting batch-runs"
   ]
  },
  {
   "cell_type": "code",
   "execution_count": null,
   "metadata": {},
   "outputs": [],
   "source": [
    "import os\n",
    "import bokeh\n",
    "import numpy as np\n",
    "import matplotlib.pyplot as plt\n",
    "import pandas as pd\n",
    "from cellpy import cellreader\n",
    "from cellpy.utils import ica\n",
    "import holoviews\n",
    "%matplotlib inline"
   ]
  },
  {
   "cell_type": "markdown",
   "metadata": {},
   "source": [
    "### Setting file names and loading data"
   ]
  },
  {
   "cell_type": "code",
   "execution_count": null,
   "metadata": {},
   "outputs": [],
   "source": [
    "my_data = cellreader.CellpyData()\n",
    "filename = \"../testdata/hdf5/20160805_test001_45_cc.h5\"\n",
    "assert os.path.isfile(filename)"
   ]
  },
  {
   "cell_type": "code",
   "execution_count": null,
   "metadata": {},
   "outputs": [],
   "source": [
    "my_data.load(filename)\n",
    "my_data.set_mass(0.1)"
   ]
  },
  {
   "cell_type": "markdown",
   "metadata": {},
   "source": [
    "### Checking the data"
   ]
  },
  {
   "cell_type": "markdown",
   "metadata": {},
   "source": [
    "#### voltage cycles"
   ]
  },
  {
   "cell_type": "code",
   "execution_count": null,
   "metadata": {},
   "outputs": [],
   "source": [
    "capacity, voltage = my_data.get_cap()"
   ]
  },
  {
   "cell_type": "code",
   "execution_count": null,
   "metadata": {},
   "outputs": [],
   "source": [
    "plt.plot(capacity, voltage)"
   ]
  },
  {
   "cell_type": "code",
   "execution_count": null,
   "metadata": {},
   "outputs": [],
   "source": [
    "cycles = my_data.get_cycle_numbers()"
   ]
  },
  {
   "cell_type": "code",
   "execution_count": null,
   "metadata": {},
   "outputs": [],
   "source": [
    "charge_cycles = np.array([my_data.get_ccap(c) for c in cycles])"
   ]
  },
  {
   "cell_type": "code",
   "execution_count": null,
   "metadata": {},
   "outputs": [],
   "source": [
    "for x,y in charge_cycles:\n",
    "    plt.plot(x,y)"
   ]
  },
  {
   "cell_type": "code",
   "execution_count": null,
   "metadata": {},
   "outputs": [],
   "source": [
    "def make_charge_list(data):\n",
    "    minimum_v_value = np.Inf\n",
    "    maximum_v_value = -np.Inf\n",
    "    charge_list = []\n",
    "    cycles = my_data.get_cycle_numbers()\n",
    "    for cycle in cycles:\n",
    "        q, v = data.get_ccap(cycle)\n",
    "        d = pd.DataFrame({\"q\": q, \"v\": v})\n",
    "        d.name = f\"{cycle}\"\n",
    "        charge_list.append(d)\n",
    "        v_min = v.min()\n",
    "        v_max = v.max()\n",
    "        if v_min < minimum_v_value:\n",
    "            minimum_v_value = v_min\n",
    "        if v_max > maximum_v_value:\n",
    "            maximum_v_value = v_max\n",
    "    return charge_list, minimum_v_value, maximum_v_value\n"
   ]
  },
  {
   "cell_type": "code",
   "execution_count": null,
   "metadata": {},
   "outputs": [],
   "source": [
    "charge_dfs, minimum_v, maximum_v = make_charge_list(my_data)"
   ]
  },
  {
   "cell_type": "code",
   "execution_count": null,
   "metadata": {},
   "outputs": [],
   "source": [
    "charge_df = pd.concat(charge_dfs, axis=1, keys=[k.name for k in charge_dfs])"
   ]
  },
  {
   "cell_type": "code",
   "execution_count": null,
   "metadata": {},
   "outputs": [],
   "source": [
    "# discharge_cycles = np.array([my_data.get_dcap(c) for c in cycles])"
   ]
  },
  {
   "cell_type": "markdown",
   "metadata": {},
   "source": [
    "### Checking ica"
   ]
  },
  {
   "cell_type": "code",
   "execution_count": null,
   "metadata": {},
   "outputs": [],
   "source": [
    "c, v = charge_cycles[2]\n",
    "dq, dv = ica.dqdv(v, c)\n",
    "plt.plot(dq,dv)"
   ]
  },
  {
   "cell_type": "code",
   "execution_count": null,
   "metadata": {},
   "outputs": [],
   "source": [
    "print(f\"min, max = ({minimum_v} {maximum_v})\")"
   ]
  },
  {
   "cell_type": "markdown",
   "metadata": {},
   "source": [
    "## Creating dqdv-data"
   ]
  },
  {
   "cell_type": "code",
   "execution_count": null,
   "metadata": {},
   "outputs": [],
   "source": [
    "def custom_dq_dv(capacity, voltage):\n",
    "    converter = ica.Converter()\n",
    "    converter.set_data(capacity, voltage)\n",
    "    converter.inspect_data()\n",
    "    converter.pre_process_data()\n",
    "    converter.increment_data()\n",
    "    converter.fixed_voltage_range = [minimum_v, maximum_v, 100]\n",
    "    converter.post_process_data()\n",
    "    return converter.voltage_processed, converter.incremental_capacity"
   ]
  },
  {
   "cell_type": "code",
   "execution_count": null,
   "metadata": {},
   "outputs": [],
   "source": [
    "incremental_charge_list = []\n",
    "for (cap, volt), cycle in zip(charge_cycles, cycles):\n",
    "    if cap.any():\n",
    "        dv, dq = custom_dq_dv(cap, volt)\n",
    "        if not incremental_charge_list:\n",
    "            d = pd.DataFrame({\"dv\": dv, f\"dq\": dq})\n",
    "        else:\n",
    "            d = pd.DataFrame({f\"dq\": dq})\n",
    "        d.name = f\"{cycle}\"\n",
    "        incremental_charge_list.append(d)\n",
    "    else:\n",
    "        print(f\"{cycle} is empty\")"
   ]
  },
  {
   "cell_type": "code",
   "execution_count": null,
   "metadata": {},
   "outputs": [],
   "source": [
    "ica_df = pd.concat(incremental_charge_list, axis=1, keys=[k.name for k in incremental_charge_list])"
   ]
  },
  {
   "cell_type": "code",
   "execution_count": null,
   "metadata": {},
   "outputs": [],
   "source": [
    "ica_df.columns.names = [\"cycle\", \"value\"]"
   ]
  },
  {
   "cell_type": "code",
   "execution_count": null,
   "metadata": {},
   "outputs": [],
   "source": [
    "ica_df.head()"
   ]
  },
  {
   "cell_type": "code",
   "execution_count": null,
   "metadata": {},
   "outputs": [],
   "source": [
    "ica_df.plot(x=(\"1\",\"dv\"))"
   ]
  },
  {
   "cell_type": "markdown",
   "metadata": {},
   "source": [
    "**Success!**"
   ]
  },
  {
   "cell_type": "markdown",
   "metadata": {},
   "source": [
    "### Trying Bokeh"
   ]
  },
  {
   "cell_type": "markdown",
   "metadata": {},
   "source": [
    "The main benifit with using Bokeh: interactive html"
   ]
  },
  {
   "cell_type": "code",
   "execution_count": null,
   "metadata": {},
   "outputs": [],
   "source": [
    "from bokeh.io import output_notebook\n",
    "output_notebook()"
   ]
  },
  {
   "cell_type": "code",
   "execution_count": null,
   "metadata": {},
   "outputs": [],
   "source": [
    "# trick to flatten the multiindex (not sure if HoloViews takes multiindex)\n",
    "# ica_df.columns = ['_'.join(col).strip() for col in ica_df.columns.values]"
   ]
  },
  {
   "cell_type": "code",
   "execution_count": null,
   "metadata": {},
   "outputs": [],
   "source": [
    "from bokeh.models import ColumnDataSource, DataRange1d, Plot, LinearAxis, Grid\n",
    "from bokeh.models.glyphs import MultiLine, Line\n",
    "from bokeh.io import show"
   ]
  },
  {
   "cell_type": "code",
   "execution_count": null,
   "metadata": {},
   "outputs": [],
   "source": [
    "source = ColumnDataSource(ica_df)\n",
    "#source.data"
   ]
  },
  {
   "cell_type": "code",
   "execution_count": null,
   "metadata": {},
   "outputs": [],
   "source": [
    "xrange = DataRange1d()\n",
    "yrange = DataRange1d()\n",
    "plot = Plot(x_range=xrange, y_range=yrange, plot_width=300, plot_height=300)"
   ]
  },
  {
   "cell_type": "code",
   "execution_count": null,
   "metadata": {},
   "outputs": [],
   "source": [
    "glyph = Line(x=\"1_dv\", y=\"1_dq\")"
   ]
  },
  {
   "cell_type": "code",
   "execution_count": null,
   "metadata": {},
   "outputs": [],
   "source": [
    "plot.add_glyph(source, glyph)\n",
    "show(plot)"
   ]
  },
  {
   "cell_type": "code",
   "execution_count": null,
   "metadata": {},
   "outputs": [],
   "source": [
    "from bokeh.plotting import figure, show\n",
    "p = figure(plot_width=400, plot_height=400)\n",
    "p.circle([1, 2, 3, 4, 5], [6, 7, 2, 4, 5], size=20, color=\"navy\", alpha=0.5)\n",
    "show(p)"
   ]
  },
  {
   "cell_type": "code",
   "execution_count": null,
   "metadata": {},
   "outputs": [],
   "source": [
    "#ica_df.xs(\"dq\", axis=1, level=1)"
   ]
  },
  {
   "cell_type": "code",
   "execution_count": null,
   "metadata": {},
   "outputs": [],
   "source": [
    "p = figure()\n",
    "p.line(\"1_dv\", \"1_dq\", source=source)\n",
    "show(p)"
   ]
  },
  {
   "cell_type": "code",
   "execution_count": null,
   "metadata": {},
   "outputs": [],
   "source": [
    "source.column_names"
   ]
  },
  {
   "cell_type": "code",
   "execution_count": null,
   "metadata": {},
   "outputs": [],
   "source": [
    "import itertools\n",
    "from bokeh.palettes import Spectral11\n",
    "\n",
    "line_dash_styles = [[10, 0], [20, 1], [10, 1], [5, 1]]\n",
    "p = figure(name=\"all\", plot_width=900, plot_height=400)\n",
    "for col, color, line_dash in zip(source.column_names, itertools.cycle(Spectral11), itertools.cycle(line_dash_styles)):\n",
    "    if col not in [\"1_dv\", \"index\"]:\n",
    "        p.line(\"1_dv\", col, source=source, color=color, legend=col.split(\"_\")[0], line_dash=line_dash)\n",
    "p.legend.location = \"bottom_left\"\n",
    "p.legend.name = \"cycle\"\n",
    "show(p)"
   ]
  },
  {
   "cell_type": "code",
   "execution_count": null,
   "metadata": {},
   "outputs": [],
   "source": []
  }
 ],
 "metadata": {
  "kernelspec": {
   "display_name": "Python3 (cellpy)",
   "language": "python",
   "name": "cellpy"
  },
  "language_info": {
   "codemirror_mode": {
    "name": "ipython",
    "version": 3
   },
   "file_extension": ".py",
   "mimetype": "text/x-python",
   "name": "python",
   "nbconvert_exporter": "python",
   "pygments_lexer": "ipython3",
   "version": "3.6.5"
  }
 },
 "nbformat": 4,
 "nbformat_minor": 2
}
