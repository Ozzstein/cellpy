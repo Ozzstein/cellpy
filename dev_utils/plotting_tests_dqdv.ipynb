{
 "cells": [
  {
   "cell_type": "markdown",
   "metadata": {},
   "source": [
    "# Best practice for plotting batch-runs"
   ]
  },
  {
   "cell_type": "code",
   "execution_count": 1,
   "metadata": {},
   "outputs": [],
   "source": [
    "import os\n",
    "import bokeh\n",
    "import numpy as np\n",
    "import matplotlib.pyplot as plt\n",
    "import pandas as pd\n",
    "from cellpy import cellreader\n",
    "from cellpy.utils import ica\n",
    "from cellpy.exceptions import NullData\n",
    "import holoviews as hv\n",
    "import altair as alt\n",
    "%matplotlib inline"
   ]
  },
  {
   "cell_type": "markdown",
   "metadata": {},
   "source": [
    "### Setting file names and loading data"
   ]
  },
  {
   "cell_type": "code",
   "execution_count": 2,
   "metadata": {},
   "outputs": [],
   "source": [
    "my_data = cellreader.CellpyData()\n",
    "filename = \"../testdata/hdf5/20160805_test001_45_cc.h5\"\n",
    "assert os.path.isfile(filename)"
   ]
  },
  {
   "cell_type": "code",
   "execution_count": 3,
   "metadata": {},
   "outputs": [
    {
     "name": "stderr",
     "output_type": "stream",
     "text": [
      "/Users/jepe/scripting/cellpy/cellpy/readers/cellreader.py:846: UserWarning: OLD-TYPE: Recommend to save in new format!\n",
      "  warnings.warn(\"OLD-TYPE: Recommend to save in new format!\")\n"
     ]
    }
   ],
   "source": [
    "my_data.load(filename)\n",
    "my_data.set_mass(0.1)"
   ]
  },
  {
   "cell_type": "code",
   "execution_count": 4,
   "metadata": {},
   "outputs": [
    {
     "name": "stdout",
     "output_type": "stream",
     "text": [
      "no steps found (c:18 s:0 type:charge)\n"
     ]
    },
    {
     "name": "stderr",
     "output_type": "stream",
     "text": [
      "/Users/jepe/miniconda3/envs/cellpy/lib/python3.6/site-packages/scipy/signal/_arraytools.py:45: FutureWarning: Using a non-tuple sequence for multidimensional indexing is deprecated; use `arr[tuple(seq)]` instead of `arr[seq]`. In the future this will be interpreted as an array index, `arr[np.array(seq)]`, which will result either in an error or a different result.\n",
      "  b = a[a_slice]\n"
     ]
    }
   ],
   "source": [
    "df_ica_charge, df_ica_discharge = ica.ica_frames(my_data)"
   ]
  },
  {
   "cell_type": "code",
   "execution_count": 7,
   "metadata": {},
   "outputs": [
    {
     "data": {
      "text/html": [
       "<div>\n",
       "<style scoped>\n",
       "    .dataframe tbody tr th:only-of-type {\n",
       "        vertical-align: middle;\n",
       "    }\n",
       "\n",
       "    .dataframe tbody tr th {\n",
       "        vertical-align: top;\n",
       "    }\n",
       "\n",
       "    .dataframe thead tr th {\n",
       "        text-align: left;\n",
       "    }\n",
       "</style>\n",
       "<table border=\"1\" class=\"dataframe\">\n",
       "  <thead>\n",
       "    <tr>\n",
       "      <th></th>\n",
       "      <th>voltage</th>\n",
       "      <th>1</th>\n",
       "      <th>2</th>\n",
       "      <th>3</th>\n",
       "      <th>4</th>\n",
       "      <th>5</th>\n",
       "      <th>6</th>\n",
       "      <th>7</th>\n",
       "      <th>8</th>\n",
       "      <th>9</th>\n",
       "      <th>10</th>\n",
       "      <th>11</th>\n",
       "      <th>12</th>\n",
       "      <th>13</th>\n",
       "      <th>14</th>\n",
       "      <th>15</th>\n",
       "      <th>16</th>\n",
       "      <th>17</th>\n",
       "    </tr>\n",
       "    <tr>\n",
       "      <th></th>\n",
       "      <th>v</th>\n",
       "      <th>dq</th>\n",
       "      <th>dq</th>\n",
       "      <th>dq</th>\n",
       "      <th>dq</th>\n",
       "      <th>dq</th>\n",
       "      <th>dq</th>\n",
       "      <th>dq</th>\n",
       "      <th>dq</th>\n",
       "      <th>dq</th>\n",
       "      <th>dq</th>\n",
       "      <th>dq</th>\n",
       "      <th>dq</th>\n",
       "      <th>dq</th>\n",
       "      <th>dq</th>\n",
       "      <th>dq</th>\n",
       "      <th>dq</th>\n",
       "      <th>dq</th>\n",
       "    </tr>\n",
       "  </thead>\n",
       "  <tbody>\n",
       "    <tr>\n",
       "      <th>0</th>\n",
       "      <td>0.107166</td>\n",
       "      <td>NaN</td>\n",
       "      <td>NaN</td>\n",
       "      <td>NaN</td>\n",
       "      <td>NaN</td>\n",
       "      <td>NaN</td>\n",
       "      <td>NaN</td>\n",
       "      <td>NaN</td>\n",
       "      <td>NaN</td>\n",
       "      <td>NaN</td>\n",
       "      <td>NaN</td>\n",
       "      <td>NaN</td>\n",
       "      <td>NaN</td>\n",
       "      <td>NaN</td>\n",
       "      <td>NaN</td>\n",
       "      <td>NaN</td>\n",
       "      <td>NaN</td>\n",
       "      <td>NaN</td>\n",
       "    </tr>\n",
       "    <tr>\n",
       "      <th>1</th>\n",
       "      <td>0.116185</td>\n",
       "      <td>2519.950322</td>\n",
       "      <td>2363.935462</td>\n",
       "      <td>2156.213995</td>\n",
       "      <td>NaN</td>\n",
       "      <td>NaN</td>\n",
       "      <td>NaN</td>\n",
       "      <td>NaN</td>\n",
       "      <td>NaN</td>\n",
       "      <td>NaN</td>\n",
       "      <td>NaN</td>\n",
       "      <td>NaN</td>\n",
       "      <td>NaN</td>\n",
       "      <td>NaN</td>\n",
       "      <td>NaN</td>\n",
       "      <td>NaN</td>\n",
       "      <td>NaN</td>\n",
       "      <td>NaN</td>\n",
       "    </tr>\n",
       "    <tr>\n",
       "      <th>2</th>\n",
       "      <td>0.125205</td>\n",
       "      <td>2477.984602</td>\n",
       "      <td>2256.832187</td>\n",
       "      <td>2048.303451</td>\n",
       "      <td>NaN</td>\n",
       "      <td>NaN</td>\n",
       "      <td>NaN</td>\n",
       "      <td>NaN</td>\n",
       "      <td>NaN</td>\n",
       "      <td>NaN</td>\n",
       "      <td>NaN</td>\n",
       "      <td>NaN</td>\n",
       "      <td>NaN</td>\n",
       "      <td>NaN</td>\n",
       "      <td>NaN</td>\n",
       "      <td>NaN</td>\n",
       "      <td>NaN</td>\n",
       "      <td>NaN</td>\n",
       "    </tr>\n",
       "    <tr>\n",
       "      <th>3</th>\n",
       "      <td>0.134225</td>\n",
       "      <td>3572.263901</td>\n",
       "      <td>3467.901396</td>\n",
       "      <td>3291.390325</td>\n",
       "      <td>NaN</td>\n",
       "      <td>NaN</td>\n",
       "      <td>NaN</td>\n",
       "      <td>NaN</td>\n",
       "      <td>NaN</td>\n",
       "      <td>NaN</td>\n",
       "      <td>NaN</td>\n",
       "      <td>NaN</td>\n",
       "      <td>NaN</td>\n",
       "      <td>NaN</td>\n",
       "      <td>NaN</td>\n",
       "      <td>NaN</td>\n",
       "      <td>NaN</td>\n",
       "      <td>NaN</td>\n",
       "    </tr>\n",
       "    <tr>\n",
       "      <th>4</th>\n",
       "      <td>0.143244</td>\n",
       "      <td>4604.181277</td>\n",
       "      <td>4555.014823</td>\n",
       "      <td>4263.244182</td>\n",
       "      <td>NaN</td>\n",
       "      <td>NaN</td>\n",
       "      <td>NaN</td>\n",
       "      <td>NaN</td>\n",
       "      <td>NaN</td>\n",
       "      <td>NaN</td>\n",
       "      <td>NaN</td>\n",
       "      <td>NaN</td>\n",
       "      <td>NaN</td>\n",
       "      <td>2273.385348</td>\n",
       "      <td>NaN</td>\n",
       "      <td>NaN</td>\n",
       "      <td>2307.505841</td>\n",
       "      <td>NaN</td>\n",
       "    </tr>\n",
       "  </tbody>\n",
       "</table>\n",
       "</div>"
      ],
      "text/plain": [
       "    voltage            1            2            3   4   5   6   7   8   9  \\\n",
       "          v           dq           dq           dq  dq  dq  dq  dq  dq  dq   \n",
       "0  0.107166          NaN          NaN          NaN NaN NaN NaN NaN NaN NaN   \n",
       "1  0.116185  2519.950322  2363.935462  2156.213995 NaN NaN NaN NaN NaN NaN   \n",
       "2  0.125205  2477.984602  2256.832187  2048.303451 NaN NaN NaN NaN NaN NaN   \n",
       "3  0.134225  3572.263901  3467.901396  3291.390325 NaN NaN NaN NaN NaN NaN   \n",
       "4  0.143244  4604.181277  4555.014823  4263.244182 NaN NaN NaN NaN NaN NaN   \n",
       "\n",
       "   10  11  12           13  14  15           16  17  \n",
       "   dq  dq  dq           dq  dq  dq           dq  dq  \n",
       "0 NaN NaN NaN          NaN NaN NaN          NaN NaN  \n",
       "1 NaN NaN NaN          NaN NaN NaN          NaN NaN  \n",
       "2 NaN NaN NaN          NaN NaN NaN          NaN NaN  \n",
       "3 NaN NaN NaN          NaN NaN NaN          NaN NaN  \n",
       "4 NaN NaN NaN  2273.385348 NaN NaN  2307.505841 NaN  "
      ]
     },
     "execution_count": 7,
     "metadata": {},
     "output_type": "execute_result"
    }
   ],
   "source": [
    "df_ica_charge.head()"
   ]
  },
  {
   "cell_type": "code",
   "execution_count": 8,
   "metadata": {},
   "outputs": [
    {
     "data": {
      "text/plain": [
       "<matplotlib.axes._subplots.AxesSubplot at 0x1c21cc1668>"
      ]
     },
     "execution_count": 8,
     "metadata": {},
     "output_type": "execute_result"
    },
    {
     "data": {
      "image/png": "[encoded data removed]",
      "text/plain": [
       "<Figure size 432x288 with 1 Axes>"
      ]
     },
     "metadata": {},
     "output_type": "display_data"
    }
   ],
   "source": [
    "df_ica_charge.plot(x=(\"voltage\", \"v\"))"
   ]
  },
  {
   "cell_type": "code",
   "execution_count": null,
   "metadata": {},
   "outputs": [],
   "source": []
  },
  {
   "cell_type": "markdown",
   "metadata": {},
   "source": [
    "### Checking the data"
   ]
  },
  {
   "cell_type": "markdown",
   "metadata": {},
   "source": [
    "#### voltage cycles"
   ]
  },
  {
   "cell_type": "code",
   "execution_count": null,
   "metadata": {},
   "outputs": [],
   "source": [
    "capacity, voltage = my_data.get_cap()"
   ]
  },
  {
   "cell_type": "code",
   "execution_count": null,
   "metadata": {},
   "outputs": [],
   "source": [
    "plt.plot(capacity, voltage)"
   ]
  },
  {
   "cell_type": "code",
   "execution_count": null,
   "metadata": {},
   "outputs": [],
   "source": [
    "cycles = my_data.get_cycle_numbers()"
   ]
  },
  {
   "cell_type": "code",
   "execution_count": null,
   "metadata": {},
   "outputs": [],
   "source": [
    "charge_cycles = list()\n",
    "for c in cycles:\n",
    "    try:\n",
    "        ccv = my_data.get_ccap(c)\n",
    "        charge_cycles.append(ccv)\n",
    "    except NullData:\n",
    "        print(f\"Cycle {c}: no data\")\n",
    "        \n",
    "charge_cycles = np.array(charge_cycles)"
   ]
  },
  {
   "cell_type": "code",
   "execution_count": null,
   "metadata": {},
   "outputs": [],
   "source": [
    "for x,y in discharge_cycles:\n",
    "    plt.plot(x,y)"
   ]
  },
  {
   "cell_type": "code",
   "execution_count": null,
   "metadata": {},
   "outputs": [],
   "source": [
    "def make_charge_list(data):\n",
    "    \"\"\"Create a list of pandas.DataFrames, one for each charge step.\n",
    "    \n",
    "    The DataFrames are named by its cycle number.\n",
    "    \n",
    "    Input: CellpyData\n",
    "    Returns: list of pandas.DataFrames\n",
    "        minimum voltage value,\n",
    "        maximum voltage value\"\"\"\n",
    "    \n",
    "    minimum_v_value = np.Inf\n",
    "    maximum_v_value = -np.Inf\n",
    "    charge_list = []\n",
    "    cycles = my_data.get_cycle_numbers()\n",
    "    for cycle in cycles:\n",
    "        try:\n",
    "            q, v = data.get_ccap(cycle)\n",
    "        except NullData as e:\n",
    "            print(e)\n",
    "            break\n",
    "        else:\n",
    "            d = pd.DataFrame({\"q\": q, \"v\": v})\n",
    "            #d.name = f\"{cycle}\"\n",
    "            d.name = cycle\n",
    "            charge_list.append(d)\n",
    "            v_min = v.min()\n",
    "            v_max = v.max()\n",
    "            if v_min < minimum_v_value:\n",
    "                minimum_v_value = v_min\n",
    "            if v_max > maximum_v_value:\n",
    "                maximum_v_value = v_max\n",
    "    return charge_list, minimum_v_value, maximum_v_value\n"
   ]
  },
  {
   "cell_type": "code",
   "execution_count": null,
   "metadata": {},
   "outputs": [],
   "source": [
    "charge_dfs, minimum_v, maximum_v = make_charge_list(my_data)"
   ]
  },
  {
   "cell_type": "code",
   "execution_count": null,
   "metadata": {},
   "outputs": [],
   "source": [
    "charge_df = pd.concat(charge_dfs, axis=1, keys=[k.name for k in charge_dfs])"
   ]
  },
  {
   "cell_type": "code",
   "execution_count": null,
   "metadata": {},
   "outputs": [],
   "source": [
    "charge_df.head(3)"
   ]
  },
  {
   "cell_type": "code",
   "execution_count": null,
   "metadata": {},
   "outputs": [],
   "source": [
    "n1, n2, n3 = (1, 3, 8)\n",
    "ax = charge_df[n1].plot(x=\"q\", y=\"v\", label=f\"cycle {str(n1).zfill(2)}\")\n",
    "charge_df[n2].plot(x=\"q\", y=\"v\", ax=ax, label=f\"cycle {str(n2).zfill(2)}\")\n",
    "charge_df[n3].plot(x=\"q\", y=\"v\", ax=ax, label=f\"cycle {str(n3).zfill(2)}\")"
   ]
  },
  {
   "cell_type": "markdown",
   "metadata": {},
   "source": [
    "### Checking ica"
   ]
  },
  {
   "cell_type": "code",
   "execution_count": null,
   "metadata": {},
   "outputs": [],
   "source": [
    "c, v = charge_cycles[2]\n",
    "dq, dv = ica.dqdv(v, c)\n",
    "plt.plot(dq,dv)"
   ]
  },
  {
   "cell_type": "code",
   "execution_count": null,
   "metadata": {},
   "outputs": [],
   "source": [
    "print(f\"min, max = ({minimum_v} {maximum_v})\")"
   ]
  },
  {
   "cell_type": "markdown",
   "metadata": {},
   "source": [
    "## Creating dqdv-data"
   ]
  },
  {
   "cell_type": "code",
   "execution_count": null,
   "metadata": {},
   "outputs": [],
   "source": [
    "def custom_dq_dv(capacity, voltage, minimum_v, maximum_v):\n",
    "    converter = ica.Converter()\n",
    "    converter.set_data(capacity, voltage)\n",
    "    converter.inspect_data()\n",
    "    converter.pre_process_data()\n",
    "    converter.increment_data()\n",
    "    converter.fixed_voltage_range = [minimum_v, maximum_v, 100]\n",
    "    converter.post_process_data()\n",
    "    return converter.voltage_processed, converter.incremental_capacity"
   ]
  },
  {
   "cell_type": "code",
   "execution_count": null,
   "metadata": {},
   "outputs": [],
   "source": [
    "incremental_charge_list = []\n",
    "for (cap, volt), cycle in zip(charge_cycles, cycles):\n",
    "    if cap.any():\n",
    "        dv, dq = custom_dq_dv(cap, volt, minimum_v, maximum_v)\n",
    "        if not incremental_charge_list:\n",
    "            d = pd.DataFrame({\"dv\": dv})\n",
    "            d.name = \"voltage\"\n",
    "            incremental_charge_list.append(d)\n",
    "\n",
    "            d = pd.DataFrame({f\"dq\": dq})\n",
    "            d.name = cycle\n",
    "            incremental_charge_list.append(d)\n",
    "            \n",
    "        else:\n",
    "            d = pd.DataFrame({f\"dq\": dq})\n",
    "            #d.name = f\"{cycle}\"\n",
    "            d.name = cycle\n",
    "            incremental_charge_list.append(d)\n",
    "    else:\n",
    "        print(f\"{cycle} is empty\")"
   ]
  },
  {
   "cell_type": "code",
   "execution_count": null,
   "metadata": {},
   "outputs": [],
   "source": [
    "ica_df = pd.concat(incremental_charge_list, axis=1, keys=[k.name for k in incremental_charge_list])"
   ]
  },
  {
   "cell_type": "code",
   "execution_count": null,
   "metadata": {},
   "outputs": [],
   "source": [
    "ica_df.columns.names = [\"cycle\", \"value\"]"
   ]
  },
  {
   "cell_type": "code",
   "execution_count": null,
   "metadata": {},
   "outputs": [],
   "source": [
    "ica_df.head(12)"
   ]
  },
  {
   "cell_type": "code",
   "execution_count": null,
   "metadata": {},
   "outputs": [],
   "source": [
    "ica_df.plot(x=(\"voltage\",\"dv\"))"
   ]
  },
  {
   "cell_type": "markdown",
   "metadata": {},
   "source": [
    "**Success!**"
   ]
  },
  {
   "cell_type": "code",
   "execution_count": null,
   "metadata": {},
   "outputs": [],
   "source": [
    "ica_df.head()"
   ]
  },
  {
   "cell_type": "code",
   "execution_count": null,
   "metadata": {},
   "outputs": [],
   "source": [
    "ica_long_multiindex = ica_df.copy()"
   ]
  },
  {
   "cell_type": "code",
   "execution_count": null,
   "metadata": {},
   "outputs": [],
   "source": [
    "ica_long_multiindex.head()"
   ]
  },
  {
   "cell_type": "code",
   "execution_count": null,
   "metadata": {},
   "outputs": [],
   "source": [
    "long_multiindex = ica_long_multiindex.melt(\"voltage\", var_name=\"cycle\", value_name=\"dq\", col_level=0)"
   ]
  },
  {
   "cell_type": "code",
   "execution_count": null,
   "metadata": {},
   "outputs": [],
   "source": [
    "long_multiindex.head()"
   ]
  },
  {
   "cell_type": "code",
   "execution_count": null,
   "metadata": {},
   "outputs": [],
   "source": [
    "long_multiindex.tail()"
   ]
  },
  {
   "cell_type": "markdown",
   "metadata": {},
   "source": [
    "### Plotting with Altair"
   ]
  },
  {
   "cell_type": "code",
   "execution_count": null,
   "metadata": {},
   "outputs": [],
   "source": [
    "alt.renderers.enable('notebook')"
   ]
  },
  {
   "cell_type": "markdown",
   "metadata": {},
   "source": [
    "|   Data Type    |    Shorthand Code   |   Description                     |\n",
    "|----------------|---------------------|-----------------------------------|\n",
    "| quantitative   | Q                   | a continuous real-valued quantity |\n",
    "|ordinal | O | a discrete ordered quantity|\n",
    "|nominal | N | a discrete unordered category|\n",
    "|temporal | T | a time or date value|"
   ]
  },
  {
   "cell_type": "code",
   "execution_count": null,
   "metadata": {},
   "outputs": [],
   "source": [
    "alt.Chart(long_multiindex).mark_line().encode(\n",
    "  x='voltage:Q',\n",
    "  y='dq:Q',\n",
    "  color='cycle:O'\n",
    ").interactive()"
   ]
  },
  {
   "cell_type": "code",
   "execution_count": null,
   "metadata": {},
   "outputs": [],
   "source": [
    "import altair as alt\n",
    "from vega_datasets import data\n",
    "\n",
    "stocks = long_multiindex\n",
    "\n",
    "highlight = alt.selection(type='single', on='mouseover',\n",
    "                          fields=['cycle'], nearest=True)\n",
    "\n",
    "base = alt.Chart(stocks).encode(\n",
    "    x='voltage:Q',\n",
    "    y='dq:Q',\n",
    "    color='cycle:O'\n",
    ")\n",
    "\n",
    "points = base.mark_circle().encode(\n",
    "    opacity=alt.value(0)\n",
    ").add_selection(\n",
    "    highlight\n",
    ").properties(\n",
    "    width=600\n",
    ")\n",
    "\n",
    "lines = base.mark_line().encode(\n",
    "    size=alt.condition(~highlight, alt.value(0.5), alt.value(3))\n",
    ").interactive()\n",
    "\n",
    "points + lines"
   ]
  },
  {
   "cell_type": "markdown",
   "metadata": {},
   "source": [
    "Easy...but a bit limiting?"
   ]
  },
  {
   "cell_type": "code",
   "execution_count": null,
   "metadata": {},
   "outputs": [],
   "source": []
  },
  {
   "cell_type": "markdown",
   "metadata": {},
   "source": [
    "### Trying Bokeh"
   ]
  },
  {
   "cell_type": "markdown",
   "metadata": {},
   "source": [
    "The main benifit with using Bokeh: interactive html"
   ]
  },
  {
   "cell_type": "code",
   "execution_count": null,
   "metadata": {},
   "outputs": [],
   "source": [
    "from bokeh.io import output_notebook\n",
    "output_notebook()"
   ]
  },
  {
   "cell_type": "code",
   "execution_count": null,
   "metadata": {},
   "outputs": [],
   "source": [
    "# trick to flatten the multiindex (not sure if HoloViews takes multiindex)\n",
    "# ica_df.columns = ['_'.join(col).strip() for col in ica_df.columns.values]"
   ]
  },
  {
   "cell_type": "code",
   "execution_count": null,
   "metadata": {},
   "outputs": [],
   "source": [
    "from bokeh.models import ColumnDataSource, DataRange1d, Plot, LinearAxis, Grid\n",
    "from bokeh.plotting import figure, show\n",
    "from bokeh.palettes import Spectral11, Paired, Viridis256\n",
    "from bokeh.models.glyphs import MultiLine, Line\n",
    "from bokeh.io import show\n",
    "import itertools\n",
    "from bokeh.transform import linear_cmap"
   ]
  },
  {
   "cell_type": "code",
   "execution_count": null,
   "metadata": {},
   "outputs": [],
   "source": [
    "# source = ColumnDataSource(ica_df) # bokeh automatically flattens multiindexed columns using \"_\".join(k) (i.e. must be str)\n",
    "# source.data"
   ]
  },
  {
   "cell_type": "code",
   "execution_count": null,
   "metadata": {},
   "outputs": [],
   "source": [
    "source = ColumnDataSource(long_multiindex)"
   ]
  },
  {
   "cell_type": "code",
   "execution_count": null,
   "metadata": {},
   "outputs": [],
   "source": []
  },
  {
   "cell_type": "code",
   "execution_count": null,
   "metadata": {},
   "outputs": [],
   "source": [
    "xrange = DataRange1d()\n",
    "yrange = DataRange1d()\n",
    "plot = figure(x_range=xrange, y_range=yrange, plot_width=800, plot_height=300)\n",
    "plot.line(source=source, x=\"voltage\", y=\"dq\", legend=\"cycle\") #, line_color=linear_cmap('cycle', \"Viridis256\", 0, 255))\n",
    "show(plot)\n",
    "# How can I set a color palette? mappers?"
   ]
  },
  {
   "cell_type": "markdown",
   "metadata": {},
   "source": [
    "Not sure if I want to do this anymore. Bokeh is a little bit of a \"luremus\"..\n",
    "Lets check if Holoviews makes life a little bit easier."
   ]
  },
  {
   "cell_type": "markdown",
   "metadata": {},
   "source": [
    "### Plotting with HoloViews"
   ]
  },
  {
   "cell_type": "code",
   "execution_count": null,
   "metadata": {},
   "outputs": [],
   "source": [
    "hv.extension('bokeh')"
   ]
  },
  {
   "cell_type": "code",
   "execution_count": null,
   "metadata": {},
   "outputs": [],
   "source": [
    "curve = hv.Curve(long_multiindex, kdims=['voltage', \"dq\"], vdims=['cycle'])\n",
    "curve"
   ]
  },
  {
   "cell_type": "code",
   "execution_count": null,
   "metadata": {},
   "outputs": [],
   "source": [
    "\n",
    "curve2 = hv.Curve(long_multiindex, kdims=[\"voltage\", \"dq\"], vdims=\"cycle\")\n",
    "curve2"
   ]
  },
  {
   "cell_type": "code",
   "execution_count": null,
   "metadata": {},
   "outputs": [],
   "source": [
    "long_multiindex.head()"
   ]
  },
  {
   "cell_type": "code",
   "execution_count": null,
   "metadata": {},
   "outputs": [],
   "source": [
    "from bokeh.sampledata.iris import flowers\n",
    "from holoviews.operation import gridmatrix\n",
    "\n",
    "iris_ds = hv.Dataset(flowers)"
   ]
  },
  {
   "cell_type": "code",
   "execution_count": null,
   "metadata": {},
   "outputs": [],
   "source": [
    "%%opts Bivariate [bandwidth=0.5] (cmap='Blues') Points [tools=['box_select']] (size=2)\n",
    "density_grid = gridmatrix(iris_ds, diagonal_type=hv.Distribution, chart_type=hv.Bivariate)\n",
    "point_grid = gridmatrix(iris_ds, chart_type=hv.Points)\n",
    "\n",
    "density_grid * point_grid"
   ]
  },
  {
   "cell_type": "code",
   "execution_count": null,
   "metadata": {},
   "outputs": [],
   "source": []
  }
 ],
 "metadata": {
  "kernelspec": {
   "display_name": "Python3 (cellpy)",
   "language": "python",
   "name": "cellpy"
  },
  "language_info": {
   "codemirror_mode": {
    "name": "ipython",
    "version": 3
   },
   "file_extension": ".py",
   "mimetype": "text/x-python",
   "name": "python",
   "nbconvert_exporter": "python",
   "pygments_lexer": "ipython3",
   "version": "3.6.7"
  }
 },
 "nbformat": 4,
 "nbformat_minor": 2
}
