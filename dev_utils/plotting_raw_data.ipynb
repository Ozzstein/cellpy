{
 "cells": [
  {
   "cell_type": "markdown",
   "metadata": {},
   "source": [
    "# Plot raw data"
   ]
  },
  {
   "cell_type": "markdown",
   "metadata": {},
   "source": [
    "**Date:** July 2019\n",
    "\n",
    "**Purpose:** create a plot of the data pr cycle with voltage on one y-axis and current on the other where the individual steps are within each span with added labels showing C-rate and values from the step_table"
   ]
  },
  {
   "cell_type": "code",
   "execution_count": null,
   "metadata": {},
   "outputs": [],
   "source": []
  },
  {
   "cell_type": "code",
   "execution_count": null,
   "metadata": {},
   "outputs": [],
   "source": [
    "import os\n",
    "import itertools\n",
    "\n",
    "import pandas as pd\n",
    "import numpy as np\n",
    "import matplotlib.pyplot as plt\n",
    "from matplotlib.pyplot import cm\n",
    "import bokeh\n",
    "import cellpy\n",
    "from cellpy.readers.core import xldate_as_datetime"
   ]
  },
  {
   "cell_type": "code",
   "execution_count": null,
   "metadata": {},
   "outputs": [],
   "source": [
    "%matplotlib inline\n",
    "pd.options.display.max_columns = 100"
   ]
  },
  {
   "cell_type": "code",
   "execution_count": null,
   "metadata": {},
   "outputs": [],
   "source": [
    "filename = \"../testdata/hdf5/20160805_test001_45_cc.h5\"\n",
    "assert os.path.isfile(filename)\n",
    "my_cell = cellpy.cell(filename)"
   ]
  },
  {
   "cell_type": "markdown",
   "metadata": {},
   "source": [
    "## Checking data"
   ]
  },
  {
   "cell_type": "code",
   "execution_count": null,
   "metadata": {},
   "outputs": [],
   "source": [
    "my_cell.make_step_table()"
   ]
  },
  {
   "cell_type": "code",
   "execution_count": null,
   "metadata": {},
   "outputs": [],
   "source": [
    "data = my_cell.dataset.dfdata\n",
    "table = my_cell.dataset.step_table\n",
    "summary = my_cell.dataset.dfsummary"
   ]
  },
  {
   "cell_type": "code",
   "execution_count": null,
   "metadata": {},
   "outputs": [],
   "source": [
    "data.columns"
   ]
  },
  {
   "cell_type": "code",
   "execution_count": null,
   "metadata": {},
   "outputs": [],
   "source": [
    "v1 = my_cell.get_voltage(1)"
   ]
  },
  {
   "cell_type": "code",
   "execution_count": null,
   "metadata": {},
   "outputs": [],
   "source": [
    "def get_datetime(cell, cycle=1):\n",
    "    mask = cell.dataset.dfdata['Cycle_Index'] == cycle\n",
    "    dt = cell.dataset.dfdata.loc[mask, \"DateTime\"]\n",
    "    return dt\n"
   ]
  },
  {
   "cell_type": "code",
   "execution_count": null,
   "metadata": {},
   "outputs": [],
   "source": [
    "d1 = get_datetime(my_cell)"
   ]
  },
  {
   "cell_type": "code",
   "execution_count": null,
   "metadata": {},
   "outputs": [],
   "source": [
    "t1 = my_cell.get_timestamp(1)"
   ]
  },
  {
   "cell_type": "code",
   "execution_count": null,
   "metadata": {},
   "outputs": [],
   "source": [
    "c1 = my_cell.get_current(1, )"
   ]
  },
  {
   "cell_type": "code",
   "execution_count": null,
   "metadata": {},
   "outputs": [],
   "source": [
    "n = my_cell.get_cycle_numbers()"
   ]
  },
  {
   "cell_type": "code",
   "execution_count": null,
   "metadata": {},
   "outputs": [],
   "source": [
    "table.head(3)"
   ]
  },
  {
   "cell_type": "code",
   "execution_count": null,
   "metadata": {},
   "outputs": [],
   "source": [
    "summary.head(3)"
   ]
  },
  {
   "cell_type": "code",
   "execution_count": null,
   "metadata": {},
   "outputs": [],
   "source": [
    "data.head(3)"
   ]
  },
  {
   "cell_type": "code",
   "execution_count": null,
   "metadata": {},
   "outputs": [],
   "source": [
    "cycle = 1\n",
    "step = 5"
   ]
  },
  {
   "cell_type": "code",
   "execution_count": null,
   "metadata": {},
   "outputs": [],
   "source": [
    "m_table = (table.cycle==cycle) & (table.step==step)"
   ]
  },
  {
   "cell_type": "code",
   "execution_count": null,
   "metadata": {},
   "outputs": [],
   "source": [
    "p1, p2 = table.loc[m_table, ['point_min', 'point_max']].values[0]"
   ]
  },
  {
   "cell_type": "code",
   "execution_count": null,
   "metadata": {},
   "outputs": [],
   "source": [
    "def plot_step(ax, x, y, color):\n",
    "    ax.plot(x, y, color=color, linewidth=3)\n",
    "    "
   ]
  },
  {
   "cell_type": "code",
   "execution_count": null,
   "metadata": {},
   "outputs": [],
   "source": [
    "def get_info(table, cycle, step):\n",
    "    m_table = (table.cycle==cycle) & (table.step==step)\n",
    "    p1, p2 = table.loc[m_table, ['point_min', 'point_max']].values[0]\n",
    "    c1, c2 = table.loc[m_table, ['current_min', 'current_max']].abs().values[0]\n",
    "    d_voltage, d_current  = table.loc[m_table, ['voltage_delta', 'current_delta']].values[0]\n",
    "    d_discharge, d_charge  = table.loc[m_table, ['discharge_delta', 'charge_delta']].values[0]\n",
    "    current_max = (c1 + c2)/2\n",
    "    rate = 12\n",
    "    step_type = table.loc[m_table, 'type'].values[0]\n",
    "    return [step_type, rate, current_max, d_voltage, d_current, d_discharge, d_charge]"
   ]
  },
  {
   "cell_type": "code",
   "execution_count": null,
   "metadata": {},
   "outputs": [],
   "source": [
    "def plot_raw_cycle(cell, cycle):\n",
    "    data = cell.dataset.dfdata\n",
    "    table = cell.dataset.step_table\n",
    "\n",
    "    span_colors = [\n",
    "        \"#4682B4\",\n",
    "        \"#FFA07A\"  \n",
    "    ]\n",
    "\n",
    "    voltage_color = \"#008B8B\"\n",
    "    current_color = \"#CD5C5C\"\n",
    "\n",
    "    m_cycle_data = (data.Cycle_Index==cycle) \n",
    "    all_steps = data[m_cycle_data][\"Step_Index\"].unique()\n",
    "\n",
    "    color=itertools.cycle(span_colors)\n",
    "\n",
    "    fig = plt.figure(figsize=(20,8))\n",
    "    fig.suptitle(f\"Cycle: {cycle}\")\n",
    "\n",
    "    ax3 = plt.subplot2grid((8, 3), (0, 0), colspan=3, rowspan=1, fig=fig)  # steps\n",
    "    ax4 = plt.subplot2grid((8, 3), (1, 0), colspan=3, rowspan=2, fig=fig)  # rate\n",
    "    ax1 = plt.subplot2grid((8, 3), (3, 0), colspan=3, rowspan=5, fig=fig)  # data\n",
    "\n",
    "    ax2 = ax1.twinx()\n",
    "    ax1.set_xlabel(\"time (minutes)\")\n",
    "    ax1.set_ylabel(\"voltage (V vs. Li/Li+)\", color=voltage_color)\n",
    "    ax2.set_ylabel(\"current (mA)\", color=current_color)\n",
    "\n",
    "    annotations_1 = []  # step number (IR)\n",
    "    annotations_2 = []  # step number\n",
    "    annotations_4 = []  # rate\n",
    "\n",
    "    for i, s in enumerate(all_steps):\n",
    "        m = m_cycle_data & (data.Step_Index==s)\n",
    "        c = data.loc[m, \"Current\"] * 1000\n",
    "        v = data.loc[m, \"Voltage\"]\n",
    "        t = data.loc[m, \"Test_Time\"]/60\n",
    "        step_type, rate, current_max, dv, dc, d_discharge, d_charge = get_info(table, cycle, s)\n",
    "        if len(t) > 1:\n",
    "            fcolor = next(color)\n",
    "\n",
    "            info_txt = f\"{step_type}\\nc-rate = {rate}\\ni = |{1000*current_max:0.2f}| mA\\n\"\n",
    "            info_txt += f\"delta V = {dv:0.2f} %\\ndelta i = {dc:0.2f} %\\n\"\n",
    "            info_txt += f\"delta C = {d_charge:0.2} %\\ndelta DC = {d_discharge:0.2} %\\n\"\n",
    "\n",
    "            for ax in [ax2, ax3, ax4]:\n",
    "                ax.axvspan(t.iloc[0], t.iloc[-1], facecolor=fcolor, alpha=0.2)\n",
    "            plot_step(ax1, t, v, voltage_color)\n",
    "            plot_step(ax2, t, c, current_color)\n",
    "            annotations_1.append([f\"{s}\", t.mean()])\n",
    "            annotations_4.append([info_txt, t.mean()])\n",
    "        else:\n",
    "            info_txt = f\"{s}({step_type})\"\n",
    "            annotations_2.append([info_txt, t.mean()])\n",
    "    ax3.set_ylim(0,1)\n",
    "    for s in annotations_1:\n",
    "        ax3.annotate(f\"{s[0]}\", (s[1], 0.2), ha='center')\n",
    "\n",
    "    for s in annotations_2:\n",
    "        ax3.annotate(f\"{s[0]}\", (s[1], 0.6), ha='center')\n",
    "\n",
    "    for s in annotations_4:\n",
    "        ax4.annotate(f\"{s[0]}\", (s[1], 0.0), ha='center')\n",
    "\n",
    "    for ax in [ax3, ax4]:\n",
    "        ax.axes.get_yaxis().set_visible(False)\n",
    "        ax.axes.get_xaxis().set_visible(False)\n",
    "    \n",
    "    #return (ax1, ax2, ax2, ax4)"
   ]
  },
  {
   "cell_type": "code",
   "execution_count": null,
   "metadata": {},
   "outputs": [],
   "source": [
    "plot_raw_cycle(my_cell, 1)"
   ]
  },
  {
   "cell_type": "code",
   "execution_count": null,
   "metadata": {},
   "outputs": [],
   "source": [
    "plot_raw_cycle(my_cell, 10)"
   ]
  },
  {
   "cell_type": "code",
   "execution_count": null,
   "metadata": {},
   "outputs": [],
   "source": [
    "my_cell.raw_limits"
   ]
  },
  {
   "cell_type": "code",
   "execution_count": null,
   "metadata": {},
   "outputs": [],
   "source": []
  }
 ],
 "metadata": {
  "kernelspec": {
   "display_name": "cellpy",
   "language": "python",
   "name": "python3"
  },
  "language_info": {
   "codemirror_mode": {
    "name": "ipython",
    "version": 3
   },
   "file_extension": ".py",
   "mimetype": "text/x-python",
   "name": "python",
   "nbconvert_exporter": "python",
   "pygments_lexer": "ipython3",
   "version": "3.7.3"
  }
 },
 "nbformat": 4,
 "nbformat_minor": 2
}
