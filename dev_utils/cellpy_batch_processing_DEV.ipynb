{
 "cells": [
  {
   "cell_type": "markdown",
   "metadata": {},
   "source": [
    "# Notebook for Cellpy batch processing"
   ]
  },
  {
   "cell_type": "code",
   "execution_count": 1,
   "metadata": {},
   "outputs": [],
   "source": [
    "%load_ext autoreload\n",
    "%autoreload 2"
   ]
  },
  {
   "cell_type": "code",
   "execution_count": 16,
   "metadata": {},
   "outputs": [],
   "source": [
    "import cellpy\n",
    "from cellpy import prms\n",
    "from cellpy import prmreader\n",
    "from cellpy.utils import batch\n",
    "import matplotlib.pyplot as plt\n",
    "%matplotlib inline"
   ]
  },
  {
   "cell_type": "code",
   "execution_count": 3,
   "metadata": {},
   "outputs": [
    {
     "name": "stdout",
     "output_type": "stream",
     "text": [
      "============================== SETTING SOME PRMS ===============================\n",
      "{'cellpydatadir': PosixPath('/Users/jepe/scripting/cellpy/testdata/hdf5'),\n",
      " 'db_filename': 'cellpy_db.xlsx',\n",
      " 'db_path': PosixPath('/Users/jepe/scripting/cellpy/testdata/db'),\n",
      " 'filelogdir': PosixPath('/Users/jepe/scripting/cellpy/testdata/log'),\n",
      " 'outdatadir': PosixPath('/Users/jepe/cellpy_data'),\n",
      " 'rawdatadir': PosixPath('/Users/jepe/scripting/cellpy/testdata/data')}\n"
     ]
    }
   ],
   "source": [
    "######################################################################\n",
    "##                                                                  ##\n",
    "##                       development                                ##\n",
    "##                                                                  ##\n",
    "######################################################################\n",
    "\n",
    "from pathlib import Path\n",
    "from pprint import pprint\n",
    "\n",
    "# Use these when working on my work PC:\n",
    "test_data_path = r\"C:\\Scripting\\MyFiles\\development_cellpy\\testdata\"\n",
    "out_data_path = r\"C:\\Scripting\\Processing\\Test\\out\"\n",
    "\n",
    "# Use these when working on my MacBook:\n",
    "test_data_path = \"/Users/jepe/scripting/cellpy/testdata\"\n",
    "out_data_path = \"/Users/jepe/cellpy_data\"\n",
    "\n",
    "test_data_path = Path(test_data_path)\n",
    "out_data_path = Path(out_data_path)\n",
    "\n",
    "print(\" SETTING SOME PRMS \".center(80, \"=\"))\n",
    "prms.Paths[\"db_filename\"] = \"cellpy_db.xlsx\"\n",
    "prms.Paths[\"cellpydatadir\"] = test_data_path / \"hdf5\"\n",
    "prms.Paths[\"outdatadir\"] = out_data_path\n",
    "prms.Paths[\"rawdatadir\"] = test_data_path / \"data\"\n",
    "prms.Paths[\"db_path\"] = test_data_path / \"db\"\n",
    "prms.Paths[\"filelogdir\"] = test_data_path / \"log\"\n",
    "pprint(prms.Paths)"
   ]
  },
  {
   "cell_type": "code",
   "execution_count": 4,
   "metadata": {},
   "outputs": [],
   "source": [
    "# prmreader.info()"
   ]
  },
  {
   "cell_type": "code",
   "execution_count": 5,
   "metadata": {},
   "outputs": [
    {
     "name": "stdout",
     "output_type": "stream",
     "text": [
      "=========================== INITIALISATION OF BATCH ============================\n",
      "[CyclingExperiment]\n",
      "journal: \n",
      "(LabJournal)\n",
      "  - name: test\n",
      "  - project: prebens_experiment\n",
      "  - file_name: None\n",
      "  - pages: ->\n",
      "None\n",
      "           <-\n",
      "\n",
      "data: \n",
      "{}\n",
      "\n"
     ]
    }
   ],
   "source": [
    "project = \"prebens_experiment\"\n",
    "name = \"test\"\n",
    "batch_col = \"b01\"\n",
    "\n",
    "print(\" INITIALISATION OF BATCH \".center(80, \"=\"))\n",
    "b = batch.init(name, project, batch_col=batch_col)\n",
    "print(b)"
   ]
  },
  {
   "cell_type": "code",
   "execution_count": 48,
   "metadata": {},
   "outputs": [],
   "source": [
    "# setting some prms\n",
    "b.experiment.export_raw = True\n",
    "b.experiment.export_cycles = True\n",
    "b.experiment.export_ica = True\n",
    "b.experiment.all_in_memory = True  # store all data in memory, defaults to False"
   ]
  },
  {
   "cell_type": "code",
   "execution_count": 49,
   "metadata": {},
   "outputs": [
    {
     "name": "stdout",
     "output_type": "stream",
     "text": [
      "(cellpy) - name: test\n",
      "(cellpy) - project: prebens_experiment\n",
      "(cellpy) - Saved file to /Users/jepe/cellpy_data/prebens_experiment/cellpy_batch_test.json\n"
     ]
    }
   ],
   "source": [
    "b.create_info_df()"
   ]
  },
  {
   "cell_type": "code",
   "execution_count": 50,
   "metadata": {},
   "outputs": [
    {
     "name": "stdout",
     "output_type": "stream",
     "text": [
      "(cellpy) - created folders\n"
     ]
    }
   ],
   "source": [
    "b.create_folder_structure()"
   ]
  },
  {
   "cell_type": "code",
   "execution_count": 51,
   "metadata": {},
   "outputs": [
    {
     "name": "stdout",
     "output_type": "stream",
     "text": [
      "(cellpy) - [update experiment]\n",
      "[|.]\n",
      "(cellpy) - Processing 20160805_test001_45_cc\n",
      "(cellpy) - created CellpyData instance\n",
      "(cellpy) - setting cycle mode (nan)...\n",
      "(cellpy) - loading cell\n",
      "(cellpy) - started loadcell\n",
      "(cellpy) - checking file ids - using 'size'\n",
      "(cellpy) - cellpy file(s) needs updating - loading raw\n",
      "(cellpy) - ...loaded successfully...\n",
      "(cellpy) - Trying to get summary_data\n",
      "(cellpy) - saving to cellpy-format\n",
      "(cellpy) - exporting [raw] [cycles]\n",
      "(cellpy) - /Users/jepe/cellpy_data/prebens_experiment/test/raw_data/20160805_test001_45_cc_01_normal.csv OK\n",
      "(cellpy) - /Users/jepe/cellpy_data/prebens_experiment/test/raw_data/20160805_test001_45_cc_01_steps.csv OK\n",
      "(cellpy) - /Users/jepe/cellpy_data/prebens_experiment/test/raw_data/20160805_test001_45_cc_01_stats.csv OK\n",
      "(cellpy) - /Users/jepe/cellpy_data/prebens_experiment/test/raw_data/20160805_test001_45_cc_01_cycles.csv exported.\n",
      "(cellpy) - exporting [ica]\n",
      "(cellpy) - /Users/jepe/miniconda3/envs/cellpy/lib/python3.6/site-packages/scipy/signal/_arraytools.py:45: FutureWarning: Using a non-tuple sequence for multidimensional indexing is deprecated; use `arr[tuple(seq)]` instead of `arr[seq]`. In the future this will be interpreted as an array index, `arr[np.array(seq)]`, which will result either in an error or a different result.\n",
      "  b = a[a_slice]\n",
      "\n",
      "(cellpy) -  Ups! Could not process this (cycle 18)\n",
      "(cellpy) -  no steps found (c:18 s:0 type:charge)\n",
      "(cellpy) -  Ups! Could not process this (cycle 36)\n",
      "(cellpy) -  no steps found (c:36 s:0 type:charge)\n",
      "(cellpy) - /Users/jepe/cellpy_data/prebens_experiment/test/raw_data/20160805_test001_45_cc_01_dqdv_charge.csv OK\n",
      "(cellpy) - /Users/jepe/cellpy_data/prebens_experiment/test/raw_data/20160805_test001_45_cc_01_dqdv_discharge.csv OK\n",
      "[||]\n",
      "(cellpy) - Processing 20160805_test001_47_cc\n",
      "(cellpy) - created CellpyData instance\n",
      "(cellpy) - setting cycle mode (nan)...\n",
      "(cellpy) - loading cell\n",
      "(cellpy) - started loadcell\n",
      "(cellpy) - checking file ids - using 'size'\n",
      "(cellpy) - ...loaded successfully...\n",
      "(cellpy) - Trying to get summary_data\n",
      "(cellpy) - saving to cellpy-format\n",
      "(cellpy) - saving cell to /Users/jepe/scripting/cellpy/testdata/hdf5/20160805_test001_47_cc.h5\n",
      "(cellpy) - exporting [raw] [cycles]\n",
      "(cellpy) - /Users/jepe/cellpy_data/prebens_experiment/test/raw_data/20160805_test001_47_cc_normal.csv OK\n",
      "(cellpy) - /Users/jepe/cellpy_data/prebens_experiment/test/raw_data/20160805_test001_47_cc_steps.csv OK\n",
      "(cellpy) - /Users/jepe/cellpy_data/prebens_experiment/test/raw_data/20160805_test001_47_cc_stats.csv OK\n",
      "(cellpy) - /Users/jepe/cellpy_data/prebens_experiment/test/raw_data/20160805_test001_47_cc_cycles.csv exported.\n",
      "(cellpy) - exporting [ica]\n",
      "(cellpy) - /Users/jepe/miniconda3/envs/cellpy/lib/python3.6/site-packages/scipy/signal/_arraytools.py:45: FutureWarning: Using a non-tuple sequence for multidimensional indexing is deprecated; use `arr[tuple(seq)]` instead of `arr[seq]`. In the future this will be interpreted as an array index, `arr[np.array(seq)]`, which will result either in an error or a different result.\n",
      "  b = a[a_slice]\n",
      "\n",
      "(cellpy) -  Ups! Could not process this (cycle 18)\n",
      "(cellpy) -  no steps found (c:18 s:0 type:charge)\n",
      "(cellpy) - /Users/jepe/cellpy_data/prebens_experiment/test/raw_data/20160805_test001_47_cc_dqdv_charge.csv OK\n",
      "(cellpy) - /Users/jepe/cellpy_data/prebens_experiment/test/raw_data/20160805_test001_47_cc_dqdv_discharge.csv OK\n"
     ]
    }
   ],
   "source": [
    "b.load_and_save_raw()"
   ]
  },
  {
   "cell_type": "code",
   "execution_count": 52,
   "metadata": {},
   "outputs": [
    {
     "name": "stdout",
     "output_type": "stream",
     "text": [
      "(cellpy) - dumping to csv\n",
      "(cellpy) - > /Users/jepe/cellpy_data/prebens_experiment/test/summary_discharge_capacity_test.csv\n",
      "(cellpy) - > /Users/jepe/cellpy_data/prebens_experiment/test/summary_charge_capacity_test.csv\n",
      "(cellpy) - > /Users/jepe/cellpy_data/prebens_experiment/test/summary_coulombic_efficiency_test.csv\n",
      "(cellpy) - > /Users/jepe/cellpy_data/prebens_experiment/test/summary_cumulated_coulombic_efficiency_test.csv\n",
      "(cellpy) - > /Users/jepe/cellpy_data/prebens_experiment/test/summary_ir_discharge_test.csv\n",
      "(cellpy) - > /Users/jepe/cellpy_data/prebens_experiment/test/summary_ir_charge_test.csv\n",
      "(cellpy) - > /Users/jepe/cellpy_data/prebens_experiment/test/summary_end_voltage_discharge_test.csv\n",
      "(cellpy) - > /Users/jepe/cellpy_data/prebens_experiment/test/summary_end_voltage_charge_test.csv\n",
      "(cellpy) - cycles_engine:\n",
      "(cellpy) - Not ready for production\n",
      "(cellpy) - dumping to csv\n",
      "---FINISHED---\n"
     ]
    }
   ],
   "source": [
    "b.make_summaries()\n",
    "print(\"---FINISHED---\")"
   ]
  },
  {
   "cell_type": "code",
   "execution_count": 53,
   "metadata": {},
   "outputs": [
    {
     "data": {
      "text/html": [
       "\n",
       "    <div class=\"bk-root\">\n",
       "        <a href=\"https://bokeh.pydata.org\" target=\"_blank\" class=\"bk-logo bk-logo-small bk-logo-notebook\"></a>\n",
       "        <span id=\"1379\">Loading BokehJS ...</span>\n",
       "    </div>"
      ]
     },
     "metadata": {},
     "output_type": "display_data"
    },
    {
     "data": {
      "application/javascript": [
       "\n",
       "(function(root) {\n",
       "  function now() {\n",
       "    return new Date();\n",
       "  }\n",
       "\n",
       "  var force = true;\n",
       "\n",
       "  if (typeof (root._bokeh_onload_callbacks) === \"undefined\" || force === true) {\n",
       "    root._bokeh_onload_callbacks = [];\n",
       "    root._bokeh_is_loading = undefined;\n",
       "  }\n",
       "\n",
       "  var JS_MIME_TYPE = 'application/javascript';\n",
       "  var HTML_MIME_TYPE = 'text/html';\n",
       "  var EXEC_MIME_TYPE = 'application/vnd.bokehjs_exec.v0+json';\n",
       "  var CLASS_NAME = 'output_bokeh rendered_html';\n",
       "\n",
       "  /**\n",
       "   * Render data to the DOM node\n",
       "   */\n",
       "  function render(props, node) {\n",
       "    var script = document.createElement(\"script\");\n",
       "    node.appendChild(script);\n",
       "  }\n",
       "\n",
       "  /**\n",
       "   * Handle when an output is cleared or removed\n",
       "   */\n",
       "  function handleClearOutput(event, handle) {\n",
       "    var cell = handle.cell;\n",
       "\n",
       "    var id = cell.output_area._bokeh_element_id;\n",
       "    var server_id = cell.output_area._bokeh_server_id;\n",
       "    // Clean up Bokeh references\n",
       "    if (id != null && id in Bokeh.index) {\n",
       "      Bokeh.index[id].model.document.clear();\n",
       "      delete Bokeh.index[id];\n",
       "    }\n",
       "\n",
       "    if (server_id !== undefined) {\n",
       "      // Clean up Bokeh references\n",
       "      var cmd = \"from bokeh.io.state import curstate; print(curstate().uuid_to_server['\" + server_id + \"'].get_sessions()[0].document.roots[0]._id)\";\n",
       "      cell.notebook.kernel.execute(cmd, {\n",
       "        iopub: {\n",
       "          output: function(msg) {\n",
       "            var id = msg.content.text.trim();\n",
       "            if (id in Bokeh.index) {\n",
       "              Bokeh.index[id].model.document.clear();\n",
       "              delete Bokeh.index[id];\n",
       "            }\n",
       "          }\n",
       "        }\n",
       "      });\n",
       "      // Destroy server and session\n",
       "      var cmd = \"import bokeh.io.notebook as ion; ion.destroy_server('\" + server_id + \"')\";\n",
       "      cell.notebook.kernel.execute(cmd);\n",
       "    }\n",
       "  }\n",
       "\n",
       "  /**\n",
       "   * Handle when a new output is added\n",
       "   */\n",
       "  function handleAddOutput(event, handle) {\n",
       "    var output_area = handle.output_area;\n",
       "    var output = handle.output;\n",
       "\n",
       "    // limit handleAddOutput to display_data with EXEC_MIME_TYPE content only\n",
       "    if ((output.output_type != \"display_data\") || (!output.data.hasOwnProperty(EXEC_MIME_TYPE))) {\n",
       "      return\n",
       "    }\n",
       "\n",
       "    var toinsert = output_area.element.find(\".\" + CLASS_NAME.split(' ')[0]);\n",
       "\n",
       "    if (output.metadata[EXEC_MIME_TYPE][\"id\"] !== undefined) {\n",
       "      toinsert[toinsert.length - 1].firstChild.textContent = output.data[JS_MIME_TYPE];\n",
       "      // store reference to embed id on output_area\n",
       "      output_area._bokeh_element_id = output.metadata[EXEC_MIME_TYPE][\"id\"];\n",
       "    }\n",
       "    if (output.metadata[EXEC_MIME_TYPE][\"server_id\"] !== undefined) {\n",
       "      var bk_div = document.createElement(\"div\");\n",
       "      bk_div.innerHTML = output.data[HTML_MIME_TYPE];\n",
       "      var script_attrs = bk_div.children[0].attributes;\n",
       "      for (var i = 0; i < script_attrs.length; i++) {\n",
       "        toinsert[toinsert.length - 1].firstChild.setAttribute(script_attrs[i].name, script_attrs[i].value);\n",
       "      }\n",
       "      // store reference to server id on output_area\n",
       "      output_area._bokeh_server_id = output.metadata[EXEC_MIME_TYPE][\"server_id\"];\n",
       "    }\n",
       "  }\n",
       "\n",
       "  function register_renderer(events, OutputArea) {\n",
       "\n",
       "    function append_mime(data, metadata, element) {\n",
       "      // create a DOM node to render to\n",
       "      var toinsert = this.create_output_subarea(\n",
       "        metadata,\n",
       "        CLASS_NAME,\n",
       "        EXEC_MIME_TYPE\n",
       "      );\n",
       "      this.keyboard_manager.register_events(toinsert);\n",
       "      // Render to node\n",
       "      var props = {data: data, metadata: metadata[EXEC_MIME_TYPE]};\n",
       "      render(props, toinsert[toinsert.length - 1]);\n",
       "      element.append(toinsert);\n",
       "      return toinsert\n",
       "    }\n",
       "\n",
       "    /* Handle when an output is cleared or removed */\n",
       "    events.on('clear_output.CodeCell', handleClearOutput);\n",
       "    events.on('delete.Cell', handleClearOutput);\n",
       "\n",
       "    /* Handle when a new output is added */\n",
       "    events.on('output_added.OutputArea', handleAddOutput);\n",
       "\n",
       "    /**\n",
       "     * Register the mime type and append_mime function with output_area\n",
       "     */\n",
       "    OutputArea.prototype.register_mime_type(EXEC_MIME_TYPE, append_mime, {\n",
       "      /* Is output safe? */\n",
       "      safe: true,\n",
       "      /* Index of renderer in `output_area.display_order` */\n",
       "      index: 0\n",
       "    });\n",
       "  }\n",
       "\n",
       "  // register the mime type if in Jupyter Notebook environment and previously unregistered\n",
       "  if (root.Jupyter !== undefined) {\n",
       "    var events = require('base/js/events');\n",
       "    var OutputArea = require('notebook/js/outputarea').OutputArea;\n",
       "\n",
       "    if (OutputArea.prototype.mime_types().indexOf(EXEC_MIME_TYPE) == -1) {\n",
       "      register_renderer(events, OutputArea);\n",
       "    }\n",
       "  }\n",
       "\n",
       "  \n",
       "  if (typeof (root._bokeh_timeout) === \"undefined\" || force === true) {\n",
       "    root._bokeh_timeout = Date.now() + 5000;\n",
       "    root._bokeh_failed_load = false;\n",
       "  }\n",
       "\n",
       "  var NB_LOAD_WARNING = {'data': {'text/html':\n",
       "     \"<div style='background-color: #fdd'>\\n\"+\n",
       "     \"<p>\\n\"+\n",
       "     \"BokehJS does not appear to have successfully loaded. If loading BokehJS from CDN, this \\n\"+\n",
       "     \"may be due to a slow or bad network connection. Possible fixes:\\n\"+\n",
       "     \"</p>\\n\"+\n",
       "     \"<ul>\\n\"+\n",
       "     \"<li>re-rerun `output_notebook()` to attempt to load from CDN again, or</li>\\n\"+\n",
       "     \"<li>use INLINE resources instead, as so:</li>\\n\"+\n",
       "     \"</ul>\\n\"+\n",
       "     \"<code>\\n\"+\n",
       "     \"from bokeh.resources import INLINE\\n\"+\n",
       "     \"output_notebook(resources=INLINE)\\n\"+\n",
       "     \"</code>\\n\"+\n",
       "     \"</div>\"}};\n",
       "\n",
       "  function display_loaded() {\n",
       "    var el = document.getElementById(\"1379\");\n",
       "    if (el != null) {\n",
       "      el.textContent = \"BokehJS is loading...\";\n",
       "    }\n",
       "    if (root.Bokeh !== undefined) {\n",
       "      if (el != null) {\n",
       "        el.textContent = \"BokehJS \" + root.Bokeh.version + \" successfully loaded.\";\n",
       "      }\n",
       "    } else if (Date.now() < root._bokeh_timeout) {\n",
       "      setTimeout(display_loaded, 100)\n",
       "    }\n",
       "  }\n",
       "\n",
       "\n",
       "  function run_callbacks() {\n",
       "    try {\n",
       "      root._bokeh_onload_callbacks.forEach(function(callback) { callback() });\n",
       "    }\n",
       "    finally {\n",
       "      delete root._bokeh_onload_callbacks\n",
       "    }\n",
       "    console.info(\"Bokeh: all callbacks have finished\");\n",
       "  }\n",
       "\n",
       "  function load_libs(js_urls, callback) {\n",
       "    root._bokeh_onload_callbacks.push(callback);\n",
       "    if (root._bokeh_is_loading > 0) {\n",
       "      console.log(\"Bokeh: BokehJS is being loaded, scheduling callback at\", now());\n",
       "      return null;\n",
       "    }\n",
       "    if (js_urls == null || js_urls.length === 0) {\n",
       "      run_callbacks();\n",
       "      return null;\n",
       "    }\n",
       "    console.log(\"Bokeh: BokehJS not loaded, scheduling load and callback at\", now());\n",
       "    root._bokeh_is_loading = js_urls.length;\n",
       "    for (var i = 0; i < js_urls.length; i++) {\n",
       "      var url = js_urls[i];\n",
       "      var s = document.createElement('script');\n",
       "      s.src = url;\n",
       "      s.async = false;\n",
       "      s.onreadystatechange = s.onload = function() {\n",
       "        root._bokeh_is_loading--;\n",
       "        if (root._bokeh_is_loading === 0) {\n",
       "          console.log(\"Bokeh: all BokehJS libraries loaded\");\n",
       "          run_callbacks()\n",
       "        }\n",
       "      };\n",
       "      s.onerror = function() {\n",
       "        console.warn(\"failed to load library \" + url);\n",
       "      };\n",
       "      console.log(\"Bokeh: injecting script tag for BokehJS library: \", url);\n",
       "      document.getElementsByTagName(\"head\")[0].appendChild(s);\n",
       "    }\n",
       "  };var element = document.getElementById(\"1379\");\n",
       "  if (element == null) {\n",
       "    console.log(\"Bokeh: ERROR: autoload.js configured with elementid '1379' but no matching script tag was found. \")\n",
       "    return false;\n",
       "  }\n",
       "\n",
       "  var js_urls = [\"https://cdn.pydata.org/bokeh/release/bokeh-1.0.4.min.js\", \"https://cdn.pydata.org/bokeh/release/bokeh-widgets-1.0.4.min.js\", \"https://cdn.pydata.org/bokeh/release/bokeh-tables-1.0.4.min.js\", \"https://cdn.pydata.org/bokeh/release/bokeh-gl-1.0.4.min.js\"];\n",
       "\n",
       "  var inline_js = [\n",
       "    function(Bokeh) {\n",
       "      Bokeh.set_log_level(\"info\");\n",
       "    },\n",
       "    \n",
       "    function(Bokeh) {\n",
       "      \n",
       "    },\n",
       "    function(Bokeh) {\n",
       "      console.log(\"Bokeh: injecting CSS: https://cdn.pydata.org/bokeh/release/bokeh-1.0.4.min.css\");\n",
       "      Bokeh.embed.inject_css(\"https://cdn.pydata.org/bokeh/release/bokeh-1.0.4.min.css\");\n",
       "      console.log(\"Bokeh: injecting CSS: https://cdn.pydata.org/bokeh/release/bokeh-widgets-1.0.4.min.css\");\n",
       "      Bokeh.embed.inject_css(\"https://cdn.pydata.org/bokeh/release/bokeh-widgets-1.0.4.min.css\");\n",
       "      console.log(\"Bokeh: injecting CSS: https://cdn.pydata.org/bokeh/release/bokeh-tables-1.0.4.min.css\");\n",
       "      Bokeh.embed.inject_css(\"https://cdn.pydata.org/bokeh/release/bokeh-tables-1.0.4.min.css\");\n",
       "    }\n",
       "  ];\n",
       "\n",
       "  function run_inline_js() {\n",
       "    \n",
       "    if ((root.Bokeh !== undefined) || (force === true)) {\n",
       "      for (var i = 0; i < inline_js.length; i++) {\n",
       "        inline_js[i].call(root, root.Bokeh);\n",
       "      }if (force === true) {\n",
       "        display_loaded();\n",
       "      }} else if (Date.now() < root._bokeh_timeout) {\n",
       "      setTimeout(run_inline_js, 100);\n",
       "    } else if (!root._bokeh_failed_load) {\n",
       "      console.log(\"Bokeh: BokehJS failed to load within specified timeout.\");\n",
       "      root._bokeh_failed_load = true;\n",
       "    } else if (force !== true) {\n",
       "      var cell = $(document.getElementById(\"1379\")).parents('.cell').data().cell;\n",
       "      cell.output_area.append_execute_result(NB_LOAD_WARNING)\n",
       "    }\n",
       "\n",
       "  }\n",
       "\n",
       "  if (root._bokeh_is_loading === 0) {\n",
       "    console.log(\"Bokeh: BokehJS loaded, going straight to plotting\");\n",
       "    run_inline_js();\n",
       "  } else {\n",
       "    load_libs(js_urls, function() {\n",
       "      console.log(\"Bokeh: BokehJS plotting callback run at\", now());\n",
       "      run_inline_js();\n",
       "    });\n",
       "  }\n",
       "}(window));"
      ],
      "application/vnd.bokehjs_load.v0+json": "\n(function(root) {\n  function now() {\n    return new Date();\n  }\n\n  var force = true;\n\n  if (typeof (root._bokeh_onload_callbacks) === \"undefined\" || force === true) {\n    root._bokeh_onload_callbacks = [];\n    root._bokeh_is_loading = undefined;\n  }\n\n  \n\n  \n  if (typeof (root._bokeh_timeout) === \"undefined\" || force === true) {\n    root._bokeh_timeout = Date.now() + 5000;\n    root._bokeh_failed_load = false;\n  }\n\n  var NB_LOAD_WARNING = {'data': {'text/html':\n     \"<div style='background-color: #fdd'>\\n\"+\n     \"<p>\\n\"+\n     \"BokehJS does not appear to have successfully loaded. If loading BokehJS from CDN, this \\n\"+\n     \"may be due to a slow or bad network connection. Possible fixes:\\n\"+\n     \"</p>\\n\"+\n     \"<ul>\\n\"+\n     \"<li>re-rerun `output_notebook()` to attempt to load from CDN again, or</li>\\n\"+\n     \"<li>use INLINE resources instead, as so:</li>\\n\"+\n     \"</ul>\\n\"+\n     \"<code>\\n\"+\n     \"from bokeh.resources import INLINE\\n\"+\n     \"output_notebook(resources=INLINE)\\n\"+\n     \"</code>\\n\"+\n     \"</div>\"}};\n\n  function display_loaded() {\n    var el = document.getElementById(\"1379\");\n    if (el != null) {\n      el.textContent = \"BokehJS is loading...\";\n    }\n    if (root.Bokeh !== undefined) {\n      if (el != null) {\n        el.textContent = \"BokehJS \" + root.Bokeh.version + \" successfully loaded.\";\n      }\n    } else if (Date.now() < root._bokeh_timeout) {\n      setTimeout(display_loaded, 100)\n    }\n  }\n\n\n  function run_callbacks() {\n    try {\n      root._bokeh_onload_callbacks.forEach(function(callback) { callback() });\n    }\n    finally {\n      delete root._bokeh_onload_callbacks\n    }\n    console.info(\"Bokeh: all callbacks have finished\");\n  }\n\n  function load_libs(js_urls, callback) {\n    root._bokeh_onload_callbacks.push(callback);\n    if (root._bokeh_is_loading > 0) {\n      console.log(\"Bokeh: BokehJS is being loaded, scheduling callback at\", now());\n      return null;\n    }\n    if (js_urls == null || js_urls.length === 0) {\n      run_callbacks();\n      return null;\n    }\n    console.log(\"Bokeh: BokehJS not loaded, scheduling load and callback at\", now());\n    root._bokeh_is_loading = js_urls.length;\n    for (var i = 0; i < js_urls.length; i++) {\n      var url = js_urls[i];\n      var s = document.createElement('script');\n      s.src = url;\n      s.async = false;\n      s.onreadystatechange = s.onload = function() {\n        root._bokeh_is_loading--;\n        if (root._bokeh_is_loading === 0) {\n          console.log(\"Bokeh: all BokehJS libraries loaded\");\n          run_callbacks()\n        }\n      };\n      s.onerror = function() {\n        console.warn(\"failed to load library \" + url);\n      };\n      console.log(\"Bokeh: injecting script tag for BokehJS library: \", url);\n      document.getElementsByTagName(\"head\")[0].appendChild(s);\n    }\n  };var element = document.getElementById(\"1379\");\n  if (element == null) {\n    console.log(\"Bokeh: ERROR: autoload.js configured with elementid '1379' but no matching script tag was found. \")\n    return false;\n  }\n\n  var js_urls = [\"https://cdn.pydata.org/bokeh/release/bokeh-1.0.4.min.js\", \"https://cdn.pydata.org/bokeh/release/bokeh-widgets-1.0.4.min.js\", \"https://cdn.pydata.org/bokeh/release/bokeh-tables-1.0.4.min.js\", \"https://cdn.pydata.org/bokeh/release/bokeh-gl-1.0.4.min.js\"];\n\n  var inline_js = [\n    function(Bokeh) {\n      Bokeh.set_log_level(\"info\");\n    },\n    \n    function(Bokeh) {\n      \n    },\n    function(Bokeh) {\n      console.log(\"Bokeh: injecting CSS: https://cdn.pydata.org/bokeh/release/bokeh-1.0.4.min.css\");\n      Bokeh.embed.inject_css(\"https://cdn.pydata.org/bokeh/release/bokeh-1.0.4.min.css\");\n      console.log(\"Bokeh: injecting CSS: https://cdn.pydata.org/bokeh/release/bokeh-widgets-1.0.4.min.css\");\n      Bokeh.embed.inject_css(\"https://cdn.pydata.org/bokeh/release/bokeh-widgets-1.0.4.min.css\");\n      console.log(\"Bokeh: injecting CSS: https://cdn.pydata.org/bokeh/release/bokeh-tables-1.0.4.min.css\");\n      Bokeh.embed.inject_css(\"https://cdn.pydata.org/bokeh/release/bokeh-tables-1.0.4.min.css\");\n    }\n  ];\n\n  function run_inline_js() {\n    \n    if ((root.Bokeh !== undefined) || (force === true)) {\n      for (var i = 0; i < inline_js.length; i++) {\n        inline_js[i].call(root, root.Bokeh);\n      }if (force === true) {\n        display_loaded();\n      }} else if (Date.now() < root._bokeh_timeout) {\n      setTimeout(run_inline_js, 100);\n    } else if (!root._bokeh_failed_load) {\n      console.log(\"Bokeh: BokehJS failed to load within specified timeout.\");\n      root._bokeh_failed_load = true;\n    } else if (force !== true) {\n      var cell = $(document.getElementById(\"1379\")).parents('.cell').data().cell;\n      cell.output_area.append_execute_result(NB_LOAD_WARNING)\n    }\n\n  }\n\n  if (root._bokeh_is_loading === 0) {\n    console.log(\"Bokeh: BokehJS loaded, going straight to plotting\");\n    run_inline_js();\n  } else {\n    load_libs(js_urls, function() {\n      console.log(\"Bokeh: BokehJS plotting callback run at\", now());\n      run_inline_js();\n    });\n  }\n}(window));"
     },
     "metadata": {},
     "output_type": "display_data"
    },
    {
     "name": "stdout",
     "output_type": "stream",
     "text": [
      "(filled:charge) (open:discharge)\n"
     ]
    },
    {
     "data": {
      "text/html": [
       "\n",
       "\n",
       "\n",
       "\n",
       "\n",
       "\n",
       "  <div class=\"bk-root\" id=\"50f39c3f-b8f8-4a02-87d2-390f0fcf6de6\" data-root-id=\"1574\"></div>\n"
      ]
     },
     "metadata": {},
     "output_type": "display_data"
    },
    {
     "data": {
      "application/javascript": [
       "(function(root) {\n",
       "  function embed_document(root) {\n",
       "    \n",
       "  var docs_json = {\"ea43bd1c-4a27-4911-9cd6-1b3d17ea84df\":{\"roots\":{\"references\":[{\"attributes\":{\"children\":[{\"id\":\"1381\",\"subtype\":\"Figure\",\"type\":\"Plot\"},{\"id\":\"1438\",\"subtype\":\"Figure\",\"type\":\"Plot\"},{\"id\":\"1516\",\"subtype\":\"Figure\",\"type\":\"Plot\"}]},\"id\":\"1574\",\"type\":\"Column\"},{\"attributes\":{},\"id\":\"1397\",\"type\":\"BasicTicker\"},{\"attributes\":{},\"id\":\"1387\",\"type\":\"LinearScale\"},{\"attributes\":{\"data_source\":{\"id\":\"1515\",\"type\":\"ColumnDataSource\"},\"glyph\":{\"id\":\"1566\",\"type\":\"Line\"},\"hover_glyph\":null,\"muted_glyph\":null,\"nonselection_glyph\":{\"id\":\"1567\",\"type\":\"Line\"},\"selection_glyph\":null,\"view\":{\"id\":\"1569\",\"type\":\"CDSView\"}},\"id\":\"1568\",\"type\":\"GlyphRenderer\"},{\"attributes\":{},\"id\":\"1536\",\"type\":\"WheelZoomTool\"},{\"attributes\":{\"line_color\":\"#7fcdbb\",\"line_dash\":[0,0],\"x\":{\"field\":\"Cycle_Index\"},\"y\":{\"field\":\"20160805_test001_47_cc\"}},\"id\":\"1566\",\"type\":\"Line\"},{\"attributes\":{},\"id\":\"1389\",\"type\":\"LinearScale\"},{\"attributes\":{\"data_source\":{\"id\":\"1515\",\"type\":\"ColumnDataSource\"},\"glyph\":{\"id\":\"1556\",\"type\":\"Line\"},\"hover_glyph\":null,\"muted_glyph\":null,\"nonselection_glyph\":{\"id\":\"1557\",\"type\":\"Line\"},\"selection_glyph\":null,\"view\":{\"id\":\"1559\",\"type\":\"CDSView\"}},\"id\":\"1558\",\"type\":\"GlyphRenderer\"},{\"attributes\":{\"active_drag\":\"auto\",\"active_inspect\":\"auto\",\"active_multi\":null,\"active_scroll\":\"auto\",\"active_tap\":\"auto\",\"tools\":[{\"id\":\"1457\",\"type\":\"PanTool\"},{\"id\":\"1458\",\"type\":\"WheelZoomTool\"},{\"id\":\"1459\",\"type\":\"BoxZoomTool\"},{\"id\":\"1460\",\"type\":\"SaveTool\"},{\"id\":\"1461\",\"type\":\"ResetTool\"},{\"id\":\"1462\",\"type\":\"HelpTool\"},{\"id\":\"1570\",\"type\":\"HoverTool\"}]},\"id\":\"1463\",\"type\":\"Toolbar\"},{\"attributes\":{\"fill_color\":{\"value\":\"#2c7fb8\"},\"line_color\":{\"value\":\"#2c7fb8\"},\"size\":{\"units\":\"screen\",\"value\":12},\"x\":{\"field\":\"Cycle_Index\"},\"y\":{\"field\":\"20160805_test001_45_cc\"}},\"id\":\"1551\",\"type\":\"Scatter\"},{\"attributes\":{\"callback\":null,\"end\":120,\"start\":20},\"id\":\"1385\",\"type\":\"DataRange1d\"},{\"attributes\":{},\"id\":\"1462\",\"type\":\"HelpTool\"},{\"attributes\":{},\"id\":\"1540\",\"type\":\"HelpTool\"},{\"attributes\":{\"fill_alpha\":{\"value\":0.1},\"fill_color\":{\"value\":\"#1f77b4\"},\"line_alpha\":{\"value\":0.1},\"line_color\":{\"value\":\"#1f77b4\"},\"size\":{\"units\":\"screen\",\"value\":12},\"x\":{\"field\":\"Cycle_Index\"},\"y\":{\"field\":\"20160805_test001_47_cc\"}},\"id\":\"1562\",\"type\":\"Scatter\"},{\"attributes\":{\"line_alpha\":0.1,\"line_color\":\"#1f77b4\",\"line_dash\":[0,0],\"x\":{\"field\":\"Cycle_Index\"},\"y\":{\"field\":\"20160805_test001_47_cc\"}},\"id\":\"1567\",\"type\":\"Line\"},{\"attributes\":{},\"id\":\"1620\",\"type\":\"UnionRenderers\"},{\"attributes\":{\"formatter\":{\"id\":\"1605\",\"type\":\"BasicTickFormatter\"},\"plot\":{\"id\":\"1381\",\"subtype\":\"Figure\",\"type\":\"Plot\"},\"ticker\":{\"id\":\"1392\",\"type\":\"BasicTicker\"},\"visible\":false},\"id\":\"1391\",\"type\":\"LinearAxis\"},{\"attributes\":{\"below\":[{\"id\":\"1525\",\"type\":\"LinearAxis\"}],\"left\":[{\"id\":\"1530\",\"type\":\"LinearAxis\"}],\"plot_height\":240,\"plot_width\":900,\"renderers\":[{\"id\":\"1525\",\"type\":\"LinearAxis\"},{\"id\":\"1529\",\"type\":\"Grid\"},{\"id\":\"1530\",\"type\":\"LinearAxis\"},{\"id\":\"1534\",\"type\":\"Grid\"},{\"id\":\"1543\",\"type\":\"BoxAnnotation\"},{\"id\":\"1553\",\"type\":\"GlyphRenderer\"},{\"id\":\"1558\",\"type\":\"GlyphRenderer\"},{\"id\":\"1563\",\"type\":\"GlyphRenderer\"},{\"id\":\"1568\",\"type\":\"GlyphRenderer\"}],\"title\":null,\"toolbar\":{\"id\":\"1541\",\"type\":\"Toolbar\"},\"x_range\":{\"id\":\"1383\",\"type\":\"DataRange1d\"},\"x_scale\":{\"id\":\"1521\",\"type\":\"LinearScale\"},\"y_range\":{\"id\":\"1519\",\"type\":\"DataRange1d\"},\"y_scale\":{\"id\":\"1523\",\"type\":\"LinearScale\"}},\"id\":\"1516\",\"subtype\":\"Figure\",\"type\":\"Plot\"},{\"attributes\":{\"data_source\":{\"id\":\"1380\",\"type\":\"ColumnDataSource\"},\"glyph\":{\"id\":\"1422\",\"type\":\"Line\"},\"hover_glyph\":null,\"muted_glyph\":null,\"nonselection_glyph\":{\"id\":\"1423\",\"type\":\"Line\"},\"selection_glyph\":null,\"view\":{\"id\":\"1425\",\"type\":\"CDSView\"}},\"id\":\"1424\",\"type\":\"GlyphRenderer\"},{\"attributes\":{\"axis_label\":\"Coulombic efficiency (%)\",\"formatter\":{\"id\":\"1607\",\"type\":\"BasicTickFormatter\"},\"plot\":{\"id\":\"1381\",\"subtype\":\"Figure\",\"type\":\"Plot\"},\"ticker\":{\"id\":\"1397\",\"type\":\"BasicTicker\"}},\"id\":\"1396\",\"type\":\"LinearAxis\"},{\"attributes\":{\"dimension\":1,\"plot\":{\"id\":\"1381\",\"subtype\":\"Figure\",\"type\":\"Plot\"},\"ticker\":{\"id\":\"1397\",\"type\":\"BasicTicker\"}},\"id\":\"1400\",\"type\":\"Grid\"},{\"attributes\":{},\"id\":\"1457\",\"type\":\"PanTool\"},{\"attributes\":{\"source\":{\"id\":\"1436\",\"type\":\"ColumnDataSource\"}},\"id\":\"1501\",\"type\":\"CDSView\"},{\"attributes\":{\"callback\":null},\"id\":\"1383\",\"type\":\"DataRange1d\"},{\"attributes\":{\"data_source\":{\"id\":\"1515\",\"type\":\"ColumnDataSource\"},\"glyph\":{\"id\":\"1551\",\"type\":\"Scatter\"},\"hover_glyph\":null,\"muted_glyph\":null,\"nonselection_glyph\":{\"id\":\"1552\",\"type\":\"Scatter\"},\"selection_glyph\":null,\"view\":{\"id\":\"1554\",\"type\":\"CDSView\"}},\"id\":\"1553\",\"type\":\"GlyphRenderer\"},{\"attributes\":{\"plot\":{\"id\":\"1381\",\"subtype\":\"Figure\",\"type\":\"Plot\"},\"ticker\":{\"id\":\"1392\",\"type\":\"BasicTicker\"}},\"id\":\"1395\",\"type\":\"Grid\"},{\"attributes\":{\"fill_color\":{\"value\":\"#2c7fb8\"},\"line_color\":{\"value\":\"#2c7fb8\"},\"size\":{\"units\":\"screen\",\"value\":12},\"x\":{\"field\":\"Cycle_Index\"},\"y\":{\"field\":\"20160805_test001_45_cc\"}},\"id\":\"1417\",\"type\":\"Scatter\"},{\"attributes\":{},\"id\":\"1460\",\"type\":\"SaveTool\"},{\"attributes\":{\"fill_color\":{\"value\":null},\"line_color\":{\"value\":\"#7fcdbb\"},\"size\":{\"units\":\"screen\",\"value\":12},\"x\":{\"field\":\"Cycle_Index\"},\"y\":{\"field\":\"20160805_test001_47_cc\"}},\"id\":\"1503\",\"type\":\"Scatter\"},{\"attributes\":{\"source\":{\"id\":\"1515\",\"type\":\"ColumnDataSource\"}},\"id\":\"1554\",\"type\":\"CDSView\"},{\"attributes\":{},\"id\":\"1621\",\"type\":\"Selection\"},{\"attributes\":{},\"id\":\"1535\",\"type\":\"PanTool\"},{\"attributes\":{\"data_source\":{\"id\":\"1380\",\"type\":\"ColumnDataSource\"},\"glyph\":{\"id\":\"1417\",\"type\":\"Scatter\"},\"hover_glyph\":null,\"muted_glyph\":null,\"nonselection_glyph\":{\"id\":\"1418\",\"type\":\"Scatter\"},\"selection_glyph\":null,\"view\":{\"id\":\"1420\",\"type\":\"CDSView\"}},\"id\":\"1419\",\"type\":\"GlyphRenderer\"},{\"attributes\":{\"data_source\":{\"id\":\"1515\",\"type\":\"ColumnDataSource\"},\"glyph\":{\"id\":\"1561\",\"type\":\"Scatter\"},\"hover_glyph\":null,\"muted_glyph\":null,\"nonselection_glyph\":{\"id\":\"1562\",\"type\":\"Scatter\"},\"selection_glyph\":null,\"view\":{\"id\":\"1564\",\"type\":\"CDSView\"}},\"id\":\"1563\",\"type\":\"GlyphRenderer\"},{\"attributes\":{\"line_alpha\":0.1,\"line_color\":\"#1f77b4\",\"line_dash\":[0,0],\"x\":{\"field\":\"Cycle_Index\"},\"y\":{\"field\":\"20160805_test001_45_cc\"}},\"id\":\"1557\",\"type\":\"Line\"},{\"attributes\":{},\"id\":\"1539\",\"type\":\"ResetTool\"},{\"attributes\":{\"callback\":null,\"data\":{\"20160805_test001_45_cc\":{\"__ndarray__\":\"Fb9NRt3iqEDtqreFhwWqQFdHB3S8gqpAXkIGkiAhqEDEepWts4GnQCRP3lP4iKdASIILBGuBp0AVlHl4b3anQL0GMlF+G6hABXm7QJFlp0AVEgoK452nQHi1OCchk6dAPZKWxZ0TqEC/OKy+HfWnQF9aLbmLz6dAtgALfclGqEAGbl3ovFqnQAAAAAAAAAAAFb9NRt3iqEDtqreFhwWqQFdHB3S8gqpAXkIGkiAhqEDEepWts4GnQCRP3lP4iKdASIILBGuBp0AVlHl4b3anQL0GMlF+G6hABXm7QJFlp0AVEgoK452nQHi1OCchk6dAPZKWxZ0TqEC/OKy+HfWnQF9aLbmLz6dAtgALfclGqEAGbl3ovFqnQAAAAAAAAAAA\",\"dtype\":\"float64\",\"shape\":[36]},\"20160805_test001_47_cc\":{\"__ndarray__\":\"mP2hlyGcqUDYkQS3P8eqQIXbecEYSKtADVFvmcLUqED+R73asjCoQIBjwJwtOKhA8+5CFGgwqEDSb/XFGiWoQLgsqGf2zqhAkff1+r4TqEC8oWwKtE2oQJ8XHxKiQqhAtd6+N9vGqEDd83UheKeoQAIq+WnOgKhA33jm4IP7qEAyFbADmgioQAAAAAAAAAAAAAAAAAAA+H8AAAAAAAD4fwAAAAAAAPh/AAAAAAAA+H8AAAAAAAD4fwAAAAAAAPh/AAAAAAAA+H8AAAAAAAD4fwAAAAAAAPh/AAAAAAAA+H8AAAAAAAD4fwAAAAAAAPh/AAAAAAAA+H8AAAAAAAD4fwAAAAAAAPh/AAAAAAAA+H8AAAAAAAD4fwAAAAAAAPh/\",\"dtype\":\"float64\",\"shape\":[36]},\"Cycle_Index\":[1,2,3,4,5,6,7,8,9,10,11,12,13,14,15,16,17,18,19,20,21,22,23,24,25,26,27,28,29,30,31,32,33,34,35,36]},\"selected\":{\"id\":\"1621\",\"type\":\"Selection\"},\"selection_policy\":{\"id\":\"1620\",\"type\":\"UnionRenderers\"}},\"id\":\"1436\",\"type\":\"ColumnDataSource\"},{\"attributes\":{},\"id\":\"1615\",\"type\":\"BasicTickFormatter\"},{\"attributes\":{\"data_source\":{\"id\":\"1437\",\"type\":\"ColumnDataSource\"},\"glyph\":{\"id\":\"1503\",\"type\":\"Scatter\"},\"hover_glyph\":null,\"muted_glyph\":null,\"nonselection_glyph\":{\"id\":\"1504\",\"type\":\"Scatter\"},\"selection_glyph\":null,\"view\":{\"id\":\"1506\",\"type\":\"CDSView\"}},\"id\":\"1505\",\"type\":\"GlyphRenderer\"},{\"attributes\":{\"line_alpha\":0.1,\"line_color\":\"#1f77b4\",\"line_dash\":[0,0],\"x\":{\"field\":\"Cycle_Index\"},\"y\":{\"field\":\"20160805_test001_47_cc\"}},\"id\":\"1509\",\"type\":\"Line\"},{\"attributes\":{},\"id\":\"1617\",\"type\":\"UnionRenderers\"},{\"attributes\":{\"active_drag\":\"auto\",\"active_inspect\":\"auto\",\"active_multi\":null,\"active_scroll\":\"auto\",\"active_tap\":\"auto\",\"tools\":[{\"id\":\"1535\",\"type\":\"PanTool\"},{\"id\":\"1536\",\"type\":\"WheelZoomTool\"},{\"id\":\"1537\",\"type\":\"BoxZoomTool\"},{\"id\":\"1538\",\"type\":\"SaveTool\"},{\"id\":\"1539\",\"type\":\"ResetTool\"},{\"id\":\"1540\",\"type\":\"HelpTool\"},{\"id\":\"1570\",\"type\":\"HoverTool\"}]},\"id\":\"1541\",\"type\":\"Toolbar\"},{\"attributes\":{\"line_color\":\"#2c7fb8\",\"line_dash\":[0,0],\"x\":{\"field\":\"Cycle_Index\"},\"y\":{\"field\":\"20160805_test001_45_cc\"}},\"id\":\"1556\",\"type\":\"Line\"},{\"attributes\":{},\"id\":\"1392\",\"type\":\"BasicTicker\"},{\"attributes\":{},\"id\":\"1611\",\"type\":\"BasicTickFormatter\"},{\"attributes\":{\"dimension\":1,\"plot\":{\"id\":\"1438\",\"subtype\":\"Figure\",\"type\":\"Plot\"},\"ticker\":{\"id\":\"1453\",\"type\":\"BasicTicker\"}},\"id\":\"1456\",\"type\":\"Grid\"},{\"attributes\":{\"click_policy\":\"hide\",\"items\":[{\"id\":\"1513\",\"type\":\"LegendItem\"},{\"id\":\"1514\",\"type\":\"LegendItem\"}],\"location\":\"bottom_right\",\"plot\":{\"id\":\"1438\",\"subtype\":\"Figure\",\"type\":\"Plot\"}},\"id\":\"1512\",\"type\":\"Legend\"},{\"attributes\":{},\"id\":\"1458\",\"type\":\"WheelZoomTool\"},{\"attributes\":{\"fill_alpha\":{\"value\":0.1},\"fill_color\":{\"value\":\"#1f77b4\"},\"line_alpha\":{\"value\":0.1},\"line_color\":{\"value\":\"#1f77b4\"},\"size\":{\"units\":\"screen\",\"value\":12},\"x\":{\"field\":\"Cycle_Index\"},\"y\":{\"field\":\"20160805_test001_47_cc\"}},\"id\":\"1504\",\"type\":\"Scatter\"},{\"attributes\":{},\"id\":\"1613\",\"type\":\"BasicTickFormatter\"},{\"attributes\":{\"fill_alpha\":{\"value\":0.1},\"fill_color\":{\"value\":\"#1f77b4\"},\"line_alpha\":{\"value\":0.1},\"line_color\":{\"value\":\"#1f77b4\"},\"size\":{\"units\":\"screen\",\"value\":12},\"x\":{\"field\":\"Cycle_Index\"},\"y\":{\"field\":\"20160805_test001_45_cc\"}},\"id\":\"1552\",\"type\":\"Scatter\"},{\"attributes\":{},\"id\":\"1605\",\"type\":\"BasicTickFormatter\"},{\"attributes\":{\"overlay\":{\"id\":\"1543\",\"type\":\"BoxAnnotation\"}},\"id\":\"1537\",\"type\":\"BoxZoomTool\"},{\"attributes\":{\"fill_alpha\":{\"value\":0.1},\"fill_color\":{\"value\":\"#1f77b4\"},\"line_alpha\":{\"value\":0.1},\"line_color\":{\"value\":\"#1f77b4\"},\"size\":{\"units\":\"screen\",\"value\":12},\"x\":{\"field\":\"Cycle_Index\"},\"y\":{\"field\":\"20160805_test001_45_cc\"}},\"id\":\"1474\",\"type\":\"Scatter\"},{\"attributes\":{},\"id\":\"1626\",\"type\":\"Selection\"},{\"attributes\":{\"data_source\":{\"id\":\"1436\",\"type\":\"ColumnDataSource\"},\"glyph\":{\"id\":\"1498\",\"type\":\"Line\"},\"hover_glyph\":null,\"muted_glyph\":null,\"nonselection_glyph\":{\"id\":\"1499\",\"type\":\"Line\"},\"selection_glyph\":null,\"view\":{\"id\":\"1501\",\"type\":\"CDSView\"}},\"id\":\"1500\",\"type\":\"GlyphRenderer\"},{\"attributes\":{},\"id\":\"1609\",\"type\":\"BasicTickFormatter\"},{\"attributes\":{\"line_alpha\":0.1,\"line_color\":\"#1f77b4\",\"line_dash\":[0,0],\"x\":{\"field\":\"Cycle_Index\"},\"y\":{\"field\":\"20160805_test001_47_cc\"}},\"id\":\"1499\",\"type\":\"Line\"},{\"attributes\":{\"source\":{\"id\":\"1437\",\"type\":\"ColumnDataSource\"}},\"id\":\"1506\",\"type\":\"CDSView\"},{\"attributes\":{},\"id\":\"1538\",\"type\":\"SaveTool\"},{\"attributes\":{\"source\":{\"id\":\"1515\",\"type\":\"ColumnDataSource\"}},\"id\":\"1564\",\"type\":\"CDSView\"},{\"attributes\":{\"overlay\":{\"id\":\"1465\",\"type\":\"BoxAnnotation\"}},\"id\":\"1459\",\"type\":\"BoxZoomTool\"},{\"attributes\":{\"source\":{\"id\":\"1436\",\"type\":\"ColumnDataSource\"}},\"id\":\"1496\",\"type\":\"CDSView\"},{\"attributes\":{\"source\":{\"id\":\"1380\",\"type\":\"ColumnDataSource\"}},\"id\":\"1420\",\"type\":\"CDSView\"},{\"attributes\":{\"line_color\":\"#7fcdbb\",\"line_dash\":[0,0],\"x\":{\"field\":\"Cycle_Index\"},\"y\":{\"field\":\"20160805_test001_47_cc\"}},\"id\":\"1508\",\"type\":\"Line\"},{\"attributes\":{},\"id\":\"1618\",\"type\":\"Selection\"},{\"attributes\":{},\"id\":\"1401\",\"type\":\"PanTool\"},{\"attributes\":{\"source\":{\"id\":\"1437\",\"type\":\"ColumnDataSource\"}},\"id\":\"1486\",\"type\":\"CDSView\"},{\"attributes\":{},\"id\":\"1448\",\"type\":\"BasicTicker\"},{\"attributes\":{\"line_alpha\":0.1,\"line_color\":\"#1f77b4\",\"line_dash\":[0,0],\"x\":{\"field\":\"Cycle_Index\"},\"y\":{\"field\":\"20160805_test001_45_cc\"}},\"id\":\"1489\",\"type\":\"Line\"},{\"attributes\":{\"formatter\":{\"id\":\"1609\",\"type\":\"BasicTickFormatter\"},\"plot\":{\"id\":\"1438\",\"subtype\":\"Figure\",\"type\":\"Plot\"},\"ticker\":{\"id\":\"1448\",\"type\":\"BasicTicker\"},\"visible\":false},\"id\":\"1447\",\"type\":\"LinearAxis\"},{\"attributes\":{\"fill_color\":{\"value\":\"#2c7fb8\"},\"line_color\":{\"value\":\"#2c7fb8\"},\"size\":{\"units\":\"screen\",\"value\":12},\"x\":{\"field\":\"Cycle_Index\"},\"y\":{\"field\":\"20160805_test001_45_cc\"}},\"id\":\"1473\",\"type\":\"Scatter\"},{\"attributes\":{\"line_color\":\"#2c7fb8\",\"line_dash\":[0,0],\"x\":{\"field\":\"Cycle_Index\"},\"y\":{\"field\":\"20160805_test001_45_cc\"}},\"id\":\"1478\",\"type\":\"Line\"},{\"attributes\":{\"source\":{\"id\":\"1436\",\"type\":\"ColumnDataSource\"}},\"id\":\"1481\",\"type\":\"CDSView\"},{\"attributes\":{\"line_color\":\"#7fcdbb\",\"line_dash\":[0,0],\"x\":{\"field\":\"Cycle_Index\"},\"y\":{\"field\":\"20160805_test001_47_cc\"}},\"id\":\"1432\",\"type\":\"Line\"},{\"attributes\":{\"below\":[{\"id\":\"1447\",\"type\":\"LinearAxis\"}],\"left\":[{\"id\":\"1452\",\"type\":\"LinearAxis\"}],\"plot_height\":400,\"plot_width\":900,\"renderers\":[{\"id\":\"1447\",\"type\":\"LinearAxis\"},{\"id\":\"1451\",\"type\":\"Grid\"},{\"id\":\"1452\",\"type\":\"LinearAxis\"},{\"id\":\"1456\",\"type\":\"Grid\"},{\"id\":\"1465\",\"type\":\"BoxAnnotation\"},{\"id\":\"1475\",\"type\":\"GlyphRenderer\"},{\"id\":\"1480\",\"type\":\"GlyphRenderer\"},{\"id\":\"1485\",\"type\":\"GlyphRenderer\"},{\"id\":\"1490\",\"type\":\"GlyphRenderer\"},{\"id\":\"1495\",\"type\":\"GlyphRenderer\"},{\"id\":\"1500\",\"type\":\"GlyphRenderer\"},{\"id\":\"1505\",\"type\":\"GlyphRenderer\"},{\"id\":\"1510\",\"type\":\"GlyphRenderer\"},{\"id\":\"1512\",\"type\":\"Legend\"}],\"title\":null,\"toolbar\":{\"id\":\"1463\",\"type\":\"Toolbar\"},\"x_range\":{\"id\":\"1383\",\"type\":\"DataRange1d\"},\"x_scale\":{\"id\":\"1443\",\"type\":\"LinearScale\"},\"y_range\":{\"id\":\"1441\",\"type\":\"DataRange1d\"},\"y_scale\":{\"id\":\"1445\",\"type\":\"LinearScale\"}},\"id\":\"1438\",\"subtype\":\"Figure\",\"type\":\"Plot\"},{\"attributes\":{},\"id\":\"1402\",\"type\":\"WheelZoomTool\"},{\"attributes\":{\"fill_color\":{\"value\":\"#7fcdbb\"},\"line_color\":{\"value\":\"#7fcdbb\"},\"size\":{\"units\":\"screen\",\"value\":12},\"x\":{\"field\":\"Cycle_Index\"},\"y\":{\"field\":\"20160805_test001_47_cc\"}},\"id\":\"1561\",\"type\":\"Scatter\"},{\"attributes\":{\"below\":[{\"id\":\"1391\",\"type\":\"LinearAxis\"}],\"left\":[{\"id\":\"1396\",\"type\":\"LinearAxis\"}],\"plot_height\":160,\"plot_width\":900,\"renderers\":[{\"id\":\"1391\",\"type\":\"LinearAxis\"},{\"id\":\"1395\",\"type\":\"Grid\"},{\"id\":\"1396\",\"type\":\"LinearAxis\"},{\"id\":\"1400\",\"type\":\"Grid\"},{\"id\":\"1409\",\"type\":\"BoxAnnotation\"},{\"id\":\"1419\",\"type\":\"GlyphRenderer\"},{\"id\":\"1424\",\"type\":\"GlyphRenderer\"},{\"id\":\"1429\",\"type\":\"GlyphRenderer\"},{\"id\":\"1434\",\"type\":\"GlyphRenderer\"}],\"title\":null,\"toolbar\":{\"id\":\"1407\",\"type\":\"Toolbar\"},\"x_range\":{\"id\":\"1383\",\"type\":\"DataRange1d\"},\"x_scale\":{\"id\":\"1387\",\"type\":\"LinearScale\"},\"y_range\":{\"id\":\"1385\",\"type\":\"DataRange1d\"},\"y_scale\":{\"id\":\"1389\",\"type\":\"LinearScale\"}},\"id\":\"1381\",\"subtype\":\"Figure\",\"type\":\"Plot\"},{\"attributes\":{\"axis_label\":\"IR Charge (Ohm)\",\"formatter\":{\"id\":\"1615\",\"type\":\"BasicTickFormatter\"},\"plot\":{\"id\":\"1516\",\"subtype\":\"Figure\",\"type\":\"Plot\"},\"ticker\":{\"id\":\"1531\",\"type\":\"BasicTicker\"}},\"id\":\"1530\",\"type\":\"LinearAxis\"},{\"attributes\":{\"overlay\":{\"id\":\"1409\",\"type\":\"BoxAnnotation\"}},\"id\":\"1403\",\"type\":\"BoxZoomTool\"},{\"attributes\":{\"source\":{\"id\":\"1380\",\"type\":\"ColumnDataSource\"}},\"id\":\"1430\",\"type\":\"CDSView\"},{\"attributes\":{},\"id\":\"1623\",\"type\":\"Selection\"},{\"attributes\":{\"line_alpha\":0.1,\"line_color\":\"#1f77b4\",\"line_dash\":[0,0],\"x\":{\"field\":\"Cycle_Index\"},\"y\":{\"field\":\"20160805_test001_45_cc\"}},\"id\":\"1479\",\"type\":\"Line\"},{\"attributes\":{},\"id\":\"1461\",\"type\":\"ResetTool\"},{\"attributes\":{\"fill_color\":{\"value\":null},\"line_color\":{\"value\":\"#2c7fb8\"},\"size\":{\"units\":\"screen\",\"value\":12},\"x\":{\"field\":\"Cycle_Index\"},\"y\":{\"field\":\"20160805_test001_45_cc\"}},\"id\":\"1483\",\"type\":\"Scatter\"},{\"attributes\":{},\"id\":\"1526\",\"type\":\"BasicTicker\"},{\"attributes\":{},\"id\":\"1531\",\"type\":\"BasicTicker\"},{\"attributes\":{\"dimension\":1,\"plot\":{\"id\":\"1516\",\"subtype\":\"Figure\",\"type\":\"Plot\"},\"ticker\":{\"id\":\"1531\",\"type\":\"BasicTicker\"}},\"id\":\"1534\",\"type\":\"Grid\"},{\"attributes\":{\"bottom_units\":\"screen\",\"fill_alpha\":{\"value\":0.5},\"fill_color\":{\"value\":\"lightgrey\"},\"left_units\":\"screen\",\"level\":\"overlay\",\"line_alpha\":{\"value\":1.0},\"line_color\":{\"value\":\"black\"},\"line_dash\":[4,4],\"line_width\":{\"value\":2},\"plot\":null,\"render_mode\":\"css\",\"right_units\":\"screen\",\"top_units\":\"screen\"},\"id\":\"1543\",\"type\":\"BoxAnnotation\"},{\"attributes\":{\"plot\":{\"id\":\"1516\",\"subtype\":\"Figure\",\"type\":\"Plot\"},\"ticker\":{\"id\":\"1526\",\"type\":\"BasicTicker\"}},\"id\":\"1529\",\"type\":\"Grid\"},{\"attributes\":{},\"id\":\"1404\",\"type\":\"SaveTool\"},{\"attributes\":{\"fill_color\":{\"value\":\"#7fcdbb\"},\"line_color\":{\"value\":\"#7fcdbb\"},\"size\":{\"units\":\"screen\",\"value\":12},\"x\":{\"field\":\"Cycle_Index\"},\"y\":{\"field\":\"20160805_test001_47_cc\"}},\"id\":\"1427\",\"type\":\"Scatter\"},{\"attributes\":{\"callback\":null,\"data\":{\"20160805_test001_45_cc\":{\"__ndarray__\":\"OxDHcy7fqkDKl5cazf+nQC3DoRNRR6hAAS8LJjU7p0AJFVc6ZIamQBrmnO2LhKZAB7hubgKEpkCCjKOYuG6mQMOossELG6dAiGSJhiZnpkA4tW3mW6CmQDlALRQlmKZAmN+TOoEUp0BjClsrkQKnQJOPOb3o1qZAsZ304AZep0CzFGEuZG2mQG93PQoBUH1AOxDHcy7fqkDKl5cazf+nQC3DoRNRR6hAAS8LJjU7p0AJFVc6ZIamQBrmnO2LhKZAB7hubgKEpkCCjKOYuG6mQMOossELG6dAiGSJhiZnpkA4tW3mW6CmQDlALRQlmKZAmN+TOoEUp0BjClsrkQKnQJOPOb3o1qZAsZ304AZep0CzFGEuZG2mQG93PQoBUH1A\",\"dtype\":\"float64\",\"shape\":[36]},\"20160805_test001_47_cc\":{\"__ndarray__\":\"isJO+Dqnq0DqrvAId7KoQAN94mgP/KhAcWaghifop0CHAASCFC6nQIndOHkuLKdA1RNw+qArp0BJLP2ouBWnQFYFQbQOx6dASs7KOu4Np0DI0iJ/zUinQNIKS4ZZQKdAxmUAe1PAp0ClP+Th3a2nQK7HF3DwgKdArB1jePwLqEA+qHxYWhSnQBuTMRc5Kn5AAAAAAAAA+H8AAAAAAAD4fwAAAAAAAPh/AAAAAAAA+H8AAAAAAAD4fwAAAAAAAPh/AAAAAAAA+H8AAAAAAAD4fwAAAAAAAPh/AAAAAAAA+H8AAAAAAAD4fwAAAAAAAPh/AAAAAAAA+H8AAAAAAAD4fwAAAAAAAPh/AAAAAAAA+H8AAAAAAAD4fwAAAAAAAPh/\",\"dtype\":\"float64\",\"shape\":[36]},\"Cycle_Index\":[1,2,3,4,5,6,7,8,9,10,11,12,13,14,15,16,17,18,19,20,21,22,23,24,25,26,27,28,29,30,31,32,33,34,35,36]},\"selected\":{\"id\":\"1623\",\"type\":\"Selection\"},\"selection_policy\":{\"id\":\"1622\",\"type\":\"UnionRenderers\"}},\"id\":\"1437\",\"type\":\"ColumnDataSource\"},{\"attributes\":{\"fill_alpha\":{\"value\":0.1},\"fill_color\":{\"value\":\"#1f77b4\"},\"line_alpha\":{\"value\":0.1},\"line_color\":{\"value\":\"#1f77b4\"},\"size\":{\"units\":\"screen\",\"value\":12},\"x\":{\"field\":\"Cycle_Index\"},\"y\":{\"field\":\"20160805_test001_47_cc\"}},\"id\":\"1494\",\"type\":\"Scatter\"},{\"attributes\":{\"callback\":null},\"id\":\"1519\",\"type\":\"DataRange1d\"},{\"attributes\":{\"callback\":null,\"data\":{\"20160805_test001_45_cc\":{\"__ndarray__\":\"g85awLovSEBdtLbfkOVFQPDLT2Dwt0FAXYjVH2HnQ0AALOG/L9pFQDs9SoD1K0ZApYY2ABvARUCrGikAa9NFQCET3z/MiUNAf0CxX8HeREAUKSig5IVEQBecwd8vRkRALf2V37OzQkAhUQ2ghDRCQI9OAkC6xEJAS0ha4OG+QEBFhUWgVchCQAAAAAAAAAAAg85awLovSEBdtLbfkOVFQPDLT2Dwt0FAXYjVH2HnQ0AALOG/L9pFQDs9SoD1K0ZApYY2ABvARUCrGikAa9NFQCET3z/MiUNAf0CxX8HeREAUKSig5IVEQBecwd8vRkRALf2V37OzQkAhUQ2ghDRCQI9OAkC6xEJAS0ha4OG+QEBFhUWgVchCQAAAAAAAAAAA\",\"dtype\":\"float64\",\"shape\":[36]},\"20160805_test001_47_cc\":{\"__ndarray__\":\"g85awLovSEBdtLbfkOVFQPDLT2Dwt0FAXYjVH2HnQ0AALOG/L9pFQDs9SoD1K0ZApYY2ABvARUCrGikAa9NFQCET3z/MiUNAf0CxX8HeREAUKSig5IVEQBecwd8vRkRALf2V37OzQkAhUQ2ghDRCQI9OAkC6xEJAS0ha4OG+QEBFhUWgVchCQAAAAAAAAAAAAAAAAAAA+H8AAAAAAAD4fwAAAAAAAPh/AAAAAAAA+H8AAAAAAAD4fwAAAAAAAPh/AAAAAAAA+H8AAAAAAAD4fwAAAAAAAPh/AAAAAAAA+H8AAAAAAAD4fwAAAAAAAPh/AAAAAAAA+H8AAAAAAAD4fwAAAAAAAPh/AAAAAAAA+H8AAAAAAAD4fwAAAAAAAPh/\",\"dtype\":\"float64\",\"shape\":[36]},\"Cycle_Index\":[1,2,3,4,5,6,7,8,9,10,11,12,13,14,15,16,17,18,19,20,21,22,23,24,25,26,27,28,29,30,31,32,33,34,35,36]},\"selected\":{\"id\":\"1626\",\"type\":\"Selection\"},\"selection_policy\":{\"id\":\"1625\",\"type\":\"UnionRenderers\"}},\"id\":\"1515\",\"type\":\"ColumnDataSource\"},{\"attributes\":{\"data_source\":{\"id\":\"1380\",\"type\":\"ColumnDataSource\"},\"glyph\":{\"id\":\"1427\",\"type\":\"Scatter\"},\"hover_glyph\":null,\"muted_glyph\":null,\"nonselection_glyph\":{\"id\":\"1428\",\"type\":\"Scatter\"},\"selection_glyph\":null,\"view\":{\"id\":\"1430\",\"type\":\"CDSView\"}},\"id\":\"1429\",\"type\":\"GlyphRenderer\"},{\"attributes\":{\"data_source\":{\"id\":\"1437\",\"type\":\"ColumnDataSource\"},\"glyph\":{\"id\":\"1508\",\"type\":\"Line\"},\"hover_glyph\":null,\"muted_glyph\":null,\"nonselection_glyph\":{\"id\":\"1509\",\"type\":\"Line\"},\"selection_glyph\":null,\"view\":{\"id\":\"1511\",\"type\":\"CDSView\"}},\"id\":\"1510\",\"type\":\"GlyphRenderer\"},{\"attributes\":{\"fill_alpha\":{\"value\":0.1},\"fill_color\":{\"value\":\"#1f77b4\"},\"line_alpha\":{\"value\":0.1},\"line_color\":{\"value\":\"#1f77b4\"},\"size\":{\"units\":\"screen\",\"value\":12},\"x\":{\"field\":\"Cycle_Index\"},\"y\":{\"field\":\"20160805_test001_47_cc\"}},\"id\":\"1428\",\"type\":\"Scatter\"},{\"attributes\":{},\"id\":\"1443\",\"type\":\"LinearScale\"},{\"attributes\":{\"source\":{\"id\":\"1437\",\"type\":\"ColumnDataSource\"}},\"id\":\"1511\",\"type\":\"CDSView\"},{\"attributes\":{\"source\":{\"id\":\"1515\",\"type\":\"ColumnDataSource\"}},\"id\":\"1559\",\"type\":\"CDSView\"},{\"attributes\":{},\"id\":\"1406\",\"type\":\"HelpTool\"},{\"attributes\":{\"label\":{\"value\":\"test001_47\"},\"renderers\":[{\"id\":\"1495\",\"type\":\"GlyphRenderer\"},{\"id\":\"1500\",\"type\":\"GlyphRenderer\"},{\"id\":\"1505\",\"type\":\"GlyphRenderer\"},{\"id\":\"1510\",\"type\":\"GlyphRenderer\"}]},\"id\":\"1514\",\"type\":\"LegendItem\"},{\"attributes\":{\"axis_label\":\"Capacity (mAh/g)\",\"formatter\":{\"id\":\"1611\",\"type\":\"BasicTickFormatter\"},\"plot\":{\"id\":\"1438\",\"subtype\":\"Figure\",\"type\":\"Plot\"},\"ticker\":{\"id\":\"1453\",\"type\":\"BasicTicker\"}},\"id\":\"1452\",\"type\":\"LinearAxis\"},{\"attributes\":{\"active_drag\":\"auto\",\"active_inspect\":\"auto\",\"active_multi\":null,\"active_scroll\":\"auto\",\"active_tap\":\"auto\",\"tools\":[{\"id\":\"1401\",\"type\":\"PanTool\"},{\"id\":\"1402\",\"type\":\"WheelZoomTool\"},{\"id\":\"1403\",\"type\":\"BoxZoomTool\"},{\"id\":\"1404\",\"type\":\"SaveTool\"},{\"id\":\"1405\",\"type\":\"ResetTool\"},{\"id\":\"1406\",\"type\":\"HelpTool\"},{\"id\":\"1570\",\"type\":\"HoverTool\"}]},\"id\":\"1407\",\"type\":\"Toolbar\"},{\"attributes\":{},\"id\":\"1445\",\"type\":\"LinearScale\"},{\"attributes\":{\"callback\":null,\"data\":{\"20160805_test001_45_cc\":{\"__ndarray__\":\"0EzxSqT+WkCCc7H+mA5XQGDsuHMk5VZAbks36cgRWEBFIkhjufRXQGghSsNd61dAbnMo4HryV0DK1DiOAedXQDQmFqcO9ldAXuN9NybwV0AkkrRsn/NXQPE8YmPX9VdAsK5fxxr3V0BF4BB05QJYQOrSHtfx+ldAB6twl00QWECJ0xMS7gFYQAAAAAAAAPB/0EzxSqT+WkCCc7H+mA5XQGDsuHMk5VZAbks36cgRWEBFIkhjufRXQGghSsNd61dAbnMo4HryV0DK1DiOAedXQDQmFqcO9ldAXuN9NybwV0AkkrRsn/NXQPE8YmPX9VdAsK5fxxr3V0BF4BB05QJYQOrSHtfx+ldAB6twl00QWECJ0xMS7gFYQAAAAAAAAPB/\",\"dtype\":\"float64\",\"shape\":[36]},\"20160805_test001_47_cc\":{\"__ndarray__\":\"0UzxSqT+WkCCc7H+mA5XQF/suHMk5VZAbks36cgRWEBFIkhjufRXQGghSsNd61dAbnMo4HryV0DK1DiOAedXQDUmFqcO9ldAX+N9NybwV0AjkrRsn/NXQPE8YmPX9VdAsK5fxxr3V0BG4BB05QJYQOrSHtfx+ldABqtwl00QWECI0xMS7gFYQAAAAAAAAPB/AAAAAAAA+H8AAAAAAAD4fwAAAAAAAPh/AAAAAAAA+H8AAAAAAAD4fwAAAAAAAPh/AAAAAAAA+H8AAAAAAAD4fwAAAAAAAPh/AAAAAAAA+H8AAAAAAAD4fwAAAAAAAPh/AAAAAAAA+H8AAAAAAAD4fwAAAAAAAPh/AAAAAAAA+H8AAAAAAAD4fwAAAAAAAPh/\",\"dtype\":\"float64\",\"shape\":[36]},\"Cycle_Index\":[1,2,3,4,5,6,7,8,9,10,11,12,13,14,15,16,17,18,19,20,21,22,23,24,25,26,27,28,29,30,31,32,33,34,35,36]},\"selected\":{\"id\":\"1618\",\"type\":\"Selection\"},\"selection_policy\":{\"id\":\"1617\",\"type\":\"UnionRenderers\"}},\"id\":\"1380\",\"type\":\"ColumnDataSource\"},{\"attributes\":{\"callback\":null},\"id\":\"1441\",\"type\":\"DataRange1d\"},{\"attributes\":{\"bottom_units\":\"screen\",\"fill_alpha\":{\"value\":0.5},\"fill_color\":{\"value\":\"lightgrey\"},\"left_units\":\"screen\",\"level\":\"overlay\",\"line_alpha\":{\"value\":1.0},\"line_color\":{\"value\":\"black\"},\"line_dash\":[4,4],\"line_width\":{\"value\":2},\"plot\":null,\"render_mode\":\"css\",\"right_units\":\"screen\",\"top_units\":\"screen\"},\"id\":\"1465\",\"type\":\"BoxAnnotation\"},{\"attributes\":{\"plot\":{\"id\":\"1438\",\"subtype\":\"Figure\",\"type\":\"Plot\"},\"ticker\":{\"id\":\"1448\",\"type\":\"BasicTicker\"}},\"id\":\"1451\",\"type\":\"Grid\"},{\"attributes\":{\"line_color\":\"#2c7fb8\",\"line_dash\":[0,0],\"x\":{\"field\":\"Cycle_Index\"},\"y\":{\"field\":\"20160805_test001_45_cc\"}},\"id\":\"1422\",\"type\":\"Line\"},{\"attributes\":{},\"id\":\"1521\",\"type\":\"LinearScale\"},{\"attributes\":{\"fill_color\":{\"value\":\"#7fcdbb\"},\"line_color\":{\"value\":\"#7fcdbb\"},\"size\":{\"units\":\"screen\",\"value\":12},\"x\":{\"field\":\"Cycle_Index\"},\"y\":{\"field\":\"20160805_test001_47_cc\"}},\"id\":\"1493\",\"type\":\"Scatter\"},{\"attributes\":{\"line_color\":\"#7fcdbb\",\"line_dash\":[0,0],\"x\":{\"field\":\"Cycle_Index\"},\"y\":{\"field\":\"20160805_test001_47_cc\"}},\"id\":\"1498\",\"type\":\"Line\"},{\"attributes\":{\"data_source\":{\"id\":\"1436\",\"type\":\"ColumnDataSource\"},\"glyph\":{\"id\":\"1493\",\"type\":\"Scatter\"},\"hover_glyph\":null,\"muted_glyph\":null,\"nonselection_glyph\":{\"id\":\"1494\",\"type\":\"Scatter\"},\"selection_glyph\":null,\"view\":{\"id\":\"1496\",\"type\":\"CDSView\"}},\"id\":\"1495\",\"type\":\"GlyphRenderer\"},{\"attributes\":{\"callback\":null,\"tooltips\":[[\"cycle\",\"@Cycle_Index\"],[\"value\",\"$y\"]]},\"id\":\"1570\",\"type\":\"HoverTool\"},{\"attributes\":{\"line_alpha\":0.1,\"line_color\":\"#1f77b4\",\"line_dash\":[0,0],\"x\":{\"field\":\"Cycle_Index\"},\"y\":{\"field\":\"20160805_test001_45_cc\"}},\"id\":\"1423\",\"type\":\"Line\"},{\"attributes\":{\"bottom_units\":\"screen\",\"fill_alpha\":{\"value\":0.5},\"fill_color\":{\"value\":\"lightgrey\"},\"left_units\":\"screen\",\"level\":\"overlay\",\"line_alpha\":{\"value\":1.0},\"line_color\":{\"value\":\"black\"},\"line_dash\":[4,4],\"line_width\":{\"value\":2},\"plot\":null,\"render_mode\":\"css\",\"right_units\":\"screen\",\"top_units\":\"screen\"},\"id\":\"1409\",\"type\":\"BoxAnnotation\"},{\"attributes\":{\"data_source\":{\"id\":\"1436\",\"type\":\"ColumnDataSource\"},\"glyph\":{\"id\":\"1473\",\"type\":\"Scatter\"},\"hover_glyph\":null,\"muted_glyph\":null,\"nonselection_glyph\":{\"id\":\"1474\",\"type\":\"Scatter\"},\"selection_glyph\":null,\"view\":{\"id\":\"1476\",\"type\":\"CDSView\"}},\"id\":\"1475\",\"type\":\"GlyphRenderer\"},{\"attributes\":{\"fill_alpha\":{\"value\":0.1},\"fill_color\":{\"value\":\"#1f77b4\"},\"line_alpha\":{\"value\":0.1},\"line_color\":{\"value\":\"#1f77b4\"},\"size\":{\"units\":\"screen\",\"value\":12},\"x\":{\"field\":\"Cycle_Index\"},\"y\":{\"field\":\"20160805_test001_45_cc\"}},\"id\":\"1418\",\"type\":\"Scatter\"},{\"attributes\":{\"source\":{\"id\":\"1380\",\"type\":\"ColumnDataSource\"}},\"id\":\"1425\",\"type\":\"CDSView\"},{\"attributes\":{\"source\":{\"id\":\"1515\",\"type\":\"ColumnDataSource\"}},\"id\":\"1569\",\"type\":\"CDSView\"},{\"attributes\":{},\"id\":\"1622\",\"type\":\"UnionRenderers\"},{\"attributes\":{\"data_source\":{\"id\":\"1436\",\"type\":\"ColumnDataSource\"},\"glyph\":{\"id\":\"1478\",\"type\":\"Line\"},\"hover_glyph\":null,\"muted_glyph\":null,\"nonselection_glyph\":{\"id\":\"1479\",\"type\":\"Line\"},\"selection_glyph\":null,\"view\":{\"id\":\"1481\",\"type\":\"CDSView\"}},\"id\":\"1480\",\"type\":\"GlyphRenderer\"},{\"attributes\":{},\"id\":\"1625\",\"type\":\"UnionRenderers\"},{\"attributes\":{\"line_color\":\"#2c7fb8\",\"line_dash\":[0,0],\"x\":{\"field\":\"Cycle_Index\"},\"y\":{\"field\":\"20160805_test001_45_cc\"}},\"id\":\"1488\",\"type\":\"Line\"},{\"attributes\":{\"source\":{\"id\":\"1437\",\"type\":\"ColumnDataSource\"}},\"id\":\"1491\",\"type\":\"CDSView\"},{\"attributes\":{\"axis_label\":\"Cycle number\",\"formatter\":{\"id\":\"1613\",\"type\":\"BasicTickFormatter\"},\"plot\":{\"id\":\"1516\",\"subtype\":\"Figure\",\"type\":\"Plot\"},\"ticker\":{\"id\":\"1526\",\"type\":\"BasicTicker\"}},\"id\":\"1525\",\"type\":\"LinearAxis\"},{\"attributes\":{\"data_source\":{\"id\":\"1437\",\"type\":\"ColumnDataSource\"},\"glyph\":{\"id\":\"1488\",\"type\":\"Line\"},\"hover_glyph\":null,\"muted_glyph\":null,\"nonselection_glyph\":{\"id\":\"1489\",\"type\":\"Line\"},\"selection_glyph\":null,\"view\":{\"id\":\"1491\",\"type\":\"CDSView\"}},\"id\":\"1490\",\"type\":\"GlyphRenderer\"},{\"attributes\":{\"data_source\":{\"id\":\"1437\",\"type\":\"ColumnDataSource\"},\"glyph\":{\"id\":\"1483\",\"type\":\"Scatter\"},\"hover_glyph\":null,\"muted_glyph\":null,\"nonselection_glyph\":{\"id\":\"1484\",\"type\":\"Scatter\"},\"selection_glyph\":null,\"view\":{\"id\":\"1486\",\"type\":\"CDSView\"}},\"id\":\"1485\",\"type\":\"GlyphRenderer\"},{\"attributes\":{\"data_source\":{\"id\":\"1380\",\"type\":\"ColumnDataSource\"},\"glyph\":{\"id\":\"1432\",\"type\":\"Line\"},\"hover_glyph\":null,\"muted_glyph\":null,\"nonselection_glyph\":{\"id\":\"1433\",\"type\":\"Line\"},\"selection_glyph\":null,\"view\":{\"id\":\"1435\",\"type\":\"CDSView\"}},\"id\":\"1434\",\"type\":\"GlyphRenderer\"},{\"attributes\":{},\"id\":\"1453\",\"type\":\"BasicTicker\"},{\"attributes\":{},\"id\":\"1405\",\"type\":\"ResetTool\"},{\"attributes\":{\"label\":{\"value\":\"test001_45\"},\"renderers\":[{\"id\":\"1475\",\"type\":\"GlyphRenderer\"},{\"id\":\"1480\",\"type\":\"GlyphRenderer\"},{\"id\":\"1485\",\"type\":\"GlyphRenderer\"},{\"id\":\"1490\",\"type\":\"GlyphRenderer\"}]},\"id\":\"1513\",\"type\":\"LegendItem\"},{\"attributes\":{\"fill_alpha\":{\"value\":0.1},\"fill_color\":{\"value\":\"#1f77b4\"},\"line_alpha\":{\"value\":0.1},\"line_color\":{\"value\":\"#1f77b4\"},\"size\":{\"units\":\"screen\",\"value\":12},\"x\":{\"field\":\"Cycle_Index\"},\"y\":{\"field\":\"20160805_test001_45_cc\"}},\"id\":\"1484\",\"type\":\"Scatter\"},{\"attributes\":{\"source\":{\"id\":\"1436\",\"type\":\"ColumnDataSource\"}},\"id\":\"1476\",\"type\":\"CDSView\"},{\"attributes\":{\"line_alpha\":0.1,\"line_color\":\"#1f77b4\",\"line_dash\":[0,0],\"x\":{\"field\":\"Cycle_Index\"},\"y\":{\"field\":\"20160805_test001_47_cc\"}},\"id\":\"1433\",\"type\":\"Line\"},{\"attributes\":{},\"id\":\"1523\",\"type\":\"LinearScale\"},{\"attributes\":{\"source\":{\"id\":\"1380\",\"type\":\"ColumnDataSource\"}},\"id\":\"1435\",\"type\":\"CDSView\"},{\"attributes\":{},\"id\":\"1607\",\"type\":\"BasicTickFormatter\"}],\"root_ids\":[\"1574\"]},\"title\":\"Bokeh Application\",\"version\":\"1.0.4\"}};\n",
       "  var render_items = [{\"docid\":\"ea43bd1c-4a27-4911-9cd6-1b3d17ea84df\",\"roots\":{\"1574\":\"50f39c3f-b8f8-4a02-87d2-390f0fcf6de6\"}}];\n",
       "  root.Bokeh.embed.embed_items_notebook(docs_json, render_items);\n",
       "\n",
       "  }\n",
       "  if (root.Bokeh !== undefined) {\n",
       "    embed_document(root);\n",
       "  } else {\n",
       "    var attempts = 0;\n",
       "    var timer = setInterval(function(root) {\n",
       "      if (root.Bokeh !== undefined) {\n",
       "        embed_document(root);\n",
       "        clearInterval(timer);\n",
       "      }\n",
       "      attempts++;\n",
       "      if (attempts > 100) {\n",
       "        console.log(\"Bokeh: ERROR: Unable to run BokehJS code because BokehJS library is missing\");\n",
       "        clearInterval(timer);\n",
       "      }\n",
       "    }, 10, root)\n",
       "  }\n",
       "})(window);"
      ],
      "application/vnd.bokehjs_exec.v0+json": ""
     },
     "metadata": {
      "application/vnd.bokehjs_exec.v0+json": {
       "id": "1574"
      }
     },
     "output_type": "display_data"
    }
   ],
   "source": [
    "b.plot_summaries()"
   ]
  },
  {
   "cell_type": "code",
   "execution_count": 54,
   "metadata": {},
   "outputs": [
    {
     "name": "stdout",
     "output_type": "stream",
     "text": [
      "\n",
      "\n",
      "==================================== STATUS ====================================\n",
      "[CyclingExperiment]\n",
      "journal: \n",
      "(LabJournal)\n",
      "  - name: test\n",
      "  - project: prebens_experiment\n",
      "  - file_name: /Users/jepe/cellpy_data/prebens_experiment/cellpy_batch_test.json\n",
      "  - pages: ->\n",
      "                          masses  total_masses  loadings  fixed      labels  \\\n",
      "filenames                                                                     \n",
      "20160805_test001_45_cc  0.510262        2.8175  0.956369   True  test001_45   \n",
      "20160805_test001_47_cc  0.495843        2.6975  0.915636  False  test001_47   \n",
      "\n",
      "                       cell_type  \\\n",
      "filenames                          \n",
      "20160805_test001_45_cc       nan   \n",
      "20160805_test001_47_cc       nan   \n",
      "\n",
      "                                                           raw_file_names  \\\n",
      "filenames                                                                   \n",
      "20160805_test001_45_cc  [/Users/jepe/scripting/cellpy/testdata/data/20...   \n",
      "20160805_test001_47_cc  [/Users/jepe/scripting/cellpy/testdata/data/20...   \n",
      "\n",
      "                                                        cellpy_file_names  \\\n",
      "filenames                                                                   \n",
      "20160805_test001_45_cc  /Users/jepe/scripting/cellpy/testdata/hdf5/201...   \n",
      "20160805_test001_47_cc  /Users/jepe/scripting/cellpy/testdata/hdf5/201...   \n",
      "\n",
      "                        groups  sub_groups  \n",
      "filenames                                   \n",
      "20160805_test001_45_cc       1           1  \n",
      "20160805_test001_47_cc       2           1  \n",
      "           <-\n",
      "\n",
      "data: \n",
      "'20160805_test001_45_cc'\n",
      "<CellpyData>\n",
      "name: nameless\n",
      "tester: arbin\n",
      "datasets: [ ->\n",
      "   (0)\n",
      "     <DataSet>\n",
      "     loaded from file\n",
      "     /Users/jepe/scripting/cellpy/testdata/data/20160805_test001_45_cc_01.res\n",
      "     \n",
      "     * GLOBAL\n",
      "     material:            silicon\n",
      "     mass (active):       0.5102623156911694\n",
      "     test ID:             1\n",
      "     mass (total):        1.0\n",
      "     nominal capacity:    3579\n",
      "     channel index:       3\n",
      "     DataSet name:        None\n",
      "     creator:             hfa\n",
      "     schedule file name:  SiNODE\\24h_rest_3cyc_C20_100cyc_c10_MR.sdu\n",
      "     start-date:         2016-08-05 16:16:23\n",
      "     \n",
      "     * DATA:\n",
      "        Test_ID  Data_Point    Test_Time    Step_Time      DateTime  Step_Index  \\\n",
      "     0        1           1   300.010482   300.010482  42587.681516           1   \n",
      "     1        1           2   600.014947   600.014947  42587.684988           1   \n",
      "     2        1           3   900.026371   900.026371  42587.688461           1   \n",
      "     3        1           4  1200.039773  1200.039773  42587.691933           1   \n",
      "     4        1           5  1500.051275  1500.051275  42587.695405           1   \n",
      "     \n",
      "        Cycle_Index  Is_FC_Data  Current   Voltage  Charge_Capacity  \\\n",
      "     0            1           0      0.0  3.097617              0.0   \n",
      "     1            1           0      0.0  3.100080              0.0   \n",
      "     2            1           0      0.0  3.101312              0.0   \n",
      "     3            1           0      0.0  3.102852              0.0   \n",
      "     4            1           0      0.0  3.103160              0.0   \n",
      "     \n",
      "        Discharge_Capacity  Charge_Energy  Discharge_Energy     dV/dt  \\\n",
      "     0                 0.0            0.0               0.0 -0.000123   \n",
      "     1                 0.0            0.0               0.0 -0.000062   \n",
      "     2                 0.0            0.0               0.0 -0.000123   \n",
      "     3                 0.0            0.0               0.0  0.000062   \n",
      "     4                 0.0            0.0               0.0  0.000000   \n",
      "     \n",
      "        Internal_Resistance  AC_Impedance  ACI_Phase_Angle  \n",
      "     0                  0.0           0.0              0.0  \n",
      "     1                  0.0           0.0              0.0  \n",
      "     2                  0.0           0.0              0.0  \n",
      "     3                  0.0           0.0              0.0  \n",
      "     4                  0.0           0.0              0.0  \n",
      "     * SUMMARY:\n",
      "                  Data_Point      Test_Time   Date_Time_Txt(str)  IR_Charge(Ohms)  \\\n",
      "     Cycle_Index                                                                    \n",
      "     1                  1457  168686.229691  2016-08-07 15:07:58        48.372887   \n",
      "     2                  2283  248276.169907  2016-08-08 13:14:25        43.793484   \n",
      "     3                  3119  329048.542626  2016-08-09 11:40:42        35.437023   \n",
      "     4                  3635  367369.238502  2016-08-09 22:19:26        39.807651   \n",
      "     5                  4133  404665.961044  2016-08-10 08:41:05        43.704582   \n",
      "     \n",
      "                  IR_Discharge(Ohms)  End_Voltage_Charge(V)  \\\n",
      "     Cycle_Index                                              \n",
      "     1                     56.486603               1.000113   \n",
      "     2                     14.831962               1.000113   \n",
      "     3                     14.545353               1.000113   \n",
      "     4                     14.229149               1.000113   \n",
      "     5                     12.762250               1.000113   \n",
      "     \n",
      "                  End_Voltage_Discharge(V)      DateTime  Charge_Capacity  \\\n",
      "     Cycle_Index                                                            \n",
      "     1                            0.049894  42589.630532         0.001625   \n",
      "     2                            0.049894  42590.551678         0.001700   \n",
      "     3                            0.049894  42591.486597         0.001732   \n",
      "     4                            0.049894  42591.930162         0.001576   \n",
      "     5                            0.049894  42592.361863         0.001535   \n",
      "     \n",
      "                  Discharge_Capacity                 ...                  \\\n",
      "     Cycle_Index                                     ...                   \n",
      "     1                      0.001755                 ...                   \n",
      "     2                      0.001567                 ...                   \n",
      "     3                      0.001586                 ...                   \n",
      "     4                      0.001517                 ...                   \n",
      "     5                      0.001471                 ...                   \n",
      "     \n",
      "                  Cumulated_Discharge_Capacity_Loss(mAh/g)  \\\n",
      "     Cycle_Index                                             \n",
      "     1                                                 NaN   \n",
      "     2                                          367.690134   \n",
      "     3                                          331.932374   \n",
      "     4                                          465.986921   \n",
      "     5                                          556.394969   \n",
      "     \n",
      "                  Charge_Capacity_Loss(mAh/g)  \\\n",
      "     Cycle_Index                                \n",
      "     1                                    NaN   \n",
      "     2                            -145.332515   \n",
      "     3                             -62.603381   \n",
      "     4                             304.804459   \n",
      "     5                              79.712680   \n",
      "     \n",
      "                  Cumulated_Charge_Capacity_Loss(mAh/g)  Low_Level(percentage)  \\\n",
      "     Cycle_Index                                                                 \n",
      "     1                                              NaN              -0.888675   \n",
      "     2                                      -145.332515               0.016453   \n",
      "     3                                      -207.935896               1.015447   \n",
      "     4                                        96.868563               1.417409   \n",
      "     5                                       176.581243               1.856766   \n",
      "     \n",
      "                  High_Level(percentage)  RIC(none)  RIC_SEI(none)  \\\n",
      "     Cycle_Index                                                     \n",
      "     1                         10.249304        NaN            NaN   \n",
      "     2                         11.662592   0.033007      -0.031639   \n",
      "     3                         12.880482   0.105635       0.073009   \n",
      "     4                         12.216683   0.240710       0.066864   \n",
      "     5                         12.377323   0.309773       0.078717   \n",
      "     \n",
      "                  RIC_Disconnect(none)  Charge_Endpoint_Slippage(mAh/g)  \\\n",
      "     Cycle_Index                                                          \n",
      "     1                             NaN                      -254.158550   \n",
      "     2                        0.106899                         4.705548   \n",
      "     3                        0.095259                       290.415268   \n",
      "     4                        0.138396                       405.375077   \n",
      "     5                        0.168799                       531.030253   \n",
      "     \n",
      "                  Discharge_Endpoint_Slippage(mAh/g)  \n",
      "     Cycle_Index                                      \n",
      "     1                                   2931.273627  \n",
      "     2                                   3335.470241  \n",
      "     3                                   3683.783341  \n",
      "     4                                   3493.938691  \n",
      "     5                                   3539.881186  \n",
      "     \n",
      "     [5 rows x 29 columns]\n",
      "     * PARAMETERS:\n",
      "     EMPTY (Not processed yet)\n",
      "     raw units:     Currently defined in the CellpyData-object\n",
      "\n",
      "]\n",
      "\n",
      "'20160805_test001_47_cc'\n",
      "<CellpyData>\n",
      "name: 20160805_test001_47_cc\n",
      "tester: arbin\n",
      "datasets: [ ->\n",
      "   (0)\n",
      "     <DataSet>\n",
      "     loaded from file\n",
      "     /Users/jepe/scripting/cellpy/testdata/hdf5/20160805_test001_47_cc.h5\n",
      "     \n",
      "     * GLOBAL\n",
      "     material:            silicon\n",
      "     mass (active):       0.495843034428261\n",
      "     test ID:             1\n",
      "     mass (total):        1.0\n",
      "     nominal capacity:    3579\n",
      "     channel index:       3\n",
      "     DataSet name:        no_name\n",
      "     creator:             hfa\n",
      "     schedule file name:  SiNODE\\24h_rest_3cyc_C20_100cyc_c10_MR.sdu\n",
      "     start-date:         2016-08-05 16:16:23\n",
      "     \n",
      "     * DATA:\n",
      "                 Test_ID  Data_Point    Test_Time    Step_Time      DateTime  \\\n",
      "     Data_Point                                                                \n",
      "     1                 1           1   300.010482   300.010482  42587.681516   \n",
      "     2                 1           2   600.014947   600.014947  42587.684988   \n",
      "     3                 1           3   900.026371   900.026371  42587.688461   \n",
      "     4                 1           4  1200.039773  1200.039773  42587.691933   \n",
      "     5                 1           5  1500.051275  1500.051275  42587.695405   \n",
      "     \n",
      "                 Step_Index  Cycle_Index  Is_FC_Data  Current   Voltage  \\\n",
      "     Data_Point                                                           \n",
      "     1                    1            1           0      0.0  3.097617   \n",
      "     2                    1            1           0      0.0  3.100080   \n",
      "     3                    1            1           0      0.0  3.101312   \n",
      "     4                    1            1           0      0.0  3.102852   \n",
      "     5                    1            1           0      0.0  3.103160   \n",
      "     \n",
      "                 Charge_Capacity  Discharge_Capacity  Charge_Energy  \\\n",
      "     Data_Point                                                       \n",
      "     1                       0.0                 0.0            0.0   \n",
      "     2                       0.0                 0.0            0.0   \n",
      "     3                       0.0                 0.0            0.0   \n",
      "     4                       0.0                 0.0            0.0   \n",
      "     5                       0.0                 0.0            0.0   \n",
      "     \n",
      "                 Discharge_Energy     dV/dt  Internal_Resistance  AC_Impedance  \\\n",
      "     Data_Point                                                                  \n",
      "     1                        0.0 -0.000123                  0.0           0.0   \n",
      "     2                        0.0 -0.000062                  0.0           0.0   \n",
      "     3                        0.0 -0.000123                  0.0           0.0   \n",
      "     4                        0.0  0.000062                  0.0           0.0   \n",
      "     5                        0.0  0.000000                  0.0           0.0   \n",
      "     \n",
      "                 ACI_Phase_Angle  \n",
      "     Data_Point                   \n",
      "     1                       0.0  \n",
      "     2                       0.0  \n",
      "     3                       0.0  \n",
      "     4                       0.0  \n",
      "     5                       0.0  \n",
      "     * SUMMARY:\n",
      "                  Data_Point      Test_Time   Date_Time_Txt(str)  IR_Charge(Ohms)  \\\n",
      "     Cycle_Index                                                                    \n",
      "     1                  1457  168686.229691  2016-08-07 15:07:58        48.372887   \n",
      "     2                  2283  248276.169907  2016-08-08 13:14:25        43.793484   \n",
      "     3                  3119  329048.542626  2016-08-09 11:40:42        35.437023   \n",
      "     4                  3635  367369.238502  2016-08-09 22:19:26        39.807651   \n",
      "     5                  4133  404665.961044  2016-08-10 08:41:05        43.704582   \n",
      "     \n",
      "                  IR_Discharge(Ohms)  End_Voltage_Charge(V)  \\\n",
      "     Cycle_Index                                              \n",
      "     1                     56.486603               1.000113   \n",
      "     2                     14.831962               1.000113   \n",
      "     3                     14.545353               1.000113   \n",
      "     4                     14.229149               1.000113   \n",
      "     5                     12.762250               1.000113   \n",
      "     \n",
      "                  End_Voltage_Discharge(V)      DateTime  Charge_Capacity  \\\n",
      "     Cycle_Index                                                            \n",
      "     1                            0.049894  42589.630532         0.001625   \n",
      "     2                            0.049894  42590.551678         0.001700   \n",
      "     3                            0.049894  42591.486597         0.001732   \n",
      "     4                            0.049894  42591.930162         0.001576   \n",
      "     5                            0.049894  42592.361863         0.001535   \n",
      "     \n",
      "                  Discharge_Capacity                 ...                  \\\n",
      "     Cycle_Index                                     ...                   \n",
      "     1                      0.001755                 ...                   \n",
      "     2                      0.001567                 ...                   \n",
      "     3                      0.001586                 ...                   \n",
      "     4                      0.001517                 ...                   \n",
      "     5                      0.001471                 ...                   \n",
      "     \n",
      "                  Cumulated_Discharge_Capacity_Loss(mAh/g)  \\\n",
      "     Cycle_Index                                             \n",
      "     1                                                 NaN   \n",
      "     2                                          378.382686   \n",
      "     3                                          341.585079   \n",
      "     4                                          479.537977   \n",
      "     5                                          572.575121   \n",
      "     \n",
      "                  Charge_Capacity_Loss(mAh/g)  \\\n",
      "     Cycle_Index                                \n",
      "     1                                    NaN   \n",
      "     2                            -149.558833   \n",
      "     3                             -64.423908   \n",
      "     4                             313.668274   \n",
      "     5                              82.030752   \n",
      "     \n",
      "                  Cumulated_Charge_Capacity_Loss(mAh/g)  Low_Level(percentage)  \\\n",
      "     Cycle_Index                                                                 \n",
      "     1                                              NaN              -0.888675   \n",
      "     2                                      -149.558833               0.016453   \n",
      "     3                                      -213.982741               1.015447   \n",
      "     4                                        99.685533               1.417409   \n",
      "     5                                       181.716285               1.856766   \n",
      "     \n",
      "                  High_Level(percentage)  RIC(none)  RIC_SEI(none)  \\\n",
      "     Cycle_Index                                                     \n",
      "     1                         10.249304        NaN            NaN   \n",
      "     2                         11.662592   0.033007      -0.031639   \n",
      "     3                         12.880482   0.105635       0.073009   \n",
      "     4                         12.216683   0.240710       0.066864   \n",
      "     5                         12.377323   0.309773       0.078717   \n",
      "     \n",
      "                  RIC_Disconnect(none)  Charge_Endpoint_Slippage(mAh/g)  \\\n",
      "     Cycle_Index                                                          \n",
      "     1                             NaN                      -261.549566   \n",
      "     2                        0.106899                         4.842387   \n",
      "     3                        0.095259                       298.860641   \n",
      "     4                        0.138396                       417.163519   \n",
      "     5                        0.168799                       546.472790   \n",
      "     \n",
      "                  Discharge_Endpoint_Slippage(mAh/g)  \n",
      "     Cycle_Index                                      \n",
      "     1                                   3016.516044  \n",
      "     2                                   3432.466831  \n",
      "     3                                   3790.908993  \n",
      "     4                                   3595.543596  \n",
      "     5                                   3642.822115  \n",
      "     \n",
      "     [5 rows x 29 columns]\n",
      "     * PARAMETERS:\n",
      "     EMPTY (Not processed yet)\n",
      "     raw units:     Currently defined in the CellpyData-object\n",
      "\n",
      "]\n",
      "\n",
      "\n",
      "\n",
      "-------------------------------- summary frames --------------------------------\n",
      " {20160805_test001_45_cc}\n",
      " {20160805_test001_47_cc}\n",
      "-------------------------------- memory dumped ---------------------------------\n",
      "summary_engine: <class 'list'>\n",
      "================================================================================\n"
     ]
    }
   ],
   "source": [
    "b.experiment.status()"
   ]
  },
  {
   "cell_type": "code",
   "execution_count": 55,
   "metadata": {},
   "outputs": [
    {
     "data": {
      "text/html": [
       "<div>\n",
       "<style scoped>\n",
       "    .dataframe tbody tr th:only-of-type {\n",
       "        vertical-align: middle;\n",
       "    }\n",
       "\n",
       "    .dataframe tbody tr th {\n",
       "        vertical-align: top;\n",
       "    }\n",
       "\n",
       "    .dataframe thead tr th {\n",
       "        text-align: left;\n",
       "    }\n",
       "\n",
       "    .dataframe thead tr:last-of-type th {\n",
       "        text-align: right;\n",
       "    }\n",
       "</style>\n",
       "<table border=\"1\" class=\"dataframe\">\n",
       "  <thead>\n",
       "    <tr>\n",
       "      <th></th>\n",
       "      <th colspan=\"2\" halign=\"left\">discharge_capacity</th>\n",
       "      <th colspan=\"2\" halign=\"left\">charge_capacity</th>\n",
       "      <th colspan=\"2\" halign=\"left\">coulombic_efficiency</th>\n",
       "      <th colspan=\"2\" halign=\"left\">cumulated_coulombic_efficiency</th>\n",
       "      <th colspan=\"2\" halign=\"left\">ir_discharge</th>\n",
       "      <th colspan=\"2\" halign=\"left\">ir_charge</th>\n",
       "      <th colspan=\"2\" halign=\"left\">end_voltage_discharge</th>\n",
       "      <th colspan=\"2\" halign=\"left\">end_voltage_charge</th>\n",
       "    </tr>\n",
       "    <tr>\n",
       "      <th></th>\n",
       "      <th>20160805_test001_45_cc</th>\n",
       "      <th>20160805_test001_47_cc</th>\n",
       "      <th>20160805_test001_45_cc</th>\n",
       "      <th>20160805_test001_47_cc</th>\n",
       "      <th>20160805_test001_45_cc</th>\n",
       "      <th>20160805_test001_47_cc</th>\n",
       "      <th>20160805_test001_45_cc</th>\n",
       "      <th>20160805_test001_47_cc</th>\n",
       "      <th>20160805_test001_45_cc</th>\n",
       "      <th>20160805_test001_47_cc</th>\n",
       "      <th>20160805_test001_45_cc</th>\n",
       "      <th>20160805_test001_47_cc</th>\n",
       "      <th>20160805_test001_45_cc</th>\n",
       "      <th>20160805_test001_47_cc</th>\n",
       "      <th>20160805_test001_45_cc</th>\n",
       "      <th>20160805_test001_47_cc</th>\n",
       "    </tr>\n",
       "    <tr>\n",
       "      <th>Cycle_Index</th>\n",
       "      <th></th>\n",
       "      <th></th>\n",
       "      <th></th>\n",
       "      <th></th>\n",
       "      <th></th>\n",
       "      <th></th>\n",
       "      <th></th>\n",
       "      <th></th>\n",
       "      <th></th>\n",
       "      <th></th>\n",
       "      <th></th>\n",
       "      <th></th>\n",
       "      <th></th>\n",
       "      <th></th>\n",
       "      <th></th>\n",
       "      <th></th>\n",
       "    </tr>\n",
       "  </thead>\n",
       "  <tbody>\n",
       "    <tr>\n",
       "      <th>1</th>\n",
       "      <td>3439.590727</td>\n",
       "      <td>3539.615176</td>\n",
       "      <td>3185.432177</td>\n",
       "      <td>3278.065610</td>\n",
       "      <td>107.978778</td>\n",
       "      <td>107.978778</td>\n",
       "      <td>107.978778</td>\n",
       "      <td>107.978778</td>\n",
       "      <td>56.486603</td>\n",
       "      <td>56.486603</td>\n",
       "      <td>48.372887</td>\n",
       "      <td>48.372887</td>\n",
       "      <td>0.049894</td>\n",
       "      <td>0.049894</td>\n",
       "      <td>1.000113</td>\n",
       "      <td>1.000113</td>\n",
       "    </tr>\n",
       "    <tr>\n",
       "      <th>2</th>\n",
       "      <td>3071.900594</td>\n",
       "      <td>3161.232490</td>\n",
       "      <td>3330.764692</td>\n",
       "      <td>3427.624443</td>\n",
       "      <td>92.228088</td>\n",
       "      <td>92.228088</td>\n",
       "      <td>200.206866</td>\n",
       "      <td>200.206866</td>\n",
       "      <td>14.831962</td>\n",
       "      <td>14.831962</td>\n",
       "      <td>43.793484</td>\n",
       "      <td>43.793484</td>\n",
       "      <td>0.049894</td>\n",
       "      <td>0.049894</td>\n",
       "      <td>1.000113</td>\n",
       "      <td>1.000113</td>\n",
       "    </tr>\n",
       "    <tr>\n",
       "      <th>3</th>\n",
       "      <td>3107.658353</td>\n",
       "      <td>3198.030097</td>\n",
       "      <td>3393.368073</td>\n",
       "      <td>3492.048351</td>\n",
       "      <td>91.580350</td>\n",
       "      <td>91.580350</td>\n",
       "      <td>291.787216</td>\n",
       "      <td>291.787216</td>\n",
       "      <td>14.545353</td>\n",
       "      <td>14.545353</td>\n",
       "      <td>35.437023</td>\n",
       "      <td>35.437023</td>\n",
       "      <td>0.049894</td>\n",
       "      <td>0.049894</td>\n",
       "      <td>1.000113</td>\n",
       "      <td>1.000113</td>\n",
       "    </tr>\n",
       "    <tr>\n",
       "      <th>4</th>\n",
       "      <td>2973.603806</td>\n",
       "      <td>3060.077199</td>\n",
       "      <td>3088.563614</td>\n",
       "      <td>3178.380077</td>\n",
       "      <td>96.277888</td>\n",
       "      <td>96.277888</td>\n",
       "      <td>388.065103</td>\n",
       "      <td>388.065103</td>\n",
       "      <td>14.229149</td>\n",
       "      <td>14.229149</td>\n",
       "      <td>39.807651</td>\n",
       "      <td>39.807651</td>\n",
       "      <td>0.049894</td>\n",
       "      <td>0.049894</td>\n",
       "      <td>1.000113</td>\n",
       "      <td>1.000113</td>\n",
       "    </tr>\n",
       "    <tr>\n",
       "      <th>5</th>\n",
       "      <td>2883.195758</td>\n",
       "      <td>2967.040054</td>\n",
       "      <td>3008.850934</td>\n",
       "      <td>3096.349325</td>\n",
       "      <td>95.823815</td>\n",
       "      <td>95.823815</td>\n",
       "      <td>483.888918</td>\n",
       "      <td>483.888918</td>\n",
       "      <td>12.762250</td>\n",
       "      <td>12.762250</td>\n",
       "      <td>43.704582</td>\n",
       "      <td>43.704582</td>\n",
       "      <td>0.049894</td>\n",
       "      <td>0.049894</td>\n",
       "      <td>1.000113</td>\n",
       "      <td>1.000113</td>\n",
       "    </tr>\n",
       "  </tbody>\n",
       "</table>\n",
       "</div>"
      ],
      "text/plain": [
       "                discharge_capacity                         \\\n",
       "            20160805_test001_45_cc 20160805_test001_47_cc   \n",
       "Cycle_Index                                                 \n",
       "1                      3439.590727            3539.615176   \n",
       "2                      3071.900594            3161.232490   \n",
       "3                      3107.658353            3198.030097   \n",
       "4                      2973.603806            3060.077199   \n",
       "5                      2883.195758            2967.040054   \n",
       "\n",
       "                   charge_capacity                         \\\n",
       "            20160805_test001_45_cc 20160805_test001_47_cc   \n",
       "Cycle_Index                                                 \n",
       "1                      3185.432177            3278.065610   \n",
       "2                      3330.764692            3427.624443   \n",
       "3                      3393.368073            3492.048351   \n",
       "4                      3088.563614            3178.380077   \n",
       "5                      3008.850934            3096.349325   \n",
       "\n",
       "              coulombic_efficiency                         \\\n",
       "            20160805_test001_45_cc 20160805_test001_47_cc   \n",
       "Cycle_Index                                                 \n",
       "1                       107.978778             107.978778   \n",
       "2                        92.228088              92.228088   \n",
       "3                        91.580350              91.580350   \n",
       "4                        96.277888              96.277888   \n",
       "5                        95.823815              95.823815   \n",
       "\n",
       "            cumulated_coulombic_efficiency                         \\\n",
       "                    20160805_test001_45_cc 20160805_test001_47_cc   \n",
       "Cycle_Index                                                         \n",
       "1                               107.978778             107.978778   \n",
       "2                               200.206866             200.206866   \n",
       "3                               291.787216             291.787216   \n",
       "4                               388.065103             388.065103   \n",
       "5                               483.888918             483.888918   \n",
       "\n",
       "                      ir_discharge                         \\\n",
       "            20160805_test001_45_cc 20160805_test001_47_cc   \n",
       "Cycle_Index                                                 \n",
       "1                        56.486603              56.486603   \n",
       "2                        14.831962              14.831962   \n",
       "3                        14.545353              14.545353   \n",
       "4                        14.229149              14.229149   \n",
       "5                        12.762250              12.762250   \n",
       "\n",
       "                         ir_charge                         \\\n",
       "            20160805_test001_45_cc 20160805_test001_47_cc   \n",
       "Cycle_Index                                                 \n",
       "1                        48.372887              48.372887   \n",
       "2                        43.793484              43.793484   \n",
       "3                        35.437023              35.437023   \n",
       "4                        39.807651              39.807651   \n",
       "5                        43.704582              43.704582   \n",
       "\n",
       "             end_voltage_discharge                         \\\n",
       "            20160805_test001_45_cc 20160805_test001_47_cc   \n",
       "Cycle_Index                                                 \n",
       "1                         0.049894               0.049894   \n",
       "2                         0.049894               0.049894   \n",
       "3                         0.049894               0.049894   \n",
       "4                         0.049894               0.049894   \n",
       "5                         0.049894               0.049894   \n",
       "\n",
       "                end_voltage_charge                         \n",
       "            20160805_test001_45_cc 20160805_test001_47_cc  \n",
       "Cycle_Index                                                \n",
       "1                         1.000113               1.000113  \n",
       "2                         1.000113               1.000113  \n",
       "3                         1.000113               1.000113  \n",
       "4                         1.000113               1.000113  \n",
       "5                         1.000113               1.000113  "
      ]
     },
     "execution_count": 55,
     "metadata": {},
     "output_type": "execute_result"
    }
   ],
   "source": [
    "b.summaries.head()"
   ]
  },
  {
   "cell_type": "markdown",
   "metadata": {},
   "source": [
    "## Looking more in-depth"
   ]
  },
  {
   "cell_type": "markdown",
   "metadata": {},
   "source": [
    "### OCV relaxation points\n",
    "Picking out 5 points on each OCV relaxation curve (distributed by last, last/2, last/2/2, ..., first)."
   ]
  },
  {
   "cell_type": "code",
   "execution_count": 56,
   "metadata": {},
   "outputs": [
    {
     "name": "stdout",
     "output_type": "stream",
     "text": [
      "(cellpy) - Analyzing 20160805_test001_45_cc\n",
      "(cellpy) - Analyzing 20160805_test001_47_cc\n",
      "   cycle  point_00  point_01  point_02  point_03  point_04  step       type\n",
      "1      1  0.095465  0.084842  0.088229  0.092232  0.095465     5  ocvrlx_up\n",
      "3      2  0.096081  0.085150  0.089615  0.093002  0.096081     5  ocvrlx_up\n",
      "5      3  0.096389  0.086689  0.089769  0.093618  0.096389     5  ocvrlx_up\n",
      "7      4  0.117019  0.099314  0.104241  0.110399  0.117019    12  ocvrlx_up\n",
      "9      5  0.122561  0.103317  0.109629  0.116403  0.122561    12  ocvrlx_up\n"
     ]
    },
    {
     "data": {
      "image/png": "[encoded data removed]",
      "text/plain": [
       "<Figure size 432x288 with 2 Axes>"
      ]
     },
     "metadata": {},
     "output_type": "display_data"
    }
   ],
   "source": [
    "from cellpy.utils.batch_tools.batch_analyzers import OCVRelaxationAnalyzer\n",
    "\n",
    "analyzer = OCVRelaxationAnalyzer()\n",
    "analyzer.assign(b.experiment)\n",
    "analyzer.do()\n",
    "ocv_df_list = analyzer.farms[0]\n",
    "df = ocv_df_list[0]\n",
    "df_up = df.loc[df.type == \"ocvrlx_up\", :]\n",
    "df_down = df.loc[df.type == \"ocvrlx_down\", :]\n",
    "\n",
    "print(df_up.head())\n",
    "df_down = df_down.set_index(\"cycle\")\n",
    "\n",
    "fig, (ax1, ax2) = plt.subplots(2, sharex=True)\n",
    "df_down.loc[:, [\"point_00\", \"point_01\", \"point_02\", \"point_03\", \"point_04\"]].plot(ax=ax1, legend=None)\n",
    "df_down.loc[:, [\"point_00\", \"point_01\", \"point_02\", \"point_03\", \"point_04\"]].plot(ax=ax2)\n",
    "ax1.set_ylim(0.7,1)\n",
    "ax2.set_ylabel(\"voltage\");"
   ]
  },
  {
   "cell_type": "markdown",
   "metadata": {},
   "source": [
    "## Looking closer at some summary-plots"
   ]
  },
  {
   "cell_type": "code",
   "execution_count": 57,
   "metadata": {},
   "outputs": [
    {
     "data": {
      "text/plain": [
       "Index(['discharge_capacity', 'discharge_capacity', 'charge_capacity',\n",
       "       'charge_capacity', 'coulombic_efficiency', 'coulombic_efficiency',\n",
       "       'cumulated_coulombic_efficiency', 'cumulated_coulombic_efficiency',\n",
       "       'ir_discharge', 'ir_discharge', 'ir_charge', 'ir_charge',\n",
       "       'end_voltage_discharge', 'end_voltage_discharge', 'end_voltage_charge',\n",
       "       'end_voltage_charge'],\n",
       "      dtype='object')"
      ]
     },
     "execution_count": 57,
     "metadata": {},
     "output_type": "execute_result"
    }
   ],
   "source": [
    "b.summary_columns"
   ]
  },
  {
   "cell_type": "code",
   "execution_count": 58,
   "metadata": {},
   "outputs": [],
   "source": [
    "discharge_capacity = b.summaries.discharge_capacity\n",
    "charge_capacity = b.summaries.charge_capacity\n",
    "coulombic_efficiency = b.summaries.coulombic_efficiency\n",
    "ir_charge = b.summaries.ir_charge"
   ]
  },
  {
   "cell_type": "code",
   "execution_count": 59,
   "metadata": {},
   "outputs": [
    {
     "data": {
      "text/plain": [
       "Text(0,0.5,'resistance')"
      ]
     },
     "execution_count": 59,
     "metadata": {},
     "output_type": "execute_result"
    },
    {
     "data": {
      "image/png": "[encoded data removed]",
      "text/plain": [
       "<Figure size 432x288 with 2 Axes>"
      ]
     },
     "metadata": {},
     "output_type": "display_data"
    }
   ],
   "source": [
    "fig, (ax1, ax2) = plt.subplots(2, 1)\n",
    "ax1.plot(discharge_capacity)\n",
    "ax1.set_ylabel(\"capacity \")\n",
    "ax2.plot(ir_charge)\n",
    "ax2.set_xlabel(\"cycle\")\n",
    "ax2.set_ylabel(\"resistance\")"
   ]
  },
  {
   "cell_type": "markdown",
   "metadata": {},
   "source": [
    "## Checking for more details for each cycle"
   ]
  },
  {
   "cell_type": "markdown",
   "metadata": {},
   "source": [
    "#### 1. pick the CellpyData object for one of the cells"
   ]
  },
  {
   "cell_type": "code",
   "execution_count": 139,
   "metadata": {},
   "outputs": [
    {
     "data": {
      "text/plain": [
       "['20160805_test001_45_cc', '20160805_test001_47_cc']"
      ]
     },
     "execution_count": 139,
     "metadata": {},
     "output_type": "execute_result"
    }
   ],
   "source": [
    "# Lets check what cells we have\n",
    "cell_labels = b.experiment.cell_names\n",
    "cell_labels"
   ]
  },
  {
   "cell_type": "code",
   "execution_count": 140,
   "metadata": {},
   "outputs": [],
   "source": [
    "# OK, then I choose one of them\n",
    "data = b.experiment.data[\"20160805_test001_45_cc\"]"
   ]
  },
  {
   "cell_type": "markdown",
   "metadata": {},
   "source": [
    "#### 2. Get some voltage curves for some cycles and plot them\n",
    "The method `get_cap` can be used to extract voltage curves."
   ]
  },
  {
   "cell_type": "code",
   "execution_count": 66,
   "metadata": {},
   "outputs": [
    {
     "data": {
      "text/html": [
       "<div>\n",
       "<style scoped>\n",
       "    .dataframe tbody tr th:only-of-type {\n",
       "        vertical-align: middle;\n",
       "    }\n",
       "\n",
       "    .dataframe tbody tr th {\n",
       "        vertical-align: top;\n",
       "    }\n",
       "\n",
       "    .dataframe thead th {\n",
       "        text-align: right;\n",
       "    }\n",
       "</style>\n",
       "<table border=\"1\" class=\"dataframe\">\n",
       "  <thead>\n",
       "    <tr style=\"text-align: right;\">\n",
       "      <th></th>\n",
       "      <th>voltage</th>\n",
       "      <th>capacity</th>\n",
       "      <th>direction</th>\n",
       "    </tr>\n",
       "  </thead>\n",
       "  <tbody>\n",
       "    <tr>\n",
       "      <th>0</th>\n",
       "      <td>0.110245</td>\n",
       "      <td>0.000006</td>\n",
       "      <td>-1</td>\n",
       "    </tr>\n",
       "    <tr>\n",
       "      <th>1</th>\n",
       "      <td>0.115479</td>\n",
       "      <td>0.546367</td>\n",
       "      <td>-1</td>\n",
       "    </tr>\n",
       "    <tr>\n",
       "      <th>2</th>\n",
       "      <td>0.120714</td>\n",
       "      <td>2.793660</td>\n",
       "      <td>-1</td>\n",
       "    </tr>\n",
       "    <tr>\n",
       "      <th>3</th>\n",
       "      <td>0.125948</td>\n",
       "      <td>6.325420</td>\n",
       "      <td>-1</td>\n",
       "    </tr>\n",
       "    <tr>\n",
       "      <th>4</th>\n",
       "      <td>0.131183</td>\n",
       "      <td>10.348162</td>\n",
       "      <td>-1</td>\n",
       "    </tr>\n",
       "  </tbody>\n",
       "</table>\n",
       "</div>"
      ],
      "text/plain": [
       "    voltage   capacity  direction\n",
       "0  0.110245   0.000006         -1\n",
       "1  0.115479   0.546367         -1\n",
       "2  0.120714   2.793660         -1\n",
       "3  0.125948   6.325420         -1\n",
       "4  0.131183  10.348162         -1"
      ]
     },
     "execution_count": 66,
     "metadata": {},
     "output_type": "execute_result"
    }
   ],
   "source": [
    "cap = data.get_cap(categorical_column=True)\n",
    "cap.head()"
   ]
  },
  {
   "cell_type": "code",
   "execution_count": 71,
   "metadata": {},
   "outputs": [
    {
     "data": {
      "text/plain": [
       "Text(0,0.5,'voltage')"
      ]
     },
     "execution_count": 71,
     "metadata": {},
     "output_type": "execute_result"
    },
    {
     "data": {
      "image/png": "[encoded data removed]",
      "text/plain": [
       "<Figure size 432x288 with 1 Axes>"
      ]
     },
     "metadata": {},
     "output_type": "display_data"
    }
   ],
   "source": [
    "fig, ax = plt.subplots()\n",
    "ax.plot(cap.capacity, cap.voltage)\n",
    "ax.set_xlabel(\"capacity\")\n",
    "ax.set_ylabel(\"voltage\")"
   ]
  },
  {
   "cell_type": "code",
   "execution_count": 83,
   "metadata": {},
   "outputs": [
    {
     "data": {
      "text/plain": [
       "[<matplotlib.lines.Line2D at 0x1c28278cf8>]"
      ]
     },
     "execution_count": 83,
     "metadata": {},
     "output_type": "execute_result"
    },
    {
     "data": {
      "image/png": "[encoded data removed]",
      "text/plain": [
       "<Figure size 432x288 with 1 Axes>"
      ]
     },
     "metadata": {},
     "output_type": "display_data"
    }
   ],
   "source": [
    "c,v = data.get_cap(method=\"forth\")\n",
    "fig, ax = plt.subplots()\n",
    "ax.set_xlabel(\"capacity\")\n",
    "ax.set_ylabel(\"voltage\")\n",
    "ax.plot(c,v)"
   ]
  },
  {
   "cell_type": "code",
   "execution_count": 97,
   "metadata": {},
   "outputs": [
    {
     "data": {
      "image/png": "[encoded data removed]",
      "text/plain": [
       "<Figure size 432x288 with 1 Axes>"
      ]
     },
     "metadata": {},
     "output_type": "display_data"
    }
   ],
   "source": [
    "c4,v4 = data.get_cap(cycle=4, method=\"forth-and-forth\")\n",
    "c10,v10 = data.get_cap(cycle=10, method=\"forth-and-forth\")\n",
    "fig, ax = plt.subplots()\n",
    "ax.set_xlabel(\"capacity\")\n",
    "ax.set_ylabel(\"voltage\")\n",
    "ax.plot(c4,v4, \"ro\", label=\"cycle 4\")\n",
    "ax.plot(c10,v10, \"bs\", label=\"cycle 22\")\n",
    "ax.legend();"
   ]
  },
  {
   "cell_type": "markdown",
   "metadata": {},
   "source": [
    "### Looking at some dqdv data"
   ]
  },
  {
   "cell_type": "markdown",
   "metadata": {},
   "source": [
    "#### Get capacity cycles and make dqdv using the ica module"
   ]
  },
  {
   "cell_type": "code",
   "execution_count": 135,
   "metadata": {},
   "outputs": [
    {
     "name": "stdout",
     "output_type": "stream",
     "text": [
      "(cellpy) - /Users/jepe/miniconda3/envs/cellpy/lib/python3.6/site-packages/scipy/signal/_arraytools.py:45: FutureWarning: Using a non-tuple sequence for multidimensional indexing is deprecated; use `arr[tuple(seq)]` instead of `arr[seq]`. In the future this will be interpreted as an array index, `arr[np.array(seq)]`, which will result either in an error or a different result.\n",
      "  b = a[a_slice]\n",
      "\n"
     ]
    },
    {
     "data": {
      "image/png": "[encoded data removed]",
      "text/plain": [
       "<Figure size 432x288 with 1 Axes>"
      ]
     },
     "metadata": {},
     "output_type": "display_data"
    }
   ],
   "source": [
    "from cellpy.utils import ica\n",
    "v4, dqdv4 = ica.dqdv_cycle(\n",
    "    data.get_cap(\n",
    "        4, \n",
    "        categorical_column=True, \n",
    "        method = \"forth-and-forth\")\n",
    ")\n",
    "\n",
    "v10, dqdv10 = ica.dqdv_cycle(\n",
    "    data.get_cap(\n",
    "        10, \n",
    "        categorical_column=True, \n",
    "        method = \"forth-and-forth\")\n",
    ")\n",
    "\n",
    "plt.plot(v4,dqdv4, label=\"cycle 4\")\n",
    "plt.plot(v10, dqdv10, label=\"cycle 10\")\n",
    "plt.legend();"
   ]
  },
  {
   "cell_type": "markdown",
   "metadata": {},
   "source": [
    "#### Put it in a for-loop for plotting many ica plots"
   ]
  },
  {
   "cell_type": "code",
   "execution_count": 134,
   "metadata": {},
   "outputs": [
    {
     "name": "stdout",
     "output_type": "stream",
     "text": [
      "(cellpy) - /Users/jepe/miniconda3/envs/cellpy/lib/python3.6/site-packages/scipy/signal/_arraytools.py:45: FutureWarning: Using a non-tuple sequence for multidimensional indexing is deprecated; use `arr[tuple(seq)]` instead of `arr[seq]`. In the future this will be interpreted as an array index, `arr[np.array(seq)]`, which will result either in an error or a different result.\n",
      "  b = a[a_slice]\n",
      "\n",
      "cycle 18 seems to be missing or corrupted\n",
      "cycle 36 seems to be missing or corrupted\n"
     ]
    },
    {
     "data": {
      "image/png": "[encoded data removed]",
      "text/plain": [
       "<Figure size 432x288 with 1 Axes>"
      ]
     },
     "metadata": {},
     "output_type": "display_data"
    }
   ],
   "source": [
    "fig, ax = plt.subplots()\n",
    "for cycle in data.get_cycle_numbers():\n",
    "    d = data.get_cap(\n",
    "            cycle, \n",
    "            categorical_column=True, \n",
    "            method = \"forth-and-forth\"\n",
    "        )\n",
    "    if not d.empty:\n",
    "        v, dqdv = ica.dqdv_cycle(d)\n",
    "        ax.plot(v, dqdv)\n",
    "    else:\n",
    "        print(f\"cycle {cycle} seems to be missing or corrupted\")\n",
    "    "
   ]
  },
  {
   "cell_type": "code",
   "execution_count": null,
   "metadata": {},
   "outputs": [],
   "source": []
  }
 ],
 "metadata": {
  "kernelspec": {
   "display_name": "Python [conda env:cellpy]",
   "language": "python",
   "name": "conda-env-cellpy-py"
  },
  "language_info": {
   "codemirror_mode": {
    "name": "ipython",
    "version": 3
   },
   "file_extension": ".py",
   "mimetype": "text/x-python",
   "name": "python",
   "nbconvert_exporter": "python",
   "pygments_lexer": "ipython3",
   "version": "3.6.7"
  }
 },
 "nbformat": 4,
 "nbformat_minor": 2
}
