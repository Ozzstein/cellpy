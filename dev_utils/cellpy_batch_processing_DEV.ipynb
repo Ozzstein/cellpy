{
 "cells": [
  {
   "cell_type": "markdown",
   "metadata": {},
   "source": [
    "# Notebook for cellpy batch processing"
   ]
  },
  {
   "cell_type": "markdown",
   "metadata": {},
   "source": [
    "*You can fill inn the MarkDown cells (the cells without \"numbering\") by double-clicking them. Also remember, press `shift + enter` to execute a cell.*\n",
    "\n",
    "A couple of useful links:  \n",
    " - [How to write MarkDown](https://github.com/adam-p/markdown-here/wiki/Markdown-Cheatsheet#hr)\n",
    " - [Jupyter notebooks](https://jupyter.org/)\n",
    " - [cellpy](https://cellpy.readthedocs.io/en/latest/)"
   ]
  },
  {
   "cell_type": "markdown",
   "metadata": {},
   "source": [
    "## Information\n",
    "**Experimental-id:** xxx  \n",
    "**Project:** project name  \n",
    "**By:** your name  \n",
    "**Date:** xx.xx.xxxx"
   ]
  },
  {
   "cell_type": "markdown",
   "metadata": {},
   "source": [
    "## Short summary of the experiment before processing\n",
    "It is often helpful to formulate what you wanted to achieve with your experiment before actually going into depth of the data. I believe that it does not make you \"biased\" when processing your data, but instead sharpens your mind and motivates you to look more closely on your results. I might be wrong, off course. Then just skip filling in this part.\n",
    "### Main purpose\n",
    "(*State the main hypothesis for the current set of experiment*)\n",
    "### Expected outcome\n",
    "(*What do you expect to find out? What kind of tests did you perform?*)\n",
    "### Special considerations\n",
    "(*State if there are any special considerations for this experiment*)"
   ]
  },
  {
   "cell_type": "markdown",
   "metadata": {},
   "source": [
    "## Setting up everything"
   ]
  },
  {
   "cell_type": "code",
   "execution_count": null,
   "metadata": {},
   "outputs": [],
   "source": [
    "%load_ext autoreload\n",
    "%autoreload 2"
   ]
  },
  {
   "cell_type": "code",
   "execution_count": null,
   "metadata": {},
   "outputs": [],
   "source": [
    "import numpy as np\n",
    "import matplotlib.pyplot as plt\n",
    "\n",
    "import cellpy\n",
    "from cellpy import prms\n",
    "from cellpy import prmreader\n",
    "from cellpy.utils import batch\n",
    "\n",
    "%matplotlib inline"
   ]
  },
  {
   "cell_type": "code",
   "execution_count": null,
   "metadata": {},
   "outputs": [],
   "source": [
    "######################################################################\n",
    "##                                                                  ##\n",
    "##                       development                                ##\n",
    "##                                                                  ##\n",
    "######################################################################\n",
    "\n",
    "from pathlib import Path\n",
    "from pprint import pprint\n",
    "\n",
    "# Use these when working on my work PC:\n",
    "test_data_path = r\"C:\\Scripting\\MyFiles\\development_cellpy\\testdata\"\n",
    "out_data_path = r\"C:\\Scripting\\Processing\\Test\\out\"\n",
    "\n",
    "# Use these when working on my MacBook:\n",
    "test_data_path = \"/Users/jepe/scripting/cellpy/testdata\"\n",
    "out_data_path = \"/Users/jepe/cellpy_data\"\n",
    "\n",
    "test_data_path = Path(test_data_path)\n",
    "out_data_path = Path(out_data_path)\n",
    "\n",
    "print(\" SETTING SOME PRMS \".center(80, \"=\"))\n",
    "prms.Paths[\"db_filename\"] = \"cellpy_db.xlsx\"\n",
    "prms.Paths[\"cellpydatadir\"] = test_data_path / \"hdf5\"\n",
    "prms.Paths[\"outdatadir\"] = out_data_path\n",
    "prms.Paths[\"rawdatadir\"] = test_data_path / \"data\"\n",
    "prms.Paths[\"db_path\"] = test_data_path / \"db\"\n",
    "prms.Paths[\"filelogdir\"] = test_data_path / \"log\"\n",
    "pprint(prms.Paths)"
   ]
  },
  {
   "cell_type": "code",
   "execution_count": null,
   "metadata": {},
   "outputs": [],
   "source": [
    "## Uncomment this and run for checking your cellpy parameters.\n",
    "# prmreader.info()"
   ]
  },
  {
   "cell_type": "markdown",
   "metadata": {},
   "source": [
    "### Creating pages and initialise the cellpy batch object\n",
    "If you need to create Journal Pages, please provide appropriate names for the project and the experiment to allow `cellpy` to build the pages."
   ]
  },
  {
   "cell_type": "code",
   "execution_count": null,
   "metadata": {},
   "outputs": [],
   "source": [
    "# Please fill in here\n",
    "project = \"prebens_experiment\"\n",
    "name = \"test\"\n",
    "batch_col = \"b01\""
   ]
  },
  {
   "cell_type": "markdown",
   "metadata": {},
   "source": [
    "#### Initialisation"
   ]
  },
  {
   "cell_type": "code",
   "execution_count": null,
   "metadata": {},
   "outputs": [],
   "source": [
    "print(\" INITIALISATION OF BATCH \".center(80, \"=\"))\n",
    "b = batch.init(name, project, batch_col=batch_col)"
   ]
  },
  {
   "cell_type": "markdown",
   "metadata": {},
   "source": [
    "#### Set parameters"
   ]
  },
  {
   "cell_type": "code",
   "execution_count": null,
   "metadata": {},
   "outputs": [],
   "source": [
    "# setting some prms\n",
    "b.experiment.export_raw = True\n",
    "b.experiment.export_cycles = True\n",
    "b.experiment.export_ica = True\n",
    "b.experiment.all_in_memory = True  # store all data in memory, defaults to False"
   ]
  },
  {
   "cell_type": "markdown",
   "metadata": {},
   "source": [
    "#### Run"
   ]
  },
  {
   "cell_type": "code",
   "execution_count": null,
   "metadata": {},
   "outputs": [],
   "source": [
    "# load info from your db and write the journal pages\n",
    "b.create_info_df()"
   ]
  },
  {
   "cell_type": "code",
   "execution_count": null,
   "metadata": {},
   "outputs": [],
   "source": [
    "# create the apropriate folders\n",
    "b.create_folder_structure()"
   ]
  },
  {
   "cell_type": "code",
   "execution_count": null,
   "metadata": {},
   "outputs": [],
   "source": [
    "# load the data (and save .csv-files if you have set export_(raw/cycles/ica) = True)\n",
    "# (this might take some time)\n",
    "b.load_and_save_raw()"
   ]
  },
  {
   "cell_type": "code",
   "execution_count": null,
   "metadata": {},
   "outputs": [],
   "source": [
    "# collect summary-data (e.g. charge capacity vs cycle number) from each cell and export to .csv-file(s).\n",
    "b.make_summaries()\n",
    "print(\" FINISHED \".center(80, \"-\"))"
   ]
  },
  {
   "cell_type": "markdown",
   "metadata": {},
   "source": [
    "## Looking at the data"
   ]
  },
  {
   "cell_type": "code",
   "execution_count": null,
   "metadata": {},
   "outputs": [],
   "source": [
    "# Plot the charge capacity and the C.E. (and resistance) vs. cycle number (standard plot)\n",
    "b.plot_summaries()"
   ]
  },
  {
   "cell_type": "code",
   "execution_count": null,
   "metadata": {},
   "outputs": [],
   "source": [
    "# Show the journal pages\n",
    "b.experiment.journal.pages.head()"
   ]
  },
  {
   "cell_type": "code",
   "execution_count": null,
   "metadata": {},
   "outputs": [],
   "source": [
    "# b.experiment.status()"
   ]
  },
  {
   "cell_type": "code",
   "execution_count": null,
   "metadata": {},
   "outputs": [],
   "source": [
    "b.summaries.head()"
   ]
  },
  {
   "cell_type": "markdown",
   "metadata": {},
   "source": [
    "### Using hvplot for plotting summaries"
   ]
  },
  {
   "cell_type": "code",
   "execution_count": null,
   "metadata": {},
   "outputs": [],
   "source": [
    "import hvplot.pandas"
   ]
  },
  {
   "cell_type": "code",
   "execution_count": null,
   "metadata": {},
   "outputs": [],
   "source": [
    "# hvplot does not like infinities\n",
    "s = b.summaries.replace([np.inf, -np.inf], np.nan)"
   ]
  },
  {
   "cell_type": "code",
   "execution_count": null,
   "metadata": {},
   "outputs": [],
   "source": [
    "layout = s[\"coulombic_efficiency\"].hvplot() + s[\"discharge_capacity\"].hvplot() * s[\"charge_capacity\"].hvplot()\n",
    "layout.cols(1)"
   ]
  },
  {
   "cell_type": "code",
   "execution_count": null,
   "metadata": {},
   "outputs": [],
   "source": [
    "s[\"cumulated_coulombic_efficiency\"].hvplot()"
   ]
  },
  {
   "cell_type": "markdown",
   "metadata": {},
   "source": [
    "## Looking more *in-depth*"
   ]
  },
  {
   "cell_type": "markdown",
   "metadata": {},
   "source": [
    "### OCV relaxation points\n",
    "Picking out 5 points on each OCV relaxation curve (distributed by last, last/2, last/2/2, ..., first)."
   ]
  },
  {
   "cell_type": "code",
   "execution_count": null,
   "metadata": {},
   "outputs": [],
   "source": [
    "from cellpy.utils.batch_tools.batch_analyzers import OCVRelaxationAnalyzer\n",
    "\n",
    "analyzer = OCVRelaxationAnalyzer()\n",
    "analyzer.assign(b.experiment)\n",
    "analyzer.do()\n",
    "ocv_df_list = analyzer.farms[0]\n",
    "df = ocv_df_list[0]\n",
    "df_up = df.loc[df.type == \"ocvrlx_up\", :]\n",
    "df_down = df.loc[df.type == \"ocvrlx_down\", :]\n",
    "\n",
    "print(df_up.head())\n",
    "df_down = df_down.set_index(\"cycle\")\n",
    "\n",
    "fig, (ax1, ax2) = plt.subplots(2, sharex=True)\n",
    "df_down.loc[:, [\"point_00\", \"point_01\", \"point_02\", \"point_03\", \"point_04\"]].plot(ax=ax1, legend=None)\n",
    "df_down.loc[:, [\"point_00\", \"point_01\", \"point_02\", \"point_03\", \"point_04\"]].plot(ax=ax2)\n",
    "ax1.set_ylim(0.7,1)\n",
    "ax2.set_ylabel(\"voltage\");"
   ]
  },
  {
   "cell_type": "code",
   "execution_count": null,
   "metadata": {},
   "outputs": [],
   "source": [
    "_df = df_down.loc[:, [\"point_00\", \"point_01\", \"point_02\", \"point_03\", \"point_04\"]].copy()"
   ]
  },
  {
   "cell_type": "code",
   "execution_count": null,
   "metadata": {},
   "outputs": [],
   "source": [
    "layout = _df.hvplot() + _df.hvplot(kind=\"scatter\")\n",
    "layout.cols(1)"
   ]
  },
  {
   "cell_type": "markdown",
   "metadata": {},
   "source": [
    "## Looking closer at some summary-plots"
   ]
  },
  {
   "cell_type": "code",
   "execution_count": null,
   "metadata": {},
   "outputs": [],
   "source": [
    "b.summary_columns"
   ]
  },
  {
   "cell_type": "code",
   "execution_count": null,
   "metadata": {},
   "outputs": [],
   "source": [
    "discharge_capacity = b.summaries.discharge_capacity\n",
    "charge_capacity = b.summaries.charge_capacity\n",
    "coulombic_efficiency = b.summaries.coulombic_efficiency\n",
    "ir_charge = b.summaries.ir_charge"
   ]
  },
  {
   "cell_type": "code",
   "execution_count": null,
   "metadata": {},
   "outputs": [],
   "source": [
    "fig, (ax1, ax2) = plt.subplots(2, 1)\n",
    "ax1.plot(discharge_capacity)\n",
    "ax1.set_ylabel(\"capacity \")\n",
    "ax2.plot(ir_charge)\n",
    "ax2.set_xlabel(\"cycle\")\n",
    "ax2.set_ylabel(\"resistance\")"
   ]
  },
  {
   "cell_type": "markdown",
   "metadata": {},
   "source": [
    "## Checking for more details for each cycle"
   ]
  },
  {
   "cell_type": "markdown",
   "metadata": {},
   "source": [
    "#### 1. pick the CellpyData object for one of the cells"
   ]
  },
  {
   "cell_type": "code",
   "execution_count": null,
   "metadata": {},
   "outputs": [],
   "source": [
    "# Lets check what cells we have\n",
    "cell_labels = b.experiment.cell_names\n",
    "cell_labels"
   ]
  },
  {
   "cell_type": "code",
   "execution_count": null,
   "metadata": {},
   "outputs": [],
   "source": [
    "# OK, then I choose one of them\n",
    "data = b.experiment.data[\"20160805_test001_45_cc\"]"
   ]
  },
  {
   "cell_type": "markdown",
   "metadata": {},
   "source": [
    "#### 2. Get some voltage curves for some cycles and plot them\n",
    "The method `get_cap` can be used to extract voltage curves."
   ]
  },
  {
   "cell_type": "code",
   "execution_count": null,
   "metadata": {},
   "outputs": [],
   "source": [
    "cap = data.get_cap(categorical_column=True)\n",
    "cap.head()"
   ]
  },
  {
   "cell_type": "code",
   "execution_count": null,
   "metadata": {},
   "outputs": [],
   "source": [
    "fig, ax = plt.subplots()\n",
    "ax.plot(cap.capacity, cap.voltage)\n",
    "ax.set_xlabel(\"capacity\")\n",
    "ax.set_ylabel(\"voltage\")"
   ]
  },
  {
   "cell_type": "code",
   "execution_count": null,
   "metadata": {},
   "outputs": [],
   "source": [
    "c,v = data.get_cap(method=\"forth\")\n",
    "fig, ax = plt.subplots()\n",
    "ax.set_xlabel(\"capacity\")\n",
    "ax.set_ylabel(\"voltage\")\n",
    "ax.plot(c,v)"
   ]
  },
  {
   "cell_type": "code",
   "execution_count": null,
   "metadata": {},
   "outputs": [],
   "source": [
    "c4,v4 = data.get_cap(cycle=4, method=\"forth-and-forth\")\n",
    "c10,v10 = data.get_cap(cycle=10, method=\"forth-and-forth\")\n",
    "fig, ax = plt.subplots()\n",
    "ax.set_xlabel(\"capacity\")\n",
    "ax.set_ylabel(\"voltage\")\n",
    "ax.plot(c4,v4, \"ro\", label=\"cycle 4\")\n",
    "ax.plot(c10,v10, \"bs\", label=\"cycle 22\")\n",
    "ax.legend();"
   ]
  },
  {
   "cell_type": "markdown",
   "metadata": {},
   "source": [
    "### Looking at some dqdv data"
   ]
  },
  {
   "cell_type": "markdown",
   "metadata": {},
   "source": [
    "#### Get capacity cycles and make dqdv using the ica module"
   ]
  },
  {
   "cell_type": "code",
   "execution_count": null,
   "metadata": {},
   "outputs": [],
   "source": [
    "from cellpy.utils import ica\n",
    "v4, dqdv4 = ica.dqdv_cycle(\n",
    "    data.get_cap(\n",
    "        4, \n",
    "        categorical_column=True, \n",
    "        method = \"forth-and-forth\")\n",
    ")\n",
    "\n",
    "v10, dqdv10 = ica.dqdv_cycle(\n",
    "    data.get_cap(\n",
    "        10, \n",
    "        categorical_column=True, \n",
    "        method = \"forth-and-forth\")\n",
    ")\n",
    "\n",
    "plt.plot(v4,dqdv4, label=\"cycle 4\")\n",
    "plt.plot(v10, dqdv10, label=\"cycle 10\")\n",
    "plt.legend();"
   ]
  },
  {
   "cell_type": "markdown",
   "metadata": {},
   "source": [
    "#### Put it in a for-loop for plotting many ica plots"
   ]
  },
  {
   "cell_type": "code",
   "execution_count": null,
   "metadata": {},
   "outputs": [],
   "source": [
    "fig, ax = plt.subplots()\n",
    "for cycle in data.get_cycle_numbers():\n",
    "    d = data.get_cap(\n",
    "            cycle, \n",
    "            categorical_column=True, \n",
    "            method = \"forth-and-forth\"\n",
    "        )\n",
    "    if not d.empty:\n",
    "        v, dqdv = ica.dqdv_cycle(d)\n",
    "        ax.plot(v, dqdv)\n",
    "    else:\n",
    "        print(f\"cycle {cycle} seems to be missing or corrupted\")\n",
    "    "
   ]
  },
  {
   "cell_type": "code",
   "execution_count": null,
   "metadata": {},
   "outputs": [],
   "source": []
  }
 ],
 "metadata": {
  "kernelspec": {
   "display_name": "Python [conda env:cellpy]",
   "language": "python",
   "name": "conda-env-cellpy-py"
  },
  "language_info": {
   "codemirror_mode": {
    "name": "ipython",
    "version": 3
   },
   "file_extension": ".py",
   "mimetype": "text/x-python",
   "name": "python",
   "nbconvert_exporter": "python",
   "pygments_lexer": "ipython3",
   "version": "3.6.7"
  }
 },
 "nbformat": 4,
 "nbformat_minor": 2
}
