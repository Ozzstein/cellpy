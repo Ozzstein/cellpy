{
 "cells": [
  {
   "cell_type": "markdown",
   "metadata": {},
   "source": [
    "# Notebook for cellpy batch processing"
   ]
  },
  {
   "cell_type": "markdown",
   "metadata": {},
   "source": [
    "*You can fill inn the MarkDown cells (the cells without \"numbering\") by double-clicking them. Also remember, press `shift + enter` to execute a cell.*\n",
    "\n",
    "A couple of useful links:  \n",
    " - [How to write MarkDown](https://github.com/adam-p/markdown-here/wiki/Markdown-Cheatsheet#hr)\n",
    " - [Jupyter notebooks](https://jupyter.org/)\n",
    " - [cellpy](https://cellpy.readthedocs.io/en/latest/)"
   ]
  },
  {
   "cell_type": "markdown",
   "metadata": {},
   "source": [
    "## Information\n",
    "**Experimental-id:** xxx  \n",
    "**Project:** project name  \n",
    "**By:** your name  \n",
    "**Date:** xx.xx.xxxx"
   ]
  },
  {
   "cell_type": "markdown",
   "metadata": {},
   "source": [
    "## Short summary of the experiment before processing\n",
    "It is often helpful to formulate what you wanted to achieve with your experiment before actually going into depth of the data. I believe that it does not make you \"biased\" when processing your data, but instead sharpens your mind and motivates you to look more closely on your results. I might be wrong, off course. Then just skip filling in this part.\n",
    "### Main purpose\n",
    "(*State the main hypothesis for the current set of experiment*)\n",
    "### Expected outcome\n",
    "(*What do you expect to find out? What kind of tests did you perform?*)\n",
    "### Special considerations\n",
    "(*State if there are any special considerations for this experiment*)"
   ]
  },
  {
   "cell_type": "markdown",
   "metadata": {},
   "source": [
    "## Setting up everything"
   ]
  },
  {
   "cell_type": "code",
   "execution_count": 46,
   "metadata": {},
   "outputs": [
    {
     "name": "stdout",
     "output_type": "stream",
     "text": [
      "The autoreload extension is already loaded. To reload it, use:\n",
      "  %reload_ext autoreload\n"
     ]
    }
   ],
   "source": [
    "%load_ext autoreload\n",
    "%autoreload 2"
   ]
  },
  {
   "cell_type": "code",
   "execution_count": 94,
   "metadata": {},
   "outputs": [],
   "source": [
    "import numpy as np\n",
    "import matplotlib.pyplot as plt\n",
    "\n",
    "import cellpy\n",
    "from cellpy import prms\n",
    "from cellpy import prmreader\n",
    "from cellpy.utils import batch\n",
    "\n",
    "%matplotlib inline"
   ]
  },
  {
   "cell_type": "code",
   "execution_count": 48,
   "metadata": {},
   "outputs": [
    {
     "name": "stdout",
     "output_type": "stream",
     "text": [
      "============================== SETTING SOME PRMS ===============================\n",
      "{'cellpydatadir': PosixPath('/Users/jepe/scripting/cellpy/testdata/hdf5'),\n",
      " 'db_filename': 'cellpy_db.xlsx',\n",
      " 'db_path': PosixPath('/Users/jepe/scripting/cellpy/testdata/db'),\n",
      " 'filelogdir': PosixPath('/Users/jepe/scripting/cellpy/testdata/log'),\n",
      " 'outdatadir': PosixPath('/Users/jepe/cellpy_data'),\n",
      " 'rawdatadir': PosixPath('/Users/jepe/scripting/cellpy/testdata/data')}\n"
     ]
    }
   ],
   "source": [
    "######################################################################\n",
    "##                                                                  ##\n",
    "##                       development                                ##\n",
    "##                                                                  ##\n",
    "######################################################################\n",
    "\n",
    "from pathlib import Path\n",
    "from pprint import pprint\n",
    "\n",
    "# Use these when working on my work PC:\n",
    "test_data_path = r\"C:\\Scripting\\MyFiles\\development_cellpy\\testdata\"\n",
    "out_data_path = r\"C:\\Scripting\\Processing\\Test\\out\"\n",
    "\n",
    "# Use these when working on my MacBook:\n",
    "test_data_path = \"/Users/jepe/scripting/cellpy/testdata\"\n",
    "out_data_path = \"/Users/jepe/cellpy_data\"\n",
    "\n",
    "test_data_path = Path(test_data_path)\n",
    "out_data_path = Path(out_data_path)\n",
    "\n",
    "print(\" SETTING SOME PRMS \".center(80, \"=\"))\n",
    "prms.Paths[\"db_filename\"] = \"cellpy_db.xlsx\"\n",
    "prms.Paths[\"cellpydatadir\"] = test_data_path / \"hdf5\"\n",
    "prms.Paths[\"outdatadir\"] = out_data_path\n",
    "prms.Paths[\"rawdatadir\"] = test_data_path / \"data\"\n",
    "prms.Paths[\"db_path\"] = test_data_path / \"db\"\n",
    "prms.Paths[\"filelogdir\"] = test_data_path / \"log\"\n",
    "pprint(prms.Paths)"
   ]
  },
  {
   "cell_type": "code",
   "execution_count": 49,
   "metadata": {},
   "outputs": [],
   "source": [
    "## Uncomment this and run for checking your cellpy parameters.\n",
    "# prmreader.info()"
   ]
  },
  {
   "cell_type": "markdown",
   "metadata": {},
   "source": [
    "### Creating pages and initialise the cellpy batch object\n",
    "If you need to create Journal Pages, please provide appropriate names for the project and the experiment to allow `cellpy` to build the pages."
   ]
  },
  {
   "cell_type": "code",
   "execution_count": 50,
   "metadata": {},
   "outputs": [],
   "source": [
    "# Please fill in here\n",
    "project = \"prebens_experiment\"\n",
    "name = \"test\"\n",
    "batch_col = \"b01\""
   ]
  },
  {
   "cell_type": "markdown",
   "metadata": {},
   "source": [
    "#### Initialisation"
   ]
  },
  {
   "cell_type": "code",
   "execution_count": 51,
   "metadata": {},
   "outputs": [
    {
     "name": "stdout",
     "output_type": "stream",
     "text": [
      "=========================== INITIALISATION OF BATCH ============================\n"
     ]
    }
   ],
   "source": [
    "print(\" INITIALISATION OF BATCH \".center(80, \"=\"))\n",
    "b = batch.init(name, project, batch_col=batch_col)"
   ]
  },
  {
   "cell_type": "markdown",
   "metadata": {},
   "source": [
    "#### Set parameters"
   ]
  },
  {
   "cell_type": "code",
   "execution_count": 52,
   "metadata": {},
   "outputs": [],
   "source": [
    "# setting some prms\n",
    "b.experiment.export_raw = True\n",
    "b.experiment.export_cycles = True\n",
    "b.experiment.export_ica = True\n",
    "b.experiment.all_in_memory = True  # store all data in memory, defaults to False"
   ]
  },
  {
   "cell_type": "markdown",
   "metadata": {},
   "source": [
    "#### Run"
   ]
  },
  {
   "cell_type": "code",
   "execution_count": 53,
   "metadata": {},
   "outputs": [
    {
     "name": "stdout",
     "output_type": "stream",
     "text": [
      "(cellpy) - name: test\n",
      "(cellpy) - project: prebens_experiment\n",
      "(cellpy) - Saved file to /Users/jepe/cellpy_data/prebens_experiment/cellpy_batch_test.json\n"
     ]
    }
   ],
   "source": [
    "# load info from your db and write the journal pages\n",
    "b.create_info_df()"
   ]
  },
  {
   "cell_type": "code",
   "execution_count": 54,
   "metadata": {},
   "outputs": [
    {
     "name": "stdout",
     "output_type": "stream",
     "text": [
      "(cellpy) - created folders\n"
     ]
    }
   ],
   "source": [
    "# create the apropriate folders\n",
    "b.create_folder_structure()"
   ]
  },
  {
   "cell_type": "code",
   "execution_count": 55,
   "metadata": {},
   "outputs": [
    {
     "name": "stdout",
     "output_type": "stream",
     "text": [
      "(cellpy) - [update experiment]\n",
      "[|.]\n",
      "(cellpy) - Processing 20160805_test001_45_cc\n",
      "(cellpy) - created CellpyData instance\n",
      "(cellpy) - setting cycle mode (nan)...\n",
      "(cellpy) - loading cell\n",
      "(cellpy) - started loadcell\n",
      "(cellpy) - checking file ids - using 'size'\n",
      "(cellpy) - cellpy file(s) needs updating - loading raw\n",
      "(cellpy) - ...loaded successfully...\n",
      "(cellpy) - Trying to get summary_data\n",
      "(cellpy) - saving to cellpy-format\n",
      "(cellpy) - exporting [raw] [cycles]\n",
      "(cellpy) - /Users/jepe/cellpy_data/prebens_experiment/test/raw_data/20160805_test001_45_cc_01_normal.csv OK\n",
      "(cellpy) - /Users/jepe/cellpy_data/prebens_experiment/test/raw_data/20160805_test001_45_cc_01_steps.csv OK\n",
      "(cellpy) - /Users/jepe/cellpy_data/prebens_experiment/test/raw_data/20160805_test001_45_cc_01_stats.csv OK\n",
      "(cellpy) - /Users/jepe/cellpy_data/prebens_experiment/test/raw_data/20160805_test001_45_cc_01_cycles.csv exported.\n",
      "(cellpy) - exporting [ica]\n",
      "(cellpy) - /Users/jepe/miniconda3/envs/cellpy/lib/python3.6/site-packages/scipy/signal/_arraytools.py:45: FutureWarning: Using a non-tuple sequence for multidimensional indexing is deprecated; use `arr[tuple(seq)]` instead of `arr[seq]`. In the future this will be interpreted as an array index, `arr[np.array(seq)]`, which will result either in an error or a different result.\n",
      "  b = a[a_slice]\n",
      "\n",
      "(cellpy) -  Ups! Could not process this (cycle 18)\n",
      "(cellpy) -  no steps found (c:18 s:0 type:charge)\n",
      "(cellpy) -  Ups! Could not process this (cycle 36)\n",
      "(cellpy) -  no steps found (c:36 s:0 type:charge)\n",
      "(cellpy) - /Users/jepe/cellpy_data/prebens_experiment/test/raw_data/20160805_test001_45_cc_01_dqdv_charge.csv OK\n",
      "(cellpy) - /Users/jepe/cellpy_data/prebens_experiment/test/raw_data/20160805_test001_45_cc_01_dqdv_discharge.csv OK\n",
      "[||]\n",
      "(cellpy) - Processing 20160805_test001_47_cc\n",
      "(cellpy) - created CellpyData instance\n",
      "(cellpy) - setting cycle mode (nan)...\n",
      "(cellpy) - loading cell\n",
      "(cellpy) - started loadcell\n",
      "(cellpy) - checking file ids - using 'size'\n",
      "(cellpy) - ...loaded successfully...\n",
      "(cellpy) - Trying to get summary_data\n",
      "(cellpy) - saving to cellpy-format\n",
      "(cellpy) - saving cell to /Users/jepe/scripting/cellpy/testdata/hdf5/20160805_test001_47_cc.h5\n",
      "(cellpy) - exporting [raw] [cycles]\n",
      "(cellpy) - /Users/jepe/cellpy_data/prebens_experiment/test/raw_data/20160805_test001_47_cc_normal.csv OK\n",
      "(cellpy) - /Users/jepe/cellpy_data/prebens_experiment/test/raw_data/20160805_test001_47_cc_steps.csv OK\n",
      "(cellpy) - /Users/jepe/cellpy_data/prebens_experiment/test/raw_data/20160805_test001_47_cc_stats.csv OK\n",
      "(cellpy) - /Users/jepe/cellpy_data/prebens_experiment/test/raw_data/20160805_test001_47_cc_cycles.csv exported.\n",
      "(cellpy) - exporting [ica]\n",
      "(cellpy) - /Users/jepe/miniconda3/envs/cellpy/lib/python3.6/site-packages/scipy/signal/_arraytools.py:45: FutureWarning: Using a non-tuple sequence for multidimensional indexing is deprecated; use `arr[tuple(seq)]` instead of `arr[seq]`. In the future this will be interpreted as an array index, `arr[np.array(seq)]`, which will result either in an error or a different result.\n",
      "  b = a[a_slice]\n",
      "\n",
      "(cellpy) -  Ups! Could not process this (cycle 18)\n",
      "(cellpy) -  no steps found (c:18 s:0 type:charge)\n",
      "(cellpy) - /Users/jepe/cellpy_data/prebens_experiment/test/raw_data/20160805_test001_47_cc_dqdv_charge.csv OK\n",
      "(cellpy) - /Users/jepe/cellpy_data/prebens_experiment/test/raw_data/20160805_test001_47_cc_dqdv_discharge.csv OK\n"
     ]
    }
   ],
   "source": [
    "# load the data (and save .csv-files if you have set export_(raw/cycles/ica) = True)\n",
    "# (this might take some time)\n",
    "b.load_and_save_raw()"
   ]
  },
  {
   "cell_type": "code",
   "execution_count": 56,
   "metadata": {},
   "outputs": [
    {
     "name": "stdout",
     "output_type": "stream",
     "text": [
      "(cellpy) - dumping to csv\n",
      "(cellpy) - > /Users/jepe/cellpy_data/prebens_experiment/test/summary_discharge_capacity_test.csv\n",
      "(cellpy) - > /Users/jepe/cellpy_data/prebens_experiment/test/summary_charge_capacity_test.csv\n",
      "(cellpy) - > /Users/jepe/cellpy_data/prebens_experiment/test/summary_coulombic_efficiency_test.csv\n",
      "(cellpy) - > /Users/jepe/cellpy_data/prebens_experiment/test/summary_cumulated_coulombic_efficiency_test.csv\n",
      "(cellpy) - > /Users/jepe/cellpy_data/prebens_experiment/test/summary_ir_discharge_test.csv\n",
      "(cellpy) - > /Users/jepe/cellpy_data/prebens_experiment/test/summary_ir_charge_test.csv\n",
      "(cellpy) - > /Users/jepe/cellpy_data/prebens_experiment/test/summary_end_voltage_discharge_test.csv\n",
      "(cellpy) - > /Users/jepe/cellpy_data/prebens_experiment/test/summary_end_voltage_charge_test.csv\n",
      "(cellpy) - cycles_engine:\n",
      "(cellpy) - Not ready for production\n",
      "(cellpy) - dumping to csv\n",
      "----------------------------------- FINISHED -----------------------------------\n"
     ]
    }
   ],
   "source": [
    "# collect summary-data (e.g. charge capacity vs cycle number) from each cell and export to .csv-file(s).\n",
    "b.make_summaries()\n",
    "print(\" FINISHED \".center(80, \"-\"))"
   ]
  },
  {
   "cell_type": "markdown",
   "metadata": {},
   "source": [
    "## Looking at the data"
   ]
  },
  {
   "cell_type": "code",
   "execution_count": 57,
   "metadata": {},
   "outputs": [
    {
     "data": {
      "text/html": [
       "\n",
       "    <div class=\"bk-root\">\n",
       "        <a href=\"https://bokeh.pydata.org\" target=\"_blank\" class=\"bk-logo bk-logo-small bk-logo-notebook\"></a>\n",
       "        <span id=\"2213\">Loading BokehJS ...</span>\n",
       "    </div>"
      ]
     },
     "metadata": {},
     "output_type": "display_data"
    },
    {
     "data": {
      "application/javascript": [
       "\n",
       "(function(root) {\n",
       "  function now() {\n",
       "    return new Date();\n",
       "  }\n",
       "\n",
       "  var force = true;\n",
       "\n",
       "  if (typeof (root._bokeh_onload_callbacks) === \"undefined\" || force === true) {\n",
       "    root._bokeh_onload_callbacks = [];\n",
       "    root._bokeh_is_loading = undefined;\n",
       "  }\n",
       "\n",
       "  var JS_MIME_TYPE = 'application/javascript';\n",
       "  var HTML_MIME_TYPE = 'text/html';\n",
       "  var EXEC_MIME_TYPE = 'application/vnd.bokehjs_exec.v0+json';\n",
       "  var CLASS_NAME = 'output_bokeh rendered_html';\n",
       "\n",
       "  /**\n",
       "   * Render data to the DOM node\n",
       "   */\n",
       "  function render(props, node) {\n",
       "    var script = document.createElement(\"script\");\n",
       "    node.appendChild(script);\n",
       "  }\n",
       "\n",
       "  /**\n",
       "   * Handle when an output is cleared or removed\n",
       "   */\n",
       "  function handleClearOutput(event, handle) {\n",
       "    var cell = handle.cell;\n",
       "\n",
       "    var id = cell.output_area._bokeh_element_id;\n",
       "    var server_id = cell.output_area._bokeh_server_id;\n",
       "    // Clean up Bokeh references\n",
       "    if (id != null && id in Bokeh.index) {\n",
       "      Bokeh.index[id].model.document.clear();\n",
       "      delete Bokeh.index[id];\n",
       "    }\n",
       "\n",
       "    if (server_id !== undefined) {\n",
       "      // Clean up Bokeh references\n",
       "      var cmd = \"from bokeh.io.state import curstate; print(curstate().uuid_to_server['\" + server_id + \"'].get_sessions()[0].document.roots[0]._id)\";\n",
       "      cell.notebook.kernel.execute(cmd, {\n",
       "        iopub: {\n",
       "          output: function(msg) {\n",
       "            var id = msg.content.text.trim();\n",
       "            if (id in Bokeh.index) {\n",
       "              Bokeh.index[id].model.document.clear();\n",
       "              delete Bokeh.index[id];\n",
       "            }\n",
       "          }\n",
       "        }\n",
       "      });\n",
       "      // Destroy server and session\n",
       "      var cmd = \"import bokeh.io.notebook as ion; ion.destroy_server('\" + server_id + \"')\";\n",
       "      cell.notebook.kernel.execute(cmd);\n",
       "    }\n",
       "  }\n",
       "\n",
       "  /**\n",
       "   * Handle when a new output is added\n",
       "   */\n",
       "  function handleAddOutput(event, handle) {\n",
       "    var output_area = handle.output_area;\n",
       "    var output = handle.output;\n",
       "\n",
       "    // limit handleAddOutput to display_data with EXEC_MIME_TYPE content only\n",
       "    if ((output.output_type != \"display_data\") || (!output.data.hasOwnProperty(EXEC_MIME_TYPE))) {\n",
       "      return\n",
       "    }\n",
       "\n",
       "    var toinsert = output_area.element.find(\".\" + CLASS_NAME.split(' ')[0]);\n",
       "\n",
       "    if (output.metadata[EXEC_MIME_TYPE][\"id\"] !== undefined) {\n",
       "      toinsert[toinsert.length - 1].firstChild.textContent = output.data[JS_MIME_TYPE];\n",
       "      // store reference to embed id on output_area\n",
       "      output_area._bokeh_element_id = output.metadata[EXEC_MIME_TYPE][\"id\"];\n",
       "    }\n",
       "    if (output.metadata[EXEC_MIME_TYPE][\"server_id\"] !== undefined) {\n",
       "      var bk_div = document.createElement(\"div\");\n",
       "      bk_div.innerHTML = output.data[HTML_MIME_TYPE];\n",
       "      var script_attrs = bk_div.children[0].attributes;\n",
       "      for (var i = 0; i < script_attrs.length; i++) {\n",
       "        toinsert[toinsert.length - 1].firstChild.setAttribute(script_attrs[i].name, script_attrs[i].value);\n",
       "      }\n",
       "      // store reference to server id on output_area\n",
       "      output_area._bokeh_server_id = output.metadata[EXEC_MIME_TYPE][\"server_id\"];\n",
       "    }\n",
       "  }\n",
       "\n",
       "  function register_renderer(events, OutputArea) {\n",
       "\n",
       "    function append_mime(data, metadata, element) {\n",
       "      // create a DOM node to render to\n",
       "      var toinsert = this.create_output_subarea(\n",
       "        metadata,\n",
       "        CLASS_NAME,\n",
       "        EXEC_MIME_TYPE\n",
       "      );\n",
       "      this.keyboard_manager.register_events(toinsert);\n",
       "      // Render to node\n",
       "      var props = {data: data, metadata: metadata[EXEC_MIME_TYPE]};\n",
       "      render(props, toinsert[toinsert.length - 1]);\n",
       "      element.append(toinsert);\n",
       "      return toinsert\n",
       "    }\n",
       "\n",
       "    /* Handle when an output is cleared or removed */\n",
       "    events.on('clear_output.CodeCell', handleClearOutput);\n",
       "    events.on('delete.Cell', handleClearOutput);\n",
       "\n",
       "    /* Handle when a new output is added */\n",
       "    events.on('output_added.OutputArea', handleAddOutput);\n",
       "\n",
       "    /**\n",
       "     * Register the mime type and append_mime function with output_area\n",
       "     */\n",
       "    OutputArea.prototype.register_mime_type(EXEC_MIME_TYPE, append_mime, {\n",
       "      /* Is output safe? */\n",
       "      safe: true,\n",
       "      /* Index of renderer in `output_area.display_order` */\n",
       "      index: 0\n",
       "    });\n",
       "  }\n",
       "\n",
       "  // register the mime type if in Jupyter Notebook environment and previously unregistered\n",
       "  if (root.Jupyter !== undefined) {\n",
       "    var events = require('base/js/events');\n",
       "    var OutputArea = require('notebook/js/outputarea').OutputArea;\n",
       "\n",
       "    if (OutputArea.prototype.mime_types().indexOf(EXEC_MIME_TYPE) == -1) {\n",
       "      register_renderer(events, OutputArea);\n",
       "    }\n",
       "  }\n",
       "\n",
       "  \n",
       "  if (typeof (root._bokeh_timeout) === \"undefined\" || force === true) {\n",
       "    root._bokeh_timeout = Date.now() + 5000;\n",
       "    root._bokeh_failed_load = false;\n",
       "  }\n",
       "\n",
       "  var NB_LOAD_WARNING = {'data': {'text/html':\n",
       "     \"<div style='background-color: #fdd'>\\n\"+\n",
       "     \"<p>\\n\"+\n",
       "     \"BokehJS does not appear to have successfully loaded. If loading BokehJS from CDN, this \\n\"+\n",
       "     \"may be due to a slow or bad network connection. Possible fixes:\\n\"+\n",
       "     \"</p>\\n\"+\n",
       "     \"<ul>\\n\"+\n",
       "     \"<li>re-rerun `output_notebook()` to attempt to load from CDN again, or</li>\\n\"+\n",
       "     \"<li>use INLINE resources instead, as so:</li>\\n\"+\n",
       "     \"</ul>\\n\"+\n",
       "     \"<code>\\n\"+\n",
       "     \"from bokeh.resources import INLINE\\n\"+\n",
       "     \"output_notebook(resources=INLINE)\\n\"+\n",
       "     \"</code>\\n\"+\n",
       "     \"</div>\"}};\n",
       "\n",
       "  function display_loaded() {\n",
       "    var el = document.getElementById(\"2213\");\n",
       "    if (el != null) {\n",
       "      el.textContent = \"BokehJS is loading...\";\n",
       "    }\n",
       "    if (root.Bokeh !== undefined) {\n",
       "      if (el != null) {\n",
       "        el.textContent = \"BokehJS \" + root.Bokeh.version + \" successfully loaded.\";\n",
       "      }\n",
       "    } else if (Date.now() < root._bokeh_timeout) {\n",
       "      setTimeout(display_loaded, 100)\n",
       "    }\n",
       "  }\n",
       "\n",
       "\n",
       "  function run_callbacks() {\n",
       "    try {\n",
       "      root._bokeh_onload_callbacks.forEach(function(callback) { callback() });\n",
       "    }\n",
       "    finally {\n",
       "      delete root._bokeh_onload_callbacks\n",
       "    }\n",
       "    console.info(\"Bokeh: all callbacks have finished\");\n",
       "  }\n",
       "\n",
       "  function load_libs(js_urls, callback) {\n",
       "    root._bokeh_onload_callbacks.push(callback);\n",
       "    if (root._bokeh_is_loading > 0) {\n",
       "      console.log(\"Bokeh: BokehJS is being loaded, scheduling callback at\", now());\n",
       "      return null;\n",
       "    }\n",
       "    if (js_urls == null || js_urls.length === 0) {\n",
       "      run_callbacks();\n",
       "      return null;\n",
       "    }\n",
       "    console.log(\"Bokeh: BokehJS not loaded, scheduling load and callback at\", now());\n",
       "    root._bokeh_is_loading = js_urls.length;\n",
       "    for (var i = 0; i < js_urls.length; i++) {\n",
       "      var url = js_urls[i];\n",
       "      var s = document.createElement('script');\n",
       "      s.src = url;\n",
       "      s.async = false;\n",
       "      s.onreadystatechange = s.onload = function() {\n",
       "        root._bokeh_is_loading--;\n",
       "        if (root._bokeh_is_loading === 0) {\n",
       "          console.log(\"Bokeh: all BokehJS libraries loaded\");\n",
       "          run_callbacks()\n",
       "        }\n",
       "      };\n",
       "      s.onerror = function() {\n",
       "        console.warn(\"failed to load library \" + url);\n",
       "      };\n",
       "      console.log(\"Bokeh: injecting script tag for BokehJS library: \", url);\n",
       "      document.getElementsByTagName(\"head\")[0].appendChild(s);\n",
       "    }\n",
       "  };var element = document.getElementById(\"2213\");\n",
       "  if (element == null) {\n",
       "    console.log(\"Bokeh: ERROR: autoload.js configured with elementid '2213' but no matching script tag was found. \")\n",
       "    return false;\n",
       "  }\n",
       "\n",
       "  var js_urls = [\"https://cdn.pydata.org/bokeh/release/bokeh-1.0.4.min.js\", \"https://cdn.pydata.org/bokeh/release/bokeh-widgets-1.0.4.min.js\", \"https://cdn.pydata.org/bokeh/release/bokeh-tables-1.0.4.min.js\", \"https://cdn.pydata.org/bokeh/release/bokeh-gl-1.0.4.min.js\"];\n",
       "\n",
       "  var inline_js = [\n",
       "    function(Bokeh) {\n",
       "      Bokeh.set_log_level(\"info\");\n",
       "    },\n",
       "    \n",
       "    function(Bokeh) {\n",
       "      \n",
       "    },\n",
       "    function(Bokeh) {\n",
       "      console.log(\"Bokeh: injecting CSS: https://cdn.pydata.org/bokeh/release/bokeh-1.0.4.min.css\");\n",
       "      Bokeh.embed.inject_css(\"https://cdn.pydata.org/bokeh/release/bokeh-1.0.4.min.css\");\n",
       "      console.log(\"Bokeh: injecting CSS: https://cdn.pydata.org/bokeh/release/bokeh-widgets-1.0.4.min.css\");\n",
       "      Bokeh.embed.inject_css(\"https://cdn.pydata.org/bokeh/release/bokeh-widgets-1.0.4.min.css\");\n",
       "      console.log(\"Bokeh: injecting CSS: https://cdn.pydata.org/bokeh/release/bokeh-tables-1.0.4.min.css\");\n",
       "      Bokeh.embed.inject_css(\"https://cdn.pydata.org/bokeh/release/bokeh-tables-1.0.4.min.css\");\n",
       "    }\n",
       "  ];\n",
       "\n",
       "  function run_inline_js() {\n",
       "    \n",
       "    if ((root.Bokeh !== undefined) || (force === true)) {\n",
       "      for (var i = 0; i < inline_js.length; i++) {\n",
       "        inline_js[i].call(root, root.Bokeh);\n",
       "      }if (force === true) {\n",
       "        display_loaded();\n",
       "      }} else if (Date.now() < root._bokeh_timeout) {\n",
       "      setTimeout(run_inline_js, 100);\n",
       "    } else if (!root._bokeh_failed_load) {\n",
       "      console.log(\"Bokeh: BokehJS failed to load within specified timeout.\");\n",
       "      root._bokeh_failed_load = true;\n",
       "    } else if (force !== true) {\n",
       "      var cell = $(document.getElementById(\"2213\")).parents('.cell').data().cell;\n",
       "      cell.output_area.append_execute_result(NB_LOAD_WARNING)\n",
       "    }\n",
       "\n",
       "  }\n",
       "\n",
       "  if (root._bokeh_is_loading === 0) {\n",
       "    console.log(\"Bokeh: BokehJS loaded, going straight to plotting\");\n",
       "    run_inline_js();\n",
       "  } else {\n",
       "    load_libs(js_urls, function() {\n",
       "      console.log(\"Bokeh: BokehJS plotting callback run at\", now());\n",
       "      run_inline_js();\n",
       "    });\n",
       "  }\n",
       "}(window));"
      ],
      "application/vnd.bokehjs_load.v0+json": "\n(function(root) {\n  function now() {\n    return new Date();\n  }\n\n  var force = true;\n\n  if (typeof (root._bokeh_onload_callbacks) === \"undefined\" || force === true) {\n    root._bokeh_onload_callbacks = [];\n    root._bokeh_is_loading = undefined;\n  }\n\n  \n\n  \n  if (typeof (root._bokeh_timeout) === \"undefined\" || force === true) {\n    root._bokeh_timeout = Date.now() + 5000;\n    root._bokeh_failed_load = false;\n  }\n\n  var NB_LOAD_WARNING = {'data': {'text/html':\n     \"<div style='background-color: #fdd'>\\n\"+\n     \"<p>\\n\"+\n     \"BokehJS does not appear to have successfully loaded. If loading BokehJS from CDN, this \\n\"+\n     \"may be due to a slow or bad network connection. Possible fixes:\\n\"+\n     \"</p>\\n\"+\n     \"<ul>\\n\"+\n     \"<li>re-rerun `output_notebook()` to attempt to load from CDN again, or</li>\\n\"+\n     \"<li>use INLINE resources instead, as so:</li>\\n\"+\n     \"</ul>\\n\"+\n     \"<code>\\n\"+\n     \"from bokeh.resources import INLINE\\n\"+\n     \"output_notebook(resources=INLINE)\\n\"+\n     \"</code>\\n\"+\n     \"</div>\"}};\n\n  function display_loaded() {\n    var el = document.getElementById(\"2213\");\n    if (el != null) {\n      el.textContent = \"BokehJS is loading...\";\n    }\n    if (root.Bokeh !== undefined) {\n      if (el != null) {\n        el.textContent = \"BokehJS \" + root.Bokeh.version + \" successfully loaded.\";\n      }\n    } else if (Date.now() < root._bokeh_timeout) {\n      setTimeout(display_loaded, 100)\n    }\n  }\n\n\n  function run_callbacks() {\n    try {\n      root._bokeh_onload_callbacks.forEach(function(callback) { callback() });\n    }\n    finally {\n      delete root._bokeh_onload_callbacks\n    }\n    console.info(\"Bokeh: all callbacks have finished\");\n  }\n\n  function load_libs(js_urls, callback) {\n    root._bokeh_onload_callbacks.push(callback);\n    if (root._bokeh_is_loading > 0) {\n      console.log(\"Bokeh: BokehJS is being loaded, scheduling callback at\", now());\n      return null;\n    }\n    if (js_urls == null || js_urls.length === 0) {\n      run_callbacks();\n      return null;\n    }\n    console.log(\"Bokeh: BokehJS not loaded, scheduling load and callback at\", now());\n    root._bokeh_is_loading = js_urls.length;\n    for (var i = 0; i < js_urls.length; i++) {\n      var url = js_urls[i];\n      var s = document.createElement('script');\n      s.src = url;\n      s.async = false;\n      s.onreadystatechange = s.onload = function() {\n        root._bokeh_is_loading--;\n        if (root._bokeh_is_loading === 0) {\n          console.log(\"Bokeh: all BokehJS libraries loaded\");\n          run_callbacks()\n        }\n      };\n      s.onerror = function() {\n        console.warn(\"failed to load library \" + url);\n      };\n      console.log(\"Bokeh: injecting script tag for BokehJS library: \", url);\n      document.getElementsByTagName(\"head\")[0].appendChild(s);\n    }\n  };var element = document.getElementById(\"2213\");\n  if (element == null) {\n    console.log(\"Bokeh: ERROR: autoload.js configured with elementid '2213' but no matching script tag was found. \")\n    return false;\n  }\n\n  var js_urls = [\"https://cdn.pydata.org/bokeh/release/bokeh-1.0.4.min.js\", \"https://cdn.pydata.org/bokeh/release/bokeh-widgets-1.0.4.min.js\", \"https://cdn.pydata.org/bokeh/release/bokeh-tables-1.0.4.min.js\", \"https://cdn.pydata.org/bokeh/release/bokeh-gl-1.0.4.min.js\"];\n\n  var inline_js = [\n    function(Bokeh) {\n      Bokeh.set_log_level(\"info\");\n    },\n    \n    function(Bokeh) {\n      \n    },\n    function(Bokeh) {\n      console.log(\"Bokeh: injecting CSS: https://cdn.pydata.org/bokeh/release/bokeh-1.0.4.min.css\");\n      Bokeh.embed.inject_css(\"https://cdn.pydata.org/bokeh/release/bokeh-1.0.4.min.css\");\n      console.log(\"Bokeh: injecting CSS: https://cdn.pydata.org/bokeh/release/bokeh-widgets-1.0.4.min.css\");\n      Bokeh.embed.inject_css(\"https://cdn.pydata.org/bokeh/release/bokeh-widgets-1.0.4.min.css\");\n      console.log(\"Bokeh: injecting CSS: https://cdn.pydata.org/bokeh/release/bokeh-tables-1.0.4.min.css\");\n      Bokeh.embed.inject_css(\"https://cdn.pydata.org/bokeh/release/bokeh-tables-1.0.4.min.css\");\n    }\n  ];\n\n  function run_inline_js() {\n    \n    if ((root.Bokeh !== undefined) || (force === true)) {\n      for (var i = 0; i < inline_js.length; i++) {\n        inline_js[i].call(root, root.Bokeh);\n      }if (force === true) {\n        display_loaded();\n      }} else if (Date.now() < root._bokeh_timeout) {\n      setTimeout(run_inline_js, 100);\n    } else if (!root._bokeh_failed_load) {\n      console.log(\"Bokeh: BokehJS failed to load within specified timeout.\");\n      root._bokeh_failed_load = true;\n    } else if (force !== true) {\n      var cell = $(document.getElementById(\"2213\")).parents('.cell').data().cell;\n      cell.output_area.append_execute_result(NB_LOAD_WARNING)\n    }\n\n  }\n\n  if (root._bokeh_is_loading === 0) {\n    console.log(\"Bokeh: BokehJS loaded, going straight to plotting\");\n    run_inline_js();\n  } else {\n    load_libs(js_urls, function() {\n      console.log(\"Bokeh: BokehJS plotting callback run at\", now());\n      run_inline_js();\n    });\n  }\n}(window));"
     },
     "metadata": {},
     "output_type": "display_data"
    },
    {
     "name": "stdout",
     "output_type": "stream",
     "text": [
      "(filled:charge) (open:discharge)\n"
     ]
    },
    {
     "data": {
      "text/html": [
       "\n",
       "\n",
       "\n",
       "\n",
       "\n",
       "\n",
       "  <div class=\"bk-root\" id=\"77009a4b-7b5d-434b-8872-cb7f5f2c8caa\" data-root-id=\"2408\"></div>\n"
      ]
     },
     "metadata": {},
     "output_type": "display_data"
    },
    {
     "data": {
      "application/javascript": [
       "(function(root) {\n",
       "  function embed_document(root) {\n",
       "    \n",
       "  var docs_json = {\"6076fa08-3d2a-44d1-bff1-9c490de464bb\":{\"roots\":{\"references\":[{\"attributes\":{\"children\":[{\"id\":\"2215\",\"subtype\":\"Figure\",\"type\":\"Plot\"},{\"id\":\"2272\",\"subtype\":\"Figure\",\"type\":\"Plot\"},{\"id\":\"2350\",\"subtype\":\"Figure\",\"type\":\"Plot\"}]},\"id\":\"2408\",\"type\":\"Column\"},{\"attributes\":{},\"id\":\"2372\",\"type\":\"SaveTool\"},{\"attributes\":{\"source\":{\"id\":\"2214\",\"type\":\"ColumnDataSource\"}},\"id\":\"2264\",\"type\":\"CDSView\"},{\"attributes\":{\"line_color\":\"#7fcdbb\",\"line_dash\":[0,0],\"x\":{\"field\":\"Cycle_Index\"},\"y\":{\"field\":\"20160805_test001_47_cc\"}},\"id\":\"2400\",\"type\":\"Line\"},{\"attributes\":{\"data_source\":{\"id\":\"2271\",\"type\":\"ColumnDataSource\"},\"glyph\":{\"id\":\"2337\",\"type\":\"Scatter\"},\"hover_glyph\":null,\"muted_glyph\":null,\"nonselection_glyph\":{\"id\":\"2338\",\"type\":\"Scatter\"},\"selection_glyph\":null,\"view\":{\"id\":\"2340\",\"type\":\"CDSView\"}},\"id\":\"2339\",\"type\":\"GlyphRenderer\"},{\"attributes\":{\"active_drag\":\"auto\",\"active_inspect\":\"auto\",\"active_multi\":null,\"active_scroll\":\"auto\",\"active_tap\":\"auto\",\"tools\":[{\"id\":\"2235\",\"type\":\"PanTool\"},{\"id\":\"2236\",\"type\":\"WheelZoomTool\"},{\"id\":\"2237\",\"type\":\"BoxZoomTool\"},{\"id\":\"2238\",\"type\":\"SaveTool\"},{\"id\":\"2239\",\"type\":\"ResetTool\"},{\"id\":\"2240\",\"type\":\"HelpTool\"},{\"id\":\"2404\",\"type\":\"HoverTool\"}]},\"id\":\"2241\",\"type\":\"Toolbar\"},{\"attributes\":{\"bottom_units\":\"screen\",\"fill_alpha\":{\"value\":0.5},\"fill_color\":{\"value\":\"lightgrey\"},\"left_units\":\"screen\",\"level\":\"overlay\",\"line_alpha\":{\"value\":1.0},\"line_color\":{\"value\":\"black\"},\"line_dash\":[4,4],\"line_width\":{\"value\":2},\"plot\":null,\"render_mode\":\"css\",\"right_units\":\"screen\",\"top_units\":\"screen\"},\"id\":\"2243\",\"type\":\"BoxAnnotation\"},{\"attributes\":{},\"id\":\"2282\",\"type\":\"BasicTicker\"},{\"attributes\":{},\"id\":\"2496\",\"type\":\"BasicTickFormatter\"},{\"attributes\":{\"below\":[{\"id\":\"2225\",\"type\":\"LinearAxis\"}],\"left\":[{\"id\":\"2230\",\"type\":\"LinearAxis\"}],\"plot_height\":160,\"plot_width\":900,\"renderers\":[{\"id\":\"2225\",\"type\":\"LinearAxis\"},{\"id\":\"2229\",\"type\":\"Grid\"},{\"id\":\"2230\",\"type\":\"LinearAxis\"},{\"id\":\"2234\",\"type\":\"Grid\"},{\"id\":\"2243\",\"type\":\"BoxAnnotation\"},{\"id\":\"2253\",\"type\":\"GlyphRenderer\"},{\"id\":\"2258\",\"type\":\"GlyphRenderer\"},{\"id\":\"2263\",\"type\":\"GlyphRenderer\"},{\"id\":\"2268\",\"type\":\"GlyphRenderer\"}],\"title\":null,\"toolbar\":{\"id\":\"2241\",\"type\":\"Toolbar\"},\"x_range\":{\"id\":\"2217\",\"type\":\"DataRange1d\"},\"x_scale\":{\"id\":\"2221\",\"type\":\"LinearScale\"},\"y_range\":{\"id\":\"2219\",\"type\":\"DataRange1d\"},\"y_scale\":{\"id\":\"2223\",\"type\":\"LinearScale\"}},\"id\":\"2215\",\"subtype\":\"Figure\",\"type\":\"Plot\"},{\"attributes\":{\"line_alpha\":0.1,\"line_color\":\"#1f77b4\",\"line_dash\":[0,0],\"x\":{\"field\":\"Cycle_Index\"},\"y\":{\"field\":\"20160805_test001_45_cc\"}},\"id\":\"2313\",\"type\":\"Line\"},{\"attributes\":{\"fill_alpha\":{\"value\":0.1},\"fill_color\":{\"value\":\"#1f77b4\"},\"line_alpha\":{\"value\":0.1},\"line_color\":{\"value\":\"#1f77b4\"},\"size\":{\"units\":\"screen\",\"value\":12},\"x\":{\"field\":\"Cycle_Index\"},\"y\":{\"field\":\"20160805_test001_47_cc\"}},\"id\":\"2328\",\"type\":\"Scatter\"},{\"attributes\":{},\"id\":\"2508\",\"type\":\"UnionRenderers\"},{\"attributes\":{\"formatter\":{\"id\":\"2494\",\"type\":\"BasicTickFormatter\"},\"plot\":{\"id\":\"2272\",\"subtype\":\"Figure\",\"type\":\"Plot\"},\"ticker\":{\"id\":\"2282\",\"type\":\"BasicTicker\"},\"visible\":false},\"id\":\"2281\",\"type\":\"LinearAxis\"},{\"attributes\":{\"callback\":null,\"data\":{\"20160805_test001_45_cc\":{\"__ndarray__\":\"Fb9NRt3iqEDtqreFhwWqQFdHB3S8gqpAXkIGkiAhqEDEepWts4GnQCRP3lP4iKdASIILBGuBp0AVlHl4b3anQL0GMlF+G6hABXm7QJFlp0AVEgoK452nQHi1OCchk6dAPZKWxZ0TqEC/OKy+HfWnQF9aLbmLz6dAtgALfclGqEAGbl3ovFqnQAAAAAAAAAAAFb9NRt3iqEDtqreFhwWqQFdHB3S8gqpAXkIGkiAhqEDEepWts4GnQCRP3lP4iKdASIILBGuBp0AVlHl4b3anQL0GMlF+G6hABXm7QJFlp0AVEgoK452nQHi1OCchk6dAPZKWxZ0TqEC/OKy+HfWnQF9aLbmLz6dAtgALfclGqEAGbl3ovFqnQAAAAAAAAAAA\",\"dtype\":\"float64\",\"shape\":[36]},\"20160805_test001_47_cc\":{\"__ndarray__\":\"mP2hlyGcqUDYkQS3P8eqQIXbecEYSKtADVFvmcLUqED+R73asjCoQIBjwJwtOKhA8+5CFGgwqEDSb/XFGiWoQLgsqGf2zqhAkff1+r4TqEC8oWwKtE2oQJ8XHxKiQqhAtd6+N9vGqEDd83UheKeoQAIq+WnOgKhA33jm4IP7qEAyFbADmgioQAAAAAAAAAAAAAAAAAAA+H8AAAAAAAD4fwAAAAAAAPh/AAAAAAAA+H8AAAAAAAD4fwAAAAAAAPh/AAAAAAAA+H8AAAAAAAD4fwAAAAAAAPh/AAAAAAAA+H8AAAAAAAD4fwAAAAAAAPh/AAAAAAAA+H8AAAAAAAD4fwAAAAAAAPh/AAAAAAAA+H8AAAAAAAD4fwAAAAAAAPh/\",\"dtype\":\"float64\",\"shape\":[36]},\"Cycle_Index\":[1,2,3,4,5,6,7,8,9,10,11,12,13,14,15,16,17,18,19,20,21,22,23,24,25,26,27,28,29,30,31,32,33,34,35,36]},\"selected\":{\"id\":\"2505\",\"type\":\"Selection\"},\"selection_policy\":{\"id\":\"2506\",\"type\":\"UnionRenderers\"}},\"id\":\"2270\",\"type\":\"ColumnDataSource\"},{\"attributes\":{},\"id\":\"2370\",\"type\":\"WheelZoomTool\"},{\"attributes\":{},\"id\":\"2231\",\"type\":\"BasicTicker\"},{\"attributes\":{\"overlay\":{\"id\":\"2377\",\"type\":\"BoxAnnotation\"}},\"id\":\"2371\",\"type\":\"BoxZoomTool\"},{\"attributes\":{},\"id\":\"2373\",\"type\":\"ResetTool\"},{\"attributes\":{},\"id\":\"2510\",\"type\":\"Selection\"},{\"attributes\":{\"data_source\":{\"id\":\"2270\",\"type\":\"ColumnDataSource\"},\"glyph\":{\"id\":\"2312\",\"type\":\"Line\"},\"hover_glyph\":null,\"muted_glyph\":null,\"nonselection_glyph\":{\"id\":\"2313\",\"type\":\"Line\"},\"selection_glyph\":null,\"view\":{\"id\":\"2315\",\"type\":\"CDSView\"}},\"id\":\"2314\",\"type\":\"GlyphRenderer\"},{\"attributes\":{\"source\":{\"id\":\"2270\",\"type\":\"ColumnDataSource\"}},\"id\":\"2330\",\"type\":\"CDSView\"},{\"attributes\":{},\"id\":\"2240\",\"type\":\"HelpTool\"},{\"attributes\":{\"fill_alpha\":{\"value\":0.1},\"fill_color\":{\"value\":\"#1f77b4\"},\"line_alpha\":{\"value\":0.1},\"line_color\":{\"value\":\"#1f77b4\"},\"size\":{\"units\":\"screen\",\"value\":12},\"x\":{\"field\":\"Cycle_Index\"},\"y\":{\"field\":\"20160805_test001_47_cc\"}},\"id\":\"2262\",\"type\":\"Scatter\"},{\"attributes\":{\"source\":{\"id\":\"2270\",\"type\":\"ColumnDataSource\"}},\"id\":\"2315\",\"type\":\"CDSView\"},{\"attributes\":{},\"id\":\"2374\",\"type\":\"HelpTool\"},{\"attributes\":{\"data_source\":{\"id\":\"2271\",\"type\":\"ColumnDataSource\"},\"glyph\":{\"id\":\"2317\",\"type\":\"Scatter\"},\"hover_glyph\":null,\"muted_glyph\":null,\"nonselection_glyph\":{\"id\":\"2318\",\"type\":\"Scatter\"},\"selection_glyph\":null,\"view\":{\"id\":\"2320\",\"type\":\"CDSView\"}},\"id\":\"2319\",\"type\":\"GlyphRenderer\"},{\"attributes\":{\"source\":{\"id\":\"2349\",\"type\":\"ColumnDataSource\"}},\"id\":\"2398\",\"type\":\"CDSView\"},{\"attributes\":{\"dimension\":1,\"plot\":{\"id\":\"2350\",\"subtype\":\"Figure\",\"type\":\"Plot\"},\"ticker\":{\"id\":\"2365\",\"type\":\"BasicTicker\"}},\"id\":\"2368\",\"type\":\"Grid\"},{\"attributes\":{\"dimension\":1,\"plot\":{\"id\":\"2215\",\"subtype\":\"Figure\",\"type\":\"Plot\"},\"ticker\":{\"id\":\"2231\",\"type\":\"BasicTicker\"}},\"id\":\"2234\",\"type\":\"Grid\"},{\"attributes\":{\"fill_color\":{\"value\":null},\"line_color\":{\"value\":\"#2c7fb8\"},\"size\":{\"units\":\"screen\",\"value\":12},\"x\":{\"field\":\"Cycle_Index\"},\"y\":{\"field\":\"20160805_test001_45_cc\"}},\"id\":\"2317\",\"type\":\"Scatter\"},{\"attributes\":{\"label\":{\"value\":\"test001_45\"},\"renderers\":[{\"id\":\"2309\",\"type\":\"GlyphRenderer\"},{\"id\":\"2314\",\"type\":\"GlyphRenderer\"},{\"id\":\"2319\",\"type\":\"GlyphRenderer\"},{\"id\":\"2324\",\"type\":\"GlyphRenderer\"}]},\"id\":\"2347\",\"type\":\"LegendItem\"},{\"attributes\":{\"below\":[{\"id\":\"2281\",\"type\":\"LinearAxis\"}],\"left\":[{\"id\":\"2286\",\"type\":\"LinearAxis\"}],\"plot_height\":400,\"plot_width\":900,\"renderers\":[{\"id\":\"2281\",\"type\":\"LinearAxis\"},{\"id\":\"2285\",\"type\":\"Grid\"},{\"id\":\"2286\",\"type\":\"LinearAxis\"},{\"id\":\"2290\",\"type\":\"Grid\"},{\"id\":\"2299\",\"type\":\"BoxAnnotation\"},{\"id\":\"2309\",\"type\":\"GlyphRenderer\"},{\"id\":\"2314\",\"type\":\"GlyphRenderer\"},{\"id\":\"2319\",\"type\":\"GlyphRenderer\"},{\"id\":\"2324\",\"type\":\"GlyphRenderer\"},{\"id\":\"2329\",\"type\":\"GlyphRenderer\"},{\"id\":\"2334\",\"type\":\"GlyphRenderer\"},{\"id\":\"2339\",\"type\":\"GlyphRenderer\"},{\"id\":\"2344\",\"type\":\"GlyphRenderer\"},{\"id\":\"2346\",\"type\":\"Legend\"}],\"title\":null,\"toolbar\":{\"id\":\"2297\",\"type\":\"Toolbar\"},\"x_range\":{\"id\":\"2217\",\"type\":\"DataRange1d\"},\"x_scale\":{\"id\":\"2277\",\"type\":\"LinearScale\"},\"y_range\":{\"id\":\"2275\",\"type\":\"DataRange1d\"},\"y_scale\":{\"id\":\"2279\",\"type\":\"LinearScale\"}},\"id\":\"2272\",\"subtype\":\"Figure\",\"type\":\"Plot\"},{\"attributes\":{\"data_source\":{\"id\":\"2270\",\"type\":\"ColumnDataSource\"},\"glyph\":{\"id\":\"2307\",\"type\":\"Scatter\"},\"hover_glyph\":null,\"muted_glyph\":null,\"nonselection_glyph\":{\"id\":\"2308\",\"type\":\"Scatter\"},\"selection_glyph\":null,\"view\":{\"id\":\"2310\",\"type\":\"CDSView\"}},\"id\":\"2309\",\"type\":\"GlyphRenderer\"},{\"attributes\":{\"source\":{\"id\":\"2270\",\"type\":\"ColumnDataSource\"}},\"id\":\"2310\",\"type\":\"CDSView\"},{\"attributes\":{\"source\":{\"id\":\"2271\",\"type\":\"ColumnDataSource\"}},\"id\":\"2345\",\"type\":\"CDSView\"},{\"attributes\":{\"callback\":null,\"tooltips\":[[\"cycle\",\"@Cycle_Index\"],[\"value\",\"$y\"]]},\"id\":\"2404\",\"type\":\"HoverTool\"},{\"attributes\":{\"source\":{\"id\":\"2271\",\"type\":\"ColumnDataSource\"}},\"id\":\"2320\",\"type\":\"CDSView\"},{\"attributes\":{},\"id\":\"2355\",\"type\":\"LinearScale\"},{\"attributes\":{},\"id\":\"2505\",\"type\":\"Selection\"},{\"attributes\":{\"callback\":null,\"end\":120,\"start\":20},\"id\":\"2219\",\"type\":\"DataRange1d\"},{\"attributes\":{\"fill_alpha\":{\"value\":0.1},\"fill_color\":{\"value\":\"#1f77b4\"},\"line_alpha\":{\"value\":0.1},\"line_color\":{\"value\":\"#1f77b4\"},\"size\":{\"units\":\"screen\",\"value\":12},\"x\":{\"field\":\"Cycle_Index\"},\"y\":{\"field\":\"20160805_test001_45_cc\"}},\"id\":\"2318\",\"type\":\"Scatter\"},{\"attributes\":{\"line_color\":\"#2c7fb8\",\"line_dash\":[0,0],\"x\":{\"field\":\"Cycle_Index\"},\"y\":{\"field\":\"20160805_test001_45_cc\"}},\"id\":\"2390\",\"type\":\"Line\"},{\"attributes\":{\"line_color\":\"#7fcdbb\",\"line_dash\":[0,0],\"x\":{\"field\":\"Cycle_Index\"},\"y\":{\"field\":\"20160805_test001_47_cc\"}},\"id\":\"2342\",\"type\":\"Line\"},{\"attributes\":{\"source\":{\"id\":\"2214\",\"type\":\"ColumnDataSource\"}},\"id\":\"2254\",\"type\":\"CDSView\"},{\"attributes\":{\"data_source\":{\"id\":\"2271\",\"type\":\"ColumnDataSource\"},\"glyph\":{\"id\":\"2322\",\"type\":\"Line\"},\"hover_glyph\":null,\"muted_glyph\":null,\"nonselection_glyph\":{\"id\":\"2323\",\"type\":\"Line\"},\"selection_glyph\":null,\"view\":{\"id\":\"2325\",\"type\":\"CDSView\"}},\"id\":\"2324\",\"type\":\"GlyphRenderer\"},{\"attributes\":{\"data_source\":{\"id\":\"2349\",\"type\":\"ColumnDataSource\"},\"glyph\":{\"id\":\"2390\",\"type\":\"Line\"},\"hover_glyph\":null,\"muted_glyph\":null,\"nonselection_glyph\":{\"id\":\"2391\",\"type\":\"Line\"},\"selection_glyph\":null,\"view\":{\"id\":\"2393\",\"type\":\"CDSView\"}},\"id\":\"2392\",\"type\":\"GlyphRenderer\"},{\"attributes\":{\"bottom_units\":\"screen\",\"fill_alpha\":{\"value\":0.5},\"fill_color\":{\"value\":\"lightgrey\"},\"left_units\":\"screen\",\"level\":\"overlay\",\"line_alpha\":{\"value\":1.0},\"line_color\":{\"value\":\"black\"},\"line_dash\":[4,4],\"line_width\":{\"value\":2},\"plot\":null,\"render_mode\":\"css\",\"right_units\":\"screen\",\"top_units\":\"screen\"},\"id\":\"2299\",\"type\":\"BoxAnnotation\"},{\"attributes\":{\"plot\":{\"id\":\"2272\",\"subtype\":\"Figure\",\"type\":\"Plot\"},\"ticker\":{\"id\":\"2282\",\"type\":\"BasicTicker\"}},\"id\":\"2285\",\"type\":\"Grid\"},{\"attributes\":{\"source\":{\"id\":\"2214\",\"type\":\"ColumnDataSource\"}},\"id\":\"2259\",\"type\":\"CDSView\"},{\"attributes\":{},\"id\":\"2507\",\"type\":\"Selection\"},{\"attributes\":{\"data_source\":{\"id\":\"2214\",\"type\":\"ColumnDataSource\"},\"glyph\":{\"id\":\"2266\",\"type\":\"Line\"},\"hover_glyph\":null,\"muted_glyph\":null,\"nonselection_glyph\":{\"id\":\"2267\",\"type\":\"Line\"},\"selection_glyph\":null,\"view\":{\"id\":\"2269\",\"type\":\"CDSView\"}},\"id\":\"2268\",\"type\":\"GlyphRenderer\"},{\"attributes\":{\"source\":{\"id\":\"2349\",\"type\":\"ColumnDataSource\"}},\"id\":\"2393\",\"type\":\"CDSView\"},{\"attributes\":{\"fill_color\":{\"value\":\"#2c7fb8\"},\"line_color\":{\"value\":\"#2c7fb8\"},\"size\":{\"units\":\"screen\",\"value\":12},\"x\":{\"field\":\"Cycle_Index\"},\"y\":{\"field\":\"20160805_test001_45_cc\"}},\"id\":\"2251\",\"type\":\"Scatter\"},{\"attributes\":{\"callback\":null,\"data\":{\"20160805_test001_45_cc\":{\"__ndarray__\":\"g85awLovSEBdtLbfkOVFQPDLT2Dwt0FAXYjVH2HnQ0AALOG/L9pFQDs9SoD1K0ZApYY2ABvARUCrGikAa9NFQCET3z/MiUNAf0CxX8HeREAUKSig5IVEQBecwd8vRkRALf2V37OzQkAhUQ2ghDRCQI9OAkC6xEJAS0ha4OG+QEBFhUWgVchCQAAAAAAAAAAAg85awLovSEBdtLbfkOVFQPDLT2Dwt0FAXYjVH2HnQ0AALOG/L9pFQDs9SoD1K0ZApYY2ABvARUCrGikAa9NFQCET3z/MiUNAf0CxX8HeREAUKSig5IVEQBecwd8vRkRALf2V37OzQkAhUQ2ghDRCQI9OAkC6xEJAS0ha4OG+QEBFhUWgVchCQAAAAAAAAAAA\",\"dtype\":\"float64\",\"shape\":[36]},\"20160805_test001_47_cc\":{\"__ndarray__\":\"g85awLovSEBdtLbfkOVFQPDLT2Dwt0FAXYjVH2HnQ0AALOG/L9pFQDs9SoD1K0ZApYY2ABvARUCrGikAa9NFQCET3z/MiUNAf0CxX8HeREAUKSig5IVEQBecwd8vRkRALf2V37OzQkAhUQ2ghDRCQI9OAkC6xEJAS0ha4OG+QEBFhUWgVchCQAAAAAAAAAAAAAAAAAAA+H8AAAAAAAD4fwAAAAAAAPh/AAAAAAAA+H8AAAAAAAD4fwAAAAAAAPh/AAAAAAAA+H8AAAAAAAD4fwAAAAAAAPh/AAAAAAAA+H8AAAAAAAD4fwAAAAAAAPh/AAAAAAAA+H8AAAAAAAD4fwAAAAAAAPh/AAAAAAAA+H8AAAAAAAD4fwAAAAAAAPh/\",\"dtype\":\"float64\",\"shape\":[36]},\"Cycle_Index\":[1,2,3,4,5,6,7,8,9,10,11,12,13,14,15,16,17,18,19,20,21,22,23,24,25,26,27,28,29,30,31,32,33,34,35,36]},\"selected\":{\"id\":\"2510\",\"type\":\"Selection\"},\"selection_policy\":{\"id\":\"2511\",\"type\":\"UnionRenderers\"}},\"id\":\"2349\",\"type\":\"ColumnDataSource\"},{\"attributes\":{\"fill_alpha\":{\"value\":0.1},\"fill_color\":{\"value\":\"#1f77b4\"},\"line_alpha\":{\"value\":0.1},\"line_color\":{\"value\":\"#1f77b4\"},\"size\":{\"units\":\"screen\",\"value\":12},\"x\":{\"field\":\"Cycle_Index\"},\"y\":{\"field\":\"20160805_test001_47_cc\"}},\"id\":\"2396\",\"type\":\"Scatter\"},{\"attributes\":{\"data_source\":{\"id\":\"2349\",\"type\":\"ColumnDataSource\"},\"glyph\":{\"id\":\"2395\",\"type\":\"Scatter\"},\"hover_glyph\":null,\"muted_glyph\":null,\"nonselection_glyph\":{\"id\":\"2396\",\"type\":\"Scatter\"},\"selection_glyph\":null,\"view\":{\"id\":\"2398\",\"type\":\"CDSView\"}},\"id\":\"2397\",\"type\":\"GlyphRenderer\"},{\"attributes\":{\"label\":{\"value\":\"test001_47\"},\"renderers\":[{\"id\":\"2329\",\"type\":\"GlyphRenderer\"},{\"id\":\"2334\",\"type\":\"GlyphRenderer\"},{\"id\":\"2339\",\"type\":\"GlyphRenderer\"},{\"id\":\"2344\",\"type\":\"GlyphRenderer\"}]},\"id\":\"2348\",\"type\":\"LegendItem\"},{\"attributes\":{\"data_source\":{\"id\":\"2349\",\"type\":\"ColumnDataSource\"},\"glyph\":{\"id\":\"2400\",\"type\":\"Line\"},\"hover_glyph\":null,\"muted_glyph\":null,\"nonselection_glyph\":{\"id\":\"2401\",\"type\":\"Line\"},\"selection_glyph\":null,\"view\":{\"id\":\"2403\",\"type\":\"CDSView\"}},\"id\":\"2402\",\"type\":\"GlyphRenderer\"},{\"attributes\":{},\"id\":\"2511\",\"type\":\"UnionRenderers\"},{\"attributes\":{\"data_source\":{\"id\":\"2214\",\"type\":\"ColumnDataSource\"},\"glyph\":{\"id\":\"2251\",\"type\":\"Scatter\"},\"hover_glyph\":null,\"muted_glyph\":null,\"nonselection_glyph\":{\"id\":\"2252\",\"type\":\"Scatter\"},\"selection_glyph\":null,\"view\":{\"id\":\"2254\",\"type\":\"CDSView\"}},\"id\":\"2253\",\"type\":\"GlyphRenderer\"},{\"attributes\":{\"formatter\":{\"id\":\"2490\",\"type\":\"BasicTickFormatter\"},\"plot\":{\"id\":\"2215\",\"subtype\":\"Figure\",\"type\":\"Plot\"},\"ticker\":{\"id\":\"2226\",\"type\":\"BasicTicker\"},\"visible\":false},\"id\":\"2225\",\"type\":\"LinearAxis\"},{\"attributes\":{\"line_alpha\":0.1,\"line_color\":\"#1f77b4\",\"line_dash\":[0,0],\"x\":{\"field\":\"Cycle_Index\"},\"y\":{\"field\":\"20160805_test001_47_cc\"}},\"id\":\"2343\",\"type\":\"Line\"},{\"attributes\":{\"source\":{\"id\":\"2349\",\"type\":\"ColumnDataSource\"}},\"id\":\"2403\",\"type\":\"CDSView\"},{\"attributes\":{},\"id\":\"2226\",\"type\":\"BasicTicker\"},{\"attributes\":{\"source\":{\"id\":\"2271\",\"type\":\"ColumnDataSource\"}},\"id\":\"2325\",\"type\":\"CDSView\"},{\"attributes\":{},\"id\":\"2357\",\"type\":\"LinearScale\"},{\"attributes\":{\"overlay\":{\"id\":\"2243\",\"type\":\"BoxAnnotation\"}},\"id\":\"2237\",\"type\":\"BoxZoomTool\"},{\"attributes\":{\"callback\":null},\"id\":\"2353\",\"type\":\"DataRange1d\"},{\"attributes\":{\"fill_color\":{\"value\":\"#2c7fb8\"},\"line_color\":{\"value\":\"#2c7fb8\"},\"size\":{\"units\":\"screen\",\"value\":12},\"x\":{\"field\":\"Cycle_Index\"},\"y\":{\"field\":\"20160805_test001_45_cc\"}},\"id\":\"2385\",\"type\":\"Scatter\"},{\"attributes\":{\"source\":{\"id\":\"2349\",\"type\":\"ColumnDataSource\"}},\"id\":\"2388\",\"type\":\"CDSView\"},{\"attributes\":{},\"id\":\"2492\",\"type\":\"BasicTickFormatter\"},{\"attributes\":{\"fill_color\":{\"value\":\"#7fcdbb\"},\"line_color\":{\"value\":\"#7fcdbb\"},\"size\":{\"units\":\"screen\",\"value\":12},\"x\":{\"field\":\"Cycle_Index\"},\"y\":{\"field\":\"20160805_test001_47_cc\"}},\"id\":\"2261\",\"type\":\"Scatter\"},{\"attributes\":{},\"id\":\"2279\",\"type\":\"LinearScale\"},{\"attributes\":{\"source\":{\"id\":\"2214\",\"type\":\"ColumnDataSource\"}},\"id\":\"2269\",\"type\":\"CDSView\"},{\"attributes\":{},\"id\":\"2221\",\"type\":\"LinearScale\"},{\"attributes\":{\"active_drag\":\"auto\",\"active_inspect\":\"auto\",\"active_multi\":null,\"active_scroll\":\"auto\",\"active_tap\":\"auto\",\"tools\":[{\"id\":\"2291\",\"type\":\"PanTool\"},{\"id\":\"2292\",\"type\":\"WheelZoomTool\"},{\"id\":\"2293\",\"type\":\"BoxZoomTool\"},{\"id\":\"2294\",\"type\":\"SaveTool\"},{\"id\":\"2295\",\"type\":\"ResetTool\"},{\"id\":\"2296\",\"type\":\"HelpTool\"},{\"id\":\"2404\",\"type\":\"HoverTool\"}]},\"id\":\"2297\",\"type\":\"Toolbar\"},{\"attributes\":{\"data_source\":{\"id\":\"2349\",\"type\":\"ColumnDataSource\"},\"glyph\":{\"id\":\"2385\",\"type\":\"Scatter\"},\"hover_glyph\":null,\"muted_glyph\":null,\"nonselection_glyph\":{\"id\":\"2386\",\"type\":\"Scatter\"},\"selection_glyph\":null,\"view\":{\"id\":\"2388\",\"type\":\"CDSView\"}},\"id\":\"2387\",\"type\":\"GlyphRenderer\"},{\"attributes\":{},\"id\":\"2490\",\"type\":\"BasicTickFormatter\"},{\"attributes\":{\"line_alpha\":0.1,\"line_color\":\"#1f77b4\",\"line_dash\":[0,0],\"x\":{\"field\":\"Cycle_Index\"},\"y\":{\"field\":\"20160805_test001_47_cc\"}},\"id\":\"2401\",\"type\":\"Line\"},{\"attributes\":{\"line_color\":\"#2c7fb8\",\"line_dash\":[0,0],\"x\":{\"field\":\"Cycle_Index\"},\"y\":{\"field\":\"20160805_test001_45_cc\"}},\"id\":\"2256\",\"type\":\"Line\"},{\"attributes\":{},\"id\":\"2287\",\"type\":\"BasicTicker\"},{\"attributes\":{\"callback\":null},\"id\":\"2217\",\"type\":\"DataRange1d\"},{\"attributes\":{\"line_alpha\":0.1,\"line_color\":\"#1f77b4\",\"line_dash\":[0,0],\"x\":{\"field\":\"Cycle_Index\"},\"y\":{\"field\":\"20160805_test001_45_cc\"}},\"id\":\"2391\",\"type\":\"Line\"},{\"attributes\":{\"plot\":{\"id\":\"2215\",\"subtype\":\"Figure\",\"type\":\"Plot\"},\"ticker\":{\"id\":\"2226\",\"type\":\"BasicTicker\"}},\"id\":\"2229\",\"type\":\"Grid\"},{\"attributes\":{\"source\":{\"id\":\"2271\",\"type\":\"ColumnDataSource\"}},\"id\":\"2340\",\"type\":\"CDSView\"},{\"attributes\":{\"line_alpha\":0.1,\"line_color\":\"#1f77b4\",\"line_dash\":[0,0],\"x\":{\"field\":\"Cycle_Index\"},\"y\":{\"field\":\"20160805_test001_45_cc\"}},\"id\":\"2257\",\"type\":\"Line\"},{\"attributes\":{\"axis_label\":\"Cycle number\",\"formatter\":{\"id\":\"2498\",\"type\":\"BasicTickFormatter\"},\"plot\":{\"id\":\"2350\",\"subtype\":\"Figure\",\"type\":\"Plot\"},\"ticker\":{\"id\":\"2360\",\"type\":\"BasicTicker\"}},\"id\":\"2359\",\"type\":\"LinearAxis\"},{\"attributes\":{\"line_color\":\"#2c7fb8\",\"line_dash\":[0,0],\"x\":{\"field\":\"Cycle_Index\"},\"y\":{\"field\":\"20160805_test001_45_cc\"}},\"id\":\"2322\",\"type\":\"Line\"},{\"attributes\":{},\"id\":\"2500\",\"type\":\"BasicTickFormatter\"},{\"attributes\":{\"axis_label\":\"Coulombic efficiency (%)\",\"formatter\":{\"id\":\"2492\",\"type\":\"BasicTickFormatter\"},\"plot\":{\"id\":\"2215\",\"subtype\":\"Figure\",\"type\":\"Plot\"},\"ticker\":{\"id\":\"2231\",\"type\":\"BasicTicker\"}},\"id\":\"2230\",\"type\":\"LinearAxis\"},{\"attributes\":{},\"id\":\"2223\",\"type\":\"LinearScale\"},{\"attributes\":{},\"id\":\"2506\",\"type\":\"UnionRenderers\"},{\"attributes\":{\"line_color\":\"#2c7fb8\",\"line_dash\":[0,0],\"x\":{\"field\":\"Cycle_Index\"},\"y\":{\"field\":\"20160805_test001_45_cc\"}},\"id\":\"2312\",\"type\":\"Line\"},{\"attributes\":{\"fill_color\":{\"value\":\"#7fcdbb\"},\"line_color\":{\"value\":\"#7fcdbb\"},\"size\":{\"units\":\"screen\",\"value\":12},\"x\":{\"field\":\"Cycle_Index\"},\"y\":{\"field\":\"20160805_test001_47_cc\"}},\"id\":\"2395\",\"type\":\"Scatter\"},{\"attributes\":{},\"id\":\"2494\",\"type\":\"BasicTickFormatter\"},{\"attributes\":{\"axis_label\":\"Capacity (mAh/g)\",\"formatter\":{\"id\":\"2496\",\"type\":\"BasicTickFormatter\"},\"plot\":{\"id\":\"2272\",\"subtype\":\"Figure\",\"type\":\"Plot\"},\"ticker\":{\"id\":\"2287\",\"type\":\"BasicTicker\"}},\"id\":\"2286\",\"type\":\"LinearAxis\"},{\"attributes\":{},\"id\":\"2235\",\"type\":\"PanTool\"},{\"attributes\":{},\"id\":\"2498\",\"type\":\"BasicTickFormatter\"},{\"attributes\":{},\"id\":\"2238\",\"type\":\"SaveTool\"},{\"attributes\":{},\"id\":\"2503\",\"type\":\"UnionRenderers\"},{\"attributes\":{\"fill_alpha\":{\"value\":0.1},\"fill_color\":{\"value\":\"#1f77b4\"},\"line_alpha\":{\"value\":0.1},\"line_color\":{\"value\":\"#1f77b4\"},\"size\":{\"units\":\"screen\",\"value\":12},\"x\":{\"field\":\"Cycle_Index\"},\"y\":{\"field\":\"20160805_test001_45_cc\"}},\"id\":\"2386\",\"type\":\"Scatter\"},{\"attributes\":{\"fill_alpha\":{\"value\":0.1},\"fill_color\":{\"value\":\"#1f77b4\"},\"line_alpha\":{\"value\":0.1},\"line_color\":{\"value\":\"#1f77b4\"},\"size\":{\"units\":\"screen\",\"value\":12},\"x\":{\"field\":\"Cycle_Index\"},\"y\":{\"field\":\"20160805_test001_45_cc\"}},\"id\":\"2252\",\"type\":\"Scatter\"},{\"attributes\":{},\"id\":\"2236\",\"type\":\"WheelZoomTool\"},{\"attributes\":{\"fill_alpha\":{\"value\":0.1},\"fill_color\":{\"value\":\"#1f77b4\"},\"line_alpha\":{\"value\":0.1},\"line_color\":{\"value\":\"#1f77b4\"},\"size\":{\"units\":\"screen\",\"value\":12},\"x\":{\"field\":\"Cycle_Index\"},\"y\":{\"field\":\"20160805_test001_45_cc\"}},\"id\":\"2308\",\"type\":\"Scatter\"},{\"attributes\":{\"data_source\":{\"id\":\"2271\",\"type\":\"ColumnDataSource\"},\"glyph\":{\"id\":\"2342\",\"type\":\"Line\"},\"hover_glyph\":null,\"muted_glyph\":null,\"nonselection_glyph\":{\"id\":\"2343\",\"type\":\"Line\"},\"selection_glyph\":null,\"view\":{\"id\":\"2345\",\"type\":\"CDSView\"}},\"id\":\"2344\",\"type\":\"GlyphRenderer\"},{\"attributes\":{\"fill_color\":{\"value\":\"#7fcdbb\"},\"line_color\":{\"value\":\"#7fcdbb\"},\"size\":{\"units\":\"screen\",\"value\":12},\"x\":{\"field\":\"Cycle_Index\"},\"y\":{\"field\":\"20160805_test001_47_cc\"}},\"id\":\"2327\",\"type\":\"Scatter\"},{\"attributes\":{\"bottom_units\":\"screen\",\"fill_alpha\":{\"value\":0.5},\"fill_color\":{\"value\":\"lightgrey\"},\"left_units\":\"screen\",\"level\":\"overlay\",\"line_alpha\":{\"value\":1.0},\"line_color\":{\"value\":\"black\"},\"line_dash\":[4,4],\"line_width\":{\"value\":2},\"plot\":null,\"render_mode\":\"css\",\"right_units\":\"screen\",\"top_units\":\"screen\"},\"id\":\"2377\",\"type\":\"BoxAnnotation\"},{\"attributes\":{\"line_alpha\":0.1,\"line_color\":\"#1f77b4\",\"line_dash\":[0,0],\"x\":{\"field\":\"Cycle_Index\"},\"y\":{\"field\":\"20160805_test001_45_cc\"}},\"id\":\"2323\",\"type\":\"Line\"},{\"attributes\":{\"active_drag\":\"auto\",\"active_inspect\":\"auto\",\"active_multi\":null,\"active_scroll\":\"auto\",\"active_tap\":\"auto\",\"tools\":[{\"id\":\"2369\",\"type\":\"PanTool\"},{\"id\":\"2370\",\"type\":\"WheelZoomTool\"},{\"id\":\"2371\",\"type\":\"BoxZoomTool\"},{\"id\":\"2372\",\"type\":\"SaveTool\"},{\"id\":\"2373\",\"type\":\"ResetTool\"},{\"id\":\"2374\",\"type\":\"HelpTool\"},{\"id\":\"2404\",\"type\":\"HoverTool\"}]},\"id\":\"2375\",\"type\":\"Toolbar\"},{\"attributes\":{\"data_source\":{\"id\":\"2270\",\"type\":\"ColumnDataSource\"},\"glyph\":{\"id\":\"2327\",\"type\":\"Scatter\"},\"hover_glyph\":null,\"muted_glyph\":null,\"nonselection_glyph\":{\"id\":\"2328\",\"type\":\"Scatter\"},\"selection_glyph\":null,\"view\":{\"id\":\"2330\",\"type\":\"CDSView\"}},\"id\":\"2329\",\"type\":\"GlyphRenderer\"},{\"attributes\":{},\"id\":\"2239\",\"type\":\"ResetTool\"},{\"attributes\":{\"data_source\":{\"id\":\"2214\",\"type\":\"ColumnDataSource\"},\"glyph\":{\"id\":\"2256\",\"type\":\"Line\"},\"hover_glyph\":null,\"muted_glyph\":null,\"nonselection_glyph\":{\"id\":\"2257\",\"type\":\"Line\"},\"selection_glyph\":null,\"view\":{\"id\":\"2259\",\"type\":\"CDSView\"}},\"id\":\"2258\",\"type\":\"GlyphRenderer\"},{\"attributes\":{\"fill_color\":{\"value\":null},\"line_color\":{\"value\":\"#7fcdbb\"},\"size\":{\"units\":\"screen\",\"value\":12},\"x\":{\"field\":\"Cycle_Index\"},\"y\":{\"field\":\"20160805_test001_47_cc\"}},\"id\":\"2337\",\"type\":\"Scatter\"},{\"attributes\":{\"line_alpha\":0.1,\"line_color\":\"#1f77b4\",\"line_dash\":[0,0],\"x\":{\"field\":\"Cycle_Index\"},\"y\":{\"field\":\"20160805_test001_47_cc\"}},\"id\":\"2333\",\"type\":\"Line\"},{\"attributes\":{\"callback\":null,\"data\":{\"20160805_test001_45_cc\":{\"__ndarray__\":\"0EzxSqT+WkCCc7H+mA5XQGDsuHMk5VZAbks36cgRWEBFIkhjufRXQGghSsNd61dAbnMo4HryV0DK1DiOAedXQDQmFqcO9ldAXuN9NybwV0AkkrRsn/NXQPE8YmPX9VdAsK5fxxr3V0BF4BB05QJYQOrSHtfx+ldAB6twl00QWECJ0xMS7gFYQAAAAAAAAPB/0EzxSqT+WkCCc7H+mA5XQGDsuHMk5VZAbks36cgRWEBFIkhjufRXQGghSsNd61dAbnMo4HryV0DK1DiOAedXQDQmFqcO9ldAXuN9NybwV0AkkrRsn/NXQPE8YmPX9VdAsK5fxxr3V0BF4BB05QJYQOrSHtfx+ldAB6twl00QWECJ0xMS7gFYQAAAAAAAAPB/\",\"dtype\":\"float64\",\"shape\":[36]},\"20160805_test001_47_cc\":{\"__ndarray__\":\"0UzxSqT+WkCCc7H+mA5XQF/suHMk5VZAbks36cgRWEBFIkhjufRXQGghSsNd61dAbnMo4HryV0DK1DiOAedXQDUmFqcO9ldAX+N9NybwV0AjkrRsn/NXQPE8YmPX9VdAsK5fxxr3V0BG4BB05QJYQOrSHtfx+ldABqtwl00QWECI0xMS7gFYQAAAAAAAAPB/AAAAAAAA+H8AAAAAAAD4fwAAAAAAAPh/AAAAAAAA+H8AAAAAAAD4fwAAAAAAAPh/AAAAAAAA+H8AAAAAAAD4fwAAAAAAAPh/AAAAAAAA+H8AAAAAAAD4fwAAAAAAAPh/AAAAAAAA+H8AAAAAAAD4fwAAAAAAAPh/AAAAAAAA+H8AAAAAAAD4fwAAAAAAAPh/\",\"dtype\":\"float64\",\"shape\":[36]},\"Cycle_Index\":[1,2,3,4,5,6,7,8,9,10,11,12,13,14,15,16,17,18,19,20,21,22,23,24,25,26,27,28,29,30,31,32,33,34,35,36]},\"selected\":{\"id\":\"2502\",\"type\":\"Selection\"},\"selection_policy\":{\"id\":\"2503\",\"type\":\"UnionRenderers\"}},\"id\":\"2214\",\"type\":\"ColumnDataSource\"},{\"attributes\":{\"below\":[{\"id\":\"2359\",\"type\":\"LinearAxis\"}],\"left\":[{\"id\":\"2364\",\"type\":\"LinearAxis\"}],\"plot_height\":240,\"plot_width\":900,\"renderers\":[{\"id\":\"2359\",\"type\":\"LinearAxis\"},{\"id\":\"2363\",\"type\":\"Grid\"},{\"id\":\"2364\",\"type\":\"LinearAxis\"},{\"id\":\"2368\",\"type\":\"Grid\"},{\"id\":\"2377\",\"type\":\"BoxAnnotation\"},{\"id\":\"2387\",\"type\":\"GlyphRenderer\"},{\"id\":\"2392\",\"type\":\"GlyphRenderer\"},{\"id\":\"2397\",\"type\":\"GlyphRenderer\"},{\"id\":\"2402\",\"type\":\"GlyphRenderer\"}],\"title\":null,\"toolbar\":{\"id\":\"2375\",\"type\":\"Toolbar\"},\"x_range\":{\"id\":\"2217\",\"type\":\"DataRange1d\"},\"x_scale\":{\"id\":\"2355\",\"type\":\"LinearScale\"},\"y_range\":{\"id\":\"2353\",\"type\":\"DataRange1d\"},\"y_scale\":{\"id\":\"2357\",\"type\":\"LinearScale\"}},\"id\":\"2350\",\"subtype\":\"Figure\",\"type\":\"Plot\"},{\"attributes\":{},\"id\":\"2365\",\"type\":\"BasicTicker\"},{\"attributes\":{\"fill_color\":{\"value\":\"#2c7fb8\"},\"line_color\":{\"value\":\"#2c7fb8\"},\"size\":{\"units\":\"screen\",\"value\":12},\"x\":{\"field\":\"Cycle_Index\"},\"y\":{\"field\":\"20160805_test001_45_cc\"}},\"id\":\"2307\",\"type\":\"Scatter\"},{\"attributes\":{},\"id\":\"2292\",\"type\":\"WheelZoomTool\"},{\"attributes\":{},\"id\":\"2294\",\"type\":\"SaveTool\"},{\"attributes\":{},\"id\":\"2291\",\"type\":\"PanTool\"},{\"attributes\":{\"dimension\":1,\"plot\":{\"id\":\"2272\",\"subtype\":\"Figure\",\"type\":\"Plot\"},\"ticker\":{\"id\":\"2287\",\"type\":\"BasicTicker\"}},\"id\":\"2290\",\"type\":\"Grid\"},{\"attributes\":{\"line_color\":\"#7fcdbb\",\"line_dash\":[0,0],\"x\":{\"field\":\"Cycle_Index\"},\"y\":{\"field\":\"20160805_test001_47_cc\"}},\"id\":\"2332\",\"type\":\"Line\"},{\"attributes\":{},\"id\":\"2295\",\"type\":\"ResetTool\"},{\"attributes\":{},\"id\":\"2502\",\"type\":\"Selection\"},{\"attributes\":{\"data_source\":{\"id\":\"2214\",\"type\":\"ColumnDataSource\"},\"glyph\":{\"id\":\"2261\",\"type\":\"Scatter\"},\"hover_glyph\":null,\"muted_glyph\":null,\"nonselection_glyph\":{\"id\":\"2262\",\"type\":\"Scatter\"},\"selection_glyph\":null,\"view\":{\"id\":\"2264\",\"type\":\"CDSView\"}},\"id\":\"2263\",\"type\":\"GlyphRenderer\"},{\"attributes\":{},\"id\":\"2296\",\"type\":\"HelpTool\"},{\"attributes\":{},\"id\":\"2369\",\"type\":\"PanTool\"},{\"attributes\":{\"overlay\":{\"id\":\"2299\",\"type\":\"BoxAnnotation\"}},\"id\":\"2293\",\"type\":\"BoxZoomTool\"},{\"attributes\":{},\"id\":\"2277\",\"type\":\"LinearScale\"},{\"attributes\":{\"callback\":null},\"id\":\"2275\",\"type\":\"DataRange1d\"},{\"attributes\":{\"line_color\":\"#7fcdbb\",\"line_dash\":[0,0],\"x\":{\"field\":\"Cycle_Index\"},\"y\":{\"field\":\"20160805_test001_47_cc\"}},\"id\":\"2266\",\"type\":\"Line\"},{\"attributes\":{\"axis_label\":\"IR Charge (Ohm)\",\"formatter\":{\"id\":\"2500\",\"type\":\"BasicTickFormatter\"},\"plot\":{\"id\":\"2350\",\"subtype\":\"Figure\",\"type\":\"Plot\"},\"ticker\":{\"id\":\"2365\",\"type\":\"BasicTicker\"}},\"id\":\"2364\",\"type\":\"LinearAxis\"},{\"attributes\":{\"fill_alpha\":{\"value\":0.1},\"fill_color\":{\"value\":\"#1f77b4\"},\"line_alpha\":{\"value\":0.1},\"line_color\":{\"value\":\"#1f77b4\"},\"size\":{\"units\":\"screen\",\"value\":12},\"x\":{\"field\":\"Cycle_Index\"},\"y\":{\"field\":\"20160805_test001_47_cc\"}},\"id\":\"2338\",\"type\":\"Scatter\"},{\"attributes\":{\"click_policy\":\"hide\",\"items\":[{\"id\":\"2347\",\"type\":\"LegendItem\"},{\"id\":\"2348\",\"type\":\"LegendItem\"}],\"location\":\"bottom_right\",\"plot\":{\"id\":\"2272\",\"subtype\":\"Figure\",\"type\":\"Plot\"}},\"id\":\"2346\",\"type\":\"Legend\"},{\"attributes\":{\"line_alpha\":0.1,\"line_color\":\"#1f77b4\",\"line_dash\":[0,0],\"x\":{\"field\":\"Cycle_Index\"},\"y\":{\"field\":\"20160805_test001_47_cc\"}},\"id\":\"2267\",\"type\":\"Line\"},{\"attributes\":{\"data_source\":{\"id\":\"2270\",\"type\":\"ColumnDataSource\"},\"glyph\":{\"id\":\"2332\",\"type\":\"Line\"},\"hover_glyph\":null,\"muted_glyph\":null,\"nonselection_glyph\":{\"id\":\"2333\",\"type\":\"Line\"},\"selection_glyph\":null,\"view\":{\"id\":\"2335\",\"type\":\"CDSView\"}},\"id\":\"2334\",\"type\":\"GlyphRenderer\"},{\"attributes\":{\"source\":{\"id\":\"2270\",\"type\":\"ColumnDataSource\"}},\"id\":\"2335\",\"type\":\"CDSView\"},{\"attributes\":{\"callback\":null,\"data\":{\"20160805_test001_45_cc\":{\"__ndarray__\":\"OxDHcy7fqkDKl5cazf+nQC3DoRNRR6hAAS8LJjU7p0AJFVc6ZIamQBrmnO2LhKZAB7hubgKEpkCCjKOYuG6mQMOossELG6dAiGSJhiZnpkA4tW3mW6CmQDlALRQlmKZAmN+TOoEUp0BjClsrkQKnQJOPOb3o1qZAsZ304AZep0CzFGEuZG2mQG93PQoBUH1AOxDHcy7fqkDKl5cazf+nQC3DoRNRR6hAAS8LJjU7p0AJFVc6ZIamQBrmnO2LhKZAB7hubgKEpkCCjKOYuG6mQMOossELG6dAiGSJhiZnpkA4tW3mW6CmQDlALRQlmKZAmN+TOoEUp0BjClsrkQKnQJOPOb3o1qZAsZ304AZep0CzFGEuZG2mQG93PQoBUH1A\",\"dtype\":\"float64\",\"shape\":[36]},\"20160805_test001_47_cc\":{\"__ndarray__\":\"isJO+Dqnq0DqrvAId7KoQAN94mgP/KhAcWaghifop0CHAASCFC6nQIndOHkuLKdA1RNw+qArp0BJLP2ouBWnQFYFQbQOx6dASs7KOu4Np0DI0iJ/zUinQNIKS4ZZQKdAxmUAe1PAp0ClP+Th3a2nQK7HF3DwgKdArB1jePwLqEA+qHxYWhSnQBuTMRc5Kn5AAAAAAAAA+H8AAAAAAAD4fwAAAAAAAPh/AAAAAAAA+H8AAAAAAAD4fwAAAAAAAPh/AAAAAAAA+H8AAAAAAAD4fwAAAAAAAPh/AAAAAAAA+H8AAAAAAAD4fwAAAAAAAPh/AAAAAAAA+H8AAAAAAAD4fwAAAAAAAPh/AAAAAAAA+H8AAAAAAAD4fwAAAAAAAPh/\",\"dtype\":\"float64\",\"shape\":[36]},\"Cycle_Index\":[1,2,3,4,5,6,7,8,9,10,11,12,13,14,15,16,17,18,19,20,21,22,23,24,25,26,27,28,29,30,31,32,33,34,35,36]},\"selected\":{\"id\":\"2507\",\"type\":\"Selection\"},\"selection_policy\":{\"id\":\"2508\",\"type\":\"UnionRenderers\"}},\"id\":\"2271\",\"type\":\"ColumnDataSource\"},{\"attributes\":{},\"id\":\"2360\",\"type\":\"BasicTicker\"},{\"attributes\":{\"plot\":{\"id\":\"2350\",\"subtype\":\"Figure\",\"type\":\"Plot\"},\"ticker\":{\"id\":\"2360\",\"type\":\"BasicTicker\"}},\"id\":\"2363\",\"type\":\"Grid\"}],\"root_ids\":[\"2408\"]},\"title\":\"Bokeh Application\",\"version\":\"1.0.4\"}};\n",
       "  var render_items = [{\"docid\":\"6076fa08-3d2a-44d1-bff1-9c490de464bb\",\"roots\":{\"2408\":\"77009a4b-7b5d-434b-8872-cb7f5f2c8caa\"}}];\n",
       "  root.Bokeh.embed.embed_items_notebook(docs_json, render_items);\n",
       "\n",
       "  }\n",
       "  if (root.Bokeh !== undefined) {\n",
       "    embed_document(root);\n",
       "  } else {\n",
       "    var attempts = 0;\n",
       "    var timer = setInterval(function(root) {\n",
       "      if (root.Bokeh !== undefined) {\n",
       "        embed_document(root);\n",
       "        clearInterval(timer);\n",
       "      }\n",
       "      attempts++;\n",
       "      if (attempts > 100) {\n",
       "        console.log(\"Bokeh: ERROR: Unable to run BokehJS code because BokehJS library is missing\");\n",
       "        clearInterval(timer);\n",
       "      }\n",
       "    }, 10, root)\n",
       "  }\n",
       "})(window);"
      ],
      "application/vnd.bokehjs_exec.v0+json": ""
     },
     "metadata": {
      "application/vnd.bokehjs_exec.v0+json": {
       "id": "2408"
      }
     },
     "output_type": "display_data"
    }
   ],
   "source": [
    "# Plot the charge capacity and the C.E. (and resistance) vs. cycle number (standard plot)\n",
    "b.plot_summaries()"
   ]
  },
  {
   "cell_type": "code",
   "execution_count": 58,
   "metadata": {},
   "outputs": [
    {
     "data": {
      "text/html": [
       "<div>\n",
       "<style scoped>\n",
       "    .dataframe tbody tr th:only-of-type {\n",
       "        vertical-align: middle;\n",
       "    }\n",
       "\n",
       "    .dataframe tbody tr th {\n",
       "        vertical-align: top;\n",
       "    }\n",
       "\n",
       "    .dataframe thead th {\n",
       "        text-align: right;\n",
       "    }\n",
       "</style>\n",
       "<table border=\"1\" class=\"dataframe\">\n",
       "  <thead>\n",
       "    <tr style=\"text-align: right;\">\n",
       "      <th></th>\n",
       "      <th>masses</th>\n",
       "      <th>total_masses</th>\n",
       "      <th>loadings</th>\n",
       "      <th>fixed</th>\n",
       "      <th>labels</th>\n",
       "      <th>cell_type</th>\n",
       "      <th>raw_file_names</th>\n",
       "      <th>cellpy_file_names</th>\n",
       "      <th>groups</th>\n",
       "      <th>sub_groups</th>\n",
       "    </tr>\n",
       "    <tr>\n",
       "      <th>filenames</th>\n",
       "      <th></th>\n",
       "      <th></th>\n",
       "      <th></th>\n",
       "      <th></th>\n",
       "      <th></th>\n",
       "      <th></th>\n",
       "      <th></th>\n",
       "      <th></th>\n",
       "      <th></th>\n",
       "      <th></th>\n",
       "    </tr>\n",
       "  </thead>\n",
       "  <tbody>\n",
       "    <tr>\n",
       "      <th>20160805_test001_45_cc</th>\n",
       "      <td>0.510262</td>\n",
       "      <td>2.8175</td>\n",
       "      <td>0.956369</td>\n",
       "      <td>True</td>\n",
       "      <td>test001_45</td>\n",
       "      <td>nan</td>\n",
       "      <td>[/Users/jepe/scripting/cellpy/testdata/data/20...</td>\n",
       "      <td>/Users/jepe/scripting/cellpy/testdata/hdf5/201...</td>\n",
       "      <td>1</td>\n",
       "      <td>1</td>\n",
       "    </tr>\n",
       "    <tr>\n",
       "      <th>20160805_test001_47_cc</th>\n",
       "      <td>0.495843</td>\n",
       "      <td>2.6975</td>\n",
       "      <td>0.915636</td>\n",
       "      <td>False</td>\n",
       "      <td>test001_47</td>\n",
       "      <td>nan</td>\n",
       "      <td>[/Users/jepe/scripting/cellpy/testdata/data/20...</td>\n",
       "      <td>/Users/jepe/scripting/cellpy/testdata/hdf5/201...</td>\n",
       "      <td>2</td>\n",
       "      <td>1</td>\n",
       "    </tr>\n",
       "  </tbody>\n",
       "</table>\n",
       "</div>"
      ],
      "text/plain": [
       "                          masses  total_masses  loadings  fixed      labels  \\\n",
       "filenames                                                                     \n",
       "20160805_test001_45_cc  0.510262        2.8175  0.956369   True  test001_45   \n",
       "20160805_test001_47_cc  0.495843        2.6975  0.915636  False  test001_47   \n",
       "\n",
       "                       cell_type  \\\n",
       "filenames                          \n",
       "20160805_test001_45_cc       nan   \n",
       "20160805_test001_47_cc       nan   \n",
       "\n",
       "                                                           raw_file_names  \\\n",
       "filenames                                                                   \n",
       "20160805_test001_45_cc  [/Users/jepe/scripting/cellpy/testdata/data/20...   \n",
       "20160805_test001_47_cc  [/Users/jepe/scripting/cellpy/testdata/data/20...   \n",
       "\n",
       "                                                        cellpy_file_names  \\\n",
       "filenames                                                                   \n",
       "20160805_test001_45_cc  /Users/jepe/scripting/cellpy/testdata/hdf5/201...   \n",
       "20160805_test001_47_cc  /Users/jepe/scripting/cellpy/testdata/hdf5/201...   \n",
       "\n",
       "                        groups  sub_groups  \n",
       "filenames                                   \n",
       "20160805_test001_45_cc       1           1  \n",
       "20160805_test001_47_cc       2           1  "
      ]
     },
     "execution_count": 58,
     "metadata": {},
     "output_type": "execute_result"
    }
   ],
   "source": [
    "# Show the journal pages\n",
    "b.experiment.journal.pages.head()"
   ]
  },
  {
   "cell_type": "code",
   "execution_count": 59,
   "metadata": {},
   "outputs": [],
   "source": [
    "# b.experiment.status()"
   ]
  },
  {
   "cell_type": "code",
   "execution_count": 13,
   "metadata": {},
   "outputs": [
    {
     "data": {
      "text/html": [
       "<div>\n",
       "<style scoped>\n",
       "    .dataframe tbody tr th:only-of-type {\n",
       "        vertical-align: middle;\n",
       "    }\n",
       "\n",
       "    .dataframe tbody tr th {\n",
       "        vertical-align: top;\n",
       "    }\n",
       "\n",
       "    .dataframe thead tr th {\n",
       "        text-align: left;\n",
       "    }\n",
       "\n",
       "    .dataframe thead tr:last-of-type th {\n",
       "        text-align: right;\n",
       "    }\n",
       "</style>\n",
       "<table border=\"1\" class=\"dataframe\">\n",
       "  <thead>\n",
       "    <tr>\n",
       "      <th></th>\n",
       "      <th colspan=\"2\" halign=\"left\">discharge_capacity</th>\n",
       "      <th colspan=\"2\" halign=\"left\">charge_capacity</th>\n",
       "      <th colspan=\"2\" halign=\"left\">coulombic_efficiency</th>\n",
       "      <th colspan=\"2\" halign=\"left\">cumulated_coulombic_efficiency</th>\n",
       "      <th colspan=\"2\" halign=\"left\">ir_discharge</th>\n",
       "      <th colspan=\"2\" halign=\"left\">ir_charge</th>\n",
       "      <th colspan=\"2\" halign=\"left\">end_voltage_discharge</th>\n",
       "      <th colspan=\"2\" halign=\"left\">end_voltage_charge</th>\n",
       "    </tr>\n",
       "    <tr>\n",
       "      <th></th>\n",
       "      <th>20160805_test001_45_cc</th>\n",
       "      <th>20160805_test001_47_cc</th>\n",
       "      <th>20160805_test001_45_cc</th>\n",
       "      <th>20160805_test001_47_cc</th>\n",
       "      <th>20160805_test001_45_cc</th>\n",
       "      <th>20160805_test001_47_cc</th>\n",
       "      <th>20160805_test001_45_cc</th>\n",
       "      <th>20160805_test001_47_cc</th>\n",
       "      <th>20160805_test001_45_cc</th>\n",
       "      <th>20160805_test001_47_cc</th>\n",
       "      <th>20160805_test001_45_cc</th>\n",
       "      <th>20160805_test001_47_cc</th>\n",
       "      <th>20160805_test001_45_cc</th>\n",
       "      <th>20160805_test001_47_cc</th>\n",
       "      <th>20160805_test001_45_cc</th>\n",
       "      <th>20160805_test001_47_cc</th>\n",
       "    </tr>\n",
       "    <tr>\n",
       "      <th>Cycle_Index</th>\n",
       "      <th></th>\n",
       "      <th></th>\n",
       "      <th></th>\n",
       "      <th></th>\n",
       "      <th></th>\n",
       "      <th></th>\n",
       "      <th></th>\n",
       "      <th></th>\n",
       "      <th></th>\n",
       "      <th></th>\n",
       "      <th></th>\n",
       "      <th></th>\n",
       "      <th></th>\n",
       "      <th></th>\n",
       "      <th></th>\n",
       "      <th></th>\n",
       "    </tr>\n",
       "  </thead>\n",
       "  <tbody>\n",
       "    <tr>\n",
       "      <th>1</th>\n",
       "      <td>3439.590727</td>\n",
       "      <td>3539.615176</td>\n",
       "      <td>3185.432177</td>\n",
       "      <td>3278.065610</td>\n",
       "      <td>107.978778</td>\n",
       "      <td>107.978778</td>\n",
       "      <td>107.978778</td>\n",
       "      <td>107.978778</td>\n",
       "      <td>56.486603</td>\n",
       "      <td>56.486603</td>\n",
       "      <td>48.372887</td>\n",
       "      <td>48.372887</td>\n",
       "      <td>0.049894</td>\n",
       "      <td>0.049894</td>\n",
       "      <td>1.000113</td>\n",
       "      <td>1.000113</td>\n",
       "    </tr>\n",
       "    <tr>\n",
       "      <th>2</th>\n",
       "      <td>3071.900594</td>\n",
       "      <td>3161.232490</td>\n",
       "      <td>3330.764692</td>\n",
       "      <td>3427.624443</td>\n",
       "      <td>92.228088</td>\n",
       "      <td>92.228088</td>\n",
       "      <td>200.206866</td>\n",
       "      <td>200.206866</td>\n",
       "      <td>14.831962</td>\n",
       "      <td>14.831962</td>\n",
       "      <td>43.793484</td>\n",
       "      <td>43.793484</td>\n",
       "      <td>0.049894</td>\n",
       "      <td>0.049894</td>\n",
       "      <td>1.000113</td>\n",
       "      <td>1.000113</td>\n",
       "    </tr>\n",
       "    <tr>\n",
       "      <th>3</th>\n",
       "      <td>3107.658353</td>\n",
       "      <td>3198.030097</td>\n",
       "      <td>3393.368073</td>\n",
       "      <td>3492.048351</td>\n",
       "      <td>91.580350</td>\n",
       "      <td>91.580350</td>\n",
       "      <td>291.787216</td>\n",
       "      <td>291.787216</td>\n",
       "      <td>14.545353</td>\n",
       "      <td>14.545353</td>\n",
       "      <td>35.437023</td>\n",
       "      <td>35.437023</td>\n",
       "      <td>0.049894</td>\n",
       "      <td>0.049894</td>\n",
       "      <td>1.000113</td>\n",
       "      <td>1.000113</td>\n",
       "    </tr>\n",
       "    <tr>\n",
       "      <th>4</th>\n",
       "      <td>2973.603806</td>\n",
       "      <td>3060.077199</td>\n",
       "      <td>3088.563614</td>\n",
       "      <td>3178.380077</td>\n",
       "      <td>96.277888</td>\n",
       "      <td>96.277888</td>\n",
       "      <td>388.065103</td>\n",
       "      <td>388.065103</td>\n",
       "      <td>14.229149</td>\n",
       "      <td>14.229149</td>\n",
       "      <td>39.807651</td>\n",
       "      <td>39.807651</td>\n",
       "      <td>0.049894</td>\n",
       "      <td>0.049894</td>\n",
       "      <td>1.000113</td>\n",
       "      <td>1.000113</td>\n",
       "    </tr>\n",
       "    <tr>\n",
       "      <th>5</th>\n",
       "      <td>2883.195758</td>\n",
       "      <td>2967.040054</td>\n",
       "      <td>3008.850934</td>\n",
       "      <td>3096.349325</td>\n",
       "      <td>95.823815</td>\n",
       "      <td>95.823815</td>\n",
       "      <td>483.888918</td>\n",
       "      <td>483.888918</td>\n",
       "      <td>12.762250</td>\n",
       "      <td>12.762250</td>\n",
       "      <td>43.704582</td>\n",
       "      <td>43.704582</td>\n",
       "      <td>0.049894</td>\n",
       "      <td>0.049894</td>\n",
       "      <td>1.000113</td>\n",
       "      <td>1.000113</td>\n",
       "    </tr>\n",
       "  </tbody>\n",
       "</table>\n",
       "</div>"
      ],
      "text/plain": [
       "                discharge_capacity                         \\\n",
       "            20160805_test001_45_cc 20160805_test001_47_cc   \n",
       "Cycle_Index                                                 \n",
       "1                      3439.590727            3539.615176   \n",
       "2                      3071.900594            3161.232490   \n",
       "3                      3107.658353            3198.030097   \n",
       "4                      2973.603806            3060.077199   \n",
       "5                      2883.195758            2967.040054   \n",
       "\n",
       "                   charge_capacity                         \\\n",
       "            20160805_test001_45_cc 20160805_test001_47_cc   \n",
       "Cycle_Index                                                 \n",
       "1                      3185.432177            3278.065610   \n",
       "2                      3330.764692            3427.624443   \n",
       "3                      3393.368073            3492.048351   \n",
       "4                      3088.563614            3178.380077   \n",
       "5                      3008.850934            3096.349325   \n",
       "\n",
       "              coulombic_efficiency                         \\\n",
       "            20160805_test001_45_cc 20160805_test001_47_cc   \n",
       "Cycle_Index                                                 \n",
       "1                       107.978778             107.978778   \n",
       "2                        92.228088              92.228088   \n",
       "3                        91.580350              91.580350   \n",
       "4                        96.277888              96.277888   \n",
       "5                        95.823815              95.823815   \n",
       "\n",
       "            cumulated_coulombic_efficiency                         \\\n",
       "                    20160805_test001_45_cc 20160805_test001_47_cc   \n",
       "Cycle_Index                                                         \n",
       "1                               107.978778             107.978778   \n",
       "2                               200.206866             200.206866   \n",
       "3                               291.787216             291.787216   \n",
       "4                               388.065103             388.065103   \n",
       "5                               483.888918             483.888918   \n",
       "\n",
       "                      ir_discharge                         \\\n",
       "            20160805_test001_45_cc 20160805_test001_47_cc   \n",
       "Cycle_Index                                                 \n",
       "1                        56.486603              56.486603   \n",
       "2                        14.831962              14.831962   \n",
       "3                        14.545353              14.545353   \n",
       "4                        14.229149              14.229149   \n",
       "5                        12.762250              12.762250   \n",
       "\n",
       "                         ir_charge                         \\\n",
       "            20160805_test001_45_cc 20160805_test001_47_cc   \n",
       "Cycle_Index                                                 \n",
       "1                        48.372887              48.372887   \n",
       "2                        43.793484              43.793484   \n",
       "3                        35.437023              35.437023   \n",
       "4                        39.807651              39.807651   \n",
       "5                        43.704582              43.704582   \n",
       "\n",
       "             end_voltage_discharge                         \\\n",
       "            20160805_test001_45_cc 20160805_test001_47_cc   \n",
       "Cycle_Index                                                 \n",
       "1                         0.049894               0.049894   \n",
       "2                         0.049894               0.049894   \n",
       "3                         0.049894               0.049894   \n",
       "4                         0.049894               0.049894   \n",
       "5                         0.049894               0.049894   \n",
       "\n",
       "                end_voltage_charge                         \n",
       "            20160805_test001_45_cc 20160805_test001_47_cc  \n",
       "Cycle_Index                                                \n",
       "1                         1.000113               1.000113  \n",
       "2                         1.000113               1.000113  \n",
       "3                         1.000113               1.000113  \n",
       "4                         1.000113               1.000113  \n",
       "5                         1.000113               1.000113  "
      ]
     },
     "execution_count": 13,
     "metadata": {},
     "output_type": "execute_result"
    }
   ],
   "source": [
    "b.summaries.head()"
   ]
  },
  {
   "cell_type": "markdown",
   "metadata": {},
   "source": [
    "### Using hvplot for plotting summaries"
   ]
  },
  {
   "cell_type": "code",
   "execution_count": 96,
   "metadata": {},
   "outputs": [],
   "source": [
    "import hvplot.pandas"
   ]
  },
  {
   "cell_type": "code",
   "execution_count": 108,
   "metadata": {},
   "outputs": [],
   "source": [
    "# hvplot does not like infinities\n",
    "s = b.summaries.replace([np.inf, -np.inf], np.nan)"
   ]
  },
  {
   "cell_type": "code",
   "execution_count": 115,
   "metadata": {},
   "outputs": [
    {
     "data": {
      "application/javascript": [
       "\n",
       "// Ugly hack - see HoloViews #2574 for more information\n",
       "if (!(document.getElementById('13862')) && !(document.getElementById('_anim_imgNone'))) {\n",
       "  console.log(\"Creating DOM nodes dynamically for assumed nbconvert export. To generate clean HTML output set HV_DOC_HTML as an environment variable.\")\n",
       "  var htmlObject = document.createElement('div');\n",
       "  htmlObject.innerHTML = `<div id='13862' style='display: table; margin: 0 auto;'>\n",
       "\n",
       "\n",
       "\n",
       "\n",
       "\n",
       "  <div class=\"bk-root\" id=\"3d2afbdf-b438-4a9c-a22e-f51f0860dc1a\" data-root-id=\"13862\"></div>\n",
       "</div>`;\n",
       "  var scriptTags = document.getElementsByTagName('script');\n",
       "  var parentTag = scriptTags[scriptTags.length-1].parentNode;\n",
       "  if (parentTag.attributes.length && (parentTag.attributes[0].name == 'data-shell-mode')) {\n",
       "    alert('Displaying PyViz objects in JupyterLab requires the jupyterlab_pyviz extension to be installed, install it with:\\n\\n\\tjupyter labextension install @pyviz/jupyterlab_pyviz');\n",
       "  } else {\n",
       "    parentTag.append(htmlObject)\n",
       "  }\n",
       "}\n",
       "(function(root) {\n",
       "  function embed_document(root) {\n",
       "    \n",
       "  var docs_json = {\"a2a86d5c-16c6-4bf2-852c-74c3100c9818\":{\"roots\":{\"references\":[{\"attributes\":{\"children\":[{\"id\":\"13861\",\"type\":\"ToolbarBox\"},{\"id\":\"13859\",\"type\":\"Column\"}]},\"id\":\"13862\",\"type\":\"Column\"},{\"attributes\":{},\"id\":\"13367\",\"type\":\"Selection\"},{\"attributes\":{\"data_source\":{\"id\":\"13494\",\"type\":\"ColumnDataSource\"},\"glyph\":{\"id\":\"13497\",\"type\":\"Line\"},\"hover_glyph\":null,\"muted_glyph\":{\"id\":\"13499\",\"type\":\"Line\"},\"nonselection_glyph\":{\"id\":\"13498\",\"type\":\"Line\"},\"selection_glyph\":null,\"view\":{\"id\":\"13501\",\"type\":\"CDSView\"}},\"id\":\"13500\",\"type\":\"GlyphRenderer\"},{\"attributes\":{\"source\":{\"id\":\"13494\",\"type\":\"ColumnDataSource\"}},\"id\":\"13501\",\"type\":\"CDSView\"},{\"attributes\":{\"line_color\":\"#1f77b4\",\"line_width\":2,\"x\":{\"field\":\"Cycle_Index\"},\"y\":{\"field\":\"value\"}},\"id\":\"13497\",\"type\":\"Line\"},{\"attributes\":{\"line_alpha\":0.1,\"line_color\":\"#1f77b4\",\"line_width\":2,\"x\":{\"field\":\"Cycle_Index\"},\"y\":{\"field\":\"value\"}},\"id\":\"13498\",\"type\":\"Line\"},{\"attributes\":{\"line_alpha\":0.2,\"line_color\":\"#1f77b4\",\"line_width\":2,\"x\":{\"field\":\"Cycle_Index\"},\"y\":{\"field\":\"value\"}},\"id\":\"13499\",\"type\":\"Line\"},{\"attributes\":{},\"id\":\"13336\",\"type\":\"ResetTool\"},{\"attributes\":{\"data_source\":{\"id\":\"13350\",\"type\":\"ColumnDataSource\"},\"glyph\":{\"id\":\"13353\",\"type\":\"Line\"},\"hover_glyph\":null,\"muted_glyph\":{\"id\":\"13355\",\"type\":\"Line\"},\"nonselection_glyph\":{\"id\":\"13354\",\"type\":\"Line\"},\"selection_glyph\":null,\"view\":{\"id\":\"13357\",\"type\":\"CDSView\"}},\"id\":\"13356\",\"type\":\"GlyphRenderer\"},{\"attributes\":{\"line_alpha\":0.1,\"line_color\":\"#ff7f0e\",\"line_width\":2,\"x\":{\"field\":\"Cycle_Index\"},\"y\":{\"field\":\"value\"}},\"id\":\"13370\",\"type\":\"Line\"},{\"attributes\":{},\"id\":\"13511\",\"type\":\"Selection\"},{\"attributes\":{\"axis_label\":\"\",\"bounds\":\"auto\",\"formatter\":{\"id\":\"13349\",\"type\":\"BasicTickFormatter\"},\"major_label_orientation\":\"horizontal\",\"plot\":{\"id\":\"13314\",\"subtype\":\"Figure\",\"type\":\"Plot\"},\"ticker\":{\"id\":\"13328\",\"type\":\"BasicTicker\"}},\"id\":\"13327\",\"type\":\"LinearAxis\"},{\"attributes\":{\"line_alpha\":0.1,\"line_color\":\"#2ca02c\",\"line_width\":2,\"x\":{\"field\":\"Cycle_Index\"},\"y\":{\"field\":\"value\"}},\"id\":\"13601\",\"type\":\"Line\"},{\"attributes\":{\"callback\":null,\"data\":{\"Cycle_Index\":[1,2,3,4,5,6,7,8,9,10,11,12,13,14,15,16,17,18,19,20,21,22,23,24,25,26,27,28,29,30,31,32,33,34,35,36],\"Variable\":[\"20160805_test001_45_cc\",\"20160805_test001_45_cc\",\"20160805_test001_45_cc\",\"20160805_test001_45_cc\",\"20160805_test001_45_cc\",\"20160805_test001_45_cc\",\"20160805_test001_45_cc\",\"20160805_test001_45_cc\",\"20160805_test001_45_cc\",\"20160805_test001_45_cc\",\"20160805_test001_45_cc\",\"20160805_test001_45_cc\",\"20160805_test001_45_cc\",\"20160805_test001_45_cc\",\"20160805_test001_45_cc\",\"20160805_test001_45_cc\",\"20160805_test001_45_cc\",\"20160805_test001_45_cc\",\"20160805_test001_45_cc\",\"20160805_test001_45_cc\",\"20160805_test001_45_cc\",\"20160805_test001_45_cc\",\"20160805_test001_45_cc\",\"20160805_test001_45_cc\",\"20160805_test001_45_cc\",\"20160805_test001_45_cc\",\"20160805_test001_45_cc\",\"20160805_test001_45_cc\",\"20160805_test001_45_cc\",\"20160805_test001_45_cc\",\"20160805_test001_45_cc\",\"20160805_test001_45_cc\",\"20160805_test001_45_cc\",\"20160805_test001_45_cc\",\"20160805_test001_45_cc\",\"20160805_test001_45_cc\"],\"value\":{\"__ndarray__\":\"0EzxSqT+WkCCc7H+mA5XQGDsuHMk5VZAbks36cgRWEBFIkhjufRXQGghSsNd61dAbnMo4HryV0DK1DiOAedXQDQmFqcO9ldAXuN9NybwV0AkkrRsn/NXQPE8YmPX9VdAsK5fxxr3V0BF4BB05QJYQOrSHtfx+ldAB6twl00QWECJ0xMS7gFYQAAAAAAAAPh/0EzxSqT+WkCCc7H+mA5XQGDsuHMk5VZAbks36cgRWEBFIkhjufRXQGghSsNd61dAbnMo4HryV0DK1DiOAedXQDQmFqcO9ldAXuN9NybwV0AkkrRsn/NXQPE8YmPX9VdAsK5fxxr3V0BF4BB05QJYQOrSHtfx+ldAB6twl00QWECJ0xMS7gFYQAAAAAAAAPh/\",\"dtype\":\"float64\",\"shape\":[36]}},\"selected\":{\"id\":\"13351\",\"type\":\"Selection\"},\"selection_policy\":{\"id\":\"13380\",\"type\":\"UnionRenderers\"}},\"id\":\"13350\",\"type\":\"ColumnDataSource\"},{\"attributes\":{\"data_source\":{\"id\":\"13597\",\"type\":\"ColumnDataSource\"},\"glyph\":{\"id\":\"13600\",\"type\":\"Line\"},\"hover_glyph\":null,\"muted_glyph\":{\"id\":\"13602\",\"type\":\"Line\"},\"nonselection_glyph\":{\"id\":\"13601\",\"type\":\"Line\"},\"selection_glyph\":null,\"view\":{\"id\":\"13604\",\"type\":\"CDSView\"}},\"id\":\"13603\",\"type\":\"GlyphRenderer\"},{\"attributes\":{\"line_alpha\":0.1,\"line_color\":\"#1f77b4\",\"line_width\":2,\"x\":{\"field\":\"Cycle_Index\"},\"y\":{\"field\":\"value\"}},\"id\":\"13354\",\"type\":\"Line\"},{\"attributes\":{},\"id\":\"13328\",\"type\":\"BasicTicker\"},{\"attributes\":{},\"id\":\"13495\",\"type\":\"Selection\"},{\"attributes\":{\"below\":[{\"id\":\"13322\",\"type\":\"LinearAxis\"}],\"left\":[{\"id\":\"13327\",\"type\":\"LinearAxis\"}],\"min_border_bottom\":10,\"min_border_left\":10,\"min_border_right\":10,\"min_border_top\":10,\"plot_height\":300,\"plot_width\":700,\"renderers\":[{\"id\":\"13322\",\"type\":\"LinearAxis\"},{\"id\":\"13326\",\"type\":\"Grid\"},{\"id\":\"13327\",\"type\":\"LinearAxis\"},{\"id\":\"13331\",\"type\":\"Grid\"},{\"id\":\"13341\",\"type\":\"BoxAnnotation\"},{\"id\":\"13364\",\"type\":\"Legend\"},{\"id\":\"13356\",\"type\":\"GlyphRenderer\"},{\"id\":\"13372\",\"type\":\"GlyphRenderer\"},{\"id\":\"13364\",\"type\":\"Legend\"}],\"right\":[{\"id\":\"13364\",\"type\":\"Legend\"}],\"title\":{\"id\":\"13313\",\"type\":\"Title\"},\"toolbar\":{\"id\":\"13337\",\"type\":\"Toolbar\"},\"toolbar_location\":null,\"x_range\":{\"id\":\"13309\",\"type\":\"Range1d\"},\"x_scale\":{\"id\":\"13318\",\"type\":\"LinearScale\"},\"y_range\":{\"id\":\"13310\",\"type\":\"Range1d\"},\"y_scale\":{\"id\":\"13320\",\"type\":\"LinearScale\"}},\"id\":\"13314\",\"subtype\":\"Figure\",\"type\":\"Plot\"},{\"attributes\":{\"line_alpha\":0.2,\"line_color\":\"#2ca02c\",\"line_width\":2,\"x\":{\"field\":\"Cycle_Index\"},\"y\":{\"field\":\"value\"}},\"id\":\"13602\",\"type\":\"Line\"},{\"attributes\":{\"callback\":null,\"data\":{\"Cycle_Index\":[1,2,3,4,5,6,7,8,9,10,11,12,13,14,15,16,17,18,19,20,21,22,23,24,25,26,27,28,29,30,31,32,33,34,35,36],\"Variable\":[\"20160805_test001_45_cc\",\"20160805_test001_45_cc\",\"20160805_test001_45_cc\",\"20160805_test001_45_cc\",\"20160805_test001_45_cc\",\"20160805_test001_45_cc\",\"20160805_test001_45_cc\",\"20160805_test001_45_cc\",\"20160805_test001_45_cc\",\"20160805_test001_45_cc\",\"20160805_test001_45_cc\",\"20160805_test001_45_cc\",\"20160805_test001_45_cc\",\"20160805_test001_45_cc\",\"20160805_test001_45_cc\",\"20160805_test001_45_cc\",\"20160805_test001_45_cc\",\"20160805_test001_45_cc\",\"20160805_test001_45_cc\",\"20160805_test001_45_cc\",\"20160805_test001_45_cc\",\"20160805_test001_45_cc\",\"20160805_test001_45_cc\",\"20160805_test001_45_cc\",\"20160805_test001_45_cc\",\"20160805_test001_45_cc\",\"20160805_test001_45_cc\",\"20160805_test001_45_cc\",\"20160805_test001_45_cc\",\"20160805_test001_45_cc\",\"20160805_test001_45_cc\",\"20160805_test001_45_cc\",\"20160805_test001_45_cc\",\"20160805_test001_45_cc\",\"20160805_test001_45_cc\",\"20160805_test001_45_cc\"],\"value\":{\"__ndarray__\":\"OxDHcy7fqkDKl5cazf+nQC3DoRNRR6hAAS8LJjU7p0AJFVc6ZIamQBrmnO2LhKZAB7hubgKEpkCCjKOYuG6mQMOossELG6dAiGSJhiZnpkA4tW3mW6CmQDlALRQlmKZAmN+TOoEUp0BjClsrkQKnQJOPOb3o1qZAsZ304AZep0CzFGEuZG2mQG93PQoBUH1AOxDHcy7fqkDKl5cazf+nQC3DoRNRR6hAAS8LJjU7p0AJFVc6ZIamQBrmnO2LhKZAB7hubgKEpkCCjKOYuG6mQMOossELG6dAiGSJhiZnpkA4tW3mW6CmQDlALRQlmKZAmN+TOoEUp0BjClsrkQKnQJOPOb3o1qZAsZ304AZep0CzFGEuZG2mQG93PQoBUH1A\",\"dtype\":\"float64\",\"shape\":[36]}},\"selected\":{\"id\":\"13495\",\"type\":\"Selection\"},\"selection_policy\":{\"id\":\"13524\",\"type\":\"UnionRenderers\"}},\"id\":\"13494\",\"type\":\"ColumnDataSource\"},{\"attributes\":{\"grid_line_color\":{\"value\":null},\"plot\":{\"id\":\"13314\",\"subtype\":\"Figure\",\"type\":\"Plot\"},\"ticker\":{\"id\":\"13323\",\"type\":\"BasicTicker\"}},\"id\":\"13326\",\"type\":\"Grid\"},{\"attributes\":{},\"id\":\"13351\",\"type\":\"Selection\"},{\"attributes\":{},\"id\":\"13616\",\"type\":\"Selection\"},{\"attributes\":{\"source\":{\"id\":\"13597\",\"type\":\"ColumnDataSource\"}},\"id\":\"13604\",\"type\":\"CDSView\"},{\"attributes\":{\"click_policy\":\"mute\",\"items\":[{\"id\":\"13365\",\"type\":\"LegendItem\"},{\"id\":\"13382\",\"type\":\"LegendItem\"}],\"location\":[0,0],\"plot\":{\"id\":\"13314\",\"subtype\":\"Figure\",\"type\":\"Plot\"}},\"id\":\"13364\",\"type\":\"Legend\"},{\"attributes\":{},\"id\":\"13320\",\"type\":\"LinearScale\"},{\"attributes\":{},\"id\":\"13464\",\"type\":\"LinearScale\"},{\"attributes\":{\"axis_label\":\"Cycle_Index\",\"bounds\":\"auto\",\"formatter\":{\"id\":\"13347\",\"type\":\"BasicTickFormatter\"},\"major_label_orientation\":\"horizontal\",\"plot\":{\"id\":\"13314\",\"subtype\":\"Figure\",\"type\":\"Plot\"},\"ticker\":{\"id\":\"13323\",\"type\":\"BasicTicker\"}},\"id\":\"13322\",\"type\":\"LinearAxis\"},{\"attributes\":{},\"id\":\"13332\",\"type\":\"SaveTool\"},{\"attributes\":{\"source\":{\"id\":\"13350\",\"type\":\"ColumnDataSource\"}},\"id\":\"13357\",\"type\":\"CDSView\"},{\"attributes\":{\"line_alpha\":0.2,\"line_color\":\"#1f77b4\",\"line_width\":2,\"x\":{\"field\":\"Cycle_Index\"},\"y\":{\"field\":\"value\"}},\"id\":\"13355\",\"type\":\"Line\"},{\"attributes\":{\"line_color\":\"#d62728\",\"line_width\":2,\"x\":{\"field\":\"Cycle_Index\"},\"y\":{\"field\":\"value\"}},\"id\":\"13618\",\"type\":\"Line\"},{\"attributes\":{\"label\":{\"value\":\"20160805_test001_45_cc\"},\"renderers\":[{\"id\":\"13356\",\"type\":\"GlyphRenderer\"}]},\"id\":\"13365\",\"type\":\"LegendItem\"},{\"attributes\":{\"callback\":null,\"data\":{\"Cycle_Index\":[1,2,3,4,5,6,7,8,9,10,11,12,13,14,15,16,17,18,19,20,21,22,23,24,25,26,27,28,29,30,31,32,33,34,35,36],\"Variable\":[\"20160805_test001_47_cc\",\"20160805_test001_47_cc\",\"20160805_test001_47_cc\",\"20160805_test001_47_cc\",\"20160805_test001_47_cc\",\"20160805_test001_47_cc\",\"20160805_test001_47_cc\",\"20160805_test001_47_cc\",\"20160805_test001_47_cc\",\"20160805_test001_47_cc\",\"20160805_test001_47_cc\",\"20160805_test001_47_cc\",\"20160805_test001_47_cc\",\"20160805_test001_47_cc\",\"20160805_test001_47_cc\",\"20160805_test001_47_cc\",\"20160805_test001_47_cc\",\"20160805_test001_47_cc\",\"20160805_test001_47_cc\",\"20160805_test001_47_cc\",\"20160805_test001_47_cc\",\"20160805_test001_47_cc\",\"20160805_test001_47_cc\",\"20160805_test001_47_cc\",\"20160805_test001_47_cc\",\"20160805_test001_47_cc\",\"20160805_test001_47_cc\",\"20160805_test001_47_cc\",\"20160805_test001_47_cc\",\"20160805_test001_47_cc\",\"20160805_test001_47_cc\",\"20160805_test001_47_cc\",\"20160805_test001_47_cc\",\"20160805_test001_47_cc\",\"20160805_test001_47_cc\",\"20160805_test001_47_cc\"],\"value\":{\"__ndarray__\":\"0UzxSqT+WkCCc7H+mA5XQF/suHMk5VZAbks36cgRWEBFIkhjufRXQGghSsNd61dAbnMo4HryV0DK1DiOAedXQDUmFqcO9ldAX+N9NybwV0AjkrRsn/NXQPE8YmPX9VdAsK5fxxr3V0BG4BB05QJYQOrSHtfx+ldABqtwl00QWECI0xMS7gFYQAAAAAAAAPh/AAAAAAAA+H8AAAAAAAD4fwAAAAAAAPh/AAAAAAAA+H8AAAAAAAD4fwAAAAAAAPh/AAAAAAAA+H8AAAAAAAD4fwAAAAAAAPh/AAAAAAAA+H8AAAAAAAD4fwAAAAAAAPh/AAAAAAAA+H8AAAAAAAD4fwAAAAAAAPh/AAAAAAAA+H8AAAAAAAD4fwAAAAAAAPh/\",\"dtype\":\"float64\",\"shape\":[36]}},\"selected\":{\"id\":\"13367\",\"type\":\"Selection\"},\"selection_policy\":{\"id\":\"13391\",\"type\":\"UnionRenderers\"}},\"id\":\"13366\",\"type\":\"ColumnDataSource\"},{\"attributes\":{\"line_color\":\"#ff7f0e\",\"line_width\":2,\"x\":{\"field\":\"Cycle_Index\"},\"y\":{\"field\":\"value\"}},\"id\":\"13369\",\"type\":\"Line\"},{\"attributes\":{},\"id\":\"13333\",\"type\":\"PanTool\"},{\"attributes\":{\"line_alpha\":0.1,\"line_color\":\"#d62728\",\"line_width\":2,\"x\":{\"field\":\"Cycle_Index\"},\"y\":{\"field\":\"value\"}},\"id\":\"13619\",\"type\":\"Line\"},{\"attributes\":{\"bottom_units\":\"screen\",\"fill_alpha\":{\"value\":0.5},\"fill_color\":{\"value\":\"lightgrey\"},\"left_units\":\"screen\",\"level\":\"overlay\",\"line_alpha\":{\"value\":1.0},\"line_color\":{\"value\":\"black\"},\"line_dash\":[4,4],\"line_width\":{\"value\":2},\"plot\":null,\"render_mode\":\"css\",\"right_units\":\"screen\",\"top_units\":\"screen\"},\"id\":\"13341\",\"type\":\"BoxAnnotation\"},{\"attributes\":{\"line_alpha\":0.2,\"line_color\":\"#d62728\",\"line_width\":2,\"x\":{\"field\":\"Cycle_Index\"},\"y\":{\"field\":\"value\"}},\"id\":\"13620\",\"type\":\"Line\"},{\"attributes\":{\"data_source\":{\"id\":\"13510\",\"type\":\"ColumnDataSource\"},\"glyph\":{\"id\":\"13513\",\"type\":\"Line\"},\"hover_glyph\":null,\"muted_glyph\":{\"id\":\"13515\",\"type\":\"Line\"},\"nonselection_glyph\":{\"id\":\"13514\",\"type\":\"Line\"},\"selection_glyph\":null,\"view\":{\"id\":\"13517\",\"type\":\"CDSView\"}},\"id\":\"13516\",\"type\":\"GlyphRenderer\"},{\"attributes\":{\"click_policy\":\"mute\",\"items\":[{\"id\":\"13509\",\"type\":\"LegendItem\"},{\"id\":\"13526\",\"type\":\"LegendItem\"}],\"location\":[0,0],\"plot\":{\"id\":\"13458\",\"subtype\":\"Figure\",\"type\":\"Plot\"}},\"id\":\"13508\",\"type\":\"Legend\"},{\"attributes\":{\"label\":{\"value\":\"20160805_test001_45_cc\"},\"renderers\":[{\"id\":\"13500\",\"type\":\"GlyphRenderer\"},{\"id\":\"13603\",\"type\":\"GlyphRenderer\"}]},\"id\":\"13509\",\"type\":\"LegendItem\"},{\"attributes\":{\"dimension\":1,\"grid_line_color\":{\"value\":null},\"plot\":{\"id\":\"13314\",\"subtype\":\"Figure\",\"type\":\"Plot\"},\"ticker\":{\"id\":\"13328\",\"type\":\"BasicTicker\"}},\"id\":\"13331\",\"type\":\"Grid\"},{\"attributes\":{\"below\":[{\"id\":\"13466\",\"type\":\"LinearAxis\"}],\"left\":[{\"id\":\"13471\",\"type\":\"LinearAxis\"}],\"min_border_bottom\":10,\"min_border_left\":10,\"min_border_right\":10,\"min_border_top\":10,\"plot_height\":300,\"plot_width\":700,\"renderers\":[{\"id\":\"13466\",\"type\":\"LinearAxis\"},{\"id\":\"13470\",\"type\":\"Grid\"},{\"id\":\"13471\",\"type\":\"LinearAxis\"},{\"id\":\"13475\",\"type\":\"Grid\"},{\"id\":\"13485\",\"type\":\"BoxAnnotation\"},{\"id\":\"13508\",\"type\":\"Legend\"},{\"id\":\"13500\",\"type\":\"GlyphRenderer\"},{\"id\":\"13516\",\"type\":\"GlyphRenderer\"},{\"id\":\"13603\",\"type\":\"GlyphRenderer\"},{\"id\":\"13621\",\"type\":\"GlyphRenderer\"},{\"id\":\"13508\",\"type\":\"Legend\"}],\"right\":[{\"id\":\"13508\",\"type\":\"Legend\"}],\"title\":{\"id\":\"13457\",\"type\":\"Title\"},\"toolbar\":{\"id\":\"13481\",\"type\":\"Toolbar\"},\"toolbar_location\":null,\"x_range\":{\"id\":\"13309\",\"type\":\"Range1d\"},\"x_scale\":{\"id\":\"13462\",\"type\":\"LinearScale\"},\"y_range\":{\"id\":\"13310\",\"type\":\"Range1d\"},\"y_scale\":{\"id\":\"13464\",\"type\":\"LinearScale\"}},\"id\":\"13458\",\"subtype\":\"Figure\",\"type\":\"Plot\"},{\"attributes\":{\"active_drag\":\"auto\",\"active_inspect\":\"auto\",\"active_multi\":null,\"active_scroll\":\"auto\",\"active_tap\":\"auto\",\"tools\":[{\"id\":\"13311\",\"type\":\"HoverTool\"},{\"id\":\"13332\",\"type\":\"SaveTool\"},{\"id\":\"13333\",\"type\":\"PanTool\"},{\"id\":\"13334\",\"type\":\"WheelZoomTool\"},{\"id\":\"13335\",\"type\":\"BoxZoomTool\"},{\"id\":\"13336\",\"type\":\"ResetTool\"}]},\"id\":\"13337\",\"type\":\"Toolbar\"},{\"attributes\":{},\"id\":\"13462\",\"type\":\"LinearScale\"},{\"attributes\":{\"callback\":null,\"data\":{\"Cycle_Index\":[1,2,3,4,5,6,7,8,9,10,11,12,13,14,15,16,17,18,19,20,21,22,23,24,25,26,27,28,29,30,31,32,33,34,35,36],\"Variable\":[\"20160805_test001_47_cc\",\"20160805_test001_47_cc\",\"20160805_test001_47_cc\",\"20160805_test001_47_cc\",\"20160805_test001_47_cc\",\"20160805_test001_47_cc\",\"20160805_test001_47_cc\",\"20160805_test001_47_cc\",\"20160805_test001_47_cc\",\"20160805_test001_47_cc\",\"20160805_test001_47_cc\",\"20160805_test001_47_cc\",\"20160805_test001_47_cc\",\"20160805_test001_47_cc\",\"20160805_test001_47_cc\",\"20160805_test001_47_cc\",\"20160805_test001_47_cc\",\"20160805_test001_47_cc\",\"20160805_test001_47_cc\",\"20160805_test001_47_cc\",\"20160805_test001_47_cc\",\"20160805_test001_47_cc\",\"20160805_test001_47_cc\",\"20160805_test001_47_cc\",\"20160805_test001_47_cc\",\"20160805_test001_47_cc\",\"20160805_test001_47_cc\",\"20160805_test001_47_cc\",\"20160805_test001_47_cc\",\"20160805_test001_47_cc\",\"20160805_test001_47_cc\",\"20160805_test001_47_cc\",\"20160805_test001_47_cc\",\"20160805_test001_47_cc\",\"20160805_test001_47_cc\",\"20160805_test001_47_cc\"],\"value\":{\"__ndarray__\":\"isJO+Dqnq0DqrvAId7KoQAN94mgP/KhAcWaghifop0CHAASCFC6nQIndOHkuLKdA1RNw+qArp0BJLP2ouBWnQFYFQbQOx6dASs7KOu4Np0DI0iJ/zUinQNIKS4ZZQKdAxmUAe1PAp0ClP+Th3a2nQK7HF3DwgKdArB1jePwLqEA+qHxYWhSnQBuTMRc5Kn5AAAAAAAAA+H8AAAAAAAD4fwAAAAAAAPh/AAAAAAAA+H8AAAAAAAD4fwAAAAAAAPh/AAAAAAAA+H8AAAAAAAD4fwAAAAAAAPh/AAAAAAAA+H8AAAAAAAD4fwAAAAAAAPh/AAAAAAAA+H8AAAAAAAD4fwAAAAAAAPh/AAAAAAAA+H8AAAAAAAD4fwAAAAAAAPh/\",\"dtype\":\"float64\",\"shape\":[36]}},\"selected\":{\"id\":\"13511\",\"type\":\"Selection\"},\"selection_policy\":{\"id\":\"13535\",\"type\":\"UnionRenderers\"}},\"id\":\"13510\",\"type\":\"ColumnDataSource\"},{\"attributes\":{\"line_color\":\"#2ca02c\",\"line_width\":2,\"x\":{\"field\":\"Cycle_Index\"},\"y\":{\"field\":\"value\"}},\"id\":\"13600\",\"type\":\"Line\"},{\"attributes\":{\"plot\":null,\"text\":\"\",\"text_color\":{\"value\":\"black\"},\"text_font_size\":{\"value\":\"12pt\"}},\"id\":\"13457\",\"type\":\"Title\"},{\"attributes\":{\"line_color\":\"#1f77b4\",\"line_width\":2,\"x\":{\"field\":\"Cycle_Index\"},\"y\":{\"field\":\"value\"}},\"id\":\"13353\",\"type\":\"Line\"},{\"attributes\":{\"data_source\":{\"id\":\"13615\",\"type\":\"ColumnDataSource\"},\"glyph\":{\"id\":\"13618\",\"type\":\"Line\"},\"hover_glyph\":null,\"muted_glyph\":{\"id\":\"13620\",\"type\":\"Line\"},\"nonselection_glyph\":{\"id\":\"13619\",\"type\":\"Line\"},\"selection_glyph\":null,\"view\":{\"id\":\"13622\",\"type\":\"CDSView\"}},\"id\":\"13621\",\"type\":\"GlyphRenderer\"},{\"attributes\":{},\"id\":\"13491\",\"type\":\"BasicTickFormatter\"},{\"attributes\":{\"plot\":null,\"text\":\"\",\"text_color\":{\"value\":\"black\"},\"text_font_size\":{\"value\":\"12pt\"}},\"id\":\"13313\",\"type\":\"Title\"},{\"attributes\":{\"grid_line_color\":{\"value\":null},\"plot\":{\"id\":\"13458\",\"subtype\":\"Figure\",\"type\":\"Plot\"},\"ticker\":{\"id\":\"13467\",\"type\":\"BasicTicker\"}},\"id\":\"13470\",\"type\":\"Grid\"},{\"attributes\":{\"source\":{\"id\":\"13615\",\"type\":\"ColumnDataSource\"}},\"id\":\"13622\",\"type\":\"CDSView\"},{\"attributes\":{},\"id\":\"13318\",\"type\":\"LinearScale\"},{\"attributes\":{},\"id\":\"13633\",\"type\":\"UnionRenderers\"},{\"attributes\":{},\"id\":\"13323\",\"type\":\"BasicTicker\"},{\"attributes\":{\"overlay\":{\"id\":\"13341\",\"type\":\"BoxAnnotation\"}},\"id\":\"13335\",\"type\":\"BoxZoomTool\"},{\"attributes\":{\"axis_label\":\"Cycle_Index\",\"bounds\":\"auto\",\"formatter\":{\"id\":\"13491\",\"type\":\"BasicTickFormatter\"},\"major_label_orientation\":\"horizontal\",\"plot\":{\"id\":\"13458\",\"subtype\":\"Figure\",\"type\":\"Plot\"},\"ticker\":{\"id\":\"13467\",\"type\":\"BasicTicker\"}},\"id\":\"13466\",\"type\":\"LinearAxis\"},{\"attributes\":{},\"id\":\"13647\",\"type\":\"UnionRenderers\"},{\"attributes\":{},\"id\":\"13349\",\"type\":\"BasicTickFormatter\"},{\"attributes\":{},\"id\":\"13347\",\"type\":\"BasicTickFormatter\"},{\"attributes\":{},\"id\":\"13467\",\"type\":\"BasicTicker\"},{\"attributes\":{},\"id\":\"13334\",\"type\":\"WheelZoomTool\"},{\"attributes\":{\"children\":[{\"id\":\"13314\",\"subtype\":\"Figure\",\"type\":\"Plot\"}]},\"id\":\"13842\",\"type\":\"Row\"},{\"attributes\":{\"children\":[{\"id\":\"13458\",\"subtype\":\"Figure\",\"type\":\"Plot\"}]},\"id\":\"13858\",\"type\":\"Row\"},{\"attributes\":{},\"id\":\"13477\",\"type\":\"PanTool\"},{\"attributes\":{\"active_drag\":\"auto\",\"active_inspect\":\"auto\",\"active_multi\":null,\"active_scroll\":\"auto\",\"active_tap\":\"auto\",\"tools\":[{\"id\":\"13453\",\"type\":\"HoverTool\"},{\"id\":\"13476\",\"type\":\"SaveTool\"},{\"id\":\"13477\",\"type\":\"PanTool\"},{\"id\":\"13478\",\"type\":\"WheelZoomTool\"},{\"id\":\"13479\",\"type\":\"BoxZoomTool\"},{\"id\":\"13480\",\"type\":\"ResetTool\"}]},\"id\":\"13481\",\"type\":\"Toolbar\"},{\"attributes\":{\"tools\":[{\"id\":\"13311\",\"type\":\"HoverTool\"},{\"id\":\"13332\",\"type\":\"SaveTool\"},{\"id\":\"13333\",\"type\":\"PanTool\"},{\"id\":\"13334\",\"type\":\"WheelZoomTool\"},{\"id\":\"13335\",\"type\":\"BoxZoomTool\"},{\"id\":\"13336\",\"type\":\"ResetTool\"},{\"id\":\"13453\",\"type\":\"HoverTool\"},{\"id\":\"13476\",\"type\":\"SaveTool\"},{\"id\":\"13477\",\"type\":\"PanTool\"},{\"id\":\"13478\",\"type\":\"WheelZoomTool\"},{\"id\":\"13479\",\"type\":\"BoxZoomTool\"},{\"id\":\"13480\",\"type\":\"ResetTool\"}]},\"id\":\"13860\",\"type\":\"ProxyToolbar\"},{\"attributes\":{\"toolbar\":{\"id\":\"13860\",\"type\":\"ProxyToolbar\"},\"toolbar_location\":\"above\"},\"id\":\"13861\",\"type\":\"ToolbarBox\"},{\"attributes\":{\"dimension\":1,\"grid_line_color\":{\"value\":null},\"plot\":{\"id\":\"13458\",\"subtype\":\"Figure\",\"type\":\"Plot\"},\"ticker\":{\"id\":\"13472\",\"type\":\"BasicTicker\"}},\"id\":\"13475\",\"type\":\"Grid\"},{\"attributes\":{},\"id\":\"13493\",\"type\":\"BasicTickFormatter\"},{\"attributes\":{},\"id\":\"13472\",\"type\":\"BasicTicker\"},{\"attributes\":{},\"id\":\"13478\",\"type\":\"WheelZoomTool\"},{\"attributes\":{},\"id\":\"13535\",\"type\":\"UnionRenderers\"},{\"attributes\":{},\"id\":\"13476\",\"type\":\"SaveTool\"},{\"attributes\":{\"overlay\":{\"id\":\"13485\",\"type\":\"BoxAnnotation\"}},\"id\":\"13479\",\"type\":\"BoxZoomTool\"},{\"attributes\":{\"children\":[{\"id\":\"13842\",\"type\":\"Row\"},{\"id\":\"13858\",\"type\":\"Row\"}]},\"id\":\"13859\",\"type\":\"Column\"},{\"attributes\":{},\"id\":\"13598\",\"type\":\"Selection\"},{\"attributes\":{},\"id\":\"13391\",\"type\":\"UnionRenderers\"},{\"attributes\":{\"line_color\":\"#ff7f0e\",\"line_width\":2,\"x\":{\"field\":\"Cycle_Index\"},\"y\":{\"field\":\"value\"}},\"id\":\"13513\",\"type\":\"Line\"},{\"attributes\":{\"bottom_units\":\"screen\",\"fill_alpha\":{\"value\":0.5},\"fill_color\":{\"value\":\"lightgrey\"},\"left_units\":\"screen\",\"level\":\"overlay\",\"line_alpha\":{\"value\":1.0},\"line_color\":{\"value\":\"black\"},\"line_dash\":[4,4],\"line_width\":{\"value\":2},\"plot\":null,\"render_mode\":\"css\",\"right_units\":\"screen\",\"top_units\":\"screen\"},\"id\":\"13485\",\"type\":\"BoxAnnotation\"},{\"attributes\":{\"line_alpha\":0.2,\"line_color\":\"#ff7f0e\",\"line_width\":2,\"x\":{\"field\":\"Cycle_Index\"},\"y\":{\"field\":\"value\"}},\"id\":\"13515\",\"type\":\"Line\"},{\"attributes\":{},\"id\":\"13480\",\"type\":\"ResetTool\"},{\"attributes\":{\"source\":{\"id\":\"13366\",\"type\":\"ColumnDataSource\"}},\"id\":\"13373\",\"type\":\"CDSView\"},{\"attributes\":{\"callback\":null,\"data\":{\"Cycle_Index\":[1,2,3,4,5,6,7,8,9,10,11,12,13,14,15,16,17,18,19,20,21,22,23,24,25,26,27,28,29,30,31,32,33,34,35,36],\"Variable\":[\"20160805_test001_47_cc\",\"20160805_test001_47_cc\",\"20160805_test001_47_cc\",\"20160805_test001_47_cc\",\"20160805_test001_47_cc\",\"20160805_test001_47_cc\",\"20160805_test001_47_cc\",\"20160805_test001_47_cc\",\"20160805_test001_47_cc\",\"20160805_test001_47_cc\",\"20160805_test001_47_cc\",\"20160805_test001_47_cc\",\"20160805_test001_47_cc\",\"20160805_test001_47_cc\",\"20160805_test001_47_cc\",\"20160805_test001_47_cc\",\"20160805_test001_47_cc\",\"20160805_test001_47_cc\",\"20160805_test001_47_cc\",\"20160805_test001_47_cc\",\"20160805_test001_47_cc\",\"20160805_test001_47_cc\",\"20160805_test001_47_cc\",\"20160805_test001_47_cc\",\"20160805_test001_47_cc\",\"20160805_test001_47_cc\",\"20160805_test001_47_cc\",\"20160805_test001_47_cc\",\"20160805_test001_47_cc\",\"20160805_test001_47_cc\",\"20160805_test001_47_cc\",\"20160805_test001_47_cc\",\"20160805_test001_47_cc\",\"20160805_test001_47_cc\",\"20160805_test001_47_cc\",\"20160805_test001_47_cc\"],\"value\":{\"__ndarray__\":\"mP2hlyGcqUDYkQS3P8eqQIXbecEYSKtADVFvmcLUqED+R73asjCoQIBjwJwtOKhA8+5CFGgwqEDSb/XFGiWoQLgsqGf2zqhAkff1+r4TqEC8oWwKtE2oQJ8XHxKiQqhAtd6+N9vGqEDd83UheKeoQAIq+WnOgKhA33jm4IP7qEAyFbADmgioQAAAAAAAAAAAAAAAAAAA+H8AAAAAAAD4fwAAAAAAAPh/AAAAAAAA+H8AAAAAAAD4fwAAAAAAAPh/AAAAAAAA+H8AAAAAAAD4fwAAAAAAAPh/AAAAAAAA+H8AAAAAAAD4fwAAAAAAAPh/AAAAAAAA+H8AAAAAAAD4fwAAAAAAAPh/AAAAAAAA+H8AAAAAAAD4fwAAAAAAAPh/\",\"dtype\":\"float64\",\"shape\":[36]}},\"selected\":{\"id\":\"13616\",\"type\":\"Selection\"},\"selection_policy\":{\"id\":\"13647\",\"type\":\"UnionRenderers\"}},\"id\":\"13615\",\"type\":\"ColumnDataSource\"},{\"attributes\":{\"line_alpha\":0.1,\"line_color\":\"#ff7f0e\",\"line_width\":2,\"x\":{\"field\":\"Cycle_Index\"},\"y\":{\"field\":\"value\"}},\"id\":\"13514\",\"type\":\"Line\"},{\"attributes\":{},\"id\":\"13380\",\"type\":\"UnionRenderers\"},{\"attributes\":{\"label\":{\"value\":\"20160805_test001_47_cc\"},\"renderers\":[{\"id\":\"13372\",\"type\":\"GlyphRenderer\"}]},\"id\":\"13382\",\"type\":\"LegendItem\"},{\"attributes\":{\"line_alpha\":0.2,\"line_color\":\"#ff7f0e\",\"line_width\":2,\"x\":{\"field\":\"Cycle_Index\"},\"y\":{\"field\":\"value\"}},\"id\":\"13371\",\"type\":\"Line\"},{\"attributes\":{\"data_source\":{\"id\":\"13366\",\"type\":\"ColumnDataSource\"},\"glyph\":{\"id\":\"13369\",\"type\":\"Line\"},\"hover_glyph\":null,\"muted_glyph\":{\"id\":\"13371\",\"type\":\"Line\"},\"nonselection_glyph\":{\"id\":\"13370\",\"type\":\"Line\"},\"selection_glyph\":null,\"view\":{\"id\":\"13373\",\"type\":\"CDSView\"}},\"id\":\"13372\",\"type\":\"GlyphRenderer\"},{\"attributes\":{\"source\":{\"id\":\"13510\",\"type\":\"ColumnDataSource\"}},\"id\":\"13517\",\"type\":\"CDSView\"},{\"attributes\":{\"callback\":null,\"renderers\":[{\"id\":\"13356\",\"type\":\"GlyphRenderer\"},{\"id\":\"13372\",\"type\":\"GlyphRenderer\"}],\"tooltips\":[[\"Variable\",\"@{Variable}\"],[\"Cycle_Index\",\"@{Cycle_Index}\"],[\"value\",\"@{value}\"]]},\"id\":\"13311\",\"type\":\"HoverTool\"},{\"attributes\":{\"callback\":null,\"renderers\":[{\"id\":\"13500\",\"type\":\"GlyphRenderer\"},{\"id\":\"13516\",\"type\":\"GlyphRenderer\"},{\"id\":\"13603\",\"type\":\"GlyphRenderer\"},{\"id\":\"13621\",\"type\":\"GlyphRenderer\"}],\"tooltips\":[[\"Variable\",\"@{Variable}\"],[\"Cycle_Index\",\"@{Cycle_Index}\"],[\"value\",\"@{value}\"]]},\"id\":\"13453\",\"type\":\"HoverTool\"},{\"attributes\":{\"callback\":null,\"end\":36.0,\"reset_end\":36.0,\"reset_start\":1.0,\"start\":1.0,\"tags\":[[[\"Cycle_Index\",\"Cycle_Index\",null]]]},\"id\":\"13309\",\"type\":\"Range1d\"},{\"attributes\":{\"callback\":null,\"end\":3539.615175687072,\"reset_end\":3539.615175687072,\"reset_start\":0.0,\"tags\":[[[\"value\",\"value\",null]]]},\"id\":\"13310\",\"type\":\"Range1d\"},{\"attributes\":{\"callback\":null,\"data\":{\"Cycle_Index\":[1,2,3,4,5,6,7,8,9,10,11,12,13,14,15,16,17,18,19,20,21,22,23,24,25,26,27,28,29,30,31,32,33,34,35,36],\"Variable\":[\"20160805_test001_45_cc\",\"20160805_test001_45_cc\",\"20160805_test001_45_cc\",\"20160805_test001_45_cc\",\"20160805_test001_45_cc\",\"20160805_test001_45_cc\",\"20160805_test001_45_cc\",\"20160805_test001_45_cc\",\"20160805_test001_45_cc\",\"20160805_test001_45_cc\",\"20160805_test001_45_cc\",\"20160805_test001_45_cc\",\"20160805_test001_45_cc\",\"20160805_test001_45_cc\",\"20160805_test001_45_cc\",\"20160805_test001_45_cc\",\"20160805_test001_45_cc\",\"20160805_test001_45_cc\",\"20160805_test001_45_cc\",\"20160805_test001_45_cc\",\"20160805_test001_45_cc\",\"20160805_test001_45_cc\",\"20160805_test001_45_cc\",\"20160805_test001_45_cc\",\"20160805_test001_45_cc\",\"20160805_test001_45_cc\",\"20160805_test001_45_cc\",\"20160805_test001_45_cc\",\"20160805_test001_45_cc\",\"20160805_test001_45_cc\",\"20160805_test001_45_cc\",\"20160805_test001_45_cc\",\"20160805_test001_45_cc\",\"20160805_test001_45_cc\",\"20160805_test001_45_cc\",\"20160805_test001_45_cc\"],\"value\":{\"__ndarray__\":\"Fb9NRt3iqEDtqreFhwWqQFdHB3S8gqpAXkIGkiAhqEDEepWts4GnQCRP3lP4iKdASIILBGuBp0AVlHl4b3anQL0GMlF+G6hABXm7QJFlp0AVEgoK452nQHi1OCchk6dAPZKWxZ0TqEC/OKy+HfWnQF9aLbmLz6dAtgALfclGqEAGbl3ovFqnQAAAAAAAAAAAFb9NRt3iqEDtqreFhwWqQFdHB3S8gqpAXkIGkiAhqEDEepWts4GnQCRP3lP4iKdASIILBGuBp0AVlHl4b3anQL0GMlF+G6hABXm7QJFlp0AVEgoK452nQHi1OCchk6dAPZKWxZ0TqEC/OKy+HfWnQF9aLbmLz6dAtgALfclGqEAGbl3ovFqnQAAAAAAAAAAA\",\"dtype\":\"float64\",\"shape\":[36]}},\"selected\":{\"id\":\"13598\",\"type\":\"Selection\"},\"selection_policy\":{\"id\":\"13633\",\"type\":\"UnionRenderers\"}},\"id\":\"13597\",\"type\":\"ColumnDataSource\"},{\"attributes\":{},\"id\":\"13524\",\"type\":\"UnionRenderers\"},{\"attributes\":{\"label\":{\"value\":\"20160805_test001_47_cc\"},\"renderers\":[{\"id\":\"13516\",\"type\":\"GlyphRenderer\"},{\"id\":\"13621\",\"type\":\"GlyphRenderer\"}]},\"id\":\"13526\",\"type\":\"LegendItem\"},{\"attributes\":{\"axis_label\":\"\",\"bounds\":\"auto\",\"formatter\":{\"id\":\"13493\",\"type\":\"BasicTickFormatter\"},\"major_label_orientation\":\"horizontal\",\"plot\":{\"id\":\"13458\",\"subtype\":\"Figure\",\"type\":\"Plot\"},\"ticker\":{\"id\":\"13472\",\"type\":\"BasicTicker\"}},\"id\":\"13471\",\"type\":\"LinearAxis\"}],\"root_ids\":[\"13862\"]},\"title\":\"Bokeh Application\",\"version\":\"1.0.4\"}};\n",
       "  var render_items = [{\"docid\":\"a2a86d5c-16c6-4bf2-852c-74c3100c9818\",\"roots\":{\"13862\":\"3d2afbdf-b438-4a9c-a22e-f51f0860dc1a\"}}];\n",
       "  root.Bokeh.embed.embed_items_notebook(docs_json, render_items);\n",
       "\n",
       "  }\n",
       "  if (root.Bokeh !== undefined) {\n",
       "    embed_document(root);\n",
       "  } else {\n",
       "    var attempts = 0;\n",
       "    var timer = setInterval(function(root) {\n",
       "      if (root.Bokeh !== undefined) {\n",
       "        embed_document(root);\n",
       "        clearInterval(timer);\n",
       "      }\n",
       "      attempts++;\n",
       "      if (attempts > 100) {\n",
       "        console.log(\"Bokeh: ERROR: Unable to run BokehJS code because BokehJS library is missing\");\n",
       "        clearInterval(timer);\n",
       "      }\n",
       "    }, 10, root)\n",
       "  }\n",
       "})(window);"
      ],
      "application/vnd.holoviews_exec.v0+json": "",
      "text/html": [
       "<div id='13862' style='display: table; margin: 0 auto;'>\n",
       "\n",
       "\n",
       "\n",
       "\n",
       "\n",
       "  <div class=\"bk-root\" id=\"3d2afbdf-b438-4a9c-a22e-f51f0860dc1a\" data-root-id=\"13862\"></div>\n",
       "</div>"
      ],
      "text/plain": [
       ":Layout\n",
       "   .NdOverlay.I :NdOverlay   [Variable]\n",
       "      :Curve   [Cycle_Index]   (value)\n",
       "   .Overlay.I   :Overlay\n",
       "      .NdOverlay.I  :NdOverlay   [Variable]\n",
       "         :Curve   [Cycle_Index]   (value)\n",
       "      .NdOverlay.II :NdOverlay   [Variable]\n",
       "         :Curve   [Cycle_Index]   (value)"
      ]
     },
     "execution_count": 115,
     "metadata": {
      "application/vnd.holoviews_exec.v0+json": {
       "id": "13862"
      }
     },
     "output_type": "execute_result"
    }
   ],
   "source": [
    "layout = s[\"coulombic_efficiency\"].hvplot() + s[\"discharge_capacity\"].hvplot() * s[\"charge_capacity\"].hvplot()\n",
    "layout.cols(1)"
   ]
  },
  {
   "cell_type": "code",
   "execution_count": 111,
   "metadata": {},
   "outputs": [
    {
     "data": {
      "application/javascript": [
       "\n",
       "// Ugly hack - see HoloViews #2574 for more information\n",
       "if (!(document.getElementById('12068')) && !(document.getElementById('_anim_imgNone'))) {\n",
       "  console.log(\"Creating DOM nodes dynamically for assumed nbconvert export. To generate clean HTML output set HV_DOC_HTML as an environment variable.\")\n",
       "  var htmlObject = document.createElement('div');\n",
       "  htmlObject.innerHTML = `<div id='12068' style='display: table; margin: 0 auto;'>\n",
       "\n",
       "\n",
       "\n",
       "\n",
       "\n",
       "  <div class=\"bk-root\" id=\"41a2a923-e841-4534-b51f-a24760e49bf8\" data-root-id=\"12068\"></div>\n",
       "</div>`;\n",
       "  var scriptTags = document.getElementsByTagName('script');\n",
       "  var parentTag = scriptTags[scriptTags.length-1].parentNode;\n",
       "  if (parentTag.attributes.length && (parentTag.attributes[0].name == 'data-shell-mode')) {\n",
       "    alert('Displaying PyViz objects in JupyterLab requires the jupyterlab_pyviz extension to be installed, install it with:\\n\\n\\tjupyter labextension install @pyviz/jupyterlab_pyviz');\n",
       "  } else {\n",
       "    parentTag.append(htmlObject)\n",
       "  }\n",
       "}\n",
       "(function(root) {\n",
       "  function embed_document(root) {\n",
       "    \n",
       "  var docs_json = {\"9b30411c-6310-4e98-b93f-9108aeae6a3f\":{\"roots\":{\"references\":[{\"attributes\":{\"below\":[{\"id\":\"12076\",\"type\":\"LinearAxis\"}],\"left\":[{\"id\":\"12081\",\"type\":\"LinearAxis\"}],\"min_border_bottom\":10,\"min_border_left\":10,\"min_border_right\":10,\"min_border_top\":10,\"plot_height\":300,\"plot_width\":700,\"renderers\":[{\"id\":\"12076\",\"type\":\"LinearAxis\"},{\"id\":\"12080\",\"type\":\"Grid\"},{\"id\":\"12081\",\"type\":\"LinearAxis\"},{\"id\":\"12085\",\"type\":\"Grid\"},{\"id\":\"12095\",\"type\":\"BoxAnnotation\"},{\"id\":\"12118\",\"type\":\"Legend\"},{\"id\":\"12110\",\"type\":\"GlyphRenderer\"},{\"id\":\"12126\",\"type\":\"GlyphRenderer\"},{\"id\":\"12118\",\"type\":\"Legend\"}],\"right\":[{\"id\":\"12118\",\"type\":\"Legend\"}],\"title\":{\"id\":\"12067\",\"type\":\"Title\"},\"toolbar\":{\"id\":\"12091\",\"type\":\"Toolbar\"},\"x_range\":{\"id\":\"12063\",\"type\":\"Range1d\"},\"x_scale\":{\"id\":\"12072\",\"type\":\"LinearScale\"},\"y_range\":{\"id\":\"12064\",\"type\":\"Range1d\"},\"y_scale\":{\"id\":\"12074\",\"type\":\"LinearScale\"}},\"id\":\"12068\",\"subtype\":\"Figure\",\"type\":\"Plot\"},{\"attributes\":{\"data_source\":{\"id\":\"12104\",\"type\":\"ColumnDataSource\"},\"glyph\":{\"id\":\"12107\",\"type\":\"Line\"},\"hover_glyph\":null,\"muted_glyph\":{\"id\":\"12109\",\"type\":\"Line\"},\"nonselection_glyph\":{\"id\":\"12108\",\"type\":\"Line\"},\"selection_glyph\":null,\"view\":{\"id\":\"12111\",\"type\":\"CDSView\"}},\"id\":\"12110\",\"type\":\"GlyphRenderer\"},{\"attributes\":{\"line_alpha\":0.1,\"line_color\":\"#1f77b4\",\"line_width\":2,\"x\":{\"field\":\"Cycle_Index\"},\"y\":{\"field\":\"value\"}},\"id\":\"12108\",\"type\":\"Line\"},{\"attributes\":{\"line_alpha\":0.2,\"line_color\":\"#ff7f0e\",\"line_width\":2,\"x\":{\"field\":\"Cycle_Index\"},\"y\":{\"field\":\"value\"}},\"id\":\"12125\",\"type\":\"Line\"},{\"attributes\":{},\"id\":\"12121\",\"type\":\"Selection\"},{\"attributes\":{\"callback\":null,\"end\":36.0,\"reset_end\":36.0,\"reset_start\":1.0,\"start\":1.0,\"tags\":[[[\"Cycle_Index\",\"Cycle_Index\",null]]]},\"id\":\"12063\",\"type\":\"Range1d\"},{\"attributes\":{},\"id\":\"12082\",\"type\":\"BasicTicker\"},{\"attributes\":{\"callback\":null,\"data\":{\"Cycle_Index\":[1,2,3,4,5,6,7,8,9,10,11,12,13,14,15,16,17,18,19,20,21,22,23,24,25,26,27,28,29,30,31,32,33,34,35,36],\"Variable\":[\"20160805_test001_47_cc\",\"20160805_test001_47_cc\",\"20160805_test001_47_cc\",\"20160805_test001_47_cc\",\"20160805_test001_47_cc\",\"20160805_test001_47_cc\",\"20160805_test001_47_cc\",\"20160805_test001_47_cc\",\"20160805_test001_47_cc\",\"20160805_test001_47_cc\",\"20160805_test001_47_cc\",\"20160805_test001_47_cc\",\"20160805_test001_47_cc\",\"20160805_test001_47_cc\",\"20160805_test001_47_cc\",\"20160805_test001_47_cc\",\"20160805_test001_47_cc\",\"20160805_test001_47_cc\",\"20160805_test001_47_cc\",\"20160805_test001_47_cc\",\"20160805_test001_47_cc\",\"20160805_test001_47_cc\",\"20160805_test001_47_cc\",\"20160805_test001_47_cc\",\"20160805_test001_47_cc\",\"20160805_test001_47_cc\",\"20160805_test001_47_cc\",\"20160805_test001_47_cc\",\"20160805_test001_47_cc\",\"20160805_test001_47_cc\",\"20160805_test001_47_cc\",\"20160805_test001_47_cc\",\"20160805_test001_47_cc\",\"20160805_test001_47_cc\",\"20160805_test001_47_cc\",\"20160805_test001_47_cc\"],\"value\":{\"__ndarray__\":\"0UzxSqT+WkAqYNGkngZpQC3rVm+YPHJACL6kqQpBeECZxnYCOT5+QHqnpDmIHIJA6LWpldcahUCB0HDHtxeIQEiVU5x5FotAtFFDY34UjkD88WwoeYmQQMsVo57WCJJAthAZS0iIk0C6HlqidgiVQOkLzL8liJZAmRZDmSoJmEDSU2R6SYmZQAAAAAAAAPh/AAAAAAAA+H8AAAAAAAD4fwAAAAAAAPh/AAAAAAAA+H8AAAAAAAD4fwAAAAAAAPh/AAAAAAAA+H8AAAAAAAD4fwAAAAAAAPh/AAAAAAAA+H8AAAAAAAD4fwAAAAAAAPh/AAAAAAAA+H8AAAAAAAD4fwAAAAAAAPh/AAAAAAAA+H8AAAAAAAD4fwAAAAAAAPh/\",\"dtype\":\"float64\",\"shape\":[36]}},\"selected\":{\"id\":\"12121\",\"type\":\"Selection\"},\"selection_policy\":{\"id\":\"12145\",\"type\":\"UnionRenderers\"}},\"id\":\"12120\",\"type\":\"ColumnDataSource\"},{\"attributes\":{},\"id\":\"12090\",\"type\":\"ResetTool\"},{\"attributes\":{\"line_color\":\"#1f77b4\",\"line_width\":2,\"x\":{\"field\":\"Cycle_Index\"},\"y\":{\"field\":\"value\"}},\"id\":\"12107\",\"type\":\"Line\"},{\"attributes\":{},\"id\":\"12134\",\"type\":\"UnionRenderers\"},{\"attributes\":{\"grid_line_color\":{\"value\":null},\"plot\":{\"id\":\"12068\",\"subtype\":\"Figure\",\"type\":\"Plot\"},\"ticker\":{\"id\":\"12077\",\"type\":\"BasicTicker\"}},\"id\":\"12080\",\"type\":\"Grid\"},{\"attributes\":{\"line_alpha\":0.2,\"line_color\":\"#1f77b4\",\"line_width\":2,\"x\":{\"field\":\"Cycle_Index\"},\"y\":{\"field\":\"value\"}},\"id\":\"12109\",\"type\":\"Line\"},{\"attributes\":{\"data_source\":{\"id\":\"12120\",\"type\":\"ColumnDataSource\"},\"glyph\":{\"id\":\"12123\",\"type\":\"Line\"},\"hover_glyph\":null,\"muted_glyph\":{\"id\":\"12125\",\"type\":\"Line\"},\"nonselection_glyph\":{\"id\":\"12124\",\"type\":\"Line\"},\"selection_glyph\":null,\"view\":{\"id\":\"12127\",\"type\":\"CDSView\"}},\"id\":\"12126\",\"type\":\"GlyphRenderer\"},{\"attributes\":{\"callback\":null,\"data\":{\"Cycle_Index\":[1,2,3,4,5,6,7,8,9,10,11,12,13,14,15,16,17,18,19,20,21,22,23,24,25,26,27,28,29,30,31,32,33,34,35,36],\"Variable\":[\"20160805_test001_45_cc\",\"20160805_test001_45_cc\",\"20160805_test001_45_cc\",\"20160805_test001_45_cc\",\"20160805_test001_45_cc\",\"20160805_test001_45_cc\",\"20160805_test001_45_cc\",\"20160805_test001_45_cc\",\"20160805_test001_45_cc\",\"20160805_test001_45_cc\",\"20160805_test001_45_cc\",\"20160805_test001_45_cc\",\"20160805_test001_45_cc\",\"20160805_test001_45_cc\",\"20160805_test001_45_cc\",\"20160805_test001_45_cc\",\"20160805_test001_45_cc\",\"20160805_test001_45_cc\",\"20160805_test001_45_cc\",\"20160805_test001_45_cc\",\"20160805_test001_45_cc\",\"20160805_test001_45_cc\",\"20160805_test001_45_cc\",\"20160805_test001_45_cc\",\"20160805_test001_45_cc\",\"20160805_test001_45_cc\",\"20160805_test001_45_cc\",\"20160805_test001_45_cc\",\"20160805_test001_45_cc\",\"20160805_test001_45_cc\",\"20160805_test001_45_cc\",\"20160805_test001_45_cc\",\"20160805_test001_45_cc\",\"20160805_test001_45_cc\",\"20160805_test001_45_cc\",\"20160805_test001_45_cc\"],\"value\":{\"__ndarray__\":\"0EzxSqT+WkApYNGkngZpQCzrVm+YPHJACL6kqQpBeECZxnYCOT5+QHqnpDmIHIJA6LWpldcahUCB0HDHtxeIQEiVU5x5FotAtFFDY34UjkD88WwoeYmQQMsVo57WCJJAthAZS0iIk0C6HlqidgiVQOkLzL8liJZAmRZDmSoJmEDSU2R6SYmZQAAAAAAAAPh/AAAAAAAA+H8AAAAAAAD4fwAAAAAAAPh/AAAAAAAA+H8AAAAAAAD4fwAAAAAAAPh/AAAAAAAA+H8AAAAAAAD4fwAAAAAAAPh/AAAAAAAA+H8AAAAAAAD4fwAAAAAAAPh/AAAAAAAA+H8AAAAAAAD4fwAAAAAAAPh/AAAAAAAA+H8AAAAAAAD4fwAAAAAAAPh/\",\"dtype\":\"float64\",\"shape\":[36]}},\"selected\":{\"id\":\"12105\",\"type\":\"Selection\"},\"selection_policy\":{\"id\":\"12134\",\"type\":\"UnionRenderers\"}},\"id\":\"12104\",\"type\":\"ColumnDataSource\"},{\"attributes\":{\"label\":{\"value\":\"20160805_test001_45_cc\"},\"renderers\":[{\"id\":\"12110\",\"type\":\"GlyphRenderer\"}]},\"id\":\"12119\",\"type\":\"LegendItem\"},{\"attributes\":{\"axis_label\":\"\",\"bounds\":\"auto\",\"formatter\":{\"id\":\"12103\",\"type\":\"BasicTickFormatter\"},\"major_label_orientation\":\"horizontal\",\"plot\":{\"id\":\"12068\",\"subtype\":\"Figure\",\"type\":\"Plot\"},\"ticker\":{\"id\":\"12082\",\"type\":\"BasicTicker\"}},\"id\":\"12081\",\"type\":\"LinearAxis\"},{\"attributes\":{\"plot\":null,\"text\":\"\",\"text_color\":{\"value\":\"black\"},\"text_font_size\":{\"value\":\"12pt\"}},\"id\":\"12067\",\"type\":\"Title\"},{\"attributes\":{\"source\":{\"id\":\"12104\",\"type\":\"ColumnDataSource\"}},\"id\":\"12111\",\"type\":\"CDSView\"},{\"attributes\":{},\"id\":\"12072\",\"type\":\"LinearScale\"},{\"attributes\":{\"bottom_units\":\"screen\",\"fill_alpha\":{\"value\":0.5},\"fill_color\":{\"value\":\"lightgrey\"},\"left_units\":\"screen\",\"level\":\"overlay\",\"line_alpha\":{\"value\":1.0},\"line_color\":{\"value\":\"black\"},\"line_dash\":[4,4],\"line_width\":{\"value\":2},\"plot\":null,\"render_mode\":\"css\",\"right_units\":\"screen\",\"top_units\":\"screen\"},\"id\":\"12095\",\"type\":\"BoxAnnotation\"},{\"attributes\":{},\"id\":\"12101\",\"type\":\"BasicTickFormatter\"},{\"attributes\":{},\"id\":\"12086\",\"type\":\"SaveTool\"},{\"attributes\":{\"axis_label\":\"Cycle_Index\",\"bounds\":\"auto\",\"formatter\":{\"id\":\"12101\",\"type\":\"BasicTickFormatter\"},\"major_label_orientation\":\"horizontal\",\"plot\":{\"id\":\"12068\",\"subtype\":\"Figure\",\"type\":\"Plot\"},\"ticker\":{\"id\":\"12077\",\"type\":\"BasicTicker\"}},\"id\":\"12076\",\"type\":\"LinearAxis\"},{\"attributes\":{},\"id\":\"12103\",\"type\":\"BasicTickFormatter\"},{\"attributes\":{\"callback\":null,\"end\":1634.3217559505615,\"reset_end\":1634.3217559505615,\"reset_start\":107.97877763332804,\"start\":107.97877763332804,\"tags\":[[[\"value\",\"value\",null]]]},\"id\":\"12064\",\"type\":\"Range1d\"},{\"attributes\":{},\"id\":\"12145\",\"type\":\"UnionRenderers\"},{\"attributes\":{},\"id\":\"12074\",\"type\":\"LinearScale\"},{\"attributes\":{\"active_drag\":\"auto\",\"active_inspect\":\"auto\",\"active_multi\":null,\"active_scroll\":\"auto\",\"active_tap\":\"auto\",\"tools\":[{\"id\":\"12065\",\"type\":\"HoverTool\"},{\"id\":\"12086\",\"type\":\"SaveTool\"},{\"id\":\"12087\",\"type\":\"PanTool\"},{\"id\":\"12088\",\"type\":\"WheelZoomTool\"},{\"id\":\"12089\",\"type\":\"BoxZoomTool\"},{\"id\":\"12090\",\"type\":\"ResetTool\"}]},\"id\":\"12091\",\"type\":\"Toolbar\"},{\"attributes\":{\"callback\":null,\"renderers\":[{\"id\":\"12110\",\"type\":\"GlyphRenderer\"},{\"id\":\"12126\",\"type\":\"GlyphRenderer\"}],\"tooltips\":[[\"Variable\",\"@{Variable}\"],[\"Cycle_Index\",\"@{Cycle_Index}\"],[\"value\",\"@{value}\"]]},\"id\":\"12065\",\"type\":\"HoverTool\"},{\"attributes\":{},\"id\":\"12087\",\"type\":\"PanTool\"},{\"attributes\":{\"click_policy\":\"mute\",\"items\":[{\"id\":\"12119\",\"type\":\"LegendItem\"},{\"id\":\"12136\",\"type\":\"LegendItem\"}],\"location\":[0,0],\"plot\":{\"id\":\"12068\",\"subtype\":\"Figure\",\"type\":\"Plot\"}},\"id\":\"12118\",\"type\":\"Legend\"},{\"attributes\":{\"label\":{\"value\":\"20160805_test001_47_cc\"},\"renderers\":[{\"id\":\"12126\",\"type\":\"GlyphRenderer\"}]},\"id\":\"12136\",\"type\":\"LegendItem\"},{\"attributes\":{},\"id\":\"12088\",\"type\":\"WheelZoomTool\"},{\"attributes\":{},\"id\":\"12105\",\"type\":\"Selection\"},{\"attributes\":{\"line_alpha\":0.1,\"line_color\":\"#ff7f0e\",\"line_width\":2,\"x\":{\"field\":\"Cycle_Index\"},\"y\":{\"field\":\"value\"}},\"id\":\"12124\",\"type\":\"Line\"},{\"attributes\":{\"source\":{\"id\":\"12120\",\"type\":\"ColumnDataSource\"}},\"id\":\"12127\",\"type\":\"CDSView\"},{\"attributes\":{\"dimension\":1,\"grid_line_color\":{\"value\":null},\"plot\":{\"id\":\"12068\",\"subtype\":\"Figure\",\"type\":\"Plot\"},\"ticker\":{\"id\":\"12082\",\"type\":\"BasicTicker\"}},\"id\":\"12085\",\"type\":\"Grid\"},{\"attributes\":{\"overlay\":{\"id\":\"12095\",\"type\":\"BoxAnnotation\"}},\"id\":\"12089\",\"type\":\"BoxZoomTool\"},{\"attributes\":{\"line_color\":\"#ff7f0e\",\"line_width\":2,\"x\":{\"field\":\"Cycle_Index\"},\"y\":{\"field\":\"value\"}},\"id\":\"12123\",\"type\":\"Line\"},{\"attributes\":{},\"id\":\"12077\",\"type\":\"BasicTicker\"}],\"root_ids\":[\"12068\"]},\"title\":\"Bokeh Application\",\"version\":\"1.0.4\"}};\n",
       "  var render_items = [{\"docid\":\"9b30411c-6310-4e98-b93f-9108aeae6a3f\",\"roots\":{\"12068\":\"41a2a923-e841-4534-b51f-a24760e49bf8\"}}];\n",
       "  root.Bokeh.embed.embed_items_notebook(docs_json, render_items);\n",
       "\n",
       "  }\n",
       "  if (root.Bokeh !== undefined) {\n",
       "    embed_document(root);\n",
       "  } else {\n",
       "    var attempts = 0;\n",
       "    var timer = setInterval(function(root) {\n",
       "      if (root.Bokeh !== undefined) {\n",
       "        embed_document(root);\n",
       "        clearInterval(timer);\n",
       "      }\n",
       "      attempts++;\n",
       "      if (attempts > 100) {\n",
       "        console.log(\"Bokeh: ERROR: Unable to run BokehJS code because BokehJS library is missing\");\n",
       "        clearInterval(timer);\n",
       "      }\n",
       "    }, 10, root)\n",
       "  }\n",
       "})(window);"
      ],
      "application/vnd.holoviews_exec.v0+json": "",
      "text/html": [
       "<div id='12068' style='display: table; margin: 0 auto;'>\n",
       "\n",
       "\n",
       "\n",
       "\n",
       "\n",
       "  <div class=\"bk-root\" id=\"41a2a923-e841-4534-b51f-a24760e49bf8\" data-root-id=\"12068\"></div>\n",
       "</div>"
      ],
      "text/plain": [
       ":NdOverlay   [Variable]\n",
       "   :Curve   [Cycle_Index]   (value)"
      ]
     },
     "execution_count": 111,
     "metadata": {
      "application/vnd.holoviews_exec.v0+json": {
       "id": "12068"
      }
     },
     "output_type": "execute_result"
    }
   ],
   "source": [
    "s[\"cumulated_coulombic_efficiency\"].hvplot()"
   ]
  },
  {
   "cell_type": "markdown",
   "metadata": {},
   "source": [
    "## Looking more *in-depth*"
   ]
  },
  {
   "cell_type": "markdown",
   "metadata": {},
   "source": [
    "### OCV relaxation points\n",
    "Picking out 5 points on each OCV relaxation curve (distributed by last, last/2, last/2/2, ..., first)."
   ]
  },
  {
   "cell_type": "code",
   "execution_count": 60,
   "metadata": {},
   "outputs": [
    {
     "name": "stdout",
     "output_type": "stream",
     "text": [
      "(cellpy) - Analyzing 20160805_test001_45_cc\n",
      "(cellpy) - Analyzing 20160805_test001_47_cc\n",
      "   cycle  point_00  point_01  point_02  point_03  point_04  step       type\n",
      "1      1  0.095465  0.084842  0.088229  0.092232  0.095465     5  ocvrlx_up\n",
      "3      2  0.096081  0.085150  0.089615  0.093002  0.096081     5  ocvrlx_up\n",
      "5      3  0.096389  0.086689  0.089769  0.093618  0.096389     5  ocvrlx_up\n",
      "7      4  0.117019  0.099314  0.104241  0.110399  0.117019    12  ocvrlx_up\n",
      "9      5  0.122561  0.103317  0.109629  0.116403  0.122561    12  ocvrlx_up\n"
     ]
    },
    {
     "data": {
      "image/png": "[encoded data removed]",
      "text/plain": [
       "<Figure size 432x288 with 2 Axes>"
      ]
     },
     "metadata": {},
     "output_type": "display_data"
    }
   ],
   "source": [
    "from cellpy.utils.batch_tools.batch_analyzers import OCVRelaxationAnalyzer\n",
    "\n",
    "analyzer = OCVRelaxationAnalyzer()\n",
    "analyzer.assign(b.experiment)\n",
    "analyzer.do()\n",
    "ocv_df_list = analyzer.farms[0]\n",
    "df = ocv_df_list[0]\n",
    "df_up = df.loc[df.type == \"ocvrlx_up\", :]\n",
    "df_down = df.loc[df.type == \"ocvrlx_down\", :]\n",
    "\n",
    "print(df_up.head())\n",
    "df_down = df_down.set_index(\"cycle\")\n",
    "\n",
    "fig, (ax1, ax2) = plt.subplots(2, sharex=True)\n",
    "df_down.loc[:, [\"point_00\", \"point_01\", \"point_02\", \"point_03\", \"point_04\"]].plot(ax=ax1, legend=None)\n",
    "df_down.loc[:, [\"point_00\", \"point_01\", \"point_02\", \"point_03\", \"point_04\"]].plot(ax=ax2)\n",
    "ax1.set_ylim(0.7,1)\n",
    "ax2.set_ylabel(\"voltage\");"
   ]
  },
  {
   "cell_type": "code",
   "execution_count": 112,
   "metadata": {},
   "outputs": [],
   "source": [
    "_df = df_down.loc[:, [\"point_00\", \"point_01\", \"point_02\", \"point_03\", \"point_04\"]].copy()"
   ]
  },
  {
   "cell_type": "code",
   "execution_count": 114,
   "metadata": {},
   "outputs": [
    {
     "data": {
      "application/javascript": [
       "\n",
       "// Ugly hack - see HoloViews #2574 for more information\n",
       "if (!(document.getElementById('12828')) && !(document.getElementById('_anim_imgNone'))) {\n",
       "  console.log(\"Creating DOM nodes dynamically for assumed nbconvert export. To generate clean HTML output set HV_DOC_HTML as an environment variable.\")\n",
       "  var htmlObject = document.createElement('div');\n",
       "  htmlObject.innerHTML = `<div id='12828' style='display: table; margin: 0 auto;'>\n",
       "\n",
       "\n",
       "\n",
       "\n",
       "\n",
       "  <div class=\"bk-root\" id=\"06a613d7-441b-4f16-8472-e1718a2f26b8\" data-root-id=\"12828\"></div>\n",
       "</div>`;\n",
       "  var scriptTags = document.getElementsByTagName('script');\n",
       "  var parentTag = scriptTags[scriptTags.length-1].parentNode;\n",
       "  if (parentTag.attributes.length && (parentTag.attributes[0].name == 'data-shell-mode')) {\n",
       "    alert('Displaying PyViz objects in JupyterLab requires the jupyterlab_pyviz extension to be installed, install it with:\\n\\n\\tjupyter labextension install @pyviz/jupyterlab_pyviz');\n",
       "  } else {\n",
       "    parentTag.append(htmlObject)\n",
       "  }\n",
       "}\n",
       "(function(root) {\n",
       "  function embed_document(root) {\n",
       "    \n",
       "  var docs_json = {\"8745c102-4ee6-411d-b8b1-49e527421346\":{\"roots\":{\"references\":[{\"attributes\":{\"children\":[{\"id\":\"12827\",\"type\":\"ToolbarBox\"},{\"id\":\"12825\",\"type\":\"Column\"}]},\"id\":\"12828\",\"type\":\"Column\"},{\"attributes\":{\"grid_line_color\":{\"value\":null},\"plot\":{\"id\":\"12295\",\"subtype\":\"Figure\",\"type\":\"Plot\"},\"ticker\":{\"id\":\"12304\",\"type\":\"BasicTicker\"}},\"id\":\"12307\",\"type\":\"Grid\"},{\"attributes\":{\"children\":[{\"id\":\"12806\",\"type\":\"Row\"},{\"id\":\"12824\",\"type\":\"Row\"}]},\"id\":\"12825\",\"type\":\"Column\"},{\"attributes\":{},\"id\":\"12598\",\"type\":\"Selection\"},{\"attributes\":{},\"id\":\"12441\",\"type\":\"UnionRenderers\"},{\"attributes\":{},\"id\":\"12301\",\"type\":\"LinearScale\"},{\"attributes\":{\"active_drag\":\"auto\",\"active_inspect\":\"auto\",\"active_multi\":null,\"active_scroll\":\"auto\",\"active_tap\":\"auto\",\"tools\":[{\"id\":\"12539\",\"type\":\"HoverTool\"},{\"id\":\"12563\",\"type\":\"SaveTool\"},{\"id\":\"12564\",\"type\":\"PanTool\"},{\"id\":\"12565\",\"type\":\"WheelZoomTool\"},{\"id\":\"12566\",\"type\":\"BoxZoomTool\"},{\"id\":\"12567\",\"type\":\"ResetTool\"}]},\"id\":\"12568\",\"type\":\"Toolbar\"},{\"attributes\":{},\"id\":\"12567\",\"type\":\"ResetTool\"},{\"attributes\":{\"fill_color\":{\"value\":\"#ff7f0e\"},\"line_color\":{\"value\":\"#ff7f0e\"},\"size\":{\"units\":\"screen\",\"value\":5.477225575051661},\"x\":{\"field\":\"cycle\"},\"y\":{\"field\":\"value\"}},\"id\":\"12600\",\"type\":\"Scatter\"},{\"attributes\":{\"fill_color\":{\"value\":\"#1f77b4\"},\"line_color\":{\"value\":\"#1f77b4\"},\"size\":{\"units\":\"screen\",\"value\":5.477225575051661},\"x\":{\"field\":\"cycle\"},\"y\":{\"field\":\"value\"}},\"id\":\"12584\",\"type\":\"Scatter\"},{\"attributes\":{\"callback\":null,\"end\":35.0,\"reset_end\":35.0,\"reset_start\":1.0,\"start\":1.0,\"tags\":[[[\"cycle\",\"cycle\",null]]]},\"id\":\"12287\",\"type\":\"Range1d\"},{\"attributes\":{\"fill_alpha\":{\"value\":0.2},\"fill_color\":{\"value\":\"#ff7f0e\"},\"line_alpha\":{\"value\":0.2},\"line_color\":{\"value\":\"#ff7f0e\"},\"size\":{\"units\":\"screen\",\"value\":5.477225575051661},\"x\":{\"field\":\"cycle\"},\"y\":{\"field\":\"value\"}},\"id\":\"12602\",\"type\":\"Scatter\"},{\"attributes\":{},\"id\":\"12309\",\"type\":\"BasicTicker\"},{\"attributes\":{\"axis_label\":\"\",\"bounds\":\"auto\",\"formatter\":{\"id\":\"12330\",\"type\":\"BasicTickFormatter\"},\"major_label_orientation\":\"horizontal\",\"plot\":{\"id\":\"12295\",\"subtype\":\"Figure\",\"type\":\"Plot\"},\"ticker\":{\"id\":\"12309\",\"type\":\"BasicTicker\"}},\"id\":\"12308\",\"type\":\"LinearAxis\"},{\"attributes\":{},\"id\":\"12299\",\"type\":\"LinearScale\"},{\"attributes\":{\"dimension\":1,\"grid_line_color\":{\"value\":null},\"plot\":{\"id\":\"12295\",\"subtype\":\"Figure\",\"type\":\"Plot\"},\"ticker\":{\"id\":\"12309\",\"type\":\"BasicTicker\"}},\"id\":\"12312\",\"type\":\"Grid\"},{\"attributes\":{},\"id\":\"12551\",\"type\":\"LinearScale\"},{\"attributes\":{},\"id\":\"12549\",\"type\":\"LinearScale\"},{\"attributes\":{\"callback\":null,\"data\":{\"Variable\":[\"point_03\",\"point_03\",\"point_03\",\"point_03\",\"point_03\",\"point_03\",\"point_03\",\"point_03\",\"point_03\",\"point_03\",\"point_03\",\"point_03\",\"point_03\",\"point_03\",\"point_03\",\"point_03\",\"point_03\",\"point_03\",\"point_03\",\"point_03\",\"point_03\",\"point_03\",\"point_03\",\"point_03\",\"point_03\",\"point_03\",\"point_03\",\"point_03\",\"point_03\",\"point_03\",\"point_03\",\"point_03\",\"point_03\",\"point_03\",\"point_03\",\"point_03\"],\"cycle\":[1,1,2,3,4,5,6,7,8,9,10,11,12,13,14,15,16,17,19,19,20,21,22,23,24,25,26,27,28,29,30,31,32,33,34,35],\"value\":{\"__ndarray__\":\"CHz633zgB0BcbvFvHnbsPyKbDBDKGOw/RDvwL1fm6z+HPt7/VZTqPwPCITDjYeo/rLYU8Ghk6j8sNxEwzFfqP/rK7o8YQeo/I0DejwE36j96S+vPezTqP3N15m9ZJeo/TCIeMN8n6j+gDP0vsRPqP/KsB0CaCeo/FQMXcD7h6T/il+1PUbHpPzij+o/Lruk/CHz633zgB0BcbvFvHnbsPyKbDBDKGOw/RDvwL1fm6z+HPt7/VZTqPwPCITDjYeo/rLYU8Ghk6j8sNxEwzFfqP/rK7o8YQeo/I0DejwE36j96S+vPezTqP3N15m9ZJeo/TCIeMN8n6j+gDP0vsRPqP/KsB0CaCeo/FQMXcD7h6T/il+1PUbHpPzij+o/Lruk/\",\"dtype\":\"float64\",\"shape\":[36]}},\"selected\":{\"id\":\"12634\",\"type\":\"Selection\"},\"selection_policy\":{\"id\":\"12674\",\"type\":\"UnionRenderers\"}},\"id\":\"12633\",\"type\":\"ColumnDataSource\"},{\"attributes\":{\"axis_label\":\"cycle\",\"bounds\":\"auto\",\"formatter\":{\"id\":\"12328\",\"type\":\"BasicTickFormatter\"},\"major_label_orientation\":\"horizontal\",\"plot\":{\"id\":\"12295\",\"subtype\":\"Figure\",\"type\":\"Plot\"},\"ticker\":{\"id\":\"12304\",\"type\":\"BasicTicker\"}},\"id\":\"12303\",\"type\":\"LinearAxis\"},{\"attributes\":{},\"id\":\"12304\",\"type\":\"BasicTicker\"},{\"attributes\":{\"source\":{\"id\":\"12633\",\"type\":\"ColumnDataSource\"}},\"id\":\"12640\",\"type\":\"CDSView\"},{\"attributes\":{\"fill_alpha\":{\"value\":0.1},\"fill_color\":{\"value\":\"#1f77b4\"},\"line_alpha\":{\"value\":0.1},\"line_color\":{\"value\":\"#1f77b4\"},\"size\":{\"units\":\"screen\",\"value\":5.477225575051661},\"x\":{\"field\":\"cycle\"},\"y\":{\"field\":\"value\"}},\"id\":\"12585\",\"type\":\"Scatter\"},{\"attributes\":{\"fill_alpha\":{\"value\":0.2},\"fill_color\":{\"value\":\"#2ca02c\"},\"line_alpha\":{\"value\":0.2},\"line_color\":{\"value\":\"#2ca02c\"},\"size\":{\"units\":\"screen\",\"value\":5.477225575051661},\"x\":{\"field\":\"cycle\"},\"y\":{\"field\":\"value\"}},\"id\":\"12619\",\"type\":\"Scatter\"},{\"attributes\":{},\"id\":\"12651\",\"type\":\"UnionRenderers\"},{\"attributes\":{\"bottom_units\":\"screen\",\"fill_alpha\":{\"value\":0.5},\"fill_color\":{\"value\":\"lightgrey\"},\"left_units\":\"screen\",\"level\":\"overlay\",\"line_alpha\":{\"value\":1.0},\"line_color\":{\"value\":\"black\"},\"line_dash\":[4,4],\"line_width\":{\"value\":2},\"plot\":null,\"render_mode\":\"css\",\"right_units\":\"screen\",\"top_units\":\"screen\"},\"id\":\"12572\",\"type\":\"BoxAnnotation\"},{\"attributes\":{\"callback\":null,\"data\":{\"Variable\":[\"point_01\",\"point_01\",\"point_01\",\"point_01\",\"point_01\",\"point_01\",\"point_01\",\"point_01\",\"point_01\",\"point_01\",\"point_01\",\"point_01\",\"point_01\",\"point_01\",\"point_01\",\"point_01\",\"point_01\",\"point_01\",\"point_01\",\"point_01\",\"point_01\",\"point_01\",\"point_01\",\"point_01\",\"point_01\",\"point_01\",\"point_01\",\"point_01\",\"point_01\",\"point_01\",\"point_01\",\"point_01\",\"point_01\",\"point_01\",\"point_01\",\"point_01\"],\"cycle\":[1,1,2,3,4,5,6,7,8,9,10,11,12,13,14,15,16,17,19,19,20,21,22,23,24,25,26,27,28,29,30,31,32,33,34,35],\"value\":{\"__ndarray__\":\"ybJ5fzDmCEBq6ebvmcXtP7of6E+4mu0/NqMrgEVo7T/yufxPSm3sP/zZ+q+UOew/fKPSXxo87D8lT+qvfS/sP6g58J+rQ+w//Nn6r5Q57D9S5QfwDjfsP9JlBDByKuw/0mUEMHIq7D93phlQRBbsP6IbCVAtDOw/SxD8D7MO7D9B0O3/xd7rP5fb+j9A3Os/ybJ5fzDmCEBq6ebvmcXtP7of6E+4mu0/NqMrgEVo7T/yufxPSm3sP/zZ+q+UOew/fKPSXxo87D8lT+qvfS/sP6g58J+rQ+w//Nn6r5Q57D9S5QfwDjfsP9JlBDByKuw/0mUEMHIq7D93phlQRBbsP6IbCVAtDOw/SxD8D7MO7D9B0O3/xd7rP5fb+j9A3Os/\",\"dtype\":\"float64\",\"shape\":[36]}},\"selected\":{\"id\":\"12598\",\"type\":\"Selection\"},\"selection_policy\":{\"id\":\"12630\",\"type\":\"UnionRenderers\"}},\"id\":\"12597\",\"type\":\"ColumnDataSource\"},{\"attributes\":{\"fill_alpha\":{\"value\":0.1},\"fill_color\":{\"value\":\"#ff7f0e\"},\"line_alpha\":{\"value\":0.1},\"line_color\":{\"value\":\"#ff7f0e\"},\"size\":{\"units\":\"screen\",\"value\":5.477225575051661},\"x\":{\"field\":\"cycle\"},\"y\":{\"field\":\"value\"}},\"id\":\"12601\",\"type\":\"Scatter\"},{\"attributes\":{},\"id\":\"12578\",\"type\":\"BasicTickFormatter\"},{\"attributes\":{\"fill_alpha\":{\"value\":0.1},\"fill_color\":{\"value\":\"#2ca02c\"},\"line_alpha\":{\"value\":0.1},\"line_color\":{\"value\":\"#2ca02c\"},\"size\":{\"units\":\"screen\",\"value\":5.477225575051661},\"x\":{\"field\":\"cycle\"},\"y\":{\"field\":\"value\"}},\"id\":\"12618\",\"type\":\"Scatter\"},{\"attributes\":{\"below\":[{\"id\":\"12553\",\"type\":\"LinearAxis\"}],\"left\":[{\"id\":\"12558\",\"type\":\"LinearAxis\"}],\"min_border_bottom\":10,\"min_border_left\":10,\"min_border_right\":10,\"min_border_top\":10,\"plot_height\":300,\"plot_width\":700,\"renderers\":[{\"id\":\"12553\",\"type\":\"LinearAxis\"},{\"id\":\"12557\",\"type\":\"Grid\"},{\"id\":\"12558\",\"type\":\"LinearAxis\"},{\"id\":\"12562\",\"type\":\"Grid\"},{\"id\":\"12572\",\"type\":\"BoxAnnotation\"},{\"id\":\"12595\",\"type\":\"Legend\"},{\"id\":\"12587\",\"type\":\"GlyphRenderer\"},{\"id\":\"12603\",\"type\":\"GlyphRenderer\"},{\"id\":\"12620\",\"type\":\"GlyphRenderer\"},{\"id\":\"12639\",\"type\":\"GlyphRenderer\"},{\"id\":\"12660\",\"type\":\"GlyphRenderer\"},{\"id\":\"12595\",\"type\":\"Legend\"}],\"right\":[{\"id\":\"12595\",\"type\":\"Legend\"}],\"title\":{\"id\":\"12544\",\"type\":\"Title\"},\"toolbar\":{\"id\":\"12568\",\"type\":\"Toolbar\"},\"toolbar_location\":null,\"x_range\":{\"id\":\"12287\",\"type\":\"Range1d\"},\"x_scale\":{\"id\":\"12549\",\"type\":\"LinearScale\"},\"y_range\":{\"id\":\"12288\",\"type\":\"Range1d\"},\"y_scale\":{\"id\":\"12551\",\"type\":\"LinearScale\"}},\"id\":\"12545\",\"subtype\":\"Figure\",\"type\":\"Plot\"},{\"attributes\":{},\"id\":\"12328\",\"type\":\"BasicTickFormatter\"},{\"attributes\":{\"plot\":null,\"text\":\"\",\"text_color\":{\"value\":\"black\"},\"text_font_size\":{\"value\":\"12pt\"}},\"id\":\"12544\",\"type\":\"Title\"},{\"attributes\":{\"source\":{\"id\":\"12581\",\"type\":\"ColumnDataSource\"}},\"id\":\"12588\",\"type\":\"CDSView\"},{\"attributes\":{\"label\":{\"value\":\"point_03\"},\"renderers\":[{\"id\":\"12639\",\"type\":\"GlyphRenderer\"}]},\"id\":\"12653\",\"type\":\"LegendItem\"},{\"attributes\":{\"callback\":null,\"renderers\":[{\"id\":\"12587\",\"type\":\"GlyphRenderer\"},{\"id\":\"12603\",\"type\":\"GlyphRenderer\"},{\"id\":\"12620\",\"type\":\"GlyphRenderer\"},{\"id\":\"12639\",\"type\":\"GlyphRenderer\"},{\"id\":\"12660\",\"type\":\"GlyphRenderer\"}],\"tooltips\":[[\"Variable\",\"@{Variable}\"],[\"cycle\",\"@{cycle}\"],[\"value\",\"@{value}\"]]},\"id\":\"12539\",\"type\":\"HoverTool\"},{\"attributes\":{},\"id\":\"12564\",\"type\":\"PanTool\"},{\"attributes\":{\"line_alpha\":0.2,\"line_color\":\"#d62728\",\"line_width\":2,\"x\":{\"field\":\"cycle\"},\"y\":{\"field\":\"value\"}},\"id\":\"12388\",\"type\":\"Line\"},{\"attributes\":{\"callback\":null,\"data\":{\"Variable\":[\"point_04\",\"point_04\",\"point_04\",\"point_04\",\"point_04\",\"point_04\",\"point_04\",\"point_04\",\"point_04\",\"point_04\",\"point_04\",\"point_04\",\"point_04\",\"point_04\",\"point_04\",\"point_04\",\"point_04\",\"point_04\",\"point_04\",\"point_04\",\"point_04\",\"point_04\",\"point_04\",\"point_04\",\"point_04\",\"point_04\",\"point_04\",\"point_04\",\"point_04\",\"point_04\",\"point_04\",\"point_04\",\"point_04\",\"point_04\",\"point_04\",\"point_04\"],\"cycle\":[1,1,2,3,4,5,6,7,8,9,10,11,12,13,14,15,16,17,19,19,20,21,22,23,24,25,26,27,28,29,30,31,32,33,34,35],\"value\":{\"__ndarray__\":\"WdmAAAAdB0D7uuN/uLzrP7oS8z8IN+s/AVHIf5UE6z+g7Ox/DrDpP+wAxx++jOk/8kQVoJt96T+YhSrAbWnpP5JC1b9WX+k/jGzQXzRQ6T8/xzhgBjzpPzjxMwDkLOk/BhjBvzsb6T+EBQ6gkwnpP9hcPUBa8Og/UZrkf6bZ6D+frr4fVrboP0ozIsAFk+g/WdmAAAAdB0D7uuN/uLzrP7oS8z8IN+s/AVHIf5UE6z+g7Ox/DrDpP+wAxx++jOk/8kQVoJt96T+YhSrAbWnpP5JC1b9WX+k/jGzQXzRQ6T8/xzhgBjzpPzjxMwDkLOk/BhjBvzsb6T+EBQ6gkwnpP9hcPUBa8Og/UZrkf6bZ6D+frr4fVrboP0ozIsAFk+g/\",\"dtype\":\"float64\",\"shape\":[36]}},\"selected\":{\"id\":\"12655\",\"type\":\"Selection\"},\"selection_policy\":{\"id\":\"12691\",\"type\":\"UnionRenderers\"}},\"id\":\"12654\",\"type\":\"ColumnDataSource\"},{\"attributes\":{\"line_color\":\"#ff7f0e\",\"line_width\":2,\"x\":{\"field\":\"cycle\"},\"y\":{\"field\":\"value\"}},\"id\":\"12350\",\"type\":\"Line\"},{\"attributes\":{\"source\":{\"id\":\"12383\",\"type\":\"ColumnDataSource\"}},\"id\":\"12390\",\"type\":\"CDSView\"},{\"attributes\":{},\"id\":\"12655\",\"type\":\"Selection\"},{\"attributes\":{\"line_alpha\":0.1,\"line_color\":\"#ff7f0e\",\"line_width\":2,\"x\":{\"field\":\"cycle\"},\"y\":{\"field\":\"value\"}},\"id\":\"12351\",\"type\":\"Line\"},{\"attributes\":{\"label\":{\"value\":\"point_03\"},\"renderers\":[{\"id\":\"12389\",\"type\":\"GlyphRenderer\"}]},\"id\":\"12403\",\"type\":\"LegendItem\"},{\"attributes\":{\"line_color\":\"#d62728\",\"line_width\":2,\"x\":{\"field\":\"cycle\"},\"y\":{\"field\":\"value\"}},\"id\":\"12386\",\"type\":\"Line\"},{\"attributes\":{},\"id\":\"12348\",\"type\":\"Selection\"},{\"attributes\":{\"data_source\":{\"id\":\"12383\",\"type\":\"ColumnDataSource\"},\"glyph\":{\"id\":\"12386\",\"type\":\"Line\"},\"hover_glyph\":null,\"muted_glyph\":{\"id\":\"12388\",\"type\":\"Line\"},\"nonselection_glyph\":{\"id\":\"12387\",\"type\":\"Line\"},\"selection_glyph\":null,\"view\":{\"id\":\"12390\",\"type\":\"CDSView\"}},\"id\":\"12389\",\"type\":\"GlyphRenderer\"},{\"attributes\":{\"grid_line_color\":{\"value\":null},\"plot\":{\"id\":\"12545\",\"subtype\":\"Figure\",\"type\":\"Plot\"},\"ticker\":{\"id\":\"12554\",\"type\":\"BasicTicker\"}},\"id\":\"12557\",\"type\":\"Grid\"},{\"attributes\":{},\"id\":\"12365\",\"type\":\"Selection\"},{\"attributes\":{},\"id\":\"12630\",\"type\":\"UnionRenderers\"},{\"attributes\":{\"line_color\":\"#2ca02c\",\"line_width\":2,\"x\":{\"field\":\"cycle\"},\"y\":{\"field\":\"value\"}},\"id\":\"12367\",\"type\":\"Line\"},{\"attributes\":{\"fill_color\":{\"value\":\"#9467bd\"},\"line_color\":{\"value\":\"#9467bd\"},\"size\":{\"units\":\"screen\",\"value\":5.477225575051661},\"x\":{\"field\":\"cycle\"},\"y\":{\"field\":\"value\"}},\"id\":\"12657\",\"type\":\"Scatter\"},{\"attributes\":{},\"id\":\"12580\",\"type\":\"BasicTickFormatter\"},{\"attributes\":{\"dimension\":1,\"grid_line_color\":{\"value\":null},\"plot\":{\"id\":\"12545\",\"subtype\":\"Figure\",\"type\":\"Plot\"},\"ticker\":{\"id\":\"12559\",\"type\":\"BasicTicker\"}},\"id\":\"12562\",\"type\":\"Grid\"},{\"attributes\":{\"fill_alpha\":{\"value\":0.1},\"fill_color\":{\"value\":\"#9467bd\"},\"line_alpha\":{\"value\":0.1},\"line_color\":{\"value\":\"#9467bd\"},\"size\":{\"units\":\"screen\",\"value\":5.477225575051661},\"x\":{\"field\":\"cycle\"},\"y\":{\"field\":\"value\"}},\"id\":\"12658\",\"type\":\"Scatter\"},{\"attributes\":{\"callback\":null,\"data\":{\"Variable\":[\"point_04\",\"point_04\",\"point_04\",\"point_04\",\"point_04\",\"point_04\",\"point_04\",\"point_04\",\"point_04\",\"point_04\",\"point_04\",\"point_04\",\"point_04\",\"point_04\",\"point_04\",\"point_04\",\"point_04\",\"point_04\",\"point_04\",\"point_04\",\"point_04\",\"point_04\",\"point_04\",\"point_04\",\"point_04\",\"point_04\",\"point_04\",\"point_04\",\"point_04\",\"point_04\",\"point_04\",\"point_04\",\"point_04\",\"point_04\",\"point_04\",\"point_04\"],\"cycle\":[1,1,2,3,4,5,6,7,8,9,10,11,12,13,14,15,16,17,19,19,20,21,22,23,24,25,26,27,28,29,30,31,32,33,34,35],\"value\":{\"__ndarray__\":\"WdmAAAAdB0D7uuN/uLzrP7oS8z8IN+s/AVHIf5UE6z+g7Ox/DrDpP+wAxx++jOk/8kQVoJt96T+YhSrAbWnpP5JC1b9WX+k/jGzQXzRQ6T8/xzhgBjzpPzjxMwDkLOk/BhjBvzsb6T+EBQ6gkwnpP9hcPUBa8Og/UZrkf6bZ6D+frr4fVrboP0ozIsAFk+g/WdmAAAAdB0D7uuN/uLzrP7oS8z8IN+s/AVHIf5UE6z+g7Ox/DrDpP+wAxx++jOk/8kQVoJt96T+YhSrAbWnpP5JC1b9WX+k/jGzQXzRQ6T8/xzhgBjzpPzjxMwDkLOk/BhjBvzsb6T+EBQ6gkwnpP9hcPUBa8Og/UZrkf6bZ6D+frr4fVrboP0ozIsAFk+g/\",\"dtype\":\"float64\",\"shape\":[36]}},\"selected\":{\"id\":\"12405\",\"type\":\"Selection\"},\"selection_policy\":{\"id\":\"12441\",\"type\":\"UnionRenderers\"}},\"id\":\"12404\",\"type\":\"ColumnDataSource\"},{\"attributes\":{\"axis_label\":\"cycle\",\"bounds\":\"auto\",\"formatter\":{\"id\":\"12578\",\"type\":\"BasicTickFormatter\"},\"major_label_orientation\":\"horizontal\",\"plot\":{\"id\":\"12545\",\"subtype\":\"Figure\",\"type\":\"Plot\"},\"ticker\":{\"id\":\"12554\",\"type\":\"BasicTicker\"}},\"id\":\"12553\",\"type\":\"LinearAxis\"},{\"attributes\":{\"fill_alpha\":{\"value\":0.2},\"fill_color\":{\"value\":\"#9467bd\"},\"line_alpha\":{\"value\":0.2},\"line_color\":{\"value\":\"#9467bd\"},\"size\":{\"units\":\"screen\",\"value\":5.477225575051661},\"x\":{\"field\":\"cycle\"},\"y\":{\"field\":\"value\"}},\"id\":\"12659\",\"type\":\"Scatter\"},{\"attributes\":{},\"id\":\"12401\",\"type\":\"UnionRenderers\"},{\"attributes\":{\"click_policy\":\"mute\",\"items\":[{\"id\":\"12346\",\"type\":\"LegendItem\"},{\"id\":\"12363\",\"type\":\"LegendItem\"},{\"id\":\"12382\",\"type\":\"LegendItem\"},{\"id\":\"12403\",\"type\":\"LegendItem\"},{\"id\":\"12426\",\"type\":\"LegendItem\"}],\"location\":[0,0],\"plot\":{\"id\":\"12295\",\"subtype\":\"Figure\",\"type\":\"Plot\"}},\"id\":\"12345\",\"type\":\"Legend\"},{\"attributes\":{},\"id\":\"12405\",\"type\":\"Selection\"},{\"attributes\":{\"data_source\":{\"id\":\"12654\",\"type\":\"ColumnDataSource\"},\"glyph\":{\"id\":\"12657\",\"type\":\"Scatter\"},\"hover_glyph\":null,\"muted_glyph\":{\"id\":\"12659\",\"type\":\"Scatter\"},\"nonselection_glyph\":{\"id\":\"12658\",\"type\":\"Scatter\"},\"selection_glyph\":null,\"view\":{\"id\":\"12661\",\"type\":\"CDSView\"}},\"id\":\"12660\",\"type\":\"GlyphRenderer\"},{\"attributes\":{\"source\":{\"id\":\"12597\",\"type\":\"ColumnDataSource\"}},\"id\":\"12604\",\"type\":\"CDSView\"},{\"attributes\":{\"label\":{\"value\":\"point_00\"},\"renderers\":[{\"id\":\"12337\",\"type\":\"GlyphRenderer\"}]},\"id\":\"12346\",\"type\":\"LegendItem\"},{\"attributes\":{},\"id\":\"12582\",\"type\":\"Selection\"},{\"attributes\":{\"bottom_units\":\"screen\",\"fill_alpha\":{\"value\":0.5},\"fill_color\":{\"value\":\"lightgrey\"},\"left_units\":\"screen\",\"level\":\"overlay\",\"line_alpha\":{\"value\":1.0},\"line_color\":{\"value\":\"black\"},\"line_dash\":[4,4],\"line_width\":{\"value\":2},\"plot\":null,\"render_mode\":\"css\",\"right_units\":\"screen\",\"top_units\":\"screen\"},\"id\":\"12322\",\"type\":\"BoxAnnotation\"},{\"attributes\":{\"fill_color\":{\"value\":\"#d62728\"},\"line_color\":{\"value\":\"#d62728\"},\"size\":{\"units\":\"screen\",\"value\":5.477225575051661},\"x\":{\"field\":\"cycle\"},\"y\":{\"field\":\"value\"}},\"id\":\"12636\",\"type\":\"Scatter\"},{\"attributes\":{\"source\":{\"id\":\"12654\",\"type\":\"ColumnDataSource\"}},\"id\":\"12661\",\"type\":\"CDSView\"},{\"attributes\":{},\"id\":\"12554\",\"type\":\"BasicTicker\"},{\"attributes\":{\"data_source\":{\"id\":\"12331\",\"type\":\"ColumnDataSource\"},\"glyph\":{\"id\":\"12334\",\"type\":\"Line\"},\"hover_glyph\":null,\"muted_glyph\":{\"id\":\"12336\",\"type\":\"Line\"},\"nonselection_glyph\":{\"id\":\"12335\",\"type\":\"Line\"},\"selection_glyph\":null,\"view\":{\"id\":\"12338\",\"type\":\"CDSView\"}},\"id\":\"12337\",\"type\":\"GlyphRenderer\"},{\"attributes\":{\"fill_alpha\":{\"value\":0.1},\"fill_color\":{\"value\":\"#d62728\"},\"line_alpha\":{\"value\":0.1},\"line_color\":{\"value\":\"#d62728\"},\"size\":{\"units\":\"screen\",\"value\":5.477225575051661},\"x\":{\"field\":\"cycle\"},\"y\":{\"field\":\"value\"}},\"id\":\"12637\",\"type\":\"Scatter\"},{\"attributes\":{},\"id\":\"12615\",\"type\":\"Selection\"},{\"attributes\":{\"source\":{\"id\":\"12331\",\"type\":\"ColumnDataSource\"}},\"id\":\"12338\",\"type\":\"CDSView\"},{\"attributes\":{},\"id\":\"12674\",\"type\":\"UnionRenderers\"},{\"attributes\":{\"axis_label\":\"\",\"bounds\":\"auto\",\"formatter\":{\"id\":\"12580\",\"type\":\"BasicTickFormatter\"},\"major_label_orientation\":\"horizontal\",\"plot\":{\"id\":\"12545\",\"subtype\":\"Figure\",\"type\":\"Plot\"},\"ticker\":{\"id\":\"12559\",\"type\":\"BasicTicker\"}},\"id\":\"12558\",\"type\":\"LinearAxis\"},{\"attributes\":{},\"id\":\"12563\",\"type\":\"SaveTool\"},{\"attributes\":{\"data_source\":{\"id\":\"12581\",\"type\":\"ColumnDataSource\"},\"glyph\":{\"id\":\"12584\",\"type\":\"Scatter\"},\"hover_glyph\":null,\"muted_glyph\":{\"id\":\"12586\",\"type\":\"Scatter\"},\"nonselection_glyph\":{\"id\":\"12585\",\"type\":\"Scatter\"},\"selection_glyph\":null,\"view\":{\"id\":\"12588\",\"type\":\"CDSView\"}},\"id\":\"12587\",\"type\":\"GlyphRenderer\"},{\"attributes\":{\"data_source\":{\"id\":\"12597\",\"type\":\"ColumnDataSource\"},\"glyph\":{\"id\":\"12600\",\"type\":\"Scatter\"},\"hover_glyph\":null,\"muted_glyph\":{\"id\":\"12602\",\"type\":\"Scatter\"},\"nonselection_glyph\":{\"id\":\"12601\",\"type\":\"Scatter\"},\"selection_glyph\":null,\"view\":{\"id\":\"12604\",\"type\":\"CDSView\"}},\"id\":\"12603\",\"type\":\"GlyphRenderer\"},{\"attributes\":{\"label\":{\"value\":\"point_04\"},\"renderers\":[{\"id\":\"12660\",\"type\":\"GlyphRenderer\"}]},\"id\":\"12676\",\"type\":\"LegendItem\"},{\"attributes\":{\"fill_alpha\":{\"value\":0.2},\"fill_color\":{\"value\":\"#d62728\"},\"line_alpha\":{\"value\":0.2},\"line_color\":{\"value\":\"#d62728\"},\"size\":{\"units\":\"screen\",\"value\":5.477225575051661},\"x\":{\"field\":\"cycle\"},\"y\":{\"field\":\"value\"}},\"id\":\"12638\",\"type\":\"Scatter\"},{\"attributes\":{},\"id\":\"12634\",\"type\":\"Selection\"},{\"attributes\":{\"callback\":null,\"data\":{\"Variable\":[\"point_01\",\"point_01\",\"point_01\",\"point_01\",\"point_01\",\"point_01\",\"point_01\",\"point_01\",\"point_01\",\"point_01\",\"point_01\",\"point_01\",\"point_01\",\"point_01\",\"point_01\",\"point_01\",\"point_01\",\"point_01\",\"point_01\",\"point_01\",\"point_01\",\"point_01\",\"point_01\",\"point_01\",\"point_01\",\"point_01\",\"point_01\",\"point_01\",\"point_01\",\"point_01\",\"point_01\",\"point_01\",\"point_01\",\"point_01\",\"point_01\",\"point_01\"],\"cycle\":[1,1,2,3,4,5,6,7,8,9,10,11,12,13,14,15,16,17,19,19,20,21,22,23,24,25,26,27,28,29,30,31,32,33,34,35],\"value\":{\"__ndarray__\":\"ybJ5fzDmCEBq6ebvmcXtP7of6E+4mu0/NqMrgEVo7T/yufxPSm3sP/zZ+q+UOew/fKPSXxo87D8lT+qvfS/sP6g58J+rQ+w//Nn6r5Q57D9S5QfwDjfsP9JlBDByKuw/0mUEMHIq7D93phlQRBbsP6IbCVAtDOw/SxD8D7MO7D9B0O3/xd7rP5fb+j9A3Os/ybJ5fzDmCEBq6ebvmcXtP7of6E+4mu0/NqMrgEVo7T/yufxPSm3sP/zZ+q+UOew/fKPSXxo87D8lT+qvfS/sP6g58J+rQ+w//Nn6r5Q57D9S5QfwDjfsP9JlBDByKuw/0mUEMHIq7D93phlQRBbsP6IbCVAtDOw/SxD8D7MO7D9B0O3/xd7rP5fb+j9A3Os/\",\"dtype\":\"float64\",\"shape\":[36]}},\"selected\":{\"id\":\"12348\",\"type\":\"Selection\"},\"selection_policy\":{\"id\":\"12380\",\"type\":\"UnionRenderers\"}},\"id\":\"12347\",\"type\":\"ColumnDataSource\"},{\"attributes\":{},\"id\":\"12559\",\"type\":\"BasicTicker\"},{\"attributes\":{},\"id\":\"12317\",\"type\":\"ResetTool\"},{\"attributes\":{\"line_alpha\":0.2,\"line_color\":\"#9467bd\",\"line_width\":2,\"x\":{\"field\":\"cycle\"},\"y\":{\"field\":\"value\"}},\"id\":\"12409\",\"type\":\"Line\"},{\"attributes\":{\"line_alpha\":0.2,\"line_color\":\"#2ca02c\",\"line_width\":2,\"x\":{\"field\":\"cycle\"},\"y\":{\"field\":\"value\"}},\"id\":\"12369\",\"type\":\"Line\"},{\"attributes\":{\"click_policy\":\"mute\",\"items\":[{\"id\":\"12596\",\"type\":\"LegendItem\"},{\"id\":\"12613\",\"type\":\"LegendItem\"},{\"id\":\"12632\",\"type\":\"LegendItem\"},{\"id\":\"12653\",\"type\":\"LegendItem\"},{\"id\":\"12676\",\"type\":\"LegendItem\"}],\"location\":[0,0],\"plot\":{\"id\":\"12545\",\"subtype\":\"Figure\",\"type\":\"Plot\"}},\"id\":\"12595\",\"type\":\"Legend\"},{\"attributes\":{\"toolbar\":{\"id\":\"12826\",\"type\":\"ProxyToolbar\"},\"toolbar_location\":\"above\"},\"id\":\"12827\",\"type\":\"ToolbarBox\"},{\"attributes\":{\"overlay\":{\"id\":\"12322\",\"type\":\"BoxAnnotation\"}},\"id\":\"12316\",\"type\":\"BoxZoomTool\"},{\"attributes\":{},\"id\":\"12330\",\"type\":\"BasicTickFormatter\"},{\"attributes\":{},\"id\":\"12691\",\"type\":\"UnionRenderers\"},{\"attributes\":{\"callback\":null,\"data\":{\"Variable\":[\"point_03\",\"point_03\",\"point_03\",\"point_03\",\"point_03\",\"point_03\",\"point_03\",\"point_03\",\"point_03\",\"point_03\",\"point_03\",\"point_03\",\"point_03\",\"point_03\",\"point_03\",\"point_03\",\"point_03\",\"point_03\",\"point_03\",\"point_03\",\"point_03\",\"point_03\",\"point_03\",\"point_03\",\"point_03\",\"point_03\",\"point_03\",\"point_03\",\"point_03\",\"point_03\",\"point_03\",\"point_03\",\"point_03\",\"point_03\",\"point_03\",\"point_03\"],\"cycle\":[1,1,2,3,4,5,6,7,8,9,10,11,12,13,14,15,16,17,19,19,20,21,22,23,24,25,26,27,28,29,30,31,32,33,34,35],\"value\":{\"__ndarray__\":\"CHz633zgB0BcbvFvHnbsPyKbDBDKGOw/RDvwL1fm6z+HPt7/VZTqPwPCITDjYeo/rLYU8Ghk6j8sNxEwzFfqP/rK7o8YQeo/I0DejwE36j96S+vPezTqP3N15m9ZJeo/TCIeMN8n6j+gDP0vsRPqP/KsB0CaCeo/FQMXcD7h6T/il+1PUbHpPzij+o/Lruk/CHz633zgB0BcbvFvHnbsPyKbDBDKGOw/RDvwL1fm6z+HPt7/VZTqPwPCITDjYeo/rLYU8Ghk6j8sNxEwzFfqP/rK7o8YQeo/I0DejwE36j96S+vPezTqP3N15m9ZJeo/TCIeMN8n6j+gDP0vsRPqP/KsB0CaCeo/FQMXcD7h6T/il+1PUbHpPzij+o/Lruk/\",\"dtype\":\"float64\",\"shape\":[36]}},\"selected\":{\"id\":\"12384\",\"type\":\"Selection\"},\"selection_policy\":{\"id\":\"12424\",\"type\":\"UnionRenderers\"}},\"id\":\"12383\",\"type\":\"ColumnDataSource\"},{\"attributes\":{\"data_source\":{\"id\":\"12633\",\"type\":\"ColumnDataSource\"},\"glyph\":{\"id\":\"12636\",\"type\":\"Scatter\"},\"hover_glyph\":null,\"muted_glyph\":{\"id\":\"12638\",\"type\":\"Scatter\"},\"nonselection_glyph\":{\"id\":\"12637\",\"type\":\"Scatter\"},\"selection_glyph\":null,\"view\":{\"id\":\"12640\",\"type\":\"CDSView\"}},\"id\":\"12639\",\"type\":\"GlyphRenderer\"},{\"attributes\":{},\"id\":\"12565\",\"type\":\"WheelZoomTool\"},{\"attributes\":{\"below\":[{\"id\":\"12303\",\"type\":\"LinearAxis\"}],\"left\":[{\"id\":\"12308\",\"type\":\"LinearAxis\"}],\"min_border_bottom\":10,\"min_border_left\":10,\"min_border_right\":10,\"min_border_top\":10,\"plot_height\":300,\"plot_width\":700,\"renderers\":[{\"id\":\"12303\",\"type\":\"LinearAxis\"},{\"id\":\"12307\",\"type\":\"Grid\"},{\"id\":\"12308\",\"type\":\"LinearAxis\"},{\"id\":\"12312\",\"type\":\"Grid\"},{\"id\":\"12322\",\"type\":\"BoxAnnotation\"},{\"id\":\"12345\",\"type\":\"Legend\"},{\"id\":\"12337\",\"type\":\"GlyphRenderer\"},{\"id\":\"12353\",\"type\":\"GlyphRenderer\"},{\"id\":\"12370\",\"type\":\"GlyphRenderer\"},{\"id\":\"12389\",\"type\":\"GlyphRenderer\"},{\"id\":\"12410\",\"type\":\"GlyphRenderer\"},{\"id\":\"12345\",\"type\":\"Legend\"}],\"right\":[{\"id\":\"12345\",\"type\":\"Legend\"}],\"title\":{\"id\":\"12294\",\"type\":\"Title\"},\"toolbar\":{\"id\":\"12318\",\"type\":\"Toolbar\"},\"toolbar_location\":null,\"x_range\":{\"id\":\"12287\",\"type\":\"Range1d\"},\"x_scale\":{\"id\":\"12299\",\"type\":\"LinearScale\"},\"y_range\":{\"id\":\"12288\",\"type\":\"Range1d\"},\"y_scale\":{\"id\":\"12301\",\"type\":\"LinearScale\"}},\"id\":\"12295\",\"subtype\":\"Figure\",\"type\":\"Plot\"},{\"attributes\":{\"fill_color\":{\"value\":\"#2ca02c\"},\"line_color\":{\"value\":\"#2ca02c\"},\"size\":{\"units\":\"screen\",\"value\":5.477225575051661},\"x\":{\"field\":\"cycle\"},\"y\":{\"field\":\"value\"}},\"id\":\"12617\",\"type\":\"Scatter\"},{\"attributes\":{},\"id\":\"12314\",\"type\":\"PanTool\"},{\"attributes\":{\"line_color\":\"#9467bd\",\"line_width\":2,\"x\":{\"field\":\"cycle\"},\"y\":{\"field\":\"value\"}},\"id\":\"12407\",\"type\":\"Line\"},{\"attributes\":{},\"id\":\"12315\",\"type\":\"WheelZoomTool\"},{\"attributes\":{\"overlay\":{\"id\":\"12572\",\"type\":\"BoxAnnotation\"}},\"id\":\"12566\",\"type\":\"BoxZoomTool\"},{\"attributes\":{\"plot\":null,\"text\":\"\",\"text_color\":{\"value\":\"black\"},\"text_font_size\":{\"value\":\"12pt\"}},\"id\":\"12294\",\"type\":\"Title\"},{\"attributes\":{\"line_alpha\":0.1,\"line_color\":\"#9467bd\",\"line_width\":2,\"x\":{\"field\":\"cycle\"},\"y\":{\"field\":\"value\"}},\"id\":\"12408\",\"type\":\"Line\"},{\"attributes\":{\"active_drag\":\"auto\",\"active_inspect\":\"auto\",\"active_multi\":null,\"active_scroll\":\"auto\",\"active_tap\":\"auto\",\"tools\":[{\"id\":\"12289\",\"type\":\"HoverTool\"},{\"id\":\"12313\",\"type\":\"SaveTool\"},{\"id\":\"12314\",\"type\":\"PanTool\"},{\"id\":\"12315\",\"type\":\"WheelZoomTool\"},{\"id\":\"12316\",\"type\":\"BoxZoomTool\"},{\"id\":\"12317\",\"type\":\"ResetTool\"}]},\"id\":\"12318\",\"type\":\"Toolbar\"},{\"attributes\":{\"line_alpha\":0.1,\"line_color\":\"#2ca02c\",\"line_width\":2,\"x\":{\"field\":\"cycle\"},\"y\":{\"field\":\"value\"}},\"id\":\"12368\",\"type\":\"Line\"},{\"attributes\":{\"label\":{\"value\":\"point_00\"},\"renderers\":[{\"id\":\"12587\",\"type\":\"GlyphRenderer\"}]},\"id\":\"12596\",\"type\":\"LegendItem\"},{\"attributes\":{},\"id\":\"12313\",\"type\":\"SaveTool\"},{\"attributes\":{\"label\":{\"value\":\"point_04\"},\"renderers\":[{\"id\":\"12410\",\"type\":\"GlyphRenderer\"}]},\"id\":\"12426\",\"type\":\"LegendItem\"},{\"attributes\":{\"label\":{\"value\":\"point_02\"},\"renderers\":[{\"id\":\"12370\",\"type\":\"GlyphRenderer\"}]},\"id\":\"12382\",\"type\":\"LegendItem\"},{\"attributes\":{},\"id\":\"12384\",\"type\":\"Selection\"},{\"attributes\":{\"source\":{\"id\":\"12404\",\"type\":\"ColumnDataSource\"}},\"id\":\"12411\",\"type\":\"CDSView\"},{\"attributes\":{},\"id\":\"12611\",\"type\":\"UnionRenderers\"},{\"attributes\":{},\"id\":\"12424\",\"type\":\"UnionRenderers\"},{\"attributes\":{\"data_source\":{\"id\":\"12404\",\"type\":\"ColumnDataSource\"},\"glyph\":{\"id\":\"12407\",\"type\":\"Line\"},\"hover_glyph\":null,\"muted_glyph\":{\"id\":\"12409\",\"type\":\"Line\"},\"nonselection_glyph\":{\"id\":\"12408\",\"type\":\"Line\"},\"selection_glyph\":null,\"view\":{\"id\":\"12411\",\"type\":\"CDSView\"}},\"id\":\"12410\",\"type\":\"GlyphRenderer\"},{\"attributes\":{\"line_alpha\":0.2,\"line_color\":\"#1f77b4\",\"line_width\":2,\"x\":{\"field\":\"cycle\"},\"y\":{\"field\":\"value\"}},\"id\":\"12336\",\"type\":\"Line\"},{\"attributes\":{\"fill_alpha\":{\"value\":0.2},\"fill_color\":{\"value\":\"#1f77b4\"},\"line_alpha\":{\"value\":0.2},\"line_color\":{\"value\":\"#1f77b4\"},\"size\":{\"units\":\"screen\",\"value\":5.477225575051661},\"x\":{\"field\":\"cycle\"},\"y\":{\"field\":\"value\"}},\"id\":\"12586\",\"type\":\"Scatter\"},{\"attributes\":{\"callback\":null,\"data\":{\"Variable\":[\"point_00\",\"point_00\",\"point_00\",\"point_00\",\"point_00\",\"point_00\",\"point_00\",\"point_00\",\"point_00\",\"point_00\",\"point_00\",\"point_00\",\"point_00\",\"point_00\",\"point_00\",\"point_00\",\"point_00\",\"point_00\",\"point_00\",\"point_00\",\"point_00\",\"point_00\",\"point_00\",\"point_00\",\"point_00\",\"point_00\",\"point_00\",\"point_00\",\"point_00\",\"point_00\",\"point_00\",\"point_00\",\"point_00\",\"point_00\",\"point_00\",\"point_00\"],\"cycle\":[1,1,2,3,4,5,6,7,8,9,10,11,12,13,14,15,16,17,19,19,20,21,22,23,24,25,26,27,28,29,30,31,32,33,34,35],\"value\":{\"__ndarray__\":\"WdmAAAAdB0D7uuN/uLzrP7oS8z8IN+s/AVHIf5UE6z+g7Ox/DrDpP+wAxx++jOk/8kQVoJt96T+YhSrAbWnpP5JC1b9WX+k/jGzQXzRQ6T8/xzhgBjzpPzjxMwDkLOk/BhjBvzsb6T+EBQ6gkwnpP9hcPUBa8Og/UZrkf6bZ6D+frr4fVrboP0ozIsAFk+g/WdmAAAAdB0D7uuN/uLzrP7oS8z8IN+s/AVHIf5UE6z+g7Ox/DrDpP+wAxx++jOk/8kQVoJt96T+YhSrAbWnpP5JC1b9WX+k/jGzQXzRQ6T8/xzhgBjzpPzjxMwDkLOk/BhjBvzsb6T+EBQ6gkwnpP9hcPUBa8Og/UZrkf6bZ6D+frr4fVrboP0ozIsAFk+g/\",\"dtype\":\"float64\",\"shape\":[36]}},\"selected\":{\"id\":\"12582\",\"type\":\"Selection\"},\"selection_policy\":{\"id\":\"12611\",\"type\":\"UnionRenderers\"}},\"id\":\"12581\",\"type\":\"ColumnDataSource\"},{\"attributes\":{},\"id\":\"12380\",\"type\":\"UnionRenderers\"},{\"attributes\":{\"label\":{\"value\":\"point_01\"},\"renderers\":[{\"id\":\"12603\",\"type\":\"GlyphRenderer\"}]},\"id\":\"12613\",\"type\":\"LegendItem\"},{\"attributes\":{\"children\":[{\"id\":\"12295\",\"subtype\":\"Figure\",\"type\":\"Plot\"}]},\"id\":\"12806\",\"type\":\"Row\"},{\"attributes\":{\"data_source\":{\"id\":\"12364\",\"type\":\"ColumnDataSource\"},\"glyph\":{\"id\":\"12367\",\"type\":\"Line\"},\"hover_glyph\":null,\"muted_glyph\":{\"id\":\"12369\",\"type\":\"Line\"},\"nonselection_glyph\":{\"id\":\"12368\",\"type\":\"Line\"},\"selection_glyph\":null,\"view\":{\"id\":\"12371\",\"type\":\"CDSView\"}},\"id\":\"12370\",\"type\":\"GlyphRenderer\"},{\"attributes\":{\"source\":{\"id\":\"12364\",\"type\":\"ColumnDataSource\"}},\"id\":\"12371\",\"type\":\"CDSView\"},{\"attributes\":{\"line_alpha\":0.1,\"line_color\":\"#d62728\",\"line_width\":2,\"x\":{\"field\":\"cycle\"},\"y\":{\"field\":\"value\"}},\"id\":\"12387\",\"type\":\"Line\"},{\"attributes\":{\"line_alpha\":0.2,\"line_color\":\"#ff7f0e\",\"line_width\":2,\"x\":{\"field\":\"cycle\"},\"y\":{\"field\":\"value\"}},\"id\":\"12352\",\"type\":\"Line\"},{\"attributes\":{\"data_source\":{\"id\":\"12347\",\"type\":\"ColumnDataSource\"},\"glyph\":{\"id\":\"12350\",\"type\":\"Line\"},\"hover_glyph\":null,\"muted_glyph\":{\"id\":\"12352\",\"type\":\"Line\"},\"nonselection_glyph\":{\"id\":\"12351\",\"type\":\"Line\"},\"selection_glyph\":null,\"view\":{\"id\":\"12354\",\"type\":\"CDSView\"}},\"id\":\"12353\",\"type\":\"GlyphRenderer\"},{\"attributes\":{\"tools\":[{\"id\":\"12289\",\"type\":\"HoverTool\"},{\"id\":\"12313\",\"type\":\"SaveTool\"},{\"id\":\"12314\",\"type\":\"PanTool\"},{\"id\":\"12315\",\"type\":\"WheelZoomTool\"},{\"id\":\"12316\",\"type\":\"BoxZoomTool\"},{\"id\":\"12317\",\"type\":\"ResetTool\"},{\"id\":\"12539\",\"type\":\"HoverTool\"},{\"id\":\"12563\",\"type\":\"SaveTool\"},{\"id\":\"12564\",\"type\":\"PanTool\"},{\"id\":\"12565\",\"type\":\"WheelZoomTool\"},{\"id\":\"12566\",\"type\":\"BoxZoomTool\"},{\"id\":\"12567\",\"type\":\"ResetTool\"}]},\"id\":\"12826\",\"type\":\"ProxyToolbar\"},{\"attributes\":{\"source\":{\"id\":\"12347\",\"type\":\"ColumnDataSource\"}},\"id\":\"12354\",\"type\":\"CDSView\"},{\"attributes\":{\"data_source\":{\"id\":\"12614\",\"type\":\"ColumnDataSource\"},\"glyph\":{\"id\":\"12617\",\"type\":\"Scatter\"},\"hover_glyph\":null,\"muted_glyph\":{\"id\":\"12619\",\"type\":\"Scatter\"},\"nonselection_glyph\":{\"id\":\"12618\",\"type\":\"Scatter\"},\"selection_glyph\":null,\"view\":{\"id\":\"12621\",\"type\":\"CDSView\"}},\"id\":\"12620\",\"type\":\"GlyphRenderer\"},{\"attributes\":{},\"id\":\"12332\",\"type\":\"Selection\"},{\"attributes\":{\"callback\":null,\"data\":{\"Variable\":[\"point_00\",\"point_00\",\"point_00\",\"point_00\",\"point_00\",\"point_00\",\"point_00\",\"point_00\",\"point_00\",\"point_00\",\"point_00\",\"point_00\",\"point_00\",\"point_00\",\"point_00\",\"point_00\",\"point_00\",\"point_00\",\"point_00\",\"point_00\",\"point_00\",\"point_00\",\"point_00\",\"point_00\",\"point_00\",\"point_00\",\"point_00\",\"point_00\",\"point_00\",\"point_00\",\"point_00\",\"point_00\",\"point_00\",\"point_00\",\"point_00\",\"point_00\"],\"cycle\":[1,1,2,3,4,5,6,7,8,9,10,11,12,13,14,15,16,17,19,19,20,21,22,23,24,25,26,27,28,29,30,31,32,33,34,35],\"value\":{\"__ndarray__\":\"WdmAAAAdB0D7uuN/uLzrP7oS8z8IN+s/AVHIf5UE6z+g7Ox/DrDpP+wAxx++jOk/8kQVoJt96T+YhSrAbWnpP5JC1b9WX+k/jGzQXzRQ6T8/xzhgBjzpPzjxMwDkLOk/BhjBvzsb6T+EBQ6gkwnpP9hcPUBa8Og/UZrkf6bZ6D+frr4fVrboP0ozIsAFk+g/WdmAAAAdB0D7uuN/uLzrP7oS8z8IN+s/AVHIf5UE6z+g7Ox/DrDpP+wAxx++jOk/8kQVoJt96T+YhSrAbWnpP5JC1b9WX+k/jGzQXzRQ6T8/xzhgBjzpPzjxMwDkLOk/BhjBvzsb6T+EBQ6gkwnpP9hcPUBa8Og/UZrkf6bZ6D+frr4fVrboP0ozIsAFk+g/\",\"dtype\":\"float64\",\"shape\":[36]}},\"selected\":{\"id\":\"12332\",\"type\":\"Selection\"},\"selection_policy\":{\"id\":\"12361\",\"type\":\"UnionRenderers\"}},\"id\":\"12331\",\"type\":\"ColumnDataSource\"},{\"attributes\":{\"label\":{\"value\":\"point_02\"},\"renderers\":[{\"id\":\"12620\",\"type\":\"GlyphRenderer\"}]},\"id\":\"12632\",\"type\":\"LegendItem\"},{\"attributes\":{},\"id\":\"12361\",\"type\":\"UnionRenderers\"},{\"attributes\":{\"callback\":null,\"renderers\":[{\"id\":\"12337\",\"type\":\"GlyphRenderer\"},{\"id\":\"12353\",\"type\":\"GlyphRenderer\"},{\"id\":\"12370\",\"type\":\"GlyphRenderer\"},{\"id\":\"12389\",\"type\":\"GlyphRenderer\"},{\"id\":\"12410\",\"type\":\"GlyphRenderer\"}],\"tooltips\":[[\"Variable\",\"@{Variable}\"],[\"cycle\",\"@{cycle}\"],[\"value\",\"@{value}\"]]},\"id\":\"12289\",\"type\":\"HoverTool\"},{\"attributes\":{\"source\":{\"id\":\"12614\",\"type\":\"ColumnDataSource\"}},\"id\":\"12621\",\"type\":\"CDSView\"},{\"attributes\":{\"label\":{\"value\":\"point_01\"},\"renderers\":[{\"id\":\"12353\",\"type\":\"GlyphRenderer\"}]},\"id\":\"12363\",\"type\":\"LegendItem\"},{\"attributes\":{\"line_alpha\":0.1,\"line_color\":\"#1f77b4\",\"line_width\":2,\"x\":{\"field\":\"cycle\"},\"y\":{\"field\":\"value\"}},\"id\":\"12335\",\"type\":\"Line\"},{\"attributes\":{\"callback\":null,\"data\":{\"Variable\":[\"point_02\",\"point_02\",\"point_02\",\"point_02\",\"point_02\",\"point_02\",\"point_02\",\"point_02\",\"point_02\",\"point_02\",\"point_02\",\"point_02\",\"point_02\",\"point_02\",\"point_02\",\"point_02\",\"point_02\",\"point_02\",\"point_02\",\"point_02\",\"point_02\",\"point_02\",\"point_02\",\"point_02\",\"point_02\",\"point_02\",\"point_02\",\"point_02\",\"point_02\",\"point_02\",\"point_02\",\"point_02\",\"point_02\",\"point_02\",\"point_02\",\"point_02\"],\"cycle\":[1,1,2,3,4,5,6,7,8,9,10,11,12,13,14,15,16,17,19,19,20,21,22,23,24,25,26,27,28,29,30,31,32,33,34,35],\"value\":{\"__ndarray__\":\"dtl1kFOvCEDMYN2PExrtP5b4+l9QxOw/k434L7+87D/aHRDwvWrrP66H8q8sY+s/WHzlb7Jl6z8CKP2/FVnrP9RIBBBiQus/J+kOIEs46z9OPNdfxTXrP/jn7q8oKes/+Ofurygp6z90/ei/+hTrP8ed88/jCus/wMjn74fi6j9s3wFwfN3qP8PqDrD22uo/dtl1kFOvCEDMYN2PExrtP5b4+l9QxOw/k434L7+87D/aHRDwvWrrP66H8q8sY+s/WHzlb7Jl6z8CKP2/FVnrP9RIBBBiQus/J+kOIEs46z9OPNdfxTXrP/jn7q8oKes/+Ofurygp6z90/ei/+hTrP8ed88/jCus/wMjn74fi6j9s3wFwfN3qP8PqDrD22uo/\",\"dtype\":\"float64\",\"shape\":[36]}},\"selected\":{\"id\":\"12615\",\"type\":\"Selection\"},\"selection_policy\":{\"id\":\"12651\",\"type\":\"UnionRenderers\"}},\"id\":\"12614\",\"type\":\"ColumnDataSource\"},{\"attributes\":{\"line_color\":\"#1f77b4\",\"line_width\":2,\"x\":{\"field\":\"cycle\"},\"y\":{\"field\":\"value\"}},\"id\":\"12334\",\"type\":\"Line\"},{\"attributes\":{\"callback\":null,\"data\":{\"Variable\":[\"point_02\",\"point_02\",\"point_02\",\"point_02\",\"point_02\",\"point_02\",\"point_02\",\"point_02\",\"point_02\",\"point_02\",\"point_02\",\"point_02\",\"point_02\",\"point_02\",\"point_02\",\"point_02\",\"point_02\",\"point_02\",\"point_02\",\"point_02\",\"point_02\",\"point_02\",\"point_02\",\"point_02\",\"point_02\",\"point_02\",\"point_02\",\"point_02\",\"point_02\",\"point_02\",\"point_02\",\"point_02\",\"point_02\",\"point_02\",\"point_02\",\"point_02\"],\"cycle\":[1,1,2,3,4,5,6,7,8,9,10,11,12,13,14,15,16,17,19,19,20,21,22,23,24,25,26,27,28,29,30,31,32,33,34,35],\"value\":{\"__ndarray__\":\"dtl1kFOvCEDMYN2PExrtP5b4+l9QxOw/k434L7+87D/aHRDwvWrrP66H8q8sY+s/WHzlb7Jl6z8CKP2/FVnrP9RIBBBiQus/J+kOIEs46z9OPNdfxTXrP/jn7q8oKes/+Ofurygp6z90/ei/+hTrP8ed88/jCus/wMjn74fi6j9s3wFwfN3qP8PqDrD22uo/dtl1kFOvCEDMYN2PExrtP5b4+l9QxOw/k434L7+87D/aHRDwvWrrP66H8q8sY+s/WHzlb7Jl6z8CKP2/FVnrP9RIBBBiQus/J+kOIEs46z9OPNdfxTXrP/jn7q8oKes/+Ofurygp6z90/ei/+hTrP8ed88/jCus/wMjn74fi6j9s3wFwfN3qP8PqDrD22uo/\",\"dtype\":\"float64\",\"shape\":[36]}},\"selected\":{\"id\":\"12365\",\"type\":\"Selection\"},\"selection_policy\":{\"id\":\"12401\",\"type\":\"UnionRenderers\"}},\"id\":\"12364\",\"type\":\"ColumnDataSource\"},{\"attributes\":{\"callback\":null,\"end\":3.11239719,\"reset_end\":3.11239719,\"reset_start\":0.767947078,\"start\":0.767947078,\"tags\":[[[\"value\",\"value\",null]]]},\"id\":\"12288\",\"type\":\"Range1d\"},{\"attributes\":{\"children\":[{\"id\":\"12545\",\"subtype\":\"Figure\",\"type\":\"Plot\"}]},\"id\":\"12824\",\"type\":\"Row\"}],\"root_ids\":[\"12828\"]},\"title\":\"Bokeh Application\",\"version\":\"1.0.4\"}};\n",
       "  var render_items = [{\"docid\":\"8745c102-4ee6-411d-b8b1-49e527421346\",\"roots\":{\"12828\":\"06a613d7-441b-4f16-8472-e1718a2f26b8\"}}];\n",
       "  root.Bokeh.embed.embed_items_notebook(docs_json, render_items);\n",
       "\n",
       "  }\n",
       "  if (root.Bokeh !== undefined) {\n",
       "    embed_document(root);\n",
       "  } else {\n",
       "    var attempts = 0;\n",
       "    var timer = setInterval(function(root) {\n",
       "      if (root.Bokeh !== undefined) {\n",
       "        embed_document(root);\n",
       "        clearInterval(timer);\n",
       "      }\n",
       "      attempts++;\n",
       "      if (attempts > 100) {\n",
       "        console.log(\"Bokeh: ERROR: Unable to run BokehJS code because BokehJS library is missing\");\n",
       "        clearInterval(timer);\n",
       "      }\n",
       "    }, 10, root)\n",
       "  }\n",
       "})(window);"
      ],
      "application/vnd.holoviews_exec.v0+json": "",
      "text/html": [
       "<div id='12828' style='display: table; margin: 0 auto;'>\n",
       "\n",
       "\n",
       "\n",
       "\n",
       "\n",
       "  <div class=\"bk-root\" id=\"06a613d7-441b-4f16-8472-e1718a2f26b8\" data-root-id=\"12828\"></div>\n",
       "</div>"
      ],
      "text/plain": [
       ":Layout\n",
       "   .NdOverlay.I  :NdOverlay   [Variable]\n",
       "      :Curve   [cycle]   (value)\n",
       "   .NdOverlay.II :NdOverlay   [Variable]\n",
       "      :Scatter   [cycle]   (value)"
      ]
     },
     "execution_count": 114,
     "metadata": {
      "application/vnd.holoviews_exec.v0+json": {
       "id": "12828"
      }
     },
     "output_type": "execute_result"
    }
   ],
   "source": [
    "layout = _df.hvplot() + _df.hvplot(kind=\"scatter\")\n",
    "layout.cols(1)"
   ]
  },
  {
   "cell_type": "markdown",
   "metadata": {},
   "source": [
    "## Looking closer at some summary-plots"
   ]
  },
  {
   "cell_type": "code",
   "execution_count": 15,
   "metadata": {},
   "outputs": [
    {
     "data": {
      "text/plain": [
       "Index(['discharge_capacity', 'discharge_capacity', 'charge_capacity',\n",
       "       'charge_capacity', 'coulombic_efficiency', 'coulombic_efficiency',\n",
       "       'cumulated_coulombic_efficiency', 'cumulated_coulombic_efficiency',\n",
       "       'ir_discharge', 'ir_discharge', 'ir_charge', 'ir_charge',\n",
       "       'end_voltage_discharge', 'end_voltage_discharge', 'end_voltage_charge',\n",
       "       'end_voltage_charge'],\n",
       "      dtype='object')"
      ]
     },
     "execution_count": 15,
     "metadata": {},
     "output_type": "execute_result"
    }
   ],
   "source": [
    "b.summary_columns"
   ]
  },
  {
   "cell_type": "code",
   "execution_count": 16,
   "metadata": {},
   "outputs": [],
   "source": [
    "discharge_capacity = b.summaries.discharge_capacity\n",
    "charge_capacity = b.summaries.charge_capacity\n",
    "coulombic_efficiency = b.summaries.coulombic_efficiency\n",
    "ir_charge = b.summaries.ir_charge"
   ]
  },
  {
   "cell_type": "code",
   "execution_count": 17,
   "metadata": {},
   "outputs": [
    {
     "data": {
      "text/plain": [
       "Text(0,0.5,'resistance')"
      ]
     },
     "execution_count": 17,
     "metadata": {},
     "output_type": "execute_result"
    },
    {
     "data": {
      "image/png": "[encoded data removed]",
      "text/plain": [
       "<Figure size 432x288 with 2 Axes>"
      ]
     },
     "metadata": {},
     "output_type": "display_data"
    }
   ],
   "source": [
    "fig, (ax1, ax2) = plt.subplots(2, 1)\n",
    "ax1.plot(discharge_capacity)\n",
    "ax1.set_ylabel(\"capacity \")\n",
    "ax2.plot(ir_charge)\n",
    "ax2.set_xlabel(\"cycle\")\n",
    "ax2.set_ylabel(\"resistance\")"
   ]
  },
  {
   "cell_type": "markdown",
   "metadata": {},
   "source": [
    "## Checking for more details for each cycle"
   ]
  },
  {
   "cell_type": "markdown",
   "metadata": {},
   "source": [
    "#### 1. pick the CellpyData object for one of the cells"
   ]
  },
  {
   "cell_type": "code",
   "execution_count": 18,
   "metadata": {},
   "outputs": [
    {
     "data": {
      "text/plain": [
       "['20160805_test001_45_cc', '20160805_test001_47_cc']"
      ]
     },
     "execution_count": 18,
     "metadata": {},
     "output_type": "execute_result"
    }
   ],
   "source": [
    "# Lets check what cells we have\n",
    "cell_labels = b.experiment.cell_names\n",
    "cell_labels"
   ]
  },
  {
   "cell_type": "code",
   "execution_count": 19,
   "metadata": {},
   "outputs": [],
   "source": [
    "# OK, then I choose one of them\n",
    "data = b.experiment.data[\"20160805_test001_45_cc\"]"
   ]
  },
  {
   "cell_type": "markdown",
   "metadata": {},
   "source": [
    "#### 2. Get some voltage curves for some cycles and plot them\n",
    "The method `get_cap` can be used to extract voltage curves."
   ]
  },
  {
   "cell_type": "code",
   "execution_count": 20,
   "metadata": {},
   "outputs": [
    {
     "data": {
      "text/html": [
       "<div>\n",
       "<style scoped>\n",
       "    .dataframe tbody tr th:only-of-type {\n",
       "        vertical-align: middle;\n",
       "    }\n",
       "\n",
       "    .dataframe tbody tr th {\n",
       "        vertical-align: top;\n",
       "    }\n",
       "\n",
       "    .dataframe thead th {\n",
       "        text-align: right;\n",
       "    }\n",
       "</style>\n",
       "<table border=\"1\" class=\"dataframe\">\n",
       "  <thead>\n",
       "    <tr style=\"text-align: right;\">\n",
       "      <th></th>\n",
       "      <th>voltage</th>\n",
       "      <th>capacity</th>\n",
       "      <th>direction</th>\n",
       "    </tr>\n",
       "  </thead>\n",
       "  <tbody>\n",
       "    <tr>\n",
       "      <th>0</th>\n",
       "      <td>0.110245</td>\n",
       "      <td>0.000006</td>\n",
       "      <td>-1</td>\n",
       "    </tr>\n",
       "    <tr>\n",
       "      <th>1</th>\n",
       "      <td>0.115479</td>\n",
       "      <td>0.546367</td>\n",
       "      <td>-1</td>\n",
       "    </tr>\n",
       "    <tr>\n",
       "      <th>2</th>\n",
       "      <td>0.120714</td>\n",
       "      <td>2.793660</td>\n",
       "      <td>-1</td>\n",
       "    </tr>\n",
       "    <tr>\n",
       "      <th>3</th>\n",
       "      <td>0.125948</td>\n",
       "      <td>6.325420</td>\n",
       "      <td>-1</td>\n",
       "    </tr>\n",
       "    <tr>\n",
       "      <th>4</th>\n",
       "      <td>0.131183</td>\n",
       "      <td>10.348162</td>\n",
       "      <td>-1</td>\n",
       "    </tr>\n",
       "  </tbody>\n",
       "</table>\n",
       "</div>"
      ],
      "text/plain": [
       "    voltage   capacity  direction\n",
       "0  0.110245   0.000006         -1\n",
       "1  0.115479   0.546367         -1\n",
       "2  0.120714   2.793660         -1\n",
       "3  0.125948   6.325420         -1\n",
       "4  0.131183  10.348162         -1"
      ]
     },
     "execution_count": 20,
     "metadata": {},
     "output_type": "execute_result"
    }
   ],
   "source": [
    "cap = data.get_cap(categorical_column=True)\n",
    "cap.head()"
   ]
  },
  {
   "cell_type": "code",
   "execution_count": 21,
   "metadata": {},
   "outputs": [
    {
     "data": {
      "text/plain": [
       "Text(0,0.5,'voltage')"
      ]
     },
     "execution_count": 21,
     "metadata": {},
     "output_type": "execute_result"
    },
    {
     "data": {
      "image/png": "[encoded data removed]",
      "text/plain": [
       "<Figure size 432x288 with 1 Axes>"
      ]
     },
     "metadata": {},
     "output_type": "display_data"
    }
   ],
   "source": [
    "fig, ax = plt.subplots()\n",
    "ax.plot(cap.capacity, cap.voltage)\n",
    "ax.set_xlabel(\"capacity\")\n",
    "ax.set_ylabel(\"voltage\")"
   ]
  },
  {
   "cell_type": "code",
   "execution_count": 22,
   "metadata": {},
   "outputs": [
    {
     "data": {
      "text/plain": [
       "[<matplotlib.lines.Line2D at 0x1c1b02dc88>]"
      ]
     },
     "execution_count": 22,
     "metadata": {},
     "output_type": "execute_result"
    },
    {
     "data": {
      "image/png": "[encoded data removed]",
      "text/plain": [
       "<Figure size 432x288 with 1 Axes>"
      ]
     },
     "metadata": {},
     "output_type": "display_data"
    }
   ],
   "source": [
    "c,v = data.get_cap(method=\"forth\")\n",
    "fig, ax = plt.subplots()\n",
    "ax.set_xlabel(\"capacity\")\n",
    "ax.set_ylabel(\"voltage\")\n",
    "ax.plot(c,v)"
   ]
  },
  {
   "cell_type": "code",
   "execution_count": 23,
   "metadata": {},
   "outputs": [
    {
     "data": {
      "image/png": "[encoded data removed]",
      "text/plain": [
       "<Figure size 432x288 with 1 Axes>"
      ]
     },
     "metadata": {},
     "output_type": "display_data"
    }
   ],
   "source": [
    "c4,v4 = data.get_cap(cycle=4, method=\"forth-and-forth\")\n",
    "c10,v10 = data.get_cap(cycle=10, method=\"forth-and-forth\")\n",
    "fig, ax = plt.subplots()\n",
    "ax.set_xlabel(\"capacity\")\n",
    "ax.set_ylabel(\"voltage\")\n",
    "ax.plot(c4,v4, \"ro\", label=\"cycle 4\")\n",
    "ax.plot(c10,v10, \"bs\", label=\"cycle 22\")\n",
    "ax.legend();"
   ]
  },
  {
   "cell_type": "markdown",
   "metadata": {},
   "source": [
    "### Looking at some dqdv data"
   ]
  },
  {
   "cell_type": "markdown",
   "metadata": {},
   "source": [
    "#### Get capacity cycles and make dqdv using the ica module"
   ]
  },
  {
   "cell_type": "code",
   "execution_count": 24,
   "metadata": {},
   "outputs": [
    {
     "name": "stdout",
     "output_type": "stream",
     "text": [
      "(cellpy) - /Users/jepe/miniconda3/envs/cellpy/lib/python3.6/site-packages/scipy/signal/_arraytools.py:45: FutureWarning: Using a non-tuple sequence for multidimensional indexing is deprecated; use `arr[tuple(seq)]` instead of `arr[seq]`. In the future this will be interpreted as an array index, `arr[np.array(seq)]`, which will result either in an error or a different result.\n",
      "  b = a[a_slice]\n",
      "\n"
     ]
    },
    {
     "data": {
      "image/png": "[encoded data removed]",
      "text/plain": [
       "<Figure size 432x288 with 1 Axes>"
      ]
     },
     "metadata": {},
     "output_type": "display_data"
    }
   ],
   "source": [
    "from cellpy.utils import ica\n",
    "v4, dqdv4 = ica.dqdv_cycle(\n",
    "    data.get_cap(\n",
    "        4, \n",
    "        categorical_column=True, \n",
    "        method = \"forth-and-forth\")\n",
    ")\n",
    "\n",
    "v10, dqdv10 = ica.dqdv_cycle(\n",
    "    data.get_cap(\n",
    "        10, \n",
    "        categorical_column=True, \n",
    "        method = \"forth-and-forth\")\n",
    ")\n",
    "\n",
    "plt.plot(v4,dqdv4, label=\"cycle 4\")\n",
    "plt.plot(v10, dqdv10, label=\"cycle 10\")\n",
    "plt.legend();"
   ]
  },
  {
   "cell_type": "markdown",
   "metadata": {},
   "source": [
    "#### Put it in a for-loop for plotting many ica plots"
   ]
  },
  {
   "cell_type": "code",
   "execution_count": 25,
   "metadata": {},
   "outputs": [
    {
     "name": "stdout",
     "output_type": "stream",
     "text": [
      "(cellpy) - /Users/jepe/miniconda3/envs/cellpy/lib/python3.6/site-packages/scipy/signal/_arraytools.py:45: FutureWarning: Using a non-tuple sequence for multidimensional indexing is deprecated; use `arr[tuple(seq)]` instead of `arr[seq]`. In the future this will be interpreted as an array index, `arr[np.array(seq)]`, which will result either in an error or a different result.\n",
      "  b = a[a_slice]\n",
      "\n",
      "cycle 18 seems to be missing or corrupted\n",
      "cycle 36 seems to be missing or corrupted\n"
     ]
    },
    {
     "data": {
      "image/png": "[encoded data removed]",
      "text/plain": [
       "<Figure size 432x288 with 1 Axes>"
      ]
     },
     "metadata": {},
     "output_type": "display_data"
    }
   ],
   "source": [
    "fig, ax = plt.subplots()\n",
    "for cycle in data.get_cycle_numbers():\n",
    "    d = data.get_cap(\n",
    "            cycle, \n",
    "            categorical_column=True, \n",
    "            method = \"forth-and-forth\"\n",
    "        )\n",
    "    if not d.empty:\n",
    "        v, dqdv = ica.dqdv_cycle(d)\n",
    "        ax.plot(v, dqdv)\n",
    "    else:\n",
    "        print(f\"cycle {cycle} seems to be missing or corrupted\")\n",
    "    "
   ]
  },
  {
   "cell_type": "code",
   "execution_count": null,
   "metadata": {},
   "outputs": [],
   "source": []
  }
 ],
 "metadata": {
  "kernelspec": {
   "display_name": "Python [conda env:cellpy]",
   "language": "python",
   "name": "conda-env-cellpy-py"
  },
  "language_info": {
   "codemirror_mode": {
    "name": "ipython",
    "version": 3
   },
   "file_extension": ".py",
   "mimetype": "text/x-python",
   "name": "python",
   "nbconvert_exporter": "python",
   "pygments_lexer": "ipython3",
   "version": "3.6.7"
  }
 },
 "nbformat": 4,
 "nbformat_minor": 2
}
