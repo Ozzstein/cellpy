{
 "cells": [
  {
   "cell_type": "markdown",
   "metadata": {},
   "source": [
    "# Batch methods"
   ]
  },
  {
   "cell_type": "code",
   "execution_count": 1,
   "metadata": {},
   "outputs": [],
   "source": [
    "# standard imports\n",
    "import matplotlib.pyplot as plt\n",
    "import pandas as pd\n",
    "import os\n",
    "import tempfile\n",
    "%matplotlib inline\n",
    "# import seaborn as sbn # can be used for getting nice colormaps and good settings of the matplotlib rc"
   ]
  },
  {
   "cell_type": "code",
   "execution_count": 2,
   "metadata": {},
   "outputs": [
    {
     "data": {
      "text/html": [
       "<style>.container { width:100% !important; }</style>"
      ],
      "text/plain": [
       "<IPython.core.display.HTML object>"
      ]
     },
     "metadata": {},
     "output_type": "display_data"
    }
   ],
   "source": [
    "# some tweaks to change the apperance of the notebook (you dont have to use these if you dont like them)\n",
    "\n",
    "# big figures\n",
    "from IPython.core.pylabtools import figsize\n",
    "figsize(14, 7)\n",
    "\n",
    "# full width\n",
    "from IPython.core.display import display, HTML\n",
    "display(HTML(\"<style>.container { width:100% !important; }</style>\"))"
   ]
  },
  {
   "cell_type": "code",
   "execution_count": 3,
   "metadata": {},
   "outputs": [
    {
     "data": {
      "application/javascript": [
       "IPython.OutputArea.prototype._should_scroll = function(lines) {\n",
       "    return false;\n",
       "}"
      ],
      "text/plain": [
       "<IPython.core.display.Javascript object>"
      ]
     },
     "metadata": {},
     "output_type": "display_data"
    }
   ],
   "source": [
    "%%javascript\n",
    "IPython.OutputArea.prototype._should_scroll = function(lines) {\n",
    "    return false;\n",
    "}"
   ]
  },
  {
   "cell_type": "code",
   "execution_count": 4,
   "metadata": {},
   "outputs": [],
   "source": [
    "# cellpy imports\n",
    "from cellpy.utils import batch"
   ]
  },
  {
   "cell_type": "code",
   "execution_count": 5,
   "metadata": {},
   "outputs": [],
   "source": [
    "\n",
    "def clean_dir():\n",
    "    new_path = tempfile.mkdtemp()\n",
    "    return new_path"
   ]
  },
  {
   "cell_type": "code",
   "execution_count": 6,
   "metadata": {},
   "outputs": [],
   "source": [
    "def batch_instance(clean_dir):\n",
    "    prms = batch.prms\n",
    "    prms.Paths[\"db_filename\"] = test_db_filename\n",
    "    prms.Paths[\"cellpydatadir\"] = test_data_dir_cellpy\n",
    "    prms.Paths[\"outdatadir\"] = clean_dir\n",
    "    prms.Paths[\"rawdatadir\"] = test_data_dir_raw\n",
    "    prms.Paths[\"db_path\"] = test_data_dir_db\n",
    "    prms.Paths[\"filelogdir\"] = clean_dir\n",
    "    return batch.init(log_level=\"DEBUG\")"
   ]
  },
  {
   "cell_type": "code",
   "execution_count": 7,
   "metadata": {},
   "outputs": [],
   "source": [
    "# -------- defining overall path-names etc ----------\n",
    "current_file_path = os.getcwd()\n",
    "relative_test_data_dir = \"../testdata\"\n",
    "test_data_dir = os.path.abspath(os.path.join(current_file_path, relative_test_data_dir))\n",
    "\n",
    "test_data_dir_raw = os.path.join(test_data_dir, \"data\")\n",
    "test_data_dir_out = os.path.join(test_data_dir, \"out\")\n",
    "test_data_dir_cellpy = os.path.join(test_data_dir, \"hdf5\")\n",
    "test_data_dir_db = os.path.join(test_data_dir, \"db\")\n",
    "\n",
    "test_cellpy_file = \"20160805_test001_45_cc.h5\"\n",
    "test_cellpy_file_full = os.path.join(test_data_dir_cellpy,test_cellpy_file)\n",
    "\n",
    "test_cellpy_file_tmp = \"tmpfile.h5\"\n",
    "test_cellpy_file_tmp_full = os.path.join(test_data_dir_cellpy,test_cellpy_file_tmp)\n",
    "\n",
    "test_db_filename = \"cellpy_db.xlsx\"\n",
    "test_db_filename_full = os.path.join(test_data_dir_db,test_db_filename)\n",
    "\n",
    "test_run_name = \"20160805_test001_45_cc\"\n",
    "\n",
    "test_res_file = \"20160805_test001_45_cc_01.res\"\n",
    "test_res_file_full = os.path.join(test_data_dir_raw,test_res_file)"
   ]
  },
  {
   "cell_type": "code",
   "execution_count": 8,
   "metadata": {},
   "outputs": [
    {
     "name": "stdout",
     "output_type": "stream",
     "text": [
      "/var/folders/wj/k1t54hxd4jqfym7f1sy0rg980000gn/T/tmpgigm8rbe\n"
     ]
    }
   ],
   "source": [
    "out_dir = clean_dir()\n",
    "print(out_dir)"
   ]
  },
  {
   "cell_type": "code",
   "execution_count": 9,
   "metadata": {},
   "outputs": [
    {
     "name": "stdout",
     "output_type": "stream",
     "text": [
      "(cellpy) - /Users/jepe/scripting/cellpy/cellpy/utils/batch.py:423: UserWarning: Trying to set non-existing attribute (log_level)\n",
      "  warnings.warn(\"Trying to set non-existing attribute (%s)\" % key)\n",
      "\n"
     ]
    }
   ],
   "source": [
    "b = batch_instance(out_dir)"
   ]
  },
  {
   "cell_type": "code",
   "execution_count": 10,
   "metadata": {},
   "outputs": [],
   "source": [
    "# Name of the experimental set (as defined in the excel-file)\n",
    "name = \"test\"\n",
    "project = \"ProjectOfRun\"\n",
    "b.name = name\n",
    "b.project = project"
   ]
  },
  {
   "cell_type": "code",
   "execution_count": 11,
   "metadata": {},
   "outputs": [],
   "source": [
    "# some options for loading, exporting and saving\n",
    "b.export_raw = True\n",
    "b.export_cycles = True\n",
    "b.export_ica = False\n",
    "b.save_cellpy_file = True\n",
    "b.force_raw_file = True\n",
    "b.force_cellpy_file = False\n",
    "b.shifted_cycles = True\n",
    "\n",
    "# adding some extra things to make a summary of:\n",
    "b.selected_summaries.extend([\"shifted_charge_capacity\", \"shifted_discharge_capacity\", \"low_level\", \"high_level\",])"
   ]
  },
  {
   "cell_type": "code",
   "execution_count": 12,
   "metadata": {},
   "outputs": [],
   "source": [
    "b.create_info_df()"
   ]
  },
  {
   "cell_type": "code",
   "execution_count": 13,
   "metadata": {},
   "outputs": [],
   "source": [
    "b.create_folder_structure()"
   ]
  },
  {
   "cell_type": "code",
   "execution_count": 14,
   "metadata": {},
   "outputs": [
    {
     "name": "stdout",
     "output_type": "stream",
     "text": [
      "[|.]\n",
      "(cellpy) - Processing 20160805_test001_45_cc\n",
      "(cellpy) - created CellpyData instance\n",
      "(cellpy) - setting cycle mode (anode)...\n",
      "(cellpy) - loading cell\n",
      "(cellpy) - not forcing\n",
      "(cellpy) - started loadcell\n",
      "(cellpy) - cellpy file(s) needs updating - loading raw\n",
      "(cellpy) - assuming cycling anode half-cell (discharge before charge)\n",
      "(cellpy) - ...loaded successfully...\n",
      "(cellpy) - Trying to get summary_data\n",
      "(cellpy) - exporting csv\n",
      "(cellpy) - saving to csv (CellpyData.to_csv\n",
      "(cellpy) - /var/folders/wj/k1t54hxd4jqfym7f1sy0rg980000gn/T/tmpgigm8rbe/ProjectOfRun/test/raw_data/20160805_test001_45_cc_01_normal.csv OK\n",
      "(cellpy) - /var/folders/wj/k1t54hxd4jqfym7f1sy0rg980000gn/T/tmpgigm8rbe/ProjectOfRun/test/raw_data/20160805_test001_45_cc_01_steps.csv OK\n",
      "(cellpy) - /var/folders/wj/k1t54hxd4jqfym7f1sy0rg980000gn/T/tmpgigm8rbe/ProjectOfRun/test/raw_data/20160805_test001_45_cc_01_stats.csv OK\n",
      "(cellpy) - /var/folders/wj/k1t54hxd4jqfym7f1sy0rg980000gn/T/tmpgigm8rbe/ProjectOfRun/test/raw_data/20160805_test001_45_cc_01_cycles.csv exported.\n",
      "[||]\n",
      "(cellpy) - Processing 20160805_test001_47_cc\n",
      "(cellpy) - created CellpyData instance\n",
      "(cellpy) - setting cycle mode (anode)...\n",
      "(cellpy) - loading cell\n",
      "(cellpy) - not forcing\n",
      "(cellpy) - started loadcell\n",
      "(cellpy) - cellpy file(s) needs updating - loading raw\n",
      "(cellpy) - assuming cycling anode half-cell (discharge before charge)\n",
      "(cellpy) - ...loaded successfully...\n",
      "(cellpy) - Trying to get summary_data\n",
      "(cellpy) - saving cell to /Users/jepe/scripting/cellpy/testdata/hdf5/20160805_test001_47_cc.h5\n",
      "(cellpy) - exporting csv\n",
      "(cellpy) - saving to csv (CellpyData.to_csv\n",
      "(cellpy) - /var/folders/wj/k1t54hxd4jqfym7f1sy0rg980000gn/T/tmpgigm8rbe/ProjectOfRun/test/raw_data/20160805_test001_47_cc_01_normal.csv OK\n",
      "(cellpy) - /var/folders/wj/k1t54hxd4jqfym7f1sy0rg980000gn/T/tmpgigm8rbe/ProjectOfRun/test/raw_data/20160805_test001_47_cc_01_steps.csv OK\n",
      "(cellpy) - /var/folders/wj/k1t54hxd4jqfym7f1sy0rg980000gn/T/tmpgigm8rbe/ProjectOfRun/test/raw_data/20160805_test001_47_cc_01_stats.csv OK\n",
      "(cellpy) - /var/folders/wj/k1t54hxd4jqfym7f1sy0rg980000gn/T/tmpgigm8rbe/ProjectOfRun/test/raw_data/20160805_test001_47_cc_01_cycles.csv exported.\n",
      "(cellpy) - Finished\n"
     ]
    }
   ],
   "source": [
    "b.load_and_save_raw()"
   ]
  },
  {
   "cell_type": "code",
   "execution_count": 15,
   "metadata": {},
   "outputs": [
    {
     "name": "stdout",
     "output_type": "stream",
     "text": [
      "(cellpy) - saved summary (discharge_capacity) to:\n",
      "       /var/folders/wj/k1t54hxd4jqfym7f1sy0rg980000gn/T/tmpgigm8rbe/ProjectOfRun/test/summary_discharge_capacity_test.csv\n",
      "(cellpy) - saved summary (charge_capacity) to:\n",
      "       /var/folders/wj/k1t54hxd4jqfym7f1sy0rg980000gn/T/tmpgigm8rbe/ProjectOfRun/test/summary_charge_capacity_test.csv\n",
      "(cellpy) - saved summary (coulombic_efficiency) to:\n",
      "       /var/folders/wj/k1t54hxd4jqfym7f1sy0rg980000gn/T/tmpgigm8rbe/ProjectOfRun/test/summary_coulombic_efficiency_test.csv\n",
      "(cellpy) - saved summary (cumulated_coulombic_efficiency) to:\n",
      "       /var/folders/wj/k1t54hxd4jqfym7f1sy0rg980000gn/T/tmpgigm8rbe/ProjectOfRun/test/summary_cumulated_coulombic_efficiency_test.csv\n",
      "(cellpy) - saved summary (ir_discharge) to:\n",
      "       /var/folders/wj/k1t54hxd4jqfym7f1sy0rg980000gn/T/tmpgigm8rbe/ProjectOfRun/test/summary_ir_discharge_test.csv\n",
      "(cellpy) - saved summary (ir_charge) to:\n",
      "       /var/folders/wj/k1t54hxd4jqfym7f1sy0rg980000gn/T/tmpgigm8rbe/ProjectOfRun/test/summary_ir_charge_test.csv\n",
      "(cellpy) - saved summary (end_voltage_discharge) to:\n",
      "       /var/folders/wj/k1t54hxd4jqfym7f1sy0rg980000gn/T/tmpgigm8rbe/ProjectOfRun/test/summary_end_voltage_discharge_test.csv\n",
      "(cellpy) - saved summary (end_voltage_charge) to:\n",
      "       /var/folders/wj/k1t54hxd4jqfym7f1sy0rg980000gn/T/tmpgigm8rbe/ProjectOfRun/test/summary_end_voltage_charge_test.csv\n",
      "(cellpy) - saved summary (shifted_charge_capacity) to:\n",
      "       /var/folders/wj/k1t54hxd4jqfym7f1sy0rg980000gn/T/tmpgigm8rbe/ProjectOfRun/test/summary_shifted_charge_capacity_test.csv\n",
      "(cellpy) - saved summary (shifted_discharge_capacity) to:\n",
      "       /var/folders/wj/k1t54hxd4jqfym7f1sy0rg980000gn/T/tmpgigm8rbe/ProjectOfRun/test/summary_shifted_discharge_capacity_test.csv\n",
      "(cellpy) - saved summary (low_level) to:\n",
      "       /var/folders/wj/k1t54hxd4jqfym7f1sy0rg980000gn/T/tmpgigm8rbe/ProjectOfRun/test/summary_low_level_test.csv\n",
      "(cellpy) - saved summary (high_level) to:\n",
      "       /var/folders/wj/k1t54hxd4jqfym7f1sy0rg980000gn/T/tmpgigm8rbe/ProjectOfRun/test/summary_high_level_test.csv\n",
      "(cellpy) - finished saving summaries\n"
     ]
    }
   ],
   "source": [
    "b.make_summaries()"
   ]
  },
  {
   "cell_type": "code",
   "execution_count": 16,
   "metadata": {},
   "outputs": [
    {
     "name": "stdout",
     "output_type": "stream",
     "text": [
      "/var/folders/wj/k1t54hxd4jqfym7f1sy0rg980000gn/T/tmpgigm8rbe/ProjectOfRun\n"
     ]
    },
    {
     "data": {
      "text/plain": [
       "['20160805_test001_45_cc_01_steps.csv',\n",
       " '20160805_test001_45_cc_01_normal.csv',\n",
       " '20160805_test001_47_cc_01_stats.csv',\n",
       " '20160805_test001_47_cc_01_cycles.csv',\n",
       " '20160805_test001_47_cc_01_normal.csv',\n",
       " '20160805_test001_45_cc_01_stats.csv',\n",
       " '20160805_test001_47_cc_01_steps.csv',\n",
       " '20160805_test001_45_cc_01_cycles.csv']"
      ]
     },
     "execution_count": 16,
     "metadata": {},
     "output_type": "execute_result"
    }
   ],
   "source": [
    "p = os.path.join(out_dir, b.project)\n",
    "print(p)\n",
    "p = os.path.join(p, b.name)\n",
    "os.listdir(p)\n",
    "r = os.path.join(p, 'raw_data')\n",
    "os.listdir(r)"
   ]
  },
  {
   "cell_type": "code",
   "execution_count": 17,
   "metadata": {},
   "outputs": [],
   "source": [
    "f = os.path.join(r, '20160805_test001_47_cc_01_cycles.csv')\n",
    "cycles = pd.read_csv(f, sep=';')"
   ]
  },
  {
   "cell_type": "code",
   "execution_count": 18,
   "metadata": {},
   "outputs": [
    {
     "data": {
      "text/html": [
       "<div>\n",
       "<style scoped>\n",
       "    .dataframe tbody tr th:only-of-type {\n",
       "        vertical-align: middle;\n",
       "    }\n",
       "\n",
       "    .dataframe tbody tr th {\n",
       "        vertical-align: top;\n",
       "    }\n",
       "\n",
       "    .dataframe thead th {\n",
       "        text-align: right;\n",
       "    }\n",
       "</style>\n",
       "<table border=\"1\" class=\"dataframe\">\n",
       "  <thead>\n",
       "    <tr style=\"text-align: right;\">\n",
       "      <th></th>\n",
       "      <th>cap cycle_no 1</th>\n",
       "      <th>voltage cycle_no 1</th>\n",
       "      <th>cap cycle_no 2</th>\n",
       "      <th>voltage cycle_no 2</th>\n",
       "      <th>cap cycle_no 3</th>\n",
       "      <th>voltage cycle_no 3</th>\n",
       "      <th>cap cycle_no 4</th>\n",
       "      <th>voltage cycle_no 4</th>\n",
       "      <th>cap cycle_no 5</th>\n",
       "      <th>voltage cycle_no 5</th>\n",
       "      <th>...</th>\n",
       "      <th>cap cycle_no 14</th>\n",
       "      <th>voltage cycle_no 14</th>\n",
       "      <th>cap cycle_no 15</th>\n",
       "      <th>voltage cycle_no 15</th>\n",
       "      <th>cap cycle_no 16</th>\n",
       "      <th>voltage cycle_no 16</th>\n",
       "      <th>cap cycle_no 17</th>\n",
       "      <th>voltage cycle_no 17</th>\n",
       "      <th>cap cycle_no 18</th>\n",
       "      <th>voltage cycle_no 18</th>\n",
       "    </tr>\n",
       "  </thead>\n",
       "  <tbody>\n",
       "    <tr>\n",
       "      <th>0</th>\n",
       "      <td>0.000634</td>\n",
       "      <td>2.839894</td>\n",
       "      <td>261.552288</td>\n",
       "      <td>0.860937</td>\n",
       "      <td>-4.838299</td>\n",
       "      <td>0.844310</td>\n",
       "      <td>-298.862582</td>\n",
       "      <td>0.833225</td>\n",
       "      <td>-417.165479</td>\n",
       "      <td>0.792888</td>\n",
       "      <td>...</td>\n",
       "      <td>-1600.269371</td>\n",
       "      <td>0.773182</td>\n",
       "      <td>-1725.070796</td>\n",
       "      <td>0.770718</td>\n",
       "      <td>-1853.006535</td>\n",
       "      <td>0.766408</td>\n",
       "      <td>-1972.770993</td>\n",
       "      <td>0.761789</td>\n",
       "      <td>-2094.895337</td>\n",
       "      <td>0.757170</td>\n",
       "    </tr>\n",
       "    <tr>\n",
       "      <th>1</th>\n",
       "      <td>0.003300</td>\n",
       "      <td>2.799865</td>\n",
       "      <td>261.616523</td>\n",
       "      <td>0.855702</td>\n",
       "      <td>-4.763266</td>\n",
       "      <td>0.839075</td>\n",
       "      <td>-298.826449</td>\n",
       "      <td>0.827990</td>\n",
       "      <td>-417.111436</td>\n",
       "      <td>0.787038</td>\n",
       "      <td>...</td>\n",
       "      <td>-1600.238213</td>\n",
       "      <td>0.767947</td>\n",
       "      <td>-1725.055306</td>\n",
       "      <td>0.765484</td>\n",
       "      <td>-1852.958146</td>\n",
       "      <td>0.760865</td>\n",
       "      <td>-1972.736593</td>\n",
       "      <td>0.756246</td>\n",
       "      <td>-2094.852403</td>\n",
       "      <td>0.751936</td>\n",
       "    </tr>\n",
       "    <tr>\n",
       "      <th>2</th>\n",
       "      <td>0.007470</td>\n",
       "      <td>2.763532</td>\n",
       "      <td>261.777258</td>\n",
       "      <td>0.850468</td>\n",
       "      <td>-4.616344</td>\n",
       "      <td>0.833840</td>\n",
       "      <td>-298.731151</td>\n",
       "      <td>0.822756</td>\n",
       "      <td>-416.966242</td>\n",
       "      <td>0.781495</td>\n",
       "      <td>...</td>\n",
       "      <td>-1600.142413</td>\n",
       "      <td>0.762713</td>\n",
       "      <td>-1724.986925</td>\n",
       "      <td>0.760249</td>\n",
       "      <td>-1852.849386</td>\n",
       "      <td>0.755631</td>\n",
       "      <td>-1972.655108</td>\n",
       "      <td>0.751012</td>\n",
       "      <td>-2094.757299</td>\n",
       "      <td>0.746701</td>\n",
       "    </tr>\n",
       "    <tr>\n",
       "      <th>3</th>\n",
       "      <td>0.010150</td>\n",
       "      <td>2.729045</td>\n",
       "      <td>261.964893</td>\n",
       "      <td>0.844925</td>\n",
       "      <td>-4.438692</td>\n",
       "      <td>0.828606</td>\n",
       "      <td>-298.582109</td>\n",
       "      <td>0.817521</td>\n",
       "      <td>-416.782988</td>\n",
       "      <td>0.775953</td>\n",
       "      <td>...</td>\n",
       "      <td>-1599.998550</td>\n",
       "      <td>0.757170</td>\n",
       "      <td>-1724.876960</td>\n",
       "      <td>0.754707</td>\n",
       "      <td>-1852.705335</td>\n",
       "      <td>0.750088</td>\n",
       "      <td>-1972.518899</td>\n",
       "      <td>0.745469</td>\n",
       "      <td>-2094.628439</td>\n",
       "      <td>0.741467</td>\n",
       "    </tr>\n",
       "    <tr>\n",
       "      <th>4</th>\n",
       "      <td>0.014154</td>\n",
       "      <td>2.696099</td>\n",
       "      <td>262.187778</td>\n",
       "      <td>0.839691</td>\n",
       "      <td>-4.234700</td>\n",
       "      <td>0.823371</td>\n",
       "      <td>-298.425593</td>\n",
       "      <td>0.811979</td>\n",
       "      <td>-416.585924</td>\n",
       "      <td>0.770718</td>\n",
       "      <td>...</td>\n",
       "      <td>-1599.820710</td>\n",
       "      <td>0.751936</td>\n",
       "      <td>-1724.721150</td>\n",
       "      <td>0.749472</td>\n",
       "      <td>-1852.535675</td>\n",
       "      <td>0.744854</td>\n",
       "      <td>-1972.362382</td>\n",
       "      <td>0.740235</td>\n",
       "      <td>-2094.478100</td>\n",
       "      <td>0.736232</td>\n",
       "    </tr>\n",
       "  </tbody>\n",
       "</table>\n",
       "<p>5 rows × 36 columns</p>\n",
       "</div>"
      ],
      "text/plain": [
       "   cap cycle_no 1  voltage cycle_no 1  cap cycle_no 2  voltage cycle_no 2  \\\n",
       "0        0.000634            2.839894      261.552288            0.860937   \n",
       "1        0.003300            2.799865      261.616523            0.855702   \n",
       "2        0.007470            2.763532      261.777258            0.850468   \n",
       "3        0.010150            2.729045      261.964893            0.844925   \n",
       "4        0.014154            2.696099      262.187778            0.839691   \n",
       "\n",
       "   cap cycle_no 3  voltage cycle_no 3  cap cycle_no 4  voltage cycle_no 4  \\\n",
       "0       -4.838299            0.844310     -298.862582            0.833225   \n",
       "1       -4.763266            0.839075     -298.826449            0.827990   \n",
       "2       -4.616344            0.833840     -298.731151            0.822756   \n",
       "3       -4.438692            0.828606     -298.582109            0.817521   \n",
       "4       -4.234700            0.823371     -298.425593            0.811979   \n",
       "\n",
       "   cap cycle_no 5  voltage cycle_no 5         ...           cap cycle_no 14  \\\n",
       "0     -417.165479            0.792888         ...              -1600.269371   \n",
       "1     -417.111436            0.787038         ...              -1600.238213   \n",
       "2     -416.966242            0.781495         ...              -1600.142413   \n",
       "3     -416.782988            0.775953         ...              -1599.998550   \n",
       "4     -416.585924            0.770718         ...              -1599.820710   \n",
       "\n",
       "   voltage cycle_no 14  cap cycle_no 15  voltage cycle_no 15  cap cycle_no 16  \\\n",
       "0             0.773182     -1725.070796             0.770718     -1853.006535   \n",
       "1             0.767947     -1725.055306             0.765484     -1852.958146   \n",
       "2             0.762713     -1724.986925             0.760249     -1852.849386   \n",
       "3             0.757170     -1724.876960             0.754707     -1852.705335   \n",
       "4             0.751936     -1724.721150             0.749472     -1852.535675   \n",
       "\n",
       "   voltage cycle_no 16  cap cycle_no 17  voltage cycle_no 17  cap cycle_no 18  \\\n",
       "0             0.766408     -1972.770993             0.761789     -2094.895337   \n",
       "1             0.760865     -1972.736593             0.756246     -2094.852403   \n",
       "2             0.755631     -1972.655108             0.751012     -2094.757299   \n",
       "3             0.750088     -1972.518899             0.745469     -2094.628439   \n",
       "4             0.744854     -1972.362382             0.740235     -2094.478100   \n",
       "\n",
       "   voltage cycle_no 18  \n",
       "0             0.757170  \n",
       "1             0.751936  \n",
       "2             0.746701  \n",
       "3             0.741467  \n",
       "4             0.736232  \n",
       "\n",
       "[5 rows x 36 columns]"
      ]
     },
     "execution_count": 18,
     "metadata": {},
     "output_type": "execute_result"
    }
   ],
   "source": [
    "cycles.head()"
   ]
  },
  {
   "cell_type": "code",
   "execution_count": 19,
   "metadata": {},
   "outputs": [
    {
     "data": {
      "text/html": [
       "<div>\n",
       "<style scoped>\n",
       "    .dataframe tbody tr th:only-of-type {\n",
       "        vertical-align: middle;\n",
       "    }\n",
       "\n",
       "    .dataframe tbody tr th {\n",
       "        vertical-align: top;\n",
       "    }\n",
       "\n",
       "    .dataframe thead th {\n",
       "        text-align: right;\n",
       "    }\n",
       "</style>\n",
       "<table border=\"1\" class=\"dataframe\">\n",
       "  <thead>\n",
       "    <tr style=\"text-align: right;\">\n",
       "      <th></th>\n",
       "      <th>cap cycle_no 1</th>\n",
       "      <th>voltage cycle_no 1</th>\n",
       "      <th>cap cycle_no 2</th>\n",
       "      <th>voltage cycle_no 2</th>\n",
       "      <th>cap cycle_no 3</th>\n",
       "      <th>voltage cycle_no 3</th>\n",
       "      <th>cap cycle_no 4</th>\n",
       "      <th>voltage cycle_no 4</th>\n",
       "      <th>cap cycle_no 5</th>\n",
       "      <th>voltage cycle_no 5</th>\n",
       "      <th>...</th>\n",
       "      <th>cap cycle_no 14</th>\n",
       "      <th>voltage cycle_no 14</th>\n",
       "      <th>cap cycle_no 15</th>\n",
       "      <th>voltage cycle_no 15</th>\n",
       "      <th>cap cycle_no 16</th>\n",
       "      <th>voltage cycle_no 16</th>\n",
       "      <th>cap cycle_no 17</th>\n",
       "      <th>voltage cycle_no 17</th>\n",
       "      <th>cap cycle_no 18</th>\n",
       "      <th>voltage cycle_no 18</th>\n",
       "    </tr>\n",
       "  </thead>\n",
       "  <tbody>\n",
       "    <tr>\n",
       "      <th>1100</th>\n",
       "      <td>266.416472</td>\n",
       "      <td>0.982870</td>\n",
       "      <td>NaN</td>\n",
       "      <td>NaN</td>\n",
       "      <td>NaN</td>\n",
       "      <td>NaN</td>\n",
       "      <td>NaN</td>\n",
       "      <td>NaN</td>\n",
       "      <td>NaN</td>\n",
       "      <td>NaN</td>\n",
       "      <td>...</td>\n",
       "      <td>NaN</td>\n",
       "      <td>NaN</td>\n",
       "      <td>NaN</td>\n",
       "      <td>NaN</td>\n",
       "      <td>NaN</td>\n",
       "      <td>NaN</td>\n",
       "      <td>NaN</td>\n",
       "      <td>NaN</td>\n",
       "      <td>NaN</td>\n",
       "      <td>NaN</td>\n",
       "    </tr>\n",
       "    <tr>\n",
       "      <th>1101</th>\n",
       "      <td>264.888731</td>\n",
       "      <td>0.988413</td>\n",
       "      <td>NaN</td>\n",
       "      <td>NaN</td>\n",
       "      <td>NaN</td>\n",
       "      <td>NaN</td>\n",
       "      <td>NaN</td>\n",
       "      <td>NaN</td>\n",
       "      <td>NaN</td>\n",
       "      <td>NaN</td>\n",
       "      <td>...</td>\n",
       "      <td>NaN</td>\n",
       "      <td>NaN</td>\n",
       "      <td>NaN</td>\n",
       "      <td>NaN</td>\n",
       "      <td>NaN</td>\n",
       "      <td>NaN</td>\n",
       "      <td>NaN</td>\n",
       "      <td>NaN</td>\n",
       "      <td>NaN</td>\n",
       "      <td>NaN</td>\n",
       "    </tr>\n",
       "    <tr>\n",
       "      <th>1102</th>\n",
       "      <td>263.322386</td>\n",
       "      <td>0.993647</td>\n",
       "      <td>NaN</td>\n",
       "      <td>NaN</td>\n",
       "      <td>NaN</td>\n",
       "      <td>NaN</td>\n",
       "      <td>NaN</td>\n",
       "      <td>NaN</td>\n",
       "      <td>NaN</td>\n",
       "      <td>NaN</td>\n",
       "      <td>...</td>\n",
       "      <td>NaN</td>\n",
       "      <td>NaN</td>\n",
       "      <td>NaN</td>\n",
       "      <td>NaN</td>\n",
       "      <td>NaN</td>\n",
       "      <td>NaN</td>\n",
       "      <td>NaN</td>\n",
       "      <td>NaN</td>\n",
       "      <td>NaN</td>\n",
       "      <td>NaN</td>\n",
       "    </tr>\n",
       "    <tr>\n",
       "      <th>1103</th>\n",
       "      <td>261.874102</td>\n",
       "      <td>0.998882</td>\n",
       "      <td>NaN</td>\n",
       "      <td>NaN</td>\n",
       "      <td>NaN</td>\n",
       "      <td>NaN</td>\n",
       "      <td>NaN</td>\n",
       "      <td>NaN</td>\n",
       "      <td>NaN</td>\n",
       "      <td>NaN</td>\n",
       "      <td>...</td>\n",
       "      <td>NaN</td>\n",
       "      <td>NaN</td>\n",
       "      <td>NaN</td>\n",
       "      <td>NaN</td>\n",
       "      <td>NaN</td>\n",
       "      <td>NaN</td>\n",
       "      <td>NaN</td>\n",
       "      <td>NaN</td>\n",
       "      <td>NaN</td>\n",
       "      <td>NaN</td>\n",
       "    </tr>\n",
       "    <tr>\n",
       "      <th>1104</th>\n",
       "      <td>261.549568</td>\n",
       "      <td>1.000113</td>\n",
       "      <td>NaN</td>\n",
       "      <td>NaN</td>\n",
       "      <td>NaN</td>\n",
       "      <td>NaN</td>\n",
       "      <td>NaN</td>\n",
       "      <td>NaN</td>\n",
       "      <td>NaN</td>\n",
       "      <td>NaN</td>\n",
       "      <td>...</td>\n",
       "      <td>NaN</td>\n",
       "      <td>NaN</td>\n",
       "      <td>NaN</td>\n",
       "      <td>NaN</td>\n",
       "      <td>NaN</td>\n",
       "      <td>NaN</td>\n",
       "      <td>NaN</td>\n",
       "      <td>NaN</td>\n",
       "      <td>NaN</td>\n",
       "      <td>NaN</td>\n",
       "    </tr>\n",
       "  </tbody>\n",
       "</table>\n",
       "<p>5 rows × 36 columns</p>\n",
       "</div>"
      ],
      "text/plain": [
       "      cap cycle_no 1  voltage cycle_no 1  cap cycle_no 2  voltage cycle_no 2  \\\n",
       "1100      266.416472            0.982870             NaN                 NaN   \n",
       "1101      264.888731            0.988413             NaN                 NaN   \n",
       "1102      263.322386            0.993647             NaN                 NaN   \n",
       "1103      261.874102            0.998882             NaN                 NaN   \n",
       "1104      261.549568            1.000113             NaN                 NaN   \n",
       "\n",
       "      cap cycle_no 3  voltage cycle_no 3  cap cycle_no 4  voltage cycle_no 4  \\\n",
       "1100             NaN                 NaN             NaN                 NaN   \n",
       "1101             NaN                 NaN             NaN                 NaN   \n",
       "1102             NaN                 NaN             NaN                 NaN   \n",
       "1103             NaN                 NaN             NaN                 NaN   \n",
       "1104             NaN                 NaN             NaN                 NaN   \n",
       "\n",
       "      cap cycle_no 5  voltage cycle_no 5         ...           \\\n",
       "1100             NaN                 NaN         ...            \n",
       "1101             NaN                 NaN         ...            \n",
       "1102             NaN                 NaN         ...            \n",
       "1103             NaN                 NaN         ...            \n",
       "1104             NaN                 NaN         ...            \n",
       "\n",
       "      cap cycle_no 14  voltage cycle_no 14  cap cycle_no 15  \\\n",
       "1100              NaN                  NaN              NaN   \n",
       "1101              NaN                  NaN              NaN   \n",
       "1102              NaN                  NaN              NaN   \n",
       "1103              NaN                  NaN              NaN   \n",
       "1104              NaN                  NaN              NaN   \n",
       "\n",
       "      voltage cycle_no 15  cap cycle_no 16  voltage cycle_no 16  \\\n",
       "1100                  NaN              NaN                  NaN   \n",
       "1101                  NaN              NaN                  NaN   \n",
       "1102                  NaN              NaN                  NaN   \n",
       "1103                  NaN              NaN                  NaN   \n",
       "1104                  NaN              NaN                  NaN   \n",
       "\n",
       "      cap cycle_no 17  voltage cycle_no 17  cap cycle_no 18  \\\n",
       "1100              NaN                  NaN              NaN   \n",
       "1101              NaN                  NaN              NaN   \n",
       "1102              NaN                  NaN              NaN   \n",
       "1103              NaN                  NaN              NaN   \n",
       "1104              NaN                  NaN              NaN   \n",
       "\n",
       "      voltage cycle_no 18  \n",
       "1100                  NaN  \n",
       "1101                  NaN  \n",
       "1102                  NaN  \n",
       "1103                  NaN  \n",
       "1104                  NaN  \n",
       "\n",
       "[5 rows x 36 columns]"
      ]
     },
     "execution_count": 19,
     "metadata": {},
     "output_type": "execute_result"
    }
   ],
   "source": [
    "cycles.tail()"
   ]
  },
  {
   "cell_type": "code",
   "execution_count": 20,
   "metadata": {},
   "outputs": [
    {
     "data": {
      "text/plain": [
       "<matplotlib.legend.Legend at 0xb13ca0358>"
      ]
     },
     "execution_count": 20,
     "metadata": {},
     "output_type": "execute_result"
    },
    {
     "data": {
      "image/png": "[encoded data removed]",
      "text/plain": [
       "<Figure size 1008x504 with 1 Axes>"
      ]
     },
     "metadata": {},
     "output_type": "display_data"
    }
   ],
   "source": [
    "fig, ax = plt.subplots(1,1)\n",
    "ax.plot(cycles[\"cap cycle_no 1\"], cycles[\"voltage cycle_no 1\"], label=\"cycle 1\")\n",
    "ax.plot(cycles[\"cap cycle_no 2\"], cycles[\"voltage cycle_no 2\"], label=\"cycle 2\")\n",
    "ax.plot(cycles[\"cap cycle_no 3\"], cycles[\"voltage cycle_no 3\"], label=\"cycle 3\")\n",
    "plt.legend()"
   ]
  },
  {
   "cell_type": "code",
   "execution_count": 21,
   "metadata": {},
   "outputs": [],
   "source": [
    "import shutil"
   ]
  },
  {
   "cell_type": "code",
   "execution_count": 22,
   "metadata": {},
   "outputs": [],
   "source": [
    "shutil.rmtree(p)"
   ]
  },
  {
   "cell_type": "code",
   "execution_count": null,
   "metadata": {},
   "outputs": [],
   "source": []
  }
 ],
 "metadata": {
  "kernelspec": {
   "display_name": "Python3 (cellpy)",
   "language": "python",
   "name": "cellpy"
  },
  "language_info": {
   "codemirror_mode": {
    "name": "ipython",
    "version": 3
   },
   "file_extension": ".py",
   "mimetype": "text/x-python",
   "name": "python",
   "nbconvert_exporter": "python",
   "pygments_lexer": "ipython3",
   "version": "3.6.5"
  }
 },
 "nbformat": 4,
 "nbformat_minor": 2
}
