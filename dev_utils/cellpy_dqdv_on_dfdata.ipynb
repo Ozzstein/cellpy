{
 "cells": [
  {
   "cell_type": "code",
   "execution_count": null,
   "metadata": {},
   "outputs": [],
   "source": [
    "%load_ext autoreload\n",
    "%autoreload 2"
   ]
  },
  {
   "cell_type": "markdown",
   "metadata": {},
   "source": [
    "## Plan\n",
    "Do differentiation of Q and V on the dfdata"
   ]
  },
  {
   "cell_type": "code",
   "execution_count": null,
   "metadata": {},
   "outputs": [],
   "source": [
    "import os\n",
    "import time\n",
    "import datetime\n",
    "from pathlib import Path\n",
    "import numpy as np\n",
    "import matplotlib.pyplot as plt\n",
    "import pandas as pd\n",
    "import cellpy\n",
    "from cellpy import cellreader, prms, prmreader\n",
    "\n",
    "%matplotlib inline"
   ]
  },
  {
   "cell_type": "code",
   "execution_count": null,
   "metadata": {},
   "outputs": [],
   "source": [
    "# Use these when working on my MacBook:\n",
    "test_data_path = \"/Users/jepe/scripting/cellpy/testdata\"\n",
    "out_data_path = \"/Users/jepe/cellpy_data\"\n",
    "\n",
    "test_data_path = Path(test_data_path)\n",
    "out_data_path = Path(out_data_path)\n",
    "\n",
    "print(\" SETTING SOME PRMS \".center(80, \"=\"))\n",
    "prms.Paths[\"db_filename\"] = \"cellpy_db.xlsx\"\n",
    "prms.Paths[\"cellpydatadir\"] = test_data_path / \"hdf5\"\n",
    "prms.Paths[\"outdatadir\"] = out_data_path\n",
    "prms.Paths[\"rawdatadir\"] = test_data_path / \"data\"\n",
    "prms.Paths[\"db_path\"] = test_data_path / \"db\"\n",
    "prms.Paths[\"filelogdir\"] = test_data_path / \"log\""
   ]
  },
  {
   "cell_type": "code",
   "execution_count": null,
   "metadata": {},
   "outputs": [],
   "source": [
    "from cellpy import log\n",
    "log.setup_logging(default_level=\"INFO\")"
   ]
  },
  {
   "cell_type": "code",
   "execution_count": null,
   "metadata": {},
   "outputs": [],
   "source": [
    "filename = Path(\"/Users/jepe/Arbeid/Data/celldata/20171120_nb034_11_cc.h5\")\n",
    "print(f\"size: {filename.stat().st_size/1_048_576}\")\n",
    "\n",
    "mod_timestamp = datetime.datetime.fromtimestamp(filename.stat().st_mtime)\n",
    "visited_timestamp = datetime.datetime.fromtimestamp(filename.stat().st_atime)\n",
    "print(f\"visited: {visited_timestamp}\")\n",
    "print(f\"changed: {mod_timestamp}\")\n",
    "print()\n",
    "\n",
    "my_data = cellreader.CellpyData()\n",
    "my_data.load(filename)\n",
    "dataset = my_data.dataset"
   ]
  },
  {
   "cell_type": "code",
   "execution_count": null,
   "metadata": {},
   "outputs": [],
   "source": [
    "data = my_data.dataset\n",
    "dfsummary = data.dfsummary\n",
    "stept = data.step_table"
   ]
  },
  {
   "cell_type": "code",
   "execution_count": null,
   "metadata": {},
   "outputs": [],
   "source": [
    "df = data.dfdata.copy()"
   ]
  },
  {
   "cell_type": "code",
   "execution_count": null,
   "metadata": {},
   "outputs": [],
   "source": [
    "df.loc[df.Step_Index==6,:].head(20)"
   ]
  },
  {
   "cell_type": "code",
   "execution_count": null,
   "metadata": {},
   "outputs": [],
   "source": [
    "r = stept.loc[(stept.cycle==1) & (stept.type==\"charge\"), :]"
   ]
  },
  {
   "cell_type": "code",
   "execution_count": null,
   "metadata": {},
   "outputs": [],
   "source": [
    "r"
   ]
  },
  {
   "cell_type": "code",
   "execution_count": null,
   "metadata": {},
   "outputs": [],
   "source": [
    "df[\"dq\"] = 0.0\n",
    "df[\"dv\"] = np.nan\n",
    "\n",
    "df_ch = df.Charge_Capacity.diff()\n",
    "df_dch = df.Discharge_Capacity.diff()\n",
    "\n",
    "charge_steps = stept.loc[stept.type==\"charge\", [\"cycle\", \"step\"]]\n",
    "discharge_steps = stept.loc[stept.type==\"discharge\", [\"cycle\", \"step\"]]\n",
    "for c, s in charge_steps.iterrows():\n",
    "    cycle = s.cycle\n",
    "    step = s.step\n",
    "    crit = (df.Cycle_Index==cycle) & (df.Step_Index==step)\n",
    "    \n",
    "    df.loc[crit, \"dq\"] = df.loc[crit, \"Charge_Capacity\"].diff()\n",
    "    df.loc[crit, \"dv\"] = df.loc[crit, \"Voltage\"].diff()\n",
    "\n",
    "for c, s in discharge_steps.iterrows():\n",
    "    cycle = s.cycle\n",
    "    step = s.step\n",
    "    crit = (df.Cycle_Index==cycle) & (df.Step_Index==step)\n",
    "    \n",
    "    df.loc[crit, \"dq\"] = df.loc[crit, \"Discharge_Capacity\"].diff() \n",
    "    df.loc[crit, \"dv\"] = df.loc[crit, \"Voltage\"].diff()\n",
    "\n",
    "df[\"dqdv\"] = df.dq / df.dv\n"
   ]
  },
  {
   "cell_type": "markdown",
   "metadata": {},
   "source": [
    "## So far\n",
    "Its possible, but to get good dqdv plots we will need to do some trix with smoothing etc.\n",
    "Probably best to just iterate through all chargestep cycle-step combinations and perform a dq dv routine.\n",
    "\n",
    "Iterating is rather slow, unfortunately..."
   ]
  },
  {
   "cell_type": "markdown",
   "metadata": {},
   "source": []
  },
  {
   "cell_type": "code",
   "execution_count": null,
   "metadata": {},
   "outputs": [],
   "source": [
    "fig, ax = plt.subplots()\n",
    "ax.plot(df.Voltage, df.dqdv)\n",
    "ax.set_xlabel(\"voltage\")\n",
    "ax.set_ylabel(\"dqdv\")\n",
    "ax.set_xlim((0.1, 1.0))"
   ]
  },
  {
   "cell_type": "code",
   "execution_count": null,
   "metadata": {},
   "outputs": [],
   "source": [
    "fig, ax = plt.subplots()\n",
    "df.groupby(\"Cycle_Index\").plot(x=\"Voltage\", y=\"dqdv\", ax=ax)"
   ]
  },
  {
   "cell_type": "code",
   "execution_count": null,
   "metadata": {},
   "outputs": [],
   "source": []
  }
 ],
 "metadata": {
  "kernelspec": {
   "display_name": "Python3 (cellpy)",
   "language": "python",
   "name": "cellpy"
  },
  "language_info": {
   "codemirror_mode": {
    "name": "ipython",
    "version": 3
   },
   "file_extension": ".py",
   "mimetype": "text/x-python",
   "name": "python",
   "nbconvert_exporter": "python",
   "pygments_lexer": "ipython3",
   "version": "3.6.5"
  }
 },
 "nbformat": 4,
 "nbformat_minor": 2
}
