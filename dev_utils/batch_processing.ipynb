{
 "cells": [
  {
   "cell_type": "markdown",
   "metadata": {},
   "source": [
    "# Batch processing"
   ]
  },
  {
   "cell_type": "code",
   "execution_count": 1,
   "metadata": {},
   "outputs": [],
   "source": [
    "%load_ext autoreload\n",
    "%autoreload 2"
   ]
  },
  {
   "cell_type": "code",
   "execution_count": 2,
   "metadata": {},
   "outputs": [],
   "source": [
    "import cellpy"
   ]
  },
  {
   "cell_type": "code",
   "execution_count": 3,
   "metadata": {},
   "outputs": [],
   "source": [
    "from cellpy import prms"
   ]
  },
  {
   "cell_type": "code",
   "execution_count": 4,
   "metadata": {},
   "outputs": [],
   "source": [
    "from cellpy.utils import batch"
   ]
  },
  {
   "cell_type": "code",
   "execution_count": 5,
   "metadata": {},
   "outputs": [
    {
     "name": "stdout",
     "output_type": "stream",
     "text": [
      "---SETTING SOME PRMS---\n"
     ]
    }
   ],
   "source": [
    "######################################################################\n",
    "##                                                                  ##\n",
    "##                       development                                ##\n",
    "##                                                                  ##\n",
    "######################################################################\n",
    "\n",
    "from pathlib import Path\n",
    "\n",
    "# Use these when working on my work PC:\n",
    "test_data_path = r\"C:\\Scripting\\MyFiles\\development_cellpy\\testdata\"\n",
    "out_data_path = r\"C:\\Scripting\\Processing\\Test\\out\"\n",
    "\n",
    "# Use these when working on my MacBook:\n",
    "test_data_path = \"/Users/jepe/scripting/cellpy/testdata\"\n",
    "out_data_path = \"/Users/jepe/cellpy_data\"\n",
    "\n",
    "test_data_path = Path(test_data_path)\n",
    "out_data_path = Path(out_data_path)\n",
    "\n",
    "print(\"---SETTING SOME PRMS---\")\n",
    "prms.Paths[\"db_filename\"] = \"cellpy_db.xlsx\"\n",
    "prms.Paths[\"cellpydatadir\"] = test_data_path / \"hdf5\"\n",
    "prms.Paths[\"outdatadir\"] = out_data_path\n",
    "prms.Paths[\"rawdatadir\"] = test_data_path / \"data\"\n",
    "prms.Paths[\"db_path\"] = test_data_path / \"db\"\n",
    "prms.Paths[\"filelogdir\"] = test_data_path / \"log\""
   ]
  },
  {
   "cell_type": "code",
   "execution_count": 6,
   "metadata": {},
   "outputs": [],
   "source": [
    "from cellpy import prmreader"
   ]
  },
  {
   "cell_type": "code",
   "execution_count": 7,
   "metadata": {},
   "outputs": [
    {
     "name": "stdout",
     "output_type": "stream",
     "text": [
      "running\n",
      "--goal:\n",
      "  convenience function for prms\n",
      "<class 'module'>\n",
      "cellpy.parameters.prms\n",
      "\n",
      "================================================================================\n",
      "prms.Paths:\n",
      "--------------------------------------------------------------------------------\n",
      "prms.Paths.outdatadir =  /Users/jepe/cellpy_data\n",
      "prms.Paths.rawdatadir =  /Users/jepe/scripting/cellpy/testdata/data\n",
      "prms.Paths.cellpydatadir =  /Users/jepe/scripting/cellpy/testdata/hdf5\n",
      "prms.Paths.db_path =  /Users/jepe/scripting/cellpy/testdata/db\n",
      "prms.Paths.filelogdir =  /Users/jepe/scripting/cellpy/testdata/log\n",
      "prms.Paths.db_filename =  cellpy_db.xlsx\n",
      "================================================================================\n",
      "\n",
      "================================================================================\n",
      "prms.FileNames:\n",
      "--------------------------------------------------------------------------------\n",
      "================================================================================\n",
      "\n",
      "================================================================================\n",
      "prms.Reader:\n",
      "--------------------------------------------------------------------------------\n",
      "prms.Reader.filestatuschecker =  size\n",
      "prms.Reader.force_step_table_creation =  True\n",
      "prms.Reader.force_all =  False\n",
      "prms.Reader.sep =  ;\n",
      "prms.Reader.cycle_mode =  anode\n",
      "prms.Reader.sorted_data =  True\n",
      "prms.Reader.load_only_summary =  False\n",
      "prms.Reader.select_minimal =  False\n",
      "prms.Reader.limit_loaded_cycles =  None\n",
      "prms.Reader.ensure_step_table =  False\n",
      "prms.Reader.daniel_number =  5\n",
      "prms.Reader.use_cellpy_stat_file =  False\n",
      "prms.Reader.raw_datadir =  None\n",
      "prms.Reader.cellpy_datadir =  None\n",
      "prms.Reader.auto_dirs =  True\n",
      "prms.Reader.chunk_size =  None\n",
      "prms.Reader.last_chunk =  None\n",
      "prms.Reader.max_chunks =  None\n",
      "prms.Reader.max_res_filesize =  150000000\n",
      "================================================================================\n",
      "\n",
      "================================================================================\n",
      "prms.DataSet:\n",
      "--------------------------------------------------------------------------------\n",
      "prms.DataSet.nom_cap =  3579\n",
      "================================================================================\n",
      "\n",
      "================================================================================\n",
      "prms.Db:\n",
      "--------------------------------------------------------------------------------\n",
      "prms.Db.db_type =  simple_excel_reader\n",
      "prms.Db.db_table_name =  db_table\n",
      "prms.Db.db_header_row =  0\n",
      "prms.Db.db_unit_row =  1\n",
      "prms.Db.db_data_start_row =  2\n",
      "prms.Db.db_search_start_row =  2\n",
      "prms.Db.db_search_end_row =  -1\n",
      "================================================================================\n",
      "\n",
      "================================================================================\n",
      "prms.DbCols:\n",
      "--------------------------------------------------------------------------------\n",
      "prms.DbCols.id =  ('id', 'int')\n",
      "prms.DbCols.exists =  ('exists', 'bol')\n",
      "prms.DbCols.batch =  ('batch', 'str')\n",
      "prms.DbCols.sub_batch_01 =  ('b01', 'str')\n",
      "prms.DbCols.sub_batch_02 =  ('b02', 'str')\n",
      "prms.DbCols.sub_batch_03 =  ('b03', 'str')\n",
      "prms.DbCols.sub_batch_04 =  ('b04', 'str')\n",
      "prms.DbCols.sub_batch_05 =  ('b05', 'str')\n",
      "prms.DbCols.sub_batch_06 =  ('b06', 'str')\n",
      "prms.DbCols.sub_batch_07 =  ('b07', 'str')\n",
      "prms.DbCols.project =  ('project', 'str')\n",
      "prms.DbCols.label =  ('label', 'str')\n",
      "prms.DbCols.group =  ('group', 'int')\n",
      "prms.DbCols.selected =  ('selected', 'bol')\n",
      "prms.DbCols.cell_name =  ('cell', 'str')\n",
      "prms.DbCols.cell_type =  ('cell_type', 'cat')\n",
      "prms.DbCols.experiment_type =  ('experiment_type', 'cat')\n",
      "prms.DbCols.active_material =  ('mass_active_material', 'float')\n",
      "prms.DbCols.total_material =  ('mass_total', 'float')\n",
      "prms.DbCols.loading =  ('loading_active_material', 'float')\n",
      "prms.DbCols.file_name_indicator =  ('file_name_indicator', 'str')\n",
      "prms.DbCols.raw_file_names =  ('raw_file_names', 'list')\n",
      "prms.DbCols.cellpy_file_name =  ('cellpy_file_name', 'str')\n",
      "prms.DbCols.comment_slurry =  ('comment_slurry', 'str')\n",
      "prms.DbCols.comment_cell =  ('comment_cell', 'str')\n",
      "prms.DbCols.comment_general =  ('comment_general', 'str')\n",
      "prms.DbCols.freeze =  ('freeze', 'bol')\n",
      "================================================================================\n",
      "\n",
      "================================================================================\n",
      "prms.Instruments:\n",
      "--------------------------------------------------------------------------------\n",
      "prms.Instruments.tester =  arbin\n",
      "prms.Instruments.max_res_filesize =  150000000\n",
      "prms.Instruments.chunk_size =  None\n",
      "prms.Instruments.max_chunks =  None\n",
      "prms.Instruments.use_subprocess =  False\n",
      "prms.Instruments.detect_subprocess_need =  False\n",
      "prms.Instruments.sub_process_path =  None\n",
      "prms.Instruments.office_version =  64bit\n",
      "prms.Instruments.custom_instrument_definitions_file =  None\n",
      "================================================================================\n",
      "\n",
      "================================================================================\n",
      "prms.Materials:\n",
      "--------------------------------------------------------------------------------\n",
      "prms.Materials.cell_class =  Li-Ion\n",
      "prms.Materials.default_material =  silicon\n",
      "prms.Materials.default_mass =  1.0\n",
      "================================================================================\n",
      "\n",
      "================================================================================\n",
      "prms.Batch:\n",
      "--------------------------------------------------------------------------------\n",
      "prms.Batch.fig_extension =  png\n",
      "prms.Batch.dpi =  300\n",
      "prms.Batch.markersize =  4\n",
      "prms.Batch.symbol_label =  simple\n",
      "prms.Batch.color_style_label =  seaborn-deep\n",
      "prms.Batch.figure_type =  unlimited\n",
      "================================================================================\n"
     ]
    }
   ],
   "source": [
    "prmreader.info()"
   ]
  },
  {
   "cell_type": "code",
   "execution_count": 8,
   "metadata": {},
   "outputs": [
    {
     "name": "stdout",
     "output_type": "stream",
     "text": [
      "---INITIALISATION OF BATCH---\n"
     ]
    }
   ],
   "source": [
    "project = \"prebens_experiment\"\n",
    "name = \"test\"\n",
    "batch_col = \"b01\"\n",
    "\n",
    "print(\"---INITIALISATION OF BATCH---\")\n",
    "b = batch.init(name, project, batch_col=batch_col)"
   ]
  },
  {
   "cell_type": "code",
   "execution_count": 9,
   "metadata": {},
   "outputs": [
    {
     "name": "stdout",
     "output_type": "stream",
     "text": [
      "CyclingExperiment\n",
      "journal: \n",
      "LabJournal\n",
      "  - name: test\n",
      "  - project: prebens_experiment\n",
      "  - file_name: None\n",
      "  - pages: \n",
      "None\n",
      "data: \n",
      "{}\n"
     ]
    }
   ],
   "source": [
    "print(b)"
   ]
  },
  {
   "cell_type": "code",
   "execution_count": 10,
   "metadata": {},
   "outputs": [],
   "source": [
    "b.experiment.export_raw = True\n",
    "b.experiment.export_cycles = True\n",
    "b.experiment.export_ica = True"
   ]
  },
  {
   "cell_type": "code",
   "execution_count": 11,
   "metadata": {},
   "outputs": [
    {
     "name": "stdout",
     "output_type": "stream",
     "text": [
      "CyclingExperiment\n",
      "journal: \n",
      "LabJournal\n",
      "  - name: test\n",
      "  - project: prebens_experiment\n",
      "  - file_name: None\n",
      "  - pages: \n",
      "None\n",
      "data: \n",
      "{}\n"
     ]
    }
   ],
   "source": [
    "print(b)"
   ]
  },
  {
   "cell_type": "code",
   "execution_count": 12,
   "metadata": {},
   "outputs": [],
   "source": [
    "#prmreader.info()"
   ]
  },
  {
   "cell_type": "code",
   "execution_count": 13,
   "metadata": {},
   "outputs": [
    {
     "name": "stdout",
     "output_type": "stream",
     "text": [
      "test\n",
      "prebens_experiment\n",
      "(cellpy) - Saved file to /Users/jepe/cellpy_data/prebens_experiment/cellpy_batch_test.json\n"
     ]
    }
   ],
   "source": [
    "b.create_info_df()"
   ]
  },
  {
   "cell_type": "code",
   "execution_count": 14,
   "metadata": {},
   "outputs": [],
   "source": [
    "b.create_folder_structure()"
   ]
  },
  {
   "cell_type": "code",
   "execution_count": 15,
   "metadata": {},
   "outputs": [
    {
     "name": "stdout",
     "output_type": "stream",
     "text": [
      "(cellpy) - [update experiment]\n",
      "[|.]\n",
      "(cellpy) - Processing 20160805_test001_45_cc\n",
      "(cellpy) - created CellpyData instance\n",
      "(cellpy) - setting cycle mode (nan)...\n",
      "(cellpy) - loading cell\n",
      "(cellpy) - not forcing\n",
      "(cellpy) - started loadcell\n",
      "(cellpy) - checking file ids - using 'size'\n",
      "(cellpy) - cellpy file(s) needs updating - loading raw\n",
      "(cellpy) - ...loaded successfully...\n",
      "(cellpy) - Trying to get summary_data\n",
      "(cellpy) - saving to cellpy-format\n",
      "(cellpy) - exporting [raw] [cycles]\n",
      "(cellpy) - /Users/jepe/cellpy_data/prebens_experiment/test/raw_data/20160805_test001_45_cc_01_normal.csv OK\n",
      "(cellpy) - /Users/jepe/cellpy_data/prebens_experiment/test/raw_data/20160805_test001_45_cc_01_steps.csv OK\n",
      "(cellpy) - /Users/jepe/cellpy_data/prebens_experiment/test/raw_data/20160805_test001_45_cc_01_stats.csv OK\n",
      "(cellpy) - /Users/jepe/cellpy_data/prebens_experiment/test/raw_data/20160805_test001_45_cc_01_cycles.csv exported.\n",
      "(cellpy) - exporting [ica]\n",
      "(cellpy) -  Ups! Could not process this (cycle 18)\n",
      "(cellpy) -  no steps found (c:18 s:0 type:charge)\n",
      "(cellpy) -  Ups! Could not process this (cycle 36)\n",
      "(cellpy) -  no steps found (c:36 s:0 type:charge)\n",
      "(cellpy) - /Users/jepe/cellpy_data/prebens_experiment/test/raw_data/20160805_test001_45_cc_01_dqdv_charge.csv OK\n",
      "(cellpy) - /Users/jepe/cellpy_data/prebens_experiment/test/raw_data/20160805_test001_45_cc_01_dqdv_discharge.csv OK\n",
      "[||]\n",
      "(cellpy) - Processing 20160805_test001_47_cc\n",
      "(cellpy) - created CellpyData instance\n",
      "(cellpy) - setting cycle mode (nan)...\n",
      "(cellpy) - loading cell\n",
      "(cellpy) - not forcing\n",
      "(cellpy) - started loadcell\n",
      "(cellpy) - checking file ids - using 'size'\n",
      "(cellpy) - ...loaded successfully...\n",
      "(cellpy) - Trying to get summary_data\n",
      "(cellpy) - saving to cellpy-format\n",
      "(cellpy) - saving cell to /Users/jepe/scripting/cellpy/testdata/hdf5/20160805_test001_47_cc.h5\n",
      "(cellpy) - You should not save datasets without making a summary first!\n",
      "(cellpy) - If you really want to do it, use save with force=True\n",
      "(cellpy) - exporting [raw] [cycles]\n",
      "(cellpy) - /Users/jepe/cellpy_data/prebens_experiment/test/raw_data/20160805_test001_47_cc_normal.csv OK\n",
      "(cellpy) - /Users/jepe/cellpy_data/prebens_experiment/test/raw_data/20160805_test001_47_cc_stats.csv OK\n",
      "(cellpy) - /Users/jepe/cellpy_data/prebens_experiment/test/raw_data/20160805_test001_47_cc_cycles.csv exported.\n",
      "(cellpy) - exporting [ica]\n",
      "(cellpy) -  Ups! Could not process this (cycle 18)\n",
      "(cellpy) -  no steps found (c:18 s:0 type:charge)\n",
      "(cellpy) - /Users/jepe/cellpy_data/prebens_experiment/test/raw_data/20160805_test001_47_cc_dqdv_charge.csv OK\n",
      "(cellpy) - /Users/jepe/cellpy_data/prebens_experiment/test/raw_data/20160805_test001_47_cc_dqdv_discharge.csv OK\n"
     ]
    }
   ],
   "source": [
    "b.load_and_save_raw()"
   ]
  },
  {
   "cell_type": "code",
   "execution_count": 16,
   "metadata": {},
   "outputs": [
    {
     "name": "stdout",
     "output_type": "stream",
     "text": [
      "(cellpy) - dumping to csv\n",
      "(cellpy) - > /Users/jepe/cellpy_data/prebens_experiment/test/summary_discharge_capacity_test.csv\n",
      "(cellpy) - > /Users/jepe/cellpy_data/prebens_experiment/test/summary_charge_capacity_test.csv\n",
      "(cellpy) - > /Users/jepe/cellpy_data/prebens_experiment/test/summary_coulombic_efficiency_test.csv\n",
      "(cellpy) - > /Users/jepe/cellpy_data/prebens_experiment/test/summary_cumulated_coulombic_efficiency_test.csv\n",
      "(cellpy) - > /Users/jepe/cellpy_data/prebens_experiment/test/summary_ir_discharge_test.csv\n",
      "(cellpy) - > /Users/jepe/cellpy_data/prebens_experiment/test/summary_ir_charge_test.csv\n",
      "(cellpy) - > /Users/jepe/cellpy_data/prebens_experiment/test/summary_end_voltage_discharge_test.csv\n",
      "(cellpy) - > /Users/jepe/cellpy_data/prebens_experiment/test/summary_end_voltage_charge_test.csv\n",
      "(cellpy) - cycles_engine:\n",
      "(cellpy) - Not ready for production\n",
      "(cellpy) - dumping to csv\n",
      "---FINISHED---\n"
     ]
    }
   ],
   "source": [
    "b.make_summaries()\n",
    "#summaries = b.experiment.memory_dumped\n",
    "\n",
    "print(\"---FINISHED---\")"
   ]
  },
  {
   "cell_type": "code",
   "execution_count": null,
   "metadata": {},
   "outputs": [],
   "source": []
  }
 ],
 "metadata": {
  "kernelspec": {
   "display_name": "Python [conda env:cellpy]",
   "language": "python",
   "name": "conda-env-cellpy-py"
  },
  "language_info": {
   "codemirror_mode": {
    "name": "ipython",
    "version": 3
   },
   "file_extension": ".py",
   "mimetype": "text/x-python",
   "name": "python",
   "nbconvert_exporter": "python",
   "pygments_lexer": "ipython3",
   "version": "3.6.5"
  }
 },
 "nbformat": 4,
 "nbformat_minor": 2
}
