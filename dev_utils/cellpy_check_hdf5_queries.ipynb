{
 "cells": [
  {
   "cell_type": "code",
   "execution_count": 1,
   "metadata": {},
   "outputs": [],
   "source": [
    "%load_ext autoreload"
   ]
  },
  {
   "cell_type": "code",
   "execution_count": 2,
   "metadata": {},
   "outputs": [],
   "source": [
    "%autoreload 2"
   ]
  },
  {
   "cell_type": "code",
   "execution_count": 3,
   "metadata": {},
   "outputs": [],
   "source": [
    "import os\n",
    "import time\n",
    "from pathlib import Path\n",
    "import numpy as np\n",
    "import matplotlib.pyplot as plt\n",
    "import pandas as pd\n",
    "import cellpy\n",
    "from cellpy import cellreader\n",
    "\n",
    "%matplotlib inline"
   ]
  },
  {
   "cell_type": "code",
   "execution_count": 4,
   "metadata": {},
   "outputs": [],
   "source": [
    "from cellpy import log\n",
    "log.setup_logging(default_level=\"INFO\", custom_log_dir=os.getcwd())"
   ]
  },
  {
   "cell_type": "code",
   "execution_count": 5,
   "metadata": {},
   "outputs": [
    {
     "name": "stdout",
     "output_type": "stream",
     "text": [
      "size: 17.35070037841797\n",
      "(cellpy) - created CellpyData instance\n",
      "Index(['cycle', 'step', 'I_avr', 'I_std', 'I_max', 'I_min', 'I_start', 'I_end',\n",
      "       'I_delta', 'I_rate', 'V_avr', 'V_std', 'V_max', 'V_min', 'V_start',\n",
      "       'V_end', 'V_delta', 'V_rate', 'Charge_avr', 'Charge_std', 'Charge_max',\n",
      "       'Charge_min', 'Charge_start', 'Charge_end', 'Charge_delta',\n",
      "       'Charge_rate', 'Discharge_avr', 'Discharge_std', 'Discharge_max',\n",
      "       'Discharge_min', 'Discharge_start', 'Discharge_end', 'Discharge_delta',\n",
      "       'Discharge_rate', 'IR', 'IR_pct_change', 'type', 'info'],\n",
      "      dtype='object')\n"
     ]
    },
    {
     "name": "stderr",
     "output_type": "stream",
     "text": [
      "/Users/jepe/scripting/cellpy/cellpy/readers/cellreader.py:793: UserWarning: OLD-TYPE: Recommend to save in new format!\n",
      "  warnings.warn(\"OLD-TYPE: Recommend to save in new format!\")\n"
     ]
    }
   ],
   "source": [
    "filename = Path(\"/Users/jepe/Arbeid/Data/celldata/20171120_nb034_11_cc.h5\")\n",
    "print(f\"size: {filename.stat().st_size/1_048_576}\")\n",
    "\n",
    "my_data = cellreader.CellpyData()\n",
    "my_data.load(filename)\n",
    "dataset = my_data.dataset\n",
    "dataset.step_table.head()\n",
    "print(dataset.step_table.columns)"
   ]
  },
  {
   "cell_type": "code",
   "execution_count": 6,
   "metadata": {},
   "outputs": [
    {
     "data": {
      "text/plain": [
       "Index(['Test_ID', 'Data_Point', 'Test_Time', 'Step_Time', 'DateTime',\n",
       "       'Step_Index', 'Cycle_Index', 'Is_FC_Data', 'Current', 'Voltage',\n",
       "       'Charge_Capacity', 'Discharge_Capacity', 'Charge_Energy',\n",
       "       'Discharge_Energy', 'dV/dt', 'Internal_Resistance', 'AC_Impedance',\n",
       "       'ACI_Phase_Angle', 'IR_pct_change'],\n",
       "      dtype='object')"
      ]
     },
     "execution_count": 6,
     "metadata": {},
     "output_type": "execute_result"
    }
   ],
   "source": [
    "dataset.dfdata.columns"
   ]
  },
  {
   "cell_type": "code",
   "execution_count": 7,
   "metadata": {},
   "outputs": [
    {
     "data": {
      "text/html": [
       "<div>\n",
       "<style scoped>\n",
       "    .dataframe tbody tr th:only-of-type {\n",
       "        vertical-align: middle;\n",
       "    }\n",
       "\n",
       "    .dataframe tbody tr th {\n",
       "        vertical-align: top;\n",
       "    }\n",
       "\n",
       "    .dataframe thead th {\n",
       "        text-align: right;\n",
       "    }\n",
       "</style>\n",
       "<table border=\"1\" class=\"dataframe\">\n",
       "  <thead>\n",
       "    <tr style=\"text-align: right;\">\n",
       "      <th></th>\n",
       "      <th>Test_ID</th>\n",
       "      <th>Data_Point</th>\n",
       "      <th>Test_Time</th>\n",
       "      <th>Step_Time</th>\n",
       "      <th>DateTime</th>\n",
       "      <th>Step_Index</th>\n",
       "      <th>Cycle_Index</th>\n",
       "      <th>Is_FC_Data</th>\n",
       "      <th>Current</th>\n",
       "      <th>Voltage</th>\n",
       "      <th>Charge_Capacity</th>\n",
       "      <th>Discharge_Capacity</th>\n",
       "      <th>Charge_Energy</th>\n",
       "      <th>Discharge_Energy</th>\n",
       "      <th>dV/dt</th>\n",
       "      <th>Internal_Resistance</th>\n",
       "      <th>AC_Impedance</th>\n",
       "      <th>ACI_Phase_Angle</th>\n",
       "      <th>IR_pct_change</th>\n",
       "    </tr>\n",
       "  </thead>\n",
       "  <tbody>\n",
       "    <tr>\n",
       "      <th>0</th>\n",
       "      <td>1</td>\n",
       "      <td>1</td>\n",
       "      <td>300.019860</td>\n",
       "      <td>299.966630</td>\n",
       "      <td>43059.534479</td>\n",
       "      <td>1</td>\n",
       "      <td>1</td>\n",
       "      <td>0</td>\n",
       "      <td>0.0</td>\n",
       "      <td>3.211527</td>\n",
       "      <td>0.0</td>\n",
       "      <td>0.0</td>\n",
       "      <td>0.0</td>\n",
       "      <td>0.0</td>\n",
       "      <td>0.000000</td>\n",
       "      <td>0.0</td>\n",
       "      <td>0.0</td>\n",
       "      <td>0.0</td>\n",
       "      <td>NaN</td>\n",
       "    </tr>\n",
       "    <tr>\n",
       "      <th>1</th>\n",
       "      <td>1</td>\n",
       "      <td>2</td>\n",
       "      <td>600.034078</td>\n",
       "      <td>599.980848</td>\n",
       "      <td>43059.537951</td>\n",
       "      <td>1</td>\n",
       "      <td>1</td>\n",
       "      <td>0</td>\n",
       "      <td>0.0</td>\n",
       "      <td>3.209682</td>\n",
       "      <td>0.0</td>\n",
       "      <td>0.0</td>\n",
       "      <td>0.0</td>\n",
       "      <td>0.0</td>\n",
       "      <td>0.000000</td>\n",
       "      <td>0.0</td>\n",
       "      <td>0.0</td>\n",
       "      <td>0.0</td>\n",
       "      <td>NaN</td>\n",
       "    </tr>\n",
       "    <tr>\n",
       "      <th>2</th>\n",
       "      <td>1</td>\n",
       "      <td>3</td>\n",
       "      <td>900.048360</td>\n",
       "      <td>899.995130</td>\n",
       "      <td>43059.541424</td>\n",
       "      <td>1</td>\n",
       "      <td>1</td>\n",
       "      <td>0</td>\n",
       "      <td>0.0</td>\n",
       "      <td>3.207529</td>\n",
       "      <td>0.0</td>\n",
       "      <td>0.0</td>\n",
       "      <td>0.0</td>\n",
       "      <td>0.0</td>\n",
       "      <td>-0.000061</td>\n",
       "      <td>0.0</td>\n",
       "      <td>0.0</td>\n",
       "      <td>0.0</td>\n",
       "      <td>NaN</td>\n",
       "    </tr>\n",
       "    <tr>\n",
       "      <th>3</th>\n",
       "      <td>1</td>\n",
       "      <td>4</td>\n",
       "      <td>1200.062845</td>\n",
       "      <td>1200.009615</td>\n",
       "      <td>43059.544896</td>\n",
       "      <td>1</td>\n",
       "      <td>1</td>\n",
       "      <td>0</td>\n",
       "      <td>0.0</td>\n",
       "      <td>3.205992</td>\n",
       "      <td>0.0</td>\n",
       "      <td>0.0</td>\n",
       "      <td>0.0</td>\n",
       "      <td>0.0</td>\n",
       "      <td>0.000061</td>\n",
       "      <td>0.0</td>\n",
       "      <td>0.0</td>\n",
       "      <td>0.0</td>\n",
       "      <td>NaN</td>\n",
       "    </tr>\n",
       "    <tr>\n",
       "      <th>4</th>\n",
       "      <td>1</td>\n",
       "      <td>5</td>\n",
       "      <td>1500.076886</td>\n",
       "      <td>1500.023655</td>\n",
       "      <td>43059.548368</td>\n",
       "      <td>1</td>\n",
       "      <td>1</td>\n",
       "      <td>0</td>\n",
       "      <td>0.0</td>\n",
       "      <td>3.204147</td>\n",
       "      <td>0.0</td>\n",
       "      <td>0.0</td>\n",
       "      <td>0.0</td>\n",
       "      <td>0.0</td>\n",
       "      <td>0.000000</td>\n",
       "      <td>0.0</td>\n",
       "      <td>0.0</td>\n",
       "      <td>0.0</td>\n",
       "      <td>NaN</td>\n",
       "    </tr>\n",
       "    <tr>\n",
       "      <th>5</th>\n",
       "      <td>1</td>\n",
       "      <td>6</td>\n",
       "      <td>1800.091137</td>\n",
       "      <td>1800.037906</td>\n",
       "      <td>43059.551840</td>\n",
       "      <td>1</td>\n",
       "      <td>1</td>\n",
       "      <td>0</td>\n",
       "      <td>0.0</td>\n",
       "      <td>3.202302</td>\n",
       "      <td>0.0</td>\n",
       "      <td>0.0</td>\n",
       "      <td>0.0</td>\n",
       "      <td>0.0</td>\n",
       "      <td>0.000000</td>\n",
       "      <td>0.0</td>\n",
       "      <td>0.0</td>\n",
       "      <td>0.0</td>\n",
       "      <td>NaN</td>\n",
       "    </tr>\n",
       "    <tr>\n",
       "      <th>6</th>\n",
       "      <td>1</td>\n",
       "      <td>7</td>\n",
       "      <td>2100.105355</td>\n",
       "      <td>2100.052125</td>\n",
       "      <td>43059.555313</td>\n",
       "      <td>1</td>\n",
       "      <td>1</td>\n",
       "      <td>0</td>\n",
       "      <td>0.0</td>\n",
       "      <td>3.200456</td>\n",
       "      <td>0.0</td>\n",
       "      <td>0.0</td>\n",
       "      <td>0.0</td>\n",
       "      <td>0.0</td>\n",
       "      <td>-0.000061</td>\n",
       "      <td>0.0</td>\n",
       "      <td>0.0</td>\n",
       "      <td>0.0</td>\n",
       "      <td>NaN</td>\n",
       "    </tr>\n",
       "    <tr>\n",
       "      <th>7</th>\n",
       "      <td>1</td>\n",
       "      <td>8</td>\n",
       "      <td>2400.135231</td>\n",
       "      <td>2400.082001</td>\n",
       "      <td>43059.558785</td>\n",
       "      <td>1</td>\n",
       "      <td>1</td>\n",
       "      <td>0</td>\n",
       "      <td>0.0</td>\n",
       "      <td>3.198919</td>\n",
       "      <td>0.0</td>\n",
       "      <td>0.0</td>\n",
       "      <td>0.0</td>\n",
       "      <td>0.0</td>\n",
       "      <td>0.000000</td>\n",
       "      <td>0.0</td>\n",
       "      <td>0.0</td>\n",
       "      <td>0.0</td>\n",
       "      <td>NaN</td>\n",
       "    </tr>\n",
       "    <tr>\n",
       "      <th>8</th>\n",
       "      <td>1</td>\n",
       "      <td>9</td>\n",
       "      <td>2700.149670</td>\n",
       "      <td>2700.096440</td>\n",
       "      <td>43059.562257</td>\n",
       "      <td>1</td>\n",
       "      <td>1</td>\n",
       "      <td>0</td>\n",
       "      <td>0.0</td>\n",
       "      <td>3.197381</td>\n",
       "      <td>0.0</td>\n",
       "      <td>0.0</td>\n",
       "      <td>0.0</td>\n",
       "      <td>0.0</td>\n",
       "      <td>0.000000</td>\n",
       "      <td>0.0</td>\n",
       "      <td>0.0</td>\n",
       "      <td>0.0</td>\n",
       "      <td>NaN</td>\n",
       "    </tr>\n",
       "    <tr>\n",
       "      <th>9</th>\n",
       "      <td>1</td>\n",
       "      <td>10</td>\n",
       "      <td>3000.163718</td>\n",
       "      <td>3000.110488</td>\n",
       "      <td>43059.565729</td>\n",
       "      <td>1</td>\n",
       "      <td>1</td>\n",
       "      <td>0</td>\n",
       "      <td>0.0</td>\n",
       "      <td>3.195536</td>\n",
       "      <td>0.0</td>\n",
       "      <td>0.0</td>\n",
       "      <td>0.0</td>\n",
       "      <td>0.0</td>\n",
       "      <td>-0.000061</td>\n",
       "      <td>0.0</td>\n",
       "      <td>0.0</td>\n",
       "      <td>0.0</td>\n",
       "      <td>NaN</td>\n",
       "    </tr>\n",
       "  </tbody>\n",
       "</table>\n",
       "</div>"
      ],
      "text/plain": [
       "   Test_ID  Data_Point    Test_Time    Step_Time      DateTime  Step_Index  \\\n",
       "0        1           1   300.019860   299.966630  43059.534479           1   \n",
       "1        1           2   600.034078   599.980848  43059.537951           1   \n",
       "2        1           3   900.048360   899.995130  43059.541424           1   \n",
       "3        1           4  1200.062845  1200.009615  43059.544896           1   \n",
       "4        1           5  1500.076886  1500.023655  43059.548368           1   \n",
       "5        1           6  1800.091137  1800.037906  43059.551840           1   \n",
       "6        1           7  2100.105355  2100.052125  43059.555313           1   \n",
       "7        1           8  2400.135231  2400.082001  43059.558785           1   \n",
       "8        1           9  2700.149670  2700.096440  43059.562257           1   \n",
       "9        1          10  3000.163718  3000.110488  43059.565729           1   \n",
       "\n",
       "   Cycle_Index  Is_FC_Data  Current   Voltage  Charge_Capacity  \\\n",
       "0            1           0      0.0  3.211527              0.0   \n",
       "1            1           0      0.0  3.209682              0.0   \n",
       "2            1           0      0.0  3.207529              0.0   \n",
       "3            1           0      0.0  3.205992              0.0   \n",
       "4            1           0      0.0  3.204147              0.0   \n",
       "5            1           0      0.0  3.202302              0.0   \n",
       "6            1           0      0.0  3.200456              0.0   \n",
       "7            1           0      0.0  3.198919              0.0   \n",
       "8            1           0      0.0  3.197381              0.0   \n",
       "9            1           0      0.0  3.195536              0.0   \n",
       "\n",
       "   Discharge_Capacity  Charge_Energy  Discharge_Energy     dV/dt  \\\n",
       "0                 0.0            0.0               0.0  0.000000   \n",
       "1                 0.0            0.0               0.0  0.000000   \n",
       "2                 0.0            0.0               0.0 -0.000061   \n",
       "3                 0.0            0.0               0.0  0.000061   \n",
       "4                 0.0            0.0               0.0  0.000000   \n",
       "5                 0.0            0.0               0.0  0.000000   \n",
       "6                 0.0            0.0               0.0 -0.000061   \n",
       "7                 0.0            0.0               0.0  0.000000   \n",
       "8                 0.0            0.0               0.0  0.000000   \n",
       "9                 0.0            0.0               0.0 -0.000061   \n",
       "\n",
       "   Internal_Resistance  AC_Impedance  ACI_Phase_Angle  IR_pct_change  \n",
       "0                  0.0           0.0              0.0            NaN  \n",
       "1                  0.0           0.0              0.0            NaN  \n",
       "2                  0.0           0.0              0.0            NaN  \n",
       "3                  0.0           0.0              0.0            NaN  \n",
       "4                  0.0           0.0              0.0            NaN  \n",
       "5                  0.0           0.0              0.0            NaN  \n",
       "6                  0.0           0.0              0.0            NaN  \n",
       "7                  0.0           0.0              0.0            NaN  \n",
       "8                  0.0           0.0              0.0            NaN  \n",
       "9                  0.0           0.0              0.0            NaN  "
      ]
     },
     "execution_count": 7,
     "metadata": {},
     "output_type": "execute_result"
    }
   ],
   "source": [
    "dataset.dfdata.head(10)"
   ]
  },
  {
   "cell_type": "markdown",
   "metadata": {},
   "source": [
    "## Some notes\n",
    "- should rename the tables consistently\n",
    "  - *e.g.* dfsummary, dfdata, dfinfo, dfsteps, dffid\n",
    "  - have to take care so that it also can read \"old\" cellpy-files\n",
    "- should make (or check if it is already made) an option for giving a \"custom\" config-file in starting the session"
   ]
  },
  {
   "cell_type": "code",
   "execution_count": 8,
   "metadata": {},
   "outputs": [],
   "source": [
    "my_data.make_step_table()"
   ]
  },
  {
   "cell_type": "code",
   "execution_count": 9,
   "metadata": {},
   "outputs": [],
   "source": [
    "filename2 = Path(\"/Users/jepe/Arbeid/Data/celldata/20171120_nb034_11_cc.nh5\")\n",
    "my_data.save(filename2)"
   ]
  },
  {
   "cell_type": "code",
   "execution_count": 10,
   "metadata": {},
   "outputs": [
    {
     "name": "stdout",
     "output_type": "stream",
     "text": [
      "size: 5.137908935546875 MB\n"
     ]
    }
   ],
   "source": [
    "print(f\"size: {filename2.stat().st_size/1_048_576} MB\")"
   ]
  },
  {
   "cell_type": "code",
   "execution_count": 11,
   "metadata": {},
   "outputs": [
    {
     "name": "stdout",
     "output_type": "stream",
     "text": [
      "(cellpy) - created CellpyData instance\n",
      "Index(['cycle', 'step', 'sub_step', 'point_avr', 'point_std', 'point_min',\n",
      "       'point_max', 'point_first', 'point_last', 'point_delta',\n",
      "       'step_time_avr', 'step_time_std', 'step_time_min', 'step_time_max',\n",
      "       'step_time_first', 'step_time_last', 'step_time_delta', 'current_avr',\n",
      "       'current_std', 'current_min', 'current_max', 'current_first',\n",
      "       'current_last', 'current_delta', 'voltage_avr', 'voltage_std',\n",
      "       'voltage_min', 'voltage_max', 'voltage_first', 'voltage_last',\n",
      "       'voltage_delta', 'charge_avr', 'charge_std', 'charge_min', 'charge_max',\n",
      "       'charge_first', 'charge_last', 'charge_delta', 'discharge_avr',\n",
      "       'discharge_std', 'discharge_min', 'discharge_max', 'discharge_first',\n",
      "       'discharge_last', 'discharge_delta', 'ir_avr', 'ir_std', 'ir_min',\n",
      "       'ir_max', 'ir_first', 'ir_last', 'ir_delta', 'type', 'sub_type',\n",
      "       'info'],\n",
      "      dtype='object')\n"
     ]
    }
   ],
   "source": [
    "my_data2 = cellreader.CellpyData()\n",
    "my_data2.load(filename2)\n",
    "dataset2 = my_data2.dataset\n",
    "print(dataset2.step_table.columns)\n",
    "del my_data2\n",
    "del dataset2"
   ]
  },
  {
   "cell_type": "code",
   "execution_count": 12,
   "metadata": {},
   "outputs": [],
   "source": [
    "# next: dont load the full hdf5-file, only get datapoints for a cycle from step_table\n",
    "# then: query the hdf5-file for the data (and time it)\n",
    "# ex: store.select('/CellpyData/dfdata', \"data_point>20130104 & data_point<20130104 & columns=['A', 'B']\")"
   ]
  },
  {
   "cell_type": "code",
   "execution_count": 13,
   "metadata": {},
   "outputs": [
    {
     "data": {
      "text/html": [
       "<div>\n",
       "<style scoped>\n",
       "    .dataframe tbody tr th:only-of-type {\n",
       "        vertical-align: middle;\n",
       "    }\n",
       "\n",
       "    .dataframe tbody tr th {\n",
       "        vertical-align: top;\n",
       "    }\n",
       "\n",
       "    .dataframe thead th {\n",
       "        text-align: right;\n",
       "    }\n",
       "</style>\n",
       "<table border=\"1\" class=\"dataframe\">\n",
       "  <thead>\n",
       "    <tr style=\"text-align: right;\">\n",
       "      <th></th>\n",
       "      <th>Test_Time</th>\n",
       "      <th>Step_Index</th>\n",
       "    </tr>\n",
       "    <tr>\n",
       "      <th>Data_Point</th>\n",
       "      <th></th>\n",
       "      <th></th>\n",
       "    </tr>\n",
       "  </thead>\n",
       "  <tbody>\n",
       "    <tr>\n",
       "      <th>22</th>\n",
       "      <td>6600.350393</td>\n",
       "      <td>1</td>\n",
       "    </tr>\n",
       "    <tr>\n",
       "      <th>23</th>\n",
       "      <td>6900.365423</td>\n",
       "      <td>1</td>\n",
       "    </tr>\n",
       "    <tr>\n",
       "      <th>24</th>\n",
       "      <td>7200.378906</td>\n",
       "      <td>1</td>\n",
       "    </tr>\n",
       "    <tr>\n",
       "      <th>25</th>\n",
       "      <td>7500.393105</td>\n",
       "      <td>1</td>\n",
       "    </tr>\n",
       "    <tr>\n",
       "      <th>26</th>\n",
       "      <td>7800.407402</td>\n",
       "      <td>1</td>\n",
       "    </tr>\n",
       "    <tr>\n",
       "      <th>27</th>\n",
       "      <td>8100.421654</td>\n",
       "      <td>1</td>\n",
       "    </tr>\n",
       "    <tr>\n",
       "      <th>28</th>\n",
       "      <td>8400.435929</td>\n",
       "      <td>1</td>\n",
       "    </tr>\n",
       "    <tr>\n",
       "      <th>29</th>\n",
       "      <td>8700.450196</td>\n",
       "      <td>1</td>\n",
       "    </tr>\n",
       "    <tr>\n",
       "      <th>30</th>\n",
       "      <td>9000.464412</td>\n",
       "      <td>1</td>\n",
       "    </tr>\n",
       "    <tr>\n",
       "      <th>31</th>\n",
       "      <td>9300.478659</td>\n",
       "      <td>1</td>\n",
       "    </tr>\n",
       "  </tbody>\n",
       "</table>\n",
       "</div>"
      ],
      "text/plain": [
       "              Test_Time  Step_Index\n",
       "Data_Point                         \n",
       "22          6600.350393           1\n",
       "23          6900.365423           1\n",
       "24          7200.378906           1\n",
       "25          7500.393105           1\n",
       "26          7800.407402           1\n",
       "27          8100.421654           1\n",
       "28          8400.435929           1\n",
       "29          8700.450196           1\n",
       "30          9000.464412           1\n",
       "31          9300.478659           1"
      ]
     },
     "execution_count": 13,
     "metadata": {},
     "output_type": "execute_result"
    }
   ],
   "source": [
    "infoname = '/CellpyData/info'\n",
    "dataname = '/CellpyData/dfdata'\n",
    "summaryname = '/CellpyData/dfsummary'\n",
    "fidname = '/CellpyData/fidtable'\n",
    "stepname = '/CellpyData/step_table'\n",
    "\n",
    "store = pd.HDFStore(filename2)\n",
    "store.select('/CellpyData/dfdata', where=\"index>21 and index<32\")\n",
    "store.select('/CellpyData/dfdata', \"index>21 & index<32 & columns=['Test_Time', 'Step_Index']\")"
   ]
  },
  {
   "cell_type": "markdown",
   "metadata": {},
   "source": [
    "## Querying cellpy file (hdf5)\n",
    "1. load steptable\n",
    "2. get the stepnumbers for given cycle\n",
    "3. create query and run it\n",
    "4. scale the charge (100_000/mass)"
   ]
  },
  {
   "cell_type": "code",
   "execution_count": 14,
   "metadata": {},
   "outputs": [],
   "source": [
    "steptable = store.select(stepname)"
   ]
  },
  {
   "cell_type": "code",
   "execution_count": 15,
   "metadata": {},
   "outputs": [],
   "source": [
    "s = my_data.get_step_numbers(\n",
    "    steptype='charge',\n",
    "    allctypes=True,\n",
    "    pdtype=True,\n",
    "    cycle_number=None,\n",
    "    steptable=steptable\n",
    ")\n",
    "cycle_mask = (s[\"cycle\"] == 2) # also possible to give cycle_number in get_step_number instead"
   ]
  },
  {
   "cell_type": "code",
   "execution_count": null,
   "metadata": {},
   "outputs": [],
   "source": [
    "s.head()"
   ]
  },
  {
   "cell_type": "code",
   "execution_count": null,
   "metadata": {},
   "outputs": [],
   "source": [
    "a = s.loc[cycle_mask, [\"point_first\", \"point_last\"]].values[0]"
   ]
  },
  {
   "cell_type": "code",
   "execution_count": null,
   "metadata": {},
   "outputs": [],
   "source": [
    "v_hdr = \"Voltage\"\n",
    "c_hdr = \"Charge_Capacity\"\n",
    "d_hdr = \"Discharge_Capacity\"\n",
    "i_hdr = \"Current\""
   ]
  },
  {
   "cell_type": "code",
   "execution_count": null,
   "metadata": {},
   "outputs": [],
   "source": [
    "q = f\"index>={ a[0] } & index<={ a[1] }\""
   ]
  },
  {
   "cell_type": "code",
   "execution_count": null,
   "metadata": {},
   "outputs": [],
   "source": [
    "q += f\"& columns = ['{c_hdr}', '{v_hdr}']\""
   ]
  },
  {
   "cell_type": "code",
   "execution_count": null,
   "metadata": {},
   "outputs": [],
   "source": [
    "mass = dataset.mass\n",
    "print(f\"mass from dataset.mass = {mass:5.4} mg\")"
   ]
  },
  {
   "cell_type": "code",
   "execution_count": null,
   "metadata": {},
   "outputs": [],
   "source": [
    "%%timeit\n",
    "my_data.get_ccap(2)"
   ]
  },
  {
   "cell_type": "code",
   "execution_count": null,
   "metadata": {},
   "outputs": [],
   "source": [
    "%%timeit\n",
    "c2 = store.select('/CellpyData/dfdata', q)\n",
    "c2[c_hdr] = c2[c_hdr] * 1000000 / mass\n"
   ]
  },
  {
   "cell_type": "code",
   "execution_count": null,
   "metadata": {},
   "outputs": [],
   "source": [
    "5.03/3.05"
   ]
  },
  {
   "cell_type": "markdown",
   "metadata": {},
   "source": [
    "### Result\n",
    "- 65% penalty for using \"hdf5\" query lookup\n",
    "- 5.03 vs 3.05 ms"
   ]
  },
  {
   "cell_type": "code",
   "execution_count": null,
   "metadata": {},
   "outputs": [],
   "source": [
    "plt.plot(c2[c_hdr], c2[v_hdr])"
   ]
  },
  {
   "cell_type": "code",
   "execution_count": null,
   "metadata": {},
   "outputs": [],
   "source": [
    "store.close()"
   ]
  },
  {
   "cell_type": "code",
   "execution_count": null,
   "metadata": {},
   "outputs": [],
   "source": []
  }
 ],
 "metadata": {
  "kernelspec": {
   "display_name": "Python3 (cellpy)",
   "language": "python",
   "name": "cellpy"
  },
  "language_info": {
   "codemirror_mode": {
    "name": "ipython",
    "version": 3
   },
   "file_extension": ".py",
   "mimetype": "text/x-python",
   "name": "python",
   "nbconvert_exporter": "python",
   "pygments_lexer": "ipython3",
   "version": "3.6.5"
  }
 },
 "nbformat": 4,
 "nbformat_minor": 2
}
