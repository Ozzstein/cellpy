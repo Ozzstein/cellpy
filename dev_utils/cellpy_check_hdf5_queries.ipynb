{
 "cells": [
  {
   "cell_type": "code",
   "execution_count": null,
   "metadata": {},
   "outputs": [],
   "source": [
    "%load_ext autoreload"
   ]
  },
  {
   "cell_type": "code",
   "execution_count": null,
   "metadata": {},
   "outputs": [],
   "source": [
    "%autoreload 2"
   ]
  },
  {
   "cell_type": "code",
   "execution_count": null,
   "metadata": {},
   "outputs": [],
   "source": [
    "import os\n",
    "import time\n",
    "from pathlib import Path\n",
    "import numpy as np\n",
    "import matplotlib.pyplot as plt\n",
    "import pandas as pd\n",
    "import cellpy\n",
    "from cellpy import cellreader\n",
    "\n",
    "%matplotlib inline"
   ]
  },
  {
   "cell_type": "code",
   "execution_count": null,
   "metadata": {},
   "outputs": [],
   "source": [
    "from cellpy import log\n",
    "log.setup_logging(default_level=\"INFO\", custom_log_dir=os.getcwd())"
   ]
  },
  {
   "cell_type": "code",
   "execution_count": null,
   "metadata": {},
   "outputs": [],
   "source": [
    "filename = Path(\"/Users/jepe/Arbeid/Data/celldata/20171120_nb034_11_cc.h5\")\n",
    "print(f\"size: {filename.stat().st_size/1_048_576}\")\n",
    "\n",
    "my_data = cellreader.CellpyData()\n",
    "my_data.load(filename)\n",
    "dataset = my_data.dataset\n",
    "dataset.step_table.head()\n",
    "print(dataset.step_table.columns)"
   ]
  },
  {
   "cell_type": "code",
   "execution_count": null,
   "metadata": {},
   "outputs": [],
   "source": [
    "dataset.dfsummary"
   ]
  },
  {
   "cell_type": "markdown",
   "metadata": {},
   "source": [
    "## Some notes\n",
    "- should rename the tables consistently\n",
    "  - *e.g.* dfsummary, dfdata, dfinfo, dfsteps, dffid\n",
    "  - have to take care so that it also can read \"old\" cellpy-files\n",
    "- should make (or check if it is already made) an option for giving a \"custom\" config-file in starting the session"
   ]
  },
  {
   "cell_type": "code",
   "execution_count": null,
   "metadata": {},
   "outputs": [],
   "source": [
    "my_data.make_step_table()"
   ]
  },
  {
   "cell_type": "code",
   "execution_count": null,
   "metadata": {},
   "outputs": [],
   "source": [
    "filename2 = Path(\"/Users/jepe/Arbeid/Data/celldata/20171120_nb034_11_cc.nh5\")\n",
    "my_data.save(filename2)"
   ]
  },
  {
   "cell_type": "code",
   "execution_count": null,
   "metadata": {},
   "outputs": [],
   "source": [
    "print(f\"size: {filename2.stat().st_size/1_048_576} MB\")"
   ]
  },
  {
   "cell_type": "code",
   "execution_count": null,
   "metadata": {},
   "outputs": [],
   "source": [
    "my_data2 = cellreader.CellpyData()\n",
    "my_data2.load(filename2)\n",
    "dataset2 = my_data2.dataset\n",
    "print(dataset2.step_table.columns)\n",
    "del my_data2\n",
    "del dataset2"
   ]
  },
  {
   "cell_type": "code",
   "execution_count": null,
   "metadata": {},
   "outputs": [],
   "source": [
    "# next: dont load the full hdf5-file, only get datapoints for a cycle from step_table\n",
    "# then: query the hdf5-file for the data (and time it)"
   ]
  }
 ],
 "metadata": {
  "kernelspec": {
   "display_name": "Python3 (cellpy)",
   "language": "python",
   "name": "cellpy"
  },
  "language_info": {
   "codemirror_mode": {
    "name": "ipython",
    "version": 3
   },
   "file_extension": ".py",
   "mimetype": "text/x-python",
   "name": "python",
   "nbconvert_exporter": "python",
   "pygments_lexer": "ipython3",
   "version": "3.6.5"
  }
 },
 "nbformat": 4,
 "nbformat_minor": 2
}
