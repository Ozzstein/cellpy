{
 "cells": [
  {
   "cell_type": "markdown",
   "metadata": {},
   "source": [
    "# Best practice for plotting batch-runs"
   ]
  },
  {
   "cell_type": "code",
   "execution_count": null,
   "metadata": {},
   "outputs": [],
   "source": [
    "%load_ext autoreload\n",
    "%autoreload 2"
   ]
  },
  {
   "cell_type": "code",
   "execution_count": null,
   "metadata": {},
   "outputs": [],
   "source": [
    "import os\n",
    "import bokeh\n",
    "import numpy as np\n",
    "import matplotlib.pyplot as plt\n",
    "import pandas as pd\n",
    "from cellpy import cellreader\n",
    "from cellpy.utils import ica\n",
    "from cellpy.exceptions import NullData\n",
    "from cellpy import log\n",
    "import holoviews as hv\n",
    "%matplotlib inline\n",
    "hv.extension('bokeh')\n",
    "log.setup_logging(default_level=\"INFO\")"
   ]
  },
  {
   "cell_type": "markdown",
   "metadata": {},
   "source": [
    "### Setting file names and loading data"
   ]
  },
  {
   "cell_type": "code",
   "execution_count": null,
   "metadata": {},
   "outputs": [],
   "source": [
    "my_data = cellreader.CellpyData()\n",
    "filename = \"../testdata/hdf5/20160805_test001_45_cc.h5\"\n",
    "assert os.path.isfile(filename)\n",
    "my_data.load(filename)\n",
    "my_data.set_mass(0.1)"
   ]
  },
  {
   "cell_type": "markdown",
   "metadata": {},
   "source": [
    "## Creating the ica data"
   ]
  },
  {
   "cell_type": "code",
   "execution_count": null,
   "metadata": {},
   "outputs": [],
   "source": [
    "df_ica_charge, df_ica_discharge = ica.dqdv_frames(my_data, split=True, tidy=False, voltage_resolution=0.01)\n",
    "tidy_ica_charge, tidy_ica_discharge = ica.dqdv_frames(my_data, split=True, tidy=True, normalize=True,\n",
    "                                                      normalizing_factor=1.0, normalizing_roof=500.0,\n",
    "                                                      voltage_resolution=0.01, post_smoothing=True)\n",
    "comb_ica = ica.dqdv_frames(my_data, split=False, tidy=False)\n",
    "tidy_comb_ica = ica.dqdv_frames(my_data, split=False, tidy=True)"
   ]
  },
  {
   "cell_type": "code",
   "execution_count": null,
   "metadata": {},
   "outputs": [],
   "source": [
    "# quick view\n",
    "tidy_comb_ica.plot(x=\"voltage\", y=\"dq\")"
   ]
  },
  {
   "cell_type": "code",
   "execution_count": null,
   "metadata": {},
   "outputs": [],
   "source": [
    "# tidy_comb_ica.groupby(\"cycle\").plot(x=\"voltage\", y=\"dq\");"
   ]
  },
  {
   "cell_type": "code",
   "execution_count": null,
   "metadata": {},
   "outputs": [],
   "source": [
    "def plot_and_combine(ica_frame, selected_cycles=None, ax=None, back_end=\"matplotlib\",\n",
    "                     palette=None, xlabel=\"voltage\", ylabel=\"dq\", **kwargs):\n",
    "    \"\"\"Plot dqdv for selected cycles and combine them into a wide dataframe.\n",
    "    \n",
    "    This function assumes a tidy ica-frame as input.\n",
    "    \"\"\"\n",
    "    selected_frames = []\n",
    "    keys = []\n",
    "    \n",
    "    if back_end == \"matplotlib\":\n",
    "        print(\"using matplotlib\")\n",
    "        if ax is None:\n",
    "            fig, ax = plt.subplots()\n",
    "    \n",
    "    if back_end == \"holoviews\":\n",
    "        curves = dict()\n",
    "    \n",
    "    if selected_cycles is not None:\n",
    "        ica_frame = ica_frame.loc[ica_frame[\"cycle\"].isin(selected_cycles)]\n",
    "        \n",
    "    for c, dd in ica_frame.groupby(\"cycle\"):\n",
    "        plot_label = f\"cycle {c:03}\"\n",
    "        frame_label = f\"cycle_{c:03}\"\n",
    "        \n",
    "        if back_end == \"matplotlib\":\n",
    "            ax.plot(dd[\"voltage\"], dd[\"dq\"], label=plot_label)\n",
    "            \n",
    "        elif back_end == \"holoviews\":\n",
    "            curve = hv.Curve(dd[[\"voltage\", \"dq\"]], vdims=[\"dq\"])\n",
    "            if palette is not None:\n",
    "                curve = curve.opts(color=palette)\n",
    "            curves[plot_label] = curve\n",
    "        \n",
    "        selected_frames.append(dd[[\"voltage\", \"dq\"]])\n",
    "        keys.append(frame_label)\n",
    "        \n",
    "    if back_end == \"matplotlib\":\n",
    "        ax.legend()\n",
    "        \n",
    "    elif back_end == \"holoviews\":\n",
    "        ax = hv.NdOverlay(curves).opts(\n",
    "            xlabel=xlabel, \n",
    "            ylabel=ylabel,\n",
    "            **kwargs,\n",
    "        )\n",
    "        \n",
    "    new_df = pd.concat(selected_frames, axis=1, keys=keys)\n",
    "    return ax, new_df"
   ]
  },
  {
   "cell_type": "code",
   "execution_count": null,
   "metadata": {},
   "outputs": [],
   "source": [
    "selected_cycles = [1, 2, 3, 10, 15, 22]\n",
    "p, new_com_ica = plot_and_combine(\n",
    "    tidy_comb_ica, selected_cycles, back_end=\"holoviews\", width=600,\n",
    "    palette=hv.Palette('Magma'),\n",
    "    xlim=(0.0, 1.0),\n",
    ")"
   ]
  },
  {
   "cell_type": "code",
   "execution_count": null,
   "metadata": {},
   "outputs": [],
   "source": [
    "p"
   ]
  },
  {
   "cell_type": "code",
   "execution_count": null,
   "metadata": {},
   "outputs": [],
   "source": [
    "new_com_ica.head()"
   ]
  },
  {
   "cell_type": "code",
   "execution_count": null,
   "metadata": {},
   "outputs": [],
   "source": [
    "selected_cycles = [1, 2, 3, 10, 15, 22]\n",
    "ax, new_com_ica = plot_and_combine(tidy_comb_ica, selected_cycles, back_end=\"matplotlib\")"
   ]
  },
  {
   "cell_type": "markdown",
   "metadata": {},
   "source": [
    "## Saving the results"
   ]
  },
  {
   "cell_type": "code",
   "execution_count": null,
   "metadata": {},
   "outputs": [],
   "source": [
    "# new_com_ica.to_csv(\"example_ica_out.csv\", sep=\";\")"
   ]
  },
  {
   "cell_type": "code",
   "execution_count": null,
   "metadata": {},
   "outputs": [],
   "source": [
    "# %%output fig='html' filename='ica_test_out'\n",
    "# p"
   ]
  },
  {
   "cell_type": "code",
   "execution_count": null,
   "metadata": {},
   "outputs": [],
   "source": []
  }
 ],
 "metadata": {
  "kernelspec": {
   "display_name": "Python3 (cellpy)",
   "language": "python",
   "name": "cellpy"
  },
  "language_info": {
   "codemirror_mode": {
    "name": "ipython",
    "version": 3
   },
   "file_extension": ".py",
   "mimetype": "text/x-python",
   "name": "python",
   "nbconvert_exporter": "python",
   "pygments_lexer": "ipython3",
   "version": "3.6.7"
  }
 },
 "nbformat": 4,
 "nbformat_minor": 2
}
