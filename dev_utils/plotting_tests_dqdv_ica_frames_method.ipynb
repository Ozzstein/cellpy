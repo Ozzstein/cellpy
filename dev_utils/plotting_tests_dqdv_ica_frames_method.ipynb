{
 "cells": [
  {
   "cell_type": "markdown",
   "metadata": {},
   "source": [
    "# Best practice for plotting batch-runs"
   ]
  },
  {
   "cell_type": "code",
   "execution_count": null,
   "metadata": {},
   "outputs": [],
   "source": [
    "%load_ext autoreload\n",
    "%autoreload 2"
   ]
  },
  {
   "cell_type": "code",
   "execution_count": null,
   "metadata": {},
   "outputs": [],
   "source": [
    "import os\n",
    "import bokeh\n",
    "import numpy as np\n",
    "import matplotlib.pyplot as plt\n",
    "import pandas as pd\n",
    "from cellpy import cellreader\n",
    "from cellpy.utils import ica\n",
    "from cellpy.exceptions import NullData\n",
    "import holoviews as hv\n",
    "import altair as alt\n",
    "%matplotlib inline"
   ]
  },
  {
   "cell_type": "markdown",
   "metadata": {},
   "source": [
    "### Setting file names and loading data"
   ]
  },
  {
   "cell_type": "code",
   "execution_count": null,
   "metadata": {},
   "outputs": [],
   "source": [
    "my_data = cellreader.CellpyData()\n",
    "filename = \"../testdata/hdf5/20160805_test001_45_cc.h5\"\n",
    "assert os.path.isfile(filename)\n",
    "my_data.load(filename)\n",
    "my_data.set_mass(0.1)"
   ]
  },
  {
   "cell_type": "markdown",
   "metadata": {},
   "source": [
    "## Creating the ica data"
   ]
  },
  {
   "cell_type": "code",
   "execution_count": null,
   "metadata": {},
   "outputs": [],
   "source": [
    "df_ica_charge, df_ica_discharge = ica._dqdv_split_frames(my_data, tidy=False)\n",
    "tidy_ica_charge, tidy_ica_discharge = ica.dqdv_frames(my_data, split=True)"
   ]
  },
  {
   "cell_type": "code",
   "execution_count": null,
   "metadata": {},
   "outputs": [],
   "source": [
    "df_ica_charge.head()"
   ]
  },
  {
   "cell_type": "code",
   "execution_count": null,
   "metadata": {},
   "outputs": [],
   "source": [
    "tidy_ica_charge.head()"
   ]
  },
  {
   "cell_type": "code",
   "execution_count": null,
   "metadata": {},
   "outputs": [],
   "source": [
    "fig, (ax1, ax2) = plt.subplots(2)\n",
    "\n",
    "df_ica_charge.plot(x=(\"voltage\", \"v\"), ax=ax1)\n",
    "df_ica_discharge.plot(x=(\"voltage\", \"v\"), ax=ax2, legend=None)\n",
    "ax1.set_ylabel(\"dq\")\n",
    "ax1.legend(loc='center left', bbox_to_anchor=(1, 0))"
   ]
  },
  {
   "cell_type": "markdown",
   "metadata": {},
   "source": [
    "### Trying Bokeh"
   ]
  },
  {
   "cell_type": "markdown",
   "metadata": {},
   "source": [
    "The main benifit with using Bokeh: interactive html"
   ]
  },
  {
   "cell_type": "code",
   "execution_count": null,
   "metadata": {},
   "outputs": [],
   "source": [
    "from bokeh.io import output_notebook\n",
    "output_notebook()"
   ]
  },
  {
   "cell_type": "code",
   "execution_count": null,
   "metadata": {},
   "outputs": [],
   "source": [
    "# trick to flatten the multiindex (not sure if HoloViews takes multiindex)\n",
    "# ica_df.columns = ['_'.join(col).strip() for col in ica_df.columns.values]"
   ]
  },
  {
   "cell_type": "code",
   "execution_count": null,
   "metadata": {},
   "outputs": [],
   "source": [
    "from bokeh.models import ColumnDataSource, DataRange1d, Plot, LinearAxis, Grid\n",
    "from bokeh.plotting import figure, show\n",
    "from bokeh.palettes import Spectral11, Paired, Viridis256\n",
    "from bokeh.models.glyphs import MultiLine, Line\n",
    "from bokeh.io import show\n",
    "import itertools\n",
    "from bokeh.transform import linear_cmap"
   ]
  },
  {
   "cell_type": "code",
   "execution_count": null,
   "metadata": {},
   "outputs": [],
   "source": [
    "# source = ColumnDataSource(ica_df) # bokeh automatically flattens multiindexed columns using \"_\".join(k) (i.e. must be str)\n",
    "# source.data"
   ]
  },
  {
   "cell_type": "code",
   "execution_count": null,
   "metadata": {},
   "outputs": [],
   "source": [
    "source = ColumnDataSource(tidy_ica_charge)"
   ]
  },
  {
   "cell_type": "code",
   "execution_count": null,
   "metadata": {},
   "outputs": [],
   "source": [
    "xrange = DataRange1d()\n",
    "yrange = DataRange1d()\n",
    "plot = figure(x_range=xrange, y_range=yrange, plot_width=800, plot_height=300)\n",
    "plot.line(source=source, x=\"voltage\", y=\"dq\", legend=\"cycle\") #, line_color=linear_cmap('cycle', \"Viridis256\", 0, 255))\n",
    "show(plot)\n",
    "# How can I set a color palette? mappers?"
   ]
  },
  {
   "cell_type": "markdown",
   "metadata": {},
   "source": [
    "### Plotting with HoloViews"
   ]
  },
  {
   "cell_type": "code",
   "execution_count": null,
   "metadata": {},
   "outputs": [],
   "source": [
    "hv.extension('bokeh')"
   ]
  },
  {
   "cell_type": "code",
   "execution_count": null,
   "metadata": {},
   "outputs": [],
   "source": [
    "curve1 = hv.Curve(tidy_ica_charge, kdims=['voltage', \"dq\"], vdims=['cycle'], label=\"charge\")\n",
    "curve2 = hv.Curve(tidy_ica_discharge, kdims=[\"voltage\", \"dq\"], vdims=\"cycle\", label=\"discharge\")"
   ]
  },
  {
   "cell_type": "code",
   "execution_count": null,
   "metadata": {},
   "outputs": [],
   "source": []
  },
  {
   "cell_type": "code",
   "execution_count": null,
   "metadata": {},
   "outputs": [],
   "source": [
    "(curve1 * curve2).opts(\n",
    "    width=800, height=900, legend_position='bottom_right', xlim=(0.05, 1.0),\n",
    ")"
   ]
  },
  {
   "cell_type": "code",
   "execution_count": null,
   "metadata": {},
   "outputs": [],
   "source": [
    "%%opts Curve () NdOverlay [legend_position='right']\n",
    "curve3 = (hv.Curve(tidy_ica_charge, kdims=['voltage'], vdims=['dq', 'cycle'], label=\"Charge\")\n",
    "          .groupby(\"cycle\")\n",
    "          .opts(\n",
    "              style={\"Curve\": dict(color=hv.Cycle(\"RdBu\"))}\n",
    "          )\n",
    "          .overlay()\n",
    "          .opts(\n",
    "              width=800,\n",
    "          )\n",
    "         )\n",
    "curve3"
   ]
  },
  {
   "cell_type": "code",
   "execution_count": null,
   "metadata": {},
   "outputs": [],
   "source": []
  },
  {
   "cell_type": "code",
   "execution_count": null,
   "metadata": {},
   "outputs": [],
   "source": []
  },
  {
   "cell_type": "code",
   "execution_count": null,
   "metadata": {},
   "outputs": [],
   "source": [
    "s = ica.dqdv_frames(my_data)"
   ]
  },
  {
   "cell_type": "code",
   "execution_count": null,
   "metadata": {},
   "outputs": [],
   "source": [
    "s"
   ]
  },
  {
   "cell_type": "code",
   "execution_count": null,
   "metadata": {},
   "outputs": [],
   "source": [
    "type(s)"
   ]
  },
  {
   "cell_type": "code",
   "execution_count": null,
   "metadata": {},
   "outputs": [],
   "source": [
    "plt.plot(s.voltage, s.dq)"
   ]
  },
  {
   "cell_type": "code",
   "execution_count": null,
   "metadata": {},
   "outputs": [],
   "source": []
  }
 ],
 "metadata": {
  "kernelspec": {
   "display_name": "Python3 (cellpy)",
   "language": "python",
   "name": "cellpy"
  },
  "language_info": {
   "codemirror_mode": {
    "name": "ipython",
    "version": 3
   },
   "file_extension": ".py",
   "mimetype": "text/x-python",
   "name": "python",
   "nbconvert_exporter": "python",
   "pygments_lexer": "ipython3",
   "version": "3.6.7"
  }
 },
 "nbformat": 4,
 "nbformat_minor": 2
}
