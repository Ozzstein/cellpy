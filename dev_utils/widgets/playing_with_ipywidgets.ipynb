{
 "cells": [
  {
   "cell_type": "code",
   "execution_count": 14,
   "metadata": {},
   "outputs": [],
   "source": [
    "import ipywidgets as widgets\n",
    "from IPython.display import display"
   ]
  },
  {
   "cell_type": "code",
   "execution_count": 24,
   "metadata": {},
   "outputs": [
    {
     "data": {
      "application/vnd.jupyter.widget-view+json": {
       "model_id": "23618f8b08934f629746db6aa1d0b736",
       "version_major": 2,
       "version_minor": 0
      },
      "text/plain": [
       "VBox(children=(FloatSlider(value=4.0, description='$x$'), FloatText(value=16.0, description='$x^2$', disabled=…"
      ]
     },
     "metadata": {},
     "output_type": "display_data"
    }
   ],
   "source": [
    "slider = widgets.FloatSlider(description='$x$', value=4)\n",
    "text = widgets.FloatText(\n",
    "    disabled=True, \n",
    "    value = slider.value ** 2,\n",
    "    description='$x^2$'\n",
    ")\n",
    "\n",
    "def compute(*args):\n",
    "    text.value = str(slider.value ** 2)\n",
    "    \n",
    "slider.observe(compute, 'value')\n",
    "\n",
    "view = widgets.VBox([slider, text])\n",
    "display(view)"
   ]
  },
  {
   "cell_type": "code",
   "execution_count": 29,
   "metadata": {},
   "outputs": [
    {
     "data": {
      "application/vnd.jupyter.widget-view+json": {
       "model_id": "9254f21740cd447f8a53e5366d278e76",
       "version_major": 2,
       "version_minor": 0
      },
      "text/plain": [
       "FloatText(value=0.0)"
      ]
     },
     "metadata": {},
     "output_type": "display_data"
    },
    {
     "data": {
      "application/vnd.jupyter.widget-view+json": {
       "model_id": "b775cd0f7da0473bbe2e7b35eb37c481",
       "version_major": 2,
       "version_minor": 0
      },
      "text/plain": [
       "FloatSlider(value=0.0)"
      ]
     },
     "metadata": {},
     "output_type": "display_data"
    }
   ],
   "source": [
    "a = widgets.FloatText()\n",
    "b = widgets.FloatSlider()\n",
    "\n",
    "display(a,b)\n",
    "mylink = widgets.jslink((a, 'value'), (b, 'value'))"
   ]
  },
  {
   "cell_type": "code",
   "execution_count": 30,
   "metadata": {},
   "outputs": [],
   "source": [
    "# mylink.unlink()"
   ]
  },
  {
   "cell_type": "code",
   "execution_count": null,
   "metadata": {},
   "outputs": [],
   "source": []
  },
  {
   "cell_type": "code",
   "execution_count": 39,
   "metadata": {},
   "outputs": [
    {
     "data": {
      "application/vnd.jupyter.widget-view+json": {
       "model_id": "0a8a8594b9bc408d86754eb70785a4c8",
       "version_major": 2,
       "version_minor": 0
      },
      "text/plain": [
       "HBox(children=(FloatSlider(value=47.2, continuous_update=False, description='Age of Paps:', orientation='verti…"
      ]
     },
     "metadata": {},
     "output_type": "display_data"
    }
   ],
   "source": [
    "fwidg_paps = widgets.FloatSlider(\n",
    "    value=47.2,\n",
    "    min=0,\n",
    "    max=100.0,\n",
    "    step=0.1,\n",
    "    description='Age of Paps:',\n",
    "    disabled=False,\n",
    "    continuous_update=False,\n",
    "    orientation='vertical',\n",
    "    readout=True,\n",
    "    readout_format='.1f',\n",
    ")\n",
    "\n",
    "fwidg_mams = widgets.FloatSlider(\n",
    "    value=fwidg_paps.value - 4,\n",
    "    min=0,\n",
    "    max=100.0,\n",
    "    step=0.1,\n",
    "    description='Age of Mams:',\n",
    "    disabled=False,\n",
    "    continuous_update=True,\n",
    "    orientation='vertical',\n",
    "    readout=True,\n",
    "    readout_format='.1f',\n",
    ")\n",
    "\n",
    "display(widgets.HBox([fwidg_paps, fwidg_mams]))\n",
    "\n",
    "def update_paps(*args):\n",
    "    fwidg_paps.value = fwidg_mams.value + 4\n",
    "    \n",
    "def update_mams(*args):\n",
    "    fwidg_mams.value = fwidg_paps.value - 4\n",
    "    \n",
    "fwidg_mams.observe(update_paps, 'value')\n",
    "fwidg_paps.observe(update_mams, 'value')\n",
    "\n",
    "# observe(func, attribute_name) means: \n",
    "# If I change, please run the function if the attrubute with\n",
    "#     name attribute_name is changed."
   ]
  },
  {
   "cell_type": "code",
   "execution_count": null,
   "metadata": {},
   "outputs": [],
   "source": []
  },
  {
   "cell_type": "code",
   "execution_count": null,
   "metadata": {},
   "outputs": [],
   "source": []
  },
  {
   "cell_type": "code",
   "execution_count": 40,
   "metadata": {},
   "outputs": [
    {
     "data": {
      "application/vnd.jupyter.widget-view+json": {
       "model_id": "fa60d53b3b414b75aa09504ff28edc42",
       "version_major": 2,
       "version_minor": 0
      },
      "text/plain": [
       "FloatProgress(value=7.5, bar_style='info', description='Loading:', max=10.0)"
      ]
     },
     "metadata": {},
     "output_type": "display_data"
    }
   ],
   "source": [
    "\n",
    "widgets.FloatProgress(\n",
    "    value=7.5,\n",
    "    min=0,\n",
    "    max=10.0,\n",
    "    step=0.1,\n",
    "    description='Loading:',\n",
    "    bar_style='info',\n",
    "    orientation='horizontal',\n",
    "\n",
    ")"
   ]
  },
  {
   "cell_type": "code",
   "execution_count": 61,
   "metadata": {},
   "outputs": [
    {
     "data": {
      "application/vnd.jupyter.widget-view+json": {
       "model_id": "91f8cd51ecb3443b963d82a92b2b5a99",
       "version_major": 2,
       "version_minor": 0
      },
      "text/plain": [
       "VBox(children=(VBox(children=(Label(value='Cycle selector'), Text(value=''))), VBox(children=(Label(value='Sel…"
      ]
     },
     "metadata": {},
     "output_type": "display_data"
    }
   ],
   "source": [
    "txt = widgets.Text()\n",
    "options=list(range(8))\n",
    "main_title = widgets.Label(\"Cycle selector\")\n",
    "description = widgets.Label(\"Select one\")\n",
    "sel = widgets.Select(\n",
    "    options=options,\n",
    "    value=options[0],\n",
    "    rows=10,\n",
    "    #description='Select one:',\n",
    "    disabled=False,\n",
    "    layout=widgets.Layout(width='5%', height='120px'),\n",
    ")\n",
    "def set_txt(*args):\n",
    "    txt.value = str(sel.value)\n",
    "    \n",
    "sel.observe(set_txt, 'value')\n",
    "\n",
    "row1 = widgets.VBox([main_title, txt])\n",
    "row2 = widgets.VBox([description, sel])\n",
    "display(widgets.VBox([row1, row2]))"
   ]
  },
  {
   "cell_type": "code",
   "execution_count": 153,
   "metadata": {},
   "outputs": [
    {
     "data": {
      "application/vnd.jupyter.widget-view+json": {
       "model_id": "fc10712950a24d13a6ed10c2457a5527",
       "version_major": 2,
       "version_minor": 0
      },
      "text/plain": [
       "VBox(children=(Text(value='(23, 24)'), SelectMultiple(index=(0,), layout=Layout(height='120px', width='3.2em')…"
      ]
     },
     "metadata": {},
     "output_type": "display_data"
    }
   ],
   "source": [
    "sel.keystxt = widgets.Text()\n",
    "options=list(range(100))\n",
    "sel = widgets.SelectMultiple(\n",
    "    options=options,\n",
    "    value=[options[0]],\n",
    "    rows=10,\n",
    "    #description='Select one:',\n",
    "    disabled=False,\n",
    "    layout=widgets.Layout(width='3.2em', height='120px'),\n",
    ")\n",
    "def set_txt(*args):\n",
    "    txt.value = str(sel.value)\n",
    "    \n",
    "sel.observe(set_txt, 'value')\n",
    "\n",
    "display(widgets.VBox([txt, sel]))"
   ]
  },
  {
   "cell_type": "code",
   "execution_count": 142,
   "metadata": {},
   "outputs": [
    {
     "data": {
      "application/vnd.jupyter.widget-view+json": {
       "model_id": "8fef6299361143fd90b1713da85ac340",
       "version_major": 2,
       "version_minor": 0
      },
      "text/plain": [
       "FileUpload(value={}, accept='.csv', description='Upload')"
      ]
     },
     "metadata": {},
     "output_type": "display_data"
    }
   ],
   "source": [
    "s = widgets.FileUpload(\n",
    "    accept='.csv',  # Accepted file extension e.g. '.txt', '.pdf', 'image/*', 'image/*,.pdf'\n",
    "    multiple=False  # True to accept multiple files upload else False\n",
    "    \n",
    ")\n",
    "display(s)"
   ]
  },
  {
   "cell_type": "code",
   "execution_count": 144,
   "metadata": {},
   "outputs": [
    {
     "data": {
      "application/vnd.jupyter.widget-view+json": {
       "model_id": "0370e06254374c9c906fdd63415ba3ef",
       "version_major": 2,
       "version_minor": 0
      },
      "text/plain": [
       "VBox(children=(Label(value='got: summary_coulombic_efficiency_cen_callotrope.csv'), Textarea(value='Cycle_Inde…"
      ]
     },
     "metadata": {},
     "output_type": "display_data"
    }
   ],
   "source": [
    "if s.value:\n",
    "    files = next(iter(s.value.values()))\n",
    "    meta = files['metadata']\n",
    "    name = meta['name']\n",
    "    label = widgets.Label(f'got: {name}')\n",
    "    txtarea = widgets.Textarea(\n",
    "        s.data[0], \n",
    "        layout=widgets.Layout(width='50%', height='130px')\n",
    "    )\n",
    "    display(widgets.VBox([label, txtarea]))"
   ]
  },
  {
   "cell_type": "code",
   "execution_count": 145,
   "metadata": {},
   "outputs": [
    {
     "data": {
      "text/html": [
       "<div>\n",
       "<style scoped>\n",
       "    .dataframe tbody tr th:only-of-type {\n",
       "        vertical-align: middle;\n",
       "    }\n",
       "\n",
       "    .dataframe tbody tr th {\n",
       "        vertical-align: top;\n",
       "    }\n",
       "\n",
       "    .dataframe thead th {\n",
       "        text-align: right;\n",
       "    }\n",
       "</style>\n",
       "<table border=\"1\" class=\"dataframe\">\n",
       "  <thead>\n",
       "    <tr style=\"text-align: right;\">\n",
       "      <th></th>\n",
       "      <th>Cycle_Index</th>\n",
       "      <th>20190307_cen59_01_cc</th>\n",
       "      <th>20190307_cen59_02_cc</th>\n",
       "      <th>20190307_cen59_03_cc</th>\n",
       "      <th>20190307_cen60_01_cc</th>\n",
       "      <th>20190307_cen60_02_cc</th>\n",
       "      <th>20190307_cen60_03_cc</th>\n",
       "      <th>20190307_cen61_01_cc</th>\n",
       "      <th>20190307_cen61_02_cc</th>\n",
       "      <th>20190307_cen61_03_cc</th>\n",
       "    </tr>\n",
       "  </thead>\n",
       "  <tbody>\n",
       "    <tr>\n",
       "      <th>0</th>\n",
       "      <td>1</td>\n",
       "      <td>92.692272</td>\n",
       "      <td>91.225709</td>\n",
       "      <td>87.058191</td>\n",
       "      <td>91.408342</td>\n",
       "      <td>92.058573</td>\n",
       "      <td>93.047787</td>\n",
       "      <td>90.308939</td>\n",
       "      <td>89.268292</td>\n",
       "      <td>90.673911</td>\n",
       "    </tr>\n",
       "    <tr>\n",
       "      <th>1</th>\n",
       "      <td>2</td>\n",
       "      <td>103.527788</td>\n",
       "      <td>102.038379</td>\n",
       "      <td>101.846216</td>\n",
       "      <td>102.770068</td>\n",
       "      <td>103.659191</td>\n",
       "      <td>104.396200</td>\n",
       "      <td>102.370355</td>\n",
       "      <td>101.894704</td>\n",
       "      <td>102.640573</td>\n",
       "    </tr>\n",
       "    <tr>\n",
       "      <th>2</th>\n",
       "      <td>3</td>\n",
       "      <td>108.812101</td>\n",
       "      <td>106.363622</td>\n",
       "      <td>110.553560</td>\n",
       "      <td>103.838742</td>\n",
       "      <td>104.607972</td>\n",
       "      <td>105.599333</td>\n",
       "      <td>107.791729</td>\n",
       "      <td>108.782718</td>\n",
       "      <td>108.443435</td>\n",
       "    </tr>\n",
       "    <tr>\n",
       "      <th>3</th>\n",
       "      <td>4</td>\n",
       "      <td>105.033018</td>\n",
       "      <td>103.280665</td>\n",
       "      <td>103.478325</td>\n",
       "      <td>103.232302</td>\n",
       "      <td>104.009075</td>\n",
       "      <td>104.859834</td>\n",
       "      <td>103.591630</td>\n",
       "      <td>103.455271</td>\n",
       "      <td>103.935779</td>\n",
       "    </tr>\n",
       "    <tr>\n",
       "      <th>4</th>\n",
       "      <td>5</td>\n",
       "      <td>105.192483</td>\n",
       "      <td>103.359597</td>\n",
       "      <td>103.606055</td>\n",
       "      <td>103.248869</td>\n",
       "      <td>104.042621</td>\n",
       "      <td>104.898123</td>\n",
       "      <td>103.905324</td>\n",
       "      <td>103.879119</td>\n",
       "      <td>104.344876</td>\n",
       "    </tr>\n",
       "  </tbody>\n",
       "</table>\n",
       "</div>"
      ],
      "text/plain": [
       "   Cycle_Index  20190307_cen59_01_cc  20190307_cen59_02_cc  \\\n",
       "0            1             92.692272             91.225709   \n",
       "1            2            103.527788            102.038379   \n",
       "2            3            108.812101            106.363622   \n",
       "3            4            105.033018            103.280665   \n",
       "4            5            105.192483            103.359597   \n",
       "\n",
       "   20190307_cen59_03_cc  20190307_cen60_01_cc  20190307_cen60_02_cc  \\\n",
       "0             87.058191             91.408342             92.058573   \n",
       "1            101.846216            102.770068            103.659191   \n",
       "2            110.553560            103.838742            104.607972   \n",
       "3            103.478325            103.232302            104.009075   \n",
       "4            103.606055            103.248869            104.042621   \n",
       "\n",
       "   20190307_cen60_03_cc  20190307_cen61_01_cc  20190307_cen61_02_cc  \\\n",
       "0             93.047787             90.308939             89.268292   \n",
       "1            104.396200            102.370355            101.894704   \n",
       "2            105.599333            107.791729            108.782718   \n",
       "3            104.859834            103.591630            103.455271   \n",
       "4            104.898123            103.905324            103.879119   \n",
       "\n",
       "   20190307_cen61_03_cc  \n",
       "0             90.673911  \n",
       "1            102.640573  \n",
       "2            108.443435  \n",
       "3            103.935779  \n",
       "4            104.344876  "
      ]
     },
     "execution_count": 145,
     "metadata": {},
     "output_type": "execute_result"
    }
   ],
   "source": [
    "from io import StringIO\n",
    "import pandas as pd\n",
    "raw = StringIO(str(s.data[0], 'utf-8'))\n",
    "df = pd.read_csv(raw, sep=\";\")\n",
    "df.head()"
   ]
  },
  {
   "cell_type": "code",
   "execution_count": 134,
   "metadata": {},
   "outputs": [
    {
     "data": {
      "text/html": [
       "<div>\n",
       "<style scoped>\n",
       "    .dataframe tbody tr th:only-of-type {\n",
       "        vertical-align: middle;\n",
       "    }\n",
       "\n",
       "    .dataframe tbody tr th {\n",
       "        vertical-align: top;\n",
       "    }\n",
       "\n",
       "    .dataframe thead th {\n",
       "        text-align: right;\n",
       "    }\n",
       "</style>\n",
       "<table border=\"1\" class=\"dataframe\">\n",
       "  <thead>\n",
       "    <tr style=\"text-align: right;\">\n",
       "      <th></th>\n",
       "      <th>Cycle_Index</th>\n",
       "      <th>20190307_cen59_01_cc</th>\n",
       "      <th>20190307_cen59_02_cc</th>\n",
       "      <th>20190307_cen59_03_cc</th>\n",
       "      <th>20190307_cen60_01_cc</th>\n",
       "      <th>20190307_cen60_02_cc</th>\n",
       "      <th>20190307_cen60_03_cc</th>\n",
       "      <th>20190307_cen61_01_cc</th>\n",
       "      <th>20190307_cen61_02_cc</th>\n",
       "      <th>20190307_cen61_03_cc</th>\n",
       "    </tr>\n",
       "  </thead>\n",
       "  <tbody>\n",
       "    <tr>\n",
       "      <th>0</th>\n",
       "      <td>1</td>\n",
       "      <td>3542.323055</td>\n",
       "      <td>3592.048455</td>\n",
       "      <td>2827.804960</td>\n",
       "      <td>3320.407138</td>\n",
       "      <td>3151.307578</td>\n",
       "      <td>3240.350791</td>\n",
       "      <td>2922.213096</td>\n",
       "      <td>3182.732673</td>\n",
       "      <td>3174.190775</td>\n",
       "    </tr>\n",
       "    <tr>\n",
       "      <th>1</th>\n",
       "      <td>2</td>\n",
       "      <td>3728.403405</td>\n",
       "      <td>3783.751893</td>\n",
       "      <td>3050.102894</td>\n",
       "      <td>3573.908992</td>\n",
       "      <td>3400.916253</td>\n",
       "      <td>3491.578014</td>\n",
       "      <td>3093.680598</td>\n",
       "      <td>3349.573489</td>\n",
       "      <td>3339.684495</td>\n",
       "    </tr>\n",
       "    <tr>\n",
       "      <th>2</th>\n",
       "      <td>3</td>\n",
       "      <td>3890.343419</td>\n",
       "      <td>3937.067904</td>\n",
       "      <td>2995.741812</td>\n",
       "      <td>3597.679984</td>\n",
       "      <td>3432.671232</td>\n",
       "      <td>3529.664239</td>\n",
       "      <td>3204.120217</td>\n",
       "      <td>3487.308803</td>\n",
       "      <td>3458.164385</td>\n",
       "    </tr>\n",
       "    <tr>\n",
       "      <th>3</th>\n",
       "      <td>4</td>\n",
       "      <td>3817.403467</td>\n",
       "      <td>3862.006613</td>\n",
       "      <td>2978.551944</td>\n",
       "      <td>3584.899664</td>\n",
       "      <td>3418.584952</td>\n",
       "      <td>3509.286888</td>\n",
       "      <td>3153.179088</td>\n",
       "      <td>3429.465295</td>\n",
       "      <td>3408.118229</td>\n",
       "    </tr>\n",
       "    <tr>\n",
       "      <th>4</th>\n",
       "      <td>5</td>\n",
       "      <td>3780.591476</td>\n",
       "      <td>3832.244641</td>\n",
       "      <td>2964.157660</td>\n",
       "      <td>3564.580268</td>\n",
       "      <td>3388.502849</td>\n",
       "      <td>3468.402169</td>\n",
       "      <td>3117.828385</td>\n",
       "      <td>3390.873883</td>\n",
       "      <td>3366.402616</td>\n",
       "    </tr>\n",
       "  </tbody>\n",
       "</table>\n",
       "</div>"
      ],
      "text/plain": [
       "   Cycle_Index  20190307_cen59_01_cc  20190307_cen59_02_cc  \\\n",
       "0            1           3542.323055           3592.048455   \n",
       "1            2           3728.403405           3783.751893   \n",
       "2            3           3890.343419           3937.067904   \n",
       "3            4           3817.403467           3862.006613   \n",
       "4            5           3780.591476           3832.244641   \n",
       "\n",
       "   20190307_cen59_03_cc  20190307_cen60_01_cc  20190307_cen60_02_cc  \\\n",
       "0           2827.804960           3320.407138           3151.307578   \n",
       "1           3050.102894           3573.908992           3400.916253   \n",
       "2           2995.741812           3597.679984           3432.671232   \n",
       "3           2978.551944           3584.899664           3418.584952   \n",
       "4           2964.157660           3564.580268           3388.502849   \n",
       "\n",
       "   20190307_cen60_03_cc  20190307_cen61_01_cc  20190307_cen61_02_cc  \\\n",
       "0           3240.350791           2922.213096           3182.732673   \n",
       "1           3491.578014           3093.680598           3349.573489   \n",
       "2           3529.664239           3204.120217           3487.308803   \n",
       "3           3509.286888           3153.179088           3429.465295   \n",
       "4           3468.402169           3117.828385           3390.873883   \n",
       "\n",
       "   20190307_cen61_03_cc  \n",
       "0           3174.190775  \n",
       "1           3339.684495  \n",
       "2           3458.164385  \n",
       "3           3408.118229  \n",
       "4           3366.402616  "
      ]
     },
     "execution_count": 134,
     "metadata": {},
     "output_type": "execute_result"
    }
   ],
   "source": []
  },
  {
   "cell_type": "code",
   "execution_count": 161,
   "metadata": {},
   "outputs": [
    {
     "data": {
      "application/vnd.jupyter.widget-view+json": {
       "model_id": "d4fd8e99f7794ed2958330f4e421d4d5",
       "version_major": 2,
       "version_minor": 0
      },
      "text/plain": [
       "HTML(value='<h1>Markdown</h1>')"
      ]
     },
     "metadata": {},
     "output_type": "display_data"
    }
   ],
   "source": [
    "import markdown \n",
    "\n",
    "html = markdown.markdown(\"\"\"# Markdown\"\"\")\n",
    "widgets.HTML(\n",
    "    html,\n",
    ")"
   ]
  },
  {
   "cell_type": "code",
   "execution_count": null,
   "metadata": {},
   "outputs": [],
   "source": []
  },
  {
   "cell_type": "code",
   "execution_count": 163,
   "metadata": {},
   "outputs": [
    {
     "data": {
      "application/vnd.jupyter.widget-view+json": {
       "model_id": "1f91443945ee42988159872f19d239a1",
       "version_major": 2,
       "version_minor": 0
      },
      "text/plain": [
       "Label(value='The values of slider1 and slider2 are synchronized')"
      ]
     },
     "metadata": {},
     "output_type": "display_data"
    },
    {
     "data": {
      "application/vnd.jupyter.widget-view+json": {
       "model_id": "9d834acdf5e845de9c91a009b345857b",
       "version_major": 2,
       "version_minor": 0
      },
      "text/plain": [
       "IntSlider(value=0, description='Slider 1')"
      ]
     },
     "metadata": {},
     "output_type": "display_data"
    },
    {
     "data": {
      "application/vnd.jupyter.widget-view+json": {
       "model_id": "f44c2fe909ea4ab7bc037f30261c46d9",
       "version_major": 2,
       "version_minor": 0
      },
      "text/plain": [
       "IntSlider(value=0, description='Slider 2')"
      ]
     },
     "metadata": {},
     "output_type": "display_data"
    }
   ],
   "source": [
    "caption = widgets.Label(value='The values of slider1 and slider2 are synchronized')\n",
    "sliders1, slider2 = widgets.IntSlider(description='Slider 1'),\\\n",
    "                    widgets.IntSlider(description='Slider 2')\n",
    "l = widgets.link((sliders1, 'value'), (slider2, 'value'))\n",
    "display(caption, sliders1, slider2)"
   ]
  },
  {
   "cell_type": "markdown",
   "metadata": {},
   "source": [
    "## Threading"
   ]
  },
  {
   "cell_type": "code",
   "execution_count": 165,
   "metadata": {},
   "outputs": [
    {
     "data": {
      "application/vnd.jupyter.widget-view+json": {
       "model_id": "deedfc17dee347908020e4c246b01740",
       "version_major": 2,
       "version_minor": 0
      },
      "text/plain": [
       "FloatProgress(value=0.0, max=1.0)"
      ]
     },
     "metadata": {},
     "output_type": "display_data"
    }
   ],
   "source": [
    "import threading\n",
    "from IPython.display import display\n",
    "import ipywidgets as widgets\n",
    "import time\n",
    "progress = widgets.FloatProgress(value=0.0, min=0.0, max=1.0)\n",
    "\n",
    "def work(progress):\n",
    "    total = 100\n",
    "    for i in range(total):\n",
    "        time.sleep(0.2)\n",
    "        progress.value = float(i+1)/total\n",
    "\n",
    "thread = threading.Thread(target=work, args=(progress,))\n",
    "display(progress)\n",
    "thread.start()"
   ]
  },
  {
   "cell_type": "code",
   "execution_count": 167,
   "metadata": {},
   "outputs": [],
   "source": [
    "import numpy as np"
   ]
  },
  {
   "cell_type": "code",
   "execution_count": 166,
   "metadata": {},
   "outputs": [],
   "source": [
    "from lmfit.models import LorentzianModel"
   ]
  },
  {
   "cell_type": "code",
   "execution_count": 184,
   "metadata": {},
   "outputs": [],
   "source": [
    "from scipy.stats import cauchy\n",
    "import matplotlib.pyplot as plt"
   ]
  },
  {
   "cell_type": "code",
   "execution_count": 185,
   "metadata": {},
   "outputs": [],
   "source": [
    "%matplotlib inline"
   ]
  },
  {
   "cell_type": "code",
   "execution_count": 183,
   "metadata": {},
   "outputs": [],
   "source": [
    "center = 10\n",
    "x = np.linspace(0.0, 2*center, 100)\n",
    "err = (np.random.random(len(x))-0.5) / 30\n",
    "y = cauchy.pdf(x-center) + err"
   ]
  },
  {
   "cell_type": "code",
   "execution_count": 201,
   "metadata": {},
   "outputs": [],
   "source": []
  },
  {
   "cell_type": "code",
   "execution_count": 202,
   "metadata": {},
   "outputs": [],
   "source": []
  },
  {
   "cell_type": "code",
   "execution_count": 203,
   "metadata": {},
   "outputs": [
    {
     "data": {
      "text/plain": [
       "[<matplotlib.lines.Line2D at 0x1a24137250>]"
      ]
     },
     "execution_count": 203,
     "metadata": {},
     "output_type": "execute_result"
    },
    {
     "data": {
      "image/png": "[encoded data removed]",
      "text/plain": [
       "<Figure size 432x288 with 1 Axes>"
      ]
     },
     "metadata": {
      "needs_background": "light"
     },
     "output_type": "display_data"
    }
   ],
   "source": [
    "plt.plot(x,y)"
   ]
  },
  {
   "cell_type": "code",
   "execution_count": null,
   "metadata": {},
   "outputs": [],
   "source": []
  }
 ],
 "metadata": {
  "kernelspec": {
   "display_name": "cellpy",
   "language": "python",
   "name": "cellpy"
  },
  "language_info": {
   "codemirror_mode": {
    "name": "ipython",
    "version": 3
   },
   "file_extension": ".py",
   "mimetype": "text/x-python",
   "name": "python",
   "nbconvert_exporter": "python",
   "pygments_lexer": "ipython3",
   "version": "3.7.4"
  }
 },
 "nbformat": 4,
 "nbformat_minor": 4
}
