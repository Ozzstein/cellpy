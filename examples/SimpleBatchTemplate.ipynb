{
 "cells": [
  {
   "cell_type": "markdown",
   "metadata": {},
   "source": [
    "# Process cell testing data\n",
    "*Version / date: 01.08.2018*\n",
    "\n",
    "*By: Jan Petter Mæhlen*"
   ]
  },
  {
   "cell_type": "markdown",
   "metadata": {},
   "source": [
    "## Short description of the notebook\n",
    "This notebook is intended for people / students that only need to look at a limited set of cell cycling tests and don´t need to use the full power of ``cellpy`` ([look at the Read the Docs page for more info](https://cellpy.readthedocs.io/en/latest/)). The basic steps consists of:\n",
    "1. Save the raw-data files for the set of tests that you would like to examine in a folder (`raw_data_folder`).\n",
    "2. Fill in the necessery data in the information dictionary (`info_dict`)\n",
    "    1. where you have your raw data\n",
    "    2. where you would like to put the processed data and figures\n",
    "    3. information about the tests, such as what group they belong to (e.g. the duplicate cells could belong to the same group), and the masses of the electrodes.\n",
    "3. Perform the loading and the extraction of the cycling data.\n",
    "4. You can then treat the data further utilising for example the [Pandas](https://pandas.pydata.org/) library or make interactive plots using [Bokeh](https://bokeh.pydata.org/en/latest/)."
   ]
  },
  {
   "cell_type": "markdown",
   "metadata": {},
   "source": [
    "**Remark!** The current version of the notebook utilises functions and modules that will very soon become deprecated (when the new batch-method is ready for production)."
   ]
  },
  {
   "cell_type": "markdown",
   "metadata": {},
   "source": [
    "## Preparing"
   ]
  },
  {
   "cell_type": "markdown",
   "metadata": {},
   "source": [
    "### Importing the needed Python modules"
   ]
  },
  {
   "cell_type": "code",
   "execution_count": null,
   "metadata": {},
   "outputs": [],
   "source": [
    "import os\n",
    "import logging\n",
    "\n",
    "import pandas as pd\n",
    "\n",
    "from cellpy import prms\n",
    "from cellpy import log\n",
    "from cellpy.utils import batch\n",
    "import cellpy.utils.plotutils as plot_utils"
   ]
  },
  {
   "cell_type": "code",
   "execution_count": null,
   "metadata": {},
   "outputs": [],
   "source": [
    "%load_ext autoreload\n",
    "%autoreload 2\n",
    "log.setup_logging(default_level=\"INFO\")"
   ]
  },
  {
   "cell_type": "markdown",
   "metadata": {},
   "source": [
    "### Information about files and folders"
   ]
  },
  {
   "cell_type": "code",
   "execution_count": null,
   "metadata": {},
   "outputs": [],
   "source": [
    "# Provide the name of the folder where your raw-data are located (all the files needs to be in the same folder)\n",
    "# Hint! If you are working on an windows computer where the back-slash is used for\n",
    "# dividing folders, you can use raw string format (i.e. r\"C:\\some\\folder\").\n",
    "\n",
    "raw_data_folder = \"/Users/jepe/scripting/cellpy/testdata/data\"\n",
    "\n",
    "# Provider the name of the folder where you would like to store your processed data and figures.\n",
    "\n",
    "output_folder = \"/Users/jepe/scripting/tmp\""
   ]
  },
  {
   "cell_type": "code",
   "execution_count": null,
   "metadata": {},
   "outputs": [],
   "source": [
    "assert os.path.isdir(raw_data_folder)\n",
    "assert os.path.isdir(output_folder)\n",
    "print(\"Congratulations, both folders exists\", end=\" \")\n",
    "prms.Paths.outdatadir = output_folder\n",
    "prms.Paths.rawdatadir = raw_data_folder\n",
    "print(\"- giving this info to cellpy.\")"
   ]
  },
  {
   "cell_type": "code",
   "execution_count": null,
   "metadata": {},
   "outputs": [],
   "source": []
  },
  {
   "cell_type": "code",
   "execution_count": null,
   "metadata": {},
   "outputs": [],
   "source": [
    "# Provide a list-of-lists of your raw-files (where tests that consists of more than one file are \n",
    "# bundled inside another list)\n",
    "\n",
    "raw_files = [\n",
    "    [\"20160805_test001_45_cc_01.res\", \"20160805_test001_45_cc_02.res\"],\n",
    "    [\"20160805_test001_46_cc_01.res\"],\n",
    "    [\"20160805_test001_47_cc_01.res\"],\n",
    "]"
   ]
  },
  {
   "cell_type": "code",
   "execution_count": null,
   "metadata": {},
   "outputs": [],
   "source": [
    "# Also provide a name for the set of tests / batch (e.g. \"experiment_001\")\n",
    "# and what project it belongs to (e.g. \"H2020_binders\")\n",
    "\n",
    "batch_name = \"try01\"       # The name will be used for naming sub-folders\n",
    "project_name = \"tmp_proj\"  # The project name will be used for making (or selecting) the main out-put folder"
   ]
  },
  {
   "cell_type": "code",
   "execution_count": null,
   "metadata": {},
   "outputs": [],
   "source": [
    "json_file, (project_folder, batch_folder, output_raw_folder) = batch.create_folder_structure(project_name, batch_name)"
   ]
  },
  {
   "cell_type": "code",
   "execution_count": null,
   "metadata": {},
   "outputs": [],
   "source": [
    "print(f\"project_folder:        {project_folder}\\n\"\n",
    "      f\"batch_folder:          {batch_folder}\\n\"\n",
    "      f\"output_raw_folder:     {output_raw_folder}\\n\"\n",
    "      f\"suggested json name:   {json_file}\\n\"\n",
    ")"
   ]
  },
  {
   "cell_type": "markdown",
   "metadata": {},
   "source": [
    "### Information about the cells"
   ]
  },
  {
   "cell_type": "code",
   "execution_count": null,
   "metadata": {},
   "outputs": [],
   "source": [
    "masses = [\n",
    "    0.12,\n",
    "    0.33,\n",
    "    0.27,\n",
    "]\n",
    "\n",
    "groups = [\n",
    "    1,\n",
    "    1,\n",
    "    2,\n",
    "]\n",
    "\n",
    "\n",
    "cycle_mode = \"anode\""
   ]
  },
  {
   "cell_type": "markdown",
   "metadata": {},
   "source": [
    "### Running loading and saving routines"
   ]
  },
  {
   "cell_type": "code",
   "execution_count": null,
   "metadata": {},
   "outputs": [],
   "source": [
    "prms.Reader.cycle_mode = cycle_mode\n",
    "\n",
    "raw_file_paths = list()\n",
    "_cell_names = list()\n",
    "_empty = list()\n",
    "_true = list()\n",
    "_cell_types = list()\n",
    "\n",
    "for duplicates in raw_files:\n",
    "    raw_file_paths.append([os.path.join(raw_data_folder, f) for f in duplicates])\n",
    "    _cell_names.append(duplicates[0].split(\".\")[0])\n",
    "    _empty.append(None)\n",
    "    _true.append(True)\n",
    "    _cell_types.append(cycle_mode)\n",
    "\n",
    "cell_names = _cell_names\n",
    "    \n",
    "info_dict = dict()\n",
    "info_dict[\"filenames\"] = cell_names\n",
    "info_dict[\"masses\"] = masses\n",
    "info_dict[\"total_masses\"] = _empty\n",
    "info_dict[\"loadings\"] = _empty\n",
    "info_dict[\"fixed\"] = _true\n",
    "info_dict[\"labels\"] = _empty\n",
    "info_dict[\"cell_type\"] = _cell_types\n",
    "info_dict[\"raw_file_names\"] = raw_file_paths\n",
    "info_dict[\"cellpy_file_names\"] = _empty\n",
    "info_dict[\"groups\"] = groups\n",
    "\n",
    "info_df = pd.DataFrame(info_dict)\n",
    "info_df = info_df.sort_values([\"groups\", \"filenames\"])\n",
    "info_df = batch._make_unique_groups(info_df)\n",
    "info_df[\"labels\"] = info_df[\"filenames\"].apply(batch.create_labels)\n",
    "info_df.set_index(\"filenames\", inplace=True)"
   ]
  },
  {
   "cell_type": "code",
   "execution_count": null,
   "metadata": {},
   "outputs": [],
   "source": [
    "info_df.head()"
   ]
  },
  {
   "cell_type": "code",
   "execution_count": null,
   "metadata": {},
   "outputs": [],
   "source": [
    "frames, keys, errors = batch.read_and_save_data(info_df, output_raw_folder,\n",
    "                                               force_raw=True,\n",
    "                                               force_cellpy=False,\n",
    "                                               export_cycles=True,\n",
    "                                               export_ica=True,\n",
    "                                               use_cellpy_stat_file=False,\n",
    "                                               save=False)"
   ]
  },
  {
   "cell_type": "code",
   "execution_count": null,
   "metadata": {},
   "outputs": [],
   "source": [
    "if len(errors):\n",
    "    print(errors)"
   ]
  },
  {
   "cell_type": "code",
   "execution_count": null,
   "metadata": {},
   "outputs": [],
   "source": [
    "# b.make_summaries()\n",
    "selected_summaries = [\n",
    "    \"discharge_capacity\", \"charge_capacity\",\n",
    "    \"coulombic_efficiency\",\n",
    "    \"cumulated_coulombic_efficiency\",\n",
    "    \"ir_discharge\", \"ir_charge\",\n",
    "    \"end_voltage_discharge\",\n",
    "    \"end_voltage_charge\",\n",
    "]\n",
    "\n",
    "summary = batch.save_summaries(frames, keys, selected_summaries, batch_folder, batch_name)"
   ]
  },
  {
   "cell_type": "code",
   "execution_count": null,
   "metadata": {},
   "outputs": [],
   "source": [
    "symbol_label = prms.Batch.symbol_label\n",
    "color_style_label = prms.Batch.color_style_label\n",
    "figure_type = prms.Batch.figure_type\n",
    "\n",
    "color_list, symbol_list = plot_utils.create_colormarkerlist_for_info_df(info_df, symbol_label=symbol_label, \n",
    "                                                                        color_style_label=color_style_label)\n",
    "\n",
    "fig, ax = batch.plot_summary_figure(info_df, summary, color_list, symbol_list, selected_summaries, batch_folder,\n",
    "                                    batch_name, show=True, save=False, figure_type=figure_type)"
   ]
  },
  {
   "cell_type": "markdown",
   "metadata": {},
   "source": [
    "## Going further with your data"
   ]
  },
  {
   "cell_type": "code",
   "execution_count": null,
   "metadata": {},
   "outputs": [],
   "source": [
    "summary45 = summary['20160805_test001_45_cc_01']\n",
    "summary45.plot(y=[\"IR_Charge(Ohms)\", \"IR_Discharge(Ohms)\"])"
   ]
  },
  {
   "cell_type": "code",
   "execution_count": null,
   "metadata": {},
   "outputs": [],
   "source": []
  }
 ],
 "metadata": {
  "kernelspec": {
   "display_name": "Python3 (cellpy)",
   "language": "python",
   "name": "cellpy"
  },
  "language_info": {
   "codemirror_mode": {
    "name": "ipython",
    "version": 3
   },
   "file_extension": ".py",
   "mimetype": "text/x-python",
   "name": "python",
   "nbconvert_exporter": "python",
   "pygments_lexer": "ipython3",
   "version": "3.6.5"
  }
 },
 "nbformat": 4,
 "nbformat_minor": 2
}
