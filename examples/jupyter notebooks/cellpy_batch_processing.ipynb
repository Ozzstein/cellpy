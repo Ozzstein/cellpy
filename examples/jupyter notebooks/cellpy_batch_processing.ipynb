{
 "cells": [
  {
   "cell_type": "markdown",
   "metadata": {},
   "source": [
    "# Notebook for Cellpy batch processing"
   ]
  },
  {
   "cell_type": "code",
   "execution_count": null,
   "metadata": {},
   "outputs": [],
   "source": [
    "%load_ext autoreload\n",
    "%autoreload 2"
   ]
  },
  {
   "cell_type": "code",
   "execution_count": null,
   "metadata": {},
   "outputs": [],
   "source": [
    "import cellpy\n",
    "from cellpy import prms\n",
    "from cellpy import prmreader\n",
    "from cellpy.utils import batch\n",
    "import matplotlib.pyplot as plt\n",
    "%matplotlib inline"
   ]
  },
  {
   "cell_type": "code",
   "execution_count": null,
   "metadata": {},
   "outputs": [],
   "source": [
    "# prmreader.info()"
   ]
  },
  {
   "cell_type": "code",
   "execution_count": null,
   "metadata": {},
   "outputs": [],
   "source": [
    "project = \"my_project\"\n",
    "name = \"experiment_one\"\n",
    "batch_col = \"b01\"\n",
    "\n",
    "print(\" INITIALISATION OF BATCH \".center(80, \"=\"))\n",
    "b = batch.init(name, project, batch_col=batch_col)"
   ]
  },
  {
   "cell_type": "code",
   "execution_count": null,
   "metadata": {},
   "outputs": [],
   "source": [
    "# setting some prms\n",
    "b.experiment.force_cellpy = True\n",
    "b.experiment.export_raw = True\n",
    "b.experiment.export_cycles = True\n",
    "b.experiment.export_ica = True\n",
    "b.experiment.all_in_memory = True  # store all data in memory, defaults to False"
   ]
  },
  {
   "cell_type": "code",
   "execution_count": null,
   "metadata": {},
   "outputs": [],
   "source": [
    "b.create_info_df()"
   ]
  },
  {
   "cell_type": "code",
   "execution_count": null,
   "metadata": {},
   "outputs": [],
   "source": [
    "b.experiment.journal.pages.head()"
   ]
  },
  {
   "cell_type": "code",
   "execution_count": null,
   "metadata": {},
   "outputs": [],
   "source": [
    "b.create_folder_structure()"
   ]
  },
  {
   "cell_type": "code",
   "execution_count": null,
   "metadata": {},
   "outputs": [],
   "source": [
    "b.load_and_save_raw()"
   ]
  },
  {
   "cell_type": "code",
   "execution_count": null,
   "metadata": {},
   "outputs": [],
   "source": [
    "b.make_summaries()\n",
    "print(\"---FINISHED---\")"
   ]
  },
  {
   "cell_type": "code",
   "execution_count": null,
   "metadata": {},
   "outputs": [],
   "source": [
    "b.plot_summaries()"
   ]
  },
  {
   "cell_type": "code",
   "execution_count": null,
   "metadata": {},
   "outputs": [],
   "source": [
    "#b.experiment.status()"
   ]
  },
  {
   "cell_type": "code",
   "execution_count": null,
   "metadata": {},
   "outputs": [],
   "source": [
    "b.summaries.head()"
   ]
  },
  {
   "cell_type": "markdown",
   "metadata": {},
   "source": [
    "## Looking more in-depth"
   ]
  },
  {
   "cell_type": "markdown",
   "metadata": {},
   "source": [
    "### OCV relaxation points\n",
    "Picking out 5 points on each OCV relaxation curve (distributed by last, last/2, last/2/2, ..., first)."
   ]
  },
  {
   "cell_type": "code",
   "execution_count": null,
   "metadata": {},
   "outputs": [],
   "source": [
    "from cellpy.utils.batch_tools.batch_analyzers import OCVRelaxationAnalyzer\n",
    "\n",
    "analyzer = OCVRelaxationAnalyzer()\n",
    "analyzer.assign(b.experiment)\n",
    "analyzer.do()\n",
    "ocv_df_list = analyzer.farms[0]\n",
    "df = ocv_df_list[0]\n",
    "df_up = df.loc[df.type == \"ocvrlx_up\", :]\n",
    "df_down = df.loc[df.type == \"ocvrlx_down\", :]\n",
    "\n",
    "print(df_up.head())\n",
    "df_down = df_down.set_index(\"cycle\")\n",
    "\n",
    "fig, (ax1, ax2) = plt.subplots(2, sharex=True)\n",
    "df_down.loc[:, [\"point_00\", \"point_01\", \"point_02\", \"point_03\", \"point_04\"]].plot(ax=ax1, legend=None)\n",
    "df_down.loc[:, [\"point_00\", \"point_01\", \"point_02\", \"point_03\", \"point_04\"]].plot(ax=ax2)\n",
    "ax1.set_ylim(0.0,1)\n",
    "ax2.set_ylabel(\"voltage\");"
   ]
  },
  {
   "cell_type": "markdown",
   "metadata": {},
   "source": [
    "## Looking closer at some summary-plots"
   ]
  },
  {
   "cell_type": "code",
   "execution_count": null,
   "metadata": {},
   "outputs": [],
   "source": [
    "# List all the possible summaries that exists\n",
    "# Remark! its possible to set options so that more summaries are made (as long as they exist\n",
    "#   in the CellpyData.dataset.dfsummary frame(s))\n",
    "b.summary_columns"
   ]
  },
  {
   "cell_type": "code",
   "execution_count": null,
   "metadata": {},
   "outputs": [],
   "source": [
    "discharge_capacity = b.summaries.discharge_capacity\n",
    "charge_capacity = b.summaries.charge_capacity\n",
    "coulombic_efficiency = b.summaries.coulombic_efficiency\n",
    "ir_charge = b.summaries.ir_charge"
   ]
  },
  {
   "cell_type": "code",
   "execution_count": null,
   "metadata": {},
   "outputs": [],
   "source": [
    "fig, (ax1, ax2) = plt.subplots(2, 1)\n",
    "ax1.plot(discharge_capacity)\n",
    "ax1.set_ylabel(\"capacity \")\n",
    "ax2.plot(ir_charge)\n",
    "ax2.set_xlabel(\"cycle\")\n",
    "ax2.set_ylabel(\"resistance\")"
   ]
  },
  {
   "cell_type": "markdown",
   "metadata": {},
   "source": [
    "## Checking for more details for each cycle"
   ]
  },
  {
   "cell_type": "markdown",
   "metadata": {},
   "source": [
    "#### 1. pick the CellpyData object for one of the cells"
   ]
  },
  {
   "cell_type": "code",
   "execution_count": null,
   "metadata": {},
   "outputs": [],
   "source": [
    "# Lets check what cells we have\n",
    "cell_labels = b.experiment.cell_names\n",
    "cell_labels"
   ]
  },
  {
   "cell_type": "code",
   "execution_count": null,
   "metadata": {},
   "outputs": [],
   "source": [
    "# OK, then I choose one of them\n",
    "data = b.experiment.data[\"20181026_cen30_02_cc\"]"
   ]
  },
  {
   "cell_type": "markdown",
   "metadata": {},
   "source": [
    "#### 2. Get some voltage curves for some cycles and plot them\n",
    "The method `get_cap` can be used to extract voltage curves."
   ]
  },
  {
   "cell_type": "code",
   "execution_count": null,
   "metadata": {},
   "outputs": [],
   "source": [
    "cap = data.get_cap(categorical_column=True)\n",
    "cap.head()"
   ]
  },
  {
   "cell_type": "code",
   "execution_count": null,
   "metadata": {},
   "outputs": [],
   "source": [
    "fig, ax = plt.subplots()\n",
    "ax.plot(cap.capacity, cap.voltage)\n",
    "ax.set_xlabel(\"capacity\")\n",
    "ax.set_ylabel(\"voltage\")"
   ]
  },
  {
   "cell_type": "code",
   "execution_count": null,
   "metadata": {},
   "outputs": [],
   "source": [
    "c,v = data.get_cap(method=\"forth\")\n",
    "fig, ax = plt.subplots()\n",
    "ax.set_xlabel(\"capacity\")\n",
    "ax.set_ylabel(\"voltage\")\n",
    "ax.plot(c,v)"
   ]
  },
  {
   "cell_type": "code",
   "execution_count": null,
   "metadata": {},
   "outputs": [],
   "source": [
    "c4,v4 = data.get_cap(cycle=4, method=\"forth-and-forth\")\n",
    "c10,v10 = data.get_cap(cycle=10, method=\"forth-and-forth\")\n",
    "fig, ax = plt.subplots()\n",
    "ax.set_xlabel(\"capacity\")\n",
    "ax.set_ylabel(\"voltage\")\n",
    "ax.plot(c4,v4, \"ro\", label=\"cycle 4\")\n",
    "ax.plot(c10,v10, \"bs\", label=\"cycle 22\")\n",
    "ax.legend();"
   ]
  },
  {
   "cell_type": "markdown",
   "metadata": {},
   "source": [
    "### Looking at some dqdv data"
   ]
  },
  {
   "cell_type": "markdown",
   "metadata": {},
   "source": [
    "#### Get capacity cycles and make dqdv using the ica module"
   ]
  },
  {
   "cell_type": "code",
   "execution_count": null,
   "metadata": {},
   "outputs": [],
   "source": [
    "from cellpy.utils import ica\n",
    "v4, dqdv4 = ica.dqdv_cycle(\n",
    "    data.get_cap(\n",
    "        4, \n",
    "        categorical_column=True, \n",
    "        method = \"forth-and-forth\")\n",
    ")\n",
    "\n",
    "v10, dqdv10 = ica.dqdv_cycle(\n",
    "    data.get_cap(\n",
    "        10, \n",
    "        categorical_column=True, \n",
    "        method = \"forth-and-forth\")\n",
    ")\n",
    "\n",
    "plt.plot(v4,dqdv4, label=\"cycle 4\")\n",
    "plt.plot(v10, dqdv10, label=\"cycle 10\")\n",
    "plt.legend();"
   ]
  },
  {
   "cell_type": "markdown",
   "metadata": {},
   "source": [
    "#### Put it in a for-loop for plotting many ica plots"
   ]
  },
  {
   "cell_type": "code",
   "execution_count": null,
   "metadata": {},
   "outputs": [],
   "source": [
    "fig, ax = plt.subplots()\n",
    "for cycle in data.get_cycle_numbers():\n",
    "    d = data.get_cap(\n",
    "            cycle, \n",
    "            categorical_column=True, \n",
    "            method = \"forth-and-forth\"\n",
    "        )\n",
    "    if not d.empty:\n",
    "        v, dqdv = ica.dqdv_cycle(d)\n",
    "        ax.plot(v, dqdv)\n",
    "    else:\n",
    "        print(f\"cycle {cycle} seems to be missing or corrupted\")\n",
    "    "
   ]
  },
  {
   "cell_type": "code",
   "execution_count": null,
   "metadata": {},
   "outputs": [],
   "source": []
  }
 ],
 "metadata": {
  "kernelspec": {
   "display_name": "cellpy",
   "language": "python",
   "name": "cellpy"
  },
  "language_info": {
   "codemirror_mode": {
    "name": "ipython",
    "version": 3
   },
   "file_extension": ".py",
   "mimetype": "text/x-python",
   "name": "python",
   "nbconvert_exporter": "python",
   "pygments_lexer": "ipython3",
   "version": "3.6.6"
  }
 },
 "nbformat": 4,
 "nbformat_minor": 2
}
